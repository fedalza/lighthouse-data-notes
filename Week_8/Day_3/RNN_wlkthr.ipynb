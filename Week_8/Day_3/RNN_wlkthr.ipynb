{
 "cells": [
  {
   "cell_type": "markdown",
   "metadata": {},
   "source": [
    "\n",
    "    Choose a language model that will best represent the input text.\n",
    "    Clean and prepare the data for training.\n",
    "    Build a basic Keras sequential neural network model.\n",
    "    Apply recurrent neural network (RNN) to process character sequences.\n",
    "    Generate 3 channel RGB color outputs.\n"
   ]
  },
  {
   "cell_type": "code",
   "execution_count": 1,
   "metadata": {},
   "outputs": [],
   "source": [
    "import tensorflow as tf\n",
    "from tensorflow.python import keras\n",
    "from tensorflow.python.keras import preprocessing\n",
    "from tensorflow.python.keras.preprocessing.text import Tokenizer\n",
    "from tensorflow.python.keras.models import Sequential\n",
    "from tensorflow.python.keras.layers import Dense, Dropout, LSTM, Reshape\n",
    "\n",
    "import numpy as np\n",
    "import pandas as pd"
   ]
  },
  {
   "cell_type": "code",
   "execution_count": 3,
   "metadata": {},
   "outputs": [
    {
     "data": {
      "text/html": [
       "<div>\n",
       "<style scoped>\n",
       "    .dataframe tbody tr th:only-of-type {\n",
       "        vertical-align: middle;\n",
       "    }\n",
       "\n",
       "    .dataframe tbody tr th {\n",
       "        vertical-align: top;\n",
       "    }\n",
       "\n",
       "    .dataframe thead th {\n",
       "        text-align: right;\n",
       "    }\n",
       "</style>\n",
       "<table border=\"1\" class=\"dataframe\">\n",
       "  <thead>\n",
       "    <tr style=\"text-align: right;\">\n",
       "      <th></th>\n",
       "      <th>name</th>\n",
       "      <th>red</th>\n",
       "      <th>green</th>\n",
       "      <th>blue</th>\n",
       "    </tr>\n",
       "  </thead>\n",
       "  <tbody>\n",
       "    <tr>\n",
       "      <th>0</th>\n",
       "      <td>18th Century Green</td>\n",
       "      <td>165</td>\n",
       "      <td>147</td>\n",
       "      <td>68</td>\n",
       "    </tr>\n",
       "    <tr>\n",
       "      <th>1</th>\n",
       "      <td>1975 Earth Red</td>\n",
       "      <td>123</td>\n",
       "      <td>70</td>\n",
       "      <td>59</td>\n",
       "    </tr>\n",
       "    <tr>\n",
       "      <th>2</th>\n",
       "      <td>1989 Miami Hotline</td>\n",
       "      <td>221</td>\n",
       "      <td>51</td>\n",
       "      <td>102</td>\n",
       "    </tr>\n",
       "    <tr>\n",
       "      <th>3</th>\n",
       "      <td>20000 Leagues Under the Sea</td>\n",
       "      <td>25</td>\n",
       "      <td>25</td>\n",
       "      <td>112</td>\n",
       "    </tr>\n",
       "    <tr>\n",
       "      <th>4</th>\n",
       "      <td>3AM in Shibuya</td>\n",
       "      <td>34</td>\n",
       "      <td>85</td>\n",
       "      <td>119</td>\n",
       "    </tr>\n",
       "  </tbody>\n",
       "</table>\n",
       "</div>"
      ],
      "text/plain": [
       "                          name  red  green  blue\n",
       "0           18th Century Green  165    147    68\n",
       "1               1975 Earth Red  123     70    59\n",
       "2           1989 Miami Hotline  221     51   102\n",
       "3  20000 Leagues Under the Sea   25     25   112\n",
       "4               3AM in Shibuya   34     85   119"
      ]
     },
     "execution_count": 3,
     "metadata": {},
     "output_type": "execute_result"
    }
   ],
   "source": [
    "data = pd.read_csv('colors.csv')\n",
    "names = data['name']\n",
    "data.head()"
   ]
  },
  {
   "cell_type": "code",
   "execution_count": 5,
   "metadata": {},
   "outputs": [
    {
     "data": {
      "image/png": "[encoded data removed]",
      "text/plain": [
       "<Figure size 432x288 with 1 Axes>"
      ]
     },
     "metadata": {
      "needs_background": "light"
     },
     "output_type": "display_data"
    }
   ],
   "source": [
    "h = sorted(names.str.len().values)\n",
    "\n",
    "import scipy.stats as stats\n",
    "import pylab as plt\n",
    "\n",
    "fit = stats.norm.pdf(h,np.mean(h),np.std(h))\n",
    "plt.plot(h,fit,'-o')\n",
    "plt.hist(h,density=True)\n",
    "plt.xlabel('Chars')\n",
    "plt.ylabel('Probability density')\n",
    "plt.show()"
   ]
  },
  {
   "cell_type": "markdown",
   "metadata": {},
   "source": [
    "That gives us this plot, and you can clearly see that the majority of the color name strings have lengths less or equal to 25, even though the max length goes up to 30.\n",
    "\n",
    "We could, in our case, pick the max length of 30, but the model we’re going to build would also need to be trained on longer sequences for an extended time. Our trade-off to pick shorter sequence length reduces the model training complexity while not compromising the integrity of the training data.\n",
    "\n",
    "With the decision of max length being made, the next step in the character-level data pre-processing is to transform each color name string to a list of 25 integer values, and this is made easy with the Keras text tokenization utility."
   ]
  },
  {
   "cell_type": "code",
   "execution_count": 6,
   "metadata": {},
   "outputs": [
    {
     "name": "stdout",
     "output_type": "stream",
     "text": [
      "(18606, 25)\n"
     ]
    }
   ],
   "source": [
    "maxlen = 25\n",
    "t = Tokenizer(char_level=True)\n",
    "t.fit_on_texts(names)\n",
    "tokenized = t.texts_to_sequences(names)\n",
    "padded_names = preprocessing.sequence.pad_sequences(tokenized,maxlen=maxlen)\n",
    "print(padded_names.shape)"
   ]
  },
  {
   "cell_type": "markdown",
   "metadata": {},
   "source": [
    "Right now, padded_names will have the shape of (18606, 25), with 18,606 is the number of total training samples and 25 being the max sequence length. If a string has less than 25 characters, it will be padded with the value 0 from the beginning of the sequence."
   ]
  },
  {
   "cell_type": "code",
   "execution_count": 7,
   "metadata": {},
   "outputs": [
    {
     "name": "stdout",
     "output_type": "stream",
     "text": [
      "{'e': 1, 'a': 2, ' ': 3, 'r': 4, 'i': 5, 'l': 6, 'n': 7, 'o': 8, 's': 9, 't': 10, 'c': 11, 'u': 12, 'd': 13, 'g': 14, 'p': 15, 'h': 16, 'b': 17, 'm': 18, 'y': 19, 'w': 20, 'k': 21, 'f': 22, 'v': 23, 'z': 24, 'j': 25, 'q': 26, 'x': 27, \"'\": 28, '-': 29, 'ō': 30, 'è': 31, 'é': 32, 'ā': 33, 'á': 34, 'ó': 35, 'ū': 36, '0': 37, '8': 38, '.': 39, 'ē': 40, 'ī': 41, 'ǎ': 42, '!': 43, 'í': 44, '&': 45, 'ǜ': 46, '9': 47, '2': 48, 'à': 49, 'ǐ': 50, '’': 51, '6': 52, 'ú': 53, '1': 54, '3': 55, 'â': 56, '4': 57, 'ǔ': 58, 'ì': 59, '7': 60, '5': 61, 'ê': 62, 'ö': 63, 'ł': 64, 'š': 65, 'ü': 66, '₂': 67, 'ò': 68, 'ñ': 69, 'ě': 70, 'ń': 71, 'ä': 72, 'œ': 73, 'ß': 74, '%': 75, 'ı': 76, 'ż': 77, '/': 78, 'î': 79, 'ë': 80, '(': 81, ')': 82, 'å': 83, '$': 84, 'я': 85, 'ő': 86, 'ğ': 87, 'ç': 88, 'ù': 89}\n"
     ]
    }
   ],
   "source": [
    "print(t.word_index)"
   ]
  },
  {
   "cell_type": "code",
   "execution_count": 9,
   "metadata": {},
   "outputs": [],
   "source": [
    "from tensorflow.python.keras.utils import np_utils\n",
    "\n",
    "one_hot_names = np_utils.to_categorical(padded_names)"
   ]
  },
  {
   "cell_type": "markdown",
   "metadata": {},
   "source": [
    "## Data normalization"
   ]
  },
  {
   "cell_type": "code",
   "execution_count": 10,
   "metadata": {},
   "outputs": [],
   "source": [
    "# The RGB values are between 0-255\n",
    "# scale to 0-1\n",
    "\n",
    "def norm(value):\n",
    "    return value/255.0\n",
    "\n",
    "normalized_values = np.column_stack([norm(data['red']),norm(data['green']),norm(data['blue'])])"
   ]
  },
  {
   "cell_type": "markdown",
   "metadata": {},
   "source": [
    "## Building the model"
   ]
  },
  {
   "cell_type": "markdown",
   "metadata": {},
   "source": [
    "To build our model we’re going to use two types of neural networks: a feed-forward neural network and a recurrent neural network. The feed-forward neural network is by far the most common type of neural network. In this neural network, the information comes into the input units and flows in one direction through hidden layers until each reaches the output units.\n",
    "\n",
    "In recurrent neural networks, information can flow around in cycles. These networks can remember information for a long time. Recurrent networks are a very natural way to model sequential data. In our specific model, we’re using one of the most powerful recurrent networks named long short term memory (LSTM).\n",
    "\n",
    "The easiest way to build a deep learning model in Keras is to use its sequential API, and we simply connect each of the neural network layers by calling its model.add() function like connecting LEGO bricks."
   ]
  },
  {
   "cell_type": "code",
   "execution_count": 13,
   "metadata": {},
   "outputs": [],
   "source": [
    "model = Sequential()\n",
    "model.add(LSTM(256, return_sequences=True, input_shape=(maxlen,90)))\n",
    "model.add(LSTM(128))\n",
    "model.add(Dense(128, activation='relu'))\n",
    "model.add(Dense(3, activation='sigmoid'))\n",
    "model.compile(optimizer='adam', loss='mse', metrics=['acc'])"
   ]
  },
  {
   "cell_type": "code",
   "execution_count": 14,
   "metadata": {},
   "outputs": [
    {
     "name": "stdout",
     "output_type": "stream",
     "text": [
      "Epoch 1/40\n",
      "466/466 [==============================] - 35s 74ms/step - loss: 0.0685 - acc: 0.5816 - val_loss: 0.0638 - val_acc: 0.5306\n",
      "Epoch 2/40\n",
      "466/466 [==============================] - 34s 72ms/step - loss: 0.0638 - acc: 0.6219 - val_loss: 0.0644 - val_acc: 0.5981\n",
      "Epoch 3/40\n",
      "466/466 [==============================] - 33s 71ms/step - loss: 0.0610 - acc: 0.6303 - val_loss: 0.0601 - val_acc: 0.6048\n",
      "Epoch 4/40\n",
      "466/466 [==============================] - 33s 72ms/step - loss: 0.0584 - acc: 0.6341 - val_loss: 0.0584 - val_acc: 0.5774\n",
      "Epoch 5/40\n",
      "466/466 [==============================] - 33s 72ms/step - loss: 0.0558 - acc: 0.6444 - val_loss: 0.0577 - val_acc: 0.6214\n",
      "Epoch 6/40\n",
      "466/466 [==============================] - 33s 72ms/step - loss: 0.0537 - acc: 0.6404 - val_loss: 0.0559 - val_acc: 0.6214\n",
      "Epoch 7/40\n",
      "466/466 [==============================] - 33s 71ms/step - loss: 0.0516 - acc: 0.6426 - val_loss: 0.0570 - val_acc: 0.6255\n",
      "Epoch 8/40\n",
      "466/466 [==============================] - 33s 71ms/step - loss: 0.0494 - acc: 0.6479 - val_loss: 0.0557 - val_acc: 0.6088\n",
      "Epoch 9/40\n",
      "466/466 [==============================] - 33s 71ms/step - loss: 0.0473 - acc: 0.6506 - val_loss: 0.0565 - val_acc: 0.6005\n",
      "Epoch 10/40\n",
      "466/466 [==============================] - 33s 71ms/step - loss: 0.0450 - acc: 0.6586 - val_loss: 0.0568 - val_acc: 0.5841\n",
      "Epoch 11/40\n",
      "466/466 [==============================] - 33s 72ms/step - loss: 0.0424 - acc: 0.6561 - val_loss: 0.0576 - val_acc: 0.5846\n",
      "Epoch 12/40\n",
      "466/466 [==============================] - 33s 70ms/step - loss: 0.0396 - acc: 0.6649 - val_loss: 0.0571 - val_acc: 0.5876\n",
      "Epoch 13/40\n",
      "466/466 [==============================] - 33s 70ms/step - loss: 0.0367 - acc: 0.6752 - val_loss: 0.0591 - val_acc: 0.5793\n",
      "Epoch 14/40\n",
      "466/466 [==============================] - 35s 75ms/step - loss: 0.0332 - acc: 0.6748 - val_loss: 0.0619 - val_acc: 0.5583\n",
      "Epoch 15/40\n",
      "466/466 [==============================] - 33s 70ms/step - loss: 0.0295 - acc: 0.6808 - val_loss: 0.0615 - val_acc: 0.6204\n",
      "Epoch 16/40\n",
      "466/466 [==============================] - 33s 72ms/step - loss: 0.0262 - acc: 0.6906 - val_loss: 0.0630 - val_acc: 0.5707\n",
      "Epoch 17/40\n",
      "466/466 [==============================] - 34s 74ms/step - loss: 0.0227 - acc: 0.6975 - val_loss: 0.0648 - val_acc: 0.5873\n",
      "Epoch 18/40\n",
      "466/466 [==============================] - 33s 71ms/step - loss: 0.0200 - acc: 0.7077 - val_loss: 0.0646 - val_acc: 0.5868\n",
      "Epoch 19/40\n",
      "466/466 [==============================] - 33s 71ms/step - loss: 0.0173 - acc: 0.7178 - val_loss: 0.0647 - val_acc: 0.5760\n",
      "Epoch 20/40\n",
      "466/466 [==============================] - 33s 70ms/step - loss: 0.0150 - acc: 0.7235 - val_loss: 0.0671 - val_acc: 0.5610\n",
      "Epoch 21/40\n",
      "466/466 [==============================] - 33s 71ms/step - loss: 0.0131 - acc: 0.7359 - val_loss: 0.0683 - val_acc: 0.5677\n",
      "Epoch 22/40\n",
      "466/466 [==============================] - 33s 70ms/step - loss: 0.0117 - acc: 0.7412 - val_loss: 0.0692 - val_acc: 0.5470\n",
      "Epoch 23/40\n",
      "466/466 [==============================] - 33s 70ms/step - loss: 0.0104 - acc: 0.7510 - val_loss: 0.0688 - val_acc: 0.5822\n",
      "Epoch 24/40\n",
      "466/466 [==============================] - 32s 70ms/step - loss: 0.0092 - acc: 0.7534 - val_loss: 0.0695 - val_acc: 0.5618\n",
      "Epoch 25/40\n",
      "466/466 [==============================] - 34s 72ms/step - loss: 0.0082 - acc: 0.7604 - val_loss: 0.0688 - val_acc: 0.5801\n",
      "Epoch 26/40\n",
      "466/466 [==============================] - 33s 72ms/step - loss: 0.0075 - acc: 0.7704 - val_loss: 0.0702 - val_acc: 0.5731\n",
      "Epoch 27/40\n",
      "466/466 [==============================] - 34s 73ms/step - loss: 0.0068 - acc: 0.7769 - val_loss: 0.0704 - val_acc: 0.5690\n",
      "Epoch 28/40\n",
      "466/466 [==============================] - 33s 71ms/step - loss: 0.0062 - acc: 0.7847 - val_loss: 0.0685 - val_acc: 0.5559\n",
      "Epoch 29/40\n",
      "466/466 [==============================] - 33s 70ms/step - loss: 0.0058 - acc: 0.7928 - val_loss: 0.0695 - val_acc: 0.5621\n",
      "Epoch 30/40\n",
      "466/466 [==============================] - 33s 70ms/step - loss: 0.0056 - acc: 0.7925 - val_loss: 0.0694 - val_acc: 0.5685\n",
      "Epoch 31/40\n",
      "466/466 [==============================] - 33s 71ms/step - loss: 0.0053 - acc: 0.7992 - val_loss: 0.0691 - val_acc: 0.5685\n",
      "Epoch 32/40\n",
      "466/466 [==============================] - 33s 70ms/step - loss: 0.0049 - acc: 0.8033 - val_loss: 0.0703 - val_acc: 0.5551\n",
      "Epoch 33/40\n",
      "466/466 [==============================] - 33s 70ms/step - loss: 0.0045 - acc: 0.8134 - val_loss: 0.0698 - val_acc: 0.5605\n",
      "Epoch 34/40\n",
      "466/466 [==============================] - 33s 71ms/step - loss: 0.0042 - acc: 0.8153 - val_loss: 0.0698 - val_acc: 0.5669\n",
      "Epoch 35/40\n",
      "466/466 [==============================] - 33s 71ms/step - loss: 0.0041 - acc: 0.8170 - val_loss: 0.0694 - val_acc: 0.5578\n",
      "Epoch 36/40\n",
      "466/466 [==============================] - 33s 71ms/step - loss: 0.0040 - acc: 0.8243 - val_loss: 0.0689 - val_acc: 0.5776\n",
      "Epoch 37/40\n",
      "466/466 [==============================] - 33s 71ms/step - loss: 0.0038 - acc: 0.8280 - val_loss: 0.0691 - val_acc: 0.5720\n",
      "Epoch 38/40\n",
      "466/466 [==============================] - 32s 70ms/step - loss: 0.0036 - acc: 0.8301 - val_loss: 0.0691 - val_acc: 0.5833\n",
      "Epoch 39/40\n",
      "466/466 [==============================] - 32s 69ms/step - loss: 0.0034 - acc: 0.8314 - val_loss: 0.0683 - val_acc: 0.5731\n",
      "Epoch 40/40\n",
      "466/466 [==============================] - 32s 69ms/step - loss: 0.0033 - acc: 0.8365 - val_loss: 0.0696 - val_acc: 0.5766\n"
     ]
    }
   ],
   "source": [
    "history = model.fit(one_hot_names, normalized_values, epochs=40, batch_size=32, validation_split=0.2)"
   ]
  },
  {
   "cell_type": "markdown",
   "metadata": {},
   "source": [
    "## Generate colors"
   ]
  },
  {
   "cell_type": "markdown",
   "metadata": {},
   "source": [
    "Let’s define some functions to generate and show the color predicted.\n",
    "\n",
    "For a color name input, we need to transform it into the same one-hot representation. To achieve this, we tokenize characters to integers with the same tokenizer with which we processed the training data, pad it to the max sequence length of 25, then apply the one-hot encoding to the integer sequence.\n",
    "\n",
    "And for the output RGB values, we need to scale it back to 0–255, so we can display them correctly"
   ]
  },
  {
   "cell_type": "code",
   "execution_count": 20,
   "metadata": {},
   "outputs": [],
   "source": [
    "# plot a color image\n",
    "def plot_rgb(rgb):\n",
    "    data = [[rgb]]\n",
    "    plt.figure(figsize=(2,2))\n",
    "    plt.imshow(data,interpolation='nearest')\n",
    "    plt.show()\n",
    "    \n",
    "def scale(n):\n",
    "    return int(n*255)\n",
    "\n",
    "def predict(name):\n",
    "    name = name.lower()\n",
    "    tokenized = t.texts_to_sequences([name])\n",
    "    padded = preprocessing.sequence.pad_sequences(tokenized, maxlen=maxlen)\n",
    "    one_hot = np_utils.to_categorical(padded, num_classes=90)\n",
    "    pred = model.predict(np.array(one_hot))[0]\n",
    "    r,g,b = scale(pred[0]),scale(pred[1]),scale(pred[2])\n",
    "    print(name + ',', 'R,G,B: ', r,g,b)\n",
    "    plot_rgb(pred)"
   ]
  },
  {
   "cell_type": "code",
   "execution_count": 21,
   "metadata": {},
   "outputs": [
    {
     "name": "stdout",
     "output_type": "stream",
     "text": [
      "forest, R,G,B:  25 77 31\n"
     ]
    },
    {
     "data": {
      "image/png": "[encoded data removed]",
      "text/plain": [
       "<Figure size 144x144 with 1 Axes>"
      ]
     },
     "metadata": {
      "needs_background": "light"
     },
     "output_type": "display_data"
    },
    {
     "name": "stdout",
     "output_type": "stream",
     "text": [
      "ocean, R,G,B:  7 75 131\n"
     ]
    },
    {
     "data": {
      "image/png": "[encoded data removed]",
      "text/plain": [
       "<Figure size 144x144 with 1 Axes>"
      ]
     },
     "metadata": {
      "needs_background": "light"
     },
     "output_type": "display_data"
    }
   ],
   "source": [
    "predict('forest')\n",
    "predict('ocean')"
   ]
  },
  {
   "cell_type": "markdown",
   "metadata": {},
   "source": [
    "In this post, we talked about how to build a Keras model that can take any color name and come up with an RGB color value. More specifically, we looked at how to apply the one-hot encoding to character-level language models, building a neural network model with a feed-forward neural network and recurrent neural network."
   ]
  },
  {
   "cell_type": "code",
   "execution_count": null,
   "metadata": {},
   "outputs": [],
   "source": []
  }
 ],
 "metadata": {
  "kernelspec": {
   "display_name": "Python 3",
   "language": "python",
   "name": "python3"
  },
  "language_info": {
   "codemirror_mode": {
    "name": "ipython",
    "version": 3
   },
   "file_extension": ".py",
   "mimetype": "text/x-python",
   "name": "python",
   "nbconvert_exporter": "python",
   "pygments_lexer": "ipython3",
   "version": "3.8.5"
  }
 },
 "nbformat": 4,
 "nbformat_minor": 4
}
