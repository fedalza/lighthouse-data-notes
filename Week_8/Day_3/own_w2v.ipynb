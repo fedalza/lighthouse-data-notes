{
 "metadata": {
  "language_info": {
   "codemirror_mode": {
    "name": "ipython",
    "version": 3
   },
   "file_extension": ".py",
   "mimetype": "text/x-python",
   "name": "python",
   "nbconvert_exporter": "python",
   "pygments_lexer": "ipython3",
   "version": "3.8.5-final"
  },
  "orig_nbformat": 2,
  "kernelspec": {
   "name": "python_defaultSpec_1599739725662",
   "display_name": "Python 3.8.5 64-bit ('boot_env': conda)"
  }
 },
 "nbformat": 4,
 "nbformat_minor": 2,
 "cells": [
  {
   "cell_type": "code",
   "execution_count": 3,
   "metadata": {},
   "outputs": [],
   "source": [
    "import bs4 as bs \n",
    "import urllib.request\n",
    "import re\n",
    "import nltk\n",
    "\n",
    "scrapped_data =  urllib.request.urlopen('https://en.wikipedia.org/wiki/Artificial_intelligence')\n",
    "article = scrapped_data.read()\n",
    "\n",
    "parsed_article = bs.BeautifulSoup(article,'lxml')\n",
    "\n",
    "paragraphs = parsed_article.find_all('p')\n",
    "\n",
    "article_text = \"\"\n",
    "\n",
    "for p in paragraphs:\n",
    "    article_text += p.text"
   ]
  },
  {
   "cell_type": "markdown",
   "metadata": {},
   "source": [
    "In the script above, we first download the Wikipedia article using the urlopen method of the request class of the urllib library. We then read the article content and parse it using an object of the BeautifulSoup class. Wikipedia stores the text content of the article inside p tags. We use the find_all function of the BeautifulSoup object to fetch all the contents from the paragraph tags of the article.\n",
    "Finally, we join all the paragraphs together and store the scraped article in article_text variable for later use."
   ]
  },
  {
   "cell_type": "code",
   "execution_count": 10,
   "metadata": {
    "tags": []
   },
   "outputs": [],
   "source": [
    "# cleaning the text\n",
    "processed_article = article_text.lower()\n",
    "processed_article = re.sub('[^a-zA-Z]', ' ', processed_article)\n",
    "processed_article = re.sub(r'\\s+', ' ', processed_article)\n",
    "\n",
    "# preparing the dataset\n",
    "all_sentences = nltk.sent_tokenize(processed_article)\n",
    "all_words = [nltk.word_tokenize(sent) for sent in all_sentences]\n",
    "\n",
    "# removing stop-words\n",
    "from nltk.corpus import stopwords\n",
    "for i in range(len(all_words)):\n",
    "    all_words[i] = [w for w in all_words[i] if w not in stopwords.words('english')]"
   ]
  },
  {
   "cell_type": "markdown",
   "metadata": {},
   "source": [
    "In the script above, we convert all the text to lowercase and then remove all the digits, special characters, and extra spaces from the text. After preprocessing, we are only left with the words.\n",
    "\n",
    "The Word2Vec model is trained on a collection of words. First, we need to convert our article into sentences. We use nltk.sent_tokenize utility to convert our article into sentences. To convert sentences into words, we use nltk.word_tokenize utility. As a last preprocessing step, we remove all the stop words from the text."
   ]
  },
  {
   "cell_type": "code",
   "execution_count": 11,
   "metadata": {},
   "outputs": [],
   "source": [
    "from gensim.models import Word2Vec\n",
    "\n",
    "word2vec = Word2Vec(all_words,min_count=2)"
   ]
  },
  {
   "cell_type": "code",
   "execution_count": 12,
   "metadata": {
    "tags": [
     "outputPrepend"
    ]
   },
   "outputs": [
    {
     "output_type": "stream",
     "name": "stdout",
     "text": "s.Vocab object at 0x000001CBA62F9EB0>, 'individual': <gensim.models.keyedvectors.Vocab object at 0x000001CBA62F9B20>, 'moravec': <gensim.models.keyedvectors.Vocab object at 0x000001CBA62F9700>, 'paradox': <gensim.models.keyedvectors.Vocab object at 0x000001CBA62F94C0>, 'take': <gensim.models.keyedvectors.Vocab object at 0x000001CBA62F9A30>, 'named': <gensim.models.keyedvectors.Vocab object at 0x000001CBA62F92E0>, 'hans': <gensim.models.keyedvectors.Vocab object at 0x000001CBA62F9850>, 'stated': <gensim.models.keyedvectors.Vocab object at 0x000001CBA62F9D00>, 'easy': <gensim.models.keyedvectors.Vocab object at 0x000001CBA62F9A60>, 'exhibit': <gensim.models.keyedvectors.Vocab object at 0x000001CBA62F98E0>, 'performance': <gensim.models.keyedvectors.Vocab object at 0x000001CBA62F9FD0>, 'impossible': <gensim.models.keyedvectors.Vocab object at 0x000001CBA62F9160>, 'give': <gensim.models.keyedvectors.Vocab object at 0x000001CBA62F9DC0>, 'old': <gensim.models.keyedvectors.Vocab object at 0x000001CBA62F9100>, 'autonomous': <gensim.models.keyedvectors.Vocab object at 0x000001CBA62F9340>, 'vehicles': <gensim.models.keyedvectors.Vocab object at 0x000001CBA62F9400>, 'affective': <gensim.models.keyedvectors.Vocab object at 0x000001CBA62F9550>, 'affects': <gensim.models.keyedvectors.Vocab object at 0x000001CBA62F9580>, 'successes': <gensim.models.keyedvectors.Vocab object at 0x000001CBA62F97F0>, 'related': <gensim.models.keyedvectors.Vocab object at 0x000001CBA62F9370>, 'analysis': <gensim.models.keyedvectors.Vocab object at 0x000001CBA62F9190>, 'recently': <gensim.models.keyedvectors.Vocab object at 0x000001CBA62F9130>, 'multimodal': <gensim.models.keyedvectors.Vocab object at 0x000001CBA62F91C0>, 'wherein': <gensim.models.keyedvectors.Vocab object at 0x000001CBA62F90A0>, 'classifies': <gensim.models.keyedvectors.Vocab object at 0x000001CBA62F9730>, 'subject': <gensim.models.keyedvectors.Vocab object at 0x000001CBA62F9670>, 'emotion': <gensim.models.keyedvectors.Vocab object at 0x000001CBA600A430>, 'valuable': <gensim.models.keyedvectors.Vocab object at 0x000001CBA600AE20>, 'predict': <gensim.models.keyedvectors.Vocab object at 0x000001CBA600A580>, 'emotional': <gensim.models.keyedvectors.Vocab object at 0x000001CBA600A100>, 'allow': <gensim.models.keyedvectors.Vocab object at 0x000001CBA600A070>, 'decisions': <gensim.models.keyedvectors.Vocab object at 0x000001CBA600A0A0>, 'interaction': <gensim.models.keyedvectors.Vocab object at 0x000001CBA600AA90>, 'users': <gensim.models.keyedvectors.Vocab object at 0x000001CBA600A940>, 'actually': <gensim.models.keyedvectors.Vocab object at 0x000001CBA600A730>, 'cyc': <gensim.models.keyedvectors.Vocab object at 0x000001CBA600A7C0>, 'massive': <gensim.models.keyedvectors.Vocab object at 0x000001CBA600A3A0>, 'attempted': <gensim.models.keyedvectors.Vocab object at 0x000001CBA600A1F0>, 'cognition': <gensim.models.keyedvectors.Vocab object at 0x000001CBA600A340>, 'limitations': <gensim.models.keyedvectors.Vocab object at 0x000001CBA600AD00>, 'cross': <gensim.models.keyedvectors.Vocab object at 0x000001CBA600AA30>, 'nowadays': <gensim.models.keyedvectors.Vocab object at 0x000001CBA600ADC0>, 'eventually': <gensim.models.keyedvectors.Vocab object at 0x000001CBA600AFD0>, 'agi': <gensim.models.keyedvectors.Vocab object at 0x000001CBA600A5E0>, 'article': <gensim.models.keyedvectors.Vocab object at 0x000001CBA600AAF0>, 'point': <gensim.models.keyedvectors.Vocab object at 0x000001CBA600A880>, 'profile': <gensim.models.keyedvectors.Vocab object at 0x000001CBA600AEB0>, 'deepmind': <gensim.models.keyedvectors.Vocab object at 0x000001CBA600AFA0>, 'hypothetical': <gensim.models.keyedvectors.Vocab object at 0x000001CBA600AB20>, 'argue': <gensim.models.keyedvectors.Vocab object at 0x000001CBA631BD30>, 'kind': <gensim.models.keyedvectors.Vocab object at 0x000001CBA631BE20>, 'currently': <gensim.models.keyedvectors.Vocab object at 0x000001CBA631BE50>, 'look': <gensim.models.keyedvectors.Vocab object at 0x000001CBA631BBE0>, 'closely': <gensim.models.keyedvectors.Vocab object at 0x000001CBA631BAC0>, 'reach': <gensim.models.keyedvectors.Vocab object at 0x000001CBA631BCA0>, 'author': <gensim.models.keyedvectors.Vocab object at 0x000001CBA63147F0>, 'argument': <gensim.models.keyedvectors.Vocab object at 0x000001CBA6314F70>, 'order': <gensim.models.keyedvectors.Vocab object at 0x000001CBA6314D00>, 'questions': <gensim.models.keyedvectors.Vocab object at 0x000001CBA6314EB0>, 'biology': <gensim.models.keyedvectors.Vocab object at 0x000001CBA6314460>, 'principles': <gensim.models.keyedvectors.Vocab object at 0x000001CBA6314DF0>, 'necessarily': <gensim.models.keyedvectors.Vocab object at 0x000001CBA6314550>, 'grey': <gensim.models.keyedvectors.Vocab object at 0x000001CBA6314490>, 'society': <gensim.models.keyedvectors.Vocab object at 0x000001CBA6322C40>, 'university': <gensim.models.keyedvectors.Vocab object at 0x000001CBA6322AC0>, 'largely': <gensim.models.keyedvectors.Vocab object at 0x000001CBA6322400>, 'abandoned': <gensim.models.keyedvectors.Vocab object at 0x000001CBA6322A90>, 'although': <gensim.models.keyedvectors.Vocab object at 0x000001CBA6322A00>, 'centered': <gensim.models.keyedvectors.Vocab object at 0x000001CBA6322610>, 'carnegie': <gensim.models.keyedvectors.Vocab object at 0x000001CBA63226D0>, 'mellon': <gensim.models.keyedvectors.Vocab object at 0x000001CBA6322310>, 'stanford': <gensim.models.keyedvectors.Vocab object at 0x000001CBA6322EE0>, 'gofai': <gensim.models.keyedvectors.Vocab object at 0x000001CBA63220D0>, 'thinking': <gensim.models.keyedvectors.Vocab object at 0x000001CBA6322B50>, 'economist': <gensim.models.keyedvectors.Vocab object at 0x000001CBA6322130>, 'studied': <gensim.models.keyedvectors.Vocab object at 0x000001CBA6322550>, 'experiments': <gensim.models.keyedvectors.Vocab object at 0x000001CBA63228E0>, 'develop': <gensim.models.keyedvectors.Vocab object at 0x000001CBA6322FD0>, 'architecture': <gensim.models.keyedvectors.Vocab object at 0x000001CBA6322D60>, 'try': <gensim.models.keyedvectors.Vocab object at 0x000001CBA6322910>, 'focused': <gensim.models.keyedvectors.Vocab object at 0x000001CBA63222E0>, 'variety': <gensim.models.keyedvectors.Vocab object at 0x000001CBA6322220>, 'programming': <gensim.models.keyedvectors.Vocab object at 0x000001CBA6322A30>, 'found': <gensim.models.keyedvectors.Vocab object at 0x000001CBA6322190>, 'ad': <gensim.models.keyedvectors.Vocab object at 0x000001CBA63223A0>, 'hoc': <gensim.models.keyedvectors.Vocab object at 0x000001CBA63221C0>, 'solutions': <gensim.models.keyedvectors.Vocab object at 0x000001CBA6322160>, 'argued': <gensim.models.keyedvectors.Vocab object at 0x000001CBA6322040>, 'scruffy': <gensim.models.keyedvectors.Vocab object at 0x000001CBA6322820>, 'complicated': <gensim.models.keyedvectors.Vocab object at 0x000001CBA6322580>, 'revolution': <gensim.models.keyedvectors.Vocab object at 0x000001CBA5F6A220>, 'introduced': <gensim.models.keyedvectors.Vocab object at 0x000001CBA5F6A370>, 'edward': <gensim.models.keyedvectors.Vocab object at 0x000001CBA5F6A9D0>, 'key': <gensim.models.keyedvectors.Vocab object at 0x000001CBA5F63EB0>, 'illustrate': <gensim.models.keyedvectors.Vocab object at 0x000001CBA5FB9F10>, 'never': <gensim.models.keyedvectors.Vocab object at 0x000001CBA5FB9160>, 'manage': <gensim.models.keyedvectors.Vocab object at 0x000001CBA5FB9A00>, 'embodied': <gensim.models.keyedvectors.Vocab object at 0x000001CBA6321B80>, 'rodney': <gensim.models.keyedvectors.Vocab object at 0x000001CBA6321D90>, 'brooks': <gensim.models.keyedvectors.Vocab object at 0x000001CBA6321C10>, 'view': <gensim.models.keyedvectors.Vocab object at 0x000001CBA6321FA0>, 'control': <gensim.models.keyedvectors.Vocab object at 0x000001CBA6321E80>, 'idea': <gensim.models.keyedvectors.Vocab object at 0x000001CBA6321C40>, 'higher': <gensim.models.keyedvectors.Vocab object at 0x000001CBA6321790>, 'developmental': <gensim.models.keyedvectors.Vocab object at 0x000001CBA6321AF0>, 'novel': <gensim.models.keyedvectors.Vocab object at 0x000001CBA63218B0>, 'david': <gensim.models.keyedvectors.Vocab object at 0x000001CBA6321430>, 'soft': <gensim.models.keyedvectors.Vocab object at 0x000001CBA63213D0>, 'solution': <gensim.models.keyedvectors.Vocab object at 0x000001CBA6321B20>, 'emerging': <gensim.models.keyedvectors.Vocab object at 0x000001CBA6321760>, 'hmm': <gensim.models.keyedvectors.Vocab object at 0x000001CBA6321E50>, 'shared': <gensim.models.keyedvectors.Vocab object at 0x000001CBA63215B0>, 'acquiring': <gensim.models.keyedvectors.Vocab object at 0x000001CBA6321250>, 'broader': <gensim.models.keyedvectors.Vocab object at 0x000001CBA6321670>, 'critics': <gensim.models.keyedvectors.Vocab object at 0x000001CBA6321DF0>, 'shift': <gensim.models.keyedvectors.Vocab object at 0x000001CBA6321280>, 'necessary': <gensim.models.keyedvectors.Vocab object at 0x000001CBA63212B0>, 'intellectual': <gensim.models.keyedvectors.Vocab object at 0x000001CBA63210A0>, 'numerous': <gensim.models.keyedvectors.Vocab object at 0x000001CBA6321190>, 'list': <gensim.models.keyedvectors.Vocab object at 0x000001CBA6321A00>, 'drones': <gensim.models.keyedvectors.Vocab object at 0x000001CBA6321B50>, 'online': <gensim.models.keyedvectors.Vocab object at 0x000001CBA63216A0>, 'media': <gensim.models.keyedvectors.Vocab object at 0x000001CBA6321BE0>, 'source': <gensim.models.keyedvectors.Vocab object at 0x000001CBA6321970>, 'news': <gensim.models.keyedvectors.Vocab object at 0x000001CBA6321F40>, 'organizations': <gensim.models.keyedvectors.Vocab object at 0x000001CBA63213A0>, 'stories': <gensim.models.keyedvectors.Vocab object at 0x000001CBA6321700>, 'deepfakes': <gensim.models.keyedvectors.Vocab object at 0x000001CBA6321D60>, 'occur': <gensim.models.keyedvectors.Vocab object at 0x000001CBA6321FD0>, 'cause': <gensim.models.keyedvectors.Vocab object at 0x000001CBA6321A30>, 'harm': <gensim.models.keyedvectors.Vocab object at 0x000001CBA6321100>, 'public': <gensim.models.keyedvectors.Vocab object at 0x000001CBA6321EE0>, 'potential': <gensim.models.keyedvectors.Vocab object at 0x000001CBA637F5B0>, 'prevent': <gensim.models.keyedvectors.Vocab object at 0x000001CBA637F580>, 'minimize': <gensim.models.keyedvectors.Vocab object at 0x000001CBA637F790>, 'risks': <gensim.models.keyedvectors.Vocab object at 0x000001CBA637F610>, 'ethical': <gensim.models.keyedvectors.Vocab object at 0x000001CBA637F6A0>, 'policy': <gensim.models.keyedvectors.Vocab object at 0x000001CBA637FBB0>, 'making': <gensim.models.keyedvectors.Vocab object at 0x000001CBA637F040>, 'policies': <gensim.models.keyedvectors.Vocab object at 0x000001CBA637FB20>, 'moral': <gensim.models.keyedvectors.Vocab object at 0x000001CBA637FFD0>, 'friendly': <gensim.models.keyedvectors.Vocab object at 0x000001CBA637FF70>, 'discussion': <gensim.models.keyedvectors.Vocab object at 0x000001CBA637F910>, 'towards': <gensim.models.keyedvectors.Vocab object at 0x000001CBA637F9A0>, 'rights': <gensim.models.keyedvectors.Vocab object at 0x000001CBA637BDF0>, 'weizenbaum': <gensim.models.keyedvectors.Vocab object at 0x000001CBA637B2B0>, 'misguided': <gensim.models.keyedvectors.Vocab object at 0x000001CBA637B130>, 'position': <gensim.models.keyedvectors.Vocab object at 0x000001CBA637B7F0>, 'computationalism': <gensim.models.keyedvectors.Vocab object at 0x000001CBA637B6D0>, 'wallach': <gensim.models.keyedvectors.Vocab object at 0x000001CBA637BE80>, 'amas': <gensim.models.keyedvectors.Vocab object at 0x000001CBA637B160>, 'landscape': <gensim.models.keyedvectors.Vocab object at 0x000001CBA637B1F0>, 'identifies': <gensim.models.keyedvectors.Vocab object at 0x000001CBA637B460>, 'want': <gensim.models.keyedvectors.Vocab object at 0x000001CBA637B070>, 'issue': <gensim.models.keyedvectors.Vocab object at 0x000001CBA637BD00>, 'place': <gensim.models.keyedvectors.Vocab object at 0x000001CBA637BE50>, 'concerned': <gensim.models.keyedvectors.Vocab object at 0x000001CBA637BE20>, 'giving': <gensim.models.keyedvectors.Vocab object at 0x000001CBA637B190>, 'enabling': <gensim.models.keyedvectors.Vocab object at 0x000001CBA637B250>, 'responsible': <gensim.models.keyedvectors.Vocab object at 0x000001CBA637B4F0>, 'aaai': <gensim.models.keyedvectors.Vocab object at 0x000001CBA637B340>, 'symposium': <gensim.models.keyedvectors.Vocab object at 0x000001CBA637B3D0>, 'concerning': <gensim.models.keyedvectors.Vocab object at 0x000001CBA637B490>, 'treat': <gensim.models.keyedvectors.Vocab object at 0x000001CBA637B580>, 'dimension': <gensim.models.keyedvectors.Vocab object at 0x000001CBA637B4C0>, 'involving': <gensim.models.keyedvectors.Vocab object at 0x000001CBA637B670>, 'recent': <gensim.models.keyedvectors.Vocab object at 0x000001CBA637B730>, 'contrast': <gensim.models.keyedvectors.Vocab object at 0x000001CBA637B550>, 'concerns': <gensim.models.keyedvectors.Vocab object at 0x000001CBA637B7C0>, 'referred': <gensim.models.keyedvectors.Vocab object at 0x000001CBA637BB50>, 'morality': <gensim.models.keyedvectors.Vocab object at 0x000001CBA637B9D0>, 'stems': <gensim.models.keyedvectors.Vocab object at 0x000001CBA637BB80>, 'believes': <gensim.models.keyedvectors.Vocab object at 0x000001CBA637B940>, 'argues': <gensim.models.keyedvectors.Vocab object at 0x000001CBA637BCD0>, 'ais': <gensim.models.keyedvectors.Vocab object at 0x000001CBA637BB20>, 'civilization': <gensim.models.keyedvectors.Vocab object at 0x000001CBA637B0A0>, 'earth': <gensim.models.keyedvectors.Vocab object at 0x000001CBA6371EB0>, 'researcher': <gensim.models.keyedvectors.Vocab object at 0x000001CBA6371F40>, 'think': <gensim.models.keyedvectors.Vocab object at 0x000001CBA6371760>, 'developing': <gensim.models.keyedvectors.Vocab object at 0x000001CBA6371A30>, 'worry': <gensim.models.keyedvectors.Vocab object at 0x000001CBA6371FA0>, 'sentient': <gensim.models.keyedvectors.Vocab object at 0x000001CBA6371C70>, 'lethal': <gensim.models.keyedvectors.Vocab object at 0x000001CBA6371AC0>, 'weapons': <gensim.models.keyedvectors.Vocab object at 0x000001CBA6371DC0>, 'researching': <gensim.models.keyedvectors.Vocab object at 0x000001CBA6371D00>, 'united': <gensim.models.keyedvectors.Vocab object at 0x000001CBA6371B20>, 'superintelligent': <gensim.models.keyedvectors.Vocab object at 0x000001CBA6371D90>, 'nature': <gensim.models.keyedvectors.Vocab object at 0x000001CBA6371040>, 'consciousness': <gensim.models.keyedvectors.Vocab object at 0x000001CBA63710A0>, 'hard': <gensim.models.keyedvectors.Vocab object at 0x000001CBA6371100>, 'explaining': <gensim.models.keyedvectors.Vocab object at 0x000001CBA6371160>, 'feel': <gensim.models.keyedvectors.Vocab object at 0x000001CBA63711C0>, 'explain': <gensim.models.keyedvectors.Vocab object at 0x000001CBA6371220>, 'subjective': <gensim.models.keyedvectors.Vocab object at 0x000001CBA6371280>, 'swatch': <gensim.models.keyedvectors.Vocab object at 0x000001CBA63712E0>, 'red': <gensim.models.keyedvectors.Vocab object at 0x000001CBA6371340>, 'looks': <gensim.models.keyedvectors.Vocab object at 0x000001CBA6371400>, 'day': <gensim.models.keyedvectors.Vocab object at 0x000001CBA63713D0>, 'creates': <gensim.models.keyedvectors.Vocab object at 0x000001CBA6371460>, 'scientists': <gensim.models.keyedvectors.Vocab object at 0x000001CBA63714C0>, 'searle': <gensim.models.keyedvectors.Vocab object at 0x000001CBA6371BE0>, 'strong': <gensim.models.keyedvectors.Vocab object at 0x000001CBA63714F0>, 'created': <gensim.models.keyedvectors.Vocab object at 0x000001CBA6371CD0>, 'institute': <gensim.models.keyedvectors.Vocab object at 0x000001CBA638AA00>, 'transhumanism': <gensim.models.keyedvectors.Vocab object at 0x000001CBA638A1F0>, 'superintelligence': <gensim.models.keyedvectors.Vocab object at 0x000001CBA638AA60>, 'improving': <gensim.models.keyedvectors.Vocab object at 0x000001CBA638AA90>, 'improvement': <gensim.models.keyedvectors.Vocab object at 0x000001CBA638AC40>, 'scenario': <gensim.models.keyedvectors.Vocab object at 0x000001CBA638AAC0>, 'singularity': <gensim.models.keyedvectors.Vocab object at 0x000001CBA638ABB0>, 'technologies': <gensim.models.keyedvectors.Vocab object at 0x000001CBA638A160>, 'ray': <gensim.models.keyedvectors.Vocab object at 0x000001CBA638A130>, 'kurzweil': <gensim.models.keyedvectors.Vocab object at 0x000001CBA638A0A0>, 'either': <gensim.models.keyedvectors.Vocab object at 0x000001CBA638AE50>, 'evolution': <gensim.models.keyedvectors.Vocab object at 0x000001CBA638AEB0>, 'george': <gensim.models.keyedvectors.Vocab object at 0x000001CBA638A700>, 'name': <gensim.models.keyedvectors.Vocab object at 0x000001CBA638A640>, 'economic': <gensim.models.keyedvectors.Vocab object at 0x000001CBA638A610>, 'economists': <gensim.models.keyedvectors.Vocab object at 0x000001CBA638A940>, 'european': <gensim.models.keyedvectors.Vocab object at 0x000001CBA638A8B0>, 'union': <gensim.models.keyedvectors.Vocab object at 0x000001CBA638A910>, 'white': <gensim.models.keyedvectors.Vocab object at 0x000001CBA638A310>, 'healthcare': <gensim.models.keyedvectors.Vocab object at 0x000001CBA638A430>, 'efficiency': <gensim.models.keyedvectors.Vocab object at 0x000001CBA638A190>, 'automation': <gensim.models.keyedvectors.Vocab object at 0x000001CBA638A280>, 'employment': <gensim.models.keyedvectors.Vocab object at 0x000001CBA638A550>, 'jobs': <gensim.models.keyedvectors.Vocab object at 0x000001CBA638ADC0>, 'collar': <gensim.models.keyedvectors.Vocab object at 0x000001CBA638A580>, 'worth': <gensim.models.keyedvectors.Vocab object at 0x000001CBA638A1C0>, 'job': <gensim.models.keyedvectors.Vocab object at 0x000001CBA638A460>, 'ford': <gensim.models.keyedvectors.Vocab object at 0x000001CBA638AF10>, 'expressed': <gensim.models.keyedvectors.Vocab object at 0x000001CBA638A820>, 'dangerous': <gensim.models.keyedvectors.Vocab object at 0x000001CBA638A340>, 'laws': <gensim.models.keyedvectors.Vocab object at 0x000001CBA638A6D0>, 'security': <gensim.models.keyedvectors.Vocab object at 0x000001CBA638AA30>, 'bias': <gensim.models.keyedvectors.Vocab object at 0x000001CBA638AB20>, 'compas': <gensim.models.keyedvectors.Vocab object at 0x000001CBA637ABE0>, 'assigned': <gensim.models.keyedvectors.Vocab object at 0x000001CBA637AFA0>, 'defendants': <gensim.models.keyedvectors.Vocab object at 0x000001CBA637AE80>, 'hawking': <gensim.models.keyedvectors.Vocab object at 0x000001CBA637A520>, 'founder': <gensim.models.keyedvectors.Vocab object at 0x000001CBA637ADC0>, 'musk': <gensim.models.keyedvectors.Vocab object at 0x000001CBA637A790>, 'spell': <gensim.models.keyedvectors.Vocab object at 0x000001CBA637A970>, 'end': <gensim.models.keyedvectors.Vocab object at 0x000001CBA637A100>, 'race': <gensim.models.keyedvectors.Vocab object at 0x000001CBA637A1F0>, 'bostrom': <gensim.models.keyedvectors.Vocab object at 0x000001CBA637AC10>, 'threat': <gensim.models.keyedvectors.Vocab object at 0x000001CBA637A160>, 'resources': <gensim.models.keyedvectors.Vocab object at 0x000001CBA637A310>, 'shut': <gensim.models.keyedvectors.Vocab object at 0x000001CBA637AD90>, 'fully': <gensim.models.keyedvectors.Vocab object at 0x000001CBA637AA60>, 'smile': <gensim.models.keyedvectors.Vocab object at 0x000001CBA637AE50>, 'prominent': <gensim.models.keyedvectors.Vocab object at 0x000001CBA637A070>, 'ceo': <gensim.models.keyedvectors.Vocab object at 0x000001CBA637A220>, 'mark': <gensim.models.keyedvectors.Vocab object at 0x000001CBA637A2E0>, 'realized': <gensim.models.keyedvectors.Vocab object at 0x000001CBA637A370>, 'regulation': <gensim.models.keyedvectors.Vocab object at 0x000001CBA637A280>, 'culture': <gensim.models.keyedvectors.Vocab object at 0x000001CBA637A190>, 'asimov': <gensim.models.keyedvectors.Vocab object at 0x000001CBA637AE20>, 'series': <gensim.models.keyedvectors.Vocab object at 0x000001CBA637A880>, 'sorayama': <gensim.models.keyedvectors.Vocab object at 0x000001CBA637AEB0>, 'actual': <gensim.models.keyedvectors.Vocab object at 0x000001CBA637ABB0>, 'organic': <gensim.models.keyedvectors.Vocab object at 0x000001CBA637D4C0>, 'dick': <gensim.models.keyedvectors.Vocab object at 0x000001CBA637D610>}\n"
    }
   ],
   "source": [
    "vocabulary = word2vec.wv.vocab\n",
    "print(vocabulary)"
   ]
  },
  {
   "cell_type": "code",
   "execution_count": 13,
   "metadata": {},
   "outputs": [],
   "source": [
    "v1 = word2vec.wv['artificial'] # The vector v1 contains the vector representation for the word \"artificial\". By default, a hundred dimensional vector is created by Gensim Word2Vec."
   ]
  },
  {
   "cell_type": "code",
   "execution_count": 14,
   "metadata": {},
   "outputs": [],
   "source": [
    "sim_words = word2vec.wv.most_similar('intelligence')"
   ]
  },
  {
   "cell_type": "code",
   "execution_count": 15,
   "metadata": {
    "tags": []
   },
   "outputs": [
    {
     "output_type": "stream",
     "name": "stdout",
     "text": "[('described', 0.46398288011550903), ('ethics', 0.45365941524505615), ('use', 0.44582992792129517), ('ai', 0.4442201554775238), ('field', 0.4385843276977539), ('symbolic', 0.4367824196815491), ('many', 0.4224812984466553), ('given', 0.4097159504890442), ('dangerous', 0.4095437228679657), ('human', 0.39762768149375916)]\n"
    }
   ],
   "source": [
    "print(sim_words)"
   ]
  },
  {
   "cell_type": "code",
   "execution_count": null,
   "metadata": {},
   "outputs": [],
   "source": []
  }
 ]
}