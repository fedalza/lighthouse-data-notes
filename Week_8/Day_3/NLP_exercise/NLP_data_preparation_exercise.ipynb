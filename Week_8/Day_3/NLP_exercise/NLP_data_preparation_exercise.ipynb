{
 "cells": [
  {
   "cell_type": "code",
   "execution_count": 1,
   "metadata": {
    "ExecuteTime": {
     "end_time": "2020-04-29T11:40:03.667630Z",
     "start_time": "2020-04-29T11:40:03.663429Z"
    }
   },
   "outputs": [],
   "source": [
    "# import pandas\n",
    "import pandas as pd"
   ]
  },
  {
   "cell_type": "code",
   "execution_count": 38,
   "metadata": {
    "ExecuteTime": {
     "end_time": "2020-04-29T11:40:04.044904Z",
     "start_time": "2020-04-29T11:40:03.861034Z"
    }
   },
   "outputs": [],
   "source": [
    "# load dataset\n",
    "dataset = pd.read_csv('https://media.geeksforgeeks.org/wp-content/uploads/Restaurant_Reviews.tsv', \n",
    "                      delimiter = '\\t',\n",
    "                      quoting=3)"
   ]
  },
  {
   "cell_type": "markdown",
   "metadata": {},
   "source": [
    "* print top 10 rows"
   ]
  },
  {
   "cell_type": "code",
   "execution_count": 39,
   "metadata": {
    "ExecuteTime": {
     "end_time": "2020-04-29T11:40:04.238480Z",
     "start_time": "2020-04-29T11:40:04.226793Z"
    },
    "tags": []
   },
   "outputs": [
    {
     "output_type": "stream",
     "name": "stdout",
     "text": "Review  Liked\n0                           Wow... Loved this place.      1\n1                                 Crust is not good.      0\n2          Not tasty and the texture was just nasty.      0\n3  Stopped by during the late May bank holiday of...      1\n4  The selection on the menu was great and so wer...      1\n5     Now I am getting angry and I want my damn pho.      0\n6              Honeslty it didn't taste THAT fresh.)      0\n7  The potatoes were like rubber and you could te...      0\n8                          The fries were great too.      1\n9                                     A great touch.      1\n"
    }
   ],
   "source": [
    "print(dataset[:10])"
   ]
  },
  {
   "cell_type": "markdown",
   "metadata": {},
   "source": [
    "* create function that removes punctuation"
   ]
  },
  {
   "cell_type": "code",
   "execution_count": 34,
   "metadata": {
    "ExecuteTime": {
     "end_time": "2020-04-29T11:40:04.593691Z",
     "start_time": "2020-04-29T11:40:04.588163Z"
    },
    "tags": []
   },
   "outputs": [],
   "source": [
    "import string\n",
    "\n",
    "def remove_punct(text):\n",
    "    table = str.maketrans('','',string.punctuation)\n",
    "    return text.translate(table)"
   ]
  },
  {
   "cell_type": "markdown",
   "metadata": {},
   "source": [
    "* create function that converts text to lowercase"
   ]
  },
  {
   "cell_type": "code",
   "execution_count": 33,
   "metadata": {
    "ExecuteTime": {
     "end_time": "2020-04-29T11:40:04.953719Z",
     "start_time": "2020-04-29T11:40:04.949990Z"
    },
    "tags": []
   },
   "outputs": [],
   "source": [
    "def lower_case(text):\n",
    "    return text.lower()"
   ]
  },
  {
   "cell_type": "markdown",
   "metadata": {},
   "source": [
    "* import nltk and download stopwords"
   ]
  },
  {
   "cell_type": "code",
   "execution_count": 20,
   "metadata": {
    "ExecuteTime": {
     "end_time": "2020-04-29T11:40:07.172105Z",
     "start_time": "2020-04-29T11:40:05.315632Z"
    }
   },
   "outputs": [],
   "source": [
    "from nltk.corpus import stopwords\n",
    "\n",
    "stop_words = stopwords.words('english')"
   ]
  },
  {
   "cell_type": "markdown",
   "metadata": {},
   "source": [
    "* create function that removes stopwords"
   ]
  },
  {
   "cell_type": "code",
   "execution_count": 32,
   "metadata": {
    "ExecuteTime": {
     "end_time": "2020-04-29T11:40:07.235109Z",
     "start_time": "2020-04-29T11:40:07.225647Z"
    },
    "tags": []
   },
   "outputs": [],
   "source": [
    "from nltk.tokenize import word_tokenize\n",
    "\n",
    "def remove_stop(text,stop_words):\n",
    "    tokens = word_tokenize(text)\n",
    "    result = [word for word in tokens if word not in stop_words]\n",
    "    result = ' '.join(result)\n",
    "    return result"
   ]
  },
  {
   "cell_type": "markdown",
   "metadata": {},
   "source": [
    "* import Lemmatizer from nltk and download wordnet"
   ]
  },
  {
   "cell_type": "code",
   "execution_count": 24,
   "metadata": {
    "ExecuteTime": {
     "end_time": "2020-04-29T11:40:07.325675Z",
     "start_time": "2020-04-29T11:40:07.286398Z"
    }
   },
   "outputs": [],
   "source": []
  },
  {
   "cell_type": "markdown",
   "metadata": {},
   "source": [
    "* create function that Lemmatizing text"
   ]
  },
  {
   "cell_type": "code",
   "execution_count": 54,
   "metadata": {
    "ExecuteTime": {
     "end_time": "2020-04-29T11:40:07.408715Z",
     "start_time": "2020-04-29T11:40:07.397412Z"
    },
    "tags": []
   },
   "outputs": [],
   "source": [
    "from nltk.stem import WordNetLemmatizer\n",
    "\n",
    "def lemma(text):\n",
    "    lemmatizer = WordNetLemmatizer()\n",
    "    token = word_tokenize(text)\n",
    "    result = [lemmatizer.lemmatize(word) for word in token]\n",
    "    result = ' '.join(result)\n",
    "    return result"
   ]
  },
  {
   "cell_type": "markdown",
   "metadata": {},
   "source": [
    "* import Stemming from nltk"
   ]
  },
  {
   "cell_type": "code",
   "execution_count": 27,
   "metadata": {
    "ExecuteTime": {
     "end_time": "2020-04-29T11:40:07.467033Z",
     "start_time": "2020-04-29T11:40:07.457053Z"
    }
   },
   "outputs": [],
   "source": []
  },
  {
   "cell_type": "markdown",
   "metadata": {},
   "source": [
    "* define function thath Stemming text"
   ]
  },
  {
   "cell_type": "code",
   "execution_count": 72,
   "metadata": {
    "ExecuteTime": {
     "end_time": "2020-04-29T11:40:07.516026Z",
     "start_time": "2020-04-29T11:40:07.509217Z"
    },
    "tags": []
   },
   "outputs": [],
   "source": [
    "from nltk.stem import PorterStemmer\n",
    "\n",
    "def stemmer(text):\n",
    "    ps = PorterStemmer()\n",
    "    token = word_tokenize(text)\n",
    "    result = [ps.stem(word) for word in token]\n",
    "    result = ' '.join(result)\n",
    "    return result"
   ]
  },
  {
   "cell_type": "markdown",
   "metadata": {},
   "source": [
    "* define function 'preprocess' that applies all preprocessing steps we defined above (without Stemming and Lemmatizing) to text "
   ]
  },
  {
   "cell_type": "code",
   "execution_count": 76,
   "metadata": {
    "ExecuteTime": {
     "end_time": "2020-04-29T11:40:07.579774Z",
     "start_time": "2020-04-29T11:40:07.562065Z"
    }
   },
   "outputs": [],
   "source": [
    "def preprocess(text,stop_words):\n",
    "    result = remove_punct(text)\n",
    "    result = lower_case(result)\n",
    "    result = remove_stop(result,stop_words)\n",
    "    return result"
   ]
  },
  {
   "cell_type": "markdown",
   "metadata": {},
   "source": [
    "* create a new column in dataset with neame 'Review_clean' and store there preprocessed reviews"
   ]
  },
  {
   "cell_type": "code",
   "execution_count": 77,
   "metadata": {
    "ExecuteTime": {
     "end_time": "2020-04-29T11:40:09.529347Z",
     "start_time": "2020-04-29T11:40:07.810861Z"
    },
    "tags": []
   },
   "outputs": [],
   "source": [
    "dataset['Review_clean'] = dataset.Review.apply(lambda x: preprocess(x,stop_words))"
   ]
  },
  {
   "cell_type": "markdown",
   "metadata": {},
   "source": [
    "* print top 10 rows of dataset"
   ]
  },
  {
   "cell_type": "code",
   "execution_count": 78,
   "metadata": {
    "ExecuteTime": {
     "end_time": "2020-04-29T11:40:09.595017Z",
     "start_time": "2020-04-29T11:40:09.579025Z"
    }
   },
   "outputs": [
    {
     "output_type": "execute_result",
     "data": {
      "text/plain": "                                              Review  Liked  \\\n0                           Wow... Loved this place.      1   \n1                                 Crust is not good.      0   \n2          Not tasty and the texture was just nasty.      0   \n3  Stopped by during the late May bank holiday of...      1   \n4  The selection on the menu was great and so wer...      1   \n5     Now I am getting angry and I want my damn pho.      0   \n6              Honeslty it didn't taste THAT fresh.)      0   \n7  The potatoes were like rubber and you could te...      0   \n8                          The fries were great too.      1   \n9                                     A great touch.      1   \n\n                                        Review_clean  \n0                                    wow loved place  \n1                                         crust good  \n2                                tasty texture nasty  \n3  stopped late may bank holiday rick steve recom...  \n4                        selection menu great prices  \n5                        getting angry want damn pho  \n6                         honeslty didnt taste fresh  \n7  potatoes like rubber could tell made ahead tim...  \n8                                        fries great  \n9                                        great touch  ",
      "text/html": "<div>\n<style scoped>\n    .dataframe tbody tr th:only-of-type {\n        vertical-align: middle;\n    }\n\n    .dataframe tbody tr th {\n        vertical-align: top;\n    }\n\n    .dataframe thead th {\n        text-align: right;\n    }\n</style>\n<table border=\"1\" class=\"dataframe\">\n  <thead>\n    <tr style=\"text-align: right;\">\n      <th></th>\n      <th>Review</th>\n      <th>Liked</th>\n      <th>Review_clean</th>\n    </tr>\n  </thead>\n  <tbody>\n    <tr>\n      <th>0</th>\n      <td>Wow... Loved this place.</td>\n      <td>1</td>\n      <td>wow loved place</td>\n    </tr>\n    <tr>\n      <th>1</th>\n      <td>Crust is not good.</td>\n      <td>0</td>\n      <td>crust good</td>\n    </tr>\n    <tr>\n      <th>2</th>\n      <td>Not tasty and the texture was just nasty.</td>\n      <td>0</td>\n      <td>tasty texture nasty</td>\n    </tr>\n    <tr>\n      <th>3</th>\n      <td>Stopped by during the late May bank holiday of...</td>\n      <td>1</td>\n      <td>stopped late may bank holiday rick steve recom...</td>\n    </tr>\n    <tr>\n      <th>4</th>\n      <td>The selection on the menu was great and so wer...</td>\n      <td>1</td>\n      <td>selection menu great prices</td>\n    </tr>\n    <tr>\n      <th>5</th>\n      <td>Now I am getting angry and I want my damn pho.</td>\n      <td>0</td>\n      <td>getting angry want damn pho</td>\n    </tr>\n    <tr>\n      <th>6</th>\n      <td>Honeslty it didn't taste THAT fresh.)</td>\n      <td>0</td>\n      <td>honeslty didnt taste fresh</td>\n    </tr>\n    <tr>\n      <th>7</th>\n      <td>The potatoes were like rubber and you could te...</td>\n      <td>0</td>\n      <td>potatoes like rubber could tell made ahead tim...</td>\n    </tr>\n    <tr>\n      <th>8</th>\n      <td>The fries were great too.</td>\n      <td>1</td>\n      <td>fries great</td>\n    </tr>\n    <tr>\n      <th>9</th>\n      <td>A great touch.</td>\n      <td>1</td>\n      <td>great touch</td>\n    </tr>\n  </tbody>\n</table>\n</div>"
     },
     "metadata": {},
     "execution_count": 78
    }
   ],
   "source": [
    "dataset[:10]"
   ]
  },
  {
   "cell_type": "markdown",
   "metadata": {},
   "source": [
    "* apply lemmatizer defined above on 'Review_clen' column of the dataset.\n",
    "* store the result in 'Lemmatized' column"
   ]
  },
  {
   "cell_type": "code",
   "execution_count": 79,
   "metadata": {
    "ExecuteTime": {
     "end_time": "2020-04-29T11:40:11.380853Z",
     "start_time": "2020-04-29T11:40:09.630497Z"
    }
   },
   "outputs": [],
   "source": [
    "dataset['Lematized'] = dataset.Review_clean.apply(lambda x: lemma(x))"
   ]
  },
  {
   "cell_type": "markdown",
   "metadata": {},
   "source": [
    "* print top 10 rows of dataset"
   ]
  },
  {
   "cell_type": "code",
   "execution_count": 80,
   "metadata": {},
   "outputs": [
    {
     "output_type": "execute_result",
     "data": {
      "text/plain": "                                              Review  Liked  \\\n0                           Wow... Loved this place.      1   \n1                                 Crust is not good.      0   \n2          Not tasty and the texture was just nasty.      0   \n3  Stopped by during the late May bank holiday of...      1   \n4  The selection on the menu was great and so wer...      1   \n5     Now I am getting angry and I want my damn pho.      0   \n6              Honeslty it didn't taste THAT fresh.)      0   \n7  The potatoes were like rubber and you could te...      0   \n8                          The fries were great too.      1   \n9                                     A great touch.      1   \n\n                                        Review_clean  \\\n0                                    wow loved place   \n1                                         crust good   \n2                                tasty texture nasty   \n3  stopped late may bank holiday rick steve recom...   \n4                        selection menu great prices   \n5                        getting angry want damn pho   \n6                         honeslty didnt taste fresh   \n7  potatoes like rubber could tell made ahead tim...   \n8                                        fries great   \n9                                        great touch   \n\n                                           Lematized  \n0                                    wow loved place  \n1                                         crust good  \n2                                tasty texture nasty  \n3  stopped late may bank holiday rick steve recom...  \n4                         selection menu great price  \n5                        getting angry want damn pho  \n6                         honeslty didnt taste fresh  \n7  potato like rubber could tell made ahead time ...  \n8                                          fry great  \n9                                        great touch  ",
      "text/html": "<div>\n<style scoped>\n    .dataframe tbody tr th:only-of-type {\n        vertical-align: middle;\n    }\n\n    .dataframe tbody tr th {\n        vertical-align: top;\n    }\n\n    .dataframe thead th {\n        text-align: right;\n    }\n</style>\n<table border=\"1\" class=\"dataframe\">\n  <thead>\n    <tr style=\"text-align: right;\">\n      <th></th>\n      <th>Review</th>\n      <th>Liked</th>\n      <th>Review_clean</th>\n      <th>Lematized</th>\n    </tr>\n  </thead>\n  <tbody>\n    <tr>\n      <th>0</th>\n      <td>Wow... Loved this place.</td>\n      <td>1</td>\n      <td>wow loved place</td>\n      <td>wow loved place</td>\n    </tr>\n    <tr>\n      <th>1</th>\n      <td>Crust is not good.</td>\n      <td>0</td>\n      <td>crust good</td>\n      <td>crust good</td>\n    </tr>\n    <tr>\n      <th>2</th>\n      <td>Not tasty and the texture was just nasty.</td>\n      <td>0</td>\n      <td>tasty texture nasty</td>\n      <td>tasty texture nasty</td>\n    </tr>\n    <tr>\n      <th>3</th>\n      <td>Stopped by during the late May bank holiday of...</td>\n      <td>1</td>\n      <td>stopped late may bank holiday rick steve recom...</td>\n      <td>stopped late may bank holiday rick steve recom...</td>\n    </tr>\n    <tr>\n      <th>4</th>\n      <td>The selection on the menu was great and so wer...</td>\n      <td>1</td>\n      <td>selection menu great prices</td>\n      <td>selection menu great price</td>\n    </tr>\n    <tr>\n      <th>5</th>\n      <td>Now I am getting angry and I want my damn pho.</td>\n      <td>0</td>\n      <td>getting angry want damn pho</td>\n      <td>getting angry want damn pho</td>\n    </tr>\n    <tr>\n      <th>6</th>\n      <td>Honeslty it didn't taste THAT fresh.)</td>\n      <td>0</td>\n      <td>honeslty didnt taste fresh</td>\n      <td>honeslty didnt taste fresh</td>\n    </tr>\n    <tr>\n      <th>7</th>\n      <td>The potatoes were like rubber and you could te...</td>\n      <td>0</td>\n      <td>potatoes like rubber could tell made ahead tim...</td>\n      <td>potato like rubber could tell made ahead time ...</td>\n    </tr>\n    <tr>\n      <th>8</th>\n      <td>The fries were great too.</td>\n      <td>1</td>\n      <td>fries great</td>\n      <td>fry great</td>\n    </tr>\n    <tr>\n      <th>9</th>\n      <td>A great touch.</td>\n      <td>1</td>\n      <td>great touch</td>\n      <td>great touch</td>\n    </tr>\n  </tbody>\n</table>\n</div>"
     },
     "metadata": {},
     "execution_count": 80
    }
   ],
   "source": [
    "dataset[:10]"
   ]
  },
  {
   "cell_type": "code",
   "execution_count": null,
   "metadata": {
    "ExecuteTime": {
     "end_time": "2020-04-29T11:40:11.433810Z",
     "start_time": "2020-04-29T11:40:11.421811Z"
    }
   },
   "outputs": [],
   "source": []
  },
  {
   "cell_type": "markdown",
   "metadata": {},
   "source": [
    "* apply stemmer defined above on 'Review_clen' column of the dataset.\n",
    "* store the result in 'Stemmed' column"
   ]
  },
  {
   "cell_type": "code",
   "execution_count": 81,
   "metadata": {
    "ExecuteTime": {
     "end_time": "2020-04-29T11:40:11.677728Z",
     "start_time": "2020-04-29T11:40:11.472960Z"
    }
   },
   "outputs": [],
   "source": [
    "dataset['Stemmed'] = dataset.Review_clean.apply(lambda x: stemmer(x))"
   ]
  },
  {
   "cell_type": "markdown",
   "metadata": {},
   "source": [
    "* print top 10 rows of dataset"
   ]
  },
  {
   "cell_type": "code",
   "execution_count": 82,
   "metadata": {
    "ExecuteTime": {
     "end_time": "2020-04-29T11:40:11.779253Z",
     "start_time": "2020-04-29T11:40:11.742611Z"
    }
   },
   "outputs": [
    {
     "output_type": "execute_result",
     "data": {
      "text/plain": "                                              Review  Liked  \\\n0                           Wow... Loved this place.      1   \n1                                 Crust is not good.      0   \n2          Not tasty and the texture was just nasty.      0   \n3  Stopped by during the late May bank holiday of...      1   \n4  The selection on the menu was great and so wer...      1   \n5     Now I am getting angry and I want my damn pho.      0   \n6              Honeslty it didn't taste THAT fresh.)      0   \n7  The potatoes were like rubber and you could te...      0   \n8                          The fries were great too.      1   \n9                                     A great touch.      1   \n\n                                        Review_clean  \\\n0                                    wow loved place   \n1                                         crust good   \n2                                tasty texture nasty   \n3  stopped late may bank holiday rick steve recom...   \n4                        selection menu great prices   \n5                        getting angry want damn pho   \n6                         honeslty didnt taste fresh   \n7  potatoes like rubber could tell made ahead tim...   \n8                                        fries great   \n9                                        great touch   \n\n                                           Lematized  \\\n0                                    wow loved place   \n1                                         crust good   \n2                                tasty texture nasty   \n3  stopped late may bank holiday rick steve recom...   \n4                         selection menu great price   \n5                        getting angry want damn pho   \n6                         honeslty didnt taste fresh   \n7  potato like rubber could tell made ahead time ...   \n8                                          fry great   \n9                                        great touch   \n\n                                             Stemmed  \n0                                     wow love place  \n1                                         crust good  \n2                                 tasti textur nasti  \n3  stop late may bank holiday rick steve recommen...  \n4                            select menu great price  \n5                            get angri want damn pho  \n6                          honeslti didnt tast fresh  \n7  potato like rubber could tell made ahead time ...  \n8                                          fri great  \n9                                        great touch  ",
      "text/html": "<div>\n<style scoped>\n    .dataframe tbody tr th:only-of-type {\n        vertical-align: middle;\n    }\n\n    .dataframe tbody tr th {\n        vertical-align: top;\n    }\n\n    .dataframe thead th {\n        text-align: right;\n    }\n</style>\n<table border=\"1\" class=\"dataframe\">\n  <thead>\n    <tr style=\"text-align: right;\">\n      <th></th>\n      <th>Review</th>\n      <th>Liked</th>\n      <th>Review_clean</th>\n      <th>Lematized</th>\n      <th>Stemmed</th>\n    </tr>\n  </thead>\n  <tbody>\n    <tr>\n      <th>0</th>\n      <td>Wow... Loved this place.</td>\n      <td>1</td>\n      <td>wow loved place</td>\n      <td>wow loved place</td>\n      <td>wow love place</td>\n    </tr>\n    <tr>\n      <th>1</th>\n      <td>Crust is not good.</td>\n      <td>0</td>\n      <td>crust good</td>\n      <td>crust good</td>\n      <td>crust good</td>\n    </tr>\n    <tr>\n      <th>2</th>\n      <td>Not tasty and the texture was just nasty.</td>\n      <td>0</td>\n      <td>tasty texture nasty</td>\n      <td>tasty texture nasty</td>\n      <td>tasti textur nasti</td>\n    </tr>\n    <tr>\n      <th>3</th>\n      <td>Stopped by during the late May bank holiday of...</td>\n      <td>1</td>\n      <td>stopped late may bank holiday rick steve recom...</td>\n      <td>stopped late may bank holiday rick steve recom...</td>\n      <td>stop late may bank holiday rick steve recommen...</td>\n    </tr>\n    <tr>\n      <th>4</th>\n      <td>The selection on the menu was great and so wer...</td>\n      <td>1</td>\n      <td>selection menu great prices</td>\n      <td>selection menu great price</td>\n      <td>select menu great price</td>\n    </tr>\n    <tr>\n      <th>5</th>\n      <td>Now I am getting angry and I want my damn pho.</td>\n      <td>0</td>\n      <td>getting angry want damn pho</td>\n      <td>getting angry want damn pho</td>\n      <td>get angri want damn pho</td>\n    </tr>\n    <tr>\n      <th>6</th>\n      <td>Honeslty it didn't taste THAT fresh.)</td>\n      <td>0</td>\n      <td>honeslty didnt taste fresh</td>\n      <td>honeslty didnt taste fresh</td>\n      <td>honeslti didnt tast fresh</td>\n    </tr>\n    <tr>\n      <th>7</th>\n      <td>The potatoes were like rubber and you could te...</td>\n      <td>0</td>\n      <td>potatoes like rubber could tell made ahead tim...</td>\n      <td>potato like rubber could tell made ahead time ...</td>\n      <td>potato like rubber could tell made ahead time ...</td>\n    </tr>\n    <tr>\n      <th>8</th>\n      <td>The fries were great too.</td>\n      <td>1</td>\n      <td>fries great</td>\n      <td>fry great</td>\n      <td>fri great</td>\n    </tr>\n    <tr>\n      <th>9</th>\n      <td>A great touch.</td>\n      <td>1</td>\n      <td>great touch</td>\n      <td>great touch</td>\n      <td>great touch</td>\n    </tr>\n  </tbody>\n</table>\n</div>"
     },
     "metadata": {},
     "execution_count": 82
    }
   ],
   "source": [
    "dataset[:10]"
   ]
  },
  {
   "cell_type": "code",
   "execution_count": null,
   "metadata": {},
   "outputs": [],
   "source": []
  }
 ],
 "metadata": {
  "kernelspec": {
   "display_name": "Python 3",
   "language": "python",
   "name": "python3"
  },
  "language_info": {
   "codemirror_mode": {
    "name": "ipython",
    "version": 3
   },
   "file_extension": ".py",
   "mimetype": "text/x-python",
   "name": "python",
   "nbconvert_exporter": "python",
   "pygments_lexer": "ipython3",
   "version": "3.8.5-final"
  },
  "toc": {
   "base_numbering": 1,
   "nav_menu": {},
   "number_sections": true,
   "sideBar": true,
   "skip_h1_title": false,
   "title_cell": "Table of Contents",
   "title_sidebar": "Contents",
   "toc_cell": false,
   "toc_position": {},
   "toc_section_display": true,
   "toc_window_display": false
  },
  "varInspector": {
   "cols": {
    "lenName": 16,
    "lenType": 16,
    "lenVar": 40
   },
   "kernels_config": {
    "python": {
     "delete_cmd_postfix": "",
     "delete_cmd_prefix": "del ",
     "library": "var_list.py",
     "varRefreshCmd": "print(var_dic_list())"
    },
    "r": {
     "delete_cmd_postfix": ") ",
     "delete_cmd_prefix": "rm(",
     "library": "var_list.r",
     "varRefreshCmd": "cat(var_dic_list()) "
    }
   },
   "types_to_exclude": [
    "module",
    "function",
    "builtin_function_or_method",
    "instance",
    "_Feature"
   ],
   "window_display": false
  }
 },
 "nbformat": 4,
 "nbformat_minor": 2
}