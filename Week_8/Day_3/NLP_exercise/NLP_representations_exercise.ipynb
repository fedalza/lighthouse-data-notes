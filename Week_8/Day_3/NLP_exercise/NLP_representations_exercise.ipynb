{
 "cells": [
  {
   "cell_type": "code",
   "execution_count": 1,
   "metadata": {
    "ExecuteTime": {
     "end_time": "2020-04-29T11:51:43.258793Z",
     "start_time": "2020-04-29T11:51:41.366305Z"
    }
   },
   "outputs": [],
   "source": [
    "# import pandas\n",
    "import pandas as pd\n",
    " \n",
    "# import TfidfTransformer from sklearn\n",
    "from sklearn.feature_extraction.text import TfidfTransformer\n",
    "\n",
    "# import CountVectorizer\n",
    "from sklearn.feature_extraction.text import CountVectorizer"
   ]
  },
  {
   "cell_type": "code",
   "execution_count": 2,
   "metadata": {
    "ExecuteTime": {
     "end_time": "2020-04-29T11:51:43.330665Z",
     "start_time": "2020-04-29T11:51:43.323466Z"
    }
   },
   "outputs": [],
   "source": [
    "docs=[\"the house had a tiny little mouse\",\n",
    "      \"the cat saw the mouse\",\n",
    "      \"the mouse ran away from the house\",\n",
    "      \"the cat finally ate the mouse\",\n",
    "      \"the end of the mouse story\"\n",
    "     ]"
   ]
  },
  {
   "cell_type": "markdown",
   "metadata": {},
   "source": [
    "# BagOfWords"
   ]
  },
  {
   "cell_type": "markdown",
   "metadata": {},
   "source": [
    "* instantiate CountVectorizer()"
   ]
  },
  {
   "cell_type": "code",
   "execution_count": 3,
   "metadata": {
    "ExecuteTime": {
     "end_time": "2020-04-29T11:51:43.378235Z",
     "start_time": "2020-04-29T11:51:43.372289Z"
    }
   },
   "outputs": [],
   "source": [
    "ct_vector = CountVectorizer()"
   ]
  },
  {
   "cell_type": "markdown",
   "metadata": {},
   "source": [
    "* use fit_transform method of CountVectorizer to 'docs' and store the result in 'word_count_vector'"
   ]
  },
  {
   "cell_type": "code",
   "execution_count": 6,
   "metadata": {
    "ExecuteTime": {
     "end_time": "2020-04-29T11:51:43.441701Z",
     "start_time": "2020-04-29T11:51:43.434785Z"
    },
    "tags": []
   },
   "outputs": [],
   "source": [
    "word_count_vector = ct_vector.fit_transform(docs)"
   ]
  },
  {
   "cell_type": "markdown",
   "metadata": {},
   "source": [
    "* print the shape "
   ]
  },
  {
   "cell_type": "code",
   "execution_count": 7,
   "metadata": {
    "ExecuteTime": {
     "end_time": "2020-04-29T11:51:43.648315Z",
     "start_time": "2020-04-29T11:51:43.618459Z"
    },
    "tags": []
   },
   "outputs": [
    {
     "output_type": "stream",
     "name": "stdout",
     "text": "(5, 16)\n"
    }
   ],
   "source": [
    "print(word_count_vector.shape)"
   ]
  },
  {
   "cell_type": "markdown",
   "metadata": {},
   "source": [
    "* create dataframe from word_count_vector"
   ]
  },
  {
   "cell_type": "code",
   "execution_count": 15,
   "metadata": {
    "tags": []
   },
   "outputs": [
    {
     "output_type": "stream",
     "name": "stdout",
     "text": "(0, 14)\t1\n  (0, 7)\t1\n  (0, 6)\t1\n  (0, 15)\t1\n  (0, 8)\t1\n  (0, 9)\t1\n  (1, 14)\t2\n  (1, 9)\t1\n  (1, 2)\t1\n  (1, 12)\t1\n  (2, 14)\t2\n  (2, 7)\t1\n  (2, 9)\t1\n  (2, 11)\t1\n  (2, 1)\t1\n  (2, 5)\t1\n  (3, 14)\t2\n  (3, 9)\t1\n  (3, 2)\t1\n  (3, 4)\t1\n  (3, 0)\t1\n  (4, 14)\t2\n  (4, 9)\t1\n  (4, 3)\t1\n  (4, 10)\t1\n  (4, 13)\t1\n"
    }
   ],
   "source": [
    "print(word_count_vector)"
   ]
  },
  {
   "cell_type": "code",
   "execution_count": 19,
   "metadata": {},
   "outputs": [
    {
     "output_type": "execute_result",
     "data": {
      "text/plain": "1"
     },
     "metadata": {},
     "execution_count": 19
    }
   ],
   "source": [
    "word_count_vector[0,14]"
   ]
  },
  {
   "cell_type": "code",
   "execution_count": 23,
   "metadata": {
    "ExecuteTime": {
     "end_time": "2020-04-29T11:51:43.763256Z",
     "start_time": "2020-04-29T11:51:43.711610Z"
    }
   },
   "outputs": [
    {
     "output_type": "execute_result",
     "data": {
      "text/plain": "   0   1   2   3   4   5   6   7   8   9   10  11  12  13  14  15\n0   0   0   0   0   0   0   1   1   1   1   0   0   0   0   1   1\n1   0   0   1   0   0   0   0   0   0   1   0   0   1   0   2   0\n2   0   1   0   0   0   1   0   1   0   1   0   1   0   0   2   0\n3   1   0   1   0   1   0   0   0   0   1   0   0   0   0   2   0\n4   0   0   0   1   0   0   0   0   0   1   1   0   0   1   2   0",
      "text/html": "<div>\n<style scoped>\n    .dataframe tbody tr th:only-of-type {\n        vertical-align: middle;\n    }\n\n    .dataframe tbody tr th {\n        vertical-align: top;\n    }\n\n    .dataframe thead th {\n        text-align: right;\n    }\n</style>\n<table border=\"1\" class=\"dataframe\">\n  <thead>\n    <tr style=\"text-align: right;\">\n      <th></th>\n      <th>0</th>\n      <th>1</th>\n      <th>2</th>\n      <th>3</th>\n      <th>4</th>\n      <th>5</th>\n      <th>6</th>\n      <th>7</th>\n      <th>8</th>\n      <th>9</th>\n      <th>10</th>\n      <th>11</th>\n      <th>12</th>\n      <th>13</th>\n      <th>14</th>\n      <th>15</th>\n    </tr>\n  </thead>\n  <tbody>\n    <tr>\n      <th>0</th>\n      <td>0</td>\n      <td>0</td>\n      <td>0</td>\n      <td>0</td>\n      <td>0</td>\n      <td>0</td>\n      <td>1</td>\n      <td>1</td>\n      <td>1</td>\n      <td>1</td>\n      <td>0</td>\n      <td>0</td>\n      <td>0</td>\n      <td>0</td>\n      <td>1</td>\n      <td>1</td>\n    </tr>\n    <tr>\n      <th>1</th>\n      <td>0</td>\n      <td>0</td>\n      <td>1</td>\n      <td>0</td>\n      <td>0</td>\n      <td>0</td>\n      <td>0</td>\n      <td>0</td>\n      <td>0</td>\n      <td>1</td>\n      <td>0</td>\n      <td>0</td>\n      <td>1</td>\n      <td>0</td>\n      <td>2</td>\n      <td>0</td>\n    </tr>\n    <tr>\n      <th>2</th>\n      <td>0</td>\n      <td>1</td>\n      <td>0</td>\n      <td>0</td>\n      <td>0</td>\n      <td>1</td>\n      <td>0</td>\n      <td>1</td>\n      <td>0</td>\n      <td>1</td>\n      <td>0</td>\n      <td>1</td>\n      <td>0</td>\n      <td>0</td>\n      <td>2</td>\n      <td>0</td>\n    </tr>\n    <tr>\n      <th>3</th>\n      <td>1</td>\n      <td>0</td>\n      <td>1</td>\n      <td>0</td>\n      <td>1</td>\n      <td>0</td>\n      <td>0</td>\n      <td>0</td>\n      <td>0</td>\n      <td>1</td>\n      <td>0</td>\n      <td>0</td>\n      <td>0</td>\n      <td>0</td>\n      <td>2</td>\n      <td>0</td>\n    </tr>\n    <tr>\n      <th>4</th>\n      <td>0</td>\n      <td>0</td>\n      <td>0</td>\n      <td>1</td>\n      <td>0</td>\n      <td>0</td>\n      <td>0</td>\n      <td>0</td>\n      <td>0</td>\n      <td>1</td>\n      <td>1</td>\n      <td>0</td>\n      <td>0</td>\n      <td>1</td>\n      <td>2</td>\n      <td>0</td>\n    </tr>\n  </tbody>\n</table>\n</div>"
     },
     "metadata": {},
     "execution_count": 23
    }
   ],
   "source": [
    "import numpy as np\n",
    "df = pd.DataFrame(0, index=np.arange(word_count_vector.shape[0]), columns=np.arange(word_count_vector.shape[1]))\n",
    "for i in range(word_count_vector.shape[0]):\n",
    "    for j in range(word_count_vector.shape[1]):\n",
    "        df.iloc[i,j] = word_count_vector[i,j]\n",
    "df.head()"
   ]
  },
  {
   "cell_type": "markdown",
   "metadata": {},
   "source": [
    "# TfIdf with TfidfTransformer"
   ]
  },
  {
   "cell_type": "markdown",
   "metadata": {},
   "source": [
    "* instantiate TfidfTransformer() with following params: \n",
    "* smooth_idf=True\n",
    "* use_idf=True"
   ]
  },
  {
   "cell_type": "code",
   "execution_count": 24,
   "metadata": {
    "ExecuteTime": {
     "end_time": "2020-04-29T11:51:43.947051Z",
     "start_time": "2020-04-29T11:51:43.937473Z"
    }
   },
   "outputs": [],
   "source": [
    "tfidf = TfidfTransformer(smooth_idf=True, use_idf=True)"
   ]
  },
  {
   "cell_type": "markdown",
   "metadata": {},
   "source": [
    "* use fit_transform method of tfidf transformer on 'word_count_vector' created above and store the result in 'tf_idf_data'"
   ]
  },
  {
   "cell_type": "code",
   "execution_count": 28,
   "metadata": {
    "ExecuteTime": {
     "end_time": "2020-04-29T11:51:44.219725Z",
     "start_time": "2020-04-29T11:51:44.210564Z"
    }
   },
   "outputs": [],
   "source": [
    "tf_idf_data = tfidf.fit_transform(word_count_vector)"
   ]
  },
  {
   "cell_type": "markdown",
   "metadata": {},
   "source": [
    "* create dataframe from 'tf_idf_data'"
   ]
  },
  {
   "cell_type": "code",
   "execution_count": 43,
   "metadata": {
    "ExecuteTime": {
     "end_time": "2020-04-29T11:51:44.611451Z",
     "start_time": "2020-04-29T11:51:44.567841Z"
    },
    "tags": []
   },
   "outputs": [],
   "source": [
    "df2 = pd.DataFrame(0, index=np.arange(word_count_vector.shape[0]), columns=np.arange(word_count_vector.shape[1]))\n",
    "for i in range(tf_idf_data.shape[0]):\n",
    "    for j in range(tf_idf_data.shape[1]):\n",
    "        df2.iloc[i,j] = tf_idf_data[i,j]"
   ]
  },
  {
   "cell_type": "markdown",
   "metadata": {},
   "source": [
    "* print IDF for words in 'docs'"
   ]
  },
  {
   "cell_type": "code",
   "execution_count": 33,
   "metadata": {
    "ExecuteTime": {
     "end_time": "2020-04-29T11:51:44.976460Z",
     "start_time": "2020-04-29T11:51:44.961809Z"
    }
   },
   "outputs": [
    {
     "output_type": "execute_result",
     "data": {
      "text/plain": "         0         1         2         3         4         5         6   \\\n0  0.000000  0.000000  0.000000  0.000000  0.000000  0.000000  0.493562   \n1  0.000000  0.000000  0.483344  0.000000  0.000000  0.000000  0.000000   \n2  0.000000  0.457093  0.000000  0.000000  0.000000  0.457093  0.000000   \n3  0.513923  0.000000  0.414630  0.000000  0.513923  0.000000  0.000000   \n4  0.000000  0.000000  0.000000  0.491753  0.000000  0.000000  0.000000   \n\n         7         8         9         10        11        12        13  \\\n0  0.398203  0.493562  0.235185  0.000000  0.000000  0.000000  0.000000   \n1  0.000000  0.000000  0.285471  0.000000  0.000000  0.599092  0.000000   \n2  0.368780  0.000000  0.217807  0.000000  0.457093  0.000000  0.000000   \n3  0.000000  0.000000  0.244887  0.000000  0.000000  0.000000  0.000000   \n4  0.000000  0.000000  0.234323  0.491753  0.000000  0.000000  0.491753   \n\n         14        15  \n0  0.235185  0.493562  \n1  0.570941  0.000000  \n2  0.435614  0.000000  \n3  0.489774  0.000000  \n4  0.468646  0.000000  ",
      "text/html": "<div>\n<style scoped>\n    .dataframe tbody tr th:only-of-type {\n        vertical-align: middle;\n    }\n\n    .dataframe tbody tr th {\n        vertical-align: top;\n    }\n\n    .dataframe thead th {\n        text-align: right;\n    }\n</style>\n<table border=\"1\" class=\"dataframe\">\n  <thead>\n    <tr style=\"text-align: right;\">\n      <th></th>\n      <th>0</th>\n      <th>1</th>\n      <th>2</th>\n      <th>3</th>\n      <th>4</th>\n      <th>5</th>\n      <th>6</th>\n      <th>7</th>\n      <th>8</th>\n      <th>9</th>\n      <th>10</th>\n      <th>11</th>\n      <th>12</th>\n      <th>13</th>\n      <th>14</th>\n      <th>15</th>\n    </tr>\n  </thead>\n  <tbody>\n    <tr>\n      <th>0</th>\n      <td>0.000000</td>\n      <td>0.000000</td>\n      <td>0.000000</td>\n      <td>0.000000</td>\n      <td>0.000000</td>\n      <td>0.000000</td>\n      <td>0.493562</td>\n      <td>0.398203</td>\n      <td>0.493562</td>\n      <td>0.235185</td>\n      <td>0.000000</td>\n      <td>0.000000</td>\n      <td>0.000000</td>\n      <td>0.000000</td>\n      <td>0.235185</td>\n      <td>0.493562</td>\n    </tr>\n    <tr>\n      <th>1</th>\n      <td>0.000000</td>\n      <td>0.000000</td>\n      <td>0.483344</td>\n      <td>0.000000</td>\n      <td>0.000000</td>\n      <td>0.000000</td>\n      <td>0.000000</td>\n      <td>0.000000</td>\n      <td>0.000000</td>\n      <td>0.285471</td>\n      <td>0.000000</td>\n      <td>0.000000</td>\n      <td>0.599092</td>\n      <td>0.000000</td>\n      <td>0.570941</td>\n      <td>0.000000</td>\n    </tr>\n    <tr>\n      <th>2</th>\n      <td>0.000000</td>\n      <td>0.457093</td>\n      <td>0.000000</td>\n      <td>0.000000</td>\n      <td>0.000000</td>\n      <td>0.457093</td>\n      <td>0.000000</td>\n      <td>0.368780</td>\n      <td>0.000000</td>\n      <td>0.217807</td>\n      <td>0.000000</td>\n      <td>0.457093</td>\n      <td>0.000000</td>\n      <td>0.000000</td>\n      <td>0.435614</td>\n      <td>0.000000</td>\n    </tr>\n    <tr>\n      <th>3</th>\n      <td>0.513923</td>\n      <td>0.000000</td>\n      <td>0.414630</td>\n      <td>0.000000</td>\n      <td>0.513923</td>\n      <td>0.000000</td>\n      <td>0.000000</td>\n      <td>0.000000</td>\n      <td>0.000000</td>\n      <td>0.244887</td>\n      <td>0.000000</td>\n      <td>0.000000</td>\n      <td>0.000000</td>\n      <td>0.000000</td>\n      <td>0.489774</td>\n      <td>0.000000</td>\n    </tr>\n    <tr>\n      <th>4</th>\n      <td>0.000000</td>\n      <td>0.000000</td>\n      <td>0.000000</td>\n      <td>0.491753</td>\n      <td>0.000000</td>\n      <td>0.000000</td>\n      <td>0.000000</td>\n      <td>0.000000</td>\n      <td>0.000000</td>\n      <td>0.234323</td>\n      <td>0.491753</td>\n      <td>0.000000</td>\n      <td>0.000000</td>\n      <td>0.491753</td>\n      <td>0.468646</td>\n      <td>0.000000</td>\n    </tr>\n  </tbody>\n</table>\n</div>"
     },
     "metadata": {},
     "execution_count": 33
    }
   ],
   "source": [
    "\n",
    "df2.head()"
   ]
  },
  {
   "cell_type": "markdown",
   "metadata": {},
   "source": [
    "# TfIdf with TfidfVectorizer"
   ]
  },
  {
   "cell_type": "markdown",
   "metadata": {},
   "source": [
    "* import TfidfVectorizer"
   ]
  },
  {
   "cell_type": "code",
   "execution_count": 34,
   "metadata": {
    "ExecuteTime": {
     "end_time": "2020-04-29T11:51:45.544304Z",
     "start_time": "2020-04-29T11:51:45.540225Z"
    }
   },
   "outputs": [],
   "source": [
    "from sklearn.feature_extraction.text import TfidfVectorizer"
   ]
  },
  {
   "cell_type": "markdown",
   "metadata": {},
   "source": [
    "* instantiate TfidfVectorizer with use_idf=True"
   ]
  },
  {
   "cell_type": "code",
   "execution_count": 35,
   "metadata": {
    "ExecuteTime": {
     "end_time": "2020-04-29T11:51:45.941622Z",
     "start_time": "2020-04-29T11:51:45.938126Z"
    }
   },
   "outputs": [],
   "source": [
    "tfid_vec = TfidfVectorizer(use_idf=True)"
   ]
  },
  {
   "cell_type": "markdown",
   "metadata": {},
   "source": [
    "* fit and transforn 'docs' with TfidfVectorizer and store the result in 'tfidf_vectorizer_data'"
   ]
  },
  {
   "cell_type": "code",
   "execution_count": 36,
   "metadata": {
    "ExecuteTime": {
     "end_time": "2020-04-29T11:51:46.360608Z",
     "start_time": "2020-04-29T11:51:46.353499Z"
    }
   },
   "outputs": [],
   "source": [
    "tfidf_vectorizer_data = tfid_vec.fit_transform(docs)"
   ]
  },
  {
   "cell_type": "markdown",
   "metadata": {},
   "source": [
    "* create dataframe from tfidf_vectorizer_data"
   ]
  },
  {
   "cell_type": "code",
   "execution_count": 41,
   "metadata": {
    "ExecuteTime": {
     "end_time": "2020-04-29T11:51:46.751264Z",
     "start_time": "2020-04-29T11:51:46.740112Z"
    },
    "tags": []
   },
   "outputs": [],
   "source": [
    "df3 = pd.DataFrame(0, index=np.arange(tfidf_vectorizer_data.shape[0]), columns=np.arange(tfidf_vectorizer_data.shape[1]))\n",
    "for i in range(tfidf_vectorizer_data.shape[0]):\n",
    "    for j in range(tfidf_vectorizer_data.shape[1]):\n",
    "        df3.iloc[i,j] = tfidf_vectorizer_data[i,j]"
   ]
  },
  {
   "cell_type": "markdown",
   "metadata": {},
   "source": [
    "* print 'df_tf_idf'"
   ]
  },
  {
   "cell_type": "code",
   "execution_count": 42,
   "metadata": {
    "ExecuteTime": {
     "end_time": "2020-04-29T11:51:47.167149Z",
     "start_time": "2020-04-29T11:51:47.144059Z"
    }
   },
   "outputs": [
    {
     "output_type": "execute_result",
     "data": {
      "text/plain": "         0         1         2         3         4         5         6   \\\n0  0.000000  0.000000  0.000000  0.000000  0.000000  0.000000  0.493562   \n1  0.000000  0.000000  0.483344  0.000000  0.000000  0.000000  0.000000   \n2  0.000000  0.457093  0.000000  0.000000  0.000000  0.457093  0.000000   \n3  0.513923  0.000000  0.414630  0.000000  0.513923  0.000000  0.000000   \n4  0.000000  0.000000  0.000000  0.491753  0.000000  0.000000  0.000000   \n\n         7         8         9         10        11        12        13  \\\n0  0.398203  0.493562  0.235185  0.000000  0.000000  0.000000  0.000000   \n1  0.000000  0.000000  0.285471  0.000000  0.000000  0.599092  0.000000   \n2  0.368780  0.000000  0.217807  0.000000  0.457093  0.000000  0.000000   \n3  0.000000  0.000000  0.244887  0.000000  0.000000  0.000000  0.000000   \n4  0.000000  0.000000  0.234323  0.491753  0.000000  0.000000  0.491753   \n\n         14        15  \n0  0.235185  0.493562  \n1  0.570941  0.000000  \n2  0.435614  0.000000  \n3  0.489774  0.000000  \n4  0.468646  0.000000  ",
      "text/html": "<div>\n<style scoped>\n    .dataframe tbody tr th:only-of-type {\n        vertical-align: middle;\n    }\n\n    .dataframe tbody tr th {\n        vertical-align: top;\n    }\n\n    .dataframe thead th {\n        text-align: right;\n    }\n</style>\n<table border=\"1\" class=\"dataframe\">\n  <thead>\n    <tr style=\"text-align: right;\">\n      <th></th>\n      <th>0</th>\n      <th>1</th>\n      <th>2</th>\n      <th>3</th>\n      <th>4</th>\n      <th>5</th>\n      <th>6</th>\n      <th>7</th>\n      <th>8</th>\n      <th>9</th>\n      <th>10</th>\n      <th>11</th>\n      <th>12</th>\n      <th>13</th>\n      <th>14</th>\n      <th>15</th>\n    </tr>\n  </thead>\n  <tbody>\n    <tr>\n      <th>0</th>\n      <td>0.000000</td>\n      <td>0.000000</td>\n      <td>0.000000</td>\n      <td>0.000000</td>\n      <td>0.000000</td>\n      <td>0.000000</td>\n      <td>0.493562</td>\n      <td>0.398203</td>\n      <td>0.493562</td>\n      <td>0.235185</td>\n      <td>0.000000</td>\n      <td>0.000000</td>\n      <td>0.000000</td>\n      <td>0.000000</td>\n      <td>0.235185</td>\n      <td>0.493562</td>\n    </tr>\n    <tr>\n      <th>1</th>\n      <td>0.000000</td>\n      <td>0.000000</td>\n      <td>0.483344</td>\n      <td>0.000000</td>\n      <td>0.000000</td>\n      <td>0.000000</td>\n      <td>0.000000</td>\n      <td>0.000000</td>\n      <td>0.000000</td>\n      <td>0.285471</td>\n      <td>0.000000</td>\n      <td>0.000000</td>\n      <td>0.599092</td>\n      <td>0.000000</td>\n      <td>0.570941</td>\n      <td>0.000000</td>\n    </tr>\n    <tr>\n      <th>2</th>\n      <td>0.000000</td>\n      <td>0.457093</td>\n      <td>0.000000</td>\n      <td>0.000000</td>\n      <td>0.000000</td>\n      <td>0.457093</td>\n      <td>0.000000</td>\n      <td>0.368780</td>\n      <td>0.000000</td>\n      <td>0.217807</td>\n      <td>0.000000</td>\n      <td>0.457093</td>\n      <td>0.000000</td>\n      <td>0.000000</td>\n      <td>0.435614</td>\n      <td>0.000000</td>\n    </tr>\n    <tr>\n      <th>3</th>\n      <td>0.513923</td>\n      <td>0.000000</td>\n      <td>0.414630</td>\n      <td>0.000000</td>\n      <td>0.513923</td>\n      <td>0.000000</td>\n      <td>0.000000</td>\n      <td>0.000000</td>\n      <td>0.000000</td>\n      <td>0.244887</td>\n      <td>0.000000</td>\n      <td>0.000000</td>\n      <td>0.000000</td>\n      <td>0.000000</td>\n      <td>0.489774</td>\n      <td>0.000000</td>\n    </tr>\n    <tr>\n      <th>4</th>\n      <td>0.000000</td>\n      <td>0.000000</td>\n      <td>0.000000</td>\n      <td>0.491753</td>\n      <td>0.000000</td>\n      <td>0.000000</td>\n      <td>0.000000</td>\n      <td>0.000000</td>\n      <td>0.000000</td>\n      <td>0.234323</td>\n      <td>0.491753</td>\n      <td>0.000000</td>\n      <td>0.000000</td>\n      <td>0.491753</td>\n      <td>0.468646</td>\n      <td>0.000000</td>\n    </tr>\n  </tbody>\n</table>\n</div>"
     },
     "metadata": {},
     "execution_count": 42
    }
   ],
   "source": [
    "df3.head()"
   ]
  },
  {
   "cell_type": "markdown",
   "metadata": {},
   "source": [
    "* print IDF for words in 'docs'"
   ]
  },
  {
   "cell_type": "code",
   "execution_count": null,
   "metadata": {
    "ExecuteTime": {
     "end_time": "2020-04-29T11:51:47.540831Z",
     "start_time": "2020-04-29T11:51:47.518706Z"
    }
   },
   "outputs": [],
   "source": []
  }
 ],
 "metadata": {
  "kernelspec": {
   "display_name": "Python 3",
   "language": "python",
   "name": "python3"
  },
  "language_info": {
   "codemirror_mode": {
    "name": "ipython",
    "version": 3
   },
   "file_extension": ".py",
   "mimetype": "text/x-python",
   "name": "python",
   "nbconvert_exporter": "python",
   "pygments_lexer": "ipython3",
   "version": "3.8.5-final"
  },
  "toc": {
   "base_numbering": 1,
   "nav_menu": {},
   "number_sections": true,
   "sideBar": true,
   "skip_h1_title": false,
   "title_cell": "Table of Contents",
   "title_sidebar": "Contents",
   "toc_cell": false,
   "toc_position": {},
   "toc_section_display": true,
   "toc_window_display": false
  },
  "varInspector": {
   "cols": {
    "lenName": 16,
    "lenType": 16,
    "lenVar": 40
   },
   "kernels_config": {
    "python": {
     "delete_cmd_postfix": "",
     "delete_cmd_prefix": "del ",
     "library": "var_list.py",
     "varRefreshCmd": "print(var_dic_list())"
    },
    "r": {
     "delete_cmd_postfix": ") ",
     "delete_cmd_prefix": "rm(",
     "library": "var_list.r",
     "varRefreshCmd": "cat(var_dic_list()) "
    }
   },
   "types_to_exclude": [
    "module",
    "function",
    "builtin_function_or_method",
    "instance",
    "_Feature"
   ],
   "window_display": false
  }
 },
 "nbformat": 4,
 "nbformat_minor": 2
}