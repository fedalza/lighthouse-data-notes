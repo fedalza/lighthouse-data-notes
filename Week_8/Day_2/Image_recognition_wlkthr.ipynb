{
 "cells": [
  {
   "cell_type": "code",
   "execution_count": 1,
   "metadata": {},
   "outputs": [],
   "source": [
    "from tensorflow.keras.models import Sequential\n",
    "from tensorflow.keras.layers import Convolution2D, MaxPooling2D, Flatten, Dense"
   ]
  },
  {
   "cell_type": "code",
   "execution_count": 2,
   "metadata": {},
   "outputs": [],
   "source": [
    "# Initialising the CNN\n",
    "classifier = Sequential()\n",
    "\n",
    "# Step 1 - Convolution\n",
    "# Convolution2D(filter, Kernel_size, Strides, ...)\n",
    "classifier.add(Convolution2D(32,3,3, input_shape = (64,64,3), activation = 'relu'))\n",
    "# Step 2 - Pooling\n",
    "# pool_size to define a spatial neighborhood to take largest element from the rectified feature map within window\n",
    "classifier.add(MaxPooling2D(pool_size = (2,2)))\n",
    "# Step 3 - Flattening\n",
    "classifier.add(Flatten())\n",
    "# Step 4 - Full connection\n",
    "classifier.add(Dense(128,activation = 'relu'))\n",
    "classifier.add(Dense(1,activation = 'sigmoid'))\n",
    "\n",
    "classifier.compile(optimizer = 'adam', loss = 'binary_crossentropy', metrics = ['accuracy'])"
   ]
  },
  {
   "cell_type": "code",
   "execution_count": 3,
   "metadata": {},
   "outputs": [
    {
     "name": "stdout",
     "output_type": "stream",
     "text": [
      "Found 8000 images belonging to 2 classes.\n",
      "Found 2000 images belonging to 2 classes.\n"
     ]
    }
   ],
   "source": [
    "# Data augmentation\n",
    "from tensorflow.keras.preprocessing.image import ImageDataGenerator\n",
    "\n",
    "train_datagen = ImageDataGenerator(rescale = 1./255, shear_range = 0.2, zoom_range = 0.2, horizontal_flip = True)\n",
    "\n",
    "test_datagen = ImageDataGenerator(rescale = 1./255)\n",
    "\n",
    "training_set = train_datagen.flow_from_directory('dataset/training_set',\n",
    "                                                target_size = (64,64),\n",
    "                                                batch_size = 32,\n",
    "                                                class_mode = 'binary')\n",
    "\n",
    "test_set = train_datagen.flow_from_directory('dataset/test_set',\n",
    "                                            target_size = (64,64),\n",
    "                                            batch_size = 32,\n",
    "                                            class_mode = 'binary')"
   ]
  },
  {
   "cell_type": "code",
   "execution_count": 14,
   "metadata": {},
   "outputs": [
    {
     "name": "stdout",
     "output_type": "stream",
     "text": [
      "Epoch 1/20\n",
      "150/150 [==============================] - 69s 462ms/step - loss: 0.5808 - accuracy: 0.6956 - val_loss: 0.5750 - val_accuracy: 0.6945\n",
      "Epoch 2/20\n",
      "150/150 [==============================] - 58s 388ms/step - loss: 0.5719 - accuracy: 0.7038 - val_loss: 0.5787 - val_accuracy: 0.6975\n",
      "Epoch 3/20\n",
      "150/150 [==============================] - 53s 353ms/step - loss: 0.5596 - accuracy: 0.7104 - val_loss: 0.6028 - val_accuracy: 0.6720\n",
      "Epoch 4/20\n",
      "150/150 [==============================] - 51s 338ms/step - loss: 0.5506 - accuracy: 0.7142 - val_loss: 0.5606 - val_accuracy: 0.7175\n",
      "Epoch 5/20\n",
      "150/150 [==============================] - 49s 324ms/step - loss: 0.5497 - accuracy: 0.7158 - val_loss: 0.5520 - val_accuracy: 0.7295\n",
      "Epoch 6/20\n",
      "150/150 [==============================] - 49s 325ms/step - loss: 0.5292 - accuracy: 0.7315 - val_loss: 0.6068 - val_accuracy: 0.6750\n",
      "Epoch 7/20\n",
      "150/150 [==============================] - 48s 322ms/step - loss: 0.5284 - accuracy: 0.7337 - val_loss: 0.5794 - val_accuracy: 0.6865\n",
      "Epoch 8/20\n",
      "150/150 [==============================] - 49s 324ms/step - loss: 0.5228 - accuracy: 0.7444 - val_loss: 0.5378 - val_accuracy: 0.7250\n",
      "Epoch 9/20\n",
      "150/150 [==============================] - 49s 325ms/step - loss: 0.5198 - accuracy: 0.7419 - val_loss: 0.5489 - val_accuracy: 0.7175\n",
      "Epoch 10/20\n",
      "150/150 [==============================] - 48s 322ms/step - loss: 0.5166 - accuracy: 0.7410 - val_loss: 0.5376 - val_accuracy: 0.7290\n",
      "Epoch 11/20\n",
      "150/150 [==============================] - 48s 323ms/step - loss: 0.5118 - accuracy: 0.7502 - val_loss: 0.5423 - val_accuracy: 0.7370\n",
      "Epoch 12/20\n",
      "150/150 [==============================] - 48s 322ms/step - loss: 0.5018 - accuracy: 0.7592 - val_loss: 0.5322 - val_accuracy: 0.7435\n",
      "Epoch 13/20\n",
      "150/150 [==============================] - 48s 323ms/step - loss: 0.4962 - accuracy: 0.7573 - val_loss: 0.5156 - val_accuracy: 0.7495\n",
      "Epoch 14/20\n",
      "150/150 [==============================] - 49s 325ms/step - loss: 0.4916 - accuracy: 0.7590 - val_loss: 0.5172 - val_accuracy: 0.7530\n",
      "Epoch 15/20\n",
      "150/150 [==============================] - 49s 325ms/step - loss: 0.4785 - accuracy: 0.7667 - val_loss: 0.5464 - val_accuracy: 0.7375\n",
      "Epoch 16/20\n",
      "150/150 [==============================] - 48s 319ms/step - loss: 0.4847 - accuracy: 0.7673 - val_loss: 0.5193 - val_accuracy: 0.7400\n",
      "Epoch 17/20\n",
      "150/150 [==============================] - 48s 318ms/step - loss: 0.4731 - accuracy: 0.7715 - val_loss: 0.5268 - val_accuracy: 0.7510\n",
      "Epoch 18/20\n",
      "150/150 [==============================] - 49s 324ms/step - loss: 0.4645 - accuracy: 0.7752 - val_loss: 0.5005 - val_accuracy: 0.7675\n",
      "Epoch 19/20\n",
      "150/150 [==============================] - 49s 325ms/step - loss: 0.4745 - accuracy: 0.7671 - val_loss: 0.5127 - val_accuracy: 0.7550\n",
      "Epoch 20/20\n",
      "150/150 [==============================] - 49s 324ms/step - loss: 0.4738 - accuracy: 0.7715 - val_loss: 0.5005 - val_accuracy: 0.7560\n"
     ]
    }
   ],
   "source": [
    "# Training\n",
    "history = classifier.fit_generator(training_set, steps_per_epoch = 150, epochs = 20, validation_data = test_set)"
   ]
  },
  {
   "cell_type": "code",
   "execution_count": 15,
   "metadata": {},
   "outputs": [
    {
     "data": {
      "image/png": "[encoded data removed]",
      "text/plain": [
       "<Figure size 432x288 with 1 Axes>"
      ]
     },
     "metadata": {
      "needs_background": "light"
     },
     "output_type": "display_data"
    }
   ],
   "source": [
    "from matplotlib import pyplot as plt\n",
    "\n",
    "plt.plot(history.history['loss'],label='train')\n",
    "plt.plot(history.history['val_loss'],label='test')\n",
    "plt.legend()\n",
    "plt.show()"
   ]
  },
  {
   "cell_type": "code",
   "execution_count": 41,
   "metadata": {},
   "outputs": [
    {
     "name": "stdout",
     "output_type": "stream",
     "text": [
      "dog\n"
     ]
    }
   ],
   "source": [
    "import numpy\n",
    "from tensorflow.keras.preprocessing import image\n",
    "\n",
    "test_image = image.load_img('betty2.jpg', target_size = (64,64))\n",
    "# converting the image to a numpy array\n",
    "test_image = image.img_to_array(test_image)\n",
    "test_image = numpy.expand_dims(test_image, axis = 0)\n",
    "result = classifier.predict(test_image)\n",
    "\n",
    "# our cut-off\n",
    "if result[0][0] >= 0.5:\n",
    "    prediction = 'dog'\n",
    "else:\n",
    "    prediction = 'cat'\n",
    "print(prediction)"
   ]
  },
  {
   "cell_type": "code",
   "execution_count": 7,
   "metadata": {},
   "outputs": [
    {
     "name": "stdout",
     "output_type": "stream",
     "text": [
      "Saved model to disk\n"
     ]
    }
   ],
   "source": [
    "from tensorflow.keras.models import model_from_json\n",
    "import numpy\n",
    "import os\n",
    "\n",
    "# serialize model to JSON\n",
    "model_json = classifier.to_json()\n",
    "with open(\"model.json\", \"w\") as json_file:\n",
    "    json_file.write(model_json)\n",
    "# serialize weights to HDF5\n",
    "classifier.save_weights(\"model.h5\")\n",
    "print(\"Saved model to disk\")"
   ]
  },
  {
   "cell_type": "code",
   "execution_count": 1,
   "metadata": {},
   "outputs": [
    {
     "ename": "NameError",
     "evalue": "name 'loaded_model_json' is not defined",
     "output_type": "error",
     "traceback": [
      "\u001b[0;31m---------------------------------------------------------------------------\u001b[0m",
      "\u001b[0;31mNameError\u001b[0m                                 Traceback (most recent call last)",
      "\u001b[0;32m<ipython-input-1-4e65e77b74a6>\u001b[0m in \u001b[0;36m<module>\u001b[0;34m\u001b[0m\n\u001b[0;32m----> 1\u001b[0;31m \u001b[0mloaded_model_json\u001b[0m\u001b[0;34m\u001b[0m\u001b[0;34m\u001b[0m\u001b[0m\n\u001b[0m",
      "\u001b[0;31mNameError\u001b[0m: name 'loaded_model_json' is not defined"
     ]
    }
   ],
   "source": [
    "loaded_model_json"
   ]
  },
  {
   "cell_type": "code",
   "execution_count": 28,
   "metadata": {},
   "outputs": [
    {
     "name": "stdout",
     "output_type": "stream",
     "text": [
      "Loaded model from disk\n"
     ]
    }
   ],
   "source": [
    "# load json and create model\n",
    "json_file = open('model.json', 'r')\n",
    "loaded_model_json = json_file.read()\n",
    "json_file.close()\n",
    "#loaded_model = model_from_json(loaded_model_json)\n",
    "# load weights into new model\n",
    "loaded_model.load_weights(\"model.h5\")\n",
    "print(\"Loaded model from disk\")"
   ]
  },
  {
   "cell_type": "code",
   "execution_count": 30,
   "metadata": {},
   "outputs": [],
   "source": [
    "# evaluate loaded model on test data\n",
    "loaded_model.compile(optimizer = 'adam', loss = 'binary_crossentropy', metrics = ['accuracy'])"
   ]
  },
  {
   "cell_type": "code",
   "execution_count": 42,
   "metadata": {},
   "outputs": [
    {
     "name": "stdout",
     "output_type": "stream",
     "text": [
      "dog\n"
     ]
    }
   ],
   "source": [
    "result = loaded_model.predict(test_image)\n",
    "\n",
    "# our cut-off\n",
    "if result[0][0] >= 0.5:\n",
    "    prediction = 'dog'\n",
    "else:\n",
    "    prediction = 'cat'\n",
    "print(prediction)"
   ]
  },
  {
   "cell_type": "code",
   "execution_count": null,
   "metadata": {},
   "outputs": [],
   "source": []
  }
 ],
 "metadata": {
  "kernelspec": {
   "display_name": "Python 3",
   "language": "python",
   "name": "python3"
  },
  "language_info": {
   "codemirror_mode": {
    "name": "ipython",
    "version": 3
   },
   "file_extension": ".py",
   "mimetype": "text/x-python",
   "name": "python",
   "nbconvert_exporter": "python",
   "pygments_lexer": "ipython3",
   "version": "3.8.5"
  }
 },
 "nbformat": 4,
 "nbformat_minor": 4
}
