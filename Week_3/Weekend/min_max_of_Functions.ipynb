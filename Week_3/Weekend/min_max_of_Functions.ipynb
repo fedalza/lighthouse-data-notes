{
 "cells": [
  {
   "cell_type": "code",
   "execution_count": 1,
   "metadata": {},
   "outputs": [],
   "source": [
    "import scipy"
   ]
  },
  {
   "cell_type": "code",
   "execution_count": 2,
   "metadata": {},
   "outputs": [],
   "source": [
    "#help(scipy)"
   ]
  },
  {
   "cell_type": "code",
   "execution_count": 3,
   "metadata": {},
   "outputs": [],
   "source": [
    "from pathlib import Path\n",
    "import numpy as np\n",
    "from scipy.cluster.vq import whiten,kmeans,vq"
   ]
  },
  {
   "cell_type": "code",
   "execution_count": 4,
   "metadata": {},
   "outputs": [],
   "source": [
    "data = Path(\"SMSSpamCollection\").read_text()\n",
    "data = data.strip()\n",
    "data = data.split(\"\\n\")"
   ]
  },
  {
   "cell_type": "code",
   "execution_count": 7,
   "metadata": {},
   "outputs": [],
   "source": [
    "digit_counts = np.empty((len(data),2),dtype=int)"
   ]
  },
  {
   "cell_type": "code",
   "execution_count": 13,
   "metadata": {},
   "outputs": [],
   "source": [
    "for i,line in enumerate(data):\n",
    "    case,message = line.split(\"\\t\")\n",
    "    num_digits = sum(c.isdigit() for c in message)\n",
    "    digit_counts[i,0] = 0 if case == 'ham' else 1\n",
    "    digit_counts[i,1] = num_digits"
   ]
  },
  {
   "cell_type": "code",
   "execution_count": 14,
   "metadata": {},
   "outputs": [],
   "source": [
    "unique_counts = np.unique(digit_counts[:,1], return_counts=True)"
   ]
  },
  {
   "cell_type": "code",
   "execution_count": 15,
   "metadata": {},
   "outputs": [
    {
     "data": {
      "text/plain": [
       "(array([ 0,  1,  2,  3,  4,  5,  6,  7,  8,  9, 10, 11, 12, 13, 14, 15, 16,\n",
       "        17, 18, 19, 20, 21, 22, 23, 24, 25, 26, 27, 28, 29, 30, 31, 32, 33,\n",
       "        34, 35, 36, 37, 40, 41, 47]),\n",
       " array([4110,  486,  160,   78,   42,   39,   16,   14,   28,   17,   16,\n",
       "          34,   30,   31,   37,   29,   35,   33,   41,   47,   18,   31,\n",
       "          28,   36,   34,   16,   16,   13,   19,    9,    2,    6,    3,\n",
       "           4,    3,    4,    1,    1,    4,    2,    1], dtype=int64))"
      ]
     },
     "execution_count": 15,
     "metadata": {},
     "output_type": "execute_result"
    }
   ],
   "source": [
    "unique_counts"
   ]
  },
  {
   "cell_type": "code",
   "execution_count": 16,
   "metadata": {},
   "outputs": [
    {
     "data": {
      "text/plain": [
       "array([[   0, 4110],\n",
       "       [   1,  486],\n",
       "       [   2,  160],\n",
       "       [   3,   78],\n",
       "       [   4,   42],\n",
       "       [   5,   39],\n",
       "       [   6,   16],\n",
       "       [   7,   14],\n",
       "       [   8,   28],\n",
       "       [   9,   17],\n",
       "       [  10,   16],\n",
       "       [  11,   34],\n",
       "       [  12,   30],\n",
       "       [  13,   31],\n",
       "       [  14,   37],\n",
       "       [  15,   29],\n",
       "       [  16,   35],\n",
       "       [  17,   33],\n",
       "       [  18,   41],\n",
       "       [  19,   47],\n",
       "       [  20,   18],\n",
       "       [  21,   31],\n",
       "       [  22,   28],\n",
       "       [  23,   36],\n",
       "       [  24,   34],\n",
       "       [  25,   16],\n",
       "       [  26,   16],\n",
       "       [  27,   13],\n",
       "       [  28,   19],\n",
       "       [  29,    9],\n",
       "       [  30,    2],\n",
       "       [  31,    6],\n",
       "       [  32,    3],\n",
       "       [  33,    4],\n",
       "       [  34,    3],\n",
       "       [  35,    4],\n",
       "       [  36,    1],\n",
       "       [  37,    1],\n",
       "       [  40,    4],\n",
       "       [  41,    2],\n",
       "       [  47,    1]], dtype=int64)"
      ]
     },
     "execution_count": 16,
     "metadata": {},
     "output_type": "execute_result"
    }
   ],
   "source": [
    "unique_counts = np.transpose(np.vstack(unique_counts))\n",
    "unique_counts"
   ]
  },
  {
   "cell_type": "code",
   "execution_count": 17,
   "metadata": {},
   "outputs": [],
   "source": [
    "whitened_counts = whiten(unique_counts)\n",
    "codebook, _ = kmeans(whitened_counts,3)"
   ]
  },
  {
   "cell_type": "code",
   "execution_count": 18,
   "metadata": {},
   "outputs": [],
   "source": [
    "codes, _ = vq(whitened_counts,codebook)"
   ]
  },
  {
   "cell_type": "code",
   "execution_count": 19,
   "metadata": {},
   "outputs": [],
   "source": [
    "ham_code = codes[0]\n",
    "spam_code = codes[-1]\n",
    "unknown_code = list(set(range(3))^set((ham_code,spam_code)))[0]"
   ]
  },
  {
   "cell_type": "code",
   "execution_count": 20,
   "metadata": {},
   "outputs": [
    {
     "name": "stdout",
     "output_type": "stream",
     "text": [
      "definitely ham: [   0 4110]\n",
      "definitely spam: [47  1]\n",
      "unknown: [20 18]\n"
     ]
    }
   ],
   "source": [
    "print(\"definitely ham:\", unique_counts[codes == ham_code][-1])\n",
    "print(\"definitely spam:\", unique_counts[codes == spam_code][-1])\n",
    "print(\"unknown:\", unique_counts[codes == unknown_code][-1])"
   ]
  },
  {
   "cell_type": "code",
   "execution_count": 21,
   "metadata": {},
   "outputs": [],
   "source": [
    "digits = digit_counts[:, 1]\n",
    "predicted_hams = digits == 0\n",
    "predicted_spams = digits > 20\n",
    "predicted_unknowns = np.logical_and(digits > 0, digits <= 20)"
   ]
  },
  {
   "cell_type": "code",
   "execution_count": 22,
   "metadata": {},
   "outputs": [],
   "source": [
    "spam_cluster = digit_counts[predicted_spams]\n",
    "ham_cluster = digit_counts[predicted_hams]\n",
    "unk_cluster = digit_counts[predicted_unknowns]"
   ]
  },
  {
   "cell_type": "code",
   "execution_count": 23,
   "metadata": {},
   "outputs": [
    {
     "name": "stdout",
     "output_type": "stream",
     "text": [
      "hams: (array([0, 1]), array([4071,   39], dtype=int64))\n",
      "spams: (array([0, 1]), array([  1, 232], dtype=int64))\n",
      "unknowns: (array([0, 1]), array([755, 476], dtype=int64))\n"
     ]
    }
   ],
   "source": [
    "print(\"hams:\", np.unique(ham_cluster[:, 0], return_counts=True))\n",
    "print(\"spams:\", np.unique(spam_cluster[:, 0], return_counts=True))\n",
    "print(\"unknowns:\", np.unique(unk_cluster[:, 0], return_counts=True))"
   ]
  },
  {
   "cell_type": "code",
   "execution_count": null,
   "metadata": {},
   "outputs": [],
   "source": []
  },
  {
   "cell_type": "code",
   "execution_count": null,
   "metadata": {},
   "outputs": [],
   "source": []
  },
  {
   "cell_type": "markdown",
   "metadata": {},
   "source": [
    "# Optimize Module in Scipy"
   ]
  },
  {
   "cell_type": "code",
   "execution_count": 29,
   "metadata": {},
   "outputs": [],
   "source": [
    "from scipy.optimize import minimize_scalar\n",
    "\n",
    "def objective_function(x):\n",
    "    return 3*x**4-2*x+1"
   ]
  },
  {
   "cell_type": "code",
   "execution_count": 30,
   "metadata": {},
   "outputs": [],
   "source": [
    "res = minimize_scalar(objective_function)"
   ]
  },
  {
   "cell_type": "code",
   "execution_count": 31,
   "metadata": {},
   "outputs": [
    {
     "data": {
      "text/plain": [
       "     fun: 0.17451818777634331\n",
       "    nfev: 16\n",
       "     nit: 12\n",
       " success: True\n",
       "       x: 0.5503212087491959"
      ]
     },
     "execution_count": 31,
     "metadata": {},
     "output_type": "execute_result"
    }
   ],
   "source": [
    "res"
   ]
  },
  {
   "cell_type": "code",
   "execution_count": 32,
   "metadata": {},
   "outputs": [],
   "source": [
    "def objective_function(x):\n",
    "    return x**4-x**2"
   ]
  },
  {
   "cell_type": "code",
   "execution_count": 33,
   "metadata": {},
   "outputs": [
    {
     "data": {
      "text/plain": [
       "     fun: -0.24999999999999994\n",
       "    nfev: 15\n",
       "     nit: 11\n",
       " success: True\n",
       "       x: 0.7071067853059209"
      ]
     },
     "execution_count": 33,
     "metadata": {},
     "output_type": "execute_result"
    }
   ],
   "source": [
    "res = minimize_scalar(objective_function)\n",
    "res"
   ]
  },
  {
   "cell_type": "code",
   "execution_count": 34,
   "metadata": {},
   "outputs": [
    {
     "data": {
      "text/plain": [
       "     fun: -0.24999999999999997\n",
       "    nfev: 17\n",
       "     nit: 13\n",
       " success: True\n",
       "       x: 0.7071067809244586"
      ]
     },
     "execution_count": 34,
     "metadata": {},
     "output_type": "execute_result"
    }
   ],
   "source": [
    "res = minimize_scalar(objective_function, bracket=(-1, 0))\n",
    "res"
   ]
  },
  {
   "cell_type": "code",
   "execution_count": 35,
   "metadata": {},
   "outputs": [
    {
     "data": {
      "text/plain": [
       "     fun: -0.24999999999998732\n",
       " message: 'Solution found.'\n",
       "    nfev: 10\n",
       "  status: 0\n",
       " success: True\n",
       "       x: -0.707106701474177"
      ]
     },
     "execution_count": 35,
     "metadata": {},
     "output_type": "execute_result"
    }
   ],
   "source": [
    "res = minimize_scalar(objective_function, method='bounded', bounds=(-1, 0))\n",
    "res"
   ]
  },
  {
   "cell_type": "code",
   "execution_count": 36,
   "metadata": {},
   "outputs": [],
   "source": [
    "import numpy as np\n",
    "from scipy.optimize import minimize, LinearConstraint\n",
    "\n",
    "n_buyers = 10\n",
    "n_shares = 15"
   ]
  },
  {
   "cell_type": "code",
   "execution_count": 37,
   "metadata": {},
   "outputs": [],
   "source": [
    "np.random.seed(10)\n",
    "prices = np.random.random(n_buyers)\n",
    "money_available = np.random.randint(1, 4, n_buyers)"
   ]
  },
  {
   "cell_type": "code",
   "execution_count": 38,
   "metadata": {},
   "outputs": [
    {
     "name": "stdout",
     "output_type": "stream",
     "text": [
      "[0.77132064 0.02075195 0.63364823 0.74880388 0.49850701 0.22479665\n",
      " 0.19806286 0.76053071 0.16911084 0.08833981]\n",
      "[1 1 1 3 1 3 3 2 1 1]\n",
      "[ 1.29647768 48.18824404  1.57816269  4.00638948  2.00598984 13.34539487\n",
      " 15.14670609  2.62974258  5.91328161 11.3199242 ]\n"
     ]
    }
   ],
   "source": [
    "n_shares_per_buyer = money_available / prices\n",
    "print(prices, money_available, n_shares_per_buyer, sep=\"\\n\")"
   ]
  },
  {
   "cell_type": "code",
   "execution_count": 39,
   "metadata": {},
   "outputs": [],
   "source": [
    "constraint = LinearConstraint(np.ones(n_buyers), lb=n_shares, ub=n_shares)"
   ]
  },
  {
   "cell_type": "code",
   "execution_count": 40,
   "metadata": {},
   "outputs": [],
   "source": [
    "bounds = [(0, n) for n in n_shares_per_buyer]"
   ]
  },
  {
   "cell_type": "code",
   "execution_count": 43,
   "metadata": {},
   "outputs": [],
   "source": [
    "def objective_function(x, prices):\n",
    "    return -x.dot(prices)"
   ]
  },
  {
   "cell_type": "code",
   "execution_count": 44,
   "metadata": {},
   "outputs": [],
   "source": [
    "res = minimize(\n",
    "    objective_function,\n",
    "    x0=10 * np.random.random(n_buyers),\n",
    "    args=(prices,),\n",
    "    constraints=constraint,\n",
    "    bounds=bounds,\n",
    ")"
   ]
  },
  {
   "cell_type": "code",
   "execution_count": 45,
   "metadata": {},
   "outputs": [
    {
     "data": {
      "text/plain": [
       "     fun: -8.783020157087599\n",
       "     jac: array([-0.7713207 , -0.02075195, -0.6336484 , -0.74880397, -0.49850702,\n",
       "       -0.22479653, -0.19806278, -0.76053071, -0.16911077, -0.08833981])\n",
       " message: 'Optimization terminated successfully'\n",
       "    nfev: 187\n",
       "     nit: 17\n",
       "    njev: 17\n",
       "  status: 0\n",
       " success: True\n",
       "       x: array([1.29647768e+00, 1.44883543e-13, 1.57816269e+00, 4.00638948e+00,\n",
       "       2.00598984e+00, 3.48323773e+00, 2.99760217e-14, 2.62974258e+00,\n",
       "       1.13511185e-14, 3.99716714e-14])"
      ]
     },
     "execution_count": 45,
     "metadata": {},
     "output_type": "execute_result"
    }
   ],
   "source": [
    "res"
   ]
  },
  {
   "cell_type": "code",
   "execution_count": 46,
   "metadata": {},
   "outputs": [
    {
     "name": "stdout",
     "output_type": "stream",
     "text": [
      "The total number of shares is: 15.000000000000002\n",
      "Leftover money for each buyer: [1.32116540e-14 1.00000000e+00 1.33226763e-14 2.62012634e-14\n",
      " 1.58761893e-14 2.21697984e+00 3.00000000e+00 3.08642001e-14\n",
      " 1.00000000e+00 1.00000000e+00]\n"
     ]
    }
   ],
   "source": [
    "print(\"The total number of shares is:\", sum(res.x))\n",
    "print(\"Leftover money for each buyer:\", money_available - res.x * prices)"
   ]
  },
  {
   "cell_type": "code",
   "execution_count": null,
   "metadata": {},
   "outputs": [],
   "source": []
  }
 ],
 "metadata": {
  "kernelspec": {
   "display_name": "boot_env",
   "language": "python",
   "name": "boot_env"
  },
  "language_info": {
   "codemirror_mode": {
    "name": "ipython",
    "version": 3
   },
   "file_extension": ".py",
   "mimetype": "text/x-python",
   "name": "python",
   "nbconvert_exporter": "python",
   "pygments_lexer": "ipython3",
   "version": "3.8.5"
  }
 },
 "nbformat": 4,
 "nbformat_minor": 4
}
