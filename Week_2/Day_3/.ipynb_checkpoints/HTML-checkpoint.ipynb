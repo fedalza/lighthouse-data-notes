{
 "cells": [
  {
   "cell_type": "code",
   "execution_count": 1,
   "metadata": {},
   "outputs": [],
   "source": [
    "import pandas as pd\n",
    "import requests"
   ]
  },
  {
   "cell_type": "code",
   "execution_count": 2,
   "metadata": {},
   "outputs": [
    {
     "data": {
      "text/plain": [
       "<Response [200]>"
      ]
     },
     "execution_count": 2,
     "metadata": {},
     "output_type": "execute_result"
    }
   ],
   "source": [
    "url = 'https://www.worldcoinindex.com/'\n",
    "crypto_url = requests.get(url)\n",
    "crypto_url"
   ]
  },
  {
   "cell_type": "code",
   "execution_count": 3,
   "metadata": {},
   "outputs": [],
   "source": [
    "body = crypto_url.text"
   ]
  },
  {
   "cell_type": "code",
   "execution_count": 4,
   "metadata": {},
   "outputs": [
    {
     "name": "stdout",
     "output_type": "stream",
     "text": [
      "<class 'list'>\n",
      "1\n"
     ]
    }
   ],
   "source": [
    "crypto_data = pd.read_html(body)\n",
    "print(type(crypto_data))\n",
    "print(len(crypto_data))"
   ]
  },
  {
   "cell_type": "code",
   "execution_count": 5,
   "metadata": {},
   "outputs": [
    {
     "data": {
      "text/html": [
       "<div>\n",
       "<style scoped>\n",
       "    .dataframe tbody tr th:only-of-type {\n",
       "        vertical-align: middle;\n",
       "    }\n",
       "\n",
       "    .dataframe tbody tr th {\n",
       "        vertical-align: top;\n",
       "    }\n",
       "\n",
       "    .dataframe thead th {\n",
       "        text-align: right;\n",
       "    }\n",
       "</style>\n",
       "<table border=\"1\" class=\"dataframe\">\n",
       "  <thead>\n",
       "    <tr style=\"text-align: right;\">\n",
       "      <th></th>\n",
       "      <th>#</th>\n",
       "      <th>Unnamed: 1</th>\n",
       "      <th>Name</th>\n",
       "      <th>Ticker</th>\n",
       "      <th>Last price</th>\n",
       "      <th>%</th>\n",
       "      <th>24 high</th>\n",
       "      <th>24 low</th>\n",
       "      <th>Price Charts 7d</th>\n",
       "      <th>24 volume</th>\n",
       "      <th># Coins</th>\n",
       "      <th>Market cap</th>\n",
       "    </tr>\n",
       "  </thead>\n",
       "  <tbody>\n",
       "    <tr>\n",
       "      <th>0</th>\n",
       "      <td>1</td>\n",
       "      <td>NaN</td>\n",
       "      <td>bitcoin</td>\n",
       "      <td>BTC</td>\n",
       "      <td>$ 11,248</td>\n",
       "      <td>+2.87%</td>\n",
       "      <td>$ 11,292</td>\n",
       "      <td>$ 10,861</td>\n",
       "      <td>NaN</td>\n",
       "      <td>$ 6.89B</td>\n",
       "      <td>18.44M</td>\n",
       "      <td>$ 207.47B</td>\n",
       "    </tr>\n",
       "    <tr>\n",
       "      <th>1</th>\n",
       "      <td>2</td>\n",
       "      <td>NaN</td>\n",
       "      <td>ethereum</td>\n",
       "      <td>ETH</td>\n",
       "      <td>$ 322.61</td>\n",
       "      <td>+1.43%</td>\n",
       "      <td>$ 325.95</td>\n",
       "      <td>$ 313.60</td>\n",
       "      <td>NaN</td>\n",
       "      <td>$ 5.15B</td>\n",
       "      <td>111.96M</td>\n",
       "      <td>$ 36.11B</td>\n",
       "    </tr>\n",
       "    <tr>\n",
       "      <th>2</th>\n",
       "      <td>3</td>\n",
       "      <td>NaN</td>\n",
       "      <td>eos</td>\n",
       "      <td>EOS</td>\n",
       "      <td>$ 3.09</td>\n",
       "      <td>+2.88%</td>\n",
       "      <td>$ 3.15</td>\n",
       "      <td>$ 2.96</td>\n",
       "      <td>NaN</td>\n",
       "      <td>$ 1.18B</td>\n",
       "      <td>1.01B</td>\n",
       "      <td>$ 3.14B</td>\n",
       "    </tr>\n",
       "    <tr>\n",
       "      <th>3</th>\n",
       "      <td>4</td>\n",
       "      <td>NaN</td>\n",
       "      <td>ripple</td>\n",
       "      <td>XRP</td>\n",
       "      <td>$ 0.248909</td>\n",
       "      <td>+7.84%</td>\n",
       "      <td>$ 0.249092</td>\n",
       "      <td>$ 0.230298</td>\n",
       "      <td>NaN</td>\n",
       "      <td>$ 1.13B</td>\n",
       "      <td>44.84B</td>\n",
       "      <td>$ 11.16B</td>\n",
       "    </tr>\n",
       "    <tr>\n",
       "      <th>4</th>\n",
       "      <td>5</td>\n",
       "      <td>NaN</td>\n",
       "      <td>litecoin</td>\n",
       "      <td>LTC</td>\n",
       "      <td>$ 55.79</td>\n",
       "      <td>-0.02%</td>\n",
       "      <td>$ 57.04</td>\n",
       "      <td>$ 54.83</td>\n",
       "      <td>NaN</td>\n",
       "      <td>$ 1.05B</td>\n",
       "      <td>65.13M</td>\n",
       "      <td>$ 3.63B</td>\n",
       "    </tr>\n",
       "  </tbody>\n",
       "</table>\n",
       "</div>"
      ],
      "text/plain": [
       "   # Unnamed: 1      Name Ticker  Last price       %     24 high      24 low  \\\n",
       "0  1        NaN   bitcoin    BTC    $ 11,248  +2.87%    $ 11,292    $ 10,861   \n",
       "1  2        NaN  ethereum    ETH    $ 322.61  +1.43%    $ 325.95    $ 313.60   \n",
       "2  3        NaN       eos    EOS      $ 3.09  +2.88%      $ 3.15      $ 2.96   \n",
       "3  4        NaN    ripple    XRP  $ 0.248909  +7.84%  $ 0.249092  $ 0.230298   \n",
       "4  5        NaN  litecoin    LTC     $ 55.79  -0.02%     $ 57.04     $ 54.83   \n",
       "\n",
       "  Price Charts 7d 24 volume  # Coins Market cap  \n",
       "0             NaN   $ 6.89B   18.44M  $ 207.47B  \n",
       "1             NaN   $ 5.15B  111.96M   $ 36.11B  \n",
       "2             NaN   $ 1.18B    1.01B    $ 3.14B  \n",
       "3             NaN   $ 1.13B   44.84B   $ 11.16B  \n",
       "4             NaN   $ 1.05B   65.13M    $ 3.63B  "
      ]
     },
     "execution_count": 5,
     "metadata": {},
     "output_type": "execute_result"
    }
   ],
   "source": [
    "crypto_data = crypto_data[0]\n",
    "crypto_data.head()"
   ]
  },
  {
   "cell_type": "code",
   "execution_count": null,
   "metadata": {},
   "outputs": [],
   "source": []
  }
 ],
 "metadata": {
  "kernelspec": {
   "display_name": "Python 3",
   "language": "python",
   "name": "python3"
  },
  "language_info": {
   "codemirror_mode": {
    "name": "ipython",
    "version": 3
   },
   "file_extension": ".py",
   "mimetype": "text/x-python",
   "name": "python",
   "nbconvert_exporter": "python",
   "pygments_lexer": "ipython3",
   "version": "3.7.6"
  }
 },
 "nbformat": 4,
 "nbformat_minor": 4
}
