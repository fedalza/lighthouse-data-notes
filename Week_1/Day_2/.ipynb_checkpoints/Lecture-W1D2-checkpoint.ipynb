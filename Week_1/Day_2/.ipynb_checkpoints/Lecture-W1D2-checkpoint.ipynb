{
 "cells": [
  {
   "cell_type": "markdown",
   "metadata": {},
   "source": [
    "#### Introductions\n",
    "1. Your name\n",
    "2. A little bit about your background(work,education and interests)\n",
    "3. Hobbies(optional)"
   ]
  },
  {
   "cell_type": "markdown",
   "metadata": {},
   "source": [
    "#### Lecture Protocol\n",
    "1. Use the raise hand on Zoom to ask questions. I will reach and answer your question as soon as I can.\n",
    "\n",
    "2. Please keep microphones on mute otherwise.\n",
    "\n",
    "3. For additional questions, I will be taking breaks in between lectures approximately every 45-50 minutes and any pending questions or reexplanation of a concept can be done.\n",
    "\n",
    "4. Enjoy the lecture!"
   ]
  },
  {
   "cell_type": "markdown",
   "metadata": {},
   "source": [
    "### Agenda\n",
    "\n",
    " * #### Intorductions and Lecture Protocol (10-15 min)\n",
    " * #### Python History and Importance in Data Science (7 min)\n",
    " * #### Basic Syntax and Data Types (20 min)\n",
    " * #### Errors and Exceptions Handling (5 min)\n",
    " * #### Break (10 minutes)\n",
    " * #### Deep and Shallow Copy (5 min)\n",
    " * #### Handling date and time in Python (15 min)\n",
    " * #### Discussion about solving specific Python challenge (30 min)"
   ]
  },
  {
   "cell_type": "code",
   "execution_count": 2,
   "metadata": {},
   "outputs": [
    {
     "data": {
      "text/html": [
       "<img src=\"https://d2h0cx97tjks2p.cloudfront.net/blogs/wp-content/uploads/sites/2/2017/12/Features-of-python-01.jpg\"/>"
      ],
      "text/plain": [
       "<IPython.core.display.Image object>"
      ]
     },
     "execution_count": 2,
     "metadata": {},
     "output_type": "execute_result"
    }
   ],
   "source": [
    "from IPython.display import Image\n",
    "from IPython.core.display import HTML \n",
    "Image(url= \"https://d2h0cx97tjks2p.cloudfront.net/blogs/wp-content/uploads/sites/2/2017/12/Features-of-python-01.jpg\")"
   ]
  },
  {
   "cell_type": "markdown",
   "metadata": {},
   "source": [
    "# <center> W1D2. Python Programming\n",
    "\n",
    "## Agenda  \n",
    "1. Python History and Importance in Data Science\n",
    "2. Basic Syntax and Data Types\n",
    "3. Errors and Exceptions Handling\n",
    "4. Deep and Shallow Copy\n",
    "5. Handling date and time in Python\n",
    "6. Discussion about solving specific Python challenge\n",
    "7. Useful Resources"
   ]
  },
  {
   "cell_type": "markdown",
   "metadata": {},
   "source": [
    "## 1.Python History and Importance in Data Science\n",
    "\n",
    "Python was first introduced by <b>Guido Van Rossum</b> in 1991 at the National Research Institute for Mathematics and Computer Science, Netherlands.\n",
    "[source:https://www.journaldev.com/34415/history-of-python-programming-language]\n",
    "\n",
    "#### Python Versions\n",
    "* In 1994, Python 1.0 was released with new features like lambda, map, filter, and reduce.\n",
    "\n",
    "* Python 2.0 added new features such as list comprehensions, garbage collection systems.\n",
    "\n",
    "* On December 3, 2008, Python 3.0 (also called \"Py3K\") was released. It was designed to rectify the fundamental flaw of the      language.\n",
    "[source:https://www.javatpoint.com/python-history]\n",
    "\n",
    "#### Why Python for Data Science\n",
    "* Simple programming language to pick up, from a syntax point of view. \n",
    "\n",
    "* Python also has an active community with a vast selection of libraries and resources.\n",
    "\n",
    "* Professionals working with data science applications don’t want to be bogged down with complicated programming requirements. They want to use programming languages like Python and Ruby to perform tasks hassle-free.\n",
    "\n",
    "[source:https://www.cbtnuggets.com/blog/technology/data/why-data-scientists-love-python]"
   ]
  },
  {
   "cell_type": "markdown",
   "metadata": {},
   "source": [
    "## 2.Basic Syntax and Data Types"
   ]
  },
  {
   "cell_type": "markdown",
   "metadata": {},
   "source": [
    "### Built in Data Types"
   ]
  },
  {
   "cell_type": "markdown",
   "metadata": {},
   "source": [
    "#### List\n",
    "List is an accessible set of values which ordered and can be accessed using indices"
   ]
  },
  {
   "cell_type": "code",
   "execution_count": 2,
   "metadata": {},
   "outputs": [
    {
     "name": "stdout",
     "output_type": "stream",
     "text": [
      "variable a is a <class 'list'> with values[1, 2, 3, 4, 5]\n"
     ]
    }
   ],
   "source": [
    "#List\n",
    "a = [1,2,3,4,5]\n",
    "print(\"variable a is a \" + str(type(a))+\" with values\"+str(a))"
   ]
  },
  {
   "cell_type": "code",
   "execution_count": 3,
   "metadata": {},
   "outputs": [],
   "source": [
    "b = ['a','b','c','d','e']"
   ]
  },
  {
   "cell_type": "code",
   "execution_count": 60,
   "metadata": {},
   "outputs": [
    {
     "name": "stdout",
     "output_type": "stream",
     "text": [
      "['a', 'b', 'c', 'd', 'e']\n"
     ]
    }
   ],
   "source": [
    "print(b)"
   ]
  },
  {
   "cell_type": "code",
   "execution_count": 4,
   "metadata": {},
   "outputs": [],
   "source": [
    "c=[1,2.5,True,'x']"
   ]
  },
  {
   "cell_type": "code",
   "execution_count": 5,
   "metadata": {},
   "outputs": [
    {
     "name": "stdout",
     "output_type": "stream",
     "text": [
      "[1, 2.5, True, 'x']\n"
     ]
    }
   ],
   "source": [
    "print(c)"
   ]
  },
  {
   "cell_type": "code",
   "execution_count": 11,
   "metadata": {},
   "outputs": [
    {
     "data": {
      "text/plain": [
       "'x'"
      ]
     },
     "execution_count": 11,
     "metadata": {},
     "output_type": "execute_result"
    }
   ],
   "source": [
    "c[-1]"
   ]
  },
  {
   "cell_type": "markdown",
   "metadata": {},
   "source": [
    "##### Activity"
   ]
  },
  {
   "cell_type": "markdown",
   "metadata": {},
   "source": [
    "Create a list of numbers of your choice and access\n",
    "1. The first two elements"
   ]
  },
  {
   "cell_type": "code",
   "execution_count": 20,
   "metadata": {},
   "outputs": [
    {
     "data": {
      "text/plain": [
       "[5, 6, 8, 4, 3]"
      ]
     },
     "execution_count": 20,
     "metadata": {},
     "output_type": "execute_result"
    }
   ],
   "source": [
    "list1 = [1,5,6,8,4,3,5]\n",
    "list1[1:6]"
   ]
  },
  {
   "cell_type": "markdown",
   "metadata": {},
   "source": [
    "2. From the list of numbers you have created extract the last 2 elements"
   ]
  },
  {
   "cell_type": "code",
   "execution_count": 17,
   "metadata": {},
   "outputs": [
    {
     "data": {
      "text/plain": [
       "[8, 4, 3]"
      ]
     },
     "execution_count": 17,
     "metadata": {},
     "output_type": "execute_result"
    }
   ],
   "source": [
    "list1[-3:]"
   ]
  },
  {
   "cell_type": "code",
   "execution_count": 68,
   "metadata": {},
   "outputs": [
    {
     "data": {
      "text/plain": [
       "[1, 5, 6, 8, 4, 3]"
      ]
     },
     "execution_count": 68,
     "metadata": {},
     "output_type": "execute_result"
    }
   ],
   "source": [
    "list1[-6:]"
   ]
  },
  {
   "cell_type": "markdown",
   "metadata": {},
   "source": [
    "3. select 3rd to 5th value using negative indices"
   ]
  },
  {
   "cell_type": "code",
   "execution_count": 18,
   "metadata": {},
   "outputs": [
    {
     "data": {
      "text/plain": [
       "[6, 8, 4]"
      ]
     },
     "execution_count": 18,
     "metadata": {},
     "output_type": "execute_result"
    }
   ],
   "source": [
    "list1[-4:-1]"
   ]
  },
  {
   "cell_type": "markdown",
   "metadata": {},
   "source": [
    "#### Find index of a list element"
   ]
  },
  {
   "cell_type": "code",
   "execution_count": 21,
   "metadata": {},
   "outputs": [
    {
     "data": {
      "text/plain": [
       "1"
      ]
     },
     "execution_count": 21,
     "metadata": {},
     "output_type": "execute_result"
    }
   ],
   "source": [
    "list1.index(5)"
   ]
  },
  {
   "cell_type": "markdown",
   "metadata": {},
   "source": [
    "#### Find all indices of an element in a list\n",
    "Since the <code>index</code> function only returns the first index of an element we need another way to find all indices of a list. This can be done as below using <b> list comprehension</b>"
   ]
  },
  {
   "cell_type": "code",
   "execution_count": 22,
   "metadata": {},
   "outputs": [],
   "source": [
    "new_list = [0,3,4,5,7,8,3,3,7,9,5,5]"
   ]
  },
  {
   "cell_type": "code",
   "execution_count": 23,
   "metadata": {},
   "outputs": [
    {
     "data": {
      "text/plain": [
       "[1, 6, 7]"
      ]
     },
     "execution_count": 23,
     "metadata": {},
     "output_type": "execute_result"
    }
   ],
   "source": [
    "#long way of manipulating list\n",
    "output_list = []\n",
    "for index in range(len(new_list)):\n",
    "    if new_list[index] ==3:\n",
    "        output_list.append(index)\n",
    "output_list"
   ]
  },
  {
   "cell_type": "code",
   "execution_count": 24,
   "metadata": {},
   "outputs": [
    {
     "data": {
      "text/plain": [
       "[5, 8, 9, 10, 12, 13, 8, 8, 12, 14, 10, 10]"
      ]
     },
     "execution_count": 24,
     "metadata": {},
     "output_type": "execute_result"
    }
   ],
   "source": [
    "[x+5 for x in new_list]"
   ]
  },
  {
   "cell_type": "code",
   "execution_count": 26,
   "metadata": {},
   "outputs": [
    {
     "data": {
      "text/plain": [
       "[1, 6, 7]"
      ]
     },
     "execution_count": 26,
     "metadata": {},
     "output_type": "execute_result"
    }
   ],
   "source": [
    "#list comprehension way - The more Pythonic way!\n",
    "[index for index, value in enumerate(new_list) if value == 3]"
   ]
  },
  {
   "cell_type": "markdown",
   "metadata": {},
   "source": [
    "Let's wrap this in a function"
   ]
  },
  {
   "cell_type": "code",
   "execution_count": 25,
   "metadata": {},
   "outputs": [],
   "source": [
    "def get_indices(input_list=[],element =0):\n",
    "    output = [index for index, value in enumerate(input_list) if value == element]\n",
    "    return output"
   ]
  },
  {
   "cell_type": "code",
   "execution_count": 26,
   "metadata": {},
   "outputs": [
    {
     "data": {
      "text/plain": [
       "[0, 1]"
      ]
     },
     "execution_count": 26,
     "metadata": {},
     "output_type": "execute_result"
    }
   ],
   "source": [
    "get_indices([3,3,4,5,6],3)"
   ]
  },
  {
   "cell_type": "code",
   "execution_count": 28,
   "metadata": {},
   "outputs": [
    {
     "data": {
      "text/plain": [
       "[1, 6, 7]"
      ]
     },
     "execution_count": 28,
     "metadata": {},
     "output_type": "execute_result"
    }
   ],
   "source": [
    "get_indices(new_list,3)"
   ]
  },
  {
   "cell_type": "code",
   "execution_count": 29,
   "metadata": {},
   "outputs": [
    {
     "data": {
      "text/plain": [
       "[]"
      ]
     },
     "execution_count": 29,
     "metadata": {},
     "output_type": "execute_result"
    }
   ],
   "source": [
    "get_indices(new_list,1)"
   ]
  },
  {
   "cell_type": "markdown",
   "metadata": {},
   "source": [
    "#### Dictionaries\n",
    "Dictionaries are unordered pairs of keys and corresponding values"
   ]
  },
  {
   "cell_type": "code",
   "execution_count": 31,
   "metadata": {},
   "outputs": [],
   "source": [
    "account_details = {'Name':'Jack Sparrow','Account_Type':'Checking','Branch':'North York','Age':32}"
   ]
  },
  {
   "cell_type": "code",
   "execution_count": 32,
   "metadata": {},
   "outputs": [
    {
     "data": {
      "text/plain": [
       "'Jack Sparrow'"
      ]
     },
     "execution_count": 32,
     "metadata": {},
     "output_type": "execute_result"
    }
   ],
   "source": [
    "account_details['Name']"
   ]
  },
  {
   "cell_type": "code",
   "execution_count": 33,
   "metadata": {},
   "outputs": [
    {
     "data": {
      "text/plain": [
       "dict_keys(['Name', 'Account_Type', 'Branch', 'Age'])"
      ]
     },
     "execution_count": 33,
     "metadata": {},
     "output_type": "execute_result"
    }
   ],
   "source": [
    "account_details.keys()"
   ]
  },
  {
   "cell_type": "code",
   "execution_count": 34,
   "metadata": {},
   "outputs": [
    {
     "data": {
      "text/plain": [
       "dict_values(['Jack Sparrow', 'Checking', 'North York', 32])"
      ]
     },
     "execution_count": 34,
     "metadata": {},
     "output_type": "execute_result"
    }
   ],
   "source": [
    "account_details.values()"
   ]
  },
  {
   "cell_type": "markdown",
   "metadata": {},
   "source": [
    "#### Why do we need dictionaries if we have lists?\n",
    "\n",
    "Answer: One of the reasons is dictionaries can have labels or keys associated with a value whereas a list only has an index. In a list the order matters, in a dictionary, the order does not matter"
   ]
  },
  {
   "cell_type": "markdown",
   "metadata": {},
   "source": [
    "## 3.Errors and Exceptions Handling"
   ]
  },
  {
   "cell_type": "code",
   "execution_count": 38,
   "metadata": {},
   "outputs": [],
   "source": [
    "def div_func(a,b):\n",
    "    try:\n",
    "        result = a/b\n",
    "    except ZeroDivisionError:\n",
    "        print('b is zero and division is not possible')\n",
    "        return\n",
    "    return result"
   ]
  },
  {
   "cell_type": "code",
   "execution_count": 41,
   "metadata": {},
   "outputs": [
    {
     "data": {
      "text/plain": [
       "-1.0"
      ]
     },
     "execution_count": 41,
     "metadata": {},
     "output_type": "execute_result"
    }
   ],
   "source": [
    "div_func(5,-5)"
   ]
  },
  {
   "cell_type": "code",
   "execution_count": 42,
   "metadata": {},
   "outputs": [
    {
     "name": "stdout",
     "output_type": "stream",
     "text": [
      "b is zero and division is not possible\n"
     ]
    }
   ],
   "source": [
    "div_func(5,0.0)"
   ]
  },
  {
   "cell_type": "code",
   "execution_count": 22,
   "metadata": {},
   "outputs": [
    {
     "data": {
      "text/plain": [
       "str"
      ]
     },
     "execution_count": 22,
     "metadata": {},
     "output_type": "execute_result"
    }
   ],
   "source": [
    "type('gulp')"
   ]
  },
  {
   "cell_type": "code",
   "execution_count": 43,
   "metadata": {},
   "outputs": [],
   "source": [
    "def count_letter_in_word(input_word='gulp'):\n",
    "    if type(input_word)!=str:\n",
    "        raise TypeError('incorrect input type. Please provide a string input')\n",
    "    return len(input_word)"
   ]
  },
  {
   "cell_type": "code",
   "execution_count": 44,
   "metadata": {},
   "outputs": [
    {
     "data": {
      "text/plain": [
       "5"
      ]
     },
     "execution_count": 44,
     "metadata": {},
     "output_type": "execute_result"
    }
   ],
   "source": [
    "count_letter_in_word('horse')"
   ]
  },
  {
   "cell_type": "code",
   "execution_count": 45,
   "metadata": {},
   "outputs": [
    {
     "ename": "TypeError",
     "evalue": "incorrect input type. Please provide a string input",
     "output_type": "error",
     "traceback": [
      "\u001b[1;31m---------------------------------------------------------------------------\u001b[0m",
      "\u001b[1;31mTypeError\u001b[0m                                 Traceback (most recent call last)",
      "\u001b[1;32m<ipython-input-45-41d65a56ae70>\u001b[0m in \u001b[0;36m<module>\u001b[1;34m\u001b[0m\n\u001b[1;32m----> 1\u001b[1;33m \u001b[0mcount_letter_in_word\u001b[0m\u001b[1;33m(\u001b[0m\u001b[1;36m5\u001b[0m\u001b[1;33m)\u001b[0m\u001b[1;33m\u001b[0m\u001b[1;33m\u001b[0m\u001b[0m\n\u001b[0m",
      "\u001b[1;32m<ipython-input-43-bb59ca435a56>\u001b[0m in \u001b[0;36mcount_letter_in_word\u001b[1;34m(input_word)\u001b[0m\n\u001b[0;32m      1\u001b[0m \u001b[1;32mdef\u001b[0m \u001b[0mcount_letter_in_word\u001b[0m\u001b[1;33m(\u001b[0m\u001b[0minput_word\u001b[0m\u001b[1;33m=\u001b[0m\u001b[1;34m'gulp'\u001b[0m\u001b[1;33m)\u001b[0m\u001b[1;33m:\u001b[0m\u001b[1;33m\u001b[0m\u001b[1;33m\u001b[0m\u001b[0m\n\u001b[0;32m      2\u001b[0m     \u001b[1;32mif\u001b[0m \u001b[0mtype\u001b[0m\u001b[1;33m(\u001b[0m\u001b[0minput_word\u001b[0m\u001b[1;33m)\u001b[0m\u001b[1;33m!=\u001b[0m\u001b[0mstr\u001b[0m\u001b[1;33m:\u001b[0m\u001b[1;33m\u001b[0m\u001b[1;33m\u001b[0m\u001b[0m\n\u001b[1;32m----> 3\u001b[1;33m         \u001b[1;32mraise\u001b[0m \u001b[0mTypeError\u001b[0m\u001b[1;33m(\u001b[0m\u001b[1;34m'incorrect input type. Please provide a string input'\u001b[0m\u001b[1;33m)\u001b[0m\u001b[1;33m\u001b[0m\u001b[1;33m\u001b[0m\u001b[0m\n\u001b[0m\u001b[0;32m      4\u001b[0m     \u001b[1;32mreturn\u001b[0m \u001b[0mlen\u001b[0m\u001b[1;33m(\u001b[0m\u001b[0minput_word\u001b[0m\u001b[1;33m)\u001b[0m\u001b[1;33m\u001b[0m\u001b[1;33m\u001b[0m\u001b[0m\n",
      "\u001b[1;31mTypeError\u001b[0m: incorrect input type. Please provide a string input"
     ]
    }
   ],
   "source": [
    "count_letter_in_word(5)"
   ]
  },
  {
   "cell_type": "code",
   "execution_count": 50,
   "metadata": {},
   "outputs": [],
   "source": [
    "def count_letter_in_word_new(input_word='gulp'):\n",
    "    result=0\n",
    "    try:\n",
    "        result=len(input_word)\n",
    "    except Exception as e:\n",
    "        print(e)\n",
    "    return result"
   ]
  },
  {
   "cell_type": "code",
   "execution_count": 53,
   "metadata": {},
   "outputs": [
    {
     "name": "stdout",
     "output_type": "stream",
     "text": [
      "object of type 'int' has no len()\n"
     ]
    },
    {
     "data": {
      "text/plain": [
       "0"
      ]
     },
     "execution_count": 53,
     "metadata": {},
     "output_type": "execute_result"
    }
   ],
   "source": [
    "count_letter_in_word_new(7)"
   ]
  },
  {
   "cell_type": "markdown",
   "metadata": {},
   "source": [
    "## 4. Deep and Shallow Copy"
   ]
  },
  {
   "cell_type": "markdown",
   "metadata": {},
   "source": [
    "* Modifying the copied list at a “superficial” level will not be a problem in shallow copy.\n",
    "\n",
    "* However, because we only created a shallow copy of the original list, shallow copy list still contains references to original list's child objects. This is a problem when try list manipulation such as below"
   ]
  },
  {
   "cell_type": "code",
   "execution_count": 56,
   "metadata": {},
   "outputs": [],
   "source": [
    "# importing copy module \n",
    "import copy \n",
    "\n",
    "# initializing list 1 \n",
    "list1 = [6,7,[3,4],2,8] \n",
    "\n",
    "\n",
    "# using copy for shallow copy \n",
    "list2 = copy.copy(list1) \n",
    "\n",
    "# using deepcopy for deepcopy \n",
    "list3 = copy.deepcopy(list1) "
   ]
  },
  {
   "cell_type": "code",
   "execution_count": 57,
   "metadata": {},
   "outputs": [
    {
     "data": {
      "text/plain": [
       "[6, 7, [3, 4], 2, 8]"
      ]
     },
     "execution_count": 57,
     "metadata": {},
     "output_type": "execute_result"
    }
   ],
   "source": [
    "list1"
   ]
  },
  {
   "cell_type": "code",
   "execution_count": 58,
   "metadata": {},
   "outputs": [
    {
     "data": {
      "text/plain": [
       "[6, 7, [3, 4], 2, 8]"
      ]
     },
     "execution_count": 58,
     "metadata": {},
     "output_type": "execute_result"
    }
   ],
   "source": [
    "list2"
   ]
  },
  {
   "cell_type": "code",
   "execution_count": 59,
   "metadata": {},
   "outputs": [
    {
     "data": {
      "text/plain": [
       "[6, 7, [3, 4], 2, 8]"
      ]
     },
     "execution_count": 59,
     "metadata": {},
     "output_type": "execute_result"
    }
   ],
   "source": [
    "list3"
   ]
  },
  {
   "cell_type": "code",
   "execution_count": 60,
   "metadata": {},
   "outputs": [],
   "source": [
    "list1[2][0]=6"
   ]
  },
  {
   "cell_type": "code",
   "execution_count": 64,
   "metadata": {},
   "outputs": [],
   "source": [
    "list1[4] =5"
   ]
  },
  {
   "cell_type": "code",
   "execution_count": 65,
   "metadata": {},
   "outputs": [
    {
     "data": {
      "text/plain": [
       "[6, 7, [6, 4], 2, 8]"
      ]
     },
     "execution_count": 65,
     "metadata": {},
     "output_type": "execute_result"
    }
   ],
   "source": [
    "list2"
   ]
  },
  {
   "cell_type": "code",
   "execution_count": 63,
   "metadata": {},
   "outputs": [
    {
     "data": {
      "text/plain": [
       "[6, 7, [3, 4], 2, 8]"
      ]
     },
     "execution_count": 63,
     "metadata": {},
     "output_type": "execute_result"
    }
   ],
   "source": [
    "list3"
   ]
  },
  {
   "cell_type": "markdown",
   "metadata": {},
   "source": [
    "## 5. Handling Date and Time in python\n",
    "[ source: https://www.dataquest.io/blog/python-datetime-tutorial/ ]"
   ]
  },
  {
   "cell_type": "markdown",
   "metadata": {},
   "source": [
    "#### get current date time"
   ]
  },
  {
   "cell_type": "code",
   "execution_count": 66,
   "metadata": {},
   "outputs": [
    {
     "name": "stdout",
     "output_type": "stream",
     "text": [
      "2020-07-21 11:40:10.093446\n",
      "Type :-  <class 'datetime.datetime'>\n"
     ]
    }
   ],
   "source": [
    "# import datetime class from datetime module\n",
    "from datetime import datetime\n",
    "\n",
    "# get current date\n",
    "datetime_object = datetime.now()\n",
    "print(datetime_object)\n",
    "print('Type :- ',type(datetime_object))"
   ]
  },
  {
   "cell_type": "code",
   "execution_count": 70,
   "metadata": {},
   "outputs": [
    {
     "name": "stdout",
     "output_type": "stream",
     "text": [
      "2018-11-03 00:00:00\n",
      "Type:  <class 'datetime.datetime'>\n"
     ]
    }
   ],
   "source": [
    "my_string = '2018-11-3'\n",
    "\n",
    "# Create date object in given time format yyyy-mm-dd\n",
    "my_date = datetime.strptime(my_string, \"%Y-%m-%d\")\n",
    "\n",
    "print(my_date)\n",
    "print('Type: ',type(my_date))"
   ]
  },
  {
   "cell_type": "code",
   "execution_count": 71,
   "metadata": {},
   "outputs": [
    {
     "name": "stdout",
     "output_type": "stream",
     "text": [
      "Month:  11\n",
      "Year:  2018\n"
     ]
    }
   ],
   "source": [
    "print('Month: ', my_date.month) # To Get month from date\n",
    "print('Year: ', my_date.year) # To Get month from year"
   ]
  },
  {
   "cell_type": "markdown",
   "metadata": {},
   "source": [
    "#### Measuring Time Span with Timedelta Objects"
   ]
  },
  {
   "cell_type": "code",
   "execution_count": 72,
   "metadata": {},
   "outputs": [
    {
     "name": "stdout",
     "output_type": "stream",
     "text": [
      "Today's date:  2020-07-21 11:45:15.386284\n"
     ]
    }
   ],
   "source": [
    "#import datetime\n",
    "from datetime import datetime, timedelta\n",
    "# get current time\n",
    "now = datetime.now()\n",
    "print (\"Today's date: \", str(now))"
   ]
  },
  {
   "cell_type": "code",
   "execution_count": 73,
   "metadata": {},
   "outputs": [
    {
     "name": "stdout",
     "output_type": "stream",
     "text": [
      "Date after 15 days:  2020-08-05 11:45:15.386284\n",
      "Date two weeks ago:  2020-07-07 11:45:15.386284\n",
      "two_weeks_ago object type:  <class 'datetime.datetime'>\n"
     ]
    }
   ],
   "source": [
    "#add 15 days to current date\n",
    "future_date_after_15days = now + timedelta(days = 15)\n",
    "print('Date after 15 days: ', future_date_after_15days)\n",
    "\n",
    "#subtract 2 weeks from current date\n",
    "two_weeks_ago = now - timedelta(weeks = 2)\n",
    "print('Date two weeks ago: ', two_weeks_ago)\n",
    "print('two_weeks_ago object type: ', type(two_weeks_ago))"
   ]
  },
  {
   "cell_type": "markdown",
   "metadata": {},
   "source": [
    "#### Converting a Date Object into Unix Timestamp and Vice Versa"
   ]
  },
  {
   "cell_type": "code",
   "execution_count": 74,
   "metadata": {},
   "outputs": [
    {
     "name": "stdout",
     "output_type": "stream",
     "text": [
      "Date and Time : 2020-07-21 11:47:01.335561\n",
      "Timestamp: 1595346421.335561\n"
     ]
    }
   ],
   "source": [
    "#import datetime\n",
    "from datetime import datetime\n",
    "# get current date\n",
    "now = datetime.now()\n",
    "\n",
    "# convert current date into timestamp\n",
    "timestamp = datetime.timestamp(now)\n",
    "\n",
    "print(\"Date and Time :\", now)\n",
    "print(\"Timestamp:\", timestamp)"
   ]
  },
  {
   "cell_type": "code",
   "execution_count": 75,
   "metadata": {},
   "outputs": [
    {
     "name": "stdout",
     "output_type": "stream",
     "text": [
      "dt_object: 2019-10-25 10:36:32.827300\n",
      "type(dt_object):  <class 'datetime.datetime'>\n"
     ]
    }
   ],
   "source": [
    "#import datetime\n",
    "from datetime import datetime\n",
    "timestamp = 1572014192.8273\n",
    "\n",
    "#convert timestamp to datetime object\n",
    "dt_object = datetime.fromtimestamp(timestamp)\n",
    "\n",
    "print(\"dt_object:\", dt_object)\n",
    "print(\"type(dt_object): \", type(dt_object))"
   ]
  },
  {
   "cell_type": "markdown",
   "metadata": {},
   "source": [
    "#### Find the Difference Between Two Dates and Times"
   ]
  },
  {
   "cell_type": "code",
   "execution_count": 77,
   "metadata": {},
   "outputs": [
    {
     "name": "stdout",
     "output_type": "stream",
     "text": [
      "Difference:  -8\n",
      "delta object type:  <class 'datetime.timedelta'>\n"
     ]
    }
   ],
   "source": [
    "# import datetime\n",
    "from datetime import date\n",
    "# Create two dates\n",
    "date1 = date(2008, 8, 18)\n",
    "date2 = date(2008, 8, 10)\n",
    "\n",
    "# Difference between two dates\n",
    "delta = date2 - date1\n",
    "print(\"Difference: \", delta.days)\n",
    "print('delta object type: ', type(delta))"
   ]
  },
  {
   "cell_type": "markdown",
   "metadata": {},
   "source": [
    "#### Formatting Dates: More on <code>strftime()</code> and <code>strptime()</code>"
   ]
  },
  {
   "cell_type": "markdown",
   "metadata": {},
   "source": [
    "<code>strptime()</code> is the method we used before, and you’ll recall that it can turn a date and time that’s formatted as a text string into a datetime object, in the following format:\n",
    "\n",
    "<code>time.strptime(string, format)</code>\n",
    "\n",
    "Note that it takes two arguments:\n",
    "\n",
    "<code>string</code> − the time in string format that we want to convert\n",
    "\n",
    "<code>format</code> − the specific formatting of the time in the string, so that <code>strptime()</code> can parse it correctly"
   ]
  },
  {
   "cell_type": "code",
   "execution_count": 78,
   "metadata": {},
   "outputs": [
    {
     "name": "stdout",
     "output_type": "stream",
     "text": [
      "date_object:  2019-08-01 00:00:00\n"
     ]
    }
   ],
   "source": [
    "# import datetime\n",
    "from datetime import datetime\n",
    "date_string = \"1 August, 2019\"\n",
    "\n",
    "# format date\n",
    "date_object = datetime.strptime(date_string, \"%d %B, %Y\")\n",
    "\n",
    "print(\"date_object: \", date_object)"
   ]
  },
  {
   "cell_type": "markdown",
   "metadata": {},
   "source": [
    "#### Below is a list of directives used in <code>strftime()</code> and their meanings"
   ]
  },
  {
   "cell_type": "markdown",
   "metadata": {
    "slideshow": {
     "slide_type": "-"
    }
   },
   "source": [
    "| Directive | Meaning|\n",
    "|-----------|--------|\n",
    "| %a |Weekday abb. Sun, Mon, …, Sat (en_US)|\n",
    "| %A | Weekday Full Sunday,Monday (en_US)|\n",
    "| %w | weekday as decimal 0,1,2,3.. |\n",
    "| %d | day of month as decimal 0,1,2,...30 ||\n",
    "| %b | Month Jan, Feb, …, Dec (en_US) |\n",
    "| %B | Month January,February... |\n",
    "| %m | Month as a zero-padded decimal |\n",
    "| %y | Year without century as zero padded decimal 00,01,..,99 |\n",
    "| %Y | Year with century 1970,1980 etc. |\n",
    "| %H | our (24-hour clock) as a zero-padded decimal number.00, 01, …, 23 |\n",
    "| %I | Hour (12-hour clock) as a zero-padded decimal number.01, 02, …, 12 |\n",
    "| %p | Am,PM |\n",
    "| %M | Minute 00,01..,59 |\n",
    "| %S | Second 00,01..,59 |\n"
   ]
  },
  {
   "cell_type": "markdown",
   "metadata": {},
   "source": [
    "## 6. Discussion about solving specific Python challenge"
   ]
  },
  {
   "cell_type": "markdown",
   "metadata": {},
   "source": [
    "#### Goal:\n",
    "Make a two-player Rock-Paper-Scissors game.Ask for player plays (using input), compare them, print out a message of congratulations to the winner, and ask if the players want to start a new game"
   ]
  },
  {
   "cell_type": "markdown",
   "metadata": {
    "slideshow": {
     "slide_type": "slide"
    }
   },
   "source": [
    "#### Rules:\n",
    "\n",
    "* Rock beats scissors\n",
    "* Scissors beats paper\n",
    "* Paper beats rock\n",
    "\n",
    "#### Concepts Used\n",
    "\n",
    "* Loops( for,while etc.)\n",
    "* if else\n",
    "\n",
    "#### Function Template\n",
    "\n",
    "* def compare(user1_answer='rock',user2_answer='paper')\n",
    "\n",
    "#### Error Handling\n",
    "* If the user_answer input is anything other than 'rock','paper' or 'scissors' return a string stating 'invalid input'\n",
    "\n",
    "#### Libraries needed\n",
    "* sys - to accept user input."
   ]
  },
  {
   "cell_type": "markdown",
   "metadata": {},
   "source": [
    "#### Example on how to use the library <code>sys</code> for input is below"
   ]
  },
  {
   "cell_type": "code",
   "execution_count": 55,
   "metadata": {},
   "outputs": [
    {
     "name": "stdout",
     "output_type": "stream",
     "text": [
      "What's your age?10\n",
      "you are 3650.0 days old.\n"
     ]
    }
   ],
   "source": [
    "import sys\n",
    "\n",
    "age = input(\"What's your age?\")\n",
    "days_old = float(age)*365\n",
    "print('you are '+ str(days_old)+' days old.')"
   ]
  },
  {
   "cell_type": "markdown",
   "metadata": {},
   "source": [
    "#### Basic if else"
   ]
  },
  {
   "cell_type": "code",
   "execution_count": 57,
   "metadata": {},
   "outputs": [
    {
     "name": "stdout",
     "output_type": "stream",
     "text": [
      "you are a kid\n"
     ]
    }
   ],
   "source": [
    "if int(age) > 30 and int(age)<=100:\n",
    "    print('you are an adult')\n",
    "elif int(age) < 30 and int(age) >=15:\n",
    "    print('you are a young adult')\n",
    "elif int(age) >=0 and int(age) <15:\n",
    "    print('you are a kid')\n",
    "else:\n",
    "    print(' I do not understand the input!')"
   ]
  },
  {
   "cell_type": "markdown",
   "metadata": {},
   "source": [
    "#### Code Solution for challenge"
   ]
  },
  {
   "cell_type": "code",
   "execution_count": 95,
   "metadata": {},
   "outputs": [
    {
     "name": "stdout",
     "output_type": "stream",
     "text": [
      "What's your name?alex\n",
      "And your name?arun\n"
     ]
    }
   ],
   "source": [
    "user1 = input(\"What's your name?\")\n",
    "user2 = input(\"And your name?\")"
   ]
  },
  {
   "cell_type": "code",
   "execution_count": 96,
   "metadata": {},
   "outputs": [
    {
     "name": "stdout",
     "output_type": "stream",
     "text": [
      "alex, do yo want to choose rock, paper or scissors?rock\n",
      "arun, do you want to choose rock, paper or scissors?scissors\n"
     ]
    }
   ],
   "source": [
    "user1_answer = input(\"%s, do yo want to choose rock, paper or scissors?\" % user1)\n",
    "user2_answer = input(\"%s, do you want to choose rock, paper or scissors?\" % user2)"
   ]
  },
  {
   "cell_type": "code",
   "execution_count": 97,
   "metadata": {},
   "outputs": [],
   "source": [
    "def compare(u1, u2):\n",
    "    if u1 == u2:\n",
    "        return(\"It's a tie!\")\n",
    "    elif u1 == 'rock':\n",
    "        if u2 == 'scissors':\n",
    "            return(\"Rock wins!\")\n",
    "        else:\n",
    "            return(\"Paper wins!\")\n",
    "    elif u1 == 'scissors':\n",
    "        if u2 == 'paper':\n",
    "            return(\"Scissors win!\")\n",
    "        else:\n",
    "            return(\"Rock wins!\")\n",
    "    elif u1 == 'paper':\n",
    "        if u2 == 'rock':\n",
    "            return(\"Paper wins!\")\n",
    "        else:\n",
    "            return(\"Scissors win!\")\n",
    "    else:\n",
    "        return(\"Invalid input! You have not entered rock, paper or scissors, try again.\")\n",
    "        sys.exit()"
   ]
  },
  {
   "cell_type": "code",
   "execution_count": 98,
   "metadata": {},
   "outputs": [
    {
     "name": "stdout",
     "output_type": "stream",
     "text": [
      "Rock wins!\n"
     ]
    }
   ],
   "source": [
    "print(compare(user1_answer, user2_answer))"
   ]
  },
  {
   "cell_type": "markdown",
   "metadata": {},
   "source": [
    "## 7. Python Student challenge"
   ]
  },
  {
   "cell_type": "markdown",
   "metadata": {},
   "source": [
    "A prison can be represented as a list of cells. Each cell contains exactly one prisoner. A <b>1</b> represents an unlocked cell and a <b>0</b> represents a locked cell."
   ]
  },
  {
   "cell_type": "markdown",
   "metadata": {},
   "source": [
    "<code>[1, 1, 0, 0, 0, 1, 0] </code>\n",
    "#### You free the prisoner in the 1st cell.\n",
    "\n",
    "<code>[0, 0, 1, 1, 1, 0, 1]</code> \n",
    "#### You free the prisoner in the 3rd cell (2nd one locked).\n",
    "\n",
    "<code>[1, 1, 0, 0, 0, 1, 0]</code>\n",
    "#### You free the prisoner in the 6th cell (3rd, 4th and 5th locked).\n",
    "\n",
    "<code>[0, 0, 1, 1, 1, 0, 1]</code>\n",
    "#### You free the prisoner in the 7th cell - and you are done!\n",
    "\n",
    "#### Example Outputs:\n",
    "\n",
    "<code>freed_prisoners([1, 1, 0, 0, 0, 1, 0]) ➞ 4</code>\n",
    "\n",
    "<code>freed_prisoners([1, 1, 1]) ➞ 1</code>\n",
    "\n",
    "<code>freed_prisoners([0, 0, 0]) ➞ 0</code>\n",
    "\n",
    "<code>freed_prisoners([0, 1, 1, 1]) ➞ 0</code>"
   ]
  },
  {
   "cell_type": "code",
   "execution_count": 79,
   "metadata": {},
   "outputs": [],
   "source": [
    "#solution\n",
    "def freed_prisoners(arrangement=[1,1,0,0,1,0]):\n",
    "    result =0\n",
    "    last_index = len(arrangement)\n",
    "    current_index =0\n",
    "    try:\n",
    "        arrangement.index(1)\n",
    "        while current_index <last_index:\n",
    "            print('prisoners freed so far '+str(result))\n",
    "            print('current index is: '+str(current_index)+'\\n')\n",
    "            print('current list is: '+str(arrangement)+'\\n')\n",
    "            one_index = arrangement.index(1,current_index,last_index)\n",
    "            print('first one in current list is at '+str(one_index)+'\\n')\n",
    "            \n",
    "            current_index = one_index+1\n",
    "            \n",
    "            result +=1\n",
    "            one_indices=get_indices(arrangement,1)\n",
    "            zero_indices=get_indices(arrangement,0)\n",
    "            for index in one_indices:\n",
    "                arrangement[index]=0\n",
    "            for index in zero_indices:\n",
    "                arrangement[index]=1\n",
    "    except Exception as e:\n",
    "        pass\n",
    "    return result"
   ]
  },
  {
   "cell_type": "code",
   "execution_count": 80,
   "metadata": {},
   "outputs": [
    {
     "name": "stdout",
     "output_type": "stream",
     "text": [
      "prisoners freed so far 0\n",
      "current index is: 0\n",
      "\n",
      "current list is: [1, 1, 0, 0, 1, 0]\n",
      "\n",
      "first one in current list is at 0\n",
      "\n",
      "prisoners freed so far 1\n",
      "current index is: 1\n",
      "\n",
      "current list is: [0, 0, 1, 1, 0, 1]\n",
      "\n",
      "first one in current list is at 2\n",
      "\n",
      "prisoners freed so far 2\n",
      "current index is: 3\n",
      "\n",
      "current list is: [1, 1, 0, 0, 1, 0]\n",
      "\n",
      "first one in current list is at 4\n",
      "\n",
      "prisoners freed so far 3\n",
      "current index is: 5\n",
      "\n",
      "current list is: [0, 0, 1, 1, 0, 1]\n",
      "\n",
      "first one in current list is at 5\n",
      "\n"
     ]
    },
    {
     "data": {
      "text/plain": [
       "4"
      ]
     },
     "execution_count": 80,
     "metadata": {},
     "output_type": "execute_result"
    }
   ],
   "source": [
    "freed_prisoners()"
   ]
  },
  {
   "cell_type": "code",
   "execution_count": 81,
   "metadata": {},
   "outputs": [
    {
     "name": "stdout",
     "output_type": "stream",
     "text": [
      "prisoners freed so far 0\n",
      "current index is: 0\n",
      "\n",
      "current list is: [0, 1, 1, 1]\n",
      "\n",
      "first one in current list is at 1\n",
      "\n",
      "prisoners freed so far 1\n",
      "current index is: 2\n",
      "\n",
      "current list is: [1, 0, 0, 0]\n",
      "\n"
     ]
    },
    {
     "data": {
      "text/plain": [
       "1"
      ]
     },
     "execution_count": 81,
     "metadata": {},
     "output_type": "execute_result"
    }
   ],
   "source": [
    "freed_prisoners([0, 1, 1, 1])"
   ]
  },
  {
   "cell_type": "code",
   "execution_count": 82,
   "metadata": {},
   "outputs": [
    {
     "data": {
      "text/plain": [
       "0"
      ]
     },
     "execution_count": 82,
     "metadata": {},
     "output_type": "execute_result"
    }
   ],
   "source": [
    "freed_prisoners([0, 0, 0])"
   ]
  },
  {
   "cell_type": "code",
   "execution_count": 83,
   "metadata": {},
   "outputs": [
    {
     "name": "stdout",
     "output_type": "stream",
     "text": [
      "prisoners freed so far 0\n",
      "current index is: 0\n",
      "\n",
      "current list is: [1, 1, 1]\n",
      "\n",
      "first one in current list is at 0\n",
      "\n",
      "prisoners freed so far 1\n",
      "current index is: 1\n",
      "\n",
      "current list is: [0, 0, 0]\n",
      "\n"
     ]
    },
    {
     "data": {
      "text/plain": [
       "1"
      ]
     },
     "execution_count": 83,
     "metadata": {},
     "output_type": "execute_result"
    }
   ],
   "source": [
    "freed_prisoners([1, 1, 1])"
   ]
  },
  {
   "cell_type": "markdown",
   "metadata": {},
   "source": [
    "## 8. Additional Resources\n",
    "\n",
    "* #### Automate the Boring Stuff with Python - https://automatetheboringstuff.com\n",
    "* #### Datacamp - https://www.datacamp.com/courses/intro-to-python-for-data-science\n",
    "* #### Learn Python - https://www.learnpython.org/"
   ]
  },
  {
   "cell_type": "code",
   "execution_count": null,
   "metadata": {},
   "outputs": [],
   "source": []
  }
 ],
 "metadata": {
  "celltoolbar": "Raw Cell Format",
  "kernelspec": {
   "display_name": "Python 3",
   "language": "python",
   "name": "python3"
  },
  "language_info": {
   "codemirror_mode": {
    "name": "ipython",
    "version": 3
   },
   "file_extension": ".py",
   "mimetype": "text/x-python",
   "name": "python",
   "nbconvert_exporter": "python",
   "pygments_lexer": "ipython3",
   "version": "3.7.7"
  }
 },
 "nbformat": 4,
 "nbformat_minor": 4
}
