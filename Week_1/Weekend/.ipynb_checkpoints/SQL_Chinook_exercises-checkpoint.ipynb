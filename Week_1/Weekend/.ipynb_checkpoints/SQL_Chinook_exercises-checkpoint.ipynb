{
 "cells": [
  {
   "cell_type": "markdown",
   "metadata": {},
   "source": [
    "## We will be working with database chinook.db\n",
    "You can download it here: https://drive.google.com/file/d/0Bz9_0VdXvv9bWUtqM0NBYzhKZ3c/view?usp=sharing\n",
    "\n",
    "The\tChinook\tDatabase is\tabout an imaginary video and music store. Each track is\tstored using one of\tthe digital formats and\thas\ta genre. The store has also\tsome playlists,\twhere a single track can be\tpart of several\tplaylists. Orders are recorded\tfor\tcustomers, but are called invoices. Every customer is assigned a support employee, and Employees report to other employees."
   ]
  },
  {
   "cell_type": "code",
   "execution_count": null,
   "metadata": {},
   "outputs": [],
   "source": []
  },
  {
   "cell_type": "code",
   "execution_count": null,
   "metadata": {},
   "outputs": [],
   "source": []
  },
  {
   "cell_type": "markdown",
   "metadata": {},
   "source": [
    "### Which\tartists\tdid\tnot\tmake\tany\talbums\tat\tall?\tInclude\ttheir\tnames\tin your\tanswer."
   ]
  },
  {
   "cell_type": "markdown",
   "metadata": {},
   "source": [
    "### Which\tartists\trecorded\tany\ttracks\tof\tthe\tLatin\tgenre?"
   ]
  },
  {
   "cell_type": "markdown",
   "metadata": {},
   "source": [
    "### Which\tvideo track\thas\tthe\tlongest\tlength?"
   ]
  },
  {
   "cell_type": "markdown",
   "metadata": {},
   "source": [
    "### Find\tthe\tnames\tof\tcustomers\twho\tlive\tin\tthe\tsame\tcity\tas\tthe\ttop\temployee\t(The\tone\tnot\tmanaged\tby\tanyone)."
   ]
  },
  {
   "cell_type": "markdown",
   "metadata": {},
   "source": [
    "### Find\tthe\tmanagers of\temployees\tsupporting\tBrazilian\tcustomers."
   ]
  },
  {
   "cell_type": "markdown",
   "metadata": {},
   "source": [
    "### Which\tplaylists\thave\tno\tLatin\ttracks?"
   ]
  },
  {
   "cell_type": "code",
   "execution_count": null,
   "metadata": {},
   "outputs": [],
   "source": [
    "### Which\tartists\tdid\tnot\tmake\tany\talbums\tat\tall?\tInclude\ttheir\tnames\tin your\tanswer.\n",
    "select artists.Name, albums.Title from artists\n",
    "  left outer join albums\n",
    "  on artists.Artistid = albums.Artistid\n",
    "  where albums.Title IS NULL\n",
    "Name\n",
    "Milton Nascimento & Bebeto\n",
    "Azymuth\n",
    "João Gilberto\n",
    "Bebel Gilberto\n",
    "Jorge Vercilo\n",
    "Baby Consuelo\n",
    "Ney Matogrosso\n",
    "Luiz Melodia\n",
    "Nando Reis\n",
    "Pedro Luís & A Parede\n",
    "Banda Black Rio\n",
    "Fernanda Porto\n",
    "Os Cariocas\n",
    "A Cor Do Som\n",
    "Kid Abelha\n",
    "Sandra De Sá\n",
    "Hermeto Pascoal\n",
    "Barão Vermelho\n",
    "Edson, DJ Marky & DJ Patife Featuring Fernanda Porto\n",
    "Santana Feat. Dave Matthews\n",
    "Santana Feat. Everlast\n",
    "Santana Feat. Rob Thomas\n",
    "Santana Feat. Lauryn Hill & Cee-Lo\n",
    "Santana Feat. The Project G&B\n",
    "Santana Feat. Maná\n",
    "Santana Feat. Eagle-Eye Cherry\n",
    "Santana Feat. Eric Clapton\n",
    "Vinícius De Moraes & Baden Powell\n",
    "Vinícius E Qurteto Em Cy\n",
    "Vinícius E Odette Lara\n",
    "Vinicius, Toquinho & Quarteto Em Cy\n",
    "Motörhead & Girlschool\n",
    "Peter Tosh\n",
    "R.E.M. Feat. KRS-One\n",
    "Simply Red\n",
    "Whitesnake\n",
    "Christina Aguilera featuring BigElf\n",
    "Aerosmith & Sierra Leone's Refugee Allstars\n",
    "Los Lonely Boys\n",
    "Corinne Bailey Rae\n",
    "Dhani Harrison & Jakob Dylan\n",
    "Jackson Browne\n",
    "Avril Lavigne\n",
    "Big & Rich\n",
    "Youssou N'Dour\n",
    "Black Eyed Peas\n",
    "Jack Johnson\n",
    "Ben Harper\n",
    "Snow Patrol\n",
    "Matisyahu\n",
    "The Postal Service\n",
    "Jaguares\n",
    "The Flaming Lips\n",
    "Jack's Mannequin & Mick Fleetwood\n",
    "Regina Spektor\n",
    "Xis\n",
    "Nega Gizza\n",
    "Gustavo & Andres Veiga & Salazar\n",
    "Rodox\n",
    "Charlie Brown Jr.\n",
    "Pedro Luís E A Parede\n",
    "Los Hermanos\n",
    "Mundo Livre S/A\n",
    "Otto\n",
    "Instituto\n",
    "Nação Zumbi\n",
    "DJ Dolores & Orchestra Santa Massa\n",
    "Seu Jorge\n",
    "Sabotage E Instituto\n",
    "Stereo Maracana\n",
    "Academy of St. Martin in the Fields, Sir Neville Marriner & William Bennett\n"
   ]
  },
  {
   "cell_type": "code",
   "execution_count": null,
   "metadata": {},
   "outputs": [],
   "source": [
    "### Which\tartists\trecorded\tany\ttracks\tof\tthe\tLatin\tgenre?\n",
    "#select artists.Name, genres.Name from artists\n",
    "#  left outer join albums\n",
    "#  on artists.Artistid = albums.Artistid\n",
    "#  left outer join tracks\n",
    "#  on tracks.Albumid = albums.Albumid\n",
    "#  left outer join genres\n",
    "#  on genres.Genreid = tracks.Genreid\n",
    "#  where genres.Name = \"Latin\"\n",
    "#  Group by artists.Name\n",
    "Name\n",
    "Antônio Carlos Jobim\n",
    "Caetano Veloso\n",
    "Chico Buarque\n",
    "Chico Science & Nação Zumbi\n",
    "Cláudio Zoli\n",
    "Cássia Eller\n",
    "Djavan\n",
    "Ed Motta\n",
    "Elis Regina\n",
    "Eric Clapton\n",
    "Falamansa\n",
    "Funk Como Le Gusta\n",
    "Gilberto Gil\n",
    "Gonzaguinha\n",
    "Jorge Ben\n",
    "Jota Quest\n",
    "Legião Urbana\n",
    "Luciana Souza/Romero Lubambo\n",
    "Lulu Santos\n",
    "Marcos Valle\n",
    "Marisa Monte\n",
    "Milton Nascimento\n",
    "Olodum\n",
    "Os Paralamas Do Sucesso\n",
    "Tim Maia\n",
    "Various Artists\n",
    "Vinícius De Moraes\n",
    "Zeca Pagodinho\n"
   ]
  },
  {
   "cell_type": "code",
   "execution_count": null,
   "metadata": {},
   "outputs": [],
   "source": [
    "### Which\tvideo track\thas\tthe\tlongest\tlength?\n",
    "select tracks.Name, tracks.Milliseconds as length from artists\n",
    "  left outer join albums\n",
    "  on artists.Artistid = albums.Artistid\n",
    "  left outer join tracks\n",
    "  on tracks.Albumid = albums.Albumid\n",
    "  left outer join media_types\n",
    "  on media_types.MediaTypeid = tracks.MediaTypeid\n",
    "  where media_types.name LIKE \"%video%\"\n",
    "  order by length desc"
   ]
  },
  {
   "cell_type": "code",
   "execution_count": null,
   "metadata": {},
   "outputs": [],
   "source": [
    "Occupation / Precipice\t5286953"
   ]
  },
  {
   "cell_type": "code",
   "execution_count": null,
   "metadata": {},
   "outputs": [],
   "source": [
    "### Find\tthe\tnames\tof\tcustomers\twho\tlive\tin\tthe\tsame\tcity\tas\tthe\ttop\temployee\t(The\tone\tnot\tmanaged\tby\tanyone).\n",
    "select customers.FirstName, customers.LastName from customers\n",
    "  where customers.City = (select City from employees\n",
    "  where ReportsTo IS NULL);"
   ]
  },
  {
   "cell_type": "code",
   "execution_count": null,
   "metadata": {},
   "outputs": [],
   "source": [
    "FirstName\tLastName\n",
    "Mark\tPhilips"
   ]
  },
  {
   "cell_type": "code",
   "execution_count": null,
   "metadata": {},
   "outputs": [],
   "source": [
    "### Find\tthe\tmanagers of\temployees\tsupporting\tBrazilian\tcustomers.\n",
    "select employees.FirstName, employees.LastName from employees\n",
    "  left outer join employees a\n",
    "  on employees.EmployeeId = a.ReportsTo\n",
    "  left outer join customers\n",
    "  on a.EmployeeId = customers.SupportRepId\n",
    "  where customers.Country = \"Brazil\"\n",
    "  group by employees.FirstName"
   ]
  },
  {
   "cell_type": "code",
   "execution_count": null,
   "metadata": {},
   "outputs": [],
   "source": [
    "FirstName\tLastName\n",
    "Nancy\tEdwards"
   ]
  },
  {
   "cell_type": "code",
   "execution_count": null,
   "metadata": {},
   "outputs": [],
   "source": [
    "### Which\tplaylists\thave\tno\tLatin\ttracks?\n",
    "select playlists.Name from playlists\n",
    "  join playlist_track\n",
    "  on playlist_track.PlaylistId = playlists.PlaylistId\n",
    "  join tracks\n",
    "  on tracks.TrackId = playlist_track.TrackId\n",
    "  join genres\n",
    "  on tracks.genreId = genres.genreId\n",
    "  where genres.Name NOT Like \"Latin\"\n",
    "  group by playlists.Name"
   ]
  },
  {
   "cell_type": "code",
   "execution_count": null,
   "metadata": {},
   "outputs": [],
   "source": [
    "Name\n",
    "90’s Music\n",
    "Classical\n",
    "Classical 101 - Deep Cuts\n",
    "Classical 101 - Next Steps\n",
    "Classical 101 - The Basics\n",
    "Grunge\n",
    "Heavy Metal Classic\n",
    "Music\n",
    "Music Videos\n",
    "On-The-Go 1\n",
    "TV Shows"
   ]
  }
 ],
 "metadata": {
  "kernelspec": {
   "display_name": "Python 3",
   "language": "python",
   "name": "python3"
  },
  "language_info": {
   "codemirror_mode": {
    "name": "ipython",
    "version": 3
   },
   "file_extension": ".py",
   "mimetype": "text/x-python",
   "name": "python",
   "nbconvert_exporter": "python",
   "pygments_lexer": "ipython3",
   "version": "3.7.6"
  }
 },
 "nbformat": 4,
 "nbformat_minor": 4
}
