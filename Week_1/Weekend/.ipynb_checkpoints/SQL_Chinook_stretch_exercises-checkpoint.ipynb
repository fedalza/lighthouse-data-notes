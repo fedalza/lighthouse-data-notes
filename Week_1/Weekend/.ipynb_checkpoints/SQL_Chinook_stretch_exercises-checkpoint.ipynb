{
 "cells": [
  {
   "cell_type": "markdown",
   "metadata": {},
   "source": [
    "## We will be working with database chinook.db\n",
    "You can download it here: https://drive.google.com/file/d/0Bz9_0VdXvv9bWUtqM0NBYzhKZ3c/view?usp=sharing\n",
    "\n",
    "The\tChinook\tDatabase is\tabout an imaginary video and music store. Each track is\tstored using one of\tthe digital formats and\thas\ta genre. The store has also\tsome playlists,\twhere a single track can be\tpart of several\tplaylists. Orders are recorded\tfor\tcustomers, but are called invoices. Every customer is assigned a support employee, and Employees report to other employees."
   ]
  },
  {
   "cell_type": "code",
   "execution_count": null,
   "metadata": {},
   "outputs": [],
   "source": []
  },
  {
   "cell_type": "markdown",
   "metadata": {},
   "source": [
    "### How\tmany\taudio tracks\tin\ttotal\twere\tbought\tby\tGerman\tcustomers? And\twhat\twas\tthe\ttotal\tprice\tpaid for\tthem?\n",
    "hint: use subquery to find all of tracks with their prices"
   ]
  },
  {
   "cell_type": "code",
   "execution_count": null,
   "metadata": {},
   "outputs": [],
   "source": [
    "select count(invoice_items.UnitPrice), sum(invoice_items.UnitPrice) from invoice_items\n",
    "  join invoices\n",
    "    on invoices.invoiceId = invoice_items.invoiceId\n",
    "  join customers\n",
    "    on customers.CustomerId = invoices.CustomerId\n",
    "   where customers.Country = \"Germany\""
   ]
  },
  {
   "cell_type": "code",
   "execution_count": null,
   "metadata": {},
   "outputs": [],
   "source": [
    "count(invoice_items.UnitPrice)\tsum(invoice_items.UnitPrice)\n",
    "152\t156.48"
   ]
  },
  {
   "cell_type": "markdown",
   "metadata": {},
   "source": [
    "### What\tis\tthe\tspace,\tin\tbytes,\toccupied\tby\tthe\tplaylist\t“Grunge”,\tand\thow\tmuch\twould\tit\tcost?\n",
    "(Assume\tthat\tthe\tcost\tof\ta\tplaylist\tis\tthe\tsum\tof\tthe\tprice\tof\tits\tconstituent\ttracks)."
   ]
  },
  {
   "cell_type": "code",
   "execution_count": null,
   "metadata": {},
   "outputs": [],
   "source": [
    "select sum(tracks.Bytes), sum(invoice_items.UnitPrice), count(tracks.Name) from tracks\n",
    "  left outer join playlist_track\n",
    "    on playlist_track.TrackId = tracks.TrackId\n",
    "   left outer join playlists\n",
    "    on playlists.PlaylistId = playlist_track.PlaylistId\n",
    "   left outer join invoice_items\n",
    "    on invoice_items.TrackId = tracks.TrackId\n",
    "   where playlists.Name LIKE \"Grunge\""
   ]
  },
  {
   "cell_type": "code",
   "execution_count": null,
   "metadata": {},
   "outputs": [],
   "source": [
    "sum(tracks.Bytes)\tsum(invoice_items.UnitPrice)\n",
    "130886739\t6.93"
   ]
  },
  {
   "cell_type": "markdown",
   "metadata": {},
   "source": [
    "### List\tthe\tnames\tand\tthe\tcountries\tof\tthose\tcustomers\twho\tare\tsupported\tby\tan\temployee\twho\twas\tyounger\tthan\t35\twhen\thired. "
   ]
  },
  {
   "cell_type": "code",
   "execution_count": null,
   "metadata": {},
   "outputs": [],
   "source": [
    "select customers.FirstName, customers.LastName, customers.Country from customers\n",
    "  left outer join employees\n",
    "    on employees.EmployeeId = customers.SupportRepId\n",
    "   where cast(employees.HireDate as float)-cast(employees.BirthDate as float)<35"
   ]
  },
  {
   "cell_type": "code",
   "execution_count": null,
   "metadata": {},
   "outputs": [],
   "source": [
    "FirstName\tLastName\tCountry\n",
    "Luís\tGonçalves\tBrazil\n",
    "François\tTremblay\tCanada\n",
    "Roberto\tAlmeida\tBrazil\n",
    "Jennifer\tPeterson\tCanada\n",
    "Michelle\tBrooks\tUSA\n",
    "Tim\tGoyer\tUSA\n",
    "Frank\tRalston\tUSA\n",
    "Robert\tBrown\tCanada\n",
    "Edward\tFrancis\tCanada\n",
    "Ellie\tSullivan\tCanada\n",
    "Fynn\tZimmermann\tGermany\n",
    "Niklas\tSchröder\tGermany\n",
    "Wyatt\tGirard\tFrance\n",
    "Isabelle\tMercier\tFrance\n",
    "Terhi\tHämäläinen\tFinland\n",
    "Ladislav\tKovács\tHungary\n",
    "Hugh\tO'Reilly\tIreland\n",
    "Emma\tJones\tUnited Kingdom\n",
    "Phil\tHughes\tUnited Kingdom\n",
    "Manoj\tPareek\tIndia\n",
    "Puja\tSrivastava\tIndia"
   ]
  }
 ],
 "metadata": {
  "kernelspec": {
   "display_name": "Python 3",
   "language": "python",
   "name": "python3"
  },
  "language_info": {
   "codemirror_mode": {
    "name": "ipython",
    "version": 3
   },
   "file_extension": ".py",
   "mimetype": "text/x-python",
   "name": "python",
   "nbconvert_exporter": "python",
   "pygments_lexer": "ipython3",
   "version": "3.7.6"
  }
 },
 "nbformat": 4,
 "nbformat_minor": 4
}
