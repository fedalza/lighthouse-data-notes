{
 "cells": [
  {
   "cell_type": "code",
   "execution_count": 1,
   "metadata": {},
   "outputs": [],
   "source": [
    "import numpy as np\n",
    "import pandas as pd\n",
    "\n",
    "# import linear_model and datasets from sklearn\n",
    "from sklearn import linear_model\n",
    "\n",
    "# import GridSearchCV from sklearn\n",
    "from sklearn.model_selection import GridSearchCV\n",
    "\n",
    "import matplotlib.pyplot as plt\n",
    "import seaborn as sns\n",
    "%matplotlib inline"
   ]
  },
  {
   "cell_type": "markdown",
   "metadata": {},
   "source": [
    "## Task 1: Download your data and load them into the Python.\n",
    "You can find them [**here**](https://drive.google.com/file/d/0Bz9_0VdXvv9bX0MzUEhVdmpCc3c/view?usp=sharing).\n",
    "\n",
    "- Features and response variables are in different files\n",
    "- be careful about number of spaces between the values in the file"
   ]
  },
  {
   "cell_type": "code",
   "execution_count": 95,
   "metadata": {},
   "outputs": [
    {
     "data": {
      "text/plain": [
       "(7352, 561)"
      ]
     },
     "execution_count": 95,
     "metadata": {},
     "output_type": "execute_result"
    }
   ],
   "source": [
    "X = pd.read_csv('Smartphone Sensor Data/Smartphone Sensor Data/train/X_train.txt',delimiter= '\\s+', index_col=False, header = None)\n",
    "X.shape"
   ]
  },
  {
   "cell_type": "code",
   "execution_count": 96,
   "metadata": {},
   "outputs": [],
   "source": [
    "y = pd.read_csv('Smartphone Sensor Data/Smartphone Sensor Data/train/y_train.txt',delimiter= '\\s+', index_col=False, header = None)"
   ]
  },
  {
   "cell_type": "markdown",
   "metadata": {},
   "source": [
    "## Task 2: Create Binary target variable: categories 1,2,3 --> 1, categories 4,5,6 --> 0 \n",
    "This will represent binary variable indicating if person is walking or not"
   ]
  },
  {
   "cell_type": "code",
   "execution_count": 97,
   "metadata": {},
   "outputs": [],
   "source": [
    "y_binary = np.zeros(len(y))\n",
    "X54 = np.zeros(len(y))\n",
    "for i in range(len(y)):\n",
    "    if y.loc[i,0]<4:\n",
    "        y_binary[i] = 1\n",
    "    X54[i] = X.loc[i,54]"
   ]
  },
  {
   "cell_type": "code",
   "execution_count": 64,
   "metadata": {},
   "outputs": [],
   "source": [
    "y_binary = y_binary.reshape(-1,1)\n",
    "X54 = X54.reshape(-1,1)"
   ]
  },
  {
   "cell_type": "markdown",
   "metadata": {},
   "source": [
    "## Task 3\n",
    "\n",
    "+ Create Univariate Binary Logistic Regression with feature number 54, which represents `tGravityAcc-min()-Y`: gravity acceleration signals in direction of Y\n",
    "+ Compare the results of Logistic regressions from different Python packages (sklearn, statsmodel)\n",
    "+ Plot the FIT of predicted probabilities to the original values"
   ]
  },
  {
   "cell_type": "code",
   "execution_count": 65,
   "metadata": {},
   "outputs": [],
   "source": [
    "from sklearn.model_selection import train_test_split\n",
    "from sklearn.linear_model import LogisticRegression\n",
    "from sklearn import metrics\n",
    "\n",
    "X_train, X_test, y_train, y_test = train_test_split(X54,y_binary,test_size=0.25,random_state=0,stratify=y_binary)"
   ]
  },
  {
   "cell_type": "code",
   "execution_count": 66,
   "metadata": {},
   "outputs": [
    {
     "name": "stderr",
     "output_type": "stream",
     "text": [
      "C:\\Users\\Admin\\anaconda3\\envs\\boot_env\\lib\\site-packages\\sklearn\\utils\\validation.py:73: DataConversionWarning: A column-vector y was passed when a 1d array was expected. Please change the shape of y to (n_samples, ), for example using ravel().\n",
      "  return f(**kwargs)\n"
     ]
    },
    {
     "data": {
      "text/plain": [
       "Text(0.5, 257.44, 'Predicted label')"
      ]
     },
     "execution_count": 66,
     "metadata": {},
     "output_type": "execute_result"
    },
    {
     "data": {
      "image/png": "[encoded data removed]",
      "text/plain": [
       "<Figure size 432x288 with 2 Axes>"
      ]
     },
     "metadata": {
      "needs_background": "light"
     },
     "output_type": "display_data"
    }
   ],
   "source": [
    "# sklearn\n",
    "logreg = LogisticRegression()\n",
    "logreg.fit(X_train,y_train)\n",
    "y_pred = logreg.predict(X_test)\n",
    "\n",
    "cnf_matrix = metrics.confusion_matrix(y_test, y_pred)\n",
    "\n",
    "class_names = [0,1]\n",
    "fig,ax = plt.subplots()\n",
    "tick_marks = np.arange(len(class_names))\n",
    "plt.xticks(tick_marks,class_names)\n",
    "plt.yticks(tick_marks,class_names)\n",
    "\n",
    "sns.heatmap(pd.DataFrame(cnf_matrix),annot=True,cmap='YlGnBu',fmt='g')\n",
    "ax.xaxis.set_label_position(\"top\")\n",
    "plt.tight_layout()\n",
    "plt.title('Confusion matrix',y=1.1)\n",
    "plt.ylabel('Actual label')\n",
    "plt.xlabel('Predicted label')"
   ]
  },
  {
   "cell_type": "code",
   "execution_count": 67,
   "metadata": {},
   "outputs": [
    {
     "data": {
      "image/png": "[encoded data removed]",
      "text/plain": [
       "<Figure size 432x288 with 1 Axes>"
      ]
     },
     "metadata": {
      "needs_background": "light"
     },
     "output_type": "display_data"
    }
   ],
   "source": [
    "y_pred_proba = logreg.predict_proba(X_test)[::,1]\n",
    "\n",
    "fpr, tpr, _ = metrics.roc_curve(y_test, y_pred_proba)\n",
    "auc = metrics.roc_auc_score(y_test,y_pred_proba)\n",
    "plt.plot(fpr,tpr,label='data 1, auc='+str(auc))\n",
    "plt.legend(loc=4)\n",
    "plt.show()"
   ]
  },
  {
   "cell_type": "code",
   "execution_count": 68,
   "metadata": {},
   "outputs": [
    {
     "name": "stdout",
     "output_type": "stream",
     "text": [
      "Optimization terminated successfully.\n",
      "         Current function value: 0.545522\n",
      "         Iterations 6\n",
      "                           Logit Regression Results                           \n",
      "==============================================================================\n",
      "Dep. Variable:                      y   No. Observations:                 5514\n",
      "Model:                          Logit   Df Residuals:                     5512\n",
      "Method:                           MLE   Df Model:                            1\n",
      "Date:                Tue, 18 Aug 2020   Pseudo R-squ.:                  0.2065\n",
      "Time:                        17:14:47   Log-Likelihood:                -3008.0\n",
      "converged:                       True   LL-Null:                       -3790.8\n",
      "Covariance Type:            nonrobust   LLR p-value:                     0.000\n",
      "==============================================================================\n",
      "                 coef    std err          z      P>|z|      [0.025      0.975]\n",
      "------------------------------------------------------------------------------\n",
      "const         -0.0534      0.031     -1.713      0.087      -0.115       0.008\n",
      "x1            -4.2383      0.141    -30.001      0.000      -4.515      -3.961\n",
      "==============================================================================\n"
     ]
    }
   ],
   "source": [
    "import statsmodels.api as sm\n",
    "\n",
    "X54_sm = sm.add_constant(X54)\n",
    "X_train_sm, X_test_sm, y_train_sm, y_test_sm = train_test_split(X54_sm,y_binary,test_size=0.25,random_state=0,stratify=y_binary)\n",
    "\n",
    "\n",
    "logit = sm.Logit(y_train_sm, X_train_sm)\n",
    "\n",
    "# fit the model\n",
    "result = logit.fit()\n",
    "print(result.summary())"
   ]
  },
  {
   "cell_type": "code",
   "execution_count": 87,
   "metadata": {},
   "outputs": [],
   "source": [
    "y_pred_sm = result.predict(X_test_sm)"
   ]
  },
  {
   "cell_type": "code",
   "execution_count": 92,
   "metadata": {},
   "outputs": [
    {
     "data": {
      "text/plain": [
       "<matplotlib.collections.PathCollection at 0x2ad5e1e8c70>"
      ]
     },
     "execution_count": 92,
     "metadata": {},
     "output_type": "execute_result"
    },
    {
     "data": {
      "image/png": "[encoded data removed]",
      "text/plain": [
       "<Figure size 432x288 with 1 Axes>"
      ]
     },
     "metadata": {
      "needs_background": "light"
     },
     "output_type": "display_data"
    }
   ],
   "source": [
    "plt.scatter(X_test_sm[:,1],y_pred_sm)\n",
    "plt.scatter(X_test,y_test)\n",
    "plt.scatter(X_test,logreg.predict_proba(X_test)[:,1])"
   ]
  },
  {
   "cell_type": "code",
   "execution_count": 89,
   "metadata": {},
   "outputs": [],
   "source": [
    "test = np.zeros(len(y_pred_sm))\n",
    "for i in range(len(y_pred_sm)):\n",
    "    if y_pred_sm[i]>0.5:\n",
    "        test[i]=1"
   ]
  },
  {
   "cell_type": "markdown",
   "metadata": {},
   "source": [
    "## Task 4\n",
    "- Try to fit Binary Logistic Regression with all the features? How many are significant?"
   ]
  },
  {
   "cell_type": "code",
   "execution_count": 163,
   "metadata": {},
   "outputs": [],
   "source": [
    "X_all = sm.add_constant(X)\n",
    "X_train_all, X_test_all, y_train_all, y_test_all = train_test_split(X_all,y_binary,test_size=0.25,random_state=0,stratify=y_binary)\n",
    "\n",
    "\n",
    "logit = sm.GLM(y_train_all, X_train_all)\n",
    "\n",
    "# fit the model\n",
    "result = logit.fit()"
   ]
  },
  {
   "cell_type": "code",
   "execution_count": 164,
   "metadata": {},
   "outputs": [],
   "source": [
    "to_keep = pd.DataFrame(result.pvalues<0.005)\n",
    "to_keep = to_keep.index[to_keep[0] == True][1:-1].tolist()\n",
    "X_keep = X_all.iloc[:,to_keep]"
   ]
  },
  {
   "cell_type": "code",
   "execution_count": 165,
   "metadata": {},
   "outputs": [
    {
     "name": "stdout",
     "output_type": "stream",
     "text": [
      "                 Generalized Linear Model Regression Results                  \n",
      "==============================================================================\n",
      "Dep. Variable:                      y   No. Observations:                 5514\n",
      "Model:                            GLM   Df Residuals:                     5423\n",
      "Model Family:                Gaussian   Df Model:                           90\n",
      "Link Function:               identity   Scale:                       0.0031129\n",
      "Method:                          IRLS   Log-Likelihood:                 8135.8\n",
      "Date:                Tue, 18 Aug 2020   Deviance:                       16.881\n",
      "Time:                        21:47:47   Pearson chi2:                     16.9\n",
      "No. Iterations:                     3                                         \n",
      "Covariance Type:            nonrobust                                         \n",
      "==============================================================================\n",
      "                 coef    std err          z      P>|z|      [0.025      0.975]\n",
      "------------------------------------------------------------------------------\n",
      "2             -0.0603      0.015     -4.084      0.000      -0.089      -0.031\n",
      "3              0.3547      0.063      5.614      0.000       0.231       0.479\n",
      "5             -0.6393      0.222     -2.878      0.004      -1.075      -0.204\n",
      "13            -0.0937      0.010     -9.561      0.000      -0.113      -0.075\n",
      "21             0.0226      0.010      2.163      0.031       0.002       0.043\n",
      "36            -0.0284      0.004     -7.427      0.000      -0.036      -0.021\n",
      "39            -0.0070      0.002     -2.841      0.004      -0.012      -0.002\n",
      "41             0.9884      0.083     11.867      0.000       0.825       1.152\n",
      "43            -1.5962      0.197     -8.099      0.000      -1.983      -1.210\n",
      "44            -0.6171      0.228     -2.708      0.007      -1.064      -0.171\n",
      "46             1.3395      0.201      6.653      0.000       0.945       1.734\n",
      "47             0.6111      0.206      2.959      0.003       0.206       1.016\n",
      "50            -0.7719      0.097     -7.978      0.000      -0.961      -0.582\n",
      "51            -0.3634      0.058     -6.286      0.000      -0.477      -0.250\n",
      "53            -0.2534      0.089     -2.845      0.004      -0.428      -0.079\n",
      "54             0.3475      0.057      6.064      0.000       0.235       0.460\n",
      "61            -0.1280      0.026     -4.837      0.000      -0.180      -0.076\n",
      "62             0.0103      0.003      3.394      0.001       0.004       0.016\n",
      "63            -0.0522      0.004    -12.028      0.000      -0.061      -0.044\n",
      "82            -0.0062      0.005     -1.297      0.195      -0.016       0.003\n",
      "84            -0.1806      0.036     -4.953      0.000      -0.252      -0.109\n",
      "88            -0.2232      0.063     -3.563      0.000      -0.346      -0.100\n",
      "92            -0.0072      0.007     -1.064      0.287      -0.020       0.006\n",
      "101            0.0462      0.025      1.846      0.065      -0.003       0.095\n",
      "103            0.0944      0.009     10.917      0.000       0.077       0.111\n",
      "118            0.0135      0.003      4.014      0.000       0.007       0.020\n",
      "123            0.0420      0.012      3.591      0.000       0.019       0.065\n",
      "125           -0.0757      0.012     -6.533      0.000      -0.098      -0.053\n",
      "132           -0.0170      0.008     -2.016      0.044      -0.034      -0.000\n",
      "134           -0.0239      0.010     -2.416      0.016      -0.043      -0.005\n",
      "143           -0.0068      0.003     -2.170      0.030      -0.013      -0.001\n",
      "158           -0.0016      0.002     -0.784      0.433      -0.006       0.002\n",
      "162            0.0039      0.006      0.657      0.511      -0.008       0.016\n",
      "170            0.0114      0.014      0.837      0.402      -0.015       0.038\n",
      "171           -0.0052      0.009     -0.578      0.563      -0.023       0.013\n",
      "181            0.0957      0.013      7.239      0.000       0.070       0.122\n",
      "199            0.0091      0.003      2.717      0.007       0.003       0.016\n",
      "200            0.7891      0.020     40.362      0.000       0.751       0.827\n",
      "203            0.0064      0.008      0.850      0.395      -0.008       0.021\n",
      "204           -0.0092      0.005     -1.990      0.047      -0.018      -0.000\n",
      "207           -0.0243      0.006     -3.860      0.000      -0.037      -0.012\n",
      "212            0.0027      0.002      1.472      0.141      -0.001       0.006\n",
      "213            0.7891      0.020     40.362      0.000       0.751       0.827\n",
      "216            0.0064      0.008      0.850      0.395      -0.008       0.021\n",
      "217           -0.0092      0.005     -1.990      0.047      -0.018      -0.000\n",
      "219           -2.1392      0.046    -46.946      0.000      -2.229      -2.050\n",
      "220           -0.0243      0.006     -3.860      0.000      -0.037      -0.012\n",
      "225            0.0027      0.002      1.472      0.141      -0.001       0.006\n",
      "230           -0.0039      0.006     -0.636      0.525      -0.016       0.008\n",
      "238            0.0029      0.003      0.894      0.371      -0.003       0.009\n",
      "239            0.2672      0.019     14.370      0.000       0.231       0.304\n",
      "240           -0.1832      0.058     -3.160      0.002      -0.297      -0.070\n",
      "241            0.0307      0.062      0.496      0.620      -0.090       0.152\n",
      "243           -0.0077      0.005     -1.428      0.153      -0.018       0.003\n",
      "246           -0.0301      0.021     -1.439      0.150      -0.071       0.011\n",
      "247            0.0397      0.005      8.017      0.000       0.030       0.049\n",
      "248            0.0794      0.015      5.400      0.000       0.051       0.108\n",
      "249            0.1022      0.018      5.538      0.000       0.066       0.138\n",
      "250            0.0410      0.008      5.292      0.000       0.026       0.056\n",
      "253           -0.0440      0.048     -0.917      0.359      -0.138       0.050\n",
      "259            0.0244      0.020      1.245      0.213      -0.014       0.063\n",
      "260           -0.1654      0.008    -20.708      0.000      -0.181      -0.150\n",
      "261           -0.0140      0.007     -2.006      0.045      -0.028      -0.000\n",
      "262           -0.0254      0.008     -3.033      0.002      -0.042      -0.009\n",
      "263            0.0004      0.005      0.087      0.931      -0.009       0.009\n",
      "267            0.3326      0.076      4.349      0.000       0.183       0.483\n",
      "268            0.0915      0.052      1.749      0.080      -0.011       0.194\n",
      "270            0.5888      0.157      3.743      0.000       0.280       0.897\n",
      "287            0.1010      0.010     10.138      0.000       0.081       0.120\n",
      "299           -0.0083      0.003     -3.020      0.003      -0.014      -0.003\n",
      "300           -0.0255      0.003     -8.669      0.000      -0.031      -0.020\n",
      "348            0.1423      0.037      3.874      0.000       0.070       0.214\n",
      "349            0.0694      0.039      1.802      0.072      -0.006       0.145\n",
      "354           -0.0012      0.013     -0.092      0.927      -0.027       0.024\n",
      "365            0.0064      0.017      0.371      0.711      -0.027       0.040\n",
      "373           -0.0096      0.005     -1.814      0.070      -0.020       0.001\n",
      "380            0.0060      0.007      0.897      0.370      -0.007       0.019\n",
      "381           -0.0070      0.017     -0.407      0.684      -0.041       0.027\n",
      "451            0.0175      0.004      4.124      0.000       0.009       0.026\n",
      "452            0.0120      0.004      2.742      0.006       0.003       0.020\n",
      "455           -0.0012      0.003     -0.397      0.691      -0.007       0.005\n",
      "456            0.0108      0.004      3.078      0.002       0.004       0.018\n",
      "501           -0.0238      0.022     -1.083      0.279      -0.067       0.019\n",
      "502           -0.1019      0.014     -7.218      0.000      -0.130      -0.074\n",
      "503           -0.3979      0.028    -13.986      0.000      -0.454      -0.342\n",
      "506           -0.0065      0.008     -0.854      0.393      -0.021       0.008\n",
      "507           -0.1019      0.014     -7.218      0.000      -0.130      -0.074\n",
      "508            0.8096      0.038     21.117      0.000       0.734       0.885\n",
      "509           -0.0284      0.012     -2.472      0.013      -0.051      -0.006\n",
      "522            0.0195      0.011      1.833      0.067      -0.001       0.040\n",
      "524            0.0081      0.004      1.890      0.059      -0.000       0.017\n",
      "527            0.0165      0.003      5.075      0.000       0.010       0.023\n",
      "528            0.0574      0.016      3.600      0.000       0.026       0.089\n",
      "532           -0.0370      0.007     -5.449      0.000      -0.050      -0.024\n",
      "533            0.0574      0.016      3.600      0.000       0.026       0.089\n",
      "546           -0.0698      0.051     -1.369      0.171      -0.170       0.030\n",
      "550           -0.0073      0.005     -1.355      0.175      -0.018       0.003\n",
      "557           -0.0010      0.002     -0.607      0.544      -0.004       0.002\n",
      "==============================================================================\n"
     ]
    }
   ],
   "source": [
    "X_train_k, X_test_k, y_train_k, y_test_k = train_test_split(X_keep,y_binary,test_size=0.25,random_state=0,stratify=y_binary)\n",
    "\n",
    "logit = sm.GLM(y_train_k, X_train_k)\n",
    "\n",
    "# fit the model\n",
    "result = logit.fit()\n",
    "print(result.summary())"
   ]
  },
  {
   "cell_type": "code",
   "execution_count": 167,
   "metadata": {},
   "outputs": [],
   "source": [
    "to_keep = pd.DataFrame(result.pvalues<0.005)\n",
    "to_keep = to_keep.index[to_keep[0] == True][1:-1].tolist()\n",
    "X_keep = X_keep.loc[:,to_keep]"
   ]
  },
  {
   "cell_type": "code",
   "execution_count": 168,
   "metadata": {},
   "outputs": [
    {
     "name": "stdout",
     "output_type": "stream",
     "text": [
      "                 Generalized Linear Model Regression Results                  \n",
      "==============================================================================\n",
      "Dep. Variable:                      y   No. Observations:                 5514\n",
      "Model:                            GLM   Df Residuals:                     5466\n",
      "Model Family:                Gaussian   Df Model:                           47\n",
      "Link Function:               identity   Scale:                       0.0031704\n",
      "Method:                          IRLS   Log-Likelihood:                 8063.6\n",
      "Date:                Tue, 18 Aug 2020   Deviance:                       17.329\n",
      "Time:                        21:48:21   Pearson chi2:                     17.3\n",
      "No. Iterations:                     3                                         \n",
      "Covariance Type:            nonrobust                                         \n",
      "==============================================================================\n",
      "                 coef    std err          z      P>|z|      [0.025      0.975]\n",
      "------------------------------------------------------------------------------\n",
      "3              0.4627      0.022     21.099      0.000       0.420       0.506\n",
      "5             -0.5254      0.199     -2.640      0.008      -0.915      -0.135\n",
      "13            -0.0939      0.009    -10.111      0.000      -0.112      -0.076\n",
      "36            -0.0311      0.004     -8.525      0.000      -0.038      -0.024\n",
      "39            -0.0087      0.002     -3.590      0.000      -0.013      -0.004\n",
      "41             0.9359      0.082     11.480      0.000       0.776       1.096\n",
      "43            -1.7307      0.192     -9.008      0.000      -2.107      -1.354\n",
      "46             1.4477      0.197      7.342      0.000       1.061       1.834\n",
      "47             0.0049      0.033      0.150      0.881      -0.059       0.069\n",
      "50            -0.7739      0.082     -9.386      0.000      -0.936      -0.612\n",
      "51            -0.3039      0.055     -5.543      0.000      -0.411      -0.196\n",
      "53            -0.1984      0.067     -2.942      0.003      -0.331      -0.066\n",
      "54             0.2886      0.054      5.314      0.000       0.182       0.395\n",
      "61            -0.1471      0.025     -5.893      0.000      -0.196      -0.098\n",
      "62             0.0111      0.003      3.743      0.000       0.005       0.017\n",
      "63            -0.0498      0.004    -11.634      0.000      -0.058      -0.041\n",
      "84            -0.1965      0.031     -6.428      0.000      -0.256      -0.137\n",
      "88            -0.1214      0.017     -7.168      0.000      -0.155      -0.088\n",
      "103            0.0973      0.008     11.526      0.000       0.081       0.114\n",
      "118            0.0138      0.003      4.268      0.000       0.007       0.020\n",
      "123            0.0613      0.010      6.325      0.000       0.042       0.080\n",
      "125           -0.0512      0.009     -5.986      0.000      -0.068      -0.034\n",
      "181            0.0825      0.012      7.012      0.000       0.059       0.106\n",
      "200            0.7868      0.018     44.758      0.000       0.752       0.821\n",
      "207           -0.0244      0.006     -4.337      0.000      -0.035      -0.013\n",
      "213            0.7868      0.018     44.758      0.000       0.752       0.821\n",
      "219           -2.1259      0.037    -56.968      0.000      -2.199      -2.053\n",
      "220           -0.0244      0.006     -4.337      0.000      -0.035      -0.013\n",
      "239            0.2298      0.015     15.496      0.000       0.201       0.259\n",
      "240           -0.1204      0.018     -6.541      0.000      -0.157      -0.084\n",
      "247            0.0326      0.005      7.113      0.000       0.024       0.042\n",
      "248            0.0706      0.014      5.005      0.000       0.043       0.098\n",
      "249            0.1011      0.018      5.539      0.000       0.065       0.137\n",
      "250            0.0466      0.008      6.098      0.000       0.032       0.062\n",
      "260           -0.1573      0.007    -21.802      0.000      -0.171      -0.143\n",
      "262           -0.0165      0.005     -3.305      0.001      -0.026      -0.007\n",
      "267            0.2726      0.070      3.882      0.000       0.135       0.410\n",
      "270            0.5370      0.141      3.807      0.000       0.261       0.814\n",
      "287            0.1037      0.009     11.104      0.000       0.085       0.122\n",
      "299           -0.0093      0.003     -3.481      0.001      -0.014      -0.004\n",
      "300           -0.0273      0.003     -9.550      0.000      -0.033      -0.022\n",
      "348            0.1599      0.026      6.167      0.000       0.109       0.211\n",
      "451            0.0199      0.004      4.938      0.000       0.012       0.028\n",
      "456            0.0082      0.003      2.609      0.009       0.002       0.014\n",
      "502           -0.1114      0.010    -10.934      0.000      -0.131      -0.091\n",
      "503           -0.3744      0.025    -14.873      0.000      -0.424      -0.325\n",
      "507           -0.1114      0.010    -10.934      0.000      -0.131      -0.091\n",
      "508            0.7833      0.036     21.808      0.000       0.713       0.854\n",
      "527            0.0158      0.003      5.400      0.000       0.010       0.022\n",
      "528            0.0147      0.022      0.672      0.502      -0.028       0.058\n",
      "532           -0.0328      0.007     -4.881      0.000      -0.046      -0.020\n",
      "==============================================================================\n"
     ]
    }
   ],
   "source": [
    "X_train_k, X_test_k, y_train_k, y_test_k = train_test_split(X_keep,y_binary,test_size=0.25,random_state=0,stratify=y_binary)\n",
    "\n",
    "\n",
    "logit = sm.GLM(y_train_k, X_train_k)\n",
    "\n",
    "# fit the model\n",
    "result = logit.fit()\n",
    "print(result.summary())"
   ]
  },
  {
   "cell_type": "code",
   "execution_count": 169,
   "metadata": {},
   "outputs": [],
   "source": [
    "to_keep = pd.DataFrame(result.pvalues<0.005)\n",
    "to_keep = to_keep.index[to_keep[0] == True][1:-1].tolist()\n",
    "X_keep = X_keep.loc[:,to_keep]"
   ]
  },
  {
   "cell_type": "code",
   "execution_count": 170,
   "metadata": {},
   "outputs": [
    {
     "name": "stdout",
     "output_type": "stream",
     "text": [
      "                 Generalized Linear Model Regression Results                  \n",
      "==============================================================================\n",
      "Dep. Variable:                      y   No. Observations:                 5514\n",
      "Model:                            GLM   Df Residuals:                     5472\n",
      "Model Family:                Gaussian   Df Model:                           41\n",
      "Link Function:               identity   Scale:                       0.0034719\n",
      "Method:                          IRLS   Log-Likelihood:                 7810.1\n",
      "Date:                Tue, 18 Aug 2020   Deviance:                       18.998\n",
      "Time:                        21:48:48   Pearson chi2:                     19.0\n",
      "No. Iterations:                     3                                         \n",
      "Covariance Type:            nonrobust                                         \n",
      "==============================================================================\n",
      "                 coef    std err          z      P>|z|      [0.025      0.975]\n",
      "------------------------------------------------------------------------------\n",
      "13            -0.0612      0.010     -6.391      0.000      -0.080      -0.042\n",
      "36            -0.0349      0.004     -9.166      0.000      -0.042      -0.027\n",
      "39            -0.0093      0.003     -3.691      0.000      -0.014      -0.004\n",
      "41             0.9708      0.085     11.482      0.000       0.805       1.136\n",
      "43            -1.6407      0.201     -8.174      0.000      -2.034      -1.247\n",
      "46             1.4117      0.206      6.861      0.000       1.008       1.815\n",
      "50            -1.1769      0.055    -21.369      0.000      -1.285      -1.069\n",
      "51            -0.5440      0.036    -15.096      0.000      -0.615      -0.473\n",
      "53             0.1590      0.044      3.613      0.000       0.073       0.245\n",
      "54             0.5287      0.036     14.805      0.000       0.459       0.599\n",
      "61            -0.1182      0.016     -7.168      0.000      -0.151      -0.086\n",
      "62             0.0126      0.003      4.088      0.000       0.007       0.019\n",
      "63            -0.0529      0.004    -11.916      0.000      -0.062      -0.044\n",
      "84            -0.2486      0.032     -7.819      0.000      -0.311      -0.186\n",
      "88            -0.1238      0.017     -7.237      0.000      -0.157      -0.090\n",
      "103            0.0878      0.009      9.971      0.000       0.071       0.105\n",
      "118            0.0257      0.003      7.743      0.000       0.019       0.032\n",
      "123            0.0509      0.010      5.243      0.000       0.032       0.070\n",
      "125           -0.0777      0.008     -9.379      0.000      -0.094      -0.061\n",
      "181            0.0925      0.012      7.724      0.000       0.069       0.116\n",
      "200            0.9422      0.016     57.433      0.000       0.910       0.974\n",
      "207           -0.0520      0.006     -9.132      0.000      -0.063      -0.041\n",
      "213            0.9422      0.016     57.433      0.000       0.910       0.974\n",
      "219           -1.9448      0.038    -51.787      0.000      -2.018      -1.871\n",
      "220           -0.0520      0.006     -9.132      0.000      -0.063      -0.041\n",
      "239            0.2868      0.015     19.599      0.000       0.258       0.315\n",
      "240           -0.1684      0.010    -17.610      0.000      -0.187      -0.150\n",
      "247            0.0385      0.005      8.346      0.000       0.029       0.048\n",
      "248            0.0728      0.014      5.035      0.000       0.044       0.101\n",
      "249            0.1051      0.019      5.557      0.000       0.068       0.142\n",
      "250            0.0536      0.008      6.713      0.000       0.038       0.069\n",
      "260           -0.1661      0.007    -22.778      0.000      -0.180      -0.152\n",
      "262           -0.0201      0.005     -3.887      0.000      -0.030      -0.010\n",
      "267            0.0545      0.021      2.651      0.008       0.014       0.095\n",
      "270            0.0768      0.012      6.511      0.000       0.054       0.100\n",
      "287            0.1482      0.009     15.607      0.000       0.130       0.167\n",
      "299           -0.0134      0.003     -4.894      0.000      -0.019      -0.008\n",
      "300           -0.0250      0.003     -8.632      0.000      -0.031      -0.019\n",
      "348            0.1510      0.027      5.573      0.000       0.098       0.204\n",
      "451            0.0218      0.004      5.233      0.000       0.014       0.030\n",
      "502           -0.0392      0.010     -3.945      0.000      -0.059      -0.020\n",
      "503           -0.2219      0.025     -8.785      0.000      -0.271      -0.172\n",
      "507           -0.0392      0.010     -3.945      0.000      -0.059      -0.020\n",
      "508            0.6698      0.037     18.126      0.000       0.597       0.742\n",
      "527            0.0172      0.003      5.653      0.000       0.011       0.023\n",
      "==============================================================================\n"
     ]
    }
   ],
   "source": [
    "X_train_k, X_test_k, y_train_k, y_test_k = train_test_split(X_keep,y_binary,test_size=0.25,random_state=0,stratify=y_binary)\n",
    "\n",
    "\n",
    "logit = sm.GLM(y_train_k, X_train_k)\n",
    "\n",
    "# fit the model\n",
    "result = logit.fit()\n",
    "print(result.summary())"
   ]
  },
  {
   "cell_type": "code",
   "execution_count": null,
   "metadata": {},
   "outputs": [],
   "source": []
  },
  {
   "cell_type": "code",
   "execution_count": null,
   "metadata": {},
   "outputs": [],
   "source": []
  },
  {
   "cell_type": "markdown",
   "metadata": {},
   "source": [
    "## Task 5\n",
    "Now, let's fit Multinomial Logistic regression to predict all categories. Firstly, we can start with **Univariate** model for these features number separately:\n",
    "+ 4\n",
    "+ 54\n",
    "- 19\n",
    "\n",
    "Check the contingency matrix to see the effect of particular features!! (each feature can be good in predicting different categories)"
   ]
  },
  {
   "cell_type": "code",
   "execution_count": 195,
   "metadata": {},
   "outputs": [],
   "source": [
    "X4 = np.zeros(len(y))\n",
    "X54 = np.zeros(len(y))\n",
    "X19 = np.zeros(len(y))\n",
    "for i in range(len(y)):\n",
    "    X4[i] = X.loc[i,4]\n",
    "    X54[i] = X.loc[i,54]\n",
    "    X19[i] = X.loc[i,19]\n",
    "X4 = X4.reshape(-1,1)\n",
    "X54 = X54.reshape(-1,1)\n",
    "X19 = X19.reshape(-1,1)\n",
    "y_arr = y[0].values.tolist()\n",
    "#y_arr = y_arr.reshape(-1,1)"
   ]
  },
  {
   "cell_type": "code",
   "execution_count": 196,
   "metadata": {},
   "outputs": [
    {
     "name": "stdout",
     "output_type": "stream",
     "text": [
      "Optimization terminated successfully.\n",
      "         Current function value: 1.132289\n",
      "         Iterations 10\n",
      "                          MNLogit Regression Results                          \n",
      "==============================================================================\n",
      "Dep. Variable:                      y   No. Observations:                 5514\n",
      "Model:                        MNLogit   Df Residuals:                     5504\n",
      "Method:                           MLE   Df Model:                            5\n",
      "Date:                Tue, 18 Aug 2020   Pseudo R-squ.:                  0.3653\n",
      "Time:                        22:10:43   Log-Likelihood:                -6243.4\n",
      "converged:                       True   LL-Null:                       -9836.2\n",
      "Covariance Type:            nonrobust   LLR p-value:                     0.000\n",
      "==============================================================================\n",
      "       y=2       coef    std err          z      P>|z|      [0.025      0.975]\n",
      "------------------------------------------------------------------------------\n",
      "const         -0.1295      0.048     -2.678      0.007      -0.224      -0.035\n",
      "x1             0.4143      0.231      1.791      0.073      -0.039       0.868\n",
      "------------------------------------------------------------------------------\n",
      "       y=3       coef    std err          z      P>|z|      [0.025      0.975]\n",
      "------------------------------------------------------------------------------\n",
      "const         -0.2848      0.051     -5.551      0.000      -0.385      -0.184\n",
      "x1             2.1112      0.237      8.912      0.000       1.647       2.576\n",
      "------------------------------------------------------------------------------\n",
      "       y=4       coef    std err          z      P>|z|      [0.025      0.975]\n",
      "------------------------------------------------------------------------------\n",
      "const         -6.2865      0.342    -18.378      0.000      -6.957      -5.616\n",
      "x1           -12.9033      0.645    -20.009      0.000     -14.167     -11.639\n",
      "------------------------------------------------------------------------------\n",
      "       y=5       coef    std err          z      P>|z|      [0.025      0.975]\n",
      "------------------------------------------------------------------------------\n",
      "const         -6.0947      0.326    -18.682      0.000      -6.734      -5.455\n",
      "x1           -12.7690      0.635    -20.113      0.000     -14.013     -11.525\n",
      "------------------------------------------------------------------------------\n",
      "       y=6       coef    std err          z      P>|z|      [0.025      0.975]\n",
      "------------------------------------------------------------------------------\n",
      "const         -6.1217      0.328    -18.692      0.000      -6.764      -5.480\n",
      "x1           -12.8226      0.636    -20.164      0.000     -14.069     -11.576\n",
      "==============================================================================\n"
     ]
    }
   ],
   "source": [
    "X4_sm = sm.add_constant(X4)\n",
    "X_train_sm, X_test_sm, y_train_sm, y_test_sm = train_test_split(X4_sm,y_arr,test_size=0.25,random_state=0,stratify=y_arr)\n",
    "\n",
    "MNlogit = sm.MNLogit(y_train_sm, X_train_sm)\n",
    "\n",
    "# fit the model\n",
    "result = MNlogit.fit()\n",
    "print(result.summary())"
   ]
  },
  {
   "cell_type": "code",
   "execution_count": 197,
   "metadata": {},
   "outputs": [
    {
     "name": "stdout",
     "output_type": "stream",
     "text": [
      "Optimization terminated successfully.\n",
      "         Current function value: 1.451655\n",
      "         Iterations 7\n",
      "                          MNLogit Regression Results                          \n",
      "==============================================================================\n",
      "Dep. Variable:                      y   No. Observations:                 5514\n",
      "Model:                        MNLogit   Df Residuals:                     5504\n",
      "Method:                           MLE   Df Model:                            5\n",
      "Date:                Tue, 18 Aug 2020   Pseudo R-squ.:                  0.1862\n",
      "Time:                        22:11:13   Log-Likelihood:                -8004.4\n",
      "converged:                       True   LL-Null:                       -9836.2\n",
      "Covariance Type:            nonrobust   LLR p-value:                     0.000\n",
      "==============================================================================\n",
      "       y=2       coef    std err          z      P>|z|      [0.025      0.975]\n",
      "------------------------------------------------------------------------------\n",
      "const         -0.4000      0.058     -6.948      0.000      -0.513      -0.287\n",
      "x1            -2.1907      0.239     -9.165      0.000      -2.659      -1.722\n",
      "------------------------------------------------------------------------------\n",
      "       y=3       coef    std err          z      P>|z|      [0.025      0.975]\n",
      "------------------------------------------------------------------------------\n",
      "const         -0.2130      0.053     -4.050      0.000      -0.316      -0.110\n",
      "x1             0.0667      0.244      0.273      0.785      -0.411       0.545\n",
      "------------------------------------------------------------------------------\n",
      "       y=4       coef    std err          z      P>|z|      [0.025      0.975]\n",
      "------------------------------------------------------------------------------\n",
      "const         -0.0874      0.052     -1.694      0.090      -0.189       0.014\n",
      "x1             4.7295      0.244     19.384      0.000       4.251       5.208\n",
      "------------------------------------------------------------------------------\n",
      "       y=5       coef    std err          z      P>|z|      [0.025      0.975]\n",
      "------------------------------------------------------------------------------\n",
      "const          0.1690      0.047      3.570      0.000       0.076       0.262\n",
      "x1             0.9700      0.225      4.308      0.000       0.529       1.411\n",
      "------------------------------------------------------------------------------\n",
      "       y=6       coef    std err          z      P>|z|      [0.025      0.975]\n",
      "------------------------------------------------------------------------------\n",
      "const         -1.6006      0.085    -18.782      0.000      -1.768      -1.434\n",
      "x1             9.2997      0.288     32.298      0.000       8.735       9.864\n",
      "==============================================================================\n"
     ]
    }
   ],
   "source": [
    "X54_sm = sm.add_constant(X54)\n",
    "X_train_sm, X_test_sm, y_train_sm, y_test_sm = train_test_split(X54_sm,y_arr,test_size=0.25,random_state=0,stratify=y_arr)\n",
    "\n",
    "MNlogit = sm.MNLogit(y_train_sm, X_train_sm)\n",
    "\n",
    "# fit the model\n",
    "result = MNlogit.fit()\n",
    "print(result.summary())"
   ]
  },
  {
   "cell_type": "code",
   "execution_count": 198,
   "metadata": {},
   "outputs": [
    {
     "name": "stdout",
     "output_type": "stream",
     "text": [
      "Optimization terminated successfully.\n",
      "         Current function value: 1.010678\n",
      "         Iterations 12\n",
      "                          MNLogit Regression Results                          \n",
      "==============================================================================\n",
      "Dep. Variable:                      y   No. Observations:                 5514\n",
      "Model:                        MNLogit   Df Residuals:                     5504\n",
      "Method:                           MLE   Df Model:                            5\n",
      "Date:                Tue, 18 Aug 2020   Pseudo R-squ.:                  0.4334\n",
      "Time:                        22:11:33   Log-Likelihood:                -5572.9\n",
      "converged:                       True   LL-Null:                       -9836.2\n",
      "Covariance Type:            nonrobust   LLR p-value:                     0.000\n",
      "==============================================================================\n",
      "       y=2       coef    std err          z      P>|z|      [0.025      0.975]\n",
      "------------------------------------------------------------------------------\n",
      "const          0.2795      0.132      2.123      0.034       0.021       0.538\n",
      "x1             1.0026      0.298      3.361      0.001       0.418       1.587\n",
      "------------------------------------------------------------------------------\n",
      "       y=3       coef    std err          z      P>|z|      [0.025      0.975]\n",
      "------------------------------------------------------------------------------\n",
      "const          1.9967      0.125     15.935      0.000       1.751       2.242\n",
      "x1             7.6429      0.354     21.587      0.000       6.949       8.337\n",
      "------------------------------------------------------------------------------\n",
      "       y=4       coef    std err          z      P>|z|      [0.025      0.975]\n",
      "------------------------------------------------------------------------------\n",
      "const        -36.5441      2.492    -14.663      0.000     -41.429     -31.659\n",
      "x1           -43.0125      2.680    -16.049      0.000     -48.265     -37.760\n",
      "------------------------------------------------------------------------------\n",
      "       y=5       coef    std err          z      P>|z|      [0.025      0.975]\n",
      "------------------------------------------------------------------------------\n",
      "const        -50.9998      3.277    -15.561      0.000     -57.423     -44.576\n",
      "x1           -57.6927      3.432    -16.811      0.000     -64.419     -50.966\n",
      "------------------------------------------------------------------------------\n",
      "       y=6       coef    std err          z      P>|z|      [0.025      0.975]\n",
      "------------------------------------------------------------------------------\n",
      "const        -16.4441      0.970    -16.958      0.000     -18.345     -14.544\n",
      "x1           -22.6245      1.306    -17.323      0.000     -25.184     -20.065\n",
      "==============================================================================\n"
     ]
    }
   ],
   "source": [
    "X19_sm = sm.add_constant(X19)\n",
    "X_train_sm, X_test_sm, y_train_sm, y_test_sm = train_test_split(X19_sm,y_arr,test_size=0.25,random_state=0,stratify=y_arr)\n",
    "\n",
    "MNlogit = sm.MNLogit(y_train_sm, X_train_sm)\n",
    "\n",
    "# fit the model\n",
    "result = MNlogit.fit()\n",
    "print(result.summary())"
   ]
  },
  {
   "cell_type": "code",
   "execution_count": null,
   "metadata": {},
   "outputs": [],
   "source": []
  },
  {
   "cell_type": "markdown",
   "metadata": {},
   "source": [
    "## Task 6\n",
    "\n",
    "Fit the Multinomial Logistic Regression model again. Now, try to choose **all** important features we have in the dataset. Who will get the best predictions with the smallest number of features?"
   ]
  },
  {
   "cell_type": "code",
   "execution_count": 274,
   "metadata": {},
   "outputs": [],
   "source": [
    "Xarr = np.zeros(X.shape)\n",
    "y_arr= np.zeros(len(y))\n",
    "for i in range(len(y)):\n",
    "    Xarr[i,:] = X.loc[i,:]\n",
    "    y_arr[i] = y.loc[i]\n",
    "#y_arr = y_arr.reshape(-1,1)"
   ]
  },
  {
   "cell_type": "code",
   "execution_count": 385,
   "metadata": {},
   "outputs": [],
   "source": [
    "X_train, X_test, y_train, y_test = train_test_split(Xarr,y_arr,test_size=0.25,random_state=0,stratify=y_arr)\n",
    "logreg = LogisticRegression(multi_class = 'ovr',max_iter=1500)\n",
    "logreg.fit(X_train,y_train)\n",
    "y_pred = logreg.predict(X_test)"
   ]
  },
  {
   "cell_type": "code",
   "execution_count": 386,
   "metadata": {},
   "outputs": [
    {
     "data": {
      "text/plain": [
       "(6, 464)"
      ]
     },
     "execution_count": 386,
     "metadata": {},
     "output_type": "execute_result"
    }
   ],
   "source": [
    "importance = np.zeros((6,Xarr.shape[1]))\n",
    "for i in range(6):\n",
    "    for j in range(Xarr.shape[1]):\n",
    "        importance[i,j] = logreg.coef_[i,j]\n",
    "importance.shape"
   ]
  },
  {
   "cell_type": "code",
   "execution_count": 287,
   "metadata": {},
   "outputs": [
    {
     "data": {
      "image/png": "[encoded data removed]",
      "text/plain": [
       "<Figure size 432x288 with 1 Axes>"
      ]
     },
     "metadata": {
      "needs_background": "light"
     },
     "output_type": "display_data"
    }
   ],
   "source": [
    "for i,v in enumerate(importance):\n",
    "    #print('Feature: %0d, Score: %.5f' % (i,v))\n",
    "    pass\n",
    "# plot feature importance\n",
    "plt.bar([x for x in range(len(importance))], importance)\n",
    "plt.show()"
   ]
  },
  {
   "cell_type": "code",
   "execution_count": 387,
   "metadata": {},
   "outputs": [
    {
     "data": {
      "text/plain": [
       "False"
      ]
     },
     "execution_count": 387,
     "metadata": {},
     "output_type": "execute_result"
    }
   ],
   "source": [
    "y_pred_proba = logreg.predict_proba(X_test)\n",
    "\n",
    "#fpr, tpr, _ = metrics.roc_curve(y_test, y_pred_proba)\n",
    "auc = metrics.roc_auc_score(y_test,y_pred_proba,multi_class='ovr')\n",
    "auc>auc_best"
   ]
  },
  {
   "cell_type": "code",
   "execution_count": 388,
   "metadata": {},
   "outputs": [
    {
     "name": "stdout",
     "output_type": "stream",
     "text": [
      "0.9990963469139391\n",
      "0.9990966057538521\n"
     ]
    }
   ],
   "source": [
    "print(auc)\n",
    "print(auc_best)\n",
    "auc_best = auc"
   ]
  },
  {
   "cell_type": "code",
   "execution_count": 381,
   "metadata": {},
   "outputs": [
    {
     "name": "stdout",
     "output_type": "stream",
     "text": [
      "2.8798063680849918e-05\n",
      "5.017758754539019\n"
     ]
    }
   ],
   "source": [
    "print(np.abs(importance).min())\n",
    "print(np.abs(importance).max())"
   ]
  },
  {
   "cell_type": "code",
   "execution_count": 382,
   "metadata": {},
   "outputs": [
    {
     "data": {
      "text/plain": [
       "[14, 80, 218, 366, 405, 406]"
      ]
     },
     "execution_count": 382,
     "metadata": {},
     "output_type": "execute_result"
    }
   ],
   "source": [
    "col_to_remove = []\n",
    "for i in range(importance.shape[1]):\n",
    "    if (importance[:,i]<0.1).all():\n",
    "        col_to_remove.append(i)\n",
    "col_to_remove"
   ]
  },
  {
   "cell_type": "code",
   "execution_count": 383,
   "metadata": {},
   "outputs": [],
   "source": [
    "Xarr = np.delete(Xarr,col_to_remove,axis=1)"
   ]
  },
  {
   "cell_type": "code",
   "execution_count": 384,
   "metadata": {},
   "outputs": [
    {
     "data": {
      "text/plain": [
       "(7352, 464)"
      ]
     },
     "execution_count": 384,
     "metadata": {},
     "output_type": "execute_result"
    }
   ],
   "source": [
    "Xarr.shape"
   ]
  },
  {
   "cell_type": "code",
   "execution_count": null,
   "metadata": {},
   "outputs": [],
   "source": []
  },
  {
   "cell_type": "code",
   "execution_count": null,
   "metadata": {},
   "outputs": [],
   "source": []
  },
  {
   "cell_type": "code",
   "execution_count": 200,
   "metadata": {},
   "outputs": [
    {
     "data": {
      "text/html": [
       "<div>\n",
       "<style scoped>\n",
       "    .dataframe tbody tr th:only-of-type {\n",
       "        vertical-align: middle;\n",
       "    }\n",
       "\n",
       "    .dataframe tbody tr th {\n",
       "        vertical-align: top;\n",
       "    }\n",
       "\n",
       "    .dataframe thead th {\n",
       "        text-align: right;\n",
       "    }\n",
       "</style>\n",
       "<table border=\"1\" class=\"dataframe\">\n",
       "  <thead>\n",
       "    <tr style=\"text-align: right;\">\n",
       "      <th></th>\n",
       "      <th>const</th>\n",
       "      <th>0</th>\n",
       "      <th>1</th>\n",
       "      <th>2</th>\n",
       "      <th>3</th>\n",
       "      <th>4</th>\n",
       "      <th>5</th>\n",
       "      <th>6</th>\n",
       "      <th>7</th>\n",
       "      <th>8</th>\n",
       "      <th>...</th>\n",
       "      <th>551</th>\n",
       "      <th>552</th>\n",
       "      <th>553</th>\n",
       "      <th>554</th>\n",
       "      <th>555</th>\n",
       "      <th>556</th>\n",
       "      <th>557</th>\n",
       "      <th>558</th>\n",
       "      <th>559</th>\n",
       "      <th>560</th>\n",
       "    </tr>\n",
       "  </thead>\n",
       "  <tbody>\n",
       "    <tr>\n",
       "      <th>0</th>\n",
       "      <td>1.0</td>\n",
       "      <td>0.288585</td>\n",
       "      <td>-0.020294</td>\n",
       "      <td>-0.132905</td>\n",
       "      <td>-0.995279</td>\n",
       "      <td>-0.983111</td>\n",
       "      <td>-0.913526</td>\n",
       "      <td>-0.995112</td>\n",
       "      <td>-0.983185</td>\n",
       "      <td>-0.923527</td>\n",
       "      <td>...</td>\n",
       "      <td>-0.074323</td>\n",
       "      <td>-0.298676</td>\n",
       "      <td>-0.710304</td>\n",
       "      <td>-0.112754</td>\n",
       "      <td>0.030400</td>\n",
       "      <td>-0.464761</td>\n",
       "      <td>-0.018446</td>\n",
       "      <td>-0.841247</td>\n",
       "      <td>0.179941</td>\n",
       "      <td>-0.058627</td>\n",
       "    </tr>\n",
       "    <tr>\n",
       "      <th>1</th>\n",
       "      <td>1.0</td>\n",
       "      <td>0.278419</td>\n",
       "      <td>-0.016411</td>\n",
       "      <td>-0.123520</td>\n",
       "      <td>-0.998245</td>\n",
       "      <td>-0.975300</td>\n",
       "      <td>-0.960322</td>\n",
       "      <td>-0.998807</td>\n",
       "      <td>-0.974914</td>\n",
       "      <td>-0.957686</td>\n",
       "      <td>...</td>\n",
       "      <td>0.158075</td>\n",
       "      <td>-0.595051</td>\n",
       "      <td>-0.861499</td>\n",
       "      <td>0.053477</td>\n",
       "      <td>-0.007435</td>\n",
       "      <td>-0.732626</td>\n",
       "      <td>0.703511</td>\n",
       "      <td>-0.844788</td>\n",
       "      <td>0.180289</td>\n",
       "      <td>-0.054317</td>\n",
       "    </tr>\n",
       "    <tr>\n",
       "      <th>2</th>\n",
       "      <td>1.0</td>\n",
       "      <td>0.279653</td>\n",
       "      <td>-0.019467</td>\n",
       "      <td>-0.113462</td>\n",
       "      <td>-0.995380</td>\n",
       "      <td>-0.967187</td>\n",
       "      <td>-0.978944</td>\n",
       "      <td>-0.996520</td>\n",
       "      <td>-0.963668</td>\n",
       "      <td>-0.977469</td>\n",
       "      <td>...</td>\n",
       "      <td>0.414503</td>\n",
       "      <td>-0.390748</td>\n",
       "      <td>-0.760104</td>\n",
       "      <td>-0.118559</td>\n",
       "      <td>0.177899</td>\n",
       "      <td>0.100699</td>\n",
       "      <td>0.808529</td>\n",
       "      <td>-0.848933</td>\n",
       "      <td>0.180637</td>\n",
       "      <td>-0.049118</td>\n",
       "    </tr>\n",
       "    <tr>\n",
       "      <th>3</th>\n",
       "      <td>1.0</td>\n",
       "      <td>0.279174</td>\n",
       "      <td>-0.026201</td>\n",
       "      <td>-0.123283</td>\n",
       "      <td>-0.996091</td>\n",
       "      <td>-0.983403</td>\n",
       "      <td>-0.990675</td>\n",
       "      <td>-0.997099</td>\n",
       "      <td>-0.982750</td>\n",
       "      <td>-0.989302</td>\n",
       "      <td>...</td>\n",
       "      <td>0.404573</td>\n",
       "      <td>-0.117290</td>\n",
       "      <td>-0.482845</td>\n",
       "      <td>-0.036788</td>\n",
       "      <td>-0.012892</td>\n",
       "      <td>0.640011</td>\n",
       "      <td>-0.485366</td>\n",
       "      <td>-0.848649</td>\n",
       "      <td>0.181935</td>\n",
       "      <td>-0.047663</td>\n",
       "    </tr>\n",
       "    <tr>\n",
       "      <th>4</th>\n",
       "      <td>1.0</td>\n",
       "      <td>0.276629</td>\n",
       "      <td>-0.016570</td>\n",
       "      <td>-0.115362</td>\n",
       "      <td>-0.998139</td>\n",
       "      <td>-0.980817</td>\n",
       "      <td>-0.990482</td>\n",
       "      <td>-0.998321</td>\n",
       "      <td>-0.979672</td>\n",
       "      <td>-0.990441</td>\n",
       "      <td>...</td>\n",
       "      <td>0.087753</td>\n",
       "      <td>-0.351471</td>\n",
       "      <td>-0.699205</td>\n",
       "      <td>0.123320</td>\n",
       "      <td>0.122542</td>\n",
       "      <td>0.693578</td>\n",
       "      <td>-0.615971</td>\n",
       "      <td>-0.847865</td>\n",
       "      <td>0.185151</td>\n",
       "      <td>-0.043892</td>\n",
       "    </tr>\n",
       "  </tbody>\n",
       "</table>\n",
       "<p>5 rows × 562 columns</p>\n",
       "</div>"
      ],
      "text/plain": [
       "   const         0         1         2         3         4         5  \\\n",
       "0    1.0  0.288585 -0.020294 -0.132905 -0.995279 -0.983111 -0.913526   \n",
       "1    1.0  0.278419 -0.016411 -0.123520 -0.998245 -0.975300 -0.960322   \n",
       "2    1.0  0.279653 -0.019467 -0.113462 -0.995380 -0.967187 -0.978944   \n",
       "3    1.0  0.279174 -0.026201 -0.123283 -0.996091 -0.983403 -0.990675   \n",
       "4    1.0  0.276629 -0.016570 -0.115362 -0.998139 -0.980817 -0.990482   \n",
       "\n",
       "          6         7         8  ...       551       552       553       554  \\\n",
       "0 -0.995112 -0.983185 -0.923527  ... -0.074323 -0.298676 -0.710304 -0.112754   \n",
       "1 -0.998807 -0.974914 -0.957686  ...  0.158075 -0.595051 -0.861499  0.053477   \n",
       "2 -0.996520 -0.963668 -0.977469  ...  0.414503 -0.390748 -0.760104 -0.118559   \n",
       "3 -0.997099 -0.982750 -0.989302  ...  0.404573 -0.117290 -0.482845 -0.036788   \n",
       "4 -0.998321 -0.979672 -0.990441  ...  0.087753 -0.351471 -0.699205  0.123320   \n",
       "\n",
       "        555       556       557       558       559       560  \n",
       "0  0.030400 -0.464761 -0.018446 -0.841247  0.179941 -0.058627  \n",
       "1 -0.007435 -0.732626  0.703511 -0.844788  0.180289 -0.054317  \n",
       "2  0.177899  0.100699  0.808529 -0.848933  0.180637 -0.049118  \n",
       "3 -0.012892  0.640011 -0.485366 -0.848649  0.181935 -0.047663  \n",
       "4  0.122542  0.693578 -0.615971 -0.847865  0.185151 -0.043892  \n",
       "\n",
       "[5 rows x 562 columns]"
      ]
     },
     "execution_count": 200,
     "metadata": {},
     "output_type": "execute_result"
    }
   ],
   "source": [
    "X_all.head()"
   ]
  },
  {
   "cell_type": "code",
   "execution_count": 231,
   "metadata": {},
   "outputs": [],
   "source": [
    "X_all = np.zeros((X.shape))\n",
    "for i in range(len(y_arr)):\n",
    "    X_all[i,:] = X.loc[i,:]"
   ]
  },
  {
   "cell_type": "code",
   "execution_count": 249,
   "metadata": {},
   "outputs": [
    {
     "name": "stdout",
     "output_type": "stream",
     "text": [
      "Warning: Maximum number of iterations has been exceeded.\n",
      "         Current function value: 0.049907\n",
      "         Iterations: 50\n",
      "         Function evaluations: 54\n",
      "         Gradient evaluations: 54\n"
     ]
    },
    {
     "name": "stderr",
     "output_type": "stream",
     "text": [
      "C:\\Users\\Admin\\anaconda3\\envs\\boot_env\\lib\\site-packages\\statsmodels\\base\\model.py:547: HessianInversionWarning: Inverting hessian failed, no bse or cov_params available\n",
      "  warn('Inverting hessian failed, no bse or cov_params '\n",
      "C:\\Users\\Admin\\anaconda3\\envs\\boot_env\\lib\\site-packages\\statsmodels\\base\\model.py:567: ConvergenceWarning: Maximum Likelihood optimization failed to converge. Check mle_retvals\n",
      "  warn(\"Maximum Likelihood optimization failed to converge. \"\n"
     ]
    },
    {
     "name": "stdout",
     "output_type": "stream",
     "text": [
      "0 2.9161711155288494\n",
      "Warning: Maximum number of iterations has been exceeded.\n",
      "         Current function value: 0.053806\n",
      "         Iterations: 50\n",
      "         Function evaluations: 52\n",
      "         Gradient evaluations: 52\n"
     ]
    },
    {
     "name": "stderr",
     "output_type": "stream",
     "text": [
      "C:\\Users\\Admin\\anaconda3\\envs\\boot_env\\lib\\site-packages\\statsmodels\\base\\model.py:547: HessianInversionWarning: Inverting hessian failed, no bse or cov_params available\n",
      "  warn('Inverting hessian failed, no bse or cov_params '\n",
      "C:\\Users\\Admin\\anaconda3\\envs\\boot_env\\lib\\site-packages\\statsmodels\\base\\model.py:567: ConvergenceWarning: Maximum Likelihood optimization failed to converge. Check mle_retvals\n",
      "  warn(\"Maximum Likelihood optimization failed to converge. \"\n"
     ]
    },
    {
     "name": "stdout",
     "output_type": "stream",
     "text": [
      "1 2.952677805833602\n",
      "Warning: Maximum number of iterations has been exceeded.\n",
      "         Current function value: 0.059055\n",
      "         Iterations: 50\n",
      "         Function evaluations: 54\n",
      "         Gradient evaluations: 54\n"
     ]
    },
    {
     "name": "stderr",
     "output_type": "stream",
     "text": [
      "C:\\Users\\Admin\\anaconda3\\envs\\boot_env\\lib\\site-packages\\statsmodels\\base\\model.py:547: HessianInversionWarning: Inverting hessian failed, no bse or cov_params available\n",
      "  warn('Inverting hessian failed, no bse or cov_params '\n",
      "C:\\Users\\Admin\\anaconda3\\envs\\boot_env\\lib\\site-packages\\statsmodels\\base\\model.py:567: ConvergenceWarning: Maximum Likelihood optimization failed to converge. Check mle_retvals\n",
      "  warn(\"Maximum Likelihood optimization failed to converge. \"\n"
     ]
    },
    {
     "name": "stdout",
     "output_type": "stream",
     "text": [
      "2 2.837380828838623\n",
      "Warning: Maximum number of iterations has been exceeded.\n",
      "         Current function value: 0.060386\n",
      "         Iterations: 50\n",
      "         Function evaluations: 52\n",
      "         Gradient evaluations: 52\n"
     ]
    },
    {
     "name": "stderr",
     "output_type": "stream",
     "text": [
      "C:\\Users\\Admin\\anaconda3\\envs\\boot_env\\lib\\site-packages\\statsmodels\\base\\model.py:547: HessianInversionWarning: Inverting hessian failed, no bse or cov_params available\n",
      "  warn('Inverting hessian failed, no bse or cov_params '\n",
      "C:\\Users\\Admin\\anaconda3\\envs\\boot_env\\lib\\site-packages\\statsmodels\\base\\model.py:567: ConvergenceWarning: Maximum Likelihood optimization failed to converge. Check mle_retvals\n",
      "  warn(\"Maximum Likelihood optimization failed to converge. \"\n"
     ]
    },
    {
     "name": "stdout",
     "output_type": "stream",
     "text": [
      "3 2.8349452347302906\n",
      "Warning: Maximum number of iterations has been exceeded.\n",
      "         Current function value: 0.070934\n",
      "         Iterations: 50\n",
      "         Function evaluations: 52\n",
      "         Gradient evaluations: 52\n"
     ]
    },
    {
     "name": "stderr",
     "output_type": "stream",
     "text": [
      "C:\\Users\\Admin\\anaconda3\\envs\\boot_env\\lib\\site-packages\\statsmodels\\base\\model.py:547: HessianInversionWarning: Inverting hessian failed, no bse or cov_params available\n",
      "  warn('Inverting hessian failed, no bse or cov_params '\n",
      "C:\\Users\\Admin\\anaconda3\\envs\\boot_env\\lib\\site-packages\\statsmodels\\base\\model.py:567: ConvergenceWarning: Maximum Likelihood optimization failed to converge. Check mle_retvals\n",
      "  warn(\"Maximum Likelihood optimization failed to converge. \"\n"
     ]
    },
    {
     "name": "stdout",
     "output_type": "stream",
     "text": [
      "4 2.673208488176091\n",
      "Warning: Maximum number of iterations has been exceeded.\n",
      "         Current function value: 0.074274\n",
      "         Iterations: 50\n",
      "         Function evaluations: 52\n",
      "         Gradient evaluations: 52\n"
     ]
    },
    {
     "name": "stderr",
     "output_type": "stream",
     "text": [
      "C:\\Users\\Admin\\anaconda3\\envs\\boot_env\\lib\\site-packages\\statsmodels\\base\\model.py:547: HessianInversionWarning: Inverting hessian failed, no bse or cov_params available\n",
      "  warn('Inverting hessian failed, no bse or cov_params '\n",
      "C:\\Users\\Admin\\anaconda3\\envs\\boot_env\\lib\\site-packages\\statsmodels\\base\\model.py:567: ConvergenceWarning: Maximum Likelihood optimization failed to converge. Check mle_retvals\n",
      "  warn(\"Maximum Likelihood optimization failed to converge. \"\n"
     ]
    },
    {
     "name": "stdout",
     "output_type": "stream",
     "text": [
      "5 2.592307019313263\n",
      "Warning: Maximum number of iterations has been exceeded.\n",
      "         Current function value: 0.075916\n",
      "         Iterations: 50\n",
      "         Function evaluations: 55\n",
      "         Gradient evaluations: 55\n"
     ]
    },
    {
     "name": "stderr",
     "output_type": "stream",
     "text": [
      "C:\\Users\\Admin\\anaconda3\\envs\\boot_env\\lib\\site-packages\\statsmodels\\base\\model.py:547: HessianInversionWarning: Inverting hessian failed, no bse or cov_params available\n",
      "  warn('Inverting hessian failed, no bse or cov_params '\n",
      "C:\\Users\\Admin\\anaconda3\\envs\\boot_env\\lib\\site-packages\\statsmodels\\base\\model.py:567: ConvergenceWarning: Maximum Likelihood optimization failed to converge. Check mle_retvals\n",
      "  warn(\"Maximum Likelihood optimization failed to converge. \"\n"
     ]
    },
    {
     "name": "stdout",
     "output_type": "stream",
     "text": [
      "6 2.346246331795267\n",
      "Warning: Maximum number of iterations has been exceeded.\n",
      "         Current function value: 0.074142\n",
      "         Iterations: 50\n",
      "         Function evaluations: 53\n",
      "         Gradient evaluations: 53\n"
     ]
    },
    {
     "name": "stderr",
     "output_type": "stream",
     "text": [
      "C:\\Users\\Admin\\anaconda3\\envs\\boot_env\\lib\\site-packages\\statsmodels\\base\\model.py:547: HessianInversionWarning: Inverting hessian failed, no bse or cov_params available\n",
      "  warn('Inverting hessian failed, no bse or cov_params '\n",
      "C:\\Users\\Admin\\anaconda3\\envs\\boot_env\\lib\\site-packages\\statsmodels\\base\\model.py:567: ConvergenceWarning: Maximum Likelihood optimization failed to converge. Check mle_retvals\n",
      "  warn(\"Maximum Likelihood optimization failed to converge. \"\n"
     ]
    },
    {
     "name": "stdout",
     "output_type": "stream",
     "text": [
      "7 2.1769377456534555\n",
      "Warning: Maximum number of iterations has been exceeded.\n",
      "         Current function value: 0.091108\n",
      "         Iterations: 50\n",
      "         Function evaluations: 52\n",
      "         Gradient evaluations: 52\n"
     ]
    },
    {
     "name": "stderr",
     "output_type": "stream",
     "text": [
      "C:\\Users\\Admin\\anaconda3\\envs\\boot_env\\lib\\site-packages\\statsmodels\\base\\model.py:547: HessianInversionWarning: Inverting hessian failed, no bse or cov_params available\n",
      "  warn('Inverting hessian failed, no bse or cov_params '\n",
      "C:\\Users\\Admin\\anaconda3\\envs\\boot_env\\lib\\site-packages\\statsmodels\\base\\model.py:567: ConvergenceWarning: Maximum Likelihood optimization failed to converge. Check mle_retvals\n",
      "  warn(\"Maximum Likelihood optimization failed to converge. \"\n"
     ]
    },
    {
     "name": "stdout",
     "output_type": "stream",
     "text": [
      "8 2.0393764304469677\n",
      "Warning: Maximum number of iterations has been exceeded.\n",
      "         Current function value: 0.103781\n",
      "         Iterations: 50\n",
      "         Function evaluations: 53\n",
      "         Gradient evaluations: 53\n"
     ]
    },
    {
     "name": "stderr",
     "output_type": "stream",
     "text": [
      "C:\\Users\\Admin\\anaconda3\\envs\\boot_env\\lib\\site-packages\\statsmodels\\base\\model.py:547: HessianInversionWarning: Inverting hessian failed, no bse or cov_params available\n",
      "  warn('Inverting hessian failed, no bse or cov_params '\n",
      "C:\\Users\\Admin\\anaconda3\\envs\\boot_env\\lib\\site-packages\\statsmodels\\base\\model.py:567: ConvergenceWarning: Maximum Likelihood optimization failed to converge. Check mle_retvals\n",
      "  warn(\"Maximum Likelihood optimization failed to converge. \"\n"
     ]
    },
    {
     "name": "stdout",
     "output_type": "stream",
     "text": [
      "9 2.060673534035393\n",
      "Warning: Maximum number of iterations has been exceeded.\n",
      "         Current function value: 0.108925\n",
      "         Iterations: 50\n",
      "         Function evaluations: 54\n",
      "         Gradient evaluations: 54\n"
     ]
    },
    {
     "name": "stderr",
     "output_type": "stream",
     "text": [
      "C:\\Users\\Admin\\anaconda3\\envs\\boot_env\\lib\\site-packages\\statsmodels\\base\\model.py:547: HessianInversionWarning: Inverting hessian failed, no bse or cov_params available\n",
      "  warn('Inverting hessian failed, no bse or cov_params '\n",
      "C:\\Users\\Admin\\anaconda3\\envs\\boot_env\\lib\\site-packages\\statsmodels\\base\\model.py:567: ConvergenceWarning: Maximum Likelihood optimization failed to converge. Check mle_retvals\n",
      "  warn(\"Maximum Likelihood optimization failed to converge. \"\n"
     ]
    },
    {
     "name": "stdout",
     "output_type": "stream",
     "text": [
      "10 2.071614248887941\n",
      "Warning: Maximum number of iterations has been exceeded.\n",
      "         Current function value: 0.108550\n",
      "         Iterations: 50\n",
      "         Function evaluations: 54\n",
      "         Gradient evaluations: 54\n"
     ]
    },
    {
     "name": "stderr",
     "output_type": "stream",
     "text": [
      "C:\\Users\\Admin\\anaconda3\\envs\\boot_env\\lib\\site-packages\\statsmodels\\base\\model.py:547: HessianInversionWarning: Inverting hessian failed, no bse or cov_params available\n",
      "  warn('Inverting hessian failed, no bse or cov_params '\n",
      "C:\\Users\\Admin\\anaconda3\\envs\\boot_env\\lib\\site-packages\\statsmodels\\base\\model.py:567: ConvergenceWarning: Maximum Likelihood optimization failed to converge. Check mle_retvals\n",
      "  warn(\"Maximum Likelihood optimization failed to converge. \"\n"
     ]
    },
    {
     "name": "stdout",
     "output_type": "stream",
     "text": [
      "11 1.6721481602591053\n",
      "Warning: Maximum number of iterations has been exceeded.\n",
      "         Current function value: 0.104369\n",
      "         Iterations: 50\n",
      "         Function evaluations: 52\n",
      "         Gradient evaluations: 52\n"
     ]
    },
    {
     "name": "stderr",
     "output_type": "stream",
     "text": [
      "C:\\Users\\Admin\\anaconda3\\envs\\boot_env\\lib\\site-packages\\statsmodels\\base\\model.py:547: HessianInversionWarning: Inverting hessian failed, no bse or cov_params available\n",
      "  warn('Inverting hessian failed, no bse or cov_params '\n",
      "C:\\Users\\Admin\\anaconda3\\envs\\boot_env\\lib\\site-packages\\statsmodels\\base\\model.py:567: ConvergenceWarning: Maximum Likelihood optimization failed to converge. Check mle_retvals\n",
      "  warn(\"Maximum Likelihood optimization failed to converge. \"\n"
     ]
    },
    {
     "name": "stdout",
     "output_type": "stream",
     "text": [
      "12 1.3850416538629535\n",
      "Warning: Maximum number of iterations has been exceeded.\n",
      "         Current function value: 0.108188\n",
      "         Iterations: 50\n",
      "         Function evaluations: 54\n",
      "         Gradient evaluations: 54\n"
     ]
    },
    {
     "name": "stderr",
     "output_type": "stream",
     "text": [
      "C:\\Users\\Admin\\anaconda3\\envs\\boot_env\\lib\\site-packages\\statsmodels\\base\\model.py:547: HessianInversionWarning: Inverting hessian failed, no bse or cov_params available\n",
      "  warn('Inverting hessian failed, no bse or cov_params '\n",
      "C:\\Users\\Admin\\anaconda3\\envs\\boot_env\\lib\\site-packages\\statsmodels\\base\\model.py:567: ConvergenceWarning: Maximum Likelihood optimization failed to converge. Check mle_retvals\n",
      "  warn(\"Maximum Likelihood optimization failed to converge. \"\n"
     ]
    },
    {
     "name": "stdout",
     "output_type": "stream",
     "text": [
      "13 1.256036923459027\n",
      "Warning: Maximum number of iterations has been exceeded.\n",
      "         Current function value: 0.112613\n",
      "         Iterations: 50\n",
      "         Function evaluations: 53\n",
      "         Gradient evaluations: 53\n"
     ]
    },
    {
     "name": "stderr",
     "output_type": "stream",
     "text": [
      "C:\\Users\\Admin\\anaconda3\\envs\\boot_env\\lib\\site-packages\\statsmodels\\base\\model.py:547: HessianInversionWarning: Inverting hessian failed, no bse or cov_params available\n",
      "  warn('Inverting hessian failed, no bse or cov_params '\n",
      "C:\\Users\\Admin\\anaconda3\\envs\\boot_env\\lib\\site-packages\\statsmodels\\base\\model.py:567: ConvergenceWarning: Maximum Likelihood optimization failed to converge. Check mle_retvals\n",
      "  warn(\"Maximum Likelihood optimization failed to converge. \"\n"
     ]
    },
    {
     "name": "stdout",
     "output_type": "stream",
     "text": [
      "14 1.239490896225266\n",
      "Warning: Maximum number of iterations has been exceeded.\n",
      "         Current function value: 0.126614\n",
      "         Iterations: 50\n",
      "         Function evaluations: 53\n",
      "         Gradient evaluations: 53\n"
     ]
    },
    {
     "name": "stderr",
     "output_type": "stream",
     "text": [
      "C:\\Users\\Admin\\anaconda3\\envs\\boot_env\\lib\\site-packages\\statsmodels\\base\\model.py:547: HessianInversionWarning: Inverting hessian failed, no bse or cov_params available\n",
      "  warn('Inverting hessian failed, no bse or cov_params '\n",
      "C:\\Users\\Admin\\anaconda3\\envs\\boot_env\\lib\\site-packages\\statsmodels\\base\\model.py:567: ConvergenceWarning: Maximum Likelihood optimization failed to converge. Check mle_retvals\n",
      "  warn(\"Maximum Likelihood optimization failed to converge. \"\n"
     ]
    },
    {
     "name": "stdout",
     "output_type": "stream",
     "text": [
      "15 1.1444973198228445\n",
      "Warning: Maximum number of iterations has been exceeded.\n",
      "         Current function value: 0.133187\n",
      "         Iterations: 50\n",
      "         Function evaluations: 53\n",
      "         Gradient evaluations: 53\n"
     ]
    },
    {
     "name": "stderr",
     "output_type": "stream",
     "text": [
      "C:\\Users\\Admin\\anaconda3\\envs\\boot_env\\lib\\site-packages\\statsmodels\\base\\model.py:547: HessianInversionWarning: Inverting hessian failed, no bse or cov_params available\n",
      "  warn('Inverting hessian failed, no bse or cov_params '\n",
      "C:\\Users\\Admin\\anaconda3\\envs\\boot_env\\lib\\site-packages\\statsmodels\\base\\model.py:567: ConvergenceWarning: Maximum Likelihood optimization failed to converge. Check mle_retvals\n",
      "  warn(\"Maximum Likelihood optimization failed to converge. \"\n"
     ]
    },
    {
     "name": "stdout",
     "output_type": "stream",
     "text": [
      "16 1.1639486634349554\n",
      "Warning: Maximum number of iterations has been exceeded.\n",
      "         Current function value: 0.121861\n",
      "         Iterations: 50\n",
      "         Function evaluations: 54\n",
      "         Gradient evaluations: 54\n"
     ]
    },
    {
     "name": "stderr",
     "output_type": "stream",
     "text": [
      "C:\\Users\\Admin\\anaconda3\\envs\\boot_env\\lib\\site-packages\\statsmodels\\base\\model.py:547: HessianInversionWarning: Inverting hessian failed, no bse or cov_params available\n",
      "  warn('Inverting hessian failed, no bse or cov_params '\n",
      "C:\\Users\\Admin\\anaconda3\\envs\\boot_env\\lib\\site-packages\\statsmodels\\base\\model.py:567: ConvergenceWarning: Maximum Likelihood optimization failed to converge. Check mle_retvals\n",
      "  warn(\"Maximum Likelihood optimization failed to converge. \"\n"
     ]
    },
    {
     "name": "stdout",
     "output_type": "stream",
     "text": [
      "17 1.4812576168256355\n",
      "Warning: Maximum number of iterations has been exceeded.\n",
      "         Current function value: 0.152700\n",
      "         Iterations: 50\n",
      "         Function evaluations: 53\n",
      "         Gradient evaluations: 53\n"
     ]
    },
    {
     "name": "stderr",
     "output_type": "stream",
     "text": [
      "C:\\Users\\Admin\\anaconda3\\envs\\boot_env\\lib\\site-packages\\statsmodels\\base\\model.py:547: HessianInversionWarning: Inverting hessian failed, no bse or cov_params available\n",
      "  warn('Inverting hessian failed, no bse or cov_params '\n",
      "C:\\Users\\Admin\\anaconda3\\envs\\boot_env\\lib\\site-packages\\statsmodels\\base\\model.py:567: ConvergenceWarning: Maximum Likelihood optimization failed to converge. Check mle_retvals\n",
      "  warn(\"Maximum Likelihood optimization failed to converge. \"\n"
     ]
    },
    {
     "name": "stdout",
     "output_type": "stream",
     "text": [
      "18 1.341971618940415\n",
      "Warning: Maximum number of iterations has been exceeded.\n",
      "         Current function value: 0.164630\n",
      "         Iterations: 50\n",
      "         Function evaluations: 55\n",
      "         Gradient evaluations: 55\n"
     ]
    },
    {
     "name": "stderr",
     "output_type": "stream",
     "text": [
      "C:\\Users\\Admin\\anaconda3\\envs\\boot_env\\lib\\site-packages\\statsmodels\\base\\model.py:547: HessianInversionWarning: Inverting hessian failed, no bse or cov_params available\n",
      "  warn('Inverting hessian failed, no bse or cov_params '\n",
      "C:\\Users\\Admin\\anaconda3\\envs\\boot_env\\lib\\site-packages\\statsmodels\\base\\model.py:567: ConvergenceWarning: Maximum Likelihood optimization failed to converge. Check mle_retvals\n",
      "  warn(\"Maximum Likelihood optimization failed to converge. \"\n"
     ]
    },
    {
     "name": "stdout",
     "output_type": "stream",
     "text": [
      "19 1.2619015752710223\n",
      "Warning: Maximum number of iterations has been exceeded.\n",
      "         Current function value: 0.161018\n",
      "         Iterations: 50\n",
      "         Function evaluations: 55\n",
      "         Gradient evaluations: 55\n"
     ]
    },
    {
     "name": "stderr",
     "output_type": "stream",
     "text": [
      "C:\\Users\\Admin\\anaconda3\\envs\\boot_env\\lib\\site-packages\\statsmodels\\base\\model.py:547: HessianInversionWarning: Inverting hessian failed, no bse or cov_params available\n",
      "  warn('Inverting hessian failed, no bse or cov_params '\n",
      "C:\\Users\\Admin\\anaconda3\\envs\\boot_env\\lib\\site-packages\\statsmodels\\base\\model.py:567: ConvergenceWarning: Maximum Likelihood optimization failed to converge. Check mle_retvals\n",
      "  warn(\"Maximum Likelihood optimization failed to converge. \"\n"
     ]
    },
    {
     "name": "stdout",
     "output_type": "stream",
     "text": [
      "20 2.2188759403043123\n",
      "Warning: Maximum number of iterations has been exceeded.\n",
      "         Current function value: 0.202312\n",
      "         Iterations: 50\n",
      "         Function evaluations: 54\n",
      "         Gradient evaluations: 54\n"
     ]
    },
    {
     "name": "stderr",
     "output_type": "stream",
     "text": [
      "C:\\Users\\Admin\\anaconda3\\envs\\boot_env\\lib\\site-packages\\statsmodels\\base\\model.py:547: HessianInversionWarning: Inverting hessian failed, no bse or cov_params available\n",
      "  warn('Inverting hessian failed, no bse or cov_params '\n",
      "C:\\Users\\Admin\\anaconda3\\envs\\boot_env\\lib\\site-packages\\statsmodels\\base\\model.py:567: ConvergenceWarning: Maximum Likelihood optimization failed to converge. Check mle_retvals\n",
      "  warn(\"Maximum Likelihood optimization failed to converge. \"\n"
     ]
    },
    {
     "name": "stdout",
     "output_type": "stream",
     "text": [
      "21 2.210119842696764\n",
      "Warning: Maximum number of iterations has been exceeded.\n",
      "         Current function value: 0.201602\n",
      "         Iterations: 50\n",
      "         Function evaluations: 54\n",
      "         Gradient evaluations: 54\n"
     ]
    },
    {
     "name": "stderr",
     "output_type": "stream",
     "text": [
      "C:\\Users\\Admin\\anaconda3\\envs\\boot_env\\lib\\site-packages\\statsmodels\\base\\model.py:547: HessianInversionWarning: Inverting hessian failed, no bse or cov_params available\n",
      "  warn('Inverting hessian failed, no bse or cov_params '\n",
      "C:\\Users\\Admin\\anaconda3\\envs\\boot_env\\lib\\site-packages\\statsmodels\\base\\model.py:567: ConvergenceWarning: Maximum Likelihood optimization failed to converge. Check mle_retvals\n",
      "  warn(\"Maximum Likelihood optimization failed to converge. \"\n"
     ]
    },
    {
     "name": "stdout",
     "output_type": "stream",
     "text": [
      "22 2.2768006858785688\n",
      "Warning: Maximum number of iterations has been exceeded.\n",
      "         Current function value: 0.211049\n",
      "         Iterations: 50\n",
      "         Function evaluations: 54\n",
      "         Gradient evaluations: 54\n"
     ]
    },
    {
     "name": "stderr",
     "output_type": "stream",
     "text": [
      "C:\\Users\\Admin\\anaconda3\\envs\\boot_env\\lib\\site-packages\\statsmodels\\base\\model.py:547: HessianInversionWarning: Inverting hessian failed, no bse or cov_params available\n",
      "  warn('Inverting hessian failed, no bse or cov_params '\n",
      "C:\\Users\\Admin\\anaconda3\\envs\\boot_env\\lib\\site-packages\\statsmodels\\base\\model.py:567: ConvergenceWarning: Maximum Likelihood optimization failed to converge. Check mle_retvals\n",
      "  warn(\"Maximum Likelihood optimization failed to converge. \"\n"
     ]
    },
    {
     "name": "stdout",
     "output_type": "stream",
     "text": [
      "23 2.2618580685755934\n",
      "Warning: Maximum number of iterations has been exceeded.\n",
      "         Current function value: 0.216682\n",
      "         Iterations: 50\n",
      "         Function evaluations: 55\n",
      "         Gradient evaluations: 55\n"
     ]
    },
    {
     "name": "stderr",
     "output_type": "stream",
     "text": [
      "C:\\Users\\Admin\\anaconda3\\envs\\boot_env\\lib\\site-packages\\statsmodels\\base\\model.py:547: HessianInversionWarning: Inverting hessian failed, no bse or cov_params available\n",
      "  warn('Inverting hessian failed, no bse or cov_params '\n",
      "C:\\Users\\Admin\\anaconda3\\envs\\boot_env\\lib\\site-packages\\statsmodels\\base\\model.py:567: ConvergenceWarning: Maximum Likelihood optimization failed to converge. Check mle_retvals\n",
      "  warn(\"Maximum Likelihood optimization failed to converge. \"\n"
     ]
    },
    {
     "name": "stdout",
     "output_type": "stream",
     "text": [
      "24 2.2862335950936012\n"
     ]
    }
   ],
   "source": [
    "#X_all = sm.add_constant(X_all)\n",
    "for i in range(25):\n",
    "    X_train_sm, X_test_sm, y_train_sm, y_test_sm = train_test_split(X_all,y_arr,test_size=0.25,random_state=0,stratify=y_arr)\n",
    "\n",
    "    MNlogit = sm.MNLogit(y_train_sm, X_train_sm)\n",
    "\n",
    "    # fit the model\n",
    "    result1 = MNlogit.fit(method='bfgs',maxiter = 50,start_params=params)\n",
    "    try:\n",
    "        print(result1.summary())\n",
    "    except:\n",
    "        print(i, (result1.params-params).max())\n",
    "    params = result1.params"
   ]
  },
  {
   "cell_type": "code",
   "execution_count": 245,
   "metadata": {},
   "outputs": [],
   "source": [
    "params = result1.params"
   ]
  },
  {
   "cell_type": "code",
   "execution_count": 248,
   "metadata": {},
   "outputs": [
    {
     "data": {
      "text/plain": [
       "2.9161711155288494"
      ]
     },
     "execution_count": 248,
     "metadata": {},
     "output_type": "execute_result"
    }
   ],
   "source": [
    "(result1.params-params).max()"
   ]
  },
  {
   "cell_type": "code",
   "execution_count": 247,
   "metadata": {},
   "outputs": [
    {
     "data": {
      "text/plain": [
       "array([[-0.76223375, -0.37289007,  0.13478471, -0.02136104,  0.23420396],\n",
       "       [-0.34718989,  0.03293651, -1.48985132,  0.25911261, -0.72268329],\n",
       "       [-0.31374992,  0.51255083, -0.46087247,  0.25912749, -0.86377982],\n",
       "       ...,\n",
       "       [ 0.9530532 , -0.71037582, -1.20730188, -0.99699043,  2.71854959],\n",
       "       [ 0.19992113, -0.87702496, -1.57677609,  2.76475542, -0.39969794],\n",
       "       [-0.2762102 , -0.05891102, -0.89530443,  0.57943733, -1.0060524 ]])"
      ]
     },
     "execution_count": 247,
     "metadata": {},
     "output_type": "execute_result"
    }
   ],
   "source": [
    "result1.params"
   ]
  },
  {
   "cell_type": "code",
   "execution_count": null,
   "metadata": {},
   "outputs": [],
   "source": []
  },
  {
   "cell_type": "markdown",
   "metadata": {},
   "source": [
    "## Task 7 (Stretch)\n",
    "Create your own function for Stepwise selection. Use either sklearn or statsmodel."
   ]
  },
  {
   "cell_type": "code",
   "execution_count": null,
   "metadata": {},
   "outputs": [],
   "source": []
  },
  {
   "cell_type": "code",
   "execution_count": null,
   "metadata": {},
   "outputs": [],
   "source": []
  },
  {
   "cell_type": "code",
   "execution_count": null,
   "metadata": {},
   "outputs": [],
   "source": []
  },
  {
   "cell_type": "code",
   "execution_count": null,
   "metadata": {},
   "outputs": [],
   "source": []
  },
  {
   "cell_type": "code",
   "execution_count": null,
   "metadata": {},
   "outputs": [],
   "source": []
  }
 ],
 "metadata": {
  "kernelspec": {
   "display_name": "Python 3",
   "language": "python",
   "name": "python3"
  },
  "language_info": {
   "codemirror_mode": {
    "name": "ipython",
    "version": 3
   },
   "file_extension": ".py",
   "mimetype": "text/x-python",
   "name": "python",
   "nbconvert_exporter": "python",
   "pygments_lexer": "ipython3",
   "version": "3.8.5"
  }
 },
 "nbformat": 4,
 "nbformat_minor": 4
}
