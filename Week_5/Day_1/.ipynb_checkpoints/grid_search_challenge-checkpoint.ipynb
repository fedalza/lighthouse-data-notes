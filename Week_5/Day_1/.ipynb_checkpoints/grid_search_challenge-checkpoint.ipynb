{
 "cells": [
  {
   "cell_type": "markdown",
   "metadata": {},
   "source": [
    "# UFO sightings\n",
    "\n",
    "## Data\n",
    "\n",
    "The original data are reports of 80+k UFO sightings from more than 50 years, originally obtained from [here](https://github.com/planetsig/ufo-reports). We are already familiar with this data because we used it to practice different data preparation and dimensionality reduction techniques.\n",
    "\n",
    "### Final data\n",
    "\n",
    "In this exercise, we should use dataset from the earlier dimensionality reduction exercise in Week 4 Day 1. If you didn't export the table back then, feel free to take our pre-prepared dataset from [here](https://drive.google.com/file/d/1Q0gj7_DK2Sz-se8hf5-luu2GESDCsndb/view?usp=sharing)."
   ]
  },
  {
   "cell_type": "code",
   "execution_count": 77,
   "metadata": {},
   "outputs": [],
   "source": [
    "import pandas as pd\n",
    "import numpy as np\n",
    "from sklearn.model_selection import train_test_split\n",
    "from sklearn.model_selection import GridSearchCV\n",
    "from sklearn.preprocessing import StandardScaler\n",
    "#from sklearn.model_selection import KFold\n",
    "from sklearn.linear_model import Ridge, Lasso\n",
    "from sklearn.metrics import mean_squared_error"
   ]
  },
  {
   "cell_type": "code",
   "execution_count": 98,
   "metadata": {},
   "outputs": [
    {
     "name": "stderr",
     "output_type": "stream",
     "text": [
      "C:\\Users\\Admin\\anaconda3\\envs\\boot_env\\lib\\site-packages\\IPython\\core\\interactiveshell.py:3071: DtypeWarning: Columns (7) have mixed types.Specify dtype option on import or set low_memory=False.\n",
      "  has_raised = await self.run_ast_nodes(code_ast.body, cell_name,\n"
     ]
    },
    {
     "data": {
      "text/html": [
       "<div>\n",
       "<style scoped>\n",
       "    .dataframe tbody tr th:only-of-type {\n",
       "        vertical-align: middle;\n",
       "    }\n",
       "\n",
       "    .dataframe tbody tr th {\n",
       "        vertical-align: top;\n",
       "    }\n",
       "\n",
       "    .dataframe thead th {\n",
       "        text-align: right;\n",
       "    }\n",
       "</style>\n",
       "<table border=\"1\" class=\"dataframe\">\n",
       "  <thead>\n",
       "    <tr style=\"text-align: right;\">\n",
       "      <th></th>\n",
       "      <th>pca_1</th>\n",
       "      <th>pca_2</th>\n",
       "      <th>pca_3</th>\n",
       "      <th>pca_4</th>\n",
       "      <th>lat</th>\n",
       "      <th>lng</th>\n",
       "      <th>ast_absolute_magnitude_h</th>\n",
       "      <th>hour</th>\n",
       "      <th>day_of_the_week</th>\n",
       "      <th>month</th>\n",
       "      <th>...</th>\n",
       "      <th>shape_light</th>\n",
       "      <th>shape_other</th>\n",
       "      <th>shape_oval</th>\n",
       "      <th>shape_rectangle</th>\n",
       "      <th>shape_round</th>\n",
       "      <th>shape_sphere</th>\n",
       "      <th>shape_teardrop</th>\n",
       "      <th>shape_triangle</th>\n",
       "      <th>shape_unknown</th>\n",
       "      <th>duration_seconds</th>\n",
       "    </tr>\n",
       "  </thead>\n",
       "  <tbody>\n",
       "    <tr>\n",
       "      <th>0</th>\n",
       "      <td>2.586827</td>\n",
       "      <td>-0.691122</td>\n",
       "      <td>0.383378</td>\n",
       "      <td>-0.392817</td>\n",
       "      <td>29.883056</td>\n",
       "      <td>-97.941111</td>\n",
       "      <td>21.5</td>\n",
       "      <td>20.0</td>\n",
       "      <td>0.0</td>\n",
       "      <td>10.0</td>\n",
       "      <td>...</td>\n",
       "      <td>0</td>\n",
       "      <td>0</td>\n",
       "      <td>0</td>\n",
       "      <td>0</td>\n",
       "      <td>0</td>\n",
       "      <td>0</td>\n",
       "      <td>0</td>\n",
       "      <td>0</td>\n",
       "      <td>0</td>\n",
       "      <td>2700.0</td>\n",
       "    </tr>\n",
       "    <tr>\n",
       "      <th>1</th>\n",
       "      <td>2.705866</td>\n",
       "      <td>-0.500283</td>\n",
       "      <td>0.805411</td>\n",
       "      <td>-0.762964</td>\n",
       "      <td>29.384210</td>\n",
       "      <td>-98.581082</td>\n",
       "      <td>21.5</td>\n",
       "      <td>21.0</td>\n",
       "      <td>0.0</td>\n",
       "      <td>10.0</td>\n",
       "      <td>...</td>\n",
       "      <td>1</td>\n",
       "      <td>0</td>\n",
       "      <td>0</td>\n",
       "      <td>0</td>\n",
       "      <td>0</td>\n",
       "      <td>0</td>\n",
       "      <td>0</td>\n",
       "      <td>0</td>\n",
       "      <td>0</td>\n",
       "      <td>7200.0</td>\n",
       "    </tr>\n",
       "    <tr>\n",
       "      <th>2</th>\n",
       "      <td>0.828969</td>\n",
       "      <td>3.089038</td>\n",
       "      <td>-1.496677</td>\n",
       "      <td>-2.100431</td>\n",
       "      <td>53.200000</td>\n",
       "      <td>-2.916667</td>\n",
       "      <td>21.5</td>\n",
       "      <td>17.0</td>\n",
       "      <td>0.0</td>\n",
       "      <td>10.0</td>\n",
       "      <td>...</td>\n",
       "      <td>0</td>\n",
       "      <td>0</td>\n",
       "      <td>0</td>\n",
       "      <td>0</td>\n",
       "      <td>0</td>\n",
       "      <td>0</td>\n",
       "      <td>0</td>\n",
       "      <td>0</td>\n",
       "      <td>0</td>\n",
       "      <td>20.0</td>\n",
       "    </tr>\n",
       "    <tr>\n",
       "      <th>3</th>\n",
       "      <td>1.499912</td>\n",
       "      <td>-0.667672</td>\n",
       "      <td>-0.962770</td>\n",
       "      <td>0.447635</td>\n",
       "      <td>28.978333</td>\n",
       "      <td>-96.645833</td>\n",
       "      <td>21.5</td>\n",
       "      <td>21.0</td>\n",
       "      <td>2.0</td>\n",
       "      <td>10.0</td>\n",
       "      <td>...</td>\n",
       "      <td>0</td>\n",
       "      <td>0</td>\n",
       "      <td>0</td>\n",
       "      <td>0</td>\n",
       "      <td>0</td>\n",
       "      <td>0</td>\n",
       "      <td>0</td>\n",
       "      <td>0</td>\n",
       "      <td>0</td>\n",
       "      <td>20.0</td>\n",
       "    </tr>\n",
       "    <tr>\n",
       "      <th>4</th>\n",
       "      <td>2.461555</td>\n",
       "      <td>0.334459</td>\n",
       "      <td>-0.601018</td>\n",
       "      <td>-0.502296</td>\n",
       "      <td>21.418056</td>\n",
       "      <td>-157.803611</td>\n",
       "      <td>21.5</td>\n",
       "      <td>20.0</td>\n",
       "      <td>0.0</td>\n",
       "      <td>10.0</td>\n",
       "      <td>...</td>\n",
       "      <td>1</td>\n",
       "      <td>0</td>\n",
       "      <td>0</td>\n",
       "      <td>0</td>\n",
       "      <td>0</td>\n",
       "      <td>0</td>\n",
       "      <td>0</td>\n",
       "      <td>0</td>\n",
       "      <td>0</td>\n",
       "      <td>900.0</td>\n",
       "    </tr>\n",
       "  </tbody>\n",
       "</table>\n",
       "<p>5 rows × 39 columns</p>\n",
       "</div>"
      ],
      "text/plain": [
       "      pca_1     pca_2     pca_3     pca_4        lat         lng  \\\n",
       "0  2.586827 -0.691122  0.383378 -0.392817  29.883056  -97.941111   \n",
       "1  2.705866 -0.500283  0.805411 -0.762964  29.384210  -98.581082   \n",
       "2  0.828969  3.089038 -1.496677 -2.100431  53.200000   -2.916667   \n",
       "3  1.499912 -0.667672 -0.962770  0.447635  28.978333  -96.645833   \n",
       "4  2.461555  0.334459 -0.601018 -0.502296  21.418056 -157.803611   \n",
       "\n",
       "   ast_absolute_magnitude_h  hour  day_of_the_week  month  ...  shape_light  \\\n",
       "0                      21.5  20.0              0.0   10.0  ...            0   \n",
       "1                      21.5  21.0              0.0   10.0  ...            1   \n",
       "2                      21.5  17.0              0.0   10.0  ...            0   \n",
       "3                      21.5  21.0              2.0   10.0  ...            0   \n",
       "4                      21.5  20.0              0.0   10.0  ...            1   \n",
       "\n",
       "   shape_other  shape_oval  shape_rectangle  shape_round  shape_sphere  \\\n",
       "0            0           0                0            0             0   \n",
       "1            0           0                0            0             0   \n",
       "2            0           0                0            0             0   \n",
       "3            0           0                0            0             0   \n",
       "4            0           0                0            0             0   \n",
       "\n",
       "   shape_teardrop  shape_triangle  shape_unknown  duration_seconds  \n",
       "0               0               0              0            2700.0  \n",
       "1               0               0              0            7200.0  \n",
       "2               0               0              0              20.0  \n",
       "3               0               0              0              20.0  \n",
       "4               0               0              0             900.0  \n",
       "\n",
       "[5 rows x 39 columns]"
      ]
     },
     "execution_count": 98,
     "metadata": {},
     "output_type": "execute_result"
    }
   ],
   "source": [
    "df = pd.read_csv('df_prepared.csv')\n",
    "df.drop(columns=['ast_is_dangerous'],inplace=True)\n",
    "df.head()"
   ]
  },
  {
   "cell_type": "markdown",
   "metadata": {},
   "source": [
    "### Regression Task\n",
    " \n",
    "Predict the **duration_in_seconds** of the UFO sighting given the predictors in the dataset.\n",
    "- Use Lasso and Ridge regression and find optimal **alpha** using GridSearch method."
   ]
  },
  {
   "cell_type": "code",
   "execution_count": 144,
   "metadata": {},
   "outputs": [],
   "source": [
    "columns = df.columns.tolist()\n",
    "scaller = StandardScaler()\n",
    "df_scaled = pd.DataFrame(scaller.fit_transform(df.astype(float)))\n",
    "df_scaled.columns = columns\n",
    "X,y = df_scaled.iloc[:,:-1],df_scaled['duration_seconds']"
   ]
  },
  {
   "cell_type": "code",
   "execution_count": 24,
   "metadata": {},
   "outputs": [],
   "source": [
    "#kf = KFold(n_splits=10, shuffle=True)\n",
    "#for train_index,test_index in kf.split(X):\n",
    "#    X_train,X_test = X.loc[train_index,:],X.loc[test_index,:]\n",
    "#    y_train,y_test = y[train_index],y[test_index]"
   ]
  },
  {
   "cell_type": "code",
   "execution_count": 145,
   "metadata": {},
   "outputs": [],
   "source": [
    "X_train, X_test, y_train,y_test = train_test_split(X,y,train_size=0.8,test_size=0.2,random_state=101)"
   ]
  },
  {
   "cell_type": "code",
   "execution_count": 152,
   "metadata": {},
   "outputs": [
    {
     "name": "stdout",
     "output_type": "stream",
     "text": [
      "0.0005334460475126819\n"
     ]
    },
    {
     "data": {
      "text/plain": [
       "array([4.57208374e+08, 4.57238861e+08, 4.57269348e+08, 4.57299835e+08,\n",
       "       4.57330322e+08, 4.57360809e+08, 4.57391296e+08, 4.57421783e+08,\n",
       "       4.57452270e+08])"
      ]
     },
     "execution_count": 152,
     "metadata": {},
     "output_type": "execute_result"
    }
   ],
   "source": [
    "a = 4.57208374*10**8\n",
    "b = 4.57452270*10**8\n",
    "alpha = np.linspace(a,b,9)\n",
    "print((b-a)/a)\n",
    "alpha"
   ]
  },
  {
   "cell_type": "code",
   "execution_count": 153,
   "metadata": {},
   "outputs": [
    {
     "data": {
      "text/plain": [
       "GridSearchCV(estimator=Ridge(), n_jobs=-1,\n",
       "             param_grid={'alpha': array([4.57208374e+08, 4.57238861e+08, 4.57269348e+08, 4.57299835e+08,\n",
       "       4.57330322e+08, 4.57360809e+08, 4.57391296e+08, 4.57421783e+08,\n",
       "       4.57452270e+08])})"
      ]
     },
     "execution_count": 153,
     "metadata": {},
     "output_type": "execute_result"
    }
   ],
   "source": [
    "clf = GridSearchCV(estimator=Ridge(),param_grid={'alpha':alpha}, n_jobs=-1)\n",
    "clf.fit(X_train,y_train)"
   ]
  },
  {
   "cell_type": "code",
   "execution_count": 154,
   "metadata": {},
   "outputs": [
    {
     "name": "stdout",
     "output_type": "stream",
     "text": [
      "Best score for data1: -0.00045283728601779315\n",
      "Best alpha: Ridge(alpha=457208374.0)\n",
      "Best parameters {'alpha': 457208374.0}\n"
     ]
    }
   ],
   "source": [
    "print('Best score for data1:', clf.best_score_)\n",
    "print('Best alpha:',clf.best_estimator_)\n",
    "print('Best parameters', clf.best_params_)\n",
    "alpha_best = clf.best_params_['alpha']"
   ]
  },
  {
   "cell_type": "code",
   "execution_count": 155,
   "metadata": {},
   "outputs": [],
   "source": [
    "test = pd.DataFrame(Ridge(alpha=alpha_best).fit(X_train, y_train).predict(X_test))"
   ]
  },
  {
   "cell_type": "code",
   "execution_count": 156,
   "metadata": {},
   "outputs": [],
   "source": [
    "mse = mean_squared_error(test,y_test) \n",
    "if mse>best_fit:\n",
    "    print('Previous MSE', best_fit)\n",
    "    print('New MSE', mse)\n",
    "    best_fit = mse\n",
    "    king_alpha = alpha_best\n",
    "    print('New best', king_alpha)"
   ]
  },
  {
   "cell_type": "code",
   "execution_count": 158,
   "metadata": {},
   "outputs": [
    {
     "data": {
      "text/plain": [
       "<matplotlib.collections.PathCollection at 0x1a01fd4b8b0>"
      ]
     },
     "execution_count": 158,
     "metadata": {},
     "output_type": "execute_result"
    },
    {
     "data": {
      "image/png": "[encoded data removed]",
      "text/plain": [
       "<Figure size 432x288 with 1 Axes>"
      ]
     },
     "metadata": {
      "needs_background": "light"
     },
     "output_type": "display_data"
    }
   ],
   "source": [
    "import matplotlib.pyplot as plt\n",
    "\n",
    "plt.scatter(test,y_test)"
   ]
  },
  {
   "cell_type": "code",
   "execution_count": 73,
   "metadata": {},
   "outputs": [
    {
     "data": {
      "text/plain": [
       "0.8912036356178137"
      ]
     },
     "execution_count": 73,
     "metadata": {},
     "output_type": "execute_result"
    }
   ],
   "source": [
    "best_fit"
   ]
  },
  {
   "cell_type": "code",
   "execution_count": null,
   "metadata": {},
   "outputs": [],
   "source": []
  },
  {
   "cell_type": "code",
   "execution_count": null,
   "metadata": {},
   "outputs": [],
   "source": []
  },
  {
   "cell_type": "code",
   "execution_count": 183,
   "metadata": {},
   "outputs": [
    {
     "name": "stdout",
     "output_type": "stream",
     "text": [
      "0.0025909301580754746\n"
     ]
    },
    {
     "data": {
      "text/plain": [
       "array([0.02332367, 0.02333122, 0.02333878, 0.02334633, 0.02335389,\n",
       "       0.02336144, 0.02336899, 0.02337655, 0.0233841 ])"
      ]
     },
     "execution_count": 183,
     "metadata": {},
     "output_type": "execute_result"
    }
   ],
   "source": [
    "a = 0.02332367\n",
    "b = 0.0233841\n",
    "alpha = [10**-4,10**-3,10**-2,10**-1,10**0,10**1,10**2,10**3,10**4,]\n",
    "alpha = np.linspace(a,b,9)\n",
    "print((b-a)/a)\n",
    "alpha"
   ]
  },
  {
   "cell_type": "code",
   "execution_count": 184,
   "metadata": {},
   "outputs": [
    {
     "data": {
      "text/plain": [
       "GridSearchCV(estimator=Lasso(), n_jobs=-1,\n",
       "             param_grid={'alpha': array([0.02332367, 0.02333122, 0.02333878, 0.02334633, 0.02335389,\n",
       "       0.02336144, 0.02336899, 0.02337655, 0.0233841 ])})"
      ]
     },
     "execution_count": 184,
     "metadata": {},
     "output_type": "execute_result"
    }
   ],
   "source": [
    "clf = GridSearchCV(estimator=Lasso(),param_grid={'alpha':alpha}, n_jobs=-1)\n",
    "clf.fit(X_train,y_train)"
   ]
  },
  {
   "cell_type": "code",
   "execution_count": 185,
   "metadata": {},
   "outputs": [
    {
     "name": "stdout",
     "output_type": "stream",
     "text": [
      "Best score for data1: -0.0004528874385736348\n",
      "Best alpha: Lasso(alpha=0.02333122375)\n",
      "Best parameters {'alpha': 0.02333122375}\n"
     ]
    }
   ],
   "source": [
    "print('Best score for data1:', clf.best_score_)\n",
    "print('Best alpha:',clf.best_estimator_)\n",
    "print('Best parameters', clf.best_params_)\n",
    "alpha_best = clf.best_params_['alpha']"
   ]
  },
  {
   "cell_type": "code",
   "execution_count": 186,
   "metadata": {},
   "outputs": [],
   "source": [
    "test = pd.DataFrame(Ridge(alpha=alpha_best).fit(X_train, y_train).predict(X_test))"
   ]
  },
  {
   "cell_type": "code",
   "execution_count": 187,
   "metadata": {},
   "outputs": [
    {
     "data": {
      "text/plain": [
       "<matplotlib.collections.PathCollection at 0x1a01e6a0e80>"
      ]
     },
     "execution_count": 187,
     "metadata": {},
     "output_type": "execute_result"
    },
    {
     "data": {
      "image/png": "[encoded data removed]",
      "text/plain": [
       "<Figure size 432x288 with 1 Axes>"
      ]
     },
     "metadata": {
      "needs_background": "light"
     },
     "output_type": "display_data"
    }
   ],
   "source": [
    "plt.scatter(test,y_test)"
   ]
  },
  {
   "cell_type": "code",
   "execution_count": null,
   "metadata": {},
   "outputs": [],
   "source": []
  }
 ],
 "metadata": {
  "anaconda-cloud": {},
  "kernelspec": {
   "display_name": "Python 3",
   "language": "python",
   "name": "python3"
  },
  "language_info": {
   "codemirror_mode": {
    "name": "ipython",
    "version": 3
   },
   "file_extension": ".py",
   "mimetype": "text/x-python",
   "name": "python",
   "nbconvert_exporter": "python",
   "pygments_lexer": "ipython3",
   "version": "3.8.5"
  }
 },
 "nbformat": 4,
 "nbformat_minor": 4
}
