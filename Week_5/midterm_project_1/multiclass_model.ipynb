{
 "metadata": {
  "language_info": {
   "codemirror_mode": {
    "name": "ipython",
    "version": 3
   },
   "file_extension": ".py",
   "mimetype": "text/x-python",
   "name": "python",
   "nbconvert_exporter": "python",
   "pygments_lexer": "ipython3",
   "version": "3.8.5-final"
  },
  "orig_nbformat": 2,
  "kernelspec": {
   "name": "python_defaultSpec_1598541908333",
   "display_name": "Python 3.8.5 64-bit ('boot_env': conda)"
  }
 },
 "nbformat": 4,
 "nbformat_minor": 2,
 "cells": [
  {
   "cell_type": "code",
   "execution_count": 5,
   "metadata": {},
   "outputs": [],
   "source": [
    "%reset"
   ]
  },
  {
   "cell_type": "code",
   "execution_count": 1,
   "metadata": {},
   "outputs": [],
   "source": [
    "import pandas as pd\n",
    "import numpy as np\n",
    "import random\n",
    "\n",
    "#flights = pd.read_csv('../../../large_files/flights_w_weather_full.csv')"
   ]
  },
  {
   "cell_type": "code",
   "execution_count": 2,
   "metadata": {},
   "outputs": [
    {
     "output_type": "execute_result",
     "data": {
      "text/plain": "Index(['fl_date', 'mkt_unique_carrier', 'branded_code_share', 'mkt_carrier',\n       'mkt_carrier_fl_num', 'op_unique_carrier', 'tail_num',\n       'op_carrier_fl_num', 'origin_airport_id', 'origin', 'origin_city_name',\n       'dest_airport_id', 'dest', 'dest_city_name', 'crs_dep_time', 'dep_time',\n       'dep_delay', 'taxi_out', 'wheels_off', 'wheels_on', 'taxi_in',\n       'crs_arr_time', 'arr_time', 'arr_delay', 'cancelled',\n       'cancellation_code', 'diverted', 'dup', 'crs_elapsed_time',\n       'actual_elapsed_time', 'air_time', 'flights', 'distance',\n       'carrier_delay', 'weather_delay', 'nas_delay', 'security_delay',\n       'late_aircraft_delay', 'first_dep_time', 'total_add_gtime',\n       'longest_add_gtime', 'no_name', 'city_name_dep', 'conditions_dep',\n       'is_sunny_dep', 'is_cloudy_dep', 'is_rain_dep', 'is_snow_dep', '_merge',\n       'city_name_arr', 'conditions_arr', 'is_sunny_arr', 'is_cloudy_arr',\n       'is_rain_arr', 'is_snow_arr', 'merge_arrivals'],\n      dtype='object')"
     },
     "metadata": {},
     "execution_count": 2
    }
   ],
   "source": [
    "flights.columns"
   ]
  },
  {
   "cell_type": "code",
   "execution_count": 4,
   "metadata": {},
   "outputs": [],
   "source": [
    "#flights = copy.deepcopy(flights_)#.sample(10**6)\n",
    "cols = ['fl_date','op_unique_carrier','origin_airport_id','dest_airport_id','dep_time','dep_delay','taxi_out','cancelled','cancellation_code','carrier_delay','weather_delay','nas_delay','security_delay','late_aircraft_delay','conditions_dep','is_sunny_dep','is_cloudy_dep','is_rain_dep','is_snow_dep']\n",
    "flights = flights[cols]"
   ]
  },
  {
   "cell_type": "markdown",
   "metadata": {},
   "source": [
    "The target variables are CARRIER_DELAY, WEATHER_DELAY, NAS_DELAY, SECURITY_DELAY, LATE_AIRCRAFT_DELAY. We need to do additional transformations because these variables are not binary but continuos. For each flight that was delayed, we need to have one of these variables as 1 and others 0.\n",
    "\n",
    "It can happen that we have two types of delays with more than 0 minutes. In this case, take the bigger one as 1 and others as 0."
   ]
  },
  {
   "cell_type": "code",
   "execution_count": 5,
   "metadata": {
    "tags": []
   },
   "outputs": [],
   "source": [
    "def binar(arr,eps=2**-16):\n",
    "    c,w,n,s,l = [i for i in arr]\n",
    "    max_delay = max([c,w,n,s,l,1])\n",
    " \n",
    "    k = [k for k,j in enumerate([c,w,n,s,l]) if j == max_delay]\n",
    "    \n",
    "    if not k:\n",
    "       k = [random.randint(0,4)]\n",
    "    rand_gen = random.choice(k)\n",
    "    \n",
    "    return int(c+int(rand_gen == 0)*eps > max_delay),int(w+int(rand_gen == 1)*eps > max_delay),int(n+int(rand_gen == 2)*eps > max_delay),int(s+int(rand_gen == 3)*eps > max_delay),int(l+int(rand_gen == 4)*eps > max_delay)\n",
    "\n",
    "indys = flights.loc[~flights.carrier_delay.isna()].index\n",
    "flights.loc[indys,['carrier_delay', 'weather_delay', 'nas_delay', 'security_delay', 'late_aircraft_delay']]= flights.loc[indys,['carrier_delay', 'weather_delay', 'nas_delay', 'security_delay', 'late_aircraft_delay']].apply(lambda x: binar(x),raw=True,axis=1,result_type='broadcast')"
   ]
  },
  {
   "cell_type": "code",
   "execution_count": 11,
   "metadata": {
    "tags": []
   },
   "outputs": [
    {
     "output_type": "stream",
     "name": "stdout",
     "text": "26.525123036141117 3.348065321489249 30.503025718608168 0.17179195392824953 39.45192749974077\n"
    }
   ],
   "source": [
    "c_delay, w_delay, n_delay, s_delay, l_delay = flights.loc[indys,['carrier_delay', 'weather_delay', 'nas_delay', 'security_delay', 'late_aircraft_delay']].apply(lambda x: x.sum(),raw=True)/len(flights.loc[indys])*100\n",
    "print(c_delay, w_delay, n_delay, s_delay, l_delay)"
   ]
  },
  {
   "cell_type": "code",
   "execution_count": 6,
   "metadata": {},
   "outputs": [],
   "source": [
    "flights['delay_code'] = np.nan\n",
    "flights.loc[indys,'delay_code'] = flights.loc[indys,['carrier_delay', 'weather_delay', 'nas_delay', 'security_delay', 'late_aircraft_delay']].apply(lambda x: x.tolist().index(max(x)),axis=1,raw=True)"
   ]
  },
  {
   "cell_type": "code",
   "execution_count": 13,
   "metadata": {
    "tags": []
   },
   "outputs": [],
   "source": [
    "flights.to_csv('../../../large_files/flights_transformed.csv')"
   ]
  },
  {
   "cell_type": "code",
   "execution_count": 7,
   "metadata": {},
   "outputs": [],
   "source": [
    "flights.sort_values(by=['op_unique_carrier','origin_airport_id','fl_date'],inplace=True)"
   ]
  },
  {
   "cell_type": "code",
   "execution_count": 8,
   "metadata": {},
   "outputs": [],
   "source": [
    "flights['month'] = pd.to_datetime(flights['fl_date'],format='%Y-%m-%d').apply(lambda x: x.month)\n",
    "flights['year'] = pd.to_datetime(flights['fl_date'],format='%Y-%m-%d').apply(lambda x: x.year)"
   ]
  },
  {
   "cell_type": "code",
   "execution_count": 9,
   "metadata": {},
   "outputs": [
    {
     "output_type": "execute_result",
     "data": {
      "text/plain": "Index(['fl_date', 'op_unique_carrier', 'origin_airport_id', 'dest_airport_id',\n       'dep_time', 'dep_delay', 'taxi_out', 'cancelled', 'cancellation_code',\n       'carrier_delay', 'weather_delay', 'nas_delay', 'security_delay',\n       'late_aircraft_delay', 'conditions_dep', 'is_sunny_dep',\n       'is_cloudy_dep', 'is_rain_dep', 'is_snow_dep', 'delay_code', 'month',\n       'year'],\n      dtype='object')"
     },
     "metadata": {},
     "execution_count": 9
    }
   ],
   "source": [
    "flights.columns"
   ]
  },
  {
   "cell_type": "code",
   "execution_count": 10,
   "metadata": {},
   "outputs": [],
   "source": [
    "carrier_ids = flights.op_unique_carrier.unique().tolist()\n",
    "flights['rolling_dep_delay_carr-airport'] = 0\n",
    "for i in carrier_ids:\n",
    "    indy = flights[flights['op_unique_carrier']==i].index\n",
    "    temp = flights.loc[indy]\n",
    "    airport_ids = temp.origin_airport_id.unique().tolist()\n",
    "    for j in airport_ids:\n",
    "        indy2 = temp[temp['origin_airport_id']==j].index\n",
    "        flights.loc[indy2,'rolling_dep_delay_carr-airport'] = temp.loc[indy2,'dep_delay'].rolling(7,min_periods=1).mean()\n",
    "flights['average_dep_delay_airport-month'] = 0\n",
    "airport_ids = flights.origin_airport_id.unique().tolist()\n",
    "for i in airport_ids:\n",
    "    indy = flights[flights['origin_airport_id']==i].index\n",
    "    temp = flights.loc[indy]\n",
    "    months = temp.month.unique().tolist()\n",
    "    for month in months:\n",
    "        indy2 = temp[temp['month']==month].index\n",
    "        flights.loc[indy2,'average_dep_delay_airport-month'] = flights.loc[indy2,'dep_delay'].mean()"
   ]
  },
  {
   "cell_type": "code",
   "execution_count": 11,
   "metadata": {},
   "outputs": [],
   "source": [
    "flights.to_csv('../../../large_files/flights_transformed.csv')"
   ]
  },
  {
   "cell_type": "code",
   "execution_count": 2,
   "metadata": {},
   "outputs": [],
   "source": [
    "flights = pd.read_csv('../../../large_files/flights_transformed.csv',index_col=0)\n",
    "passengers = pd.read_csv('../../../large_files/passengers.csv')"
   ]
  },
  {
   "cell_type": "code",
   "execution_count": 3,
   "metadata": {},
   "outputs": [],
   "source": [
    "col_p = ['departures_performed', 'passengers', 'unique_carrier', 'month', 'year', 'origin_airport_id', 'dest_airport_id']\n",
    "passengers = passengers[col_p]\n",
    "passengers = passengers[passengers.passengers>0]\n",
    "passengers = passengers[passengers.year>2018]"
   ]
  },
  {
   "cell_type": "code",
   "execution_count": 4,
   "metadata": {},
   "outputs": [],
   "source": [
    "op_unique_carrier = flights.op_unique_carrier.unique().tolist()\n",
    "passengers = passengers[passengers.unique_carrier.isin(op_unique_carrier)]"
   ]
  },
  {
   "cell_type": "code",
   "execution_count": 5,
   "metadata": {},
   "outputs": [
    {
     "output_type": "execute_result",
     "data": {
      "text/plain": "         departures_performed  passengers unique_carrier  month  year  \\\n361                       4.0   43.000000             EM      5  2019   \n362                       4.0   33.500000             EM      5  2019   \n363                       1.0   66.000000             G7      5  2019   \n364                       1.0   66.000000             G7      5  2019   \n365                       1.0   15.000000             G7      5  2019   \n...                       ...         ...            ...    ...   ...   \n2350446                 594.0    5.508418             9K      9  2019   \n2350448                 596.0    5.968121             9K      7  2019   \n2350449                 596.0    5.369128             9K      6  2019   \n2350452                 617.0    5.931929             9K      9  2019   \n2350453                 617.0    6.003241             9K      7  2019   \n\n         origin_airport_id  dest_airport_id  \n361                  12173            13034  \n362                  13034            12173  \n363                  10140            11292  \n364                  10397            10140  \n365                  10397            11109  \n...                    ...              ...  \n2350446              10721            10154  \n2350448              10721            10154  \n2350449              10154            10721  \n2350452              10154            10721  \n2350453              10154            10721  \n\n[547236 rows x 7 columns]",
      "text/html": "<div>\n<style scoped>\n    .dataframe tbody tr th:only-of-type {\n        vertical-align: middle;\n    }\n\n    .dataframe tbody tr th {\n        vertical-align: top;\n    }\n\n    .dataframe thead th {\n        text-align: right;\n    }\n</style>\n<table border=\"1\" class=\"dataframe\">\n  <thead>\n    <tr style=\"text-align: right;\">\n      <th></th>\n      <th>departures_performed</th>\n      <th>passengers</th>\n      <th>unique_carrier</th>\n      <th>month</th>\n      <th>year</th>\n      <th>origin_airport_id</th>\n      <th>dest_airport_id</th>\n    </tr>\n  </thead>\n  <tbody>\n    <tr>\n      <th>361</th>\n      <td>4.0</td>\n      <td>43.000000</td>\n      <td>EM</td>\n      <td>5</td>\n      <td>2019</td>\n      <td>12173</td>\n      <td>13034</td>\n    </tr>\n    <tr>\n      <th>362</th>\n      <td>4.0</td>\n      <td>33.500000</td>\n      <td>EM</td>\n      <td>5</td>\n      <td>2019</td>\n      <td>13034</td>\n      <td>12173</td>\n    </tr>\n    <tr>\n      <th>363</th>\n      <td>1.0</td>\n      <td>66.000000</td>\n      <td>G7</td>\n      <td>5</td>\n      <td>2019</td>\n      <td>10140</td>\n      <td>11292</td>\n    </tr>\n    <tr>\n      <th>364</th>\n      <td>1.0</td>\n      <td>66.000000</td>\n      <td>G7</td>\n      <td>5</td>\n      <td>2019</td>\n      <td>10397</td>\n      <td>10140</td>\n    </tr>\n    <tr>\n      <th>365</th>\n      <td>1.0</td>\n      <td>15.000000</td>\n      <td>G7</td>\n      <td>5</td>\n      <td>2019</td>\n      <td>10397</td>\n      <td>11109</td>\n    </tr>\n    <tr>\n      <th>...</th>\n      <td>...</td>\n      <td>...</td>\n      <td>...</td>\n      <td>...</td>\n      <td>...</td>\n      <td>...</td>\n      <td>...</td>\n    </tr>\n    <tr>\n      <th>2350446</th>\n      <td>594.0</td>\n      <td>5.508418</td>\n      <td>9K</td>\n      <td>9</td>\n      <td>2019</td>\n      <td>10721</td>\n      <td>10154</td>\n    </tr>\n    <tr>\n      <th>2350448</th>\n      <td>596.0</td>\n      <td>5.968121</td>\n      <td>9K</td>\n      <td>7</td>\n      <td>2019</td>\n      <td>10721</td>\n      <td>10154</td>\n    </tr>\n    <tr>\n      <th>2350449</th>\n      <td>596.0</td>\n      <td>5.369128</td>\n      <td>9K</td>\n      <td>6</td>\n      <td>2019</td>\n      <td>10154</td>\n      <td>10721</td>\n    </tr>\n    <tr>\n      <th>2350452</th>\n      <td>617.0</td>\n      <td>5.931929</td>\n      <td>9K</td>\n      <td>9</td>\n      <td>2019</td>\n      <td>10154</td>\n      <td>10721</td>\n    </tr>\n    <tr>\n      <th>2350453</th>\n      <td>617.0</td>\n      <td>6.003241</td>\n      <td>9K</td>\n      <td>7</td>\n      <td>2019</td>\n      <td>10154</td>\n      <td>10721</td>\n    </tr>\n  </tbody>\n</table>\n<p>547236 rows × 7 columns</p>\n</div>"
     },
     "metadata": {},
     "execution_count": 5
    }
   ],
   "source": [
    "passengers['passengers'] /= passengers.departures_performed\n",
    "passengers"
   ]
  },
  {
   "cell_type": "code",
   "execution_count": 10,
   "metadata": {},
   "outputs": [],
   "source": [
    "#flights = flights.merge(passengers, how='inner', left_on=['op_unique_carrier','origin_airport_id','dest_airport_id','month','year'],right_on=['unique_carrier','origin_airport_id', 'dest_airport_id','month','year'])\n",
    "flights.drop_duplicates(subset=['fl_date','op_unique_carrier','origin_airport_id', 'dest_airport_id','dep_time'],inplace=True)"
   ]
  },
  {
   "cell_type": "code",
   "execution_count": 2,
   "metadata": {},
   "outputs": [],
   "source": [
    "#flights.to_csv('../../../large_files/flights_transformed_w_pax.csv')\n",
    "flights = pd.read_csv('../../../large_files/flights_transformed_w_pax.csv',index_col=0)"
   ]
  },
  {
   "cell_type": "code",
   "execution_count": null,
   "metadata": {},
   "outputs": [],
   "source": []
  },
  {
   "cell_type": "code",
   "execution_count": 3,
   "metadata": {},
   "outputs": [
    {
     "output_type": "execute_result",
     "data": {
      "text/plain": "Index(['fl_date', 'op_unique_carrier', 'origin_airport_id', 'dest_airport_id',\n       'dep_time', 'dep_delay', 'taxi_out', 'cancelled', 'cancellation_code',\n       'carrier_delay', 'weather_delay', 'nas_delay', 'security_delay',\n       'late_aircraft_delay', 'conditions_dep', 'is_sunny_dep',\n       'is_cloudy_dep', 'is_rain_dep', 'is_snow_dep', 'delay_code', 'month',\n       'year', 'rolling_dep_delay_carr-airport',\n       'average_dep_delay_airport-month', 'departures_performed', 'passengers',\n       'unique_carrier'],\n      dtype='object')"
     },
     "metadata": {},
     "execution_count": 3
    }
   ],
   "source": [
    "flights.columns"
   ]
  },
  {
   "cell_type": "code",
   "execution_count": 4,
   "metadata": {},
   "outputs": [],
   "source": [
    "flights['day'] = pd.to_datetime(flights['fl_date'],format='%Y-%m-%d').apply(lambda x: x.day)\n",
    "flights['day_of_week'] = pd.to_datetime(flights['fl_date'],format='%Y-%m-%d').apply(lambda x: x.dayofweek)\n",
    "flights['hour'] = round(flights.dep_time%100/60+(flights.dep_time-flights.dep_time%100)/100)"
   ]
  },
  {
   "cell_type": "code",
   "execution_count": 5,
   "metadata": {},
   "outputs": [
    {
     "output_type": "execute_result",
     "data": {
      "text/plain": "         origin_airport_id  year  month  day  hour  0  pax-hourly-traffic\n0                    10135  2019      1    1   5.0  1           35.093023\n1                    10135  2019      1    1   6.0  2          120.734177\n2                    10135  2019      1    1   8.0  1           46.428571\n3                    10135  2019      1    1  11.0  2          210.877034\n4                    10135  2019      1    1  14.0  2          187.482759\n...                    ...   ...    ...  ...   ... ..                 ...\n1208413              16869  2019     12   30  17.0  1           46.971831\n1208414              16869  2019     12   31   6.0  2          113.771831\n1208415              16869  2019     12   31  13.0  1           66.800000\n1208416              16869  2019     12   31  15.0  1           46.971831\n1208417              16869  2019     12   31  17.0  1           66.052632\n\n[1208418 rows x 7 columns]",
      "text/html": "<div>\n<style scoped>\n    .dataframe tbody tr th:only-of-type {\n        vertical-align: middle;\n    }\n\n    .dataframe tbody tr th {\n        vertical-align: top;\n    }\n\n    .dataframe thead th {\n        text-align: right;\n    }\n</style>\n<table border=\"1\" class=\"dataframe\">\n  <thead>\n    <tr style=\"text-align: right;\">\n      <th></th>\n      <th>origin_airport_id</th>\n      <th>year</th>\n      <th>month</th>\n      <th>day</th>\n      <th>hour</th>\n      <th>0</th>\n      <th>pax-hourly-traffic</th>\n    </tr>\n  </thead>\n  <tbody>\n    <tr>\n      <th>0</th>\n      <td>10135</td>\n      <td>2019</td>\n      <td>1</td>\n      <td>1</td>\n      <td>5.0</td>\n      <td>1</td>\n      <td>35.093023</td>\n    </tr>\n    <tr>\n      <th>1</th>\n      <td>10135</td>\n      <td>2019</td>\n      <td>1</td>\n      <td>1</td>\n      <td>6.0</td>\n      <td>2</td>\n      <td>120.734177</td>\n    </tr>\n    <tr>\n      <th>2</th>\n      <td>10135</td>\n      <td>2019</td>\n      <td>1</td>\n      <td>1</td>\n      <td>8.0</td>\n      <td>1</td>\n      <td>46.428571</td>\n    </tr>\n    <tr>\n      <th>3</th>\n      <td>10135</td>\n      <td>2019</td>\n      <td>1</td>\n      <td>1</td>\n      <td>11.0</td>\n      <td>2</td>\n      <td>210.877034</td>\n    </tr>\n    <tr>\n      <th>4</th>\n      <td>10135</td>\n      <td>2019</td>\n      <td>1</td>\n      <td>1</td>\n      <td>14.0</td>\n      <td>2</td>\n      <td>187.482759</td>\n    </tr>\n    <tr>\n      <th>...</th>\n      <td>...</td>\n      <td>...</td>\n      <td>...</td>\n      <td>...</td>\n      <td>...</td>\n      <td>...</td>\n      <td>...</td>\n    </tr>\n    <tr>\n      <th>1208413</th>\n      <td>16869</td>\n      <td>2019</td>\n      <td>12</td>\n      <td>30</td>\n      <td>17.0</td>\n      <td>1</td>\n      <td>46.971831</td>\n    </tr>\n    <tr>\n      <th>1208414</th>\n      <td>16869</td>\n      <td>2019</td>\n      <td>12</td>\n      <td>31</td>\n      <td>6.0</td>\n      <td>2</td>\n      <td>113.771831</td>\n    </tr>\n    <tr>\n      <th>1208415</th>\n      <td>16869</td>\n      <td>2019</td>\n      <td>12</td>\n      <td>31</td>\n      <td>13.0</td>\n      <td>1</td>\n      <td>66.800000</td>\n    </tr>\n    <tr>\n      <th>1208416</th>\n      <td>16869</td>\n      <td>2019</td>\n      <td>12</td>\n      <td>31</td>\n      <td>15.0</td>\n      <td>1</td>\n      <td>46.971831</td>\n    </tr>\n    <tr>\n      <th>1208417</th>\n      <td>16869</td>\n      <td>2019</td>\n      <td>12</td>\n      <td>31</td>\n      <td>17.0</td>\n      <td>1</td>\n      <td>66.052632</td>\n    </tr>\n  </tbody>\n</table>\n<p>1208418 rows × 7 columns</p>\n</div>"
     },
     "metadata": {},
     "execution_count": 5
    }
   ],
   "source": [
    "pax_hourly = flights.groupby(['origin_airport_id','year','month','day','hour'])['passengers'].sum().reset_index(level=['origin_airport_id','year','month','day','hour'])\n",
    "traffic_hourly = flights.groupby(['origin_airport_id','year','month','day','hour']).size().reset_index(level=['origin_airport_id','year','month','day','hour'])\n",
    "traffic_hourly['pax-hourly-traffic'] = pax_hourly.passengers\n",
    "traffic_hourly"
   ]
  },
  {
   "cell_type": "code",
   "execution_count": 6,
   "metadata": {},
   "outputs": [
    {
     "output_type": "execute_result",
     "data": {
      "text/plain": "            fl_date op_unique_carrier  origin_airport_id  dest_airport_id  \\\n0        2019-01-01                9E              10135            10397   \n1        2019-01-01                OH              10135            11057   \n2        2019-01-02                9E              10135            10397   \n3        2019-01-02                OH              10135            11057   \n4        2019-01-02                OO              10135            11433   \n...             ...               ...                ...              ...   \n7934145  2019-06-01                ZW              15919            13930   \n7934146  2019-06-13                ZW              15919            13930   \n7934147  2019-08-20                ZW              15919            13930   \n7934148  2019-08-27                ZW              15919            13930   \n7934149  2019-10-19                ZW              15919            13930   \n\n         dep_time  dep_delay  taxi_out  cancelled cancellation_code  \\\n0           557.0       -3.0      23.0        0.0               NaN   \n1           552.0       -9.0      12.0        0.0               NaN   \n2           554.0       -6.0      16.0        0.0               NaN   \n3           601.0        0.0      12.0        0.0               NaN   \n4           530.0       -5.0      20.0        0.0               NaN   \n...           ...        ...       ...        ...               ...   \n7934145    1055.0       -2.0      23.0        0.0               NaN   \n7934146    1504.0       -6.0      16.0        0.0               NaN   \n7934147    1541.0      303.0      46.0        0.0               NaN   \n7934148     806.0      -15.0      12.0        0.0               NaN   \n7934149    1752.0      -17.0      17.0        0.0               NaN   \n\n         carrier_delay  ...  rolling_dep_delay_carr-airport  \\\n0                  NaN  ...                       38.571429   \n1                  NaN  ...                        1.571429   \n2                  NaN  ...                       14.000000   \n3                  NaN  ...                       -5.000000   \n4                  NaN  ...                       61.000000   \n...                ...  ...                             ...   \n7934145            0.0  ...                       19.714286   \n7934146            NaN  ...                       76.666667   \n7934147            0.0  ...                       55.142857   \n7934148            NaN  ...                       20.500000   \n7934149            NaN  ...                       -1.571429   \n\n         average_dep_delay_airport-month  departures_performed  passengers  \\\n0                              12.514763                   1.0   53.000000   \n1                              12.514763                  79.0   67.734177   \n2                              12.514763                   1.0   53.000000   \n3                              12.514763                  79.0   67.734177   \n4                              12.514763                  86.0   35.093023   \n...                                  ...                   ...         ...   \n7934145                        18.857816                  34.0   40.764706   \n7934146                        18.857816                  34.0   40.764706   \n7934147                        12.164542                  34.0   36.470588   \n7934148                        12.164542                  34.0   36.470588   \n7934149                         9.880671                  23.0   32.347826   \n\n        unique_carrier  day  day_of_week  hour  0  pax-hourly-traffic  \n0                   9E    1            1   6.0  2          120.734177  \n1                   OH    1            1   6.0  2          120.734177  \n2                   9E    2            2   6.0  4          199.309959  \n3                   OH    2            2   6.0  4          199.309959  \n4                   OO    2            2   6.0  4          199.309959  \n...                ...  ...          ...   ... ..                 ...  \n7934145             ZW    1            5  11.0  1           40.764706  \n7934146             ZW   13            3  15.0  1           40.764706  \n7934147             ZW   20            1  16.0  1           36.470588  \n7934148             ZW   27            1   8.0  1           36.470588  \n7934149             ZW   19            5  18.0  1           32.347826  \n\n[7934150 rows x 32 columns]",
      "text/html": "<div>\n<style scoped>\n    .dataframe tbody tr th:only-of-type {\n        vertical-align: middle;\n    }\n\n    .dataframe tbody tr th {\n        vertical-align: top;\n    }\n\n    .dataframe thead th {\n        text-align: right;\n    }\n</style>\n<table border=\"1\" class=\"dataframe\">\n  <thead>\n    <tr style=\"text-align: right;\">\n      <th></th>\n      <th>fl_date</th>\n      <th>op_unique_carrier</th>\n      <th>origin_airport_id</th>\n      <th>dest_airport_id</th>\n      <th>dep_time</th>\n      <th>dep_delay</th>\n      <th>taxi_out</th>\n      <th>cancelled</th>\n      <th>cancellation_code</th>\n      <th>carrier_delay</th>\n      <th>...</th>\n      <th>rolling_dep_delay_carr-airport</th>\n      <th>average_dep_delay_airport-month</th>\n      <th>departures_performed</th>\n      <th>passengers</th>\n      <th>unique_carrier</th>\n      <th>day</th>\n      <th>day_of_week</th>\n      <th>hour</th>\n      <th>0</th>\n      <th>pax-hourly-traffic</th>\n    </tr>\n  </thead>\n  <tbody>\n    <tr>\n      <th>0</th>\n      <td>2019-01-01</td>\n      <td>9E</td>\n      <td>10135</td>\n      <td>10397</td>\n      <td>557.0</td>\n      <td>-3.0</td>\n      <td>23.0</td>\n      <td>0.0</td>\n      <td>NaN</td>\n      <td>NaN</td>\n      <td>...</td>\n      <td>38.571429</td>\n      <td>12.514763</td>\n      <td>1.0</td>\n      <td>53.000000</td>\n      <td>9E</td>\n      <td>1</td>\n      <td>1</td>\n      <td>6.0</td>\n      <td>2</td>\n      <td>120.734177</td>\n    </tr>\n    <tr>\n      <th>1</th>\n      <td>2019-01-01</td>\n      <td>OH</td>\n      <td>10135</td>\n      <td>11057</td>\n      <td>552.0</td>\n      <td>-9.0</td>\n      <td>12.0</td>\n      <td>0.0</td>\n      <td>NaN</td>\n      <td>NaN</td>\n      <td>...</td>\n      <td>1.571429</td>\n      <td>12.514763</td>\n      <td>79.0</td>\n      <td>67.734177</td>\n      <td>OH</td>\n      <td>1</td>\n      <td>1</td>\n      <td>6.0</td>\n      <td>2</td>\n      <td>120.734177</td>\n    </tr>\n    <tr>\n      <th>2</th>\n      <td>2019-01-02</td>\n      <td>9E</td>\n      <td>10135</td>\n      <td>10397</td>\n      <td>554.0</td>\n      <td>-6.0</td>\n      <td>16.0</td>\n      <td>0.0</td>\n      <td>NaN</td>\n      <td>NaN</td>\n      <td>...</td>\n      <td>14.000000</td>\n      <td>12.514763</td>\n      <td>1.0</td>\n      <td>53.000000</td>\n      <td>9E</td>\n      <td>2</td>\n      <td>2</td>\n      <td>6.0</td>\n      <td>4</td>\n      <td>199.309959</td>\n    </tr>\n    <tr>\n      <th>3</th>\n      <td>2019-01-02</td>\n      <td>OH</td>\n      <td>10135</td>\n      <td>11057</td>\n      <td>601.0</td>\n      <td>0.0</td>\n      <td>12.0</td>\n      <td>0.0</td>\n      <td>NaN</td>\n      <td>NaN</td>\n      <td>...</td>\n      <td>-5.000000</td>\n      <td>12.514763</td>\n      <td>79.0</td>\n      <td>67.734177</td>\n      <td>OH</td>\n      <td>2</td>\n      <td>2</td>\n      <td>6.0</td>\n      <td>4</td>\n      <td>199.309959</td>\n    </tr>\n    <tr>\n      <th>4</th>\n      <td>2019-01-02</td>\n      <td>OO</td>\n      <td>10135</td>\n      <td>11433</td>\n      <td>530.0</td>\n      <td>-5.0</td>\n      <td>20.0</td>\n      <td>0.0</td>\n      <td>NaN</td>\n      <td>NaN</td>\n      <td>...</td>\n      <td>61.000000</td>\n      <td>12.514763</td>\n      <td>86.0</td>\n      <td>35.093023</td>\n      <td>OO</td>\n      <td>2</td>\n      <td>2</td>\n      <td>6.0</td>\n      <td>4</td>\n      <td>199.309959</td>\n    </tr>\n    <tr>\n      <th>...</th>\n      <td>...</td>\n      <td>...</td>\n      <td>...</td>\n      <td>...</td>\n      <td>...</td>\n      <td>...</td>\n      <td>...</td>\n      <td>...</td>\n      <td>...</td>\n      <td>...</td>\n      <td>...</td>\n      <td>...</td>\n      <td>...</td>\n      <td>...</td>\n      <td>...</td>\n      <td>...</td>\n      <td>...</td>\n      <td>...</td>\n      <td>...</td>\n      <td>...</td>\n      <td>...</td>\n    </tr>\n    <tr>\n      <th>7934145</th>\n      <td>2019-06-01</td>\n      <td>ZW</td>\n      <td>15919</td>\n      <td>13930</td>\n      <td>1055.0</td>\n      <td>-2.0</td>\n      <td>23.0</td>\n      <td>0.0</td>\n      <td>NaN</td>\n      <td>0.0</td>\n      <td>...</td>\n      <td>19.714286</td>\n      <td>18.857816</td>\n      <td>34.0</td>\n      <td>40.764706</td>\n      <td>ZW</td>\n      <td>1</td>\n      <td>5</td>\n      <td>11.0</td>\n      <td>1</td>\n      <td>40.764706</td>\n    </tr>\n    <tr>\n      <th>7934146</th>\n      <td>2019-06-13</td>\n      <td>ZW</td>\n      <td>15919</td>\n      <td>13930</td>\n      <td>1504.0</td>\n      <td>-6.0</td>\n      <td>16.0</td>\n      <td>0.0</td>\n      <td>NaN</td>\n      <td>NaN</td>\n      <td>...</td>\n      <td>76.666667</td>\n      <td>18.857816</td>\n      <td>34.0</td>\n      <td>40.764706</td>\n      <td>ZW</td>\n      <td>13</td>\n      <td>3</td>\n      <td>15.0</td>\n      <td>1</td>\n      <td>40.764706</td>\n    </tr>\n    <tr>\n      <th>7934147</th>\n      <td>2019-08-20</td>\n      <td>ZW</td>\n      <td>15919</td>\n      <td>13930</td>\n      <td>1541.0</td>\n      <td>303.0</td>\n      <td>46.0</td>\n      <td>0.0</td>\n      <td>NaN</td>\n      <td>0.0</td>\n      <td>...</td>\n      <td>55.142857</td>\n      <td>12.164542</td>\n      <td>34.0</td>\n      <td>36.470588</td>\n      <td>ZW</td>\n      <td>20</td>\n      <td>1</td>\n      <td>16.0</td>\n      <td>1</td>\n      <td>36.470588</td>\n    </tr>\n    <tr>\n      <th>7934148</th>\n      <td>2019-08-27</td>\n      <td>ZW</td>\n      <td>15919</td>\n      <td>13930</td>\n      <td>806.0</td>\n      <td>-15.0</td>\n      <td>12.0</td>\n      <td>0.0</td>\n      <td>NaN</td>\n      <td>NaN</td>\n      <td>...</td>\n      <td>20.500000</td>\n      <td>12.164542</td>\n      <td>34.0</td>\n      <td>36.470588</td>\n      <td>ZW</td>\n      <td>27</td>\n      <td>1</td>\n      <td>8.0</td>\n      <td>1</td>\n      <td>36.470588</td>\n    </tr>\n    <tr>\n      <th>7934149</th>\n      <td>2019-10-19</td>\n      <td>ZW</td>\n      <td>15919</td>\n      <td>13930</td>\n      <td>1752.0</td>\n      <td>-17.0</td>\n      <td>17.0</td>\n      <td>0.0</td>\n      <td>NaN</td>\n      <td>NaN</td>\n      <td>...</td>\n      <td>-1.571429</td>\n      <td>9.880671</td>\n      <td>23.0</td>\n      <td>32.347826</td>\n      <td>ZW</td>\n      <td>19</td>\n      <td>5</td>\n      <td>18.0</td>\n      <td>1</td>\n      <td>32.347826</td>\n    </tr>\n  </tbody>\n</table>\n<p>7934150 rows × 32 columns</p>\n</div>"
     },
     "metadata": {},
     "execution_count": 6
    }
   ],
   "source": [
    "flights = flights.merge(traffic_hourly,how='inner',on=['origin_airport_id','year','month','day','hour'])\n",
    "flights.rename(columns={0:'airport_hourly_traffic'})\n",
    "flights"
   ]
  },
  {
   "cell_type": "code",
   "execution_count": 7,
   "metadata": {
    "tags": []
   },
   "outputs": [],
   "source": [
    "flights.to_csv('../../../large_files/flights_transformed_w_pax.csv')\n",
    "flights_filtered = flights[~flights['carrier_delay'].isna()]"
   ]
  },
  {
   "cell_type": "code",
   "execution_count": 8,
   "metadata": {
    "tags": []
   },
   "outputs": [
    {
     "output_type": "stream",
     "name": "stdout",
     "text": "<class 'pandas.core.frame.DataFrame'>\nInt64Index: 1525492 entries, 6 to 7934147\nData columns (total 32 columns):\n #   Column                           Non-Null Count    Dtype  \n---  ------                           --------------    -----  \n 0   fl_date                          1525492 non-null  object \n 1   op_unique_carrier                1525492 non-null  object \n 2   origin_airport_id                1525492 non-null  int64  \n 3   dest_airport_id                  1525492 non-null  int64  \n 4   dep_time                         1525492 non-null  float64\n 5   dep_delay                        1525492 non-null  float64\n 6   taxi_out                         1525492 non-null  float64\n 7   cancelled                        1525492 non-null  float64\n 8   cancellation_code                0 non-null        object \n 9   carrier_delay                    1525492 non-null  float64\n 10  weather_delay                    1525492 non-null  float64\n 11  nas_delay                        1525492 non-null  float64\n 12  security_delay                   1525492 non-null  float64\n 13  late_aircraft_delay              1525492 non-null  float64\n 14  conditions_dep                   1103786 non-null  object \n 15  is_sunny_dep                     1103786 non-null  float64\n 16  is_cloudy_dep                    1103786 non-null  float64\n 17  is_rain_dep                      1103786 non-null  float64\n 18  is_snow_dep                      1103786 non-null  float64\n 19  delay_code                       1525492 non-null  float64\n 20  month                            1525492 non-null  int64  \n 21  year                             1525492 non-null  int64  \n 22  rolling_dep_delay_carr-airport   1525492 non-null  float64\n 23  average_dep_delay_airport-month  1525492 non-null  float64\n 24  departures_performed             1525492 non-null  float64\n 25  passengers                       1525492 non-null  float64\n 26  unique_carrier                   1525492 non-null  object \n 27  day                              1525492 non-null  int64  \n 28  day_of_week                      1525492 non-null  int64  \n 29  hour                             1525492 non-null  float64\n 30  0                                1525492 non-null  int64  \n 31  pax-hourly-traffic               1525492 non-null  float64\ndtypes: float64(20), int64(7), object(5)\nmemory usage: 384.1+ MB\n"
    }
   ],
   "source": [
    "flights_filtered.info()"
   ]
  },
  {
   "cell_type": "code",
   "execution_count": 9,
   "metadata": {},
   "outputs": [],
   "source": [
    "flights_filtered.drop(columns=['cancellation_code'],inplace=True)\n",
    "flights_filtered.to_csv('../../../large_files/flights_multiclass_data.csv')"
   ]
  },
  {
   "cell_type": "code",
   "execution_count": null,
   "metadata": {},
   "outputs": [],
   "source": []
  }
 ]
}