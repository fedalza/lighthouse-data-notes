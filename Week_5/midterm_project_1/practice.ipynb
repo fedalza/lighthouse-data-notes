{
 "metadata": {
  "language_info": {
   "codemirror_mode": {
    "name": "ipython",
    "version": 3
   },
   "file_extension": ".py",
   "mimetype": "text/x-python",
   "name": "python",
   "nbconvert_exporter": "python",
   "pygments_lexer": "ipython3",
   "version": "3.8.5-final"
  },
  "orig_nbformat": 2,
  "kernelspec": {
   "name": "python_defaultSpec_1598494864788",
   "display_name": "Python 3.8.5 64-bit"
  }
 },
 "nbformat": 4,
 "nbformat_minor": 2,
 "cells": [
  {
   "cell_type": "code",
   "execution_count": 92,
   "metadata": {},
   "outputs": [],
   "source": [
    "import pandas as pd \n",
    "\n",
    "flights = pd.read_csv('../../../large_files/flights_1_1000000.csv')"
   ]
  },
  {
   "cell_type": "code",
   "execution_count": 93,
   "metadata": {},
   "outputs": [],
   "source": [
    "#flights.drop(columns=['rownum'],inplace=True)\n",
    "cols = ['fl_date','op_unique_carrier','origin_airport_id','dest_airport_id','crs_dep_time','dep_time','dep_delay','taxi_out','wheels_off','carrier_delay','weather_delay','nas_delay','security_delay','late_aircraft_delay']\n",
    "flights = flights[cols]"
   ]
  },
  {
   "cell_type": "code",
   "execution_count": 94,
   "metadata": {},
   "outputs": [],
   "source": [
    "flights.sort_values(by=['op_unique_carrier','origin_airport_id','fl_date'],inplace=True)"
   ]
  },
  {
   "cell_type": "code",
   "execution_count": 95,
   "metadata": {},
   "outputs": [],
   "source": [
    "carrier_ids = flights.op_unique_carrier.unique().tolist()"
   ]
  },
  {
   "cell_type": "code",
   "execution_count": 96,
   "metadata": {},
   "outputs": [],
   "source": [
    "flights['rolling_dep_delay_carr-airport'] = 0\n",
    "for i in carrier_ids:\n",
    "    indy = flights[flights['op_unique_carrier']==i].index\n",
    "    airport_ids = flights.loc[indy,'origin_airport_id'].unique().tolist()\n",
    "    for j in airport_ids:\n",
    "        indy2 = flights[flights['origin_airport_id']==j].index\n",
    "        flights.loc[indy2,'rolling_dep_delay_carr-airport'] = flights.loc[indy2,'dep_delay'].rolling(30,min_periods=1).mean()"
   ]
  },
  {
   "cell_type": "code",
   "execution_count": 103,
   "metadata": {},
   "outputs": [
    {
     "output_type": "execute_result",
     "data": {
      "text/plain": "           fl_date op_unique_carrier  origin_airport_id  dest_airport_id  \\\n684941  2018-02-05                9E              10135            10397   \n713328  2018-02-06                9E              10135            10397   \n723313  2018-02-07                9E              10135            10397   \n741903  2018-02-08                9E              10135            10397   \n770477  2018-02-09                9E              10135            10397   \n...            ...               ...                ...              ...   \n957291  2018-02-18                ZW              15919            13930   \n979324  2018-02-19                ZW              15919            13930   \n979398  2018-02-19                ZW              15919            13930   \n986764  2018-02-20                ZW              15919            13930   \n986838  2018-02-20                ZW              15919            13930   \n\n        crs_dep_time  dep_time  dep_delay  taxi_out  wheels_off  \\\n684941          1755    1758.0        3.0      15.0      1813.0   \n713328          1755    1741.0      -14.0      13.0      1754.0   \n723313          1755    1751.0       -4.0      13.0      1804.0   \n741903          1755    1749.0       -6.0      18.0      1807.0   \n770477          1755    1804.0        9.0      13.0      1817.0   \n...              ...       ...        ...       ...         ...   \n957291          1115    1134.0       19.0      11.0      1145.0   \n979324          1115    1110.0       -5.0      16.0      1126.0   \n979398           627     620.0       -7.0      16.0       636.0   \n986764          1115    1104.0      -11.0      12.0      1116.0   \n986838           627     623.0       -4.0      15.0       638.0   \n\n        carrier_delay  ...  security_delay  late_aircraft_delay  \\\n684941            NaN  ...             NaN                  NaN   \n713328            NaN  ...             NaN                  NaN   \n723313            NaN  ...             NaN                  NaN   \n741903            NaN  ...             NaN                  NaN   \n770477            NaN  ...             NaN                  NaN   \n...               ...  ...             ...                  ...   \n957291            NaN  ...             NaN                  NaN   \n979324            NaN  ...             NaN                  NaN   \n979398            NaN  ...             NaN                  NaN   \n986764            NaN  ...             NaN                  NaN   \n986838            NaN  ...             NaN                  NaN   \n\n        rolling_dep_delay_carr-airport  month  year  day_of_week  \\\n684941                        3.000000      2  2018            0   \n713328                       -5.500000      2  2018            1   \n723313                       -5.000000      2  2018            2   \n741903                       -5.250000      2  2018            3   \n770477                       -2.400000      2  2018            4   \n...                                ...    ...   ...          ...   \n957291                       21.833333      2  2018            6   \n979324                       19.800000      2  2018            0   \n979398                       19.633333      2  2018            0   \n986764                       18.566667      2  2018            1   \n986838                       18.566667      2  2018            1   \n\n        average_dep_delay_airport-month  hour  hourly_traffic  day  \n684941                        25.473251  18.0              77    5  \n713328                        25.473251  18.0              77    6  \n723313                        25.473251  18.0              77    7  \n741903                        25.473251  18.0              77    8  \n770477                        25.473251  18.0              77    9  \n...                                 ...   ...             ...  ...  \n957291                        10.469477  12.0               0   18  \n979324                        10.469477  11.0               0   19  \n979398                        10.469477   6.0               0   19  \n986764                        10.469477  11.0               0   20  \n986838                        10.469477   6.0               0   20  \n\n[1000000 rows x 22 columns]",
      "text/html": "<div>\n<style scoped>\n    .dataframe tbody tr th:only-of-type {\n        vertical-align: middle;\n    }\n\n    .dataframe tbody tr th {\n        vertical-align: top;\n    }\n\n    .dataframe thead th {\n        text-align: right;\n    }\n</style>\n<table border=\"1\" class=\"dataframe\">\n  <thead>\n    <tr style=\"text-align: right;\">\n      <th></th>\n      <th>fl_date</th>\n      <th>op_unique_carrier</th>\n      <th>origin_airport_id</th>\n      <th>dest_airport_id</th>\n      <th>crs_dep_time</th>\n      <th>dep_time</th>\n      <th>dep_delay</th>\n      <th>taxi_out</th>\n      <th>wheels_off</th>\n      <th>carrier_delay</th>\n      <th>...</th>\n      <th>security_delay</th>\n      <th>late_aircraft_delay</th>\n      <th>rolling_dep_delay_carr-airport</th>\n      <th>month</th>\n      <th>year</th>\n      <th>day_of_week</th>\n      <th>average_dep_delay_airport-month</th>\n      <th>hour</th>\n      <th>hourly_traffic</th>\n      <th>day</th>\n    </tr>\n  </thead>\n  <tbody>\n    <tr>\n      <th>684941</th>\n      <td>2018-02-05</td>\n      <td>9E</td>\n      <td>10135</td>\n      <td>10397</td>\n      <td>1755</td>\n      <td>1758.0</td>\n      <td>3.0</td>\n      <td>15.0</td>\n      <td>1813.0</td>\n      <td>NaN</td>\n      <td>...</td>\n      <td>NaN</td>\n      <td>NaN</td>\n      <td>3.000000</td>\n      <td>2</td>\n      <td>2018</td>\n      <td>0</td>\n      <td>25.473251</td>\n      <td>18.0</td>\n      <td>77</td>\n      <td>5</td>\n    </tr>\n    <tr>\n      <th>713328</th>\n      <td>2018-02-06</td>\n      <td>9E</td>\n      <td>10135</td>\n      <td>10397</td>\n      <td>1755</td>\n      <td>1741.0</td>\n      <td>-14.0</td>\n      <td>13.0</td>\n      <td>1754.0</td>\n      <td>NaN</td>\n      <td>...</td>\n      <td>NaN</td>\n      <td>NaN</td>\n      <td>-5.500000</td>\n      <td>2</td>\n      <td>2018</td>\n      <td>1</td>\n      <td>25.473251</td>\n      <td>18.0</td>\n      <td>77</td>\n      <td>6</td>\n    </tr>\n    <tr>\n      <th>723313</th>\n      <td>2018-02-07</td>\n      <td>9E</td>\n      <td>10135</td>\n      <td>10397</td>\n      <td>1755</td>\n      <td>1751.0</td>\n      <td>-4.0</td>\n      <td>13.0</td>\n      <td>1804.0</td>\n      <td>NaN</td>\n      <td>...</td>\n      <td>NaN</td>\n      <td>NaN</td>\n      <td>-5.000000</td>\n      <td>2</td>\n      <td>2018</td>\n      <td>2</td>\n      <td>25.473251</td>\n      <td>18.0</td>\n      <td>77</td>\n      <td>7</td>\n    </tr>\n    <tr>\n      <th>741903</th>\n      <td>2018-02-08</td>\n      <td>9E</td>\n      <td>10135</td>\n      <td>10397</td>\n      <td>1755</td>\n      <td>1749.0</td>\n      <td>-6.0</td>\n      <td>18.0</td>\n      <td>1807.0</td>\n      <td>NaN</td>\n      <td>...</td>\n      <td>NaN</td>\n      <td>NaN</td>\n      <td>-5.250000</td>\n      <td>2</td>\n      <td>2018</td>\n      <td>3</td>\n      <td>25.473251</td>\n      <td>18.0</td>\n      <td>77</td>\n      <td>8</td>\n    </tr>\n    <tr>\n      <th>770477</th>\n      <td>2018-02-09</td>\n      <td>9E</td>\n      <td>10135</td>\n      <td>10397</td>\n      <td>1755</td>\n      <td>1804.0</td>\n      <td>9.0</td>\n      <td>13.0</td>\n      <td>1817.0</td>\n      <td>NaN</td>\n      <td>...</td>\n      <td>NaN</td>\n      <td>NaN</td>\n      <td>-2.400000</td>\n      <td>2</td>\n      <td>2018</td>\n      <td>4</td>\n      <td>25.473251</td>\n      <td>18.0</td>\n      <td>77</td>\n      <td>9</td>\n    </tr>\n    <tr>\n      <th>...</th>\n      <td>...</td>\n      <td>...</td>\n      <td>...</td>\n      <td>...</td>\n      <td>...</td>\n      <td>...</td>\n      <td>...</td>\n      <td>...</td>\n      <td>...</td>\n      <td>...</td>\n      <td>...</td>\n      <td>...</td>\n      <td>...</td>\n      <td>...</td>\n      <td>...</td>\n      <td>...</td>\n      <td>...</td>\n      <td>...</td>\n      <td>...</td>\n      <td>...</td>\n      <td>...</td>\n    </tr>\n    <tr>\n      <th>957291</th>\n      <td>2018-02-18</td>\n      <td>ZW</td>\n      <td>15919</td>\n      <td>13930</td>\n      <td>1115</td>\n      <td>1134.0</td>\n      <td>19.0</td>\n      <td>11.0</td>\n      <td>1145.0</td>\n      <td>NaN</td>\n      <td>...</td>\n      <td>NaN</td>\n      <td>NaN</td>\n      <td>21.833333</td>\n      <td>2</td>\n      <td>2018</td>\n      <td>6</td>\n      <td>10.469477</td>\n      <td>12.0</td>\n      <td>0</td>\n      <td>18</td>\n    </tr>\n    <tr>\n      <th>979324</th>\n      <td>2018-02-19</td>\n      <td>ZW</td>\n      <td>15919</td>\n      <td>13930</td>\n      <td>1115</td>\n      <td>1110.0</td>\n      <td>-5.0</td>\n      <td>16.0</td>\n      <td>1126.0</td>\n      <td>NaN</td>\n      <td>...</td>\n      <td>NaN</td>\n      <td>NaN</td>\n      <td>19.800000</td>\n      <td>2</td>\n      <td>2018</td>\n      <td>0</td>\n      <td>10.469477</td>\n      <td>11.0</td>\n      <td>0</td>\n      <td>19</td>\n    </tr>\n    <tr>\n      <th>979398</th>\n      <td>2018-02-19</td>\n      <td>ZW</td>\n      <td>15919</td>\n      <td>13930</td>\n      <td>627</td>\n      <td>620.0</td>\n      <td>-7.0</td>\n      <td>16.0</td>\n      <td>636.0</td>\n      <td>NaN</td>\n      <td>...</td>\n      <td>NaN</td>\n      <td>NaN</td>\n      <td>19.633333</td>\n      <td>2</td>\n      <td>2018</td>\n      <td>0</td>\n      <td>10.469477</td>\n      <td>6.0</td>\n      <td>0</td>\n      <td>19</td>\n    </tr>\n    <tr>\n      <th>986764</th>\n      <td>2018-02-20</td>\n      <td>ZW</td>\n      <td>15919</td>\n      <td>13930</td>\n      <td>1115</td>\n      <td>1104.0</td>\n      <td>-11.0</td>\n      <td>12.0</td>\n      <td>1116.0</td>\n      <td>NaN</td>\n      <td>...</td>\n      <td>NaN</td>\n      <td>NaN</td>\n      <td>18.566667</td>\n      <td>2</td>\n      <td>2018</td>\n      <td>1</td>\n      <td>10.469477</td>\n      <td>11.0</td>\n      <td>0</td>\n      <td>20</td>\n    </tr>\n    <tr>\n      <th>986838</th>\n      <td>2018-02-20</td>\n      <td>ZW</td>\n      <td>15919</td>\n      <td>13930</td>\n      <td>627</td>\n      <td>623.0</td>\n      <td>-4.0</td>\n      <td>15.0</td>\n      <td>638.0</td>\n      <td>NaN</td>\n      <td>...</td>\n      <td>NaN</td>\n      <td>NaN</td>\n      <td>18.566667</td>\n      <td>2</td>\n      <td>2018</td>\n      <td>1</td>\n      <td>10.469477</td>\n      <td>6.0</td>\n      <td>0</td>\n      <td>20</td>\n    </tr>\n  </tbody>\n</table>\n<p>1000000 rows × 22 columns</p>\n</div>"
     },
     "metadata": {},
     "execution_count": 103
    }
   ],
   "source": [
    "flights['month'] = pd.to_datetime(flights['fl_date'],format='%Y-%m-%d').apply(lambda x: x.month)\n",
    "flights['year'] = pd.to_datetime(flights['fl_date'],format='%Y-%m-%d').apply(lambda x: x.year)\n",
    "flights['day'] = pd.to_datetime(flights['fl_date'],format='%Y-%m-%d').apply(lambda x: x.day)\n",
    "flights['day_of_week'] = pd.to_datetime(flights['fl_date'],format='%Y-%m-%d').apply(lambda x: x.dayofweek)\n",
    "flights"
   ]
  },
  {
   "cell_type": "code",
   "execution_count": 98,
   "metadata": {
    "tags": []
   },
   "outputs": [],
   "source": [
    "flights['average_dep_delay_airport-month'] = 0\n",
    "airport_ids = flights.origin_airport_id.unique().tolist()\n",
    "for i in airport_ids:\n",
    "    indy = flights[flights['origin_airport_id']==i].index\n",
    "    temp = flights.loc[indy]\n",
    "    months = temp.month.unique().tolist()\n",
    "    for month in months:\n",
    "        indy2 = temp[temp['month']==month].index\n",
    "        flights.loc[indy2,'average_dep_delay_airport-month'] = flights.loc[indy2,'dep_delay'].mean()"
   ]
  },
  {
   "cell_type": "code",
   "execution_count": 99,
   "metadata": {
    "tags": []
   },
   "outputs": [],
   "source": [
    "flights.drop(columns = ['first_dep_time'],inplace=True)"
   ]
  },
  {
   "cell_type": "code",
   "execution_count": 100,
   "metadata": {},
   "outputs": [],
   "source": [
    "flights['hour'] = round(flights.dep_time%100/60+(flights.dep_time-flights.dep_time%100)/100)"
   ]
  },
  {
   "cell_type": "code",
   "execution_count": 109,
   "metadata": {
    "tags": []
   },
   "outputs": [
    {
     "output_type": "stream",
     "name": "stdout",
     "text": "1\n2\n3\n4\n5\n6\n7\n8\n9\n10\n11\n12\n13\n14\n15\n16\n17\n18\n19\n20\n21\n22\n23\n24\n25\n26\n27\n28\n29\n30\n31\n32\n33\n34\n35\n36\n37\n38\n39\n40\n41\n42\n43\n44\n45\n46\n47\n48\n49\n50\n51\n52\n53\n54\n55\n56\n57\n58\n59\n60\n61\n62\n63\n64\n65\n66\n67\n68\n69\n70\n71\n72\n73\n74\n75\n76\n77\n78\n79\n80\n81\n82\n83\n84\n85\n86\n87\n88\n89\n90\n91\n92\n93\n94\n95\n96\n97\n98\n99\n100\n101\n102\n103\n104\n105\n106\n107\n108\n109\n110\n111\n112\n113\n114\n115\n116\n117\n118\n119\n120\n121\n122\n123\n124\n125\n126\n127\n128\n129\n130\n131\n132\n133\n134\n135\n136\n137\n138\n139\n140\n141\n142\n143\n144\n145\n146\n147\n148\n149\n150\n151\n152\n153\n154\n155\n156\n157\n158\n159\n160\n161\n162\n163\n164\n165\n166\n167\n168\n169\n170\n171\n172\n173\n174\n175\n176\n177\n178\n179\n180\n181\n182\n183\n184\n185\n186\n187\n188\n189\n190\n191\n192\n193\n194\n195\n196\n197\n198\n199\n200\n201\n202\n203\n204\n205\n206\n207\n208\n209\n210\n211\n212\n213\n214\n215\n216\n217\n218\n219\n220\n221\n222\n223\n224\n225\n226\n227\n228\n229\n230\n231\n232\n233\n234\n235\n236\n237\n238\n239\n240\n241\n242\n243\n244\n245\n246\n247\n248\n249\n250\n251\n252\n253\n254\n255\n256\n257\n258\n259\n260\n261\n262\n263\n264\n265\n266\n267\n268\n269\n270\n271\n272\n273\n274\n275\n276\n277\n278\n279\n280\n281\n282\n283\n284\n285\n286\n287\n288\n289\n290\n291\n292\n293\n294\n295\n296\n297\n298\n299\n300\n301\n302\n303\n304\n305\n306\n307\n308\n309\n310\n311\n312\n313\n314\n315\n316\n317\n318\n319\n320\n321\n322\n323\n324\n325\n326\n327\n328\n329\n330\n331\n332\n333\n334\n335\n336\n337\n338\n339\n340\n341\n342\n343\n344\n345\n346\n347\n348\n349\n350\n351\n352\n353\n"
    }
   ],
   "source": [
    "flights['hourly_traffic'] = 0\n",
    "county = 0\n",
    "for i in airport_ids:\n",
    "    county+=1\n",
    "    print(county)\n",
    "    indy = flights[flights['origin_airport_id']==i].index\n",
    "    temp = flights.loc[indy]\n",
    "    years = temp['year'].unique().tolist()\n",
    "    for year in years:\n",
    "        indy2 = temp[temp.year==year].index\n",
    "        temp2 = temp.loc[indy2]\n",
    "        months = temp2['month'].unique().tolist()\n",
    "        for month in months:\n",
    "            indy3 = temp2[temp2.month==month].index\n",
    "            temp3 = temp2.loc[indy3]\n",
    "            days = temp3['day'].unique().tolist()\n",
    "            for day in days:\n",
    "                indy4 = temp3[temp3.day==day].index\n",
    "                temp4 = temp3.loc[indy4]\n",
    "                hours = temp4['hour'].unique().tolist()\n",
    "                for hour in hours:\n",
    "                    indy5 = temp4[temp4.hour==hour].index\n",
    "                    flights.loc[indy5,'hourly_traffic'] = len(temp4.loc[indy5])"
   ]
  },
  {
   "cell_type": "code",
   "execution_count": 113,
   "metadata": {
    "tags": []
   },
   "outputs": [
    {
     "output_type": "stream",
     "name": "stdout",
     "text": "<class 'pandas.core.frame.DataFrame'>\nInt64Index: 183716 entries, 816552 to 916166\nData columns (total 22 columns):\n #   Column                           Non-Null Count   Dtype  \n---  ------                           --------------   -----  \n 0   fl_date                          183716 non-null  object \n 1   op_unique_carrier                183716 non-null  object \n 2   origin_airport_id                183716 non-null  int64  \n 3   dest_airport_id                  183716 non-null  int64  \n 4   crs_dep_time                     183716 non-null  int64  \n 5   dep_time                         183716 non-null  float64\n 6   dep_delay                        183656 non-null  float64\n 7   taxi_out                         183573 non-null  float64\n 8   wheels_off                       183573 non-null  float64\n 9   carrier_delay                    183716 non-null  float64\n 10  weather_delay                    183716 non-null  float64\n 11  nas_delay                        183716 non-null  float64\n 12  security_delay                   183716 non-null  float64\n 13  late_aircraft_delay              183716 non-null  float64\n 14  rolling_dep_delay_carr-airport   183716 non-null  float64\n 15  month                            183716 non-null  int64  \n 16  year                             183716 non-null  int64  \n 17  day_of_week                      183716 non-null  int64  \n 18  average_dep_delay_airport-month  183716 non-null  float64\n 19  hour                             183716 non-null  float64\n 20  hourly_traffic                   183716 non-null  int64  \n 21  day                              183716 non-null  int64  \ndtypes: float64(12), int64(8), object(2)\nmemory usage: 32.2+ MB\n"
    }
   ],
   "source": [
    "flights = flights[~flights.carrier_delay.isna()]\n",
    "flights.info()"
   ]
  },
  {
   "cell_type": "code",
   "execution_count": null,
   "metadata": {},
   "outputs": [],
   "source": [
    "col_p = ['departures_performed', 'passengers', 'unique_carrier', 'month', 'year', 'origin_city_name', 'dest_city_name']\n",
    "passengers = passengers[col_p]\n",
    "passengers = passengers[passengers.passengers>0]\n",
    "passengers = passengers[passengers.year>2018]"
   ]
  },
  {
   "cell_type": "code",
   "execution_count": null,
   "metadata": {},
   "outputs": [],
   "source": [
    "op_unique_carrier = flights.op_unique_carrier.unique().tolist()\n",
    "passengers = passengers[passengers.unique_carrier.isin(op_unique_carrier)]\n",
    "passengers['passengers'] /= passengers.departures_performed\n",
    "flights = flights.merge(passengers, how='inner', left_on=['op_unique_carrier','origin_city_name','dest_city_name','month','year'],left_on=['unique_carrier','origin_city_name','dest_city_name','month','year'])"
   ]
  }
 ]
}