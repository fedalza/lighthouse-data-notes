{
 "cells": [
  {
   "cell_type": "code",
   "execution_count": 1,
   "metadata": {},
   "outputs": [],
   "source": [
    "import pandas as pd"
   ]
  },
  {
   "cell_type": "code",
   "execution_count": 2,
   "metadata": {},
   "outputs": [],
   "source": [
    "from sqlalchemy import create_engine\n",
    "# Postgres username, password, and database name\n",
    "POSTGRES_ADDRESS = 'mid-term-project.ca2jkepgjpne.us-east-2.rds.amazonaws.com'\n",
    "POSTGRES_PORT = '5432'\n",
    "POSTGRES_USERNAME = 'lhl_student'\n",
    "POSTGRES_PASSWORD = 'lhl_student' \n",
    "postgres_str = ('postgresql://{username}:{password}@{ipaddress}:{port}/{dbname}'.format(username=POSTGRES_USERNAME,\n",
    "                                                                                        password=POSTGRES_PASSWORD, \n",
    "                                                                                        ipaddress=POSTGRES_ADDRESS,\n",
    "                                                                                        port=POSTGRES_PORT,dbname='mid_term_project'))\n",
    "\n",
    "# Create the connection\n",
    "cnx = create_engine(postgres_str)"
   ]
  },
  {
   "cell_type": "code",
   "execution_count": 3,
   "metadata": {
    "tags": []
   },
   "outputs": [],
   "source": [
    "for i in range(16,18):\n",
    "    a = 1+(i-1)*10**6\n",
    "    b = i*10**6\n",
    "    SQLflights = f'SELECT a.* from (SELECT ROW_NUMBER() OVER(Order by fl_date)              as ROWNUM,* from flights)          a where a.ROWNUM between {a} and {b};'\n",
    "    SQLpass =    f'SELECT a.* from (SELECT ROW_NUMBER() OVER(order by departures_scheduled) as ROWNUM,* from passengers)       a where a.ROWNUM between {a} and {b};'\n",
    "    SQLfuel =    f'SELECT a.* from (SELECT ROW_NUMBER() OVER(order by month)                as ROWNUM,* from fuel_comsumption) a where a.ROWNUM between {a} and {b}'\n",
    "    SQLfl_test = f'SELECT a.* from (SELECT ROW_NUMBER() OVER(order by fl_date)              as ROWNUM,* from flights_test)     a where a.ROWNUM between {a} and {b}'\n",
    "    with cnx.connect() as con:\n",
    "        pd.read_sql(SQLflights, con).to_csv(f'flights_{a}_{b}.csv', index=False)\n",
    "        #pd.read_sql(SQLpass, con).to_csv(f'passengers_{a}_{b}.csv', index=False)\n",
    "        #pd.read_sql(SQLfuel, con).to_csv(f'fuel_comsumption_{a}_{b}.csv', index=False)\n",
    "        #pd.read_sql(SQLfl_test, con).to_csv(f'flights_test_{a}_{b}.csv', index=False)\n",
    "\n",
    "    con.close()"
   ]
  },
  {
   "cell_type": "code",
   "execution_count": null,
   "metadata": {},
   "outputs": [],
   "source": []
  }
 ],
 "metadata": {
  "kernelspec": {
   "display_name": "boot_env",
   "language": "python",
   "name": "boot_env"
  },
  "language_info": {
   "codemirror_mode": {
    "name": "ipython",
    "version": 3
   },
   "file_extension": ".py",
   "mimetype": "text/x-python",
   "name": "python",
   "nbconvert_exporter": "python",
   "pygments_lexer": "ipython3",
   "version": "3.8.5-final"
  }
 },
 "nbformat": 4,
 "nbformat_minor": 4
}