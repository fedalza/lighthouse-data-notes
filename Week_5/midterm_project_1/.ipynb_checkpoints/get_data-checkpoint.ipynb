{
 "cells": [
  {
   "cell_type": "code",
   "execution_count": 1,
   "metadata": {},
   "outputs": [],
   "source": [
    "import pandas as pd"
   ]
  },
  {
   "cell_type": "code",
   "execution_count": 2,
   "metadata": {},
   "outputs": [],
   "source": [
    "from sqlalchemy import create_engine\n",
    "# Postgres username, password, and database name\n",
    "POSTGRES_ADDRESS = 'mid-term-project.ca2jkepgjpne.us-east-2.rds.amazonaws.com'\n",
    "POSTGRES_PORT = '5432'\n",
    "POSTGRES_USERNAME = 'lhl_student'\n",
    "POSTGRES_PASSWORD = 'lhl_student' \n",
    "postgres_str = ('postgresql://{username}:{password}@{ipaddress}:{port}/{dbname}'.format(username=POSTGRES_USERNAME,\n",
    "                                                                                        password=POSTGRES_PASSWORD, \n",
    "                                                                                        ipaddress=POSTGRES_ADDRESS,\n",
    "                                                                                        port=POSTGRES_PORT,dbname='mid_term_project'))\n",
    "\n",
    "# Create the connection\n",
    "cnx = create_engine(postgres_str)"
   ]
  },
  {
   "cell_type": "code",
   "execution_count": null,
   "metadata": {},
   "outputs": [],
   "source": [
    "SQLflights = 'SELECT * from flights'\n",
    "#SQLpass = 'SELECT * from passengers'\n",
    "#SQLfuel = 'SELECT * from fuel_consumption'\n",
    "#SQLfl_test = 'SELECT * from flights_test'\n",
    "with cnx.connect() as con:\n",
    "    flights = pd.read_sql(SQLflights, con)\n",
    " #   passengers = pd.read_sql(SQLpass, con)\n",
    "  #  fuel_consumption = pd.read_sql(SQLfuel, con)\n",
    "   # flights_test = pd.read_sql(SQLfl_test, con)\n",
    "\n",
    "con.close()"
   ]
  },
  {
   "cell_type": "code",
   "execution_count": 9,
   "metadata": {},
   "outputs": [],
   "source": [
    "flights.to_csv('flights.csv', index=False)"
   ]
  },
  {
   "cell_type": "code",
   "execution_count": null,
   "metadata": {},
   "outputs": [],
   "source": [
    "SQLpass = 'SELECT * from passengers'\n",
    "SQLfuel = 'SELECT * from fuel_consumption'\n",
    "SQLfl_test = 'SELECT * from flights_test'\n",
    "with cnx.connect() as con:\n",
    "    passengers = pd.read_sql(SQLpass, con)\n",
    "    passengers.to_csv('passengers.csv', index=False)\n",
    "    fuel_consumption = pd.read_sql(SQLfuel, con)\n",
    "    fuel_consumption.to_csv('fuel_consumption.csv', index=False)\n",
    "    flights_test = pd.read_sql(SQLfl_test, con)\n",
    "    flights_test.to_csv('flights_test.csv', index=False)\n",
    "\n",
    "con.close()"
   ]
  },
  {
   "cell_type": "code",
   "execution_count": null,
   "metadata": {},
   "outputs": [],
   "source": []
  }
 ],
 "metadata": {
  "kernelspec": {
   "display_name": "boot_env",
   "language": "python",
   "name": "boot_env"
  },
  "language_info": {
   "codemirror_mode": {
    "name": "ipython",
    "version": 3
   },
   "file_extension": ".py",
   "mimetype": "text/x-python",
   "name": "python",
   "nbconvert_exporter": "python",
   "pygments_lexer": "ipython3",
   "version": "3.8.5"
  }
 },
 "nbformat": 4,
 "nbformat_minor": 4
}
