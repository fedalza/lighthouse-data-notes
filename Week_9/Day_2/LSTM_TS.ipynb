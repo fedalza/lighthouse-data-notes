{
  "nbformat": 4,
  "nbformat_minor": 0,
  "metadata": {
    "kernelspec": {
      "display_name": "Python 3",
      "language": "python",
      "name": "python3"
    },
    "language_info": {
      "codemirror_mode": {
        "name": "ipython",
        "version": 3
      },
      "file_extension": ".py",
      "mimetype": "text/x-python",
      "name": "python",
      "nbconvert_exporter": "python",
      "pygments_lexer": "ipython3",
      "version": "3.8.5-final"
    },
    "colab": {
      "name": "LSTM_TS.ipynb",
      "provenance": []
    },
    "accelerator": "GPU"
  },
  "cells": [
    {
      "cell_type": "code",
      "metadata": {
        "id": "16jj0ewQ_1NS",
        "colab_type": "code",
        "colab": {}
      },
      "source": [
        "import numpy as np\n",
        "import matplotlib.pyplot as plt\n",
        "import pandas as pd"
      ],
      "execution_count": 1,
      "outputs": []
    },
    {
      "cell_type": "code",
      "metadata": {
        "id": "hDs873Cf_1Nd",
        "colab_type": "code",
        "colab": {}
      },
      "source": [
        "dataset_train = pd.read_csv('NSE-TATAGLOBAL.txt')\n",
        "training_set = dataset_train.iloc[:,1:2].values"
      ],
      "execution_count": 2,
      "outputs": []
    },
    {
      "cell_type": "code",
      "metadata": {
        "id": "Li0988pI_1Np",
        "colab_type": "code",
        "colab": {
          "base_uri": "https://localhost:8080/",
          "height": 224
        },
        "outputId": "0aab18e9-d7c2-456a-c1d1-50fc072d7b9e"
      },
      "source": [
        "dataset_train.head()"
      ],
      "execution_count": 3,
      "outputs": [
        {
          "output_type": "execute_result",
          "data": {
            "text/plain": "         Date    Open    High     Low    Last   Close  Total Trade Quantity  \\\n0  2018-09-28  234.05  235.95  230.20  233.50  233.75               3069914   \n1  2018-09-27  234.55  236.80  231.10  233.80  233.25               5082859   \n2  2018-09-26  240.00  240.00  232.50  235.00  234.25               2240909   \n3  2018-09-25  233.30  236.75  232.00  236.25  236.10               2349368   \n4  2018-09-24  233.55  239.20  230.75  234.00  233.30               3423509   \n\n   Turnover (Lacs)  \n0          7162.35  \n1         11859.95  \n2          5248.60  \n3          5503.90  \n4          7999.55  ",
            "text/html": "<div>\n<style scoped>\n    .dataframe tbody tr th:only-of-type {\n        vertical-align: middle;\n    }\n\n    .dataframe tbody tr th {\n        vertical-align: top;\n    }\n\n    .dataframe thead th {\n        text-align: right;\n    }\n</style>\n<table border=\"1\" class=\"dataframe\">\n  <thead>\n    <tr style=\"text-align: right;\">\n      <th></th>\n      <th>Date</th>\n      <th>Open</th>\n      <th>High</th>\n      <th>Low</th>\n      <th>Last</th>\n      <th>Close</th>\n      <th>Total Trade Quantity</th>\n      <th>Turnover (Lacs)</th>\n    </tr>\n  </thead>\n  <tbody>\n    <tr>\n      <th>0</th>\n      <td>2018-09-28</td>\n      <td>234.05</td>\n      <td>235.95</td>\n      <td>230.20</td>\n      <td>233.50</td>\n      <td>233.75</td>\n      <td>3069914</td>\n      <td>7162.35</td>\n    </tr>\n    <tr>\n      <th>1</th>\n      <td>2018-09-27</td>\n      <td>234.55</td>\n      <td>236.80</td>\n      <td>231.10</td>\n      <td>233.80</td>\n      <td>233.25</td>\n      <td>5082859</td>\n      <td>11859.95</td>\n    </tr>\n    <tr>\n      <th>2</th>\n      <td>2018-09-26</td>\n      <td>240.00</td>\n      <td>240.00</td>\n      <td>232.50</td>\n      <td>235.00</td>\n      <td>234.25</td>\n      <td>2240909</td>\n      <td>5248.60</td>\n    </tr>\n    <tr>\n      <th>3</th>\n      <td>2018-09-25</td>\n      <td>233.30</td>\n      <td>236.75</td>\n      <td>232.00</td>\n      <td>236.25</td>\n      <td>236.10</td>\n      <td>2349368</td>\n      <td>5503.90</td>\n    </tr>\n    <tr>\n      <th>4</th>\n      <td>2018-09-24</td>\n      <td>233.55</td>\n      <td>239.20</td>\n      <td>230.75</td>\n      <td>234.00</td>\n      <td>233.30</td>\n      <td>3423509</td>\n      <td>7999.55</td>\n    </tr>\n  </tbody>\n</table>\n</div>"
          },
          "metadata": {},
          "execution_count": 3
        }
      ]
    },
    {
      "cell_type": "code",
      "execution_count": 4,
      "metadata": {},
      "outputs": [
        {
          "output_type": "execute_result",
          "data": {
            "text/plain": "(2035, 8)"
          },
          "metadata": {},
          "execution_count": 4
        }
      ],
      "source": [
        "dataset_train.shape"
      ]
    },
    {
      "cell_type": "code",
      "metadata": {
        "id": "gL5AX27C_1Nx",
        "colab_type": "code",
        "colab": {}
      },
      "source": [
        "from sklearn.preprocessing import MinMaxScaler\n",
        "sc = MinMaxScaler(feature_range = (0,1))\n",
        "training_set_scaled = sc.fit_transform(training_set)"
      ],
      "execution_count": 5,
      "outputs": []
    },
    {
      "cell_type": "code",
      "metadata": {
        "id": "0WDwmt9A_1N3",
        "colab_type": "code",
        "colab": {}
      },
      "source": [
        "X_train = []\n",
        "y_train = []\n",
        "for i in range(60,2035):\n",
        "    X_train.append(training_set_scaled[i-60:i,0])\n",
        "    y_train.append(training_set_scaled[i,0])\n",
        "X_train, y_train = np.array(X_train), np.array(y_train)\n",
        "\n",
        "X_train = np.reshape(X_train,(X_train.shape[0], X_train.shape[1],1))"
      ],
      "execution_count": 6,
      "outputs": []
    },
    {
      "cell_type": "code",
      "execution_count": 9,
      "metadata": {},
      "outputs": [
        {
          "output_type": "execute_result",
          "data": {
            "text/plain": "(1975,)"
          },
          "metadata": {},
          "execution_count": 9
        }
      ],
      "source": [
        "y_train.shape"
      ]
    },
    {
      "cell_type": "code",
      "metadata": {
        "id": "eOI5XtQd_1OA",
        "colab_type": "code",
        "colab": {}
      },
      "source": [
        "from tensorflow.keras.models import Sequential\n",
        "from tensorflow.keras.layers import Dense, LSTM, Dropout"
      ],
      "execution_count": 9,
      "outputs": []
    },
    {
      "cell_type": "markdown",
      "metadata": {
        "id": "08NhG9fl_1OG",
        "colab_type": "text"
      },
      "source": [
        "We add the LSTM layer and later add a few Dropout layers to prevent overfitting. We add the LSTM layer with the following arguments:\n",
        "\n",
        "    50 units which is the dimensionality of the output space\n",
        "    return_sequences=True which determines whether to return the last output in the output sequence, or the full sequence\n",
        "    input_shape as the shape of our training set.\n",
        "\n",
        "When defining the Dropout layers, we specify 0.2, meaning that 20% of the layers will be dropped. Thereafter, we add the Dense layer that specifies the output of 1 unit. After this, we compile our model using the popular Adam optimizer and set the loss as the mean_squarred_error. This will compute the mean of the squared errors. Next, we fit the model to run on 100 epochs with a batch size of 32. Keep in mind that, depending on the specs of your computer, this might take a few minutes to finish running."
      ]
    },
    {
      "cell_type": "code",
      "metadata": {
        "id": "ztiz9fK6_1OI",
        "colab_type": "code",
        "colab": {
          "base_uri": "https://localhost:8080/",
          "height": 1000
        },
        "outputId": "8757b7b1-06bb-432e-a103-ad1019e380bf"
      },
      "source": [
        "regressor = Sequential()\n",
        "\n",
        "regressor.add(LSTM(units=50, return_sequences=True, input_shape = (X_train.shape[1],1)))\n",
        "regressor.add(Dropout(0.2))\n",
        "\n",
        "regressor.add(LSTM(units=50, return_sequences=True))\n",
        "regressor.add(Dropout(0.2))\n",
        "\n",
        "regressor.add(LSTM(units=50, return_sequences=True))\n",
        "regressor.add(Dropout(0.2))\n",
        "\n",
        "regressor.add(LSTM(units=50))\n",
        "regressor.add(Dropout(0.2))\n",
        "\n",
        "regressor.add(Dense(units=1))\n",
        "\n",
        "regressor.compile(optimizer='adam', loss='mean_squared_error')\n",
        "\n",
        "regressor.fit(X_train,y_train, epochs = 100, batch_size=32)"
      ],
      "execution_count": 12,
      "outputs": [
        {
          "output_type": "stream",
          "text": [
            "Epoch 1/100\n",
            "62/62 [==============================] - 1s 17ms/step - loss: 0.0089\n",
            "Epoch 2/100\n",
            "62/62 [==============================] - 1s 17ms/step - loss: 0.0028\n",
            "Epoch 3/100\n",
            "62/62 [==============================] - 1s 16ms/step - loss: 0.0028\n",
            "Epoch 4/100\n",
            "62/62 [==============================] - 1s 16ms/step - loss: 0.0030\n",
            "Epoch 5/100\n",
            "62/62 [==============================] - 1s 17ms/step - loss: 0.0024\n",
            "Epoch 6/100\n",
            "62/62 [==============================] - 1s 17ms/step - loss: 0.0024\n",
            "Epoch 7/100\n",
            "62/62 [==============================] - 1s 16ms/step - loss: 0.0020\n",
            "Epoch 8/100\n",
            "62/62 [==============================] - 1s 16ms/step - loss: 0.0019\n",
            "Epoch 9/100\n",
            "62/62 [==============================] - 1s 17ms/step - loss: 0.0022\n",
            "Epoch 10/100\n",
            "62/62 [==============================] - 1s 16ms/step - loss: 0.0019\n",
            "Epoch 11/100\n",
            "62/62 [==============================] - 1s 16ms/step - loss: 0.0018\n",
            "Epoch 12/100\n",
            "62/62 [==============================] - 1s 16ms/step - loss: 0.0018\n",
            "Epoch 13/100\n",
            "62/62 [==============================] - 1s 17ms/step - loss: 0.0017\n",
            "Epoch 14/100\n",
            "62/62 [==============================] - 1s 16ms/step - loss: 0.0016\n",
            "Epoch 15/100\n",
            "62/62 [==============================] - 1s 17ms/step - loss: 0.0015\n",
            "Epoch 16/100\n",
            "62/62 [==============================] - 1s 16ms/step - loss: 0.0016\n",
            "Epoch 17/100\n",
            "62/62 [==============================] - 1s 16ms/step - loss: 0.0014\n",
            "Epoch 18/100\n",
            "62/62 [==============================] - 1s 16ms/step - loss: 0.0017\n",
            "Epoch 19/100\n",
            "62/62 [==============================] - 1s 16ms/step - loss: 0.0012\n",
            "Epoch 20/100\n",
            "62/62 [==============================] - 1s 17ms/step - loss: 0.0013\n",
            "Epoch 21/100\n",
            "62/62 [==============================] - 1s 16ms/step - loss: 0.0012\n",
            "Epoch 22/100\n",
            "62/62 [==============================] - 1s 16ms/step - loss: 0.0014\n",
            "Epoch 23/100\n",
            "62/62 [==============================] - 1s 17ms/step - loss: 0.0013\n",
            "Epoch 24/100\n",
            "62/62 [==============================] - 1s 17ms/step - loss: 0.0015\n",
            "Epoch 25/100\n",
            "62/62 [==============================] - 1s 16ms/step - loss: 0.0012\n",
            "Epoch 26/100\n",
            "62/62 [==============================] - 1s 16ms/step - loss: 0.0011\n",
            "Epoch 27/100\n",
            "62/62 [==============================] - 1s 16ms/step - loss: 0.0014\n",
            "Epoch 28/100\n",
            "62/62 [==============================] - 1s 16ms/step - loss: 0.0011\n",
            "Epoch 29/100\n",
            "62/62 [==============================] - 1s 16ms/step - loss: 0.0012\n",
            "Epoch 30/100\n",
            "62/62 [==============================] - 1s 17ms/step - loss: 0.0010\n",
            "Epoch 31/100\n",
            "62/62 [==============================] - 1s 16ms/step - loss: 0.0011\n",
            "Epoch 32/100\n",
            "62/62 [==============================] - 1s 16ms/step - loss: 0.0010\n",
            "Epoch 33/100\n",
            "62/62 [==============================] - 1s 17ms/step - loss: 0.0011\n",
            "Epoch 34/100\n",
            "62/62 [==============================] - 1s 17ms/step - loss: 9.7726e-04\n",
            "Epoch 35/100\n",
            "62/62 [==============================] - 1s 16ms/step - loss: 9.9119e-04\n",
            "Epoch 36/100\n",
            "62/62 [==============================] - 1s 16ms/step - loss: 9.8730e-04\n",
            "Epoch 37/100\n",
            "62/62 [==============================] - 1s 16ms/step - loss: 9.1558e-04\n",
            "Epoch 38/100\n",
            "62/62 [==============================] - 1s 16ms/step - loss: 9.6650e-04\n",
            "Epoch 39/100\n",
            "62/62 [==============================] - 1s 17ms/step - loss: 9.1483e-04\n",
            "Epoch 40/100\n",
            "62/62 [==============================] - 1s 16ms/step - loss: 9.1656e-04\n",
            "Epoch 41/100\n",
            "62/62 [==============================] - 1s 17ms/step - loss: 9.6771e-04\n",
            "Epoch 42/100\n",
            "62/62 [==============================] - 1s 17ms/step - loss: 9.6187e-04\n",
            "Epoch 43/100\n",
            "62/62 [==============================] - 1s 17ms/step - loss: 0.0010\n",
            "Epoch 44/100\n",
            "62/62 [==============================] - 1s 17ms/step - loss: 8.8777e-04\n",
            "Epoch 45/100\n",
            "62/62 [==============================] - 1s 17ms/step - loss: 9.7143e-04\n",
            "Epoch 46/100\n",
            "62/62 [==============================] - 1s 16ms/step - loss: 8.9153e-04\n",
            "Epoch 47/100\n",
            "62/62 [==============================] - 1s 17ms/step - loss: 8.5083e-04\n",
            "Epoch 48/100\n",
            "62/62 [==============================] - 1s 16ms/step - loss: 9.6782e-04\n",
            "Epoch 49/100\n",
            "62/62 [==============================] - 1s 17ms/step - loss: 8.2152e-04\n",
            "Epoch 50/100\n",
            "62/62 [==============================] - 1s 16ms/step - loss: 8.1260e-04\n",
            "Epoch 51/100\n",
            "62/62 [==============================] - 1s 16ms/step - loss: 7.3337e-04\n",
            "Epoch 52/100\n",
            "62/62 [==============================] - 1s 17ms/step - loss: 6.9376e-04\n",
            "Epoch 53/100\n",
            "62/62 [==============================] - 1s 17ms/step - loss: 9.5385e-04\n",
            "Epoch 54/100\n",
            "62/62 [==============================] - 1s 16ms/step - loss: 0.0010\n",
            "Epoch 55/100\n",
            "62/62 [==============================] - 1s 16ms/step - loss: 8.1201e-04\n",
            "Epoch 56/100\n",
            "62/62 [==============================] - 1s 16ms/step - loss: 8.5152e-04\n",
            "Epoch 57/100\n",
            "62/62 [==============================] - 1s 17ms/step - loss: 7.3969e-04\n",
            "Epoch 58/100\n",
            "62/62 [==============================] - 1s 17ms/step - loss: 7.4509e-04\n",
            "Epoch 59/100\n",
            "62/62 [==============================] - 1s 16ms/step - loss: 8.0545e-04\n",
            "Epoch 60/100\n",
            "62/62 [==============================] - 1s 16ms/step - loss: 7.2002e-04\n",
            "Epoch 61/100\n",
            "62/62 [==============================] - 1s 16ms/step - loss: 6.9978e-04\n",
            "Epoch 62/100\n",
            "62/62 [==============================] - 1s 17ms/step - loss: 7.6751e-04\n",
            "Epoch 63/100\n",
            "62/62 [==============================] - 1s 16ms/step - loss: 6.9462e-04\n",
            "Epoch 64/100\n",
            "62/62 [==============================] - 1s 16ms/step - loss: 6.8392e-04\n",
            "Epoch 65/100\n",
            "62/62 [==============================] - 1s 16ms/step - loss: 7.3772e-04\n",
            "Epoch 66/100\n",
            "62/62 [==============================] - 1s 17ms/step - loss: 7.9019e-04\n",
            "Epoch 67/100\n",
            "62/62 [==============================] - 1s 16ms/step - loss: 8.1545e-04\n",
            "Epoch 68/100\n",
            "62/62 [==============================] - 1s 16ms/step - loss: 7.7656e-04\n",
            "Epoch 69/100\n",
            "62/62 [==============================] - 1s 16ms/step - loss: 7.1757e-04\n",
            "Epoch 70/100\n",
            "62/62 [==============================] - 1s 16ms/step - loss: 7.3277e-04\n",
            "Epoch 71/100\n",
            "62/62 [==============================] - 1s 16ms/step - loss: 7.2034e-04\n",
            "Epoch 72/100\n",
            "62/62 [==============================] - 1s 16ms/step - loss: 6.1370e-04\n",
            "Epoch 73/100\n",
            "62/62 [==============================] - 1s 17ms/step - loss: 6.3340e-04\n",
            "Epoch 74/100\n",
            "62/62 [==============================] - 1s 17ms/step - loss: 8.4736e-04\n",
            "Epoch 75/100\n",
            "62/62 [==============================] - 1s 16ms/step - loss: 6.9253e-04\n",
            "Epoch 76/100\n",
            "62/62 [==============================] - 1s 16ms/step - loss: 7.3696e-04\n",
            "Epoch 77/100\n",
            "62/62 [==============================] - 1s 16ms/step - loss: 7.4229e-04\n",
            "Epoch 78/100\n",
            "62/62 [==============================] - 1s 16ms/step - loss: 6.5508e-04\n",
            "Epoch 79/100\n",
            "62/62 [==============================] - 1s 16ms/step - loss: 6.5066e-04\n",
            "Epoch 80/100\n",
            "62/62 [==============================] - 1s 16ms/step - loss: 6.1100e-04\n",
            "Epoch 81/100\n",
            "62/62 [==============================] - 1s 17ms/step - loss: 6.6507e-04\n",
            "Epoch 82/100\n",
            "62/62 [==============================] - 1s 17ms/step - loss: 6.8807e-04\n",
            "Epoch 83/100\n",
            "62/62 [==============================] - 1s 16ms/step - loss: 6.3149e-04\n",
            "Epoch 84/100\n",
            "62/62 [==============================] - 1s 16ms/step - loss: 6.2923e-04\n",
            "Epoch 85/100\n",
            "62/62 [==============================] - 1s 16ms/step - loss: 6.3504e-04\n",
            "Epoch 86/100\n",
            "62/62 [==============================] - 1s 17ms/step - loss: 7.3388e-04\n",
            "Epoch 87/100\n",
            "62/62 [==============================] - 1s 17ms/step - loss: 6.5611e-04\n",
            "Epoch 88/100\n",
            "62/62 [==============================] - 1s 16ms/step - loss: 6.4545e-04\n",
            "Epoch 89/100\n",
            "62/62 [==============================] - 1s 16ms/step - loss: 6.9689e-04\n",
            "Epoch 90/100\n",
            "62/62 [==============================] - 1s 16ms/step - loss: 7.4193e-04\n",
            "Epoch 91/100\n",
            "62/62 [==============================] - 1s 17ms/step - loss: 5.9194e-04\n",
            "Epoch 92/100\n",
            "62/62 [==============================] - 1s 16ms/step - loss: 8.0042e-04\n",
            "Epoch 93/100\n",
            "62/62 [==============================] - 1s 16ms/step - loss: 5.7754e-04\n",
            "Epoch 94/100\n",
            "62/62 [==============================] - 1s 16ms/step - loss: 6.1868e-04\n",
            "Epoch 95/100\n",
            "62/62 [==============================] - 1s 16ms/step - loss: 7.3437e-04\n",
            "Epoch 96/100\n",
            "62/62 [==============================] - 1s 16ms/step - loss: 6.4611e-04\n",
            "Epoch 97/100\n",
            "62/62 [==============================] - 1s 17ms/step - loss: 6.4945e-04\n",
            "Epoch 98/100\n",
            "62/62 [==============================] - 1s 16ms/step - loss: 7.1059e-04\n",
            "Epoch 99/100\n",
            "62/62 [==============================] - 1s 16ms/step - loss: 5.8980e-04\n",
            "Epoch 100/100\n",
            "62/62 [==============================] - 1s 17ms/step - loss: 5.9991e-04\n"
          ],
          "name": "stdout"
        },
        {
          "output_type": "execute_result",
          "data": {
            "text/plain": [
              "<tensorflow.python.keras.callbacks.History at 0x7f5642772c88>"
            ]
          },
          "metadata": {
            "tags": []
          },
          "execution_count": 12
        }
      ]
    },
    {
      "cell_type": "code",
      "metadata": {
        "id": "XWwT6fvvA-OB",
        "colab_type": "code",
        "colab": {}
      },
      "source": [
        "dataset_test = pd.read_csv('drive/My Drive/tatatest.txt')\n",
        "real_stock_price = dataset_test.iloc[:,1:2].values"
      ],
      "execution_count": 14,
      "outputs": []
    },
    {
      "cell_type": "code",
      "metadata": {
        "id": "kq7mqVl4BhNW",
        "colab_type": "code",
        "colab": {}
      },
      "source": [
        "dataset_total = pd.concat((dataset_train['Open'], dataset_test['Open']), axis = 0)\n",
        "inputs = dataset_total[len(dataset_total) - len(dataset_test) - 60:].values\n",
        "inputs = inputs.reshape(-1,1)\n",
        "inputs = sc.transform(inputs)\n",
        "X_test = []\n",
        "for i in range(60,76):\n",
        "  X_test.append(inputs[i-60:i,0])\n",
        "X_test = np.array(X_test)\n",
        "X_test = np.reshape(X_test, (X_test.shape[0], X_test.shape[1],1))\n",
        "predicted_stock_price = regressor.predict(X_test)\n",
        "predicted_stock_price = sc.inverse_transform(predicted_stock_price)"
      ],
      "execution_count": 15,
      "outputs": []
    },
    {
      "cell_type": "code",
      "metadata": {
        "id": "8VEf4uLbCaZG",
        "colab_type": "code",
        "colab": {
          "base_uri": "https://localhost:8080/",
          "height": 295
        },
        "outputId": "c2c5faa3-d31c-4505-ec7d-b2711e1352f3"
      },
      "source": [
        "plt.plot(real_stock_price, color = 'black', label = 'TATA Stock Price')\n",
        "plt.plot(predicted_stock_price, color = 'green', label = 'Predicted TATA Stock Price')\n",
        "plt.title('TATA Stock Price Prediction')\n",
        "plt.xlabel('Time')\n",
        "plt.ylabel('TATA Stock Price')\n",
        "plt.legend()\n",
        "plt.show()"
      ],
      "execution_count": 16,
      "outputs": [
        {
          "output_type": "display_data",
          "data": {
            "image/png": "[encoded data removed]",
            "text/plain": [
              "<Figure size 432x288 with 1 Axes>"
            ]
          },
          "metadata": {
            "tags": [],
            "needs_background": "light"
          }
        }
      ]
    },
    {
      "cell_type": "code",
      "metadata": {
        "id": "wa-XVswmCdLP",
        "colab_type": "code",
        "colab": {}
      },
      "source": [
        ""
      ],
      "execution_count": null,
      "outputs": []
    }
  ]
}