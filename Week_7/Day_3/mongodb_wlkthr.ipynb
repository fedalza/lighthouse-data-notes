{
 "metadata": {
  "language_info": {
   "codemirror_mode": {
    "name": "ipython",
    "version": 3
   },
   "file_extension": ".py",
   "mimetype": "text/x-python",
   "name": "python",
   "nbconvert_exporter": "python",
   "pygments_lexer": "ipython3",
   "version": "3.8.5-final"
  },
  "orig_nbformat": 2,
  "kernelspec": {
   "name": "python_defaultSpec_1599058008985",
   "display_name": "Python 3.8.5 64-bit ('boot_env': conda)"
  }
 },
 "nbformat": 4,
 "nbformat_minor": 2,
 "cells": [
  {
   "cell_type": "code",
   "execution_count": 1,
   "metadata": {},
   "outputs": [],
   "source": [
    "from pymongo import MongoClient\n",
    "client = MongoClient()"
   ]
  },
  {
   "cell_type": "code",
   "execution_count": 2,
   "metadata": {},
   "outputs": [],
   "source": [
    "# client = MongoClient('localhost', 27017)\n",
    "# client = MongoClient('mongodb://localhost:27017')"
   ]
  },
  {
   "cell_type": "code",
   "execution_count": 3,
   "metadata": {},
   "outputs": [],
   "source": [
    "db = client.pymongo_test"
   ]
  },
  {
   "cell_type": "code",
   "execution_count": 4,
   "metadata": {},
   "outputs": [],
   "source": [
    "# db = client['pymongo.test']"
   ]
  },
  {
   "cell_type": "code",
   "execution_count": 6,
   "metadata": {
    "tags": []
   },
   "outputs": [
    {
     "output_type": "stream",
     "name": "stdout",
     "text": "One post: 5f4fb130c56efd53a13314e8\n"
    }
   ],
   "source": [
    "posts = db.posts\n",
    "post_data = {\n",
    "    'title': 'Python and MongoDB',\n",
    "    'content': 'PyMongo is fun, you guys',\n",
    "    'author': 'Scott'\n",
    "}\n",
    "\n",
    "result = posts.insert_one(post_data)\n",
    "print('One post: {0}'.format(result.inserted_id))"
   ]
  },
  {
   "cell_type": "code",
   "execution_count": 7,
   "metadata": {
    "tags": []
   },
   "outputs": [
    {
     "output_type": "stream",
     "name": "stdout",
     "text": "Multiple posts: [ObjectId('5f4fb142c56efd53a13314e9'), ObjectId('5f4fb142c56efd53a13314ea'), ObjectId('5f4fb142c56efd53a13314eb')]\n"
    }
   ],
   "source": [
    "post_1 = {\n",
    "    'title': 'Python and MongoDB',\n",
    "    'content': 'PyMongo is fun, you guys',\n",
    "    'author': 'Scott'\n",
    "}\n",
    "post_2 = {\n",
    "    'title': 'Virtual Environments',\n",
    "    'content': 'Use virtual environments, you guys',\n",
    "    'author': 'Scott'\n",
    "}\n",
    "post_3 = {\n",
    "    'title': 'Learning Python',\n",
    "    'content': 'Learn Python, it is easy',\n",
    "    'author': 'Bill'\n",
    "}\n",
    "new_result = posts.insert_many([post_1, post_2, post_3])\n",
    "print('Multiple posts: {0}'.format(new_result.inserted_ids))\n"
   ]
  },
  {
   "cell_type": "code",
   "execution_count": 8,
   "metadata": {
    "tags": []
   },
   "outputs": [
    {
     "output_type": "stream",
     "name": "stdout",
     "text": "{'_id': ObjectId('5f4fb142c56efd53a13314eb'), 'title': 'Learning Python', 'content': 'Learn Python, it is easy', 'author': 'Bill'}\n"
    }
   ],
   "source": [
    "bills_post = posts.find_one({'author': 'Bill'})\n",
    "print(bills_post)"
   ]
  },
  {
   "cell_type": "code",
   "execution_count": 9,
   "metadata": {
    "tags": []
   },
   "outputs": [
    {
     "output_type": "stream",
     "name": "stdout",
     "text": "<pymongo.cursor.Cursor object at 0x00000130D227A610>\n"
    }
   ],
   "source": [
    "scotts_posts = posts.find({'author': 'Scott'})\n",
    "print(scotts_posts)"
   ]
  },
  {
   "cell_type": "code",
   "execution_count": 10,
   "metadata": {
    "tags": []
   },
   "outputs": [
    {
     "output_type": "stream",
     "name": "stdout",
     "text": "{'_id': ObjectId('5f4fb130c56efd53a13314e8'), 'title': 'Python and MongoDB', 'content': 'PyMongo is fun, you guys', 'author': 'Scott'}\n{'_id': ObjectId('5f4fb142c56efd53a13314e9'), 'title': 'Python and MongoDB', 'content': 'PyMongo is fun, you guys', 'author': 'Scott'}\n{'_id': ObjectId('5f4fb142c56efd53a13314ea'), 'title': 'Virtual Environments', 'content': 'Use virtual environments, you guys', 'author': 'Scott'}\n"
    }
   ],
   "source": [
    "for post in scotts_posts:\n",
    "    print(post)"
   ]
  },
  {
   "cell_type": "code",
   "execution_count": 11,
   "metadata": {
    "tags": []
   },
   "outputs": [
    {
     "output_type": "stream",
     "name": "stdout",
     "text": "Collecting mongoengine\n  Downloading mongoengine-0.20.0-py3-none-any.whl (106 kB)\nRequirement already satisfied: pymongo<4.0,>=3.4 in c:\\users\\federico\\anaconda3\\envs\\boot_env\\lib\\site-packages (from mongoengine) (3.11.0)\nInstalling collected packages: mongoengine\nSuccessfully installed mongoengine-0.20.0\n"
    }
   ],
   "source": [
    "!pip install mongoengine"
   ]
  },
  {
   "cell_type": "code",
   "execution_count": 12,
   "metadata": {},
   "outputs": [
    {
     "output_type": "execute_result",
     "data": {
      "text/plain": "MongoClient(host=['localhost:27017'], document_class=dict, tz_aware=False, connect=True, read_preference=Primary())"
     },
     "metadata": {},
     "execution_count": 12
    }
   ],
   "source": [
    "from mongoengine import *\n",
    "connect('mongoengine_test', host='localhost', port=27017)"
   ]
  },
  {
   "cell_type": "code",
   "execution_count": 13,
   "metadata": {},
   "outputs": [],
   "source": [
    "import datetime\n",
    "\n",
    "class Post(Document):\n",
    "    title = StringField(required=True, max_length=200)\n",
    "    content = StringField(required=True)\n",
    "    author = StringField(required=True, max_length=50)\n",
    "    published = DateTimeField(default=datetime.datetime.now)\n"
   ]
  },
  {
   "cell_type": "code",
   "execution_count": 14,
   "metadata": {
    "tags": []
   },
   "outputs": [
    {
     "output_type": "stream",
     "name": "stdout",
     "text": "Sample Post\nA Better Post Title\n"
    }
   ],
   "source": [
    "post_1 = Post(\n",
    "    title='Sample Post',\n",
    "    content='Some engaging content',\n",
    "    author='Scott'\n",
    ")\n",
    "post_1.save()       # This will perform an insert\n",
    "print(post_1.title)\n",
    "post_1.title = 'A Better Post Title'\n",
    "post_1.save()       # This will perform an atomic edit on \"title\"\n",
    "print(post_1.title)\n"
   ]
  },
  {
   "cell_type": "code",
   "execution_count": 15,
   "metadata": {},
   "outputs": [],
   "source": [
    "class Post(Document):\n",
    "    title = StringField()\n",
    "    published = BooleanField()\n",
    "\n",
    "    @queryset_manager\n",
    "    def live_posts(clazz, queryset):\n",
    "        return queryset.filter(published=True)"
   ]
  },
  {
   "cell_type": "code",
   "execution_count": 16,
   "metadata": {},
   "outputs": [
    {
     "output_type": "error",
     "ename": "FieldDoesNotExist",
     "evalue": "The fields \"{'published', 'content', 'title'}\" do not exist on the document \"Post\"",
     "traceback": [
      "\u001b[1;31m---------------------------------------------------------------------------\u001b[0m",
      "\u001b[1;31mFieldDoesNotExist\u001b[0m                         Traceback (most recent call last)",
      "\u001b[1;32m<ipython-input-16-ec72eb0e1434>\u001b[0m in \u001b[0;36m<module>\u001b[1;34m\u001b[0m\n\u001b[0;32m      5\u001b[0m     \u001b[0mauthor\u001b[0m \u001b[1;33m=\u001b[0m \u001b[0mReferenceField\u001b[0m\u001b[1;33m(\u001b[0m\u001b[0mAuthor\u001b[0m\u001b[1;33m)\u001b[0m\u001b[1;33m\u001b[0m\u001b[1;33m\u001b[0m\u001b[0m\n\u001b[0;32m      6\u001b[0m \u001b[1;33m\u001b[0m\u001b[0m\n\u001b[1;32m----> 7\u001b[1;33m \u001b[0mPost\u001b[0m\u001b[1;33m.\u001b[0m\u001b[0mobjects\u001b[0m\u001b[1;33m.\u001b[0m\u001b[0mfirst\u001b[0m\u001b[1;33m(\u001b[0m\u001b[1;33m)\u001b[0m\u001b[1;33m.\u001b[0m\u001b[0mauthor\u001b[0m\u001b[1;33m.\u001b[0m\u001b[0mname\u001b[0m\u001b[1;33m\u001b[0m\u001b[1;33m\u001b[0m\u001b[0m\n\u001b[0m",
      "\u001b[1;32m~\\anaconda3\\envs\\boot_env\\lib\\site-packages\\mongoengine\\queryset\\base.py\u001b[0m in \u001b[0;36mfirst\u001b[1;34m(self)\u001b[0m\n\u001b[0;32m    285\u001b[0m         \u001b[0mqueryset\u001b[0m \u001b[1;33m=\u001b[0m \u001b[0mself\u001b[0m\u001b[1;33m.\u001b[0m\u001b[0mclone\u001b[0m\u001b[1;33m(\u001b[0m\u001b[1;33m)\u001b[0m\u001b[1;33m\u001b[0m\u001b[1;33m\u001b[0m\u001b[0m\n\u001b[0;32m    286\u001b[0m         \u001b[1;32mtry\u001b[0m\u001b[1;33m:\u001b[0m\u001b[1;33m\u001b[0m\u001b[1;33m\u001b[0m\u001b[0m\n\u001b[1;32m--> 287\u001b[1;33m             \u001b[0mresult\u001b[0m \u001b[1;33m=\u001b[0m \u001b[0mqueryset\u001b[0m\u001b[1;33m[\u001b[0m\u001b[1;36m0\u001b[0m\u001b[1;33m]\u001b[0m\u001b[1;33m\u001b[0m\u001b[1;33m\u001b[0m\u001b[0m\n\u001b[0m\u001b[0;32m    288\u001b[0m         \u001b[1;32mexcept\u001b[0m \u001b[0mIndexError\u001b[0m\u001b[1;33m:\u001b[0m\u001b[1;33m\u001b[0m\u001b[1;33m\u001b[0m\u001b[0m\n\u001b[0;32m    289\u001b[0m             \u001b[0mresult\u001b[0m \u001b[1;33m=\u001b[0m \u001b[1;32mNone\u001b[0m\u001b[1;33m\u001b[0m\u001b[1;33m\u001b[0m\u001b[0m\n",
      "\u001b[1;32m~\\anaconda3\\envs\\boot_env\\lib\\site-packages\\mongoengine\\queryset\\base.py\u001b[0m in \u001b[0;36m__getitem__\u001b[1;34m(self, key)\u001b[0m\n\u001b[0;32m    188\u001b[0m                 \u001b[1;32mreturn\u001b[0m \u001b[0mqueryset\u001b[0m\u001b[1;33m.\u001b[0m\u001b[0m_cursor\u001b[0m\u001b[1;33m[\u001b[0m\u001b[0mkey\u001b[0m\u001b[1;33m]\u001b[0m\u001b[1;33m\u001b[0m\u001b[1;33m\u001b[0m\u001b[0m\n\u001b[0;32m    189\u001b[0m \u001b[1;33m\u001b[0m\u001b[0m\n\u001b[1;32m--> 190\u001b[1;33m             return queryset._document._from_son(\n\u001b[0m\u001b[0;32m    191\u001b[0m                 \u001b[0mqueryset\u001b[0m\u001b[1;33m.\u001b[0m\u001b[0m_cursor\u001b[0m\u001b[1;33m[\u001b[0m\u001b[0mkey\u001b[0m\u001b[1;33m]\u001b[0m\u001b[1;33m,\u001b[0m\u001b[1;33m\u001b[0m\u001b[1;33m\u001b[0m\u001b[0m\n\u001b[0;32m    192\u001b[0m                 \u001b[0m_auto_dereference\u001b[0m\u001b[1;33m=\u001b[0m\u001b[0mself\u001b[0m\u001b[1;33m.\u001b[0m\u001b[0m_auto_dereference\u001b[0m\u001b[1;33m,\u001b[0m\u001b[1;33m\u001b[0m\u001b[1;33m\u001b[0m\u001b[0m\n",
      "\u001b[1;32m~\\anaconda3\\envs\\boot_env\\lib\\site-packages\\mongoengine\\base\\document.py\u001b[0m in \u001b[0;36m_from_son\u001b[1;34m(cls, son, _auto_dereference, only_fields, created)\u001b[0m\n\u001b[0;32m    781\u001b[0m             \u001b[0mdata\u001b[0m \u001b[1;33m=\u001b[0m \u001b[1;33m{\u001b[0m\u001b[0mk\u001b[0m\u001b[1;33m:\u001b[0m \u001b[0mv\u001b[0m \u001b[1;32mfor\u001b[0m \u001b[0mk\u001b[0m\u001b[1;33m,\u001b[0m \u001b[0mv\u001b[0m \u001b[1;32min\u001b[0m \u001b[0mdata\u001b[0m\u001b[1;33m.\u001b[0m\u001b[0mitems\u001b[0m\u001b[1;33m(\u001b[0m\u001b[1;33m)\u001b[0m \u001b[1;32mif\u001b[0m \u001b[0mk\u001b[0m \u001b[1;32min\u001b[0m \u001b[0mcls\u001b[0m\u001b[1;33m.\u001b[0m\u001b[0m_fields\u001b[0m\u001b[1;33m}\u001b[0m\u001b[1;33m\u001b[0m\u001b[1;33m\u001b[0m\u001b[0m\n\u001b[0;32m    782\u001b[0m \u001b[1;33m\u001b[0m\u001b[0m\n\u001b[1;32m--> 783\u001b[1;33m         obj = cls(\n\u001b[0m\u001b[0;32m    784\u001b[0m             \u001b[0m__auto_convert\u001b[0m\u001b[1;33m=\u001b[0m\u001b[1;32mFalse\u001b[0m\u001b[1;33m,\u001b[0m \u001b[0m_created\u001b[0m\u001b[1;33m=\u001b[0m\u001b[0mcreated\u001b[0m\u001b[1;33m,\u001b[0m \u001b[0m__only_fields\u001b[0m\u001b[1;33m=\u001b[0m\u001b[0monly_fields\u001b[0m\u001b[1;33m,\u001b[0m \u001b[1;33m**\u001b[0m\u001b[0mdata\u001b[0m\u001b[1;33m\u001b[0m\u001b[1;33m\u001b[0m\u001b[0m\n\u001b[0;32m    785\u001b[0m         )\n",
      "\u001b[1;32m~\\anaconda3\\envs\\boot_env\\lib\\site-packages\\mongoengine\\base\\document.py\u001b[0m in \u001b[0;36m__init__\u001b[1;34m(self, *args, **values)\u001b[0m\n\u001b[0;32m     97\u001b[0m                     \u001b[0m_undefined_fields\u001b[0m\u001b[1;33m,\u001b[0m \u001b[0mself\u001b[0m\u001b[1;33m.\u001b[0m\u001b[0m_class_name\u001b[0m\u001b[1;33m\u001b[0m\u001b[1;33m\u001b[0m\u001b[0m\n\u001b[0;32m     98\u001b[0m                 )\n\u001b[1;32m---> 99\u001b[1;33m                 \u001b[1;32mraise\u001b[0m \u001b[0mFieldDoesNotExist\u001b[0m\u001b[1;33m(\u001b[0m\u001b[0mmsg\u001b[0m\u001b[1;33m)\u001b[0m\u001b[1;33m\u001b[0m\u001b[1;33m\u001b[0m\u001b[0m\n\u001b[0m\u001b[0;32m    100\u001b[0m \u001b[1;33m\u001b[0m\u001b[0m\n\u001b[0;32m    101\u001b[0m         \u001b[1;32mif\u001b[0m \u001b[0mself\u001b[0m\u001b[1;33m.\u001b[0m\u001b[0mSTRICT\u001b[0m \u001b[1;32mand\u001b[0m \u001b[1;32mnot\u001b[0m \u001b[0mself\u001b[0m\u001b[1;33m.\u001b[0m\u001b[0m_dynamic\u001b[0m\u001b[1;33m:\u001b[0m\u001b[1;33m\u001b[0m\u001b[1;33m\u001b[0m\u001b[0m\n",
      "\u001b[1;31mFieldDoesNotExist\u001b[0m: The fields \"{'published', 'content', 'title'}\" do not exist on the document \"Post\""
     ]
    }
   ],
   "source": [
    "class Author(Document):\n",
    "    name = StringField()\n",
    "\n",
    "class Post(Document):\n",
    "    author = ReferenceField(Author)\n",
    "\n",
    "Post.objects.first().author.name"
   ]
  },
  {
   "cell_type": "code",
   "execution_count": null,
   "metadata": {},
   "outputs": [],
   "source": []
  }
 ]
}