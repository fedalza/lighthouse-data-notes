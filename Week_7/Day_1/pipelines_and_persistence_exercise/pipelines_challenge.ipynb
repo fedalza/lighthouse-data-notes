{
 "cells": [
  {
   "cell_type": "markdown",
   "metadata": {},
   "source": [
    "## Challenge"
   ]
  },
  {
   "cell_type": "markdown",
   "metadata": {},
   "source": [
    "In this challenge, we will work with the same [dataset](https://drive.google.com/file/d/1B07fvYosBNdIwlZxSmxDfeAf9KaygX89/view?usp=sharing) as in Week 5 Day 3 challenge, **Prediction of Sales**. The main goal is to create **pipeline** that covers all data preprocessing and modeling steps.\n",
    "\n",
    "\n",
    "**TASK 1**: Build Pipeline which will end with regression model to predict `Item_Outlet_Sales` from the dataset. The pipeline should have following steps:\n",
    "\n",
    "- split features to numerical and categorical (text)\n",
    "- null value replacement\n",
    "    - mean for numerical variables\n",
    "    - the most frequent value for categorical\n",
    "- creating dummy variables from categorical features\n",
    "- Use PCA to reduce number of dummy variables to 3 principal components. PCA will be used directly after OneHotEncoder that outputs data in the SparseMatrix so we need to use **ToDenseTransformer** from the [article about custom pipelines](https://queirozf.com/entries/scikit-learn-pipelines-custom-pipelines-and-pandas-integration).\n",
    "- select 3 best candidates from original numeric features using KBest\n",
    "- Fit Ridge regression (default alpha is fine for now)\n",
    "\n",
    "**TASK 2**: Tune parameters of models as well as preprocessing steps and find the best solution\n",
    "- Try models: Random Forest, Gradient Boosting Regressor or Ridge Regression. We need to use the approach from the [earlier article](https://iaml.it/blog/optimizing-sklearn-pipelines), in the section **PIPELINE TUNING (ADVANCED VERSION)**, when we tried different scalers."
   ]
  },
  {
   "cell_type": "code",
   "execution_count": 1,
   "metadata": {},
   "outputs": [
    {
     "output_type": "execute_result",
     "data": {
      "text/plain": "  Item_Identifier  Item_Weight Item_Fat_Content  Item_Visibility  \\\n0           FDA15         9.30          Low Fat         0.016047   \n1           DRC01         5.92          Regular         0.019278   \n2           FDN15        17.50          Low Fat         0.016760   \n3           FDX07        19.20          Regular         0.000000   \n4           NCD19         8.93          Low Fat         0.000000   \n\n               Item_Type  Item_MRP Outlet_Identifier  \\\n0                  Dairy  249.8092            OUT049   \n1            Soft Drinks   48.2692            OUT018   \n2                   Meat  141.6180            OUT049   \n3  Fruits and Vegetables  182.0950            OUT010   \n4              Household   53.8614            OUT013   \n\n   Outlet_Establishment_Year Outlet_Size Outlet_Location_Type  \\\n0                       1999      Medium               Tier 1   \n1                       2009      Medium               Tier 3   \n2                       1999      Medium               Tier 1   \n3                       1998         NaN               Tier 3   \n4                       1987        High               Tier 3   \n\n         Outlet_Type  Item_Outlet_Sales  \n0  Supermarket Type1          3735.1380  \n1  Supermarket Type2           443.4228  \n2  Supermarket Type1          2097.2700  \n3      Grocery Store           732.3800  \n4  Supermarket Type1           994.7052  ",
      "text/html": "<div>\n<style scoped>\n    .dataframe tbody tr th:only-of-type {\n        vertical-align: middle;\n    }\n\n    .dataframe tbody tr th {\n        vertical-align: top;\n    }\n\n    .dataframe thead th {\n        text-align: right;\n    }\n</style>\n<table border=\"1\" class=\"dataframe\">\n  <thead>\n    <tr style=\"text-align: right;\">\n      <th></th>\n      <th>Item_Identifier</th>\n      <th>Item_Weight</th>\n      <th>Item_Fat_Content</th>\n      <th>Item_Visibility</th>\n      <th>Item_Type</th>\n      <th>Item_MRP</th>\n      <th>Outlet_Identifier</th>\n      <th>Outlet_Establishment_Year</th>\n      <th>Outlet_Size</th>\n      <th>Outlet_Location_Type</th>\n      <th>Outlet_Type</th>\n      <th>Item_Outlet_Sales</th>\n    </tr>\n  </thead>\n  <tbody>\n    <tr>\n      <th>0</th>\n      <td>FDA15</td>\n      <td>9.30</td>\n      <td>Low Fat</td>\n      <td>0.016047</td>\n      <td>Dairy</td>\n      <td>249.8092</td>\n      <td>OUT049</td>\n      <td>1999</td>\n      <td>Medium</td>\n      <td>Tier 1</td>\n      <td>Supermarket Type1</td>\n      <td>3735.1380</td>\n    </tr>\n    <tr>\n      <th>1</th>\n      <td>DRC01</td>\n      <td>5.92</td>\n      <td>Regular</td>\n      <td>0.019278</td>\n      <td>Soft Drinks</td>\n      <td>48.2692</td>\n      <td>OUT018</td>\n      <td>2009</td>\n      <td>Medium</td>\n      <td>Tier 3</td>\n      <td>Supermarket Type2</td>\n      <td>443.4228</td>\n    </tr>\n    <tr>\n      <th>2</th>\n      <td>FDN15</td>\n      <td>17.50</td>\n      <td>Low Fat</td>\n      <td>0.016760</td>\n      <td>Meat</td>\n      <td>141.6180</td>\n      <td>OUT049</td>\n      <td>1999</td>\n      <td>Medium</td>\n      <td>Tier 1</td>\n      <td>Supermarket Type1</td>\n      <td>2097.2700</td>\n    </tr>\n    <tr>\n      <th>3</th>\n      <td>FDX07</td>\n      <td>19.20</td>\n      <td>Regular</td>\n      <td>0.000000</td>\n      <td>Fruits and Vegetables</td>\n      <td>182.0950</td>\n      <td>OUT010</td>\n      <td>1998</td>\n      <td>NaN</td>\n      <td>Tier 3</td>\n      <td>Grocery Store</td>\n      <td>732.3800</td>\n    </tr>\n    <tr>\n      <th>4</th>\n      <td>NCD19</td>\n      <td>8.93</td>\n      <td>Low Fat</td>\n      <td>0.000000</td>\n      <td>Household</td>\n      <td>53.8614</td>\n      <td>OUT013</td>\n      <td>1987</td>\n      <td>High</td>\n      <td>Tier 3</td>\n      <td>Supermarket Type1</td>\n      <td>994.7052</td>\n    </tr>\n  </tbody>\n</table>\n</div>"
     },
     "metadata": {},
     "execution_count": 1
    }
   ],
   "source": [
    "import pandas as pd\n",
    "df = pd.read_csv(\"regression_exercise.csv\")\n",
    "df.head()"
   ]
  },
  {
   "cell_type": "markdown",
   "metadata": {},
   "source": [
    "Splitting to train and test set in the begining. We should always do this before Pipeline"
   ]
  },
  {
   "cell_type": "code",
   "execution_count": 3,
   "metadata": {},
   "outputs": [],
   "source": [
    "df_train = df.sample(frac=0.8).sort_index()\n",
    "y_train = y[y.index.isin(df_train.index.tolist())]"
   ]
  },
  {
   "cell_type": "code",
   "execution_count": 4,
   "metadata": {},
   "outputs": [],
   "source": [
    "df_test = df[~df.index.isin(df_train.index.tolist())].sort_index()\n",
    "y_test = y[y.index.isin(df_test.index.tolist())]"
   ]
  },
  {
   "cell_type": "code",
   "execution_count": null,
   "metadata": {},
   "outputs": [],
   "source": []
  },
  {
   "cell_type": "code",
   "execution_count": null,
   "metadata": {},
   "outputs": [],
   "source": []
  },
  {
   "cell_type": "markdown",
   "metadata": {},
   "source": [
    "# Task I\n",
    "\n",
    "### Split Features to numerical and categorical"
   ]
  },
  {
   "cell_type": "code",
   "execution_count": 5,
   "metadata": {},
   "outputs": [],
   "source": [
    "cat_feats = df.dtypes[df.dtypes == 'object'].index.tolist()\n",
    "num_feats = df.dtypes[~df.dtypes.index.isin(cat_feats)].index.tolist()"
   ]
  },
  {
   "cell_type": "code",
   "execution_count": 6,
   "metadata": {},
   "outputs": [],
   "source": [
    "from sklearn.preprocessing import FunctionTransformer\n",
    "\n",
    "# Using own function in Pipeline\n",
    "def numFeat(data):\n",
    "    return data[num_feats]\n",
    "\n",
    "def catFeat(data):\n",
    "    return data[cat_feats]"
   ]
  },
  {
   "cell_type": "code",
   "execution_count": 7,
   "metadata": {},
   "outputs": [],
   "source": [
    "# we will start two separate pipelines for each type of features\n",
    "keep_num = FunctionTransformer(numFeat)\n",
    "keep_cat = FunctionTransformer(catFeat)"
   ]
  },
  {
   "cell_type": "code",
   "execution_count": 37,
   "metadata": {},
   "outputs": [
    {
     "output_type": "execute_result",
     "data": {
      "text/plain": "      Item_Weight  Item_Visibility  Item_MRP  Outlet_Establishment_Year\n0           9.300         0.016047  249.8092                       1999\n1           5.920         0.019278   48.2692                       2009\n2          17.500         0.016760  141.6180                       1999\n3          19.200         0.000000  182.0950                       1998\n4           8.930         0.000000   53.8614                       1987\n...           ...              ...       ...                        ...\n8518        6.865         0.056783  214.5218                       1987\n8519        8.380         0.046982  108.1570                       2002\n8520       10.600         0.035186   85.1224                       2004\n8521        7.210         0.145221  103.1332                       2009\n8522       14.800         0.044878   75.4670                       1997\n\n[6818 rows x 4 columns]",
      "text/html": "<div>\n<style scoped>\n    .dataframe tbody tr th:only-of-type {\n        vertical-align: middle;\n    }\n\n    .dataframe tbody tr th {\n        vertical-align: top;\n    }\n\n    .dataframe thead th {\n        text-align: right;\n    }\n</style>\n<table border=\"1\" class=\"dataframe\">\n  <thead>\n    <tr style=\"text-align: right;\">\n      <th></th>\n      <th>Item_Weight</th>\n      <th>Item_Visibility</th>\n      <th>Item_MRP</th>\n      <th>Outlet_Establishment_Year</th>\n    </tr>\n  </thead>\n  <tbody>\n    <tr>\n      <th>0</th>\n      <td>9.300</td>\n      <td>0.016047</td>\n      <td>249.8092</td>\n      <td>1999</td>\n    </tr>\n    <tr>\n      <th>1</th>\n      <td>5.920</td>\n      <td>0.019278</td>\n      <td>48.2692</td>\n      <td>2009</td>\n    </tr>\n    <tr>\n      <th>2</th>\n      <td>17.500</td>\n      <td>0.016760</td>\n      <td>141.6180</td>\n      <td>1999</td>\n    </tr>\n    <tr>\n      <th>3</th>\n      <td>19.200</td>\n      <td>0.000000</td>\n      <td>182.0950</td>\n      <td>1998</td>\n    </tr>\n    <tr>\n      <th>4</th>\n      <td>8.930</td>\n      <td>0.000000</td>\n      <td>53.8614</td>\n      <td>1987</td>\n    </tr>\n    <tr>\n      <th>...</th>\n      <td>...</td>\n      <td>...</td>\n      <td>...</td>\n      <td>...</td>\n    </tr>\n    <tr>\n      <th>8518</th>\n      <td>6.865</td>\n      <td>0.056783</td>\n      <td>214.5218</td>\n      <td>1987</td>\n    </tr>\n    <tr>\n      <th>8519</th>\n      <td>8.380</td>\n      <td>0.046982</td>\n      <td>108.1570</td>\n      <td>2002</td>\n    </tr>\n    <tr>\n      <th>8520</th>\n      <td>10.600</td>\n      <td>0.035186</td>\n      <td>85.1224</td>\n      <td>2004</td>\n    </tr>\n    <tr>\n      <th>8521</th>\n      <td>7.210</td>\n      <td>0.145221</td>\n      <td>103.1332</td>\n      <td>2009</td>\n    </tr>\n    <tr>\n      <th>8522</th>\n      <td>14.800</td>\n      <td>0.044878</td>\n      <td>75.4670</td>\n      <td>1997</td>\n    </tr>\n  </tbody>\n</table>\n<p>6818 rows × 4 columns</p>\n</div>"
     },
     "metadata": {},
     "execution_count": 37
    }
   ],
   "source": [
    "keep_num.transform(df_train)"
   ]
  },
  {
   "cell_type": "markdown",
   "metadata": {},
   "source": [
    "### null value replacement"
   ]
  },
  {
   "cell_type": "code",
   "execution_count": 24,
   "metadata": {},
   "outputs": [],
   "source": [
    "from sklearn.impute import SimpleImputer\n",
    "import numpy as np \n",
    "\n",
    "num_impute = SimpleImputer(missing_values=np.nan, strategy='mean')"
   ]
  },
  {
   "cell_type": "code",
   "execution_count": 25,
   "metadata": {},
   "outputs": [],
   "source": [
    "cat_impute = SimpleImputer(missing_values=np.nan, strategy='most_frequent')"
   ]
  },
  {
   "cell_type": "markdown",
   "metadata": {},
   "source": [
    "### Creating dummy variables"
   ]
  },
  {
   "cell_type": "code",
   "execution_count": 26,
   "metadata": {},
   "outputs": [],
   "source": [
    "from sklearn.preprocessing import OneHotEncoder\n",
    "\n",
    "\n",
    "class ToDenseTransformer():\n",
    "\n",
    "    # here you define the operation it should perform\n",
    "    def transform(self, X, y=None, **fit_params):\n",
    "        return X.todense()\n",
    "\n",
    "    # just return self\n",
    "    def fit(self, X, y=None, **fit_params):\n",
    "        return self\n",
    "\n",
    "# use OneHotEncoder\n",
    "cat_ohe = OneHotEncoder()\n",
    "to_dense = ToDenseTransformer()"
   ]
  },
  {
   "cell_type": "code",
   "execution_count": null,
   "metadata": {},
   "outputs": [],
   "source": []
  },
  {
   "cell_type": "markdown",
   "metadata": {},
   "source": [
    "### PCA to reduce number of dummy variables to 3 principal components"
   ]
  },
  {
   "cell_type": "code",
   "execution_count": 27,
   "metadata": {},
   "outputs": [],
   "source": [
    "from sklearn.decomposition import PCA\n",
    "# don't forget ToDenseTransformer after one hot encoder\n",
    "cat_pca = PCA(n_components=3)"
   ]
  },
  {
   "cell_type": "code",
   "execution_count": null,
   "metadata": {},
   "outputs": [],
   "source": []
  },
  {
   "cell_type": "markdown",
   "metadata": {},
   "source": [
    "### Select 3 best numeric features"
   ]
  },
  {
   "cell_type": "code",
   "execution_count": 29,
   "metadata": {},
   "outputs": [],
   "source": [
    "from sklearn.feature_selection import SelectKBest\n",
    "\n",
    "# use SelectKBest\n",
    "num_select = SelectKBest(k=3)"
   ]
  },
  {
   "cell_type": "code",
   "execution_count": null,
   "metadata": {},
   "outputs": [],
   "source": []
  },
  {
   "cell_type": "markdown",
   "metadata": {},
   "source": [
    "### Fitting models"
   ]
  },
  {
   "cell_type": "code",
   "execution_count": 30,
   "metadata": {},
   "outputs": [],
   "source": [
    "from sklearn.linear_model import Ridge\n",
    "from sklearn.ensemble import RandomForestRegressor\n",
    "from sklearn.ensemble import GradientBoostingRegressor\n",
    "\n",
    "# Use base_model in Task I\n",
    "base_model = Ridge()\n",
    "forest_model = RandomForestRegressor()\n",
    "grad_boost_model = GradientBoostingRegressor()"
   ]
  },
  {
   "cell_type": "code",
   "execution_count": null,
   "metadata": {},
   "outputs": [],
   "source": []
  },
  {
   "cell_type": "markdown",
   "metadata": {},
   "source": [
    "### Building Pipeline"
   ]
  },
  {
   "cell_type": "code",
   "execution_count": 32,
   "metadata": {},
   "outputs": [],
   "source": [
    "from sklearn.pipeline import Pipeline, FeatureUnion"
   ]
  },
  {
   "cell_type": "code",
   "execution_count": 44,
   "metadata": {},
   "outputs": [],
   "source": [
    "num_pipeline = Pipeline([('num', keep_num),('imputer',num_impute),('selection',num_select)])\n",
    "cat_pipeline = Pipeline([('cat', keep_cat),('imputer',cat_impute),('ohe',cat_ohe), ('to_dense', to_dense),('pca', cat_pca)])\n",
    "union = FeatureUnion([('num',num_pipeline),('cat',cat_pipeline)])"
   ]
  },
  {
   "cell_type": "code",
   "execution_count": 50,
   "metadata": {},
   "outputs": [],
   "source": [
    "model1 = Pipeline([('features',union),('model',base_model)]).fit(df_train,y_train)\n",
    "model2 = Pipeline([('features',union),('model',forest_model)]).fit(df_train,y_train)\n",
    "model3 = Pipeline([('features',union),('model',grad_boost_model)]).fit(df_train,y_train)"
   ]
  },
  {
   "cell_type": "code",
   "execution_count": 52,
   "metadata": {
    "tags": []
   },
   "outputs": [
    {
     "output_type": "stream",
     "name": "stdout",
     "text": "0.37561049095811316\n0.5332145778354869\n0.5897596319802384\n"
    }
   ],
   "source": [
    "print(model1.score(df_test,y_test))\n",
    "print(model2.score(df_test,y_test))\n",
    "print(model3.score(df_test,y_test))"
   ]
  },
  {
   "cell_type": "code",
   "execution_count": null,
   "metadata": {},
   "outputs": [],
   "source": []
  },
  {
   "cell_type": "markdown",
   "metadata": {},
   "source": [
    "# Task II"
   ]
  },
  {
   "cell_type": "code",
   "execution_count": 54,
   "metadata": {},
   "outputs": [],
   "source": [
    "from sklearn.model_selection import GridSearchCV"
   ]
  },
  {
   "cell_type": "code",
   "execution_count": 56,
   "metadata": {},
   "outputs": [],
   "source": [
    "param_grid = {\"features__num__selection__k\":[1,2,3],\n",
    "                'features__cat__pca__n_components': [1,2,3],\n",
    "                'model__n_estimators':[25,50,100],\n",
    "                'model__max_depth':[None, 5, 10, 25],\n",
    "                'model__n_estimators':[25,50,100]\n",
    "                }"
   ]
  },
  {
   "cell_type": "code",
   "execution_count": 58,
   "metadata": {
    "tags": [
     "outputPrepend"
    ]
   },
   "outputs": [
    {
     "output_type": "stream",
     "name": "stdout",
     "text": "n_estimators=100 \n[CV]  features__cat__pca__n_components=3, features__num__selection__k=2, model__max_depth=10, model__n_estimators=100, score=0.587, total=   1.5s\n[CV] features__cat__pca__n_components=3, features__num__selection__k=2, model__max_depth=25, model__n_estimators=25 \n[CV]  features__cat__pca__n_components=3, features__num__selection__k=2, model__max_depth=25, model__n_estimators=25, score=0.516, total=   0.7s\n[CV] features__cat__pca__n_components=3, features__num__selection__k=2, model__max_depth=25, model__n_estimators=25 \n[CV]  features__cat__pca__n_components=3, features__num__selection__k=2, model__max_depth=25, model__n_estimators=25, score=0.499, total=   0.7s\n[CV] features__cat__pca__n_components=3, features__num__selection__k=2, model__max_depth=25, model__n_estimators=25 \n[CV]  features__cat__pca__n_components=3, features__num__selection__k=2, model__max_depth=25, model__n_estimators=25, score=0.460, total=   0.7s\n[CV] features__cat__pca__n_components=3, features__num__selection__k=2, model__max_depth=25, model__n_estimators=25 \n[CV]  features__cat__pca__n_components=3, features__num__selection__k=2, model__max_depth=25, model__n_estimators=25, score=0.521, total=   0.7s\n[CV] features__cat__pca__n_components=3, features__num__selection__k=2, model__max_depth=25, model__n_estimators=25 \n[CV]  features__cat__pca__n_components=3, features__num__selection__k=2, model__max_depth=25, model__n_estimators=25, score=0.559, total=   0.7s\n[CV] features__cat__pca__n_components=3, features__num__selection__k=2, model__max_depth=25, model__n_estimators=50 \n[CV]  features__cat__pca__n_components=3, features__num__selection__k=2, model__max_depth=25, model__n_estimators=50, score=0.514, total=   1.0s\n[CV] features__cat__pca__n_components=3, features__num__selection__k=2, model__max_depth=25, model__n_estimators=50 \n[CV]  features__cat__pca__n_components=3, features__num__selection__k=2, model__max_depth=25, model__n_estimators=50, score=0.512, total=   1.1s\n[CV] features__cat__pca__n_components=3, features__num__selection__k=2, model__max_depth=25, model__n_estimators=50 \n[CV]  features__cat__pca__n_components=3, features__num__selection__k=2, model__max_depth=25, model__n_estimators=50, score=0.464, total=   1.1s\n[CV] features__cat__pca__n_components=3, features__num__selection__k=2, model__max_depth=25, model__n_estimators=50 \n[CV]  features__cat__pca__n_components=3, features__num__selection__k=2, model__max_depth=25, model__n_estimators=50, score=0.538, total=   1.0s\n[CV] features__cat__pca__n_components=3, features__num__selection__k=2, model__max_depth=25, model__n_estimators=50 \n[CV]  features__cat__pca__n_components=3, features__num__selection__k=2, model__max_depth=25, model__n_estimators=50, score=0.563, total=   1.2s\n[CV] features__cat__pca__n_components=3, features__num__selection__k=2, model__max_depth=25, model__n_estimators=100 \n[CV]  features__cat__pca__n_components=3, features__num__selection__k=2, model__max_depth=25, model__n_estimators=100, score=0.525, total=   1.8s\n[CV] features__cat__pca__n_components=3, features__num__selection__k=2, model__max_depth=25, model__n_estimators=100 \n[CV]  features__cat__pca__n_components=3, features__num__selection__k=2, model__max_depth=25, model__n_estimators=100, score=0.516, total=   1.8s\n[CV] features__cat__pca__n_components=3, features__num__selection__k=2, model__max_depth=25, model__n_estimators=100 \n[CV]  features__cat__pca__n_components=3, features__num__selection__k=2, model__max_depth=25, model__n_estimators=100, score=0.451, total=   1.8s\n[CV] features__cat__pca__n_components=3, features__num__selection__k=2, model__max_depth=25, model__n_estimators=100 \n[CV]  features__cat__pca__n_components=3, features__num__selection__k=2, model__max_depth=25, model__n_estimators=100, score=0.537, total=   1.8s\n[CV] features__cat__pca__n_components=3, features__num__selection__k=2, model__max_depth=25, model__n_estimators=100 \n[CV]  features__cat__pca__n_components=3, features__num__selection__k=2, model__max_depth=25, model__n_estimators=100, score=0.564, total=   2.0s\n[CV] features__cat__pca__n_components=3, features__num__selection__k=3, model__max_depth=None, model__n_estimators=25 \n[CV]  features__cat__pca__n_components=3, features__num__selection__k=3, model__max_depth=None, model__n_estimators=25, score=0.563, total=   0.8s\n[CV] features__cat__pca__n_components=3, features__num__selection__k=3, model__max_depth=None, model__n_estimators=25 \n[CV]  features__cat__pca__n_components=3, features__num__selection__k=3, model__max_depth=None, model__n_estimators=25, score=0.530, total=   0.8s\n[CV] features__cat__pca__n_components=3, features__num__selection__k=3, model__max_depth=None, model__n_estimators=25 \n[CV]  features__cat__pca__n_components=3, features__num__selection__k=3, model__max_depth=None, model__n_estimators=25, score=0.495, total=   0.8s\n[CV] features__cat__pca__n_components=3, features__num__selection__k=3, model__max_depth=None, model__n_estimators=25 \n[CV]  features__cat__pca__n_components=3, features__num__selection__k=3, model__max_depth=None, model__n_estimators=25, score=0.542, total=   0.8s\n[CV] features__cat__pca__n_components=3, features__num__selection__k=3, model__max_depth=None, model__n_estimators=25 \n[CV]  features__cat__pca__n_components=3, features__num__selection__k=3, model__max_depth=None, model__n_estimators=25, score=0.566, total=   0.8s\n[CV] features__cat__pca__n_components=3, features__num__selection__k=3, model__max_depth=None, model__n_estimators=50 \n[CV]  features__cat__pca__n_components=3, features__num__selection__k=3, model__max_depth=None, model__n_estimators=50, score=0.562, total=   1.2s\n[CV] features__cat__pca__n_components=3, features__num__selection__k=3, model__max_depth=None, model__n_estimators=50 \n[CV]  features__cat__pca__n_components=3, features__num__selection__k=3, model__max_depth=None, model__n_estimators=50, score=0.548, total=   1.2s\n[CV] features__cat__pca__n_components=3, features__num__selection__k=3, model__max_depth=None, model__n_estimators=50 \n[CV]  features__cat__pca__n_components=3, features__num__selection__k=3, model__max_depth=None, model__n_estimators=50, score=0.511, total=   1.2s\n[CV] features__cat__pca__n_components=3, features__num__selection__k=3, model__max_depth=None, model__n_estimators=50 \n[CV]  features__cat__pca__n_components=3, features__num__selection__k=3, model__max_depth=None, model__n_estimators=50, score=0.544, total=   1.2s\n[CV] features__cat__pca__n_components=3, features__num__selection__k=3, model__max_depth=None, model__n_estimators=50 \n[CV]  features__cat__pca__n_components=3, features__num__selection__k=3, model__max_depth=None, model__n_estimators=50, score=0.565, total=   1.2s\n[CV] features__cat__pca__n_components=3, features__num__selection__k=3, model__max_depth=None, model__n_estimators=100 \n[CV]  features__cat__pca__n_components=3, features__num__selection__k=3, model__max_depth=None, model__n_estimators=100, score=0.566, total=   2.1s\n[CV] features__cat__pca__n_components=3, features__num__selection__k=3, model__max_depth=None, model__n_estimators=100 \n[CV]  features__cat__pca__n_components=3, features__num__selection__k=3, model__max_depth=None, model__n_estimators=100, score=0.549, total=   2.2s\n[CV] features__cat__pca__n_components=3, features__num__selection__k=3, model__max_depth=None, model__n_estimators=100 \n[CV]  features__cat__pca__n_components=3, features__num__selection__k=3, model__max_depth=None, model__n_estimators=100, score=0.509, total=   2.1s\n[CV] features__cat__pca__n_components=3, features__num__selection__k=3, model__max_depth=None, model__n_estimators=100 \n[CV]  features__cat__pca__n_components=3, features__num__selection__k=3, model__max_depth=None, model__n_estimators=100, score=0.549, total=   2.1s\n[CV] features__cat__pca__n_components=3, features__num__selection__k=3, model__max_depth=None, model__n_estimators=100 \n[CV]  features__cat__pca__n_components=3, features__num__selection__k=3, model__max_depth=None, model__n_estimators=100, score=0.567, total=   2.1s\n[CV] features__cat__pca__n_components=3, features__num__selection__k=3, model__max_depth=5, model__n_estimators=25 \n[CV]  features__cat__pca__n_components=3, features__num__selection__k=3, model__max_depth=5, model__n_estimators=25, score=0.590, total=   0.5s\n[CV] features__cat__pca__n_components=3, features__num__selection__k=3, model__max_depth=5, model__n_estimators=25 \n[CV]  features__cat__pca__n_components=3, features__num__selection__k=3, model__max_depth=5, model__n_estimators=25, score=0.565, total=   0.5s\n[CV] features__cat__pca__n_components=3, features__num__selection__k=3, model__max_depth=5, model__n_estimators=25 \n[CV]  features__cat__pca__n_components=3, features__num__selection__k=3, model__max_depth=5, model__n_estimators=25, score=0.553, total=   0.5s\n[CV] features__cat__pca__n_components=3, features__num__selection__k=3, model__max_depth=5, model__n_estimators=25 \n[CV]  features__cat__pca__n_components=3, features__num__selection__k=3, model__max_depth=5, model__n_estimators=25, score=0.594, total=   0.5s\n[CV] features__cat__pca__n_components=3, features__num__selection__k=3, model__max_depth=5, model__n_estimators=25 \n[CV]  features__cat__pca__n_components=3, features__num__selection__k=3, model__max_depth=5, model__n_estimators=25, score=0.597, total=   0.5s\n[CV] features__cat__pca__n_components=3, features__num__selection__k=3, model__max_depth=5, model__n_estimators=50 \n[CV]  features__cat__pca__n_components=3, features__num__selection__k=3, model__max_depth=5, model__n_estimators=50, score=0.597, total=   0.7s\n[CV] features__cat__pca__n_components=3, features__num__selection__k=3, model__max_depth=5, model__n_estimators=50 \n[CV]  features__cat__pca__n_components=3, features__num__selection__k=3, model__max_depth=5, model__n_estimators=50, score=0.574, total=   0.7s\n[CV] features__cat__pca__n_components=3, features__num__selection__k=3, model__max_depth=5, model__n_estimators=50 \n[CV]  features__cat__pca__n_components=3, features__num__selection__k=3, model__max_depth=5, model__n_estimators=50, score=0.555, total=   0.7s\n[CV] features__cat__pca__n_components=3, features__num__selection__k=3, model__max_depth=5, model__n_estimators=50 \n[CV]  features__cat__pca__n_components=3, features__num__selection__k=3, model__max_depth=5, model__n_estimators=50, score=0.593, total=   0.6s\n[CV] features__cat__pca__n_components=3, features__num__selection__k=3, model__max_depth=5, model__n_estimators=50 \n[CV]  features__cat__pca__n_components=3, features__num__selection__k=3, model__max_depth=5, model__n_estimators=50, score=0.597, total=   0.7s\n[CV] features__cat__pca__n_components=3, features__num__selection__k=3, model__max_depth=5, model__n_estimators=100 \n[CV]  features__cat__pca__n_components=3, features__num__selection__k=3, model__max_depth=5, model__n_estimators=100, score=0.596, total=   1.0s\n[CV] features__cat__pca__n_components=3, features__num__selection__k=3, model__max_depth=5, model__n_estimators=100 \n[CV]  features__cat__pca__n_components=3, features__num__selection__k=3, model__max_depth=5, model__n_estimators=100, score=0.574, total=   1.0s\n[CV] features__cat__pca__n_components=3, features__num__selection__k=3, model__max_depth=5, model__n_estimators=100 \n[CV]  features__cat__pca__n_components=3, features__num__selection__k=3, model__max_depth=5, model__n_estimators=100, score=0.555, total=   1.0s\n[CV] features__cat__pca__n_components=3, features__num__selection__k=3, model__max_depth=5, model__n_estimators=100 \n[CV]  features__cat__pca__n_components=3, features__num__selection__k=3, model__max_depth=5, model__n_estimators=100, score=0.590, total=   1.0s\n[CV] features__cat__pca__n_components=3, features__num__selection__k=3, model__max_depth=5, model__n_estimators=100 \n[CV]  features__cat__pca__n_components=3, features__num__selection__k=3, model__max_depth=5, model__n_estimators=100, score=0.600, total=   1.0s\n[CV] features__cat__pca__n_components=3, features__num__selection__k=3, model__max_depth=10, model__n_estimators=25 \n[CV]  features__cat__pca__n_components=3, features__num__selection__k=3, model__max_depth=10, model__n_estimators=25, score=0.588, total=   0.6s\n[CV] features__cat__pca__n_components=3, features__num__selection__k=3, model__max_depth=10, model__n_estimators=25 \n[CV]  features__cat__pca__n_components=3, features__num__selection__k=3, model__max_depth=10, model__n_estimators=25, score=0.581, total=   0.6s\n[CV] features__cat__pca__n_components=3, features__num__selection__k=3, model__max_depth=10, model__n_estimators=25 \n[CV]  features__cat__pca__n_components=3, features__num__selection__k=3, model__max_depth=10, model__n_estimators=25, score=0.540, total=   0.6s\n[CV] features__cat__pca__n_components=3, features__num__selection__k=3, model__max_depth=10, model__n_estimators=25 \n[CV]  features__cat__pca__n_components=3, features__num__selection__k=3, model__max_depth=10, model__n_estimators=25, score=0.577, total=   0.6s\n[CV] features__cat__pca__n_components=3, features__num__selection__k=3, model__max_depth=10, model__n_estimators=25 \n[CV]  features__cat__pca__n_components=3, features__num__selection__k=3, model__max_depth=10, model__n_estimators=25, score=0.592, total=   0.6s\n[CV] features__cat__pca__n_components=3, features__num__selection__k=3, model__max_depth=10, model__n_estimators=50 \n[CV]  features__cat__pca__n_components=3, features__num__selection__k=3, model__max_depth=10, model__n_estimators=50, score=0.595, total=   0.9s\n[CV] features__cat__pca__n_components=3, features__num__selection__k=3, model__max_depth=10, model__n_estimators=50 \n[CV]  features__cat__pca__n_components=3, features__num__selection__k=3, model__max_depth=10, model__n_estimators=50, score=0.579, total=   0.9s\n[CV] features__cat__pca__n_components=3, features__num__selection__k=3, model__max_depth=10, model__n_estimators=50 \n[CV]  features__cat__pca__n_components=3, features__num__selection__k=3, model__max_depth=10, model__n_estimators=50, score=0.543, total=   0.9s\n[CV] features__cat__pca__n_components=3, features__num__selection__k=3, model__max_depth=10, model__n_estimators=50 \n[CV]  features__cat__pca__n_components=3, features__num__selection__k=3, model__max_depth=10, model__n_estimators=50, score=0.581, total=   0.9s\n[CV] features__cat__pca__n_components=3, features__num__selection__k=3, model__max_depth=10, model__n_estimators=50 \n[CV]  features__cat__pca__n_components=3, features__num__selection__k=3, model__max_depth=10, model__n_estimators=50, score=0.595, total=   0.9s\n[CV] features__cat__pca__n_components=3, features__num__selection__k=3, model__max_depth=10, model__n_estimators=100 \n[CV]  features__cat__pca__n_components=3, features__num__selection__k=3, model__max_depth=10, model__n_estimators=100, score=0.594, total=   1.5s\n[CV] features__cat__pca__n_components=3, features__num__selection__k=3, model__max_depth=10, model__n_estimators=100 \n[CV]  features__cat__pca__n_components=3, features__num__selection__k=3, model__max_depth=10, model__n_estimators=100, score=0.583, total=   1.5s\n[CV] features__cat__pca__n_components=3, features__num__selection__k=3, model__max_depth=10, model__n_estimators=100 \n[CV]  features__cat__pca__n_components=3, features__num__selection__k=3, model__max_depth=10, model__n_estimators=100, score=0.542, total=   1.4s\n[CV] features__cat__pca__n_components=3, features__num__selection__k=3, model__max_depth=10, model__n_estimators=100 \n[CV]  features__cat__pca__n_components=3, features__num__selection__k=3, model__max_depth=10, model__n_estimators=100, score=0.582, total=   1.4s\n[CV] features__cat__pca__n_components=3, features__num__selection__k=3, model__max_depth=10, model__n_estimators=100 \n[CV]  features__cat__pca__n_components=3, features__num__selection__k=3, model__max_depth=10, model__n_estimators=100, score=0.595, total=   1.5s\n[CV] features__cat__pca__n_components=3, features__num__selection__k=3, model__max_depth=25, model__n_estimators=25 \n[CV]  features__cat__pca__n_components=3, features__num__selection__k=3, model__max_depth=25, model__n_estimators=25, score=0.552, total=   0.8s\n[CV] features__cat__pca__n_components=3, features__num__selection__k=3, model__max_depth=25, model__n_estimators=25 \n[CV]  features__cat__pca__n_components=3, features__num__selection__k=3, model__max_depth=25, model__n_estimators=25, score=0.544, total=   0.8s\n[CV] features__cat__pca__n_components=3, features__num__selection__k=3, model__max_depth=25, model__n_estimators=25 \n[CV]  features__cat__pca__n_components=3, features__num__selection__k=3, model__max_depth=25, model__n_estimators=25, score=0.490, total=   0.8s\n[CV] features__cat__pca__n_components=3, features__num__selection__k=3, model__max_depth=25, model__n_estimators=25 \n[CV]  features__cat__pca__n_components=3, features__num__selection__k=3, model__max_depth=25, model__n_estimators=25, score=0.534, total=   0.8s\n[CV] features__cat__pca__n_components=3, features__num__selection__k=3, model__max_depth=25, model__n_estimators=25 \n[CV]  features__cat__pca__n_components=3, features__num__selection__k=3, model__max_depth=25, model__n_estimators=25, score=0.552, total=   0.8s\n[CV] features__cat__pca__n_components=3, features__num__selection__k=3, model__max_depth=25, model__n_estimators=50 \n[CV]  features__cat__pca__n_components=3, features__num__selection__k=3, model__max_depth=25, model__n_estimators=50, score=0.569, total=   1.2s\n[CV] features__cat__pca__n_components=3, features__num__selection__k=3, model__max_depth=25, model__n_estimators=50 \n[CV]  features__cat__pca__n_components=3, features__num__selection__k=3, model__max_depth=25, model__n_estimators=50, score=0.548, total=   1.2s\n[CV] features__cat__pca__n_components=3, features__num__selection__k=3, model__max_depth=25, model__n_estimators=50 \n[CV]  features__cat__pca__n_components=3, features__num__selection__k=3, model__max_depth=25, model__n_estimators=50, score=0.497, total=   1.2s\n[CV] features__cat__pca__n_components=3, features__num__selection__k=3, model__max_depth=25, model__n_estimators=50 \n[CV]  features__cat__pca__n_components=3, features__num__selection__k=3, model__max_depth=25, model__n_estimators=50, score=0.549, total=   1.3s\n[CV] features__cat__pca__n_components=3, features__num__selection__k=3, model__max_depth=25, model__n_estimators=50 \n[CV]  features__cat__pca__n_components=3, features__num__selection__k=3, model__max_depth=25, model__n_estimators=50, score=0.571, total=   1.2s\n[CV] features__cat__pca__n_components=3, features__num__selection__k=3, model__max_depth=25, model__n_estimators=100 \n[CV]  features__cat__pca__n_components=3, features__num__selection__k=3, model__max_depth=25, model__n_estimators=100, score=0.569, total=   2.1s\n[CV] features__cat__pca__n_components=3, features__num__selection__k=3, model__max_depth=25, model__n_estimators=100 \n[CV]  features__cat__pca__n_components=3, features__num__selection__k=3, model__max_depth=25, model__n_estimators=100, score=0.554, total=   2.2s\n[CV] features__cat__pca__n_components=3, features__num__selection__k=3, model__max_depth=25, model__n_estimators=100 \n[CV]  features__cat__pca__n_components=3, features__num__selection__k=3, model__max_depth=25, model__n_estimators=100, score=0.502, total=   2.1s\n[CV] features__cat__pca__n_components=3, features__num__selection__k=3, model__max_depth=25, model__n_estimators=100 \n[CV]  features__cat__pca__n_components=3, features__num__selection__k=3, model__max_depth=25, model__n_estimators=100, score=0.554, total=   2.1s\n[CV] features__cat__pca__n_components=3, features__num__selection__k=3, model__max_depth=25, model__n_estimators=100 \n[CV]  features__cat__pca__n_components=3, features__num__selection__k=3, model__max_depth=25, model__n_estimators=100, score=0.572, total=   2.1s\n[Parallel(n_jobs=1)]: Done 540 out of 540 | elapsed:  8.4min finished\nFinal score is:  0.5763102888853869\n"
    }
   ],
   "source": [
    "tuned_model = GridSearchCV(model2,param_grid,verbose=5, refit=True).fit(df_train,y_train)"
   ]
  },
  {
   "cell_type": "code",
   "execution_count": 61,
   "metadata": {
    "tags": []
   },
   "outputs": [
    {
     "output_type": "stream",
     "name": "stdout",
     "text": "Final score is:  0.5763102888853869\nBest parameters are:  {'features__cat__pca__n_components': 1, 'features__num__selection__k': 3, 'model__max_depth': 5, 'model__n_estimators': 100}\n"
    }
   ],
   "source": [
    "print('Final score is: ', tuned_model.score(df_test, y_test))\n",
    "print('Best parameters are: ', tuned_model.best_params_)"
   ]
  },
  {
   "cell_type": "code",
   "execution_count": 62,
   "metadata": {
    "tags": [
     "outputPrepend"
    ]
   },
   "outputs": [
    {
     "output_type": "stream",
     "name": "stdout",
     "text": "el__learning_rate=1, model__max_depth=10, model__n_estimators=100, model__subsample=0.25 \n[CV]  features__cat__pca__n_components=4, features__num__selection__k=4, model__learning_rate=1, model__max_depth=10, model__n_estimators=100, model__subsample=0.25, score=-226557176.235, total=   0.9s\n[CV] features__cat__pca__n_components=4, features__num__selection__k=4, model__learning_rate=1, model__max_depth=10, model__n_estimators=100, model__subsample=0.5 \n[CV]  features__cat__pca__n_components=4, features__num__selection__k=4, model__learning_rate=1, model__max_depth=10, model__n_estimators=100, model__subsample=0.5, score=-9.427, total=   1.4s\n[CV] features__cat__pca__n_components=4, features__num__selection__k=4, model__learning_rate=1, model__max_depth=10, model__n_estimators=100, model__subsample=0.5 \n[CV]  features__cat__pca__n_components=4, features__num__selection__k=4, model__learning_rate=1, model__max_depth=10, model__n_estimators=100, model__subsample=0.5, score=-7.186, total=   1.4s\n[CV] features__cat__pca__n_components=4, features__num__selection__k=4, model__learning_rate=1, model__max_depth=10, model__n_estimators=100, model__subsample=0.5 \n[CV]  features__cat__pca__n_components=4, features__num__selection__k=4, model__learning_rate=1, model__max_depth=10, model__n_estimators=100, model__subsample=0.5, score=-7.850, total=   1.4s\n[CV] features__cat__pca__n_components=4, features__num__selection__k=4, model__learning_rate=1, model__max_depth=10, model__n_estimators=100, model__subsample=0.5 \n[CV]  features__cat__pca__n_components=4, features__num__selection__k=4, model__learning_rate=1, model__max_depth=10, model__n_estimators=100, model__subsample=0.5, score=-5.852, total=   1.3s\n[CV] features__cat__pca__n_components=4, features__num__selection__k=4, model__learning_rate=1, model__max_depth=10, model__n_estimators=100, model__subsample=0.5 \n[CV]  features__cat__pca__n_components=4, features__num__selection__k=4, model__learning_rate=1, model__max_depth=10, model__n_estimators=100, model__subsample=0.5, score=-6.192, total=   1.4s\n[CV] features__cat__pca__n_components=4, features__num__selection__k=4, model__learning_rate=1, model__max_depth=10, model__n_estimators=100, model__subsample=1 \n[CV]  features__cat__pca__n_components=4, features__num__selection__k=4, model__learning_rate=1, model__max_depth=10, model__n_estimators=100, model__subsample=1, score=0.202, total=   2.4s\n[CV] features__cat__pca__n_components=4, features__num__selection__k=4, model__learning_rate=1, model__max_depth=10, model__n_estimators=100, model__subsample=1 \n[CV]  features__cat__pca__n_components=4, features__num__selection__k=4, model__learning_rate=1, model__max_depth=10, model__n_estimators=100, model__subsample=1, score=0.207, total=   2.3s\n[CV] features__cat__pca__n_components=4, features__num__selection__k=4, model__learning_rate=1, model__max_depth=10, model__n_estimators=100, model__subsample=1 \n[CV]  features__cat__pca__n_components=4, features__num__selection__k=4, model__learning_rate=1, model__max_depth=10, model__n_estimators=100, model__subsample=1, score=0.065, total=   2.2s\n[CV] features__cat__pca__n_components=4, features__num__selection__k=4, model__learning_rate=1, model__max_depth=10, model__n_estimators=100, model__subsample=1 \n[CV]  features__cat__pca__n_components=4, features__num__selection__k=4, model__learning_rate=1, model__max_depth=10, model__n_estimators=100, model__subsample=1, score=0.163, total=   2.2s\n[CV] features__cat__pca__n_components=4, features__num__selection__k=4, model__learning_rate=1, model__max_depth=10, model__n_estimators=100, model__subsample=1 \n[CV]  features__cat__pca__n_components=4, features__num__selection__k=4, model__learning_rate=1, model__max_depth=10, model__n_estimators=100, model__subsample=1, score=0.212, total=   2.2s\n[CV] features__cat__pca__n_components=4, features__num__selection__k=4, model__learning_rate=1, model__max_depth=25, model__n_estimators=25, model__subsample=0.25 \n[CV]  features__cat__pca__n_components=4, features__num__selection__k=4, model__learning_rate=1, model__max_depth=25, model__n_estimators=25, model__subsample=0.25, score=-4029.285, total=   0.5s\n[CV] features__cat__pca__n_components=4, features__num__selection__k=4, model__learning_rate=1, model__max_depth=25, model__n_estimators=25, model__subsample=0.25 \n[CV]  features__cat__pca__n_components=4, features__num__selection__k=4, model__learning_rate=1, model__max_depth=25, model__n_estimators=25, model__subsample=0.25, score=-6248.310, total=   0.6s\n[CV] features__cat__pca__n_components=4, features__num__selection__k=4, model__learning_rate=1, model__max_depth=25, model__n_estimators=25, model__subsample=0.25 \n[CV]  features__cat__pca__n_components=4, features__num__selection__k=4, model__learning_rate=1, model__max_depth=25, model__n_estimators=25, model__subsample=0.25, score=-2805.382, total=   0.5s\n[CV] features__cat__pca__n_components=4, features__num__selection__k=4, model__learning_rate=1, model__max_depth=25, model__n_estimators=25, model__subsample=0.25 \n[CV]  features__cat__pca__n_components=4, features__num__selection__k=4, model__learning_rate=1, model__max_depth=25, model__n_estimators=25, model__subsample=0.25, score=-4985.087, total=   0.5s\n[CV] features__cat__pca__n_components=4, features__num__selection__k=4, model__learning_rate=1, model__max_depth=25, model__n_estimators=25, model__subsample=0.25 \n[CV]  features__cat__pca__n_components=4, features__num__selection__k=4, model__learning_rate=1, model__max_depth=25, model__n_estimators=25, model__subsample=0.25, score=-3733.417, total=   0.5s\n[CV] features__cat__pca__n_components=4, features__num__selection__k=4, model__learning_rate=1, model__max_depth=25, model__n_estimators=25, model__subsample=0.5 \n[CV]  features__cat__pca__n_components=4, features__num__selection__k=4, model__learning_rate=1, model__max_depth=25, model__n_estimators=25, model__subsample=0.5, score=-10.214, total=   0.8s\n[CV] features__cat__pca__n_components=4, features__num__selection__k=4, model__learning_rate=1, model__max_depth=25, model__n_estimators=25, model__subsample=0.5 \n[CV]  features__cat__pca__n_components=4, features__num__selection__k=4, model__learning_rate=1, model__max_depth=25, model__n_estimators=25, model__subsample=0.5, score=-6.482, total=   0.8s\n[CV] features__cat__pca__n_components=4, features__num__selection__k=4, model__learning_rate=1, model__max_depth=25, model__n_estimators=25, model__subsample=0.5 \n[CV]  features__cat__pca__n_components=4, features__num__selection__k=4, model__learning_rate=1, model__max_depth=25, model__n_estimators=25, model__subsample=0.5, score=-13.424, total=   0.8s\n[CV] features__cat__pca__n_components=4, features__num__selection__k=4, model__learning_rate=1, model__max_depth=25, model__n_estimators=25, model__subsample=0.5 \n[CV]  features__cat__pca__n_components=4, features__num__selection__k=4, model__learning_rate=1, model__max_depth=25, model__n_estimators=25, model__subsample=0.5, score=-12.315, total=   0.8s\n[CV] features__cat__pca__n_components=4, features__num__selection__k=4, model__learning_rate=1, model__max_depth=25, model__n_estimators=25, model__subsample=0.5 \n[CV]  features__cat__pca__n_components=4, features__num__selection__k=4, model__learning_rate=1, model__max_depth=25, model__n_estimators=25, model__subsample=0.5, score=-8.206, total=   0.8s\n[CV] features__cat__pca__n_components=4, features__num__selection__k=4, model__learning_rate=1, model__max_depth=25, model__n_estimators=25, model__subsample=1 \n[CV]  features__cat__pca__n_components=4, features__num__selection__k=4, model__learning_rate=1, model__max_depth=25, model__n_estimators=25, model__subsample=1, score=0.243, total=   0.4s\n[CV] features__cat__pca__n_components=4, features__num__selection__k=4, model__learning_rate=1, model__max_depth=25, model__n_estimators=25, model__subsample=1 \n[CV]  features__cat__pca__n_components=4, features__num__selection__k=4, model__learning_rate=1, model__max_depth=25, model__n_estimators=25, model__subsample=1, score=0.189, total=   0.4s\n[CV] features__cat__pca__n_components=4, features__num__selection__k=4, model__learning_rate=1, model__max_depth=25, model__n_estimators=25, model__subsample=1 \n[CV]  features__cat__pca__n_components=4, features__num__selection__k=4, model__learning_rate=1, model__max_depth=25, model__n_estimators=25, model__subsample=1, score=0.100, total=   0.4s\n[CV] features__cat__pca__n_components=4, features__num__selection__k=4, model__learning_rate=1, model__max_depth=25, model__n_estimators=25, model__subsample=1 \n[CV]  features__cat__pca__n_components=4, features__num__selection__k=4, model__learning_rate=1, model__max_depth=25, model__n_estimators=25, model__subsample=1, score=0.141, total=   0.4s\n[CV] features__cat__pca__n_components=4, features__num__selection__k=4, model__learning_rate=1, model__max_depth=25, model__n_estimators=25, model__subsample=1 \n[CV]  features__cat__pca__n_components=4, features__num__selection__k=4, model__learning_rate=1, model__max_depth=25, model__n_estimators=25, model__subsample=1, score=0.146, total=   0.4s\n[CV] features__cat__pca__n_components=4, features__num__selection__k=4, model__learning_rate=1, model__max_depth=25, model__n_estimators=50, model__subsample=0.25 \n[CV]  features__cat__pca__n_components=4, features__num__selection__k=4, model__learning_rate=1, model__max_depth=25, model__n_estimators=50, model__subsample=0.25, score=-18290217.576, total=   0.8s\n[CV] features__cat__pca__n_components=4, features__num__selection__k=4, model__learning_rate=1, model__max_depth=25, model__n_estimators=50, model__subsample=0.25 \n[CV]  features__cat__pca__n_components=4, features__num__selection__k=4, model__learning_rate=1, model__max_depth=25, model__n_estimators=50, model__subsample=0.25, score=-12473379.683, total=   0.8s\n[CV] features__cat__pca__n_components=4, features__num__selection__k=4, model__learning_rate=1, model__max_depth=25, model__n_estimators=50, model__subsample=0.25 \n[CV]  features__cat__pca__n_components=4, features__num__selection__k=4, model__learning_rate=1, model__max_depth=25, model__n_estimators=50, model__subsample=0.25, score=-10372121.859, total=   0.8s\n[CV] features__cat__pca__n_components=4, features__num__selection__k=4, model__learning_rate=1, model__max_depth=25, model__n_estimators=50, model__subsample=0.25 \n[CV]  features__cat__pca__n_components=4, features__num__selection__k=4, model__learning_rate=1, model__max_depth=25, model__n_estimators=50, model__subsample=0.25, score=-20665297.190, total=   0.8s\n[CV] features__cat__pca__n_components=4, features__num__selection__k=4, model__learning_rate=1, model__max_depth=25, model__n_estimators=50, model__subsample=0.25 \n[CV]  features__cat__pca__n_components=4, features__num__selection__k=4, model__learning_rate=1, model__max_depth=25, model__n_estimators=50, model__subsample=0.25, score=-15455858.659, total=   0.8s\n[CV] features__cat__pca__n_components=4, features__num__selection__k=4, model__learning_rate=1, model__max_depth=25, model__n_estimators=50, model__subsample=0.5 \n[CV]  features__cat__pca__n_components=4, features__num__selection__k=4, model__learning_rate=1, model__max_depth=25, model__n_estimators=50, model__subsample=0.5, score=-9.670, total=   1.5s\n[CV] features__cat__pca__n_components=4, features__num__selection__k=4, model__learning_rate=1, model__max_depth=25, model__n_estimators=50, model__subsample=0.5 \n[CV]  features__cat__pca__n_components=4, features__num__selection__k=4, model__learning_rate=1, model__max_depth=25, model__n_estimators=50, model__subsample=0.5, score=-9.196, total=   1.5s\n[CV] features__cat__pca__n_components=4, features__num__selection__k=4, model__learning_rate=1, model__max_depth=25, model__n_estimators=50, model__subsample=0.5 \n[CV]  features__cat__pca__n_components=4, features__num__selection__k=4, model__learning_rate=1, model__max_depth=25, model__n_estimators=50, model__subsample=0.5, score=-16.175, total=   1.4s\n[CV] features__cat__pca__n_components=4, features__num__selection__k=4, model__learning_rate=1, model__max_depth=25, model__n_estimators=50, model__subsample=0.5 \n[CV]  features__cat__pca__n_components=4, features__num__selection__k=4, model__learning_rate=1, model__max_depth=25, model__n_estimators=50, model__subsample=0.5, score=-14.938, total=   1.5s\n[CV] features__cat__pca__n_components=4, features__num__selection__k=4, model__learning_rate=1, model__max_depth=25, model__n_estimators=50, model__subsample=0.5 \n[CV]  features__cat__pca__n_components=4, features__num__selection__k=4, model__learning_rate=1, model__max_depth=25, model__n_estimators=50, model__subsample=0.5, score=-11.598, total=   1.5s\n[CV] features__cat__pca__n_components=4, features__num__selection__k=4, model__learning_rate=1, model__max_depth=25, model__n_estimators=50, model__subsample=1 \n[CV]  features__cat__pca__n_components=4, features__num__selection__k=4, model__learning_rate=1, model__max_depth=25, model__n_estimators=50, model__subsample=1, score=0.249, total=   0.4s\n[CV] features__cat__pca__n_components=4, features__num__selection__k=4, model__learning_rate=1, model__max_depth=25, model__n_estimators=50, model__subsample=1 \n[CV]  features__cat__pca__n_components=4, features__num__selection__k=4, model__learning_rate=1, model__max_depth=25, model__n_estimators=50, model__subsample=1, score=0.188, total=   0.4s\n[CV] features__cat__pca__n_components=4, features__num__selection__k=4, model__learning_rate=1, model__max_depth=25, model__n_estimators=50, model__subsample=1 \n[CV]  features__cat__pca__n_components=4, features__num__selection__k=4, model__learning_rate=1, model__max_depth=25, model__n_estimators=50, model__subsample=1, score=0.089, total=   0.5s\n[CV] features__cat__pca__n_components=4, features__num__selection__k=4, model__learning_rate=1, model__max_depth=25, model__n_estimators=50, model__subsample=1 \n[CV]  features__cat__pca__n_components=4, features__num__selection__k=4, model__learning_rate=1, model__max_depth=25, model__n_estimators=50, model__subsample=1, score=0.103, total=   0.5s\n[CV] features__cat__pca__n_components=4, features__num__selection__k=4, model__learning_rate=1, model__max_depth=25, model__n_estimators=50, model__subsample=1 \n[CV]  features__cat__pca__n_components=4, features__num__selection__k=4, model__learning_rate=1, model__max_depth=25, model__n_estimators=50, model__subsample=1, score=0.157, total=   0.5s\n[CV] features__cat__pca__n_components=4, features__num__selection__k=4, model__learning_rate=1, model__max_depth=25, model__n_estimators=100, model__subsample=0.25 \n[CV]  features__cat__pca__n_components=4, features__num__selection__k=4, model__learning_rate=1, model__max_depth=25, model__n_estimators=100, model__subsample=0.25, score=-106299697317365.422, total=   1.6s\n[CV] features__cat__pca__n_components=4, features__num__selection__k=4, model__learning_rate=1, model__max_depth=25, model__n_estimators=100, model__subsample=0.25 \n[CV]  features__cat__pca__n_components=4, features__num__selection__k=4, model__learning_rate=1, model__max_depth=25, model__n_estimators=100, model__subsample=0.25, score=-29560820415236.910, total=   1.6s\n[CV] features__cat__pca__n_components=4, features__num__selection__k=4, model__learning_rate=1, model__max_depth=25, model__n_estimators=100, model__subsample=0.25 \n[CV]  features__cat__pca__n_components=4, features__num__selection__k=4, model__learning_rate=1, model__max_depth=25, model__n_estimators=100, model__subsample=0.25, score=-207965175977672.875, total=   1.5s\n[CV] features__cat__pca__n_components=4, features__num__selection__k=4, model__learning_rate=1, model__max_depth=25, model__n_estimators=100, model__subsample=0.25 \n[CV]  features__cat__pca__n_components=4, features__num__selection__k=4, model__learning_rate=1, model__max_depth=25, model__n_estimators=100, model__subsample=0.25, score=-150404069315479.750, total=   1.6s\n[CV] features__cat__pca__n_components=4, features__num__selection__k=4, model__learning_rate=1, model__max_depth=25, model__n_estimators=100, model__subsample=0.25 \n[CV]  features__cat__pca__n_components=4, features__num__selection__k=4, model__learning_rate=1, model__max_depth=25, model__n_estimators=100, model__subsample=0.25, score=-360437130500488.250, total=   1.5s\n[CV] features__cat__pca__n_components=4, features__num__selection__k=4, model__learning_rate=1, model__max_depth=25, model__n_estimators=100, model__subsample=0.5 \n[CV]  features__cat__pca__n_components=4, features__num__selection__k=4, model__learning_rate=1, model__max_depth=25, model__n_estimators=100, model__subsample=0.5, score=-12.106, total=   2.9s\n[CV] features__cat__pca__n_components=4, features__num__selection__k=4, model__learning_rate=1, model__max_depth=25, model__n_estimators=100, model__subsample=0.5 \n[CV]  features__cat__pca__n_components=4, features__num__selection__k=4, model__learning_rate=1, model__max_depth=25, model__n_estimators=100, model__subsample=0.5, score=-15.775, total=   2.8s\n[CV] features__cat__pca__n_components=4, features__num__selection__k=4, model__learning_rate=1, model__max_depth=25, model__n_estimators=100, model__subsample=0.5 \n[CV]  features__cat__pca__n_components=4, features__num__selection__k=4, model__learning_rate=1, model__max_depth=25, model__n_estimators=100, model__subsample=0.5, score=-13.286, total=   2.7s\n[CV] features__cat__pca__n_components=4, features__num__selection__k=4, model__learning_rate=1, model__max_depth=25, model__n_estimators=100, model__subsample=0.5 \n[CV]  features__cat__pca__n_components=4, features__num__selection__k=4, model__learning_rate=1, model__max_depth=25, model__n_estimators=100, model__subsample=0.5, score=-11.377, total=   2.6s\n[CV] features__cat__pca__n_components=4, features__num__selection__k=4, model__learning_rate=1, model__max_depth=25, model__n_estimators=100, model__subsample=0.5 \n[CV]  features__cat__pca__n_components=4, features__num__selection__k=4, model__learning_rate=1, model__max_depth=25, model__n_estimators=100, model__subsample=0.5, score=-17.193, total=   2.7s\n[CV] features__cat__pca__n_components=4, features__num__selection__k=4, model__learning_rate=1, model__max_depth=25, model__n_estimators=100, model__subsample=1 \n[CV]  features__cat__pca__n_components=4, features__num__selection__k=4, model__learning_rate=1, model__max_depth=25, model__n_estimators=100, model__subsample=1, score=0.225, total=   0.5s\n[CV] features__cat__pca__n_components=4, features__num__selection__k=4, model__learning_rate=1, model__max_depth=25, model__n_estimators=100, model__subsample=1 \n[CV]  features__cat__pca__n_components=4, features__num__selection__k=4, model__learning_rate=1, model__max_depth=25, model__n_estimators=100, model__subsample=1, score=0.178, total=   0.5s\n[CV] features__cat__pca__n_components=4, features__num__selection__k=4, model__learning_rate=1, model__max_depth=25, model__n_estimators=100, model__subsample=1 \n[CV]  features__cat__pca__n_components=4, features__num__selection__k=4, model__learning_rate=1, model__max_depth=25, model__n_estimators=100, model__subsample=1, score=0.065, total=   0.5s\n[CV] features__cat__pca__n_components=4, features__num__selection__k=4, model__learning_rate=1, model__max_depth=25, model__n_estimators=100, model__subsample=1 \n[CV]  features__cat__pca__n_components=4, features__num__selection__k=4, model__learning_rate=1, model__max_depth=25, model__n_estimators=100, model__subsample=1, score=0.136, total=   0.6s\n[CV] features__cat__pca__n_components=4, features__num__selection__k=4, model__learning_rate=1, model__max_depth=25, model__n_estimators=100, model__subsample=1 \n[CV]  features__cat__pca__n_components=4, features__num__selection__k=4, model__learning_rate=1, model__max_depth=25, model__n_estimators=100, model__subsample=1, score=0.181, total=   0.5s\n[Parallel(n_jobs=1)]: Done 8640 out of 8640 | elapsed: 132.3min finished\n"
    }
   ],
   "source": [
    "param_grid = {\"features__num__selection__k\":[1,2,3,4],\n",
    "                'features__cat__pca__n_components': [1,2,3,4],\n",
    "                'model__learning_rate':[0.01,0.1,1],\n",
    "                'model__n_estimators':[25,50,100],\n",
    "                'model__subsample':[.25,.50,1],\n",
    "                'model__max_depth':[None, 5, 10, 25]\n",
    "                }\n",
    "tuned_model = GridSearchCV(model3,param_grid,verbose=5, refit=True).fit(df_train,y_train)"
   ]
  },
  {
   "cell_type": "code",
   "execution_count": 63,
   "metadata": {
    "tags": []
   },
   "outputs": [
    {
     "output_type": "stream",
     "name": "stdout",
     "text": "Final score is:  0.587092249794028\nBest parameters are:  {'features__cat__pca__n_components': 2, 'features__num__selection__k': 4, 'model__learning_rate': 0.1, 'model__max_depth': 5, 'model__n_estimators': 25, 'model__subsample': 0.5}\n"
    }
   ],
   "source": [
    "\n",
    "print('Final score is: ', tuned_model.score(df_test, y_test))\n",
    "print('Best parameters are: ', tuned_model.best_params_)"
   ]
  },
  {
   "cell_type": "code",
   "execution_count": null,
   "metadata": {},
   "outputs": [],
   "source": []
  }
 ],
 "metadata": {
  "anaconda-cloud": {},
  "kernelspec": {
   "display_name": "Python 3",
   "language": "python",
   "name": "python3"
  },
  "language_info": {
   "codemirror_mode": {
    "name": "ipython",
    "version": 3
   },
   "file_extension": ".py",
   "mimetype": "text/x-python",
   "name": "python",
   "nbconvert_exporter": "python",
   "pygments_lexer": "ipython3",
   "version": "3.8.5-final"
  }
 },
 "nbformat": 4,
 "nbformat_minor": 4
}