{
 "cells": [
  {
   "cell_type": "markdown",
   "metadata": {},
   "source": [
    "## Advanced tuning of parameters\n",
    "\n",
    "In this tutorial, we will apply skills from previous tutorials and build the classifier using Pipelines and FeatureUnion"
   ]
  },
  {
   "cell_type": "code",
   "execution_count": 13,
   "metadata": {
    "ExecuteTime": {
     "end_time": "2020-04-27T12:42:41.683438Z",
     "start_time": "2020-04-27T12:42:40.277500Z"
    }
   },
   "outputs": [],
   "source": [
    "# IMPORT PACKAGES\n",
    "import pandas as pd\n",
    "\n",
    "from sklearn.model_selection import GridSearchCV\n",
    "from sklearn.pipeline import Pipeline, FeatureUnion\n",
    "from sklearn.model_selection import train_test_split\n",
    "\n",
    "from sklearn.decomposition import PCA\n",
    "from sklearn.feature_selection import SelectKBest\n",
    "from sklearn.ensemble import RandomForestClassifier"
   ]
  },
  {
   "cell_type": "code",
   "execution_count": null,
   "metadata": {},
   "outputs": [],
   "source": []
  },
  {
   "cell_type": "markdown",
   "metadata": {},
   "source": [
    "### Data\n",
    "We will use data about diabetes. We will build a classifier that predicts whether person has a diabetes or no using information about his health. The dataset can be found [here](https://drive.google.com/file/d/1TvCKlmH3Z32XAKk-VUcZyYu95Ccyw3PO/view?usp=sharing)."
   ]
  },
  {
   "cell_type": "code",
   "execution_count": 3,
   "metadata": {
    "ExecuteTime": {
     "end_time": "2020-04-27T12:42:42.514840Z",
     "start_time": "2020-04-27T12:42:42.076342Z"
    }
   },
   "outputs": [
    {
     "output_type": "execute_result",
     "data": {
      "text/plain": "   preg  plas  pres  skin  test  mass   pedi  age  class\n0     6   148    72    35     0  33.6  0.627   50      1\n1     1    85    66    29     0  26.6  0.351   31      0\n2     8   183    64     0     0  23.3  0.672   32      1\n3     1    89    66    23    94  28.1  0.167   21      0\n4     0   137    40    35   168  43.1  2.288   33      1",
      "text/html": "<div>\n<style scoped>\n    .dataframe tbody tr th:only-of-type {\n        vertical-align: middle;\n    }\n\n    .dataframe tbody tr th {\n        vertical-align: top;\n    }\n\n    .dataframe thead th {\n        text-align: right;\n    }\n</style>\n<table border=\"1\" class=\"dataframe\">\n  <thead>\n    <tr style=\"text-align: right;\">\n      <th></th>\n      <th>preg</th>\n      <th>plas</th>\n      <th>pres</th>\n      <th>skin</th>\n      <th>test</th>\n      <th>mass</th>\n      <th>pedi</th>\n      <th>age</th>\n      <th>class</th>\n    </tr>\n  </thead>\n  <tbody>\n    <tr>\n      <th>0</th>\n      <td>6</td>\n      <td>148</td>\n      <td>72</td>\n      <td>35</td>\n      <td>0</td>\n      <td>33.6</td>\n      <td>0.627</td>\n      <td>50</td>\n      <td>1</td>\n    </tr>\n    <tr>\n      <th>1</th>\n      <td>1</td>\n      <td>85</td>\n      <td>66</td>\n      <td>29</td>\n      <td>0</td>\n      <td>26.6</td>\n      <td>0.351</td>\n      <td>31</td>\n      <td>0</td>\n    </tr>\n    <tr>\n      <th>2</th>\n      <td>8</td>\n      <td>183</td>\n      <td>64</td>\n      <td>0</td>\n      <td>0</td>\n      <td>23.3</td>\n      <td>0.672</td>\n      <td>32</td>\n      <td>1</td>\n    </tr>\n    <tr>\n      <th>3</th>\n      <td>1</td>\n      <td>89</td>\n      <td>66</td>\n      <td>23</td>\n      <td>94</td>\n      <td>28.1</td>\n      <td>0.167</td>\n      <td>21</td>\n      <td>0</td>\n    </tr>\n    <tr>\n      <th>4</th>\n      <td>0</td>\n      <td>137</td>\n      <td>40</td>\n      <td>35</td>\n      <td>168</td>\n      <td>43.1</td>\n      <td>2.288</td>\n      <td>33</td>\n      <td>1</td>\n    </tr>\n  </tbody>\n</table>\n</div>"
     },
     "metadata": {},
     "execution_count": 3
    }
   ],
   "source": [
    "col_names = ['preg', 'plas', 'pres', 'skin', 'test', 'mass', 'pedi', 'age', 'class']\n",
    "df = pd.read_csv('pima-indians-diabetes.csv',sep=\";\")\n",
    "df.head()"
   ]
  },
  {
   "cell_type": "code",
   "execution_count": 14,
   "metadata": {},
   "outputs": [],
   "source": [
    "X, y = df[col_names[0:-1]], df[col_names[-1]]\n",
    "X_train, X_test, y_train, y_test = train_test_split(X,y, test_size=0.3, random_state=0)"
   ]
  },
  {
   "cell_type": "markdown",
   "metadata": {},
   "source": [
    "### Task\n",
    "\n",
    "Build classifier which predicts target variable `class` using rest of the attributes. The model should be fitted using pipeline that contains:\n",
    "- PCA method\n",
    "- SelectKBest method\n",
    "- FeatureUnion\n",
    "- Random Forest\n",
    "\n",
    "Choose the best set of parameters using `Pipeline` and grid_search."
   ]
  },
  {
   "cell_type": "code",
   "execution_count": 15,
   "metadata": {
    "ExecuteTime": {
     "end_time": "2020-03-19T08:47:53.792413Z",
     "start_time": "2020-03-19T08:47:53.786003Z"
    }
   },
   "outputs": [],
   "source": [
    "pca = PCA()\n",
    "selection = SelectKBest()\n",
    "\n",
    "combined_features = FeatureUnion([(\"pca\",pca), ('univ_select', selection)])\n",
    "rndmF = RandomForestClassifier()"
   ]
  },
  {
   "cell_type": "code",
   "execution_count": 16,
   "metadata": {
    "tags": [
     "outputPrepend"
    ]
   },
   "outputs": [
    {
     "output_type": "stream",
     "name": "stdout",
     "text": " rndmF__n_estimators=50 \n[CV]  features__pca__n_components=3, features__univ_select__k=2, rndmF__max_depth=10, rndmF__n_estimators=50, score=0.748, total=   0.1s\n[CV] features__pca__n_components=3, features__univ_select__k=2, rndmF__max_depth=10, rndmF__n_estimators=100 \n[CV]  features__pca__n_components=3, features__univ_select__k=2, rndmF__max_depth=10, rndmF__n_estimators=100, score=0.731, total=   0.1s\n[CV] features__pca__n_components=3, features__univ_select__k=2, rndmF__max_depth=10, rndmF__n_estimators=100 \n[CV]  features__pca__n_components=3, features__univ_select__k=2, rndmF__max_depth=10, rndmF__n_estimators=100, score=0.722, total=   0.2s\n[CV] features__pca__n_components=3, features__univ_select__k=2, rndmF__max_depth=10, rndmF__n_estimators=100 \n[CV]  features__pca__n_components=3, features__univ_select__k=2, rndmF__max_depth=10, rndmF__n_estimators=100, score=0.738, total=   0.2s\n[CV] features__pca__n_components=3, features__univ_select__k=2, rndmF__max_depth=10, rndmF__n_estimators=100 \n[CV]  features__pca__n_components=3, features__univ_select__k=2, rndmF__max_depth=10, rndmF__n_estimators=100, score=0.664, total=   0.2s\n[CV] features__pca__n_components=3, features__univ_select__k=2, rndmF__max_depth=10, rndmF__n_estimators=100 \n[CV]  features__pca__n_components=3, features__univ_select__k=2, rndmF__max_depth=10, rndmF__n_estimators=100, score=0.738, total=   0.1s\n[CV] features__pca__n_components=3, features__univ_select__k=2, rndmF__max_depth=25, rndmF__n_estimators=25 \n[CV]  features__pca__n_components=3, features__univ_select__k=2, rndmF__max_depth=25, rndmF__n_estimators=25, score=0.722, total=   0.0s\n[CV] features__pca__n_components=3, features__univ_select__k=2, rndmF__max_depth=25, rndmF__n_estimators=25\n[CV]  features__pca__n_components=3, features__univ_select__k=2, rndmF__max_depth=25, rndmF__n_estimators=25, score=0.731, total=   0.1s\n[CV] features__pca__n_components=3, features__univ_select__k=2, rndmF__max_depth=25, rndmF__n_estimators=25 \n[CV]  features__pca__n_components=3, features__univ_select__k=2, rndmF__max_depth=25, rndmF__n_estimators=25, score=0.729, total=   0.1s\n[CV] features__pca__n_components=3, features__univ_select__k=2, rndmF__max_depth=25, rndmF__n_estimators=25 \n[CV]  features__pca__n_components=3, features__univ_select__k=2, rndmF__max_depth=25, rndmF__n_estimators=25, score=0.673, total=   0.1s\n[CV] features__pca__n_components=3, features__univ_select__k=2, rndmF__max_depth=25, rndmF__n_estimators=25 \n[CV]  features__pca__n_components=3, features__univ_select__k=2, rndmF__max_depth=25, rndmF__n_estimators=25, score=0.729, total=   0.1s\n[CV] features__pca__n_components=3, features__univ_select__k=2, rndmF__max_depth=25, rndmF__n_estimators=50 \n[CV]  features__pca__n_components=3, features__univ_select__k=2, rndmF__max_depth=25, rndmF__n_estimators=50, score=0.741, total=   0.1s\n[CV] features__pca__n_components=3, features__univ_select__k=2, rndmF__max_depth=25, rndmF__n_estimators=50 \n[CV]  features__pca__n_components=3, features__univ_select__k=2, rndmF__max_depth=25, rndmF__n_estimators=50, score=0.704, total=   0.1s\n[CV] features__pca__n_components=3, features__univ_select__k=2, rndmF__max_depth=25, rndmF__n_estimators=50 \n[CV]  features__pca__n_components=3, features__univ_select__k=2, rndmF__max_depth=25, rndmF__n_estimators=50, score=0.710, total=   0.1s\n[CV] features__pca__n_components=3, features__univ_select__k=2, rndmF__max_depth=25, rndmF__n_estimators=50 \n[CV]  features__pca__n_components=3, features__univ_select__k=2, rndmF__max_depth=25, rndmF__n_estimators=50, score=0.682, total=   0.1s\n[CV] features__pca__n_components=3, features__univ_select__k=2, rndmF__max_depth=25, rndmF__n_estimators=50 \n[CV]  features__pca__n_components=3, features__univ_select__k=2, rndmF__max_depth=25, rndmF__n_estimators=50, score=0.738, total=   0.1s\n[CV] features__pca__n_components=3, features__univ_select__k=2, rndmF__max_depth=25, rndmF__n_estimators=100 \n[CV]  features__pca__n_components=3, features__univ_select__k=2, rndmF__max_depth=25, rndmF__n_estimators=100, score=0.722, total=   0.2s\n[CV] features__pca__n_components=3, features__univ_select__k=2, rndmF__max_depth=25, rndmF__n_estimators=100 \n[CV]  features__pca__n_components=3, features__univ_select__k=2, rndmF__max_depth=25, rndmF__n_estimators=100, score=0.722, total=   0.2s\n[CV] features__pca__n_components=3, features__univ_select__k=2, rndmF__max_depth=25, rndmF__n_estimators=100 \n[CV]  features__pca__n_components=3, features__univ_select__k=2, rndmF__max_depth=25, rndmF__n_estimators=100, score=0.738, total=   0.2s\n[CV] features__pca__n_components=3, features__univ_select__k=2, rndmF__max_depth=25, rndmF__n_estimators=100 \n[CV]  features__pca__n_components=3, features__univ_select__k=2, rndmF__max_depth=25, rndmF__n_estimators=100, score=0.701, total=   0.2s\n[CV] features__pca__n_components=3, features__univ_select__k=2, rndmF__max_depth=25, rndmF__n_estimators=100 \n[CV]  features__pca__n_components=3, features__univ_select__k=2, rndmF__max_depth=25, rndmF__n_estimators=100, score=0.729, total=   0.2s\n[CV] features__pca__n_components=3, features__univ_select__k=3, rndmF__max_depth=None, rndmF__n_estimators=25 \n[CV]  features__pca__n_components=3, features__univ_select__k=3, rndmF__max_depth=None, rndmF__n_estimators=25, score=0.741, total=   0.1s\n[CV] features__pca__n_components=3, features__univ_select__k=3, rndmF__max_depth=None, rndmF__n_estimators=25 \n[CV]  features__pca__n_components=3, features__univ_select__k=3, rndmF__max_depth=None, rndmF__n_estimators=25, score=0.741, total=   0.1s\n[CV] features__pca__n_components=3, features__univ_select__k=3, rndmF__max_depth=None, rndmF__n_estimators=25 \n[CV]  features__pca__n_components=3, features__univ_select__k=3, rndmF__max_depth=None, rndmF__n_estimators=25, score=0.766, total=   0.1s\n[CV] features__pca__n_components=3, features__univ_select__k=3, rndmF__max_depth=None, rndmF__n_estimators=25 \n[CV]  features__pca__n_components=3, features__univ_select__k=3, rndmF__max_depth=None, rndmF__n_estimators=25, score=0.701, total=   0.0s\n[CV] features__pca__n_components=3, features__univ_select__k=3, rndmF__max_depth=None, rndmF__n_estimators=25 \n[CV]  features__pca__n_components=3, features__univ_select__k=3, rndmF__max_depth=None, rndmF__n_estimators=25, score=0.794, total=   0.0s\n[CV] features__pca__n_components=3, features__univ_select__k=3, rndmF__max_depth=None, rndmF__n_estimators=50 \n[CV]  features__pca__n_components=3, features__univ_select__k=3, rndmF__max_depth=None, rndmF__n_estimators=50, score=0.722, total=   0.1s\n[CV] features__pca__n_components=3, features__univ_select__k=3, rndmF__max_depth=None, rndmF__n_estimators=50 \n[CV]  features__pca__n_components=3, features__univ_select__k=3, rndmF__max_depth=None, rndmF__n_estimators=50, score=0.741, total=   0.1s\n[CV] features__pca__n_components=3, features__univ_select__k=3, rndmF__max_depth=None, rndmF__n_estimators=50 \n[CV]  features__pca__n_components=3, features__univ_select__k=3, rndmF__max_depth=None, rndmF__n_estimators=50, score=0.748, total=   0.1s\n[CV] features__pca__n_components=3, features__univ_select__k=3, rndmF__max_depth=None, rndmF__n_estimators=50 \n[CV]  features__pca__n_components=3, features__univ_select__k=3, rndmF__max_depth=None, rndmF__n_estimators=50, score=0.692, total=   0.1s\n[CV] features__pca__n_components=3, features__univ_select__k=3, rndmF__max_depth=None, rndmF__n_estimators=50 \n[CV]  features__pca__n_components=3, features__univ_select__k=3, rndmF__max_depth=None, rndmF__n_estimators=50, score=0.748, total=   0.1s\n[CV] features__pca__n_components=3, features__univ_select__k=3, rndmF__max_depth=None, rndmF__n_estimators=100 \n[CV]  features__pca__n_components=3, features__univ_select__k=3, rndmF__max_depth=None, rndmF__n_estimators=100, score=0.722, total=   0.1s\n[CV] features__pca__n_components=3, features__univ_select__k=3, rndmF__max_depth=None, rndmF__n_estimators=100 \n[CV]  features__pca__n_components=3, features__univ_select__k=3, rndmF__max_depth=None, rndmF__n_estimators=100, score=0.741, total=   0.2s\n[CV] features__pca__n_components=3, features__univ_select__k=3, rndmF__max_depth=None, rndmF__n_estimators=100 \n[CV]  features__pca__n_components=3, features__univ_select__k=3, rndmF__max_depth=None, rndmF__n_estimators=100, score=0.748, total=   0.1s\n[CV] features__pca__n_components=3, features__univ_select__k=3, rndmF__max_depth=None, rndmF__n_estimators=100 \n[CV]  features__pca__n_components=3, features__univ_select__k=3, rndmF__max_depth=None, rndmF__n_estimators=100, score=0.701, total=   0.1s\n[CV] features__pca__n_components=3, features__univ_select__k=3, rndmF__max_depth=None, rndmF__n_estimators=100 \n[CV]  features__pca__n_components=3, features__univ_select__k=3, rndmF__max_depth=None, rndmF__n_estimators=100, score=0.766, total=   0.2s\n[CV] features__pca__n_components=3, features__univ_select__k=3, rndmF__max_depth=5, rndmF__n_estimators=25 \n[CV]  features__pca__n_components=3, features__univ_select__k=3, rndmF__max_depth=5, rndmF__n_estimators=25, score=0.713, total=   0.1s\n[CV] features__pca__n_components=3, features__univ_select__k=3, rndmF__max_depth=5, rndmF__n_estimators=25 \n[CV]  features__pca__n_components=3, features__univ_select__k=3, rndmF__max_depth=5, rndmF__n_estimators=25, score=0.741, total=   0.0s\n[CV] features__pca__n_components=3, features__univ_select__k=3, rndmF__max_depth=5, rndmF__n_estimators=25 \n[CV]  features__pca__n_components=3, features__univ_select__k=3, rndmF__max_depth=5, rndmF__n_estimators=25, score=0.785, total=   0.1s\n[CV] features__pca__n_components=3, features__univ_select__k=3, rndmF__max_depth=5, rndmF__n_estimators=25 \n[CV]  features__pca__n_components=3, features__univ_select__k=3, rndmF__max_depth=5, rndmF__n_estimators=25, score=0.664, total=   0.1s\n[CV] features__pca__n_components=3, features__univ_select__k=3, rndmF__max_depth=5, rndmF__n_estimators=25 \n[CV]  features__pca__n_components=3, features__univ_select__k=3, rndmF__max_depth=5, rndmF__n_estimators=25, score=0.794, total=   0.1s\n[CV] features__pca__n_components=3, features__univ_select__k=3, rndmF__max_depth=5, rndmF__n_estimators=50 \n[CV]  features__pca__n_components=3, features__univ_select__k=3, rndmF__max_depth=5, rndmF__n_estimators=50, score=0.769, total=   0.1s\n[CV] features__pca__n_components=3, features__univ_select__k=3, rndmF__max_depth=5, rndmF__n_estimators=50 \n[CV]  features__pca__n_components=3, features__univ_select__k=3, rndmF__max_depth=5, rndmF__n_estimators=50, score=0.769, total=   0.1s\n[CV] features__pca__n_components=3, features__univ_select__k=3, rndmF__max_depth=5, rndmF__n_estimators=50 \n[CV]  features__pca__n_components=3, features__univ_select__k=3, rndmF__max_depth=5, rndmF__n_estimators=50, score=0.776, total=   0.1s\n[CV] features__pca__n_components=3, features__univ_select__k=3, rndmF__max_depth=5, rndmF__n_estimators=50 \n[CV]  features__pca__n_components=3, features__univ_select__k=3, rndmF__max_depth=5, rndmF__n_estimators=50, score=0.701, total=   0.1s\n[CV] features__pca__n_components=3, features__univ_select__k=3, rndmF__max_depth=5, rndmF__n_estimators=50 \n[CV]  features__pca__n_components=3, features__univ_select__k=3, rndmF__max_depth=5, rndmF__n_estimators=50, score=0.776, total=   0.1s\n[CV] features__pca__n_components=3, features__univ_select__k=3, rndmF__max_depth=5, rndmF__n_estimators=100 \n[CV]  features__pca__n_components=3, features__univ_select__k=3, rndmF__max_depth=5, rndmF__n_estimators=100, score=0.750, total=   0.2s\n[CV] features__pca__n_components=3, features__univ_select__k=3, rndmF__max_depth=5, rndmF__n_estimators=100 \n[CV]  features__pca__n_components=3, features__univ_select__k=3, rndmF__max_depth=5, rndmF__n_estimators=100, score=0.759, total=   0.1s\n[CV] features__pca__n_components=3, features__univ_select__k=3, rndmF__max_depth=5, rndmF__n_estimators=100 \n[CV]  features__pca__n_components=3, features__univ_select__k=3, rndmF__max_depth=5, rndmF__n_estimators=100, score=0.794, total=   0.2s\n[CV] features__pca__n_components=3, features__univ_select__k=3, rndmF__max_depth=5, rndmF__n_estimators=100 \n[CV]  features__pca__n_components=3, features__univ_select__k=3, rndmF__max_depth=5, rndmF__n_estimators=100, score=0.682, total=   0.2s\n[CV] features__pca__n_components=3, features__univ_select__k=3, rndmF__max_depth=5, rndmF__n_estimators=100 \n[CV]  features__pca__n_components=3, features__univ_select__k=3, rndmF__max_depth=5, rndmF__n_estimators=100, score=0.776, total=   0.2s\n[CV] features__pca__n_components=3, features__univ_select__k=3, rndmF__max_depth=10, rndmF__n_estimators=25 \n[CV]  features__pca__n_components=3, features__univ_select__k=3, rndmF__max_depth=10, rndmF__n_estimators=25, score=0.750, total=   0.1s\n[CV] features__pca__n_components=3, features__univ_select__k=3, rndmF__max_depth=10, rndmF__n_estimators=25 \n[CV]  features__pca__n_components=3, features__univ_select__k=3, rndmF__max_depth=10, rndmF__n_estimators=25, score=0.731, total=   0.1s\n[CV] features__pca__n_components=3, features__univ_select__k=3, rndmF__max_depth=10, rndmF__n_estimators=25 \n[CV]  features__pca__n_components=3, features__univ_select__k=3, rndmF__max_depth=10, rndmF__n_estimators=25, score=0.729, total=   0.1s\n[CV] features__pca__n_components=3, features__univ_select__k=3, rndmF__max_depth=10, rndmF__n_estimators=25\n[CV]  features__pca__n_components=3, features__univ_select__k=3, rndmF__max_depth=10, rndmF__n_estimators=25, score=0.701, total=   0.1s\n[CV] features__pca__n_components=3, features__univ_select__k=3, rndmF__max_depth=10, rndmF__n_estimators=25 \n[CV]  features__pca__n_components=3, features__univ_select__k=3, rndmF__max_depth=10, rndmF__n_estimators=25, score=0.766, total=   0.0s\n[CV] features__pca__n_components=3, features__univ_select__k=3, rndmF__max_depth=10, rndmF__n_estimators=50 \n[CV]  features__pca__n_components=3, features__univ_select__k=3, rndmF__max_depth=10, rndmF__n_estimators=50, score=0.759, total=   0.1s\n[CV] features__pca__n_components=3, features__univ_select__k=3, rndmF__max_depth=10, rndmF__n_estimators=50 \n[CV]  features__pca__n_components=3, features__univ_select__k=3, rndmF__max_depth=10, rndmF__n_estimators=50, score=0.750, total=   0.1s\n[CV] features__pca__n_components=3, features__univ_select__k=3, rndmF__max_depth=10, rndmF__n_estimators=50 \n[CV]  features__pca__n_components=3, features__univ_select__k=3, rndmF__max_depth=10, rndmF__n_estimators=50, score=0.766, total=   0.1s\n[CV] features__pca__n_components=3, features__univ_select__k=3, rndmF__max_depth=10, rndmF__n_estimators=50 \n[CV]  features__pca__n_components=3, features__univ_select__k=3, rndmF__max_depth=10, rndmF__n_estimators=50, score=0.682, total=   0.1s\n[CV] features__pca__n_components=3, features__univ_select__k=3, rndmF__max_depth=10, rndmF__n_estimators=50 \n[CV]  features__pca__n_components=3, features__univ_select__k=3, rndmF__max_depth=10, rndmF__n_estimators=50, score=0.766, total=   0.1s\n[CV] features__pca__n_components=3, features__univ_select__k=3, rndmF__max_depth=10, rndmF__n_estimators=100 \n[CV]  features__pca__n_components=3, features__univ_select__k=3, rndmF__max_depth=10, rndmF__n_estimators=100, score=0.741, total=   0.2s\n[CV] features__pca__n_components=3, features__univ_select__k=3, rndmF__max_depth=10, rndmF__n_estimators=100 \n[CV]  features__pca__n_components=3, features__univ_select__k=3, rndmF__max_depth=10, rndmF__n_estimators=100, score=0.750, total=   0.2s\n[CV] features__pca__n_components=3, features__univ_select__k=3, rndmF__max_depth=10, rndmF__n_estimators=100 \n[CV]  features__pca__n_components=3, features__univ_select__k=3, rndmF__max_depth=10, rndmF__n_estimators=100, score=0.766, total=   0.2s\n[CV] features__pca__n_components=3, features__univ_select__k=3, rndmF__max_depth=10, rndmF__n_estimators=100 \n[CV]  features__pca__n_components=3, features__univ_select__k=3, rndmF__max_depth=10, rndmF__n_estimators=100, score=0.673, total=   0.2s\n[CV] features__pca__n_components=3, features__univ_select__k=3, rndmF__max_depth=10, rndmF__n_estimators=100 \n[CV]  features__pca__n_components=3, features__univ_select__k=3, rndmF__max_depth=10, rndmF__n_estimators=100, score=0.776, total=   0.2s\n[CV] features__pca__n_components=3, features__univ_select__k=3, rndmF__max_depth=25, rndmF__n_estimators=25 \n[CV]  features__pca__n_components=3, features__univ_select__k=3, rndmF__max_depth=25, rndmF__n_estimators=25, score=0.722, total=   0.0s\n[CV] features__pca__n_components=3, features__univ_select__k=3, rndmF__max_depth=25, rndmF__n_estimators=25 \n[CV]  features__pca__n_components=3, features__univ_select__k=3, rndmF__max_depth=25, rndmF__n_estimators=25, score=0.750, total=   0.0s\n[CV] features__pca__n_components=3, features__univ_select__k=3, rndmF__max_depth=25, rndmF__n_estimators=25 \n[CV]  features__pca__n_components=3, features__univ_select__k=3, rndmF__max_depth=25, rndmF__n_estimators=25, score=0.794, total=   0.0s\n[CV] features__pca__n_components=3, features__univ_select__k=3, rndmF__max_depth=25, rndmF__n_estimators=25 \n[CV]  features__pca__n_components=3, features__univ_select__k=3, rndmF__max_depth=25, rndmF__n_estimators=25, score=0.673, total=   0.0s\n[CV] features__pca__n_components=3, features__univ_select__k=3, rndmF__max_depth=25, rndmF__n_estimators=25 \n[CV]  features__pca__n_components=3, features__univ_select__k=3, rndmF__max_depth=25, rndmF__n_estimators=25, score=0.757, total=   0.1s\n[CV] features__pca__n_components=3, features__univ_select__k=3, rndmF__max_depth=25, rndmF__n_estimators=50 \n[CV]  features__pca__n_components=3, features__univ_select__k=3, rndmF__max_depth=25, rndmF__n_estimators=50, score=0.731, total=   0.1s\n[CV] features__pca__n_components=3, features__univ_select__k=3, rndmF__max_depth=25, rndmF__n_estimators=50 \n[CV]  features__pca__n_components=3, features__univ_select__k=3, rndmF__max_depth=25, rndmF__n_estimators=50, score=0.722, total=   0.1s\n[CV] features__pca__n_components=3, features__univ_select__k=3, rndmF__max_depth=25, rndmF__n_estimators=50 \n[CV]  features__pca__n_components=3, features__univ_select__k=3, rndmF__max_depth=25, rndmF__n_estimators=50, score=0.748, total=   0.1s\n[CV] features__pca__n_components=3, features__univ_select__k=3, rndmF__max_depth=25, rndmF__n_estimators=50 \n[CV]  features__pca__n_components=3, features__univ_select__k=3, rndmF__max_depth=25, rndmF__n_estimators=50, score=0.720, total=   0.1s\n[CV] features__pca__n_components=3, features__univ_select__k=3, rndmF__max_depth=25, rndmF__n_estimators=50 \n[CV]  features__pca__n_components=3, features__univ_select__k=3, rndmF__max_depth=25, rndmF__n_estimators=50, score=0.766, total=   0.1s\n[CV] features__pca__n_components=3, features__univ_select__k=3, rndmF__max_depth=25, rndmF__n_estimators=100 \n[CV]  features__pca__n_components=3, features__univ_select__k=3, rndmF__max_depth=25, rndmF__n_estimators=100, score=0.741, total=   0.2s\n[CV] features__pca__n_components=3, features__univ_select__k=3, rndmF__max_depth=25, rndmF__n_estimators=100 \n[CV]  features__pca__n_components=3, features__univ_select__k=3, rndmF__max_depth=25, rndmF__n_estimators=100, score=0.769, total=   0.1s\n[CV] features__pca__n_components=3, features__univ_select__k=3, rndmF__max_depth=25, rndmF__n_estimators=100 \n[CV]  features__pca__n_components=3, features__univ_select__k=3, rndmF__max_depth=25, rndmF__n_estimators=100, score=0.785, total=   0.2s\n[CV] features__pca__n_components=3, features__univ_select__k=3, rndmF__max_depth=25, rndmF__n_estimators=100 \n[CV]  features__pca__n_components=3, features__univ_select__k=3, rndmF__max_depth=25, rndmF__n_estimators=100, score=0.710, total=   0.2s\n[CV] features__pca__n_components=3, features__univ_select__k=3, rndmF__max_depth=25, rndmF__n_estimators=100 \n[CV]  features__pca__n_components=3, features__univ_select__k=3, rndmF__max_depth=25, rndmF__n_estimators=100, score=0.776, total=   0.2s\n[Parallel(n_jobs=1)]: Done 540 out of 540 | elapsed:   59.7s finished\n"
    },
    {
     "output_type": "execute_result",
     "data": {
      "text/plain": "GridSearchCV(estimator=Pipeline(steps=[('features',\n                                        FeatureUnion(transformer_list=[('pca',\n                                                                        PCA()),\n                                                                       ('univ_select',\n                                                                        SelectKBest())])),\n                                       ('rndmF', RandomForestClassifier())]),\n             param_grid={'features__pca__n_components': [1, 2, 3],\n                         'features__univ_select__k': [1, 2, 3],\n                         'rndmF__max_depth': [None, 5, 10, 25],\n                         'rndmF__n_estimators': [25, 50, 100]},\n             verbose=5)"
     },
     "metadata": {},
     "execution_count": 16
    }
   ],
   "source": [
    "pipeline = Pipeline([('features', combined_features), ('rndmF', rndmF)])\n",
    "\n",
    "param_grid = {\"features__pca__n_components\":[1,2,3],\n",
    "                'features__univ_select__k': [1,2,3],\n",
    "                'rndmF__n_estimators':[25,50,100],\n",
    "                'rndmF__max_depth':[None, 5, 10, 25],\n",
    "                'rndmF__n_estimators':[25,50,100]\n",
    "                }\n",
    "\n",
    "gridsearch = GridSearchCV(pipeline,param_grid,verbose=5, refit=True)\n",
    "\n",
    "gridsearch.fit(X_train,y_train)"
   ]
  },
  {
   "cell_type": "code",
   "execution_count": 17,
   "metadata": {
    "tags": []
   },
   "outputs": [
    {
     "output_type": "stream",
     "name": "stdout",
     "text": "{'features__pca__n_components': 2, 'features__univ_select__k': 3, 'rndmF__max_depth': 5, 'rndmF__n_estimators': 50}\nFinal score is : 0.7575757575757576\n"
    }
   ],
   "source": [
    "print(gridsearch.best_params_)\n",
    "print('Final score is :', gridsearch.score(X_test,y_test))"
   ]
  },
  {
   "cell_type": "code",
   "execution_count": null,
   "metadata": {},
   "outputs": [],
   "source": []
  }
 ],
 "metadata": {
  "kernelspec": {
   "display_name": "Python 3",
   "language": "python",
   "name": "python3"
  },
  "language_info": {
   "codemirror_mode": {
    "name": "ipython",
    "version": 3
   },
   "file_extension": ".py",
   "mimetype": "text/x-python",
   "name": "python",
   "nbconvert_exporter": "python",
   "pygments_lexer": "ipython3",
   "version": "3.8.5-final"
  },
  "toc": {
   "base_numbering": 1,
   "nav_menu": {},
   "number_sections": true,
   "sideBar": true,
   "skip_h1_title": false,
   "title_cell": "Table of Contents",
   "title_sidebar": "Contents",
   "toc_cell": false,
   "toc_position": {},
   "toc_section_display": true,
   "toc_window_display": false
  },
  "varInspector": {
   "cols": {
    "lenName": 16,
    "lenType": 16,
    "lenVar": 40
   },
   "kernels_config": {
    "python": {
     "delete_cmd_postfix": "",
     "delete_cmd_prefix": "del ",
     "library": "var_list.py",
     "varRefreshCmd": "print(var_dic_list())"
    },
    "r": {
     "delete_cmd_postfix": ") ",
     "delete_cmd_prefix": "rm(",
     "library": "var_list.r",
     "varRefreshCmd": "cat(var_dic_list()) "
    }
   },
   "types_to_exclude": [
    "module",
    "function",
    "builtin_function_or_method",
    "instance",
    "_Feature"
   ],
   "window_display": false
  }
 },
 "nbformat": 4,
 "nbformat_minor": 4
}