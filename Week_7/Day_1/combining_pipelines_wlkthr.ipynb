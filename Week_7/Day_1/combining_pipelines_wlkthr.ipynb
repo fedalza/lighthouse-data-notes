{
 "metadata": {
  "language_info": {
   "codemirror_mode": {
    "name": "ipython",
    "version": 3
   },
   "file_extension": ".py",
   "mimetype": "text/x-python",
   "name": "python",
   "nbconvert_exporter": "python",
   "pygments_lexer": "ipython3",
   "version": "3.8.5-final"
  },
  "orig_nbformat": 2,
  "kernelspec": {
   "name": "python_defaultSpec_1598887850801",
   "display_name": "Python 3.8.5 64-bit ('boot_env': conda)"
  }
 },
 "nbformat": 4,
 "nbformat_minor": 2,
 "cells": [
  {
   "cell_type": "code",
   "execution_count": 1,
   "metadata": {},
   "outputs": [],
   "source": [
    "from sklearn.svm import SVC\n",
    "from sklearn.datasets import load_iris\n",
    "\n",
    "from sklearn.model_selection import GridSearchCV\n",
    "from sklearn.pipeline import Pipeline, FeatureUnion\n",
    "\n",
    "from sklearn.decomposition import PCA\n",
    "from sklearn.feature_selection import SelectKBest"
   ]
  },
  {
   "cell_type": "code",
   "execution_count": 2,
   "metadata": {},
   "outputs": [],
   "source": [
    "iris = load_iris()\n",
    "\n",
    "X,y = iris['data'], iris['target']"
   ]
  },
  {
   "cell_type": "code",
   "execution_count": 3,
   "metadata": {},
   "outputs": [],
   "source": [
    "pca = PCA(n_components=2)\n",
    "selection = SelectKBest(k=3)"
   ]
  },
  {
   "cell_type": "code",
   "execution_count": 4,
   "metadata": {},
   "outputs": [],
   "source": [
    "combined_features = FeatureUnion([(\"pca\", pca), ('univ_select',selection)])"
   ]
  },
  {
   "cell_type": "code",
   "execution_count": 5,
   "metadata": {},
   "outputs": [],
   "source": [
    "svm = SVC(kernel='linear')"
   ]
  },
  {
   "cell_type": "code",
   "execution_count": 6,
   "metadata": {
    "tags": [
     "outputPrepend"
    ]
   },
   "outputs": [
    {
     "output_type": "stream",
     "name": "stdout",
     "text": "CV] features__pca__n_components=1, features__univ_select__k=2, svm__C=1 \n[CV]  features__pca__n_components=1, features__univ_select__k=2, svm__C=1, score=0.933, total=   0.0s\n[CV] features__pca__n_components=1, features__univ_select__k=2, svm__C=1 \n[CV]  features__pca__n_components=1, features__univ_select__k=2, svm__C=1, score=1.000, total=   0.0s\n[CV] features__pca__n_components=1, features__univ_select__k=2, svm__C=10 \n[CV]  features__pca__n_components=1, features__univ_select__k=2, svm__C=10, score=0.967, total=   0.0s\n[CV] features__pca__n_components=1, features__univ_select__k=2, svm__C=10 \n[CV]  features__pca__n_components=1, features__univ_select__k=2, svm__C=10, score=0.967, total=   0.0s\n[CV] features__pca__n_components=1, features__univ_select__k=2, svm__C=10 \n[CV]  features__pca__n_components=1, features__univ_select__k=2, svm__C=10, score=0.933, total=   0.0s\n[CV] features__pca__n_components=1, features__univ_select__k=2, svm__C=10 \n[CV]  features__pca__n_components=1, features__univ_select__k=2, svm__C=10, score=0.933, total=   0.0s\n[CV] features__pca__n_components=1, features__univ_select__k=2, svm__C=10 \n[CV]  features__pca__n_components=1, features__univ_select__k=2, svm__C=10, score=1.000, total=   0.0s\n[CV] features__pca__n_components=1, features__univ_select__k=3, svm__C=0.1 \n[CV]  features__pca__n_components=1, features__univ_select__k=3, svm__C=0.1, score=0.967, total=   0.0s\n[CV] features__pca__n_components=1, features__univ_select__k=3, svm__C=0.1 \n[CV]  features__pca__n_components=1, features__univ_select__k=3, svm__C=0.1, score=0.967, total=   0.0s\n[CV] features__pca__n_components=1, features__univ_select__k=3, svm__C=0.1 \n[CV]  features__pca__n_components=1, features__univ_select__k=3, svm__C=0.1, score=0.967, total=   0.0s\n[CV] features__pca__n_components=1, features__univ_select__k=3, svm__C=0.1 \n[CV]  features__pca__n_components=1, features__univ_select__k=3, svm__C=0.1, score=0.933, total=   0.0s\n[CV] features__pca__n_components=1, features__univ_select__k=3, svm__C=0.1 \n[CV]  features__pca__n_components=1, features__univ_select__k=3, svm__C=0.1, score=1.000, total=   0.0s\n[CV] features__pca__n_components=1, features__univ_select__k=3, svm__C=1 \n[CV]  features__pca__n_components=1, features__univ_select__k=3, svm__C=1, score=0.967, total=   0.0s\n[CV] features__pca__n_components=1, features__univ_select__k=3, svm__C=1 \n[CV]  features__pca__n_components=1, features__univ_select__k=3, svm__C=1, score=1.000, total=   0.0s\n[CV] features__pca__n_components=1, features__univ_select__k=3, svm__C=1 \n[CV]  features__pca__n_components=1, features__univ_select__k=3, svm__C=1, score=0.933, total=   0.0s\n[CV] features__pca__n_components=1, features__univ_select__k=3, svm__C=1 \n[CV]  features__pca__n_components=1, features__univ_select__k=3, svm__C=1, score=0.967, total=   0.0s\n[CV] features__pca__n_components=1, features__univ_select__k=3, svm__C=1 \n[CV]  features__pca__n_components=1, features__univ_select__k=3, svm__C=1, score=1.000, total=   0.0s\n[CV] features__pca__n_components=1, features__univ_select__k=3, svm__C=10 \n[CV]  features__pca__n_components=1, features__univ_select__k=3, svm__C=10, score=1.000, total=   0.0s\n[CV] features__pca__n_components=1, features__univ_select__k=3, svm__C=10 \n[CV]  features__pca__n_components=1, features__univ_select__k=3, svm__C=10, score=0.967, total=   0.0s\n[CV] features__pca__n_components=1, features__univ_select__k=3, svm__C=10 \n[CV]  features__pca__n_components=1, features__univ_select__k=3, svm__C=10, score=0.933, total=   0.0s\n[CV] features__pca__n_components=1, features__univ_select__k=3, svm__C=10\n[CV]  features__pca__n_components=1, features__univ_select__k=3, svm__C=10, score=0.967, total=   0.0s\n[CV] features__pca__n_components=1, features__univ_select__k=3, svm__C=10 \n[CV]  features__pca__n_components=1, features__univ_select__k=3, svm__C=10, score=1.000, total=   0.0s\n[CV] features__pca__n_components=2, features__univ_select__k=1, svm__C=0.1 \n[CV]  features__pca__n_components=2, features__univ_select__k=1, svm__C=0.1, score=0.933, total=   0.0s\n[CV] features__pca__n_components=2, features__univ_select__k=1, svm__C=0.1 \n[CV]  features__pca__n_components=2, features__univ_select__k=1, svm__C=0.1, score=1.000, total=   0.0s\n[CV] features__pca__n_components=2, features__univ_select__k=1, svm__C=0.1 \n[CV]  features__pca__n_components=2, features__univ_select__k=1, svm__C=0.1, score=0.867, total=   0.0s\n[CV] features__pca__n_components=2, features__univ_select__k=1, svm__C=0.1 \n[CV]  features__pca__n_components=2, features__univ_select__k=1, svm__C=0.1, score=0.933, total=   0.0s\n[CV] features__pca__n_components=2, features__univ_select__k=1, svm__C=0.1 \n[CV]  features__pca__n_components=2, features__univ_select__k=1, svm__C=0.1, score=1.000, total=   0.0s\n[CV] features__pca__n_components=2, features__univ_select__k=1, svm__C=1 \n[CV]  features__pca__n_components=2, features__univ_select__k=1, svm__C=1, score=0.967, total=   0.0s\n[CV] features__pca__n_components=2, features__univ_select__k=1, svm__C=1 \n[CV]  features__pca__n_components=2, features__univ_select__k=1, svm__C=1, score=1.000, total=   0.0s\n[CV] features__pca__n_components=2, features__univ_select__k=1, svm__C=1 \n[CV]  features__pca__n_components=2, features__univ_select__k=1, svm__C=1, score=0.933, total=   0.0s\n[CV] features__pca__n_components=2, features__univ_select__k=1, svm__C=1 \n[CV]  features__pca__n_components=2, features__univ_select__k=1, svm__C=1, score=0.933, total=   0.0s\n[CV] features__pca__n_components=2, features__univ_select__k=1, svm__C=1 \n[CV]  features__pca__n_components=2, features__univ_select__k=1, svm__C=1, score=1.000, total=   0.0s\n[CV] features__pca__n_components=2, features__univ_select__k=1, svm__C=10 \n[CV]  features__pca__n_components=2, features__univ_select__k=1, svm__C=10, score=0.967, total=   0.0s\n[CV] features__pca__n_components=2, features__univ_select__k=1, svm__C=10 \n[CV]  features__pca__n_components=2, features__univ_select__k=1, svm__C=10, score=0.967, total=   0.0s\n[CV] features__pca__n_components=2, features__univ_select__k=1, svm__C=10 \n[CV]  features__pca__n_components=2, features__univ_select__k=1, svm__C=10, score=0.900, total=   0.0s\n[CV] features__pca__n_components=2, features__univ_select__k=1, svm__C=10 \n[CV]  features__pca__n_components=2, features__univ_select__k=1, svm__C=10, score=0.933, total=   0.0s\n[CV] features__pca__n_components=2, features__univ_select__k=1, svm__C=10 \n[CV]  features__pca__n_components=2, features__univ_select__k=1, svm__C=10, score=1.000, total=   0.0s\n[CV] features__pca__n_components=2, features__univ_select__k=2, svm__C=0.1 \n[CV]  features__pca__n_components=2, features__univ_select__k=2, svm__C=0.1, score=0.967, total=   0.0s\n[CV] features__pca__n_components=2, features__univ_select__k=2, svm__C=0.1 \n[CV]  features__pca__n_components=2, features__univ_select__k=2, svm__C=0.1, score=1.000, total=   0.0s\n[CV] features__pca__n_components=2, features__univ_select__k=2, svm__C=0.1 \n[CV]  features__pca__n_components=2, features__univ_select__k=2, svm__C=0.1, score=0.933, total=   0.0s\n[CV] features__pca__n_components=2, features__univ_select__k=2, svm__C=0.1 \n[CV]  features__pca__n_components=2, features__univ_select__k=2, svm__C=0.1, score=0.933, total=   0.0s\n[CV] features__pca__n_components=2, features__univ_select__k=2, svm__C=0.1 \n[CV]  features__pca__n_components=2, features__univ_select__k=2, svm__C=0.1, score=1.000, total=   0.0s\n[CV] features__pca__n_components=2, features__univ_select__k=2, svm__C=1 \n[CV]  features__pca__n_components=2, features__univ_select__k=2, svm__C=1, score=0.967, total=   0.0s\n[CV] features__pca__n_components=2, features__univ_select__k=2, svm__C=1 \n[CV]  features__pca__n_components=2, features__univ_select__k=2, svm__C=1, score=1.000, total=   0.0s\n[CV] features__pca__n_components=2, features__univ_select__k=2, svm__C=1 \n[CV]  features__pca__n_components=2, features__univ_select__k=2, svm__C=1, score=0.933, total=   0.0s\n[CV] features__pca__n_components=2, features__univ_select__k=2, svm__C=1 \n[CV]  features__pca__n_components=2, features__univ_select__k=2, svm__C=1, score=0.967, total=   0.0s\n[CV] features__pca__n_components=2, features__univ_select__k=2, svm__C=1 \n[CV]  features__pca__n_components=2, features__univ_select__k=2, svm__C=1, score=1.000, total=   0.0s\n[CV] features__pca__n_components=2, features__univ_select__k=2, svm__C=10 \n[CV]  features__pca__n_components=2, features__univ_select__k=2, svm__C=10, score=0.967, total=   0.0s\n[CV] features__pca__n_components=2, features__univ_select__k=2, svm__C=10 \n[CV]  features__pca__n_components=2, features__univ_select__k=2, svm__C=10, score=1.000, total=   0.0s\n[CV] features__pca__n_components=2, features__univ_select__k=2, svm__C=10 \n[CV]  features__pca__n_components=2, features__univ_select__k=2, svm__C=10, score=0.900, total=   0.0s\n[CV] features__pca__n_components=2, features__univ_select__k=2, svm__C=10 \n[CV]  features__pca__n_components=2, features__univ_select__k=2, svm__C=10, score=0.933, total=   0.0s\n[CV] features__pca__n_components=2, features__univ_select__k=2, svm__C=10 \n[CV]  features__pca__n_components=2, features__univ_select__k=2, svm__C=10, score=1.000, total=   0.0s\n[CV] features__pca__n_components=2, features__univ_select__k=3, svm__C=0.1 \n[CV]  features__pca__n_components=2, features__univ_select__k=3, svm__C=0.1, score=0.967, total=   0.0s\n[CV] features__pca__n_components=2, features__univ_select__k=3, svm__C=0.1 \n[CV]  features__pca__n_components=2, features__univ_select__k=3, svm__C=0.1, score=1.000, total=   0.0s\n[CV] features__pca__n_components=2, features__univ_select__k=3, svm__C=0.1 \n[CV]  features__pca__n_components=2, features__univ_select__k=3, svm__C=0.1, score=0.933, total=   0.0s\n[CV] features__pca__n_components=2, features__univ_select__k=3, svm__C=0.1 \n[CV]  features__pca__n_components=2, features__univ_select__k=3, svm__C=0.1, score=0.933, total=   0.0s\n[CV] features__pca__n_components=2, features__univ_select__k=3, svm__C=0.1 \n[CV]  features__pca__n_components=2, features__univ_select__k=3, svm__C=0.1, score=1.000, total=   0.0s\n[CV] features__pca__n_components=2, features__univ_select__k=3, svm__C=1 \n[CV]  features__pca__n_components=2, features__univ_select__k=3, svm__C=1, score=0.967, total=   0.0s\n[CV] features__pca__n_components=2, features__univ_select__k=3, svm__C=1 \n[CV]  features__pca__n_components=2, features__univ_select__k=3, svm__C=1, score=1.000, total=   0.0s\n[CV] features__pca__n_components=2, features__univ_select__k=3, svm__C=1 \n[CV]  features__pca__n_components=2, features__univ_select__k=3, svm__C=1, score=0.967, total=   0.0s\n[CV] features__pca__n_components=2, features__univ_select__k=3, svm__C=1 \n[CV]  features__pca__n_components=2, features__univ_select__k=3, svm__C=1, score=0.967, total=   0.0s\n[CV] features__pca__n_components=2, features__univ_select__k=3, svm__C=1 \n[CV]  features__pca__n_components=2, features__univ_select__k=3, svm__C=1, score=1.000, total=   0.0s\n[CV] features__pca__n_components=2, features__univ_select__k=3, svm__C=10 \n[CV]  features__pca__n_components=2, features__univ_select__k=3, svm__C=10, score=1.000, total=   0.0s\n[CV] features__pca__n_components=2, features__univ_select__k=3, svm__C=10 \n[CV]  features__pca__n_components=2, features__univ_select__k=3, svm__C=10, score=1.000, total=   0.0s\n[CV] features__pca__n_components=2, features__univ_select__k=3, svm__C=10 \n[CV]  features__pca__n_components=2, features__univ_select__k=3, svm__C=10, score=0.900, total=   0.0s\n[CV] features__pca__n_components=2, features__univ_select__k=3, svm__C=10 \n[CV]  features__pca__n_components=2, features__univ_select__k=3, svm__C=10, score=0.933, total=   0.0s\n[CV] features__pca__n_components=2, features__univ_select__k=3, svm__C=10 \n[CV]  features__pca__n_components=2, features__univ_select__k=3, svm__C=10, score=1.000, total=   0.0s\n[CV] features__pca__n_components=3, features__univ_select__k=1, svm__C=0.1 \n[CV]  features__pca__n_components=3, features__univ_select__k=1, svm__C=0.1, score=0.967, total=   0.0s\n[CV] features__pca__n_components=3, features__univ_select__k=1, svm__C=0.1 \n[CV]  features__pca__n_components=3, features__univ_select__k=1, svm__C=0.1, score=1.000, total=   0.0s\n[CV] features__pca__n_components=3, features__univ_select__k=1, svm__C=0.1 \n[CV]  features__pca__n_components=3, features__univ_select__k=1, svm__C=0.1, score=0.933, total=   0.0s\n[CV] features__pca__n_components=3, features__univ_select__k=1, svm__C=0.1 \n[CV]  features__pca__n_components=3, features__univ_select__k=1, svm__C=0.1, score=0.967, total=   0.0s\n[CV] features__pca__n_components=3, features__univ_select__k=1, svm__C=0.1 \n[CV]  features__pca__n_components=3, features__univ_select__k=1, svm__C=0.1, score=1.000, total=   0.0s\n[CV] features__pca__n_components=3, features__univ_select__k=1, svm__C=1 \n[CV]  features__pca__n_components=3, features__univ_select__k=1, svm__C=1, score=0.967, total=   0.0s\n[CV] features__pca__n_components=3, features__univ_select__k=1, svm__C=1 \n[CV]  features__pca__n_components=3, features__univ_select__k=1, svm__C=1, score=1.000, total=   0.0s\n[CV] features__pca__n_components=3, features__univ_select__k=1, svm__C=1 \n[CV]  features__pca__n_components=3, features__univ_select__k=1, svm__C=1, score=0.933, total=   0.0s\n[CV] features__pca__n_components=3, features__univ_select__k=1, svm__C=1 \n[CV]  features__pca__n_components=3, features__univ_select__k=1, svm__C=1, score=0.967, total=   0.0s\n[CV] features__pca__n_components=3, features__univ_select__k=1, svm__C=1 \n[CV]  features__pca__n_components=3, features__univ_select__k=1, svm__C=1, score=1.000, total=   0.0s\n[CV] features__pca__n_components=3, features__univ_select__k=1, svm__C=10 \n[CV]  features__pca__n_components=3, features__univ_select__k=1, svm__C=10, score=1.000, total=   0.0s\n[CV] features__pca__n_components=3, features__univ_select__k=1, svm__C=10 \n[CV]  features__pca__n_components=3, features__univ_select__k=1, svm__C=10, score=1.000, total=   0.0s\n[CV] features__pca__n_components=3, features__univ_select__k=1, svm__C=10 \n[CV]  features__pca__n_components=3, features__univ_select__k=1, svm__C=10, score=0.933, total=   0.0s\n[CV] features__pca__n_components=3, features__univ_select__k=1, svm__C=10 \n[CV]  features__pca__n_components=3, features__univ_select__k=1, svm__C=10, score=0.967, total=   0.0s\n[CV] features__pca__n_components=3, features__univ_select__k=1, svm__C=10 \n[CV]  features__pca__n_components=3, features__univ_select__k=1, svm__C=10, score=1.000, total=   0.0s\n[CV] features__pca__n_components=3, features__univ_select__k=2, svm__C=0.1 \n[CV]  features__pca__n_components=3, features__univ_select__k=2, svm__C=0.1, score=0.967, total=   0.0s\n[CV] features__pca__n_components=3, features__univ_select__k=2, svm__C=0.1 \n[CV]  features__pca__n_components=3, features__univ_select__k=2, svm__C=0.1, score=1.000, total=   0.0s\n[CV] features__pca__n_components=3, features__univ_select__k=2, svm__C=0.1 \n[CV]  features__pca__n_components=3, features__univ_select__k=2, svm__C=0.1, score=0.933, total=   0.0s\n[CV] features__pca__n_components=3, features__univ_select__k=2, svm__C=0.1 \n[CV]  features__pca__n_components=3, features__univ_select__k=2, svm__C=0.1, score=0.967, total=   0.0s\n[CV] features__pca__n_components=3, features__univ_select__k=2, svm__C=0.1 \n[CV]  features__pca__n_components=3, features__univ_select__k=2, svm__C=0.1, score=1.000, total=   0.0s\n[CV] features__pca__n_components=3, features__univ_select__k=2, svm__C=1 \n[CV]  features__pca__n_components=3, features__univ_select__k=2, svm__C=1, score=0.967, total=   0.0s\n[CV] features__pca__n_components=3, features__univ_select__k=2, svm__C=1 \n[CV]  features__pca__n_components=3, features__univ_select__k=2, svm__C=1, score=1.000, total=   0.0s\n[CV] features__pca__n_components=3, features__univ_select__k=2, svm__C=1 \n[CV]  features__pca__n_components=3, features__univ_select__k=2, svm__C=1, score=0.967, total=   0.0s\n[CV] features__pca__n_components=3, features__univ_select__k=2, svm__C=1 \n[CV]  features__pca__n_components=3, features__univ_select__k=2, svm__C=1, score=0.967, total=   0.0s\n[CV] features__pca__n_components=3, features__univ_select__k=2, svm__C=1 \n[CV]  features__pca__n_components=3, features__univ_select__k=2, svm__C=1, score=1.000, total=   0.0s\n[CV] features__pca__n_components=3, features__univ_select__k=2, svm__C=10 \n[CV]  features__pca__n_components=3, features__univ_select__k=2, svm__C=10, score=1.000, total=   0.0s\n[CV] features__pca__n_components=3, features__univ_select__k=2, svm__C=10 \n[CV]  features__pca__n_components=3, features__univ_select__k=2, svm__C=10, score=1.000, total=   0.0s\n[CV] features__pca__n_components=3, features__univ_select__k=2, svm__C=10 \n[CV]  features__pca__n_components=3, features__univ_select__k=2, svm__C=10, score=0.900, total=   0.0s\n[CV] features__pca__n_components=3, features__univ_select__k=2, svm__C=10 \n[CV]  features__pca__n_components=3, features__univ_select__k=2, svm__C=10, score=0.967, total=   0.0s\n[CV] features__pca__n_components=3, features__univ_select__k=2, svm__C=10 \n[CV]  features__pca__n_components=3, features__univ_select__k=2, svm__C=10, score=1.000, total=   0.0s\n[CV] features__pca__n_components=3, features__univ_select__k=3, svm__C=0.1 \n[CV]  features__pca__n_components=3, features__univ_select__k=3, svm__C=0.1, score=0.967, total=   0.0s\n[CV] features__pca__n_components=3, features__univ_select__k=3, svm__C=0.1 \n[CV]  features__pca__n_components=3, features__univ_select__k=3, svm__C=0.1, score=1.000, total=   0.0s\n[CV] features__pca__n_components=3, features__univ_select__k=3, svm__C=0.1 \n[CV]  features__pca__n_components=3, features__univ_select__k=3, svm__C=0.1, score=0.933, total=   0.0s\n[CV] features__pca__n_components=3, features__univ_select__k=3, svm__C=0.1 \n[CV]  features__pca__n_components=3, features__univ_select__k=3, svm__C=0.1, score=0.967, total=   0.0s\n[CV] features__pca__n_components=3, features__univ_select__k=3, svm__C=0.1 \n[CV]  features__pca__n_components=3, features__univ_select__k=3, svm__C=0.1, score=1.000, total=   0.0s\n[CV] features__pca__n_components=3, features__univ_select__k=3, svm__C=1 \n[CV]  features__pca__n_components=3, features__univ_select__k=3, svm__C=1, score=0.967, total=   0.0s\n[CV] features__pca__n_components=3, features__univ_select__k=3, svm__C=1 \n[CV]  features__pca__n_components=3, features__univ_select__k=3, svm__C=1, score=1.000, total=   0.0s\n[CV] features__pca__n_components=3, features__univ_select__k=3, svm__C=1 \n[CV]  features__pca__n_components=3, features__univ_select__k=3, svm__C=1, score=0.967, total=   0.0s\n[CV] features__pca__n_components=3, features__univ_select__k=3, svm__C=1 \n[CV]  features__pca__n_components=3, features__univ_select__k=3, svm__C=1, score=0.967, total=   0.0s\n[CV] features__pca__n_components=3, features__univ_select__k=3, svm__C=1 \n[CV]  features__pca__n_components=3, features__univ_select__k=3, svm__C=1, score=1.000, total=   0.0s\n[CV] features__pca__n_components=3, features__univ_select__k=3, svm__C=10 \n[CV]  features__pca__n_components=3, features__univ_select__k=3, svm__C=10, score=1.000, total=   0.0s\n[CV] features__pca__n_components=3, features__univ_select__k=3, svm__C=10 \n[CV]  features__pca__n_components=3, features__univ_select__k=3, svm__C=10, score=1.000, total=   0.0s\n[CV] features__pca__n_components=3, features__univ_select__k=3, svm__C=10 \n[CV]  features__pca__n_components=3, features__univ_select__k=3, svm__C=10, score=0.900, total=   0.0s\n[CV] features__pca__n_components=3, features__univ_select__k=3, svm__C=10 \n[CV]  features__pca__n_components=3, features__univ_select__k=3, svm__C=10, score=0.967, total=   0.0s\n[CV] features__pca__n_components=3, features__univ_select__k=3, svm__C=10 \n[CV]  features__pca__n_components=3, features__univ_select__k=3, svm__C=10, score=1.000, total=   0.0s\n[Parallel(n_jobs=1)]: Done 135 out of 135 | elapsed:    0.7s finished\n"
    },
    {
     "output_type": "execute_result",
     "data": {
      "text/plain": "GridSearchCV(estimator=Pipeline(steps=[('features',\n                                        FeatureUnion(transformer_list=[('pca',\n                                                                        PCA(n_components=2)),\n                                                                       ('univ_select',\n                                                                        SelectKBest(k=3))])),\n                                       ('svm', SVC(kernel='linear'))]),\n             param_grid={'features__pca__n_components': [1, 2, 3],\n                         'features__univ_select__k': [1, 2, 3],\n                         'svm__C': [0.1, 1, 10]},\n             verbose=10)"
     },
     "metadata": {},
     "execution_count": 6
    }
   ],
   "source": [
    "pipeline = Pipeline([('features', combined_features), ('svm', svm)])\n",
    "\n",
    "param_grid = {\"features__pca__n_components\":[1,2,3],\n",
    "                'features__univ_select__k': [1,2,3],\n",
    "                'svm__C':[0.1,1,10]}\n",
    "\n",
    "gridsearch = GridSearchCV(pipeline,param_grid,verbose=10, refit=True)\n",
    "\n",
    "gridsearch.fit(X,y)"
   ]
  },
  {
   "cell_type": "code",
   "execution_count": 7,
   "metadata": {
    "tags": []
   },
   "outputs": [
    {
     "output_type": "stream",
     "name": "stdout",
     "text": "{'features__pca__n_components': 2, 'features__univ_select__k': 3, 'svm__C': 1}\n"
    }
   ],
   "source": [
    "print(gridsearch.best_params_)"
   ]
  },
  {
   "cell_type": "code",
   "execution_count": null,
   "metadata": {},
   "outputs": [],
   "source": []
  }
 ]
}