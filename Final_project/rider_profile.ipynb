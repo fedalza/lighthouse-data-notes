{
 "metadata": {
  "language_info": {
   "codemirror_mode": {
    "name": "ipython",
    "version": 3
   },
   "file_extension": ".py",
   "mimetype": "text/x-python",
   "name": "python",
   "nbconvert_exporter": "python",
   "pygments_lexer": "ipython3",
   "version": "3.8.5-final"
  },
  "orig_nbformat": 2,
  "kernelspec": {
   "name": "python_defaultSpec_1600953303830",
   "display_name": "Python 3.8.5 64-bit"
  }
 },
 "nbformat": 4,
 "nbformat_minor": 2,
 "cells": [
  {
   "cell_type": "code",
   "execution_count": 44,
   "metadata": {},
   "outputs": [],
   "source": [
    "import pandas as pd\n",
    "import numpy as np"
   ]
  },
  {
   "cell_type": "code",
   "execution_count": 2,
   "metadata": {},
   "outputs": [
    {
     "output_type": "execute_result",
     "data": {
      "text/plain": "  Rnk   GC GC-Time  BIB               Rider  Age                     Team  \\\n0   1  1.0   +0:00  135  kristoff alexander   33        UAE-Team Emirates   \n1   2  2.0   +0:04  105       pedersen mads   24         Trek - Segafredo   \n2   3  3.0   +0:06  203            bol cees   25              Team Sunweb   \n3   4  4.0   +0:10   43         bennett sam   29  Deceuninck - Quick Step   \n4   5  5.0   +0:10   21         sagan peter   30         BORA - hansgrohe   \n\n     UCI    Pnt            Time  sprint_pts  kom_pts  stage_no  sprints  koms  \n0  120.0  100.0  3:46:233:46:23          59        0         1        2     2  \n1   50.0   70.0          ,,0:00          30        0         1        2     2  \n2   25.0   50.0          ,,0:00          20        0         1        2     2  \n3   15.0   40.0          ,,0:00          28        0         1        2     2  \n4    5.0   32.0          ,,0:00          29        0         1        2     2  ",
      "text/html": "<div>\n<style scoped>\n    .dataframe tbody tr th:only-of-type {\n        vertical-align: middle;\n    }\n\n    .dataframe tbody tr th {\n        vertical-align: top;\n    }\n\n    .dataframe thead th {\n        text-align: right;\n    }\n</style>\n<table border=\"1\" class=\"dataframe\">\n  <thead>\n    <tr style=\"text-align: right;\">\n      <th></th>\n      <th>Rnk</th>\n      <th>GC</th>\n      <th>GC-Time</th>\n      <th>BIB</th>\n      <th>Rider</th>\n      <th>Age</th>\n      <th>Team</th>\n      <th>UCI</th>\n      <th>Pnt</th>\n      <th>Time</th>\n      <th>sprint_pts</th>\n      <th>kom_pts</th>\n      <th>stage_no</th>\n      <th>sprints</th>\n      <th>koms</th>\n    </tr>\n  </thead>\n  <tbody>\n    <tr>\n      <th>0</th>\n      <td>1</td>\n      <td>1.0</td>\n      <td>+0:00</td>\n      <td>135</td>\n      <td>kristoff alexander</td>\n      <td>33</td>\n      <td>UAE-Team Emirates</td>\n      <td>120.0</td>\n      <td>100.0</td>\n      <td>3:46:233:46:23</td>\n      <td>59</td>\n      <td>0</td>\n      <td>1</td>\n      <td>2</td>\n      <td>2</td>\n    </tr>\n    <tr>\n      <th>1</th>\n      <td>2</td>\n      <td>2.0</td>\n      <td>+0:04</td>\n      <td>105</td>\n      <td>pedersen mads</td>\n      <td>24</td>\n      <td>Trek - Segafredo</td>\n      <td>50.0</td>\n      <td>70.0</td>\n      <td>,,0:00</td>\n      <td>30</td>\n      <td>0</td>\n      <td>1</td>\n      <td>2</td>\n      <td>2</td>\n    </tr>\n    <tr>\n      <th>2</th>\n      <td>3</td>\n      <td>3.0</td>\n      <td>+0:06</td>\n      <td>203</td>\n      <td>bol cees</td>\n      <td>25</td>\n      <td>Team Sunweb</td>\n      <td>25.0</td>\n      <td>50.0</td>\n      <td>,,0:00</td>\n      <td>20</td>\n      <td>0</td>\n      <td>1</td>\n      <td>2</td>\n      <td>2</td>\n    </tr>\n    <tr>\n      <th>3</th>\n      <td>4</td>\n      <td>4.0</td>\n      <td>+0:10</td>\n      <td>43</td>\n      <td>bennett sam</td>\n      <td>29</td>\n      <td>Deceuninck - Quick Step</td>\n      <td>15.0</td>\n      <td>40.0</td>\n      <td>,,0:00</td>\n      <td>28</td>\n      <td>0</td>\n      <td>1</td>\n      <td>2</td>\n      <td>2</td>\n    </tr>\n    <tr>\n      <th>4</th>\n      <td>5</td>\n      <td>5.0</td>\n      <td>+0:10</td>\n      <td>21</td>\n      <td>sagan peter</td>\n      <td>30</td>\n      <td>BORA - hansgrohe</td>\n      <td>5.0</td>\n      <td>32.0</td>\n      <td>,,0:00</td>\n      <td>29</td>\n      <td>0</td>\n      <td>1</td>\n      <td>2</td>\n      <td>2</td>\n    </tr>\n  </tbody>\n</table>\n</div>"
     },
     "metadata": {},
     "execution_count": 2
    }
   ],
   "source": [
    "stage1 = pd.read_csv('stage1.csv')\n",
    "stage1.head()"
   ]
  },
  {
   "cell_type": "code",
   "execution_count": 127,
   "metadata": {},
   "outputs": [
    {
     "output_type": "execute_result",
     "data": {
      "text/plain": "                Rider  Age                     Team\n0  kristoff alexander   33        UAE-Team Emirates\n1       pedersen mads   24         Trek - Segafredo\n2            bol cees   25              Team Sunweb\n3         bennett sam   29  Deceuninck - Quick Step\n4         sagan peter   30         BORA - hansgrohe",
      "text/html": "<div>\n<style scoped>\n    .dataframe tbody tr th:only-of-type {\n        vertical-align: middle;\n    }\n\n    .dataframe tbody tr th {\n        vertical-align: top;\n    }\n\n    .dataframe thead th {\n        text-align: right;\n    }\n</style>\n<table border=\"1\" class=\"dataframe\">\n  <thead>\n    <tr style=\"text-align: right;\">\n      <th></th>\n      <th>Rider</th>\n      <th>Age</th>\n      <th>Team</th>\n    </tr>\n  </thead>\n  <tbody>\n    <tr>\n      <th>0</th>\n      <td>kristoff alexander</td>\n      <td>33</td>\n      <td>UAE-Team Emirates</td>\n    </tr>\n    <tr>\n      <th>1</th>\n      <td>pedersen mads</td>\n      <td>24</td>\n      <td>Trek - Segafredo</td>\n    </tr>\n    <tr>\n      <th>2</th>\n      <td>bol cees</td>\n      <td>25</td>\n      <td>Team Sunweb</td>\n    </tr>\n    <tr>\n      <th>3</th>\n      <td>bennett sam</td>\n      <td>29</td>\n      <td>Deceuninck - Quick Step</td>\n    </tr>\n    <tr>\n      <th>4</th>\n      <td>sagan peter</td>\n      <td>30</td>\n      <td>BORA - hansgrohe</td>\n    </tr>\n  </tbody>\n</table>\n</div>"
     },
     "metadata": {},
     "execution_count": 127
    }
   ],
   "source": [
    "riders_profile = stage1.loc[:,['Rider','Age','Team']]\n",
    "riders_profile.head()"
   ]
  },
  {
   "cell_type": "code",
   "execution_count": null,
   "metadata": {},
   "outputs": [],
   "source": []
  },
  {
   "cell_type": "code",
   "execution_count": null,
   "metadata": {},
   "outputs": [],
   "source": []
  },
  {
   "cell_type": "code",
   "execution_count": null,
   "metadata": {},
   "outputs": [],
   "source": []
  },
  {
   "cell_type": "code",
   "execution_count": 4,
   "metadata": {},
   "outputs": [],
   "source": [
    "import requests"
   ]
  },
  {
   "source": [
    "# PCS individual ranking:\n",
    "Summation of PCS points over a 12-month + 2 weeks overlap period. Races are counted once. After the finish of a stage, the corresponding stage of the previous edition is excluded. \n"
   ],
   "cell_type": "markdown",
   "metadata": {}
  },
  {
   "cell_type": "code",
   "execution_count": 128,
   "metadata": {
    "tags": []
   },
   "outputs": [
    {
     "output_type": "stream",
     "name": "stdout",
     "text": "0 <Response [200]>\n200 <Response [200]>\n400 <Response [200]>\n600 <Response [200]>\n800 <Response [200]>\n1000 <Response [200]>\n1200 <Response [200]>\n1400 <Response [200]>\n1600 <Response [200]>\n1800 <Response [200]>\n"
    }
   ],
   "source": [
    "for page in np.arange(0,2000,200):\n",
    "    url = f'https://www.procyclingstats.com/rankings.php?id=59874&nation=&team=&page={page}&prev_id=51687&younger=&older=&limit=200&filter=Filter&morefilters=1'\n",
    "    pcs_url = requests.get(url)\n",
    "    print(page,pcs_url)\n",
    "    body = pcs_url.text\n",
    "    pcs_individual_data_n = pd.read_html(body)\n",
    "    if page>0:\n",
    "        pcs_individual_data = pcs_individual_data.append(pd.DataFrame(pcs_individual_data_n[0]),ignore_index=True)\n",
    "    else:\n",
    "        pcs_individual_data = pd.DataFrame(pcs_individual_data_n[0])"
   ]
  },
  {
   "cell_type": "code",
   "execution_count": 129,
   "metadata": {},
   "outputs": [],
   "source": [
    "pcs_individual_data.dropna(inplace=True)"
   ]
  },
  {
   "cell_type": "code",
   "execution_count": 130,
   "metadata": {
    "tags": []
   },
   "outputs": [],
   "source": [
    "pcs_individual_data['Diff.'] = pcs_individual_data['Diff.'].apply(lambda x: x.replace(chr(9650),''))\n",
    "pcs_individual_data['Diff.'] = pcs_individual_data['Diff.'].apply(lambda x: x.replace('-','0'))\n",
    "pcs_individual_data['Diff.'] = pcs_individual_data['Diff.'].apply(lambda x: x.replace(chr(9660),'-'))"
   ]
  },
  {
   "cell_type": "code",
   "execution_count": 131,
   "metadata": {},
   "outputs": [],
   "source": [
    "pcs_individual_data.drop(columns=['Unnamed: 6'],inplace=True)"
   ]
  },
  {
   "cell_type": "code",
   "execution_count": 37,
   "metadata": {},
   "outputs": [],
   "source": [
    "def clean_pcs_diff(column):\n",
    "    column = column.apply(lambda x: x.replace(chr(9650),''))\n",
    "    column = column.apply(lambda x: x.replace('-','0'))\n",
    "    column = column.apply(lambda x: x.replace(chr(9660),'-'))\n",
    "    return column"
   ]
  },
  {
   "cell_type": "code",
   "execution_count": 132,
   "metadata": {},
   "outputs": [],
   "source": [
    "import unidecode\n",
    "pcs_individual_data.Rider = pcs_individual_data.Rider.apply(lambda x: unidecode.unidecode(x.lower()))"
   ]
  },
  {
   "cell_type": "code",
   "execution_count": 133,
   "metadata": {},
   "outputs": [
    {
     "output_type": "execute_result",
     "data": {
      "text/plain": "172"
     },
     "metadata": {},
     "execution_count": 133
    }
   ],
   "source": [
    "pcs_individual_data.Rider.isin(riders_profile.Rider).sum()"
   ]
  },
  {
   "cell_type": "code",
   "execution_count": 93,
   "metadata": {},
   "outputs": [],
   "source": [
    "def keep_tdf_riders(data,tdf_riders):\n",
    "    data = data[data.Rider.isin(tdf_riders.Rider)]\n",
    "    return data"
   ]
  },
  {
   "cell_type": "code",
   "execution_count": 94,
   "metadata": {},
   "outputs": [
    {
     "output_type": "execute_result",
     "data": {
      "text/plain": "       Rnk  Prev. Diff.               Rider  \\\n0        1   10.0     9       pogacar tadej   \n1        2    1.0    -1       roglic primoz   \n5        6    7.0     1   van avermaet greg   \n6        7   12.0     5      quintana nairo   \n8        9    6.0    -3  valverde alejandro   \n...    ...    ...   ...                 ...   \n1224  1225  330.0  -895    debusschere jens   \n1255  1256  781.0  -475       sicard romain   \n1343  1344  618.0  -726       cousin jerome   \n1399  1400  487.0  -913      anacona winner   \n1457  1458  677.0  -781             niv guy   \n\n                                    Team  Pnts  \n0                      UAE-Team Emirates  1302  \n1                       Team Jumbo-Visma  1281  \n5                               CCC Team  1046  \n6                      Team Arkéa Samsic   993  \n8                          Movistar Team   917  \n...                                  ...   ...  \n1224  B&B Hotels - Vital Concept p/b KTM     9  \n1255           Team Total Direct Energie     8  \n1343           Team Total Direct Energie     6  \n1399                   Team Arkéa Samsic     5  \n1457              Israel Start-Up Nation     5  \n\n[172 rows x 6 columns]",
      "text/html": "<div>\n<style scoped>\n    .dataframe tbody tr th:only-of-type {\n        vertical-align: middle;\n    }\n\n    .dataframe tbody tr th {\n        vertical-align: top;\n    }\n\n    .dataframe thead th {\n        text-align: right;\n    }\n</style>\n<table border=\"1\" class=\"dataframe\">\n  <thead>\n    <tr style=\"text-align: right;\">\n      <th></th>\n      <th>Rnk</th>\n      <th>Prev.</th>\n      <th>Diff.</th>\n      <th>Rider</th>\n      <th>Team</th>\n      <th>Pnts</th>\n    </tr>\n  </thead>\n  <tbody>\n    <tr>\n      <th>0</th>\n      <td>1</td>\n      <td>10.0</td>\n      <td>9</td>\n      <td>pogacar tadej</td>\n      <td>UAE-Team Emirates</td>\n      <td>1302</td>\n    </tr>\n    <tr>\n      <th>1</th>\n      <td>2</td>\n      <td>1.0</td>\n      <td>-1</td>\n      <td>roglic primoz</td>\n      <td>Team Jumbo-Visma</td>\n      <td>1281</td>\n    </tr>\n    <tr>\n      <th>5</th>\n      <td>6</td>\n      <td>7.0</td>\n      <td>1</td>\n      <td>van avermaet greg</td>\n      <td>CCC Team</td>\n      <td>1046</td>\n    </tr>\n    <tr>\n      <th>6</th>\n      <td>7</td>\n      <td>12.0</td>\n      <td>5</td>\n      <td>quintana nairo</td>\n      <td>Team Arkéa Samsic</td>\n      <td>993</td>\n    </tr>\n    <tr>\n      <th>8</th>\n      <td>9</td>\n      <td>6.0</td>\n      <td>-3</td>\n      <td>valverde alejandro</td>\n      <td>Movistar Team</td>\n      <td>917</td>\n    </tr>\n    <tr>\n      <th>...</th>\n      <td>...</td>\n      <td>...</td>\n      <td>...</td>\n      <td>...</td>\n      <td>...</td>\n      <td>...</td>\n    </tr>\n    <tr>\n      <th>1224</th>\n      <td>1225</td>\n      <td>330.0</td>\n      <td>-895</td>\n      <td>debusschere jens</td>\n      <td>B&amp;B Hotels - Vital Concept p/b KTM</td>\n      <td>9</td>\n    </tr>\n    <tr>\n      <th>1255</th>\n      <td>1256</td>\n      <td>781.0</td>\n      <td>-475</td>\n      <td>sicard romain</td>\n      <td>Team Total Direct Energie</td>\n      <td>8</td>\n    </tr>\n    <tr>\n      <th>1343</th>\n      <td>1344</td>\n      <td>618.0</td>\n      <td>-726</td>\n      <td>cousin jerome</td>\n      <td>Team Total Direct Energie</td>\n      <td>6</td>\n    </tr>\n    <tr>\n      <th>1399</th>\n      <td>1400</td>\n      <td>487.0</td>\n      <td>-913</td>\n      <td>anacona winner</td>\n      <td>Team Arkéa Samsic</td>\n      <td>5</td>\n    </tr>\n    <tr>\n      <th>1457</th>\n      <td>1458</td>\n      <td>677.0</td>\n      <td>-781</td>\n      <td>niv guy</td>\n      <td>Israel Start-Up Nation</td>\n      <td>5</td>\n    </tr>\n  </tbody>\n</table>\n<p>172 rows × 6 columns</p>\n</div>"
     },
     "metadata": {},
     "execution_count": 94
    }
   ],
   "source": [
    "keep_tdf_riders(pcs_individual_data,riders_profile)"
   ]
  },
  {
   "cell_type": "code",
   "execution_count": 135,
   "metadata": {},
   "outputs": [],
   "source": [
    "riders_profile = riders_profile.merge(keep_tdf_riders(pcs_individual_data,riders_profile),how='left',on='Rider',suffixes=('','_pcs_ind'))"
   ]
  },
  {
   "cell_type": "code",
   "execution_count": 136,
   "metadata": {},
   "outputs": [],
   "source": [
    "riders_profile.drop(columns='Team_pcs_ind',inplace=True)\n",
    "riders_profile.drop(columns='Prev.',inplace=True)"
   ]
  },
  {
   "cell_type": "code",
   "execution_count": 137,
   "metadata": {},
   "outputs": [],
   "source": [
    "riders_profile = riders_profile.rename(columns={'Rnk':'Rnk_pcs_ind','Diff.':'Diff._pcs_ind','Pnts':'Pnts_pcs_ind'})"
   ]
  },
  {
   "cell_type": "code",
   "execution_count": 138,
   "metadata": {},
   "outputs": [
    {
     "output_type": "execute_result",
     "data": {
      "text/plain": "                  Rider  Age                     Team  Rnk_pcs_ind  \\\n0    kristoff alexander   33        UAE-Team Emirates         28.0   \n1         pedersen mads   24         Trek - Segafredo         26.0   \n2              bol cees   25              Team Sunweb        141.0   \n3           bennett sam   29  Deceuninck - Quick Step         12.0   \n4           sagan peter   30         BORA - hansgrohe         19.0   \n..                  ...  ...                      ...          ...   \n171       sivakov pavel   23         INEOS Grenadiers         57.0   \n172          cras steff   24             Lotto Soudal        502.0   \n173      ledanois kevin   27        Team Arkéa Samsic        420.0   \n174        valls rafael   33        Bahrain - McLaren        807.0   \n175      degenkolb john   31             Lotto Soudal        147.0   \n\n    Diff._pcs_ind  Pnts_pcs_ind  \n0             -20         611.0  \n1              72         625.0  \n2             -39         237.0  \n3               6         828.0  \n4              -6         684.0  \n..            ...           ...  \n171           -19         431.0  \n172            97          58.0  \n173           148          75.0  \n174          -143          24.0  \n175           -55         225.0  \n\n[176 rows x 6 columns]",
      "text/html": "<div>\n<style scoped>\n    .dataframe tbody tr th:only-of-type {\n        vertical-align: middle;\n    }\n\n    .dataframe tbody tr th {\n        vertical-align: top;\n    }\n\n    .dataframe thead th {\n        text-align: right;\n    }\n</style>\n<table border=\"1\" class=\"dataframe\">\n  <thead>\n    <tr style=\"text-align: right;\">\n      <th></th>\n      <th>Rider</th>\n      <th>Age</th>\n      <th>Team</th>\n      <th>Rnk_pcs_ind</th>\n      <th>Diff._pcs_ind</th>\n      <th>Pnts_pcs_ind</th>\n    </tr>\n  </thead>\n  <tbody>\n    <tr>\n      <th>0</th>\n      <td>kristoff alexander</td>\n      <td>33</td>\n      <td>UAE-Team Emirates</td>\n      <td>28.0</td>\n      <td>-20</td>\n      <td>611.0</td>\n    </tr>\n    <tr>\n      <th>1</th>\n      <td>pedersen mads</td>\n      <td>24</td>\n      <td>Trek - Segafredo</td>\n      <td>26.0</td>\n      <td>72</td>\n      <td>625.0</td>\n    </tr>\n    <tr>\n      <th>2</th>\n      <td>bol cees</td>\n      <td>25</td>\n      <td>Team Sunweb</td>\n      <td>141.0</td>\n      <td>-39</td>\n      <td>237.0</td>\n    </tr>\n    <tr>\n      <th>3</th>\n      <td>bennett sam</td>\n      <td>29</td>\n      <td>Deceuninck - Quick Step</td>\n      <td>12.0</td>\n      <td>6</td>\n      <td>828.0</td>\n    </tr>\n    <tr>\n      <th>4</th>\n      <td>sagan peter</td>\n      <td>30</td>\n      <td>BORA - hansgrohe</td>\n      <td>19.0</td>\n      <td>-6</td>\n      <td>684.0</td>\n    </tr>\n    <tr>\n      <th>...</th>\n      <td>...</td>\n      <td>...</td>\n      <td>...</td>\n      <td>...</td>\n      <td>...</td>\n      <td>...</td>\n    </tr>\n    <tr>\n      <th>171</th>\n      <td>sivakov pavel</td>\n      <td>23</td>\n      <td>INEOS Grenadiers</td>\n      <td>57.0</td>\n      <td>-19</td>\n      <td>431.0</td>\n    </tr>\n    <tr>\n      <th>172</th>\n      <td>cras steff</td>\n      <td>24</td>\n      <td>Lotto Soudal</td>\n      <td>502.0</td>\n      <td>97</td>\n      <td>58.0</td>\n    </tr>\n    <tr>\n      <th>173</th>\n      <td>ledanois kevin</td>\n      <td>27</td>\n      <td>Team Arkéa Samsic</td>\n      <td>420.0</td>\n      <td>148</td>\n      <td>75.0</td>\n    </tr>\n    <tr>\n      <th>174</th>\n      <td>valls rafael</td>\n      <td>33</td>\n      <td>Bahrain - McLaren</td>\n      <td>807.0</td>\n      <td>-143</td>\n      <td>24.0</td>\n    </tr>\n    <tr>\n      <th>175</th>\n      <td>degenkolb john</td>\n      <td>31</td>\n      <td>Lotto Soudal</td>\n      <td>147.0</td>\n      <td>-55</td>\n      <td>225.0</td>\n    </tr>\n  </tbody>\n</table>\n<p>176 rows × 6 columns</p>\n</div>"
     },
     "metadata": {},
     "execution_count": 138
    }
   ],
   "source": [
    "riders_profile"
   ]
  },
  {
   "source": [
    "# PCS climbers ranking:\n",
    "Summation of PCS points over a 12-month + 2 weeks overlap period. Races are counted once. After the finish of a stage, the corresponding stage of the previous edition is excluded. "
   ],
   "cell_type": "markdown",
   "metadata": {}
  },
  {
   "cell_type": "code",
   "execution_count": 139,
   "metadata": {
    "tags": []
   },
   "outputs": [
    {
     "output_type": "stream",
     "name": "stdout",
     "text": "0 <Response [200]>\n200 <Response [200]>\n400 <Response [200]>\n600 <Response [200]>\n800 <Response [200]>\n"
    }
   ],
   "source": [
    "for page in np.arange(0,1000,200):\n",
    "    url = f'https://www.procyclingstats.com/rankings.php?id=60972&nation=&team=&page={page}&prev_id=prev&younger=&older=&limit=200&filter=Filter&morefilters='\n",
    "    pcs_url = requests.get(url)\n",
    "    print(page,pcs_url)\n",
    "    body = pcs_url.text\n",
    "    pcs_climb_data_n = pd.read_html(body)\n",
    "    if page>0:\n",
    "        pcs_climb_data = pcs_climb_data.append(pd.DataFrame(pcs_climb_data_n[0]),ignore_index=True)\n",
    "    else:\n",
    "        pcs_climb_data = pd.DataFrame(pcs_climb_data_n[0])"
   ]
  },
  {
   "cell_type": "code",
   "execution_count": 140,
   "metadata": {},
   "outputs": [
    {
     "output_type": "execute_result",
     "data": {
      "text/plain": "     Rnk   Prev. Diff.             Rider                              Team  \\\n0      1     5.0     4     Pogačar Tadej                 UAE-Team Emirates   \n1      2     1.0    -1     Roglič Primož                  Team Jumbo-Visma   \n2      3    12.0     9        Yates Adam                  Mitchelton-Scott   \n3      4    56.0    52      Porte Richie                  Trek - Segafredo   \n4      5    31.0    26  Martin Guillaume        Cofidis, Solutions Crédits   \n..   ...     ...   ...               ...                               ...   \n862  863  1553.0   690   Yamamoto Masaki                Kinan Cycling Team   \n864  865  1460.0   595  Spreafico Matteo                   Vini Zabù - KTM   \n865  866  1558.0   692    Nakamura Kaito                Utsunomiya Blitzen   \n866  867   715.0  -152    Deltombe Kevin        Sport Vlaanderen - Baloise   \n867  868  1479.0   611      Osorio Danny  Equipe Continental Orgullo Paisa   \n\n     Pnts                           Unnamed: 6  \n0     956  Point breakdownStandings per season  \n1     819  Point breakdownStandings per season  \n2     560  Point breakdownStandings per season  \n3     535  Point breakdownStandings per season  \n4     500  Point breakdownStandings per season  \n..    ...                                  ...  \n862     0  Point breakdownStandings per season  \n864     0  Point breakdownStandings per season  \n865     0  Point breakdownStandings per season  \n866     0  Point breakdownStandings per season  \n867     0  Point breakdownStandings per season  \n\n[647 rows x 7 columns]",
      "text/html": "<div>\n<style scoped>\n    .dataframe tbody tr th:only-of-type {\n        vertical-align: middle;\n    }\n\n    .dataframe tbody tr th {\n        vertical-align: top;\n    }\n\n    .dataframe thead th {\n        text-align: right;\n    }\n</style>\n<table border=\"1\" class=\"dataframe\">\n  <thead>\n    <tr style=\"text-align: right;\">\n      <th></th>\n      <th>Rnk</th>\n      <th>Prev.</th>\n      <th>Diff.</th>\n      <th>Rider</th>\n      <th>Team</th>\n      <th>Pnts</th>\n      <th>Unnamed: 6</th>\n    </tr>\n  </thead>\n  <tbody>\n    <tr>\n      <th>0</th>\n      <td>1</td>\n      <td>5.0</td>\n      <td>4</td>\n      <td>Pogačar Tadej</td>\n      <td>UAE-Team Emirates</td>\n      <td>956</td>\n      <td>Point breakdownStandings per season</td>\n    </tr>\n    <tr>\n      <th>1</th>\n      <td>2</td>\n      <td>1.0</td>\n      <td>-1</td>\n      <td>Roglič Primož</td>\n      <td>Team Jumbo-Visma</td>\n      <td>819</td>\n      <td>Point breakdownStandings per season</td>\n    </tr>\n    <tr>\n      <th>2</th>\n      <td>3</td>\n      <td>12.0</td>\n      <td>9</td>\n      <td>Yates Adam</td>\n      <td>Mitchelton-Scott</td>\n      <td>560</td>\n      <td>Point breakdownStandings per season</td>\n    </tr>\n    <tr>\n      <th>3</th>\n      <td>4</td>\n      <td>56.0</td>\n      <td>52</td>\n      <td>Porte Richie</td>\n      <td>Trek - Segafredo</td>\n      <td>535</td>\n      <td>Point breakdownStandings per season</td>\n    </tr>\n    <tr>\n      <th>4</th>\n      <td>5</td>\n      <td>31.0</td>\n      <td>26</td>\n      <td>Martin Guillaume</td>\n      <td>Cofidis, Solutions Crédits</td>\n      <td>500</td>\n      <td>Point breakdownStandings per season</td>\n    </tr>\n    <tr>\n      <th>...</th>\n      <td>...</td>\n      <td>...</td>\n      <td>...</td>\n      <td>...</td>\n      <td>...</td>\n      <td>...</td>\n      <td>...</td>\n    </tr>\n    <tr>\n      <th>862</th>\n      <td>863</td>\n      <td>1553.0</td>\n      <td>690</td>\n      <td>Yamamoto Masaki</td>\n      <td>Kinan Cycling Team</td>\n      <td>0</td>\n      <td>Point breakdownStandings per season</td>\n    </tr>\n    <tr>\n      <th>864</th>\n      <td>865</td>\n      <td>1460.0</td>\n      <td>595</td>\n      <td>Spreafico Matteo</td>\n      <td>Vini Zabù - KTM</td>\n      <td>0</td>\n      <td>Point breakdownStandings per season</td>\n    </tr>\n    <tr>\n      <th>865</th>\n      <td>866</td>\n      <td>1558.0</td>\n      <td>692</td>\n      <td>Nakamura Kaito</td>\n      <td>Utsunomiya Blitzen</td>\n      <td>0</td>\n      <td>Point breakdownStandings per season</td>\n    </tr>\n    <tr>\n      <th>866</th>\n      <td>867</td>\n      <td>715.0</td>\n      <td>-152</td>\n      <td>Deltombe Kevin</td>\n      <td>Sport Vlaanderen - Baloise</td>\n      <td>0</td>\n      <td>Point breakdownStandings per season</td>\n    </tr>\n    <tr>\n      <th>867</th>\n      <td>868</td>\n      <td>1479.0</td>\n      <td>611</td>\n      <td>Osorio Danny</td>\n      <td>Equipe Continental Orgullo Paisa</td>\n      <td>0</td>\n      <td>Point breakdownStandings per season</td>\n    </tr>\n  </tbody>\n</table>\n<p>647 rows × 7 columns</p>\n</div>"
     },
     "metadata": {},
     "execution_count": 140
    }
   ],
   "source": [
    "pcs_climb_data.dropna(inplace=True)\n",
    "pcs_climb_data['Diff.'] = pcs_climb_data['Diff.'].apply(lambda x: x.replace(chr(9650),''))\n",
    "pcs_climb_data['Diff.'] = pcs_climb_data['Diff.'].apply(lambda x: x.replace('-','0'))\n",
    "pcs_climb_data['Diff.'] = pcs_climb_data['Diff.'].apply(lambda x: x.replace(chr(9660),'-'))\n",
    "pcs_climb_data"
   ]
  },
  {
   "cell_type": "code",
   "execution_count": 141,
   "metadata": {},
   "outputs": [],
   "source": [
    "pcs_climb_data.Rider = pcs_climb_data.Rider.apply(lambda x: unidecode.unidecode(x.lower()))\n",
    "pcs_climb_data.drop(columns=['Unnamed: 6'],inplace=True)"
   ]
  },
  {
   "cell_type": "code",
   "execution_count": 142,
   "metadata": {},
   "outputs": [],
   "source": [
    "riders_profile = riders_profile.merge(keep_tdf_riders(pcs_climb_data,riders_profile),how='left',on='Rider',suffixes=('','_pcs_climb'))"
   ]
  },
  {
   "cell_type": "code",
   "execution_count": 143,
   "metadata": {},
   "outputs": [],
   "source": [
    "riders_profile = riders_profile.rename(columns={'Rnk':'Rnk_climb_ind','Diff.':'Diff._climb_ind','Pnts':'Pnts_climb_ind'})\n",
    "riders_profile.drop(columns=['Prev.','Team_pcs_climb'],inplace=True)"
   ]
  },
  {
   "cell_type": "code",
   "execution_count": 144,
   "metadata": {},
   "outputs": [
    {
     "output_type": "execute_result",
     "data": {
      "text/plain": "                   Rider  Age                                Team  \\\n16         pogacar tadej   21                   UAE-Team Emirates   \n38         roglic primoz   30                    Team Jumbo-Visma   \n67     van avermaet greg   35                            CCC Team   \n59        quintana nairo   30                   Team Arkéa Samsic   \n121   valverde alejandro   40                       Movistar Team   \n..                   ...  ...                                 ...   \n153              niv guy   26              Israel Start-Up Nation   \n54       grellier fabien   25           Team Total Direct Energie   \n55            reza kevin   32  B&B Hotels - Vital Concept p/b KTM   \n73   perichon pierre-luc   33          Cofidis, Solutions Crédits   \n158       bonnet william   38                      Groupama - FDJ   \n\n     Rnk_pcs_ind Diff._pcs_ind  Pnts_pcs_ind  Rnk_climb_ind Diff._climb_ind  \\\n16           1.0             9        1302.0            1.0               4   \n38           2.0            -1        1281.0            2.0              -1   \n67           6.0             1        1046.0           31.0             -15   \n59           7.0             5         993.0           18.0             -14   \n121          9.0            -3         917.0            9.0              -7   \n..           ...           ...           ...            ...             ...   \n153       1458.0          -781           5.0            NaN             NaN   \n54           NaN           NaN           NaN            NaN             NaN   \n55           NaN           NaN           NaN            NaN             NaN   \n73           NaN           NaN           NaN            NaN             NaN   \n158          NaN           NaN           NaN            NaN             NaN   \n\n     Pnts_climb_ind  \n16            956.0  \n38            819.0  \n67            286.0  \n59            384.0  \n121           476.0  \n..              ...  \n153             NaN  \n54              NaN  \n55              NaN  \n73              NaN  \n158             NaN  \n\n[176 rows x 9 columns]",
      "text/html": "<div>\n<style scoped>\n    .dataframe tbody tr th:only-of-type {\n        vertical-align: middle;\n    }\n\n    .dataframe tbody tr th {\n        vertical-align: top;\n    }\n\n    .dataframe thead th {\n        text-align: right;\n    }\n</style>\n<table border=\"1\" class=\"dataframe\">\n  <thead>\n    <tr style=\"text-align: right;\">\n      <th></th>\n      <th>Rider</th>\n      <th>Age</th>\n      <th>Team</th>\n      <th>Rnk_pcs_ind</th>\n      <th>Diff._pcs_ind</th>\n      <th>Pnts_pcs_ind</th>\n      <th>Rnk_climb_ind</th>\n      <th>Diff._climb_ind</th>\n      <th>Pnts_climb_ind</th>\n    </tr>\n  </thead>\n  <tbody>\n    <tr>\n      <th>16</th>\n      <td>pogacar tadej</td>\n      <td>21</td>\n      <td>UAE-Team Emirates</td>\n      <td>1.0</td>\n      <td>9</td>\n      <td>1302.0</td>\n      <td>1.0</td>\n      <td>4</td>\n      <td>956.0</td>\n    </tr>\n    <tr>\n      <th>38</th>\n      <td>roglic primoz</td>\n      <td>30</td>\n      <td>Team Jumbo-Visma</td>\n      <td>2.0</td>\n      <td>-1</td>\n      <td>1281.0</td>\n      <td>2.0</td>\n      <td>-1</td>\n      <td>819.0</td>\n    </tr>\n    <tr>\n      <th>67</th>\n      <td>van avermaet greg</td>\n      <td>35</td>\n      <td>CCC Team</td>\n      <td>6.0</td>\n      <td>1</td>\n      <td>1046.0</td>\n      <td>31.0</td>\n      <td>-15</td>\n      <td>286.0</td>\n    </tr>\n    <tr>\n      <th>59</th>\n      <td>quintana nairo</td>\n      <td>30</td>\n      <td>Team Arkéa Samsic</td>\n      <td>7.0</td>\n      <td>5</td>\n      <td>993.0</td>\n      <td>18.0</td>\n      <td>-14</td>\n      <td>384.0</td>\n    </tr>\n    <tr>\n      <th>121</th>\n      <td>valverde alejandro</td>\n      <td>40</td>\n      <td>Movistar Team</td>\n      <td>9.0</td>\n      <td>-3</td>\n      <td>917.0</td>\n      <td>9.0</td>\n      <td>-7</td>\n      <td>476.0</td>\n    </tr>\n    <tr>\n      <th>...</th>\n      <td>...</td>\n      <td>...</td>\n      <td>...</td>\n      <td>...</td>\n      <td>...</td>\n      <td>...</td>\n      <td>...</td>\n      <td>...</td>\n      <td>...</td>\n    </tr>\n    <tr>\n      <th>153</th>\n      <td>niv guy</td>\n      <td>26</td>\n      <td>Israel Start-Up Nation</td>\n      <td>1458.0</td>\n      <td>-781</td>\n      <td>5.0</td>\n      <td>NaN</td>\n      <td>NaN</td>\n      <td>NaN</td>\n    </tr>\n    <tr>\n      <th>54</th>\n      <td>grellier fabien</td>\n      <td>25</td>\n      <td>Team Total Direct Energie</td>\n      <td>NaN</td>\n      <td>NaN</td>\n      <td>NaN</td>\n      <td>NaN</td>\n      <td>NaN</td>\n      <td>NaN</td>\n    </tr>\n    <tr>\n      <th>55</th>\n      <td>reza kevin</td>\n      <td>32</td>\n      <td>B&amp;B Hotels - Vital Concept p/b KTM</td>\n      <td>NaN</td>\n      <td>NaN</td>\n      <td>NaN</td>\n      <td>NaN</td>\n      <td>NaN</td>\n      <td>NaN</td>\n    </tr>\n    <tr>\n      <th>73</th>\n      <td>perichon pierre-luc</td>\n      <td>33</td>\n      <td>Cofidis, Solutions Crédits</td>\n      <td>NaN</td>\n      <td>NaN</td>\n      <td>NaN</td>\n      <td>NaN</td>\n      <td>NaN</td>\n      <td>NaN</td>\n    </tr>\n    <tr>\n      <th>158</th>\n      <td>bonnet william</td>\n      <td>38</td>\n      <td>Groupama - FDJ</td>\n      <td>NaN</td>\n      <td>NaN</td>\n      <td>NaN</td>\n      <td>NaN</td>\n      <td>NaN</td>\n      <td>NaN</td>\n    </tr>\n  </tbody>\n</table>\n<p>176 rows × 9 columns</p>\n</div>"
     },
     "metadata": {},
     "execution_count": 144
    }
   ],
   "source": [
    "riders_profile.sort_values(by='Rnk_pcs_ind')"
   ]
  },
  {
   "source": [
    "# PCS sprints ranking:\n",
    "Summation of PCS points over a 12-month + 2 weeks overlap period. Races are counted once. After the finish of a stage, the corresponding stage of the previous edition is excluded. "
   ],
   "cell_type": "markdown",
   "metadata": {}
  },
  {
   "cell_type": "code",
   "execution_count": 145,
   "metadata": {
    "tags": []
   },
   "outputs": [
    {
     "output_type": "stream",
     "name": "stdout",
     "text": "0 <Response [200]>\n200 <Response [200]>\n400 <Response [200]>\n600 <Response [200]>\n800 <Response [200]>\n"
    }
   ],
   "source": [
    "for page in np.arange(0,1000,200):\n",
    "    url = f'https://www.procyclingstats.com/rankings.php?id=60937&nation=&team=&page={page}&prev_id=prev&younger=&older=&limit=200&filter=Filter&morefilters='\n",
    "    pcs_url = requests.get(url)\n",
    "    print(page,pcs_url)\n",
    "    body = pcs_url.text\n",
    "    pcs_sprint_data_n = pd.read_html(body)\n",
    "    if page>0:\n",
    "        pcs_sprint_data = pcs_sprint_data.append(pd.DataFrame(pcs_sprint_data_n[0]),ignore_index=True)\n",
    "    else:\n",
    "        pcs_sprint_data = pd.DataFrame(pcs_sprint_data_n[0])"
   ]
  },
  {
   "cell_type": "code",
   "execution_count": 146,
   "metadata": {},
   "outputs": [
    {
     "output_type": "execute_result",
     "data": {
      "text/plain": "     Rnk  Prev. Diff.              Rider  \\\n0      1    3.0     2   ackermann pascal   \n1      2    4.0     2        bennett sam   \n2      3   14.0    11   gaviria fernando   \n3      4   18.0    14      demare arnaud   \n4      5   23.0    18    nizzolo giacomo   \n..   ...    ...   ...                ...   \n982  983  679.0  -304    gazzoli michele   \n984  985  881.0  -104    krizek matthias   \n989  990  901.0   -89  antomarchi julien   \n991  992  333.0  -659        jerman ziga   \n998  999  566.0  -433         bax sjoerd   \n\n                                               Team   Pnts  \n0                                  BORA - hansgrohe  857.0  \n1                           Deceuninck - Quick Step  736.5  \n2                                 UAE-Team Emirates  633.5  \n3                                    Groupama - FDJ  580.5  \n4                                   NTT Pro Cycling  535.5  \n..                                              ...    ...  \n982                             Team Colpack Ballan    9.0  \n984                  Team Felbermayr - Simplon Wels    9.0  \n989           Natura4Ever - Roubaix Lille Métropole    8.0  \n991                Equipe continentale Groupama-FDJ    8.0  \n998  Metec - TKH Continental Cyclingteam p/b Mantel    8.0  \n\n[527 rows x 6 columns]",
      "text/html": "<div>\n<style scoped>\n    .dataframe tbody tr th:only-of-type {\n        vertical-align: middle;\n    }\n\n    .dataframe tbody tr th {\n        vertical-align: top;\n    }\n\n    .dataframe thead th {\n        text-align: right;\n    }\n</style>\n<table border=\"1\" class=\"dataframe\">\n  <thead>\n    <tr style=\"text-align: right;\">\n      <th></th>\n      <th>Rnk</th>\n      <th>Prev.</th>\n      <th>Diff.</th>\n      <th>Rider</th>\n      <th>Team</th>\n      <th>Pnts</th>\n    </tr>\n  </thead>\n  <tbody>\n    <tr>\n      <th>0</th>\n      <td>1</td>\n      <td>3.0</td>\n      <td>2</td>\n      <td>ackermann pascal</td>\n      <td>BORA - hansgrohe</td>\n      <td>857.0</td>\n    </tr>\n    <tr>\n      <th>1</th>\n      <td>2</td>\n      <td>4.0</td>\n      <td>2</td>\n      <td>bennett sam</td>\n      <td>Deceuninck - Quick Step</td>\n      <td>736.5</td>\n    </tr>\n    <tr>\n      <th>2</th>\n      <td>3</td>\n      <td>14.0</td>\n      <td>11</td>\n      <td>gaviria fernando</td>\n      <td>UAE-Team Emirates</td>\n      <td>633.5</td>\n    </tr>\n    <tr>\n      <th>3</th>\n      <td>4</td>\n      <td>18.0</td>\n      <td>14</td>\n      <td>demare arnaud</td>\n      <td>Groupama - FDJ</td>\n      <td>580.5</td>\n    </tr>\n    <tr>\n      <th>4</th>\n      <td>5</td>\n      <td>23.0</td>\n      <td>18</td>\n      <td>nizzolo giacomo</td>\n      <td>NTT Pro Cycling</td>\n      <td>535.5</td>\n    </tr>\n    <tr>\n      <th>...</th>\n      <td>...</td>\n      <td>...</td>\n      <td>...</td>\n      <td>...</td>\n      <td>...</td>\n      <td>...</td>\n    </tr>\n    <tr>\n      <th>982</th>\n      <td>983</td>\n      <td>679.0</td>\n      <td>-304</td>\n      <td>gazzoli michele</td>\n      <td>Team Colpack Ballan</td>\n      <td>9.0</td>\n    </tr>\n    <tr>\n      <th>984</th>\n      <td>985</td>\n      <td>881.0</td>\n      <td>-104</td>\n      <td>krizek matthias</td>\n      <td>Team Felbermayr - Simplon Wels</td>\n      <td>9.0</td>\n    </tr>\n    <tr>\n      <th>989</th>\n      <td>990</td>\n      <td>901.0</td>\n      <td>-89</td>\n      <td>antomarchi julien</td>\n      <td>Natura4Ever - Roubaix Lille Métropole</td>\n      <td>8.0</td>\n    </tr>\n    <tr>\n      <th>991</th>\n      <td>992</td>\n      <td>333.0</td>\n      <td>-659</td>\n      <td>jerman ziga</td>\n      <td>Equipe continentale Groupama-FDJ</td>\n      <td>8.0</td>\n    </tr>\n    <tr>\n      <th>998</th>\n      <td>999</td>\n      <td>566.0</td>\n      <td>-433</td>\n      <td>bax sjoerd</td>\n      <td>Metec - TKH Continental Cyclingteam p/b Mantel</td>\n      <td>8.0</td>\n    </tr>\n  </tbody>\n</table>\n<p>527 rows × 6 columns</p>\n</div>"
     },
     "metadata": {},
     "execution_count": 146
    }
   ],
   "source": [
    "pcs_sprint_data.dropna(inplace=True)\n",
    "pcs_sprint_data['Diff.'] = pcs_sprint_data['Diff.'].apply(lambda x: x.replace(chr(9650),''))\n",
    "pcs_sprint_data['Diff.'] = pcs_sprint_data['Diff.'].apply(lambda x: x.replace('-','0'))\n",
    "pcs_sprint_data['Diff.'] = pcs_sprint_data['Diff.'].apply(lambda x: x.replace(chr(9660),'-'))\n",
    "pcs_sprint_data.Rider = pcs_sprint_data.Rider.apply(lambda x: unidecode.unidecode(x.lower()))\n",
    "pcs_sprint_data.drop(columns=['Unnamed: 6'],inplace=True)\n",
    "pcs_sprint_data"
   ]
  },
  {
   "cell_type": "code",
   "execution_count": 147,
   "metadata": {},
   "outputs": [],
   "source": [
    "riders_profile = riders_profile.merge(keep_tdf_riders(pcs_sprint_data,riders_profile),how='left',on='Rider',suffixes=('','_pcs_sprint'))"
   ]
  },
  {
   "cell_type": "code",
   "execution_count": 148,
   "metadata": {},
   "outputs": [],
   "source": [
    "riders_profile = riders_profile.rename(columns={'Rnk':'Rnk_sprint_ind','Diff.':'Diff._sprint_ind','Pnts':'Pnts_sprint_ind'})\n",
    "riders_profile.drop(columns=['Prev.','Team_pcs_sprint'],inplace=True)"
   ]
  },
  {
   "cell_type": "code",
   "execution_count": 149,
   "metadata": {},
   "outputs": [
    {
     "output_type": "execute_result",
     "data": {
      "text/plain": "                  Rider  Age                     Team  Rnk_pcs_ind  \\\n0    kristoff alexander   33        UAE-Team Emirates         28.0   \n1         pedersen mads   24         Trek - Segafredo         26.0   \n2              bol cees   25              Team Sunweb        141.0   \n3           bennett sam   29  Deceuninck - Quick Step         12.0   \n4           sagan peter   30         BORA - hansgrohe         19.0   \n..                  ...  ...                      ...          ...   \n171       sivakov pavel   23         INEOS Grenadiers         57.0   \n172          cras steff   24             Lotto Soudal        502.0   \n173      ledanois kevin   27        Team Arkéa Samsic        420.0   \n174        valls rafael   33        Bahrain - McLaren        807.0   \n175      degenkolb john   31             Lotto Soudal        147.0   \n\n    Diff._pcs_ind  Pnts_pcs_ind  Rnk_climb_ind Diff._climb_ind  \\\n0             -20         611.0            NaN             NaN   \n1              72         625.0          396.0             128   \n2             -39         237.0          687.0            -365   \n3               6         828.0          128.0             301   \n4              -6         684.0          116.0             -73   \n..            ...           ...            ...             ...   \n171           -19         431.0           45.0               5   \n172            97          58.0          225.0             169   \n173           148          75.0            NaN             NaN   \n174          -143          24.0          354.0             151   \n175           -55         225.0          383.0            -200   \n\n     Pnts_climb_ind  Rnk_sprint_ind Diff._sprint_ind  Pnts_sprint_ind  \n0               NaN            17.0               -6            335.5  \n1              10.0            30.0               94            270.5  \n2               2.0            37.0               18            227.5  \n3              58.0             2.0                2            736.5  \n4              68.0             8.0                1            428.0  \n..              ...             ...              ...              ...  \n171           225.0             NaN              NaN              NaN  \n172            24.0             NaN              NaN              NaN  \n173             NaN           343.0               86             43.0  \n174            12.0             NaN              NaN              NaN  \n175            10.0            54.0              -13            187.5  \n\n[176 rows x 12 columns]",
      "text/html": "<div>\n<style scoped>\n    .dataframe tbody tr th:only-of-type {\n        vertical-align: middle;\n    }\n\n    .dataframe tbody tr th {\n        vertical-align: top;\n    }\n\n    .dataframe thead th {\n        text-align: right;\n    }\n</style>\n<table border=\"1\" class=\"dataframe\">\n  <thead>\n    <tr style=\"text-align: right;\">\n      <th></th>\n      <th>Rider</th>\n      <th>Age</th>\n      <th>Team</th>\n      <th>Rnk_pcs_ind</th>\n      <th>Diff._pcs_ind</th>\n      <th>Pnts_pcs_ind</th>\n      <th>Rnk_climb_ind</th>\n      <th>Diff._climb_ind</th>\n      <th>Pnts_climb_ind</th>\n      <th>Rnk_sprint_ind</th>\n      <th>Diff._sprint_ind</th>\n      <th>Pnts_sprint_ind</th>\n    </tr>\n  </thead>\n  <tbody>\n    <tr>\n      <th>0</th>\n      <td>kristoff alexander</td>\n      <td>33</td>\n      <td>UAE-Team Emirates</td>\n      <td>28.0</td>\n      <td>-20</td>\n      <td>611.0</td>\n      <td>NaN</td>\n      <td>NaN</td>\n      <td>NaN</td>\n      <td>17.0</td>\n      <td>-6</td>\n      <td>335.5</td>\n    </tr>\n    <tr>\n      <th>1</th>\n      <td>pedersen mads</td>\n      <td>24</td>\n      <td>Trek - Segafredo</td>\n      <td>26.0</td>\n      <td>72</td>\n      <td>625.0</td>\n      <td>396.0</td>\n      <td>128</td>\n      <td>10.0</td>\n      <td>30.0</td>\n      <td>94</td>\n      <td>270.5</td>\n    </tr>\n    <tr>\n      <th>2</th>\n      <td>bol cees</td>\n      <td>25</td>\n      <td>Team Sunweb</td>\n      <td>141.0</td>\n      <td>-39</td>\n      <td>237.0</td>\n      <td>687.0</td>\n      <td>-365</td>\n      <td>2.0</td>\n      <td>37.0</td>\n      <td>18</td>\n      <td>227.5</td>\n    </tr>\n    <tr>\n      <th>3</th>\n      <td>bennett sam</td>\n      <td>29</td>\n      <td>Deceuninck - Quick Step</td>\n      <td>12.0</td>\n      <td>6</td>\n      <td>828.0</td>\n      <td>128.0</td>\n      <td>301</td>\n      <td>58.0</td>\n      <td>2.0</td>\n      <td>2</td>\n      <td>736.5</td>\n    </tr>\n    <tr>\n      <th>4</th>\n      <td>sagan peter</td>\n      <td>30</td>\n      <td>BORA - hansgrohe</td>\n      <td>19.0</td>\n      <td>-6</td>\n      <td>684.0</td>\n      <td>116.0</td>\n      <td>-73</td>\n      <td>68.0</td>\n      <td>8.0</td>\n      <td>1</td>\n      <td>428.0</td>\n    </tr>\n    <tr>\n      <th>...</th>\n      <td>...</td>\n      <td>...</td>\n      <td>...</td>\n      <td>...</td>\n      <td>...</td>\n      <td>...</td>\n      <td>...</td>\n      <td>...</td>\n      <td>...</td>\n      <td>...</td>\n      <td>...</td>\n      <td>...</td>\n    </tr>\n    <tr>\n      <th>171</th>\n      <td>sivakov pavel</td>\n      <td>23</td>\n      <td>INEOS Grenadiers</td>\n      <td>57.0</td>\n      <td>-19</td>\n      <td>431.0</td>\n      <td>45.0</td>\n      <td>5</td>\n      <td>225.0</td>\n      <td>NaN</td>\n      <td>NaN</td>\n      <td>NaN</td>\n    </tr>\n    <tr>\n      <th>172</th>\n      <td>cras steff</td>\n      <td>24</td>\n      <td>Lotto Soudal</td>\n      <td>502.0</td>\n      <td>97</td>\n      <td>58.0</td>\n      <td>225.0</td>\n      <td>169</td>\n      <td>24.0</td>\n      <td>NaN</td>\n      <td>NaN</td>\n      <td>NaN</td>\n    </tr>\n    <tr>\n      <th>173</th>\n      <td>ledanois kevin</td>\n      <td>27</td>\n      <td>Team Arkéa Samsic</td>\n      <td>420.0</td>\n      <td>148</td>\n      <td>75.0</td>\n      <td>NaN</td>\n      <td>NaN</td>\n      <td>NaN</td>\n      <td>343.0</td>\n      <td>86</td>\n      <td>43.0</td>\n    </tr>\n    <tr>\n      <th>174</th>\n      <td>valls rafael</td>\n      <td>33</td>\n      <td>Bahrain - McLaren</td>\n      <td>807.0</td>\n      <td>-143</td>\n      <td>24.0</td>\n      <td>354.0</td>\n      <td>151</td>\n      <td>12.0</td>\n      <td>NaN</td>\n      <td>NaN</td>\n      <td>NaN</td>\n    </tr>\n    <tr>\n      <th>175</th>\n      <td>degenkolb john</td>\n      <td>31</td>\n      <td>Lotto Soudal</td>\n      <td>147.0</td>\n      <td>-55</td>\n      <td>225.0</td>\n      <td>383.0</td>\n      <td>-200</td>\n      <td>10.0</td>\n      <td>54.0</td>\n      <td>-13</td>\n      <td>187.5</td>\n    </tr>\n  </tbody>\n</table>\n<p>176 rows × 12 columns</p>\n</div>"
     },
     "metadata": {},
     "execution_count": 149
    }
   ],
   "source": [
    "riders_profile"
   ]
  },
  {
   "source": [
    "### SAVED DATA WITH RANK,CLIMB,SPRINT FROM PCS"
   ],
   "cell_type": "markdown",
   "metadata": {}
  },
  {
   "cell_type": "code",
   "execution_count": 150,
   "metadata": {},
   "outputs": [],
   "source": [
    "riders_profile.to_csv('riders_profile.csv')"
   ]
  },
  {
   "source": [
    "# PCS GC ranking:\n",
    "Summation of PCS points over a 12-month + 2 weeks overlap period. Races are counted once. After the finish of a stage, the corresponding stage of the previous edition is excluded. "
   ],
   "cell_type": "markdown",
   "metadata": {}
  },
  {
   "cell_type": "code",
   "execution_count": 151,
   "metadata": {
    "tags": []
   },
   "outputs": [
    {
     "output_type": "stream",
     "name": "stdout",
     "text": "0 <Response [200]>\n200 <Response [200]>\n400 <Response [200]>\n600 <Response [200]>\n800 <Response [200]>\n"
    }
   ],
   "source": [
    "for page in np.arange(0,1000,200):\n",
    "    url = f'https://www.procyclingstats.com/rankings.php?id=50936&nation=&team=&page={page}&prev_id=prev&younger=&older=&limit=200&filter=Filter&morefilters='\n",
    "    pcs_url = requests.get(url)\n",
    "    print(page,pcs_url)\n",
    "    body = pcs_url.text\n",
    "    pcs_gc_data_n = pd.read_html(body)\n",
    "    if page>0:\n",
    "        pcs_gc_data = pcs_gc_data.append(pd.DataFrame(pcs_gc_data_n[0]),ignore_index=True)\n",
    "    else:\n",
    "        pcs_gc_data = pd.DataFrame(pcs_gc_data_n[0])"
   ]
  },
  {
   "cell_type": "code",
   "execution_count": 152,
   "metadata": {},
   "outputs": [
    {
     "output_type": "execute_result",
     "data": {
      "text/plain": "     Rnk  Prev. Diff.                  Rider  \\\n0      1    2.0     1          roglic primoz   \n1      2    9.0     7            bernal egan   \n2      3    3.0     0     valverde alejandro   \n3      4    6.0     2         quintana nairo   \n4      5   19.0    14       buchmann emanuel   \n..   ...    ...   ...                    ...   \n992  993  972.0   -21       cully jan andrej   \n993  994  221.0  -773    schillinger andreas   \n994  995  708.0  -287  baron felix alejandro   \n996  997  801.0  -196           sleen torjus   \n998  999  352.0  -647        stokbro andreas   \n\n                                 Team  Pnts  \n0                    Team Jumbo-Visma  1340  \n1                          Team INEOS  1196  \n2                       Movistar Team   960  \n3                       Movistar Team   896  \n4                    BORA - hansgrohe   848  \n..                                ...   ...  \n992             Dukla Banska Bystrica    12  \n993                  BORA - hansgrohe    12  \n994                   Team Illuminate    12  \n996  Uno-X Norwegian Development Team    12  \n998       Riwal Readynez Cycling Team    12  \n\n[676 rows x 6 columns]",
      "text/html": "<div>\n<style scoped>\n    .dataframe tbody tr th:only-of-type {\n        vertical-align: middle;\n    }\n\n    .dataframe tbody tr th {\n        vertical-align: top;\n    }\n\n    .dataframe thead th {\n        text-align: right;\n    }\n</style>\n<table border=\"1\" class=\"dataframe\">\n  <thead>\n    <tr style=\"text-align: right;\">\n      <th></th>\n      <th>Rnk</th>\n      <th>Prev.</th>\n      <th>Diff.</th>\n      <th>Rider</th>\n      <th>Team</th>\n      <th>Pnts</th>\n    </tr>\n  </thead>\n  <tbody>\n    <tr>\n      <th>0</th>\n      <td>1</td>\n      <td>2.0</td>\n      <td>1</td>\n      <td>roglic primoz</td>\n      <td>Team Jumbo-Visma</td>\n      <td>1340</td>\n    </tr>\n    <tr>\n      <th>1</th>\n      <td>2</td>\n      <td>9.0</td>\n      <td>7</td>\n      <td>bernal egan</td>\n      <td>Team INEOS</td>\n      <td>1196</td>\n    </tr>\n    <tr>\n      <th>2</th>\n      <td>3</td>\n      <td>3.0</td>\n      <td>0</td>\n      <td>valverde alejandro</td>\n      <td>Movistar Team</td>\n      <td>960</td>\n    </tr>\n    <tr>\n      <th>3</th>\n      <td>4</td>\n      <td>6.0</td>\n      <td>2</td>\n      <td>quintana nairo</td>\n      <td>Movistar Team</td>\n      <td>896</td>\n    </tr>\n    <tr>\n      <th>4</th>\n      <td>5</td>\n      <td>19.0</td>\n      <td>14</td>\n      <td>buchmann emanuel</td>\n      <td>BORA - hansgrohe</td>\n      <td>848</td>\n    </tr>\n    <tr>\n      <th>...</th>\n      <td>...</td>\n      <td>...</td>\n      <td>...</td>\n      <td>...</td>\n      <td>...</td>\n      <td>...</td>\n    </tr>\n    <tr>\n      <th>992</th>\n      <td>993</td>\n      <td>972.0</td>\n      <td>-21</td>\n      <td>cully jan andrej</td>\n      <td>Dukla Banska Bystrica</td>\n      <td>12</td>\n    </tr>\n    <tr>\n      <th>993</th>\n      <td>994</td>\n      <td>221.0</td>\n      <td>-773</td>\n      <td>schillinger andreas</td>\n      <td>BORA - hansgrohe</td>\n      <td>12</td>\n    </tr>\n    <tr>\n      <th>994</th>\n      <td>995</td>\n      <td>708.0</td>\n      <td>-287</td>\n      <td>baron felix alejandro</td>\n      <td>Team Illuminate</td>\n      <td>12</td>\n    </tr>\n    <tr>\n      <th>996</th>\n      <td>997</td>\n      <td>801.0</td>\n      <td>-196</td>\n      <td>sleen torjus</td>\n      <td>Uno-X Norwegian Development Team</td>\n      <td>12</td>\n    </tr>\n    <tr>\n      <th>998</th>\n      <td>999</td>\n      <td>352.0</td>\n      <td>-647</td>\n      <td>stokbro andreas</td>\n      <td>Riwal Readynez Cycling Team</td>\n      <td>12</td>\n    </tr>\n  </tbody>\n</table>\n<p>676 rows × 6 columns</p>\n</div>"
     },
     "metadata": {},
     "execution_count": 152
    }
   ],
   "source": [
    "pcs_gc_data.dropna(inplace=True)\n",
    "pcs_gc_data['Diff.'] = pcs_gc_data['Diff.'].apply(lambda x: x.replace(chr(9650),''))\n",
    "pcs_gc_data['Diff.'] = pcs_gc_data['Diff.'].apply(lambda x: x.replace('-','0'))\n",
    "pcs_gc_data['Diff.'] = pcs_gc_data['Diff.'].apply(lambda x: x.replace(chr(9660),'-'))\n",
    "pcs_gc_data.Rider = pcs_gc_data.Rider.apply(lambda x: unidecode.unidecode(x.lower()))\n",
    "pcs_gc_data.drop(columns=['Unnamed: 6'],inplace=True)\n",
    "pcs_gc_data"
   ]
  },
  {
   "cell_type": "code",
   "execution_count": 153,
   "metadata": {},
   "outputs": [],
   "source": [
    "riders_profile = riders_profile.merge(keep_tdf_riders(pcs_gc_data,riders_profile),how='left',on='Rider',suffixes=('','_pcs_gc'))"
   ]
  },
  {
   "cell_type": "code",
   "execution_count": 154,
   "metadata": {},
   "outputs": [],
   "source": [
    "riders_profile = riders_profile.rename(columns={'Rnk':'Rnk_pcs_gc','Diff.':'Diff._pcs_gc','Pnts':'Pnts_pcs_gc'})\n",
    "riders_profile.drop(columns=['Prev.','Team_pcs_gc'],inplace=True)"
   ]
  },
  {
   "cell_type": "code",
   "execution_count": 160,
   "metadata": {},
   "outputs": [
    {
     "output_type": "execute_result",
     "data": {
      "text/plain": "                Rider  Age                                Team  Rnk_pcs_ind  \\\n0  kristoff alexander   33                   UAE-Team Emirates         28.0   \n1       pedersen mads   24                    Trek - Segafredo         26.0   \n2            bol cees   25                         Team Sunweb        141.0   \n3         bennett sam   29             Deceuninck - Quick Step         12.0   \n4         sagan peter   30                    BORA - hansgrohe         19.0   \n5        viviani elia   31          Cofidis, Solutions Crédits         41.0   \n6     nizzolo giacomo   31                     NTT Pro Cycling         13.0   \n7       coquard bryan   28  B&B Hotels - Vital Concept p/b KTM        163.0   \n8      turgis anthony   26           Team Total Direct Energie        126.0   \n9      stuyven jasper   28                    Trek - Segafredo         11.0   \n\n  Diff._pcs_ind  Pnts_pcs_ind  Rnk_pcs_climb Diff._pcs_climb  Pnts_pcs_climb  \\\n0           -20         611.0            NaN             NaN             NaN   \n1            72         625.0          396.0             128            10.0   \n2           -39         237.0          687.0            -365             2.0   \n3             6         828.0          128.0             301            58.0   \n4            -6         684.0          116.0             -73            68.0   \n5           -32         521.0          219.0             -76            25.0   \n6            53         807.0          339.0               8            13.0   \n7          -108         196.0            NaN             NaN             NaN   \n8           -44         250.0          172.0              77            35.0   \n9            15         843.0           91.0              -4            94.0   \n\n   Rnk_pcs_sprint Diff._pcs_sprint  Pnts_pcs_sprint  Rnk_pcs_gc Diff._pcs_gc  \\\n0            17.0               -6            335.5       111.0          190   \n1            30.0               94            270.5       970.0         -307   \n2            37.0               18            227.5       246.0          432   \n3             2.0                2            736.5       582.0           49   \n4             8.0                1            428.0       524.0         -138   \n5            29.0              -24            272.0       525.0         -425   \n6             5.0               18            535.5         NaN          NaN   \n7            26.0              -20            278.0       161.0          137   \n8            65.0               54            170.0       109.0          422   \n9            14.0               24            341.0       124.0           93   \n\n   Pnts_pcs_gc  \n0        200.0  \n1         13.0  \n2        101.0  \n3         36.0  \n4         43.0  \n5         43.0  \n6          NaN  \n7        151.0  \n8        200.0  \n9        185.0  ",
      "text/html": "<div>\n<style scoped>\n    .dataframe tbody tr th:only-of-type {\n        vertical-align: middle;\n    }\n\n    .dataframe tbody tr th {\n        vertical-align: top;\n    }\n\n    .dataframe thead th {\n        text-align: right;\n    }\n</style>\n<table border=\"1\" class=\"dataframe\">\n  <thead>\n    <tr style=\"text-align: right;\">\n      <th></th>\n      <th>Rider</th>\n      <th>Age</th>\n      <th>Team</th>\n      <th>Rnk_pcs_ind</th>\n      <th>Diff._pcs_ind</th>\n      <th>Pnts_pcs_ind</th>\n      <th>Rnk_pcs_climb</th>\n      <th>Diff._pcs_climb</th>\n      <th>Pnts_pcs_climb</th>\n      <th>Rnk_pcs_sprint</th>\n      <th>Diff._pcs_sprint</th>\n      <th>Pnts_pcs_sprint</th>\n      <th>Rnk_pcs_gc</th>\n      <th>Diff._pcs_gc</th>\n      <th>Pnts_pcs_gc</th>\n    </tr>\n  </thead>\n  <tbody>\n    <tr>\n      <th>0</th>\n      <td>kristoff alexander</td>\n      <td>33</td>\n      <td>UAE-Team Emirates</td>\n      <td>28.0</td>\n      <td>-20</td>\n      <td>611.0</td>\n      <td>NaN</td>\n      <td>NaN</td>\n      <td>NaN</td>\n      <td>17.0</td>\n      <td>-6</td>\n      <td>335.5</td>\n      <td>111.0</td>\n      <td>190</td>\n      <td>200.0</td>\n    </tr>\n    <tr>\n      <th>1</th>\n      <td>pedersen mads</td>\n      <td>24</td>\n      <td>Trek - Segafredo</td>\n      <td>26.0</td>\n      <td>72</td>\n      <td>625.0</td>\n      <td>396.0</td>\n      <td>128</td>\n      <td>10.0</td>\n      <td>30.0</td>\n      <td>94</td>\n      <td>270.5</td>\n      <td>970.0</td>\n      <td>-307</td>\n      <td>13.0</td>\n    </tr>\n    <tr>\n      <th>2</th>\n      <td>bol cees</td>\n      <td>25</td>\n      <td>Team Sunweb</td>\n      <td>141.0</td>\n      <td>-39</td>\n      <td>237.0</td>\n      <td>687.0</td>\n      <td>-365</td>\n      <td>2.0</td>\n      <td>37.0</td>\n      <td>18</td>\n      <td>227.5</td>\n      <td>246.0</td>\n      <td>432</td>\n      <td>101.0</td>\n    </tr>\n    <tr>\n      <th>3</th>\n      <td>bennett sam</td>\n      <td>29</td>\n      <td>Deceuninck - Quick Step</td>\n      <td>12.0</td>\n      <td>6</td>\n      <td>828.0</td>\n      <td>128.0</td>\n      <td>301</td>\n      <td>58.0</td>\n      <td>2.0</td>\n      <td>2</td>\n      <td>736.5</td>\n      <td>582.0</td>\n      <td>49</td>\n      <td>36.0</td>\n    </tr>\n    <tr>\n      <th>4</th>\n      <td>sagan peter</td>\n      <td>30</td>\n      <td>BORA - hansgrohe</td>\n      <td>19.0</td>\n      <td>-6</td>\n      <td>684.0</td>\n      <td>116.0</td>\n      <td>-73</td>\n      <td>68.0</td>\n      <td>8.0</td>\n      <td>1</td>\n      <td>428.0</td>\n      <td>524.0</td>\n      <td>-138</td>\n      <td>43.0</td>\n    </tr>\n    <tr>\n      <th>5</th>\n      <td>viviani elia</td>\n      <td>31</td>\n      <td>Cofidis, Solutions Crédits</td>\n      <td>41.0</td>\n      <td>-32</td>\n      <td>521.0</td>\n      <td>219.0</td>\n      <td>-76</td>\n      <td>25.0</td>\n      <td>29.0</td>\n      <td>-24</td>\n      <td>272.0</td>\n      <td>525.0</td>\n      <td>-425</td>\n      <td>43.0</td>\n    </tr>\n    <tr>\n      <th>6</th>\n      <td>nizzolo giacomo</td>\n      <td>31</td>\n      <td>NTT Pro Cycling</td>\n      <td>13.0</td>\n      <td>53</td>\n      <td>807.0</td>\n      <td>339.0</td>\n      <td>8</td>\n      <td>13.0</td>\n      <td>5.0</td>\n      <td>18</td>\n      <td>535.5</td>\n      <td>NaN</td>\n      <td>NaN</td>\n      <td>NaN</td>\n    </tr>\n    <tr>\n      <th>7</th>\n      <td>coquard bryan</td>\n      <td>28</td>\n      <td>B&amp;B Hotels - Vital Concept p/b KTM</td>\n      <td>163.0</td>\n      <td>-108</td>\n      <td>196.0</td>\n      <td>NaN</td>\n      <td>NaN</td>\n      <td>NaN</td>\n      <td>26.0</td>\n      <td>-20</td>\n      <td>278.0</td>\n      <td>161.0</td>\n      <td>137</td>\n      <td>151.0</td>\n    </tr>\n    <tr>\n      <th>8</th>\n      <td>turgis anthony</td>\n      <td>26</td>\n      <td>Team Total Direct Energie</td>\n      <td>126.0</td>\n      <td>-44</td>\n      <td>250.0</td>\n      <td>172.0</td>\n      <td>77</td>\n      <td>35.0</td>\n      <td>65.0</td>\n      <td>54</td>\n      <td>170.0</td>\n      <td>109.0</td>\n      <td>422</td>\n      <td>200.0</td>\n    </tr>\n    <tr>\n      <th>9</th>\n      <td>stuyven jasper</td>\n      <td>28</td>\n      <td>Trek - Segafredo</td>\n      <td>11.0</td>\n      <td>15</td>\n      <td>843.0</td>\n      <td>91.0</td>\n      <td>-4</td>\n      <td>94.0</td>\n      <td>14.0</td>\n      <td>24</td>\n      <td>341.0</td>\n      <td>124.0</td>\n      <td>93</td>\n      <td>185.0</td>\n    </tr>\n  </tbody>\n</table>\n</div>"
     },
     "metadata": {},
     "execution_count": 160
    }
   ],
   "source": [
    "riders_profile.head(10)"
   ]
  },
  {
   "source": [
    "# PCS TT ranking:\n",
    "Summation of PCS points over a 12-month + 2 weeks overlap period. Races are counted once. After the finish of a stage, the corresponding stage of the previous edition is excluded. "
   ],
   "cell_type": "markdown",
   "metadata": {}
  },
  {
   "cell_type": "code",
   "execution_count": 161,
   "metadata": {
    "tags": []
   },
   "outputs": [
    {
     "output_type": "stream",
     "name": "stdout",
     "text": "0 <Response [200]>\n200 <Response [200]>\n400 <Response [200]>\n600 <Response [200]>\n800 <Response [200]>\n"
    }
   ],
   "source": [
    "for page in np.arange(0,1000,200):\n",
    "    url = f'https://www.procyclingstats.com/rankings.php?id=60938&nation=&team=&page={page}&prev_id=prev&younger=&older=&limit=200&filter=Filter&morefilters='\n",
    "    pcs_url = requests.get(url)\n",
    "    print(page,pcs_url)\n",
    "    body = pcs_url.text\n",
    "    pcs_tt_data_n = pd.read_html(body)\n",
    "    if page>0:\n",
    "        pcs_tt_data = pcs_tt_data.append(pd.DataFrame(pcs_tt_data_n[0]),ignore_index=True)\n",
    "    else:\n",
    "        pcs_tt_data = pd.DataFrame(pcs_tt_data_n[0])"
   ]
  },
  {
   "cell_type": "code",
   "execution_count": 162,
   "metadata": {},
   "outputs": [
    {
     "output_type": "execute_result",
     "data": {
      "text/plain": "     Rnk  Prev. Diff.                 Rider  \\\n0      1    3.0     2         ganna filippo   \n1      2    5.0     3          dennis rohan   \n2      3    7.0     4       evenepoel remco   \n3      4    2.0    -2    campenaerts victor   \n4      5    4.0    -1           kung stefan   \n..   ...    ...   ...                   ...   \n965  966  956.0   -10      goncalves gaspar   \n975  976  150.0  -826         nazaret magno   \n977  978  277.0  -701          arndt nikias   \n984  985  701.0  -284          berrade urko   \n995  996  108.0  -888  caldeira samuel jose   \n\n                                         Team  Pnts  \n0                            INEOS Grenadiers   430  \n1                            INEOS Grenadiers   385  \n2                     Deceuninck - Quick Step   340  \n3                             NTT Pro Cycling   281  \n4                              Groupama - FDJ   256  \n..                                        ...   ...  \n965                        Miranda - Mortágua     2  \n975  Sindicato Empleados Públicos of San Juan     2  \n977                               Team Sunweb     2  \n984                        Equipo Kern Pharma     2  \n995                            W52 / FC Porto     1  \n\n[418 rows x 6 columns]",
      "text/html": "<div>\n<style scoped>\n    .dataframe tbody tr th:only-of-type {\n        vertical-align: middle;\n    }\n\n    .dataframe tbody tr th {\n        vertical-align: top;\n    }\n\n    .dataframe thead th {\n        text-align: right;\n    }\n</style>\n<table border=\"1\" class=\"dataframe\">\n  <thead>\n    <tr style=\"text-align: right;\">\n      <th></th>\n      <th>Rnk</th>\n      <th>Prev.</th>\n      <th>Diff.</th>\n      <th>Rider</th>\n      <th>Team</th>\n      <th>Pnts</th>\n    </tr>\n  </thead>\n  <tbody>\n    <tr>\n      <th>0</th>\n      <td>1</td>\n      <td>3.0</td>\n      <td>2</td>\n      <td>ganna filippo</td>\n      <td>INEOS Grenadiers</td>\n      <td>430</td>\n    </tr>\n    <tr>\n      <th>1</th>\n      <td>2</td>\n      <td>5.0</td>\n      <td>3</td>\n      <td>dennis rohan</td>\n      <td>INEOS Grenadiers</td>\n      <td>385</td>\n    </tr>\n    <tr>\n      <th>2</th>\n      <td>3</td>\n      <td>7.0</td>\n      <td>4</td>\n      <td>evenepoel remco</td>\n      <td>Deceuninck - Quick Step</td>\n      <td>340</td>\n    </tr>\n    <tr>\n      <th>3</th>\n      <td>4</td>\n      <td>2.0</td>\n      <td>-2</td>\n      <td>campenaerts victor</td>\n      <td>NTT Pro Cycling</td>\n      <td>281</td>\n    </tr>\n    <tr>\n      <th>4</th>\n      <td>5</td>\n      <td>4.0</td>\n      <td>-1</td>\n      <td>kung stefan</td>\n      <td>Groupama - FDJ</td>\n      <td>256</td>\n    </tr>\n    <tr>\n      <th>...</th>\n      <td>...</td>\n      <td>...</td>\n      <td>...</td>\n      <td>...</td>\n      <td>...</td>\n      <td>...</td>\n    </tr>\n    <tr>\n      <th>965</th>\n      <td>966</td>\n      <td>956.0</td>\n      <td>-10</td>\n      <td>goncalves gaspar</td>\n      <td>Miranda - Mortágua</td>\n      <td>2</td>\n    </tr>\n    <tr>\n      <th>975</th>\n      <td>976</td>\n      <td>150.0</td>\n      <td>-826</td>\n      <td>nazaret magno</td>\n      <td>Sindicato Empleados Públicos of San Juan</td>\n      <td>2</td>\n    </tr>\n    <tr>\n      <th>977</th>\n      <td>978</td>\n      <td>277.0</td>\n      <td>-701</td>\n      <td>arndt nikias</td>\n      <td>Team Sunweb</td>\n      <td>2</td>\n    </tr>\n    <tr>\n      <th>984</th>\n      <td>985</td>\n      <td>701.0</td>\n      <td>-284</td>\n      <td>berrade urko</td>\n      <td>Equipo Kern Pharma</td>\n      <td>2</td>\n    </tr>\n    <tr>\n      <th>995</th>\n      <td>996</td>\n      <td>108.0</td>\n      <td>-888</td>\n      <td>caldeira samuel jose</td>\n      <td>W52 / FC Porto</td>\n      <td>1</td>\n    </tr>\n  </tbody>\n</table>\n<p>418 rows × 6 columns</p>\n</div>"
     },
     "metadata": {},
     "execution_count": 162
    }
   ],
   "source": [
    "pcs_tt_data.dropna(inplace=True)\n",
    "pcs_tt_data['Diff.'] = pcs_tt_data['Diff.'].apply(lambda x: x.replace(chr(9650),''))\n",
    "pcs_tt_data['Diff.'] = pcs_tt_data['Diff.'].apply(lambda x: x.replace('-','0'))\n",
    "pcs_tt_data['Diff.'] = pcs_tt_data['Diff.'].apply(lambda x: x.replace(chr(9660),'-'))\n",
    "pcs_tt_data.Rider = pcs_tt_data.Rider.apply(lambda x: unidecode.unidecode(x.lower()))\n",
    "pcs_tt_data.drop(columns=['Unnamed: 6'],inplace=True)\n",
    "pcs_tt_data"
   ]
  },
  {
   "cell_type": "code",
   "execution_count": 163,
   "metadata": {},
   "outputs": [],
   "source": [
    "riders_profile = riders_profile.merge(keep_tdf_riders(pcs_tt_data,riders_profile),how='left',on='Rider',suffixes=('','_pcs_tt'))"
   ]
  },
  {
   "cell_type": "code",
   "execution_count": 164,
   "metadata": {},
   "outputs": [],
   "source": [
    "riders_profile = riders_profile.rename(columns={'Rnk':'Rnk_pcs_tt','Diff.':'Diff._pcs_tt','Pnts':'Pnts_pcs_tt'})\n",
    "riders_profile.drop(columns=['Prev.','Team_pcs_tt'],inplace=True)"
   ]
  },
  {
   "cell_type": "code",
   "execution_count": 165,
   "metadata": {},
   "outputs": [
    {
     "output_type": "execute_result",
     "data": {
      "text/plain": "                  Rider  Age                     Team  Rnk_pcs_ind  \\\n0    kristoff alexander   33        UAE-Team Emirates         28.0   \n1         pedersen mads   24         Trek - Segafredo         26.0   \n2              bol cees   25              Team Sunweb        141.0   \n3           bennett sam   29  Deceuninck - Quick Step         12.0   \n4           sagan peter   30         BORA - hansgrohe         19.0   \n..                  ...  ...                      ...          ...   \n171       sivakov pavel   23         INEOS Grenadiers         57.0   \n172          cras steff   24             Lotto Soudal        502.0   \n173      ledanois kevin   27        Team Arkéa Samsic        420.0   \n174        valls rafael   33        Bahrain - McLaren        807.0   \n175      degenkolb john   31             Lotto Soudal        147.0   \n\n    Diff._pcs_ind  Pnts_pcs_ind  Rnk_pcs_climb Diff._pcs_climb  \\\n0             -20         611.0            NaN             NaN   \n1              72         625.0          396.0             128   \n2             -39         237.0          687.0            -365   \n3               6         828.0          128.0             301   \n4              -6         684.0          116.0             -73   \n..            ...           ...            ...             ...   \n171           -19         431.0           45.0               5   \n172            97          58.0          225.0             169   \n173           148          75.0            NaN             NaN   \n174          -143          24.0          354.0             151   \n175           -55         225.0          383.0            -200   \n\n     Pnts_pcs_climb  Rnk_pcs_sprint Diff._pcs_sprint  Pnts_pcs_sprint  \\\n0               NaN            17.0               -6            335.5   \n1              10.0            30.0               94            270.5   \n2               2.0            37.0               18            227.5   \n3              58.0             2.0                2            736.5   \n4              68.0             8.0                1            428.0   \n..              ...             ...              ...              ...   \n171           225.0             NaN              NaN              NaN   \n172            24.0             NaN              NaN              NaN   \n173             NaN           343.0               86             43.0   \n174            12.0             NaN              NaN              NaN   \n175            10.0            54.0              -13            187.5   \n\n     Rnk_pcs_gc Diff._pcs_gc  Pnts_pcs_gc  Rnk_pcs_tt Diff._pcs_tt  \\\n0         111.0          190        200.0         NaN          NaN   \n1         970.0         -307         13.0         NaN          NaN   \n2         246.0          432        101.0       462.0          -97   \n3         582.0           49         36.0         NaN          NaN   \n4         524.0         -138         43.0         NaN          NaN   \n..          ...          ...          ...         ...          ...   \n171        10.0          247        687.0         NaN          NaN   \n172       295.0          -58         84.0         NaN          NaN   \n173       607.0          -20         35.0         NaN          NaN   \n174         NaN          NaN          NaN         NaN          NaN   \n175       546.0           12         41.0         NaN          NaN   \n\n     Pnts_pcs_tt  \n0            NaN  \n1            NaN  \n2           10.0  \n3            NaN  \n4            NaN  \n..           ...  \n171          NaN  \n172          NaN  \n173          NaN  \n174          NaN  \n175          NaN  \n\n[176 rows x 18 columns]",
      "text/html": "<div>\n<style scoped>\n    .dataframe tbody tr th:only-of-type {\n        vertical-align: middle;\n    }\n\n    .dataframe tbody tr th {\n        vertical-align: top;\n    }\n\n    .dataframe thead th {\n        text-align: right;\n    }\n</style>\n<table border=\"1\" class=\"dataframe\">\n  <thead>\n    <tr style=\"text-align: right;\">\n      <th></th>\n      <th>Rider</th>\n      <th>Age</th>\n      <th>Team</th>\n      <th>Rnk_pcs_ind</th>\n      <th>Diff._pcs_ind</th>\n      <th>Pnts_pcs_ind</th>\n      <th>Rnk_pcs_climb</th>\n      <th>Diff._pcs_climb</th>\n      <th>Pnts_pcs_climb</th>\n      <th>Rnk_pcs_sprint</th>\n      <th>Diff._pcs_sprint</th>\n      <th>Pnts_pcs_sprint</th>\n      <th>Rnk_pcs_gc</th>\n      <th>Diff._pcs_gc</th>\n      <th>Pnts_pcs_gc</th>\n      <th>Rnk_pcs_tt</th>\n      <th>Diff._pcs_tt</th>\n      <th>Pnts_pcs_tt</th>\n    </tr>\n  </thead>\n  <tbody>\n    <tr>\n      <th>0</th>\n      <td>kristoff alexander</td>\n      <td>33</td>\n      <td>UAE-Team Emirates</td>\n      <td>28.0</td>\n      <td>-20</td>\n      <td>611.0</td>\n      <td>NaN</td>\n      <td>NaN</td>\n      <td>NaN</td>\n      <td>17.0</td>\n      <td>-6</td>\n      <td>335.5</td>\n      <td>111.0</td>\n      <td>190</td>\n      <td>200.0</td>\n      <td>NaN</td>\n      <td>NaN</td>\n      <td>NaN</td>\n    </tr>\n    <tr>\n      <th>1</th>\n      <td>pedersen mads</td>\n      <td>24</td>\n      <td>Trek - Segafredo</td>\n      <td>26.0</td>\n      <td>72</td>\n      <td>625.0</td>\n      <td>396.0</td>\n      <td>128</td>\n      <td>10.0</td>\n      <td>30.0</td>\n      <td>94</td>\n      <td>270.5</td>\n      <td>970.0</td>\n      <td>-307</td>\n      <td>13.0</td>\n      <td>NaN</td>\n      <td>NaN</td>\n      <td>NaN</td>\n    </tr>\n    <tr>\n      <th>2</th>\n      <td>bol cees</td>\n      <td>25</td>\n      <td>Team Sunweb</td>\n      <td>141.0</td>\n      <td>-39</td>\n      <td>237.0</td>\n      <td>687.0</td>\n      <td>-365</td>\n      <td>2.0</td>\n      <td>37.0</td>\n      <td>18</td>\n      <td>227.5</td>\n      <td>246.0</td>\n      <td>432</td>\n      <td>101.0</td>\n      <td>462.0</td>\n      <td>-97</td>\n      <td>10.0</td>\n    </tr>\n    <tr>\n      <th>3</th>\n      <td>bennett sam</td>\n      <td>29</td>\n      <td>Deceuninck - Quick Step</td>\n      <td>12.0</td>\n      <td>6</td>\n      <td>828.0</td>\n      <td>128.0</td>\n      <td>301</td>\n      <td>58.0</td>\n      <td>2.0</td>\n      <td>2</td>\n      <td>736.5</td>\n      <td>582.0</td>\n      <td>49</td>\n      <td>36.0</td>\n      <td>NaN</td>\n      <td>NaN</td>\n      <td>NaN</td>\n    </tr>\n    <tr>\n      <th>4</th>\n      <td>sagan peter</td>\n      <td>30</td>\n      <td>BORA - hansgrohe</td>\n      <td>19.0</td>\n      <td>-6</td>\n      <td>684.0</td>\n      <td>116.0</td>\n      <td>-73</td>\n      <td>68.0</td>\n      <td>8.0</td>\n      <td>1</td>\n      <td>428.0</td>\n      <td>524.0</td>\n      <td>-138</td>\n      <td>43.0</td>\n      <td>NaN</td>\n      <td>NaN</td>\n      <td>NaN</td>\n    </tr>\n    <tr>\n      <th>...</th>\n      <td>...</td>\n      <td>...</td>\n      <td>...</td>\n      <td>...</td>\n      <td>...</td>\n      <td>...</td>\n      <td>...</td>\n      <td>...</td>\n      <td>...</td>\n      <td>...</td>\n      <td>...</td>\n      <td>...</td>\n      <td>...</td>\n      <td>...</td>\n      <td>...</td>\n      <td>...</td>\n      <td>...</td>\n      <td>...</td>\n    </tr>\n    <tr>\n      <th>171</th>\n      <td>sivakov pavel</td>\n      <td>23</td>\n      <td>INEOS Grenadiers</td>\n      <td>57.0</td>\n      <td>-19</td>\n      <td>431.0</td>\n      <td>45.0</td>\n      <td>5</td>\n      <td>225.0</td>\n      <td>NaN</td>\n      <td>NaN</td>\n      <td>NaN</td>\n      <td>10.0</td>\n      <td>247</td>\n      <td>687.0</td>\n      <td>NaN</td>\n      <td>NaN</td>\n      <td>NaN</td>\n    </tr>\n    <tr>\n      <th>172</th>\n      <td>cras steff</td>\n      <td>24</td>\n      <td>Lotto Soudal</td>\n      <td>502.0</td>\n      <td>97</td>\n      <td>58.0</td>\n      <td>225.0</td>\n      <td>169</td>\n      <td>24.0</td>\n      <td>NaN</td>\n      <td>NaN</td>\n      <td>NaN</td>\n      <td>295.0</td>\n      <td>-58</td>\n      <td>84.0</td>\n      <td>NaN</td>\n      <td>NaN</td>\n      <td>NaN</td>\n    </tr>\n    <tr>\n      <th>173</th>\n      <td>ledanois kevin</td>\n      <td>27</td>\n      <td>Team Arkéa Samsic</td>\n      <td>420.0</td>\n      <td>148</td>\n      <td>75.0</td>\n      <td>NaN</td>\n      <td>NaN</td>\n      <td>NaN</td>\n      <td>343.0</td>\n      <td>86</td>\n      <td>43.0</td>\n      <td>607.0</td>\n      <td>-20</td>\n      <td>35.0</td>\n      <td>NaN</td>\n      <td>NaN</td>\n      <td>NaN</td>\n    </tr>\n    <tr>\n      <th>174</th>\n      <td>valls rafael</td>\n      <td>33</td>\n      <td>Bahrain - McLaren</td>\n      <td>807.0</td>\n      <td>-143</td>\n      <td>24.0</td>\n      <td>354.0</td>\n      <td>151</td>\n      <td>12.0</td>\n      <td>NaN</td>\n      <td>NaN</td>\n      <td>NaN</td>\n      <td>NaN</td>\n      <td>NaN</td>\n      <td>NaN</td>\n      <td>NaN</td>\n      <td>NaN</td>\n      <td>NaN</td>\n    </tr>\n    <tr>\n      <th>175</th>\n      <td>degenkolb john</td>\n      <td>31</td>\n      <td>Lotto Soudal</td>\n      <td>147.0</td>\n      <td>-55</td>\n      <td>225.0</td>\n      <td>383.0</td>\n      <td>-200</td>\n      <td>10.0</td>\n      <td>54.0</td>\n      <td>-13</td>\n      <td>187.5</td>\n      <td>546.0</td>\n      <td>12</td>\n      <td>41.0</td>\n      <td>NaN</td>\n      <td>NaN</td>\n      <td>NaN</td>\n    </tr>\n  </tbody>\n</table>\n<p>176 rows × 18 columns</p>\n</div>"
     },
     "metadata": {},
     "execution_count": 165
    }
   ],
   "source": [
    "riders_profile"
   ]
  },
  {
   "source": [
    "# PCS team ranking:\n",
    "Summation of PCS points over a 12-month + 2 weeks overlap period. Races are counted once. After the finish of a stage, the corresponding stage of the previous edition is excluded. "
   ],
   "cell_type": "markdown",
   "metadata": {}
  },
  {
   "cell_type": "code",
   "execution_count": 167,
   "metadata": {
    "tags": []
   },
   "outputs": [
    {
     "output_type": "stream",
     "name": "stdout",
     "text": "800 <Response [200]>\n"
    },
    {
     "output_type": "execute_result",
     "data": {
      "text/plain": "     Rnk  Prev. Diff.                     Team Class   Pnt\n0      1      1     -  Deceuninck - Quick Step    WT  9229\n1      2      2     -         Team Jumbo-Visma    WT  8226\n2      3      3     -         BORA - hansgrohe    WT  8117\n3      4      4     -               Team INEOS    WT  7757\n4      5      5     -          Astana Pro Team    WT  7597\n..   ...    ...   ...                      ...   ...   ...\n239  240    240     -    Gapyeong Cycling Team    CT     1\n240  241    241     -     BetPlay Cycling Team    CT     1\n241  242    242     -      Pro Touch Wanderers  CLUB     1\n242  243    243     -            Orgullo Paisa    CT     1\n243  244    244     -       Rhadsport Team EGK  club     1\n\n[244 rows x 6 columns]",
      "text/html": "<div>\n<style scoped>\n    .dataframe tbody tr th:only-of-type {\n        vertical-align: middle;\n    }\n\n    .dataframe tbody tr th {\n        vertical-align: top;\n    }\n\n    .dataframe thead th {\n        text-align: right;\n    }\n</style>\n<table border=\"1\" class=\"dataframe\">\n  <thead>\n    <tr style=\"text-align: right;\">\n      <th></th>\n      <th>Rnk</th>\n      <th>Prev.</th>\n      <th>Diff.</th>\n      <th>Team</th>\n      <th>Class</th>\n      <th>Pnt</th>\n    </tr>\n  </thead>\n  <tbody>\n    <tr>\n      <th>0</th>\n      <td>1</td>\n      <td>1</td>\n      <td>-</td>\n      <td>Deceuninck - Quick Step</td>\n      <td>WT</td>\n      <td>9229</td>\n    </tr>\n    <tr>\n      <th>1</th>\n      <td>2</td>\n      <td>2</td>\n      <td>-</td>\n      <td>Team Jumbo-Visma</td>\n      <td>WT</td>\n      <td>8226</td>\n    </tr>\n    <tr>\n      <th>2</th>\n      <td>3</td>\n      <td>3</td>\n      <td>-</td>\n      <td>BORA - hansgrohe</td>\n      <td>WT</td>\n      <td>8117</td>\n    </tr>\n    <tr>\n      <th>3</th>\n      <td>4</td>\n      <td>4</td>\n      <td>-</td>\n      <td>Team INEOS</td>\n      <td>WT</td>\n      <td>7757</td>\n    </tr>\n    <tr>\n      <th>4</th>\n      <td>5</td>\n      <td>5</td>\n      <td>-</td>\n      <td>Astana Pro Team</td>\n      <td>WT</td>\n      <td>7597</td>\n    </tr>\n    <tr>\n      <th>...</th>\n      <td>...</td>\n      <td>...</td>\n      <td>...</td>\n      <td>...</td>\n      <td>...</td>\n      <td>...</td>\n    </tr>\n    <tr>\n      <th>239</th>\n      <td>240</td>\n      <td>240</td>\n      <td>-</td>\n      <td>Gapyeong Cycling Team</td>\n      <td>CT</td>\n      <td>1</td>\n    </tr>\n    <tr>\n      <th>240</th>\n      <td>241</td>\n      <td>241</td>\n      <td>-</td>\n      <td>BetPlay Cycling Team</td>\n      <td>CT</td>\n      <td>1</td>\n    </tr>\n    <tr>\n      <th>241</th>\n      <td>242</td>\n      <td>242</td>\n      <td>-</td>\n      <td>Pro Touch Wanderers</td>\n      <td>CLUB</td>\n      <td>1</td>\n    </tr>\n    <tr>\n      <th>242</th>\n      <td>243</td>\n      <td>243</td>\n      <td>-</td>\n      <td>Orgullo Paisa</td>\n      <td>CT</td>\n      <td>1</td>\n    </tr>\n    <tr>\n      <th>243</th>\n      <td>244</td>\n      <td>244</td>\n      <td>-</td>\n      <td>Rhadsport Team EGK</td>\n      <td>club</td>\n      <td>1</td>\n    </tr>\n  </tbody>\n</table>\n<p>244 rows × 6 columns</p>\n</div>"
     },
     "metadata": {},
     "execution_count": 167
    }
   ],
   "source": [
    "url = f'https://www.procyclingstats.com/rankings.php?id=50929&nation=&class=&prev_entry_id=50929&filter=Filter&morefilters='\n",
    "pcs_url = requests.get(url)\n",
    "print(page,pcs_url)\n",
    "body = pcs_url.text\n",
    "pcs_team_data_n = pd.read_html(body)\n",
    "pcs_team_data = pd.DataFrame(pcs_team_data_n[0])\n",
    "pcs_team_data"
   ]
  },
  {
   "cell_type": "code",
   "execution_count": 172,
   "metadata": {},
   "outputs": [],
   "source": [
    "riders_profile = riders_profile.merge(pcs_team_data,how='left',on='Team',suffixes=('','_pcs_team'))"
   ]
  },
  {
   "cell_type": "code",
   "execution_count": 173,
   "metadata": {},
   "outputs": [],
   "source": [
    "riders_profile = riders_profile.rename(columns={'Rnk':'Rnk_pcs_team','Diff.':'Diff._pcs_team','Pnt':'Pnts_pcs_team','Class':'Team_class'})\n",
    "riders_profile.drop(columns=['Prev.'],inplace=True)"
   ]
  },
  {
   "cell_type": "code",
   "execution_count": 174,
   "metadata": {},
   "outputs": [
    {
     "output_type": "execute_result",
     "data": {
      "text/plain": "                  Rider  Age                     Team  Rnk_pcs_ind  \\\n0    kristoff alexander   33        UAE-Team Emirates         28.0   \n1         pedersen mads   24         Trek - Segafredo         26.0   \n2              bol cees   25              Team Sunweb        141.0   \n3           bennett sam   29  Deceuninck - Quick Step         12.0   \n4           sagan peter   30         BORA - hansgrohe         19.0   \n..                  ...  ...                      ...          ...   \n171       sivakov pavel   23         INEOS Grenadiers         57.0   \n172          cras steff   24             Lotto Soudal        502.0   \n173      ledanois kevin   27        Team Arkéa Samsic        420.0   \n174        valls rafael   33        Bahrain - McLaren        807.0   \n175      degenkolb john   31             Lotto Soudal        147.0   \n\n    Diff._pcs_ind  Pnts_pcs_ind  Rnk_pcs_climb Diff._pcs_climb  \\\n0             -20         611.0            NaN             NaN   \n1              72         625.0          396.0             128   \n2             -39         237.0          687.0            -365   \n3               6         828.0          128.0             301   \n4              -6         684.0          116.0             -73   \n..            ...           ...            ...             ...   \n171           -19         431.0           45.0               5   \n172            97          58.0          225.0             169   \n173           148          75.0            NaN             NaN   \n174          -143          24.0          354.0             151   \n175           -55         225.0          383.0            -200   \n\n     Pnts_pcs_climb  Rnk_pcs_sprint  ... Rnk_pcs_gc  Diff._pcs_gc  \\\n0               NaN            17.0  ...      111.0           190   \n1              10.0            30.0  ...      970.0          -307   \n2               2.0            37.0  ...      246.0           432   \n3              58.0             2.0  ...      582.0            49   \n4              68.0             8.0  ...      524.0          -138   \n..              ...             ...  ...        ...           ...   \n171           225.0             NaN  ...       10.0           247   \n172            24.0             NaN  ...      295.0           -58   \n173             NaN           343.0  ...      607.0           -20   \n174            12.0             NaN  ...        NaN           NaN   \n175            10.0            54.0  ...      546.0            12   \n\n     Pnts_pcs_gc Rnk_pcs_tt  Diff._pcs_tt  Pnts_pcs_tt Rnk_pcs_team  \\\n0          200.0        NaN           NaN          NaN          6.0   \n1           13.0        NaN           NaN          NaN         11.0   \n2          101.0      462.0           -97         10.0         15.0   \n3           36.0        NaN           NaN          NaN          1.0   \n4           43.0        NaN           NaN          NaN          3.0   \n..           ...        ...           ...          ...          ...   \n171        687.0        NaN           NaN          NaN          NaN   \n172         84.0        NaN           NaN          NaN          8.0   \n173         35.0        NaN           NaN          NaN         25.0   \n174          NaN        NaN           NaN          NaN          NaN   \n175         41.0        NaN           NaN          NaN          8.0   \n\n     Diff._pcs_team  Team_class Pnts_pcs_team  \n0                 -          WT        6932.0  \n1                 -          WT        4949.0  \n2                 -          WT        4510.0  \n3                 -          WT        9229.0  \n4                 -          WT        8117.0  \n..              ...         ...           ...  \n171             NaN         NaN           NaN  \n172               -          WT        6013.0  \n173               -         PCT        2229.0  \n174             NaN         NaN           NaN  \n175               -          WT        6013.0  \n\n[176 rows x 22 columns]",
      "text/html": "<div>\n<style scoped>\n    .dataframe tbody tr th:only-of-type {\n        vertical-align: middle;\n    }\n\n    .dataframe tbody tr th {\n        vertical-align: top;\n    }\n\n    .dataframe thead th {\n        text-align: right;\n    }\n</style>\n<table border=\"1\" class=\"dataframe\">\n  <thead>\n    <tr style=\"text-align: right;\">\n      <th></th>\n      <th>Rider</th>\n      <th>Age</th>\n      <th>Team</th>\n      <th>Rnk_pcs_ind</th>\n      <th>Diff._pcs_ind</th>\n      <th>Pnts_pcs_ind</th>\n      <th>Rnk_pcs_climb</th>\n      <th>Diff._pcs_climb</th>\n      <th>Pnts_pcs_climb</th>\n      <th>Rnk_pcs_sprint</th>\n      <th>...</th>\n      <th>Rnk_pcs_gc</th>\n      <th>Diff._pcs_gc</th>\n      <th>Pnts_pcs_gc</th>\n      <th>Rnk_pcs_tt</th>\n      <th>Diff._pcs_tt</th>\n      <th>Pnts_pcs_tt</th>\n      <th>Rnk_pcs_team</th>\n      <th>Diff._pcs_team</th>\n      <th>Team_class</th>\n      <th>Pnts_pcs_team</th>\n    </tr>\n  </thead>\n  <tbody>\n    <tr>\n      <th>0</th>\n      <td>kristoff alexander</td>\n      <td>33</td>\n      <td>UAE-Team Emirates</td>\n      <td>28.0</td>\n      <td>-20</td>\n      <td>611.0</td>\n      <td>NaN</td>\n      <td>NaN</td>\n      <td>NaN</td>\n      <td>17.0</td>\n      <td>...</td>\n      <td>111.0</td>\n      <td>190</td>\n      <td>200.0</td>\n      <td>NaN</td>\n      <td>NaN</td>\n      <td>NaN</td>\n      <td>6.0</td>\n      <td>-</td>\n      <td>WT</td>\n      <td>6932.0</td>\n    </tr>\n    <tr>\n      <th>1</th>\n      <td>pedersen mads</td>\n      <td>24</td>\n      <td>Trek - Segafredo</td>\n      <td>26.0</td>\n      <td>72</td>\n      <td>625.0</td>\n      <td>396.0</td>\n      <td>128</td>\n      <td>10.0</td>\n      <td>30.0</td>\n      <td>...</td>\n      <td>970.0</td>\n      <td>-307</td>\n      <td>13.0</td>\n      <td>NaN</td>\n      <td>NaN</td>\n      <td>NaN</td>\n      <td>11.0</td>\n      <td>-</td>\n      <td>WT</td>\n      <td>4949.0</td>\n    </tr>\n    <tr>\n      <th>2</th>\n      <td>bol cees</td>\n      <td>25</td>\n      <td>Team Sunweb</td>\n      <td>141.0</td>\n      <td>-39</td>\n      <td>237.0</td>\n      <td>687.0</td>\n      <td>-365</td>\n      <td>2.0</td>\n      <td>37.0</td>\n      <td>...</td>\n      <td>246.0</td>\n      <td>432</td>\n      <td>101.0</td>\n      <td>462.0</td>\n      <td>-97</td>\n      <td>10.0</td>\n      <td>15.0</td>\n      <td>-</td>\n      <td>WT</td>\n      <td>4510.0</td>\n    </tr>\n    <tr>\n      <th>3</th>\n      <td>bennett sam</td>\n      <td>29</td>\n      <td>Deceuninck - Quick Step</td>\n      <td>12.0</td>\n      <td>6</td>\n      <td>828.0</td>\n      <td>128.0</td>\n      <td>301</td>\n      <td>58.0</td>\n      <td>2.0</td>\n      <td>...</td>\n      <td>582.0</td>\n      <td>49</td>\n      <td>36.0</td>\n      <td>NaN</td>\n      <td>NaN</td>\n      <td>NaN</td>\n      <td>1.0</td>\n      <td>-</td>\n      <td>WT</td>\n      <td>9229.0</td>\n    </tr>\n    <tr>\n      <th>4</th>\n      <td>sagan peter</td>\n      <td>30</td>\n      <td>BORA - hansgrohe</td>\n      <td>19.0</td>\n      <td>-6</td>\n      <td>684.0</td>\n      <td>116.0</td>\n      <td>-73</td>\n      <td>68.0</td>\n      <td>8.0</td>\n      <td>...</td>\n      <td>524.0</td>\n      <td>-138</td>\n      <td>43.0</td>\n      <td>NaN</td>\n      <td>NaN</td>\n      <td>NaN</td>\n      <td>3.0</td>\n      <td>-</td>\n      <td>WT</td>\n      <td>8117.0</td>\n    </tr>\n    <tr>\n      <th>...</th>\n      <td>...</td>\n      <td>...</td>\n      <td>...</td>\n      <td>...</td>\n      <td>...</td>\n      <td>...</td>\n      <td>...</td>\n      <td>...</td>\n      <td>...</td>\n      <td>...</td>\n      <td>...</td>\n      <td>...</td>\n      <td>...</td>\n      <td>...</td>\n      <td>...</td>\n      <td>...</td>\n      <td>...</td>\n      <td>...</td>\n      <td>...</td>\n      <td>...</td>\n      <td>...</td>\n    </tr>\n    <tr>\n      <th>171</th>\n      <td>sivakov pavel</td>\n      <td>23</td>\n      <td>INEOS Grenadiers</td>\n      <td>57.0</td>\n      <td>-19</td>\n      <td>431.0</td>\n      <td>45.0</td>\n      <td>5</td>\n      <td>225.0</td>\n      <td>NaN</td>\n      <td>...</td>\n      <td>10.0</td>\n      <td>247</td>\n      <td>687.0</td>\n      <td>NaN</td>\n      <td>NaN</td>\n      <td>NaN</td>\n      <td>NaN</td>\n      <td>NaN</td>\n      <td>NaN</td>\n      <td>NaN</td>\n    </tr>\n    <tr>\n      <th>172</th>\n      <td>cras steff</td>\n      <td>24</td>\n      <td>Lotto Soudal</td>\n      <td>502.0</td>\n      <td>97</td>\n      <td>58.0</td>\n      <td>225.0</td>\n      <td>169</td>\n      <td>24.0</td>\n      <td>NaN</td>\n      <td>...</td>\n      <td>295.0</td>\n      <td>-58</td>\n      <td>84.0</td>\n      <td>NaN</td>\n      <td>NaN</td>\n      <td>NaN</td>\n      <td>8.0</td>\n      <td>-</td>\n      <td>WT</td>\n      <td>6013.0</td>\n    </tr>\n    <tr>\n      <th>173</th>\n      <td>ledanois kevin</td>\n      <td>27</td>\n      <td>Team Arkéa Samsic</td>\n      <td>420.0</td>\n      <td>148</td>\n      <td>75.0</td>\n      <td>NaN</td>\n      <td>NaN</td>\n      <td>NaN</td>\n      <td>343.0</td>\n      <td>...</td>\n      <td>607.0</td>\n      <td>-20</td>\n      <td>35.0</td>\n      <td>NaN</td>\n      <td>NaN</td>\n      <td>NaN</td>\n      <td>25.0</td>\n      <td>-</td>\n      <td>PCT</td>\n      <td>2229.0</td>\n    </tr>\n    <tr>\n      <th>174</th>\n      <td>valls rafael</td>\n      <td>33</td>\n      <td>Bahrain - McLaren</td>\n      <td>807.0</td>\n      <td>-143</td>\n      <td>24.0</td>\n      <td>354.0</td>\n      <td>151</td>\n      <td>12.0</td>\n      <td>NaN</td>\n      <td>...</td>\n      <td>NaN</td>\n      <td>NaN</td>\n      <td>NaN</td>\n      <td>NaN</td>\n      <td>NaN</td>\n      <td>NaN</td>\n      <td>NaN</td>\n      <td>NaN</td>\n      <td>NaN</td>\n      <td>NaN</td>\n    </tr>\n    <tr>\n      <th>175</th>\n      <td>degenkolb john</td>\n      <td>31</td>\n      <td>Lotto Soudal</td>\n      <td>147.0</td>\n      <td>-55</td>\n      <td>225.0</td>\n      <td>383.0</td>\n      <td>-200</td>\n      <td>10.0</td>\n      <td>54.0</td>\n      <td>...</td>\n      <td>546.0</td>\n      <td>12</td>\n      <td>41.0</td>\n      <td>NaN</td>\n      <td>NaN</td>\n      <td>NaN</td>\n      <td>8.0</td>\n      <td>-</td>\n      <td>WT</td>\n      <td>6013.0</td>\n    </tr>\n  </tbody>\n</table>\n<p>176 rows × 22 columns</p>\n</div>"
     },
     "metadata": {},
     "execution_count": 174
    }
   ],
   "source": [
    "riders_profile"
   ]
  },
  {
   "cell_type": "code",
   "execution_count": 207,
   "metadata": {},
   "outputs": [
    {
     "output_type": "execute_result",
     "data": {
      "text/plain": "array([], dtype=object)"
     },
     "metadata": {},
     "execution_count": 207
    }
   ],
   "source": [
    "riders_profile[riders_profile.Team_class.isna()]['Team'].unique()"
   ]
  },
  {
   "cell_type": "code",
   "execution_count": 205,
   "metadata": {},
   "outputs": [
    {
     "output_type": "execute_result",
     "data": {
      "text/plain": "    Rnk  Prev. Diff.                    Team Class   Pnt\n15   16     16     -  Israel Cycling Academy   PCT  3659",
      "text/html": "<div>\n<style scoped>\n    .dataframe tbody tr th:only-of-type {\n        vertical-align: middle;\n    }\n\n    .dataframe tbody tr th {\n        vertical-align: top;\n    }\n\n    .dataframe thead th {\n        text-align: right;\n    }\n</style>\n<table border=\"1\" class=\"dataframe\">\n  <thead>\n    <tr style=\"text-align: right;\">\n      <th></th>\n      <th>Rnk</th>\n      <th>Prev.</th>\n      <th>Diff.</th>\n      <th>Team</th>\n      <th>Class</th>\n      <th>Pnt</th>\n    </tr>\n  </thead>\n  <tbody>\n    <tr>\n      <th>15</th>\n      <td>16</td>\n      <td>16</td>\n      <td>-</td>\n      <td>Israel Cycling Academy</td>\n      <td>PCT</td>\n      <td>3659</td>\n    </tr>\n  </tbody>\n</table>\n</div>"
     },
     "metadata": {},
     "execution_count": 205
    }
   ],
   "source": [
    "pcs_team_data[pcs_team_data.Team == 'Israel Cycling Academy']"
   ]
  },
  {
   "cell_type": "code",
   "execution_count": 206,
   "metadata": {},
   "outputs": [],
   "source": [
    "idx = riders_profile[riders_profile.Team == 'Israel Start-Up Nation'].index\n",
    "riders_profile.loc[idx,['Rnk_pcs_team','Diff._pcs_team','Team_class','Pnts_pcs_team']] = [16,'-','PCT',3659]"
   ]
  },
  {
   "cell_type": "code",
   "execution_count": 208,
   "metadata": {},
   "outputs": [
    {
     "output_type": "execute_result",
     "data": {
      "text/plain": "                  Rider  Age                     Team  Rnk_pcs_ind  \\\n0    kristoff alexander   33        UAE-Team Emirates         28.0   \n1         pedersen mads   24         Trek - Segafredo         26.0   \n2              bol cees   25              Team Sunweb        141.0   \n3           bennett sam   29  Deceuninck - Quick Step         12.0   \n4           sagan peter   30         BORA - hansgrohe         19.0   \n..                  ...  ...                      ...          ...   \n171       sivakov pavel   23         INEOS Grenadiers         57.0   \n172          cras steff   24             Lotto Soudal        502.0   \n173      ledanois kevin   27        Team Arkéa Samsic        420.0   \n174        valls rafael   33        Bahrain - McLaren        807.0   \n175      degenkolb john   31             Lotto Soudal        147.0   \n\n    Diff._pcs_ind  Pnts_pcs_ind  Rnk_pcs_climb Diff._pcs_climb  \\\n0             -20         611.0            NaN             NaN   \n1              72         625.0          396.0             128   \n2             -39         237.0          687.0            -365   \n3               6         828.0          128.0             301   \n4              -6         684.0          116.0             -73   \n..            ...           ...            ...             ...   \n171           -19         431.0           45.0               5   \n172            97          58.0          225.0             169   \n173           148          75.0            NaN             NaN   \n174          -143          24.0          354.0             151   \n175           -55         225.0          383.0            -200   \n\n     Pnts_pcs_climb  Rnk_pcs_sprint  ... Rnk_pcs_gc  Diff._pcs_gc  \\\n0               NaN            17.0  ...      111.0           190   \n1              10.0            30.0  ...      970.0          -307   \n2               2.0            37.0  ...      246.0           432   \n3              58.0             2.0  ...      582.0            49   \n4              68.0             8.0  ...      524.0          -138   \n..              ...             ...  ...        ...           ...   \n171           225.0             NaN  ...       10.0           247   \n172            24.0             NaN  ...      295.0           -58   \n173             NaN           343.0  ...      607.0           -20   \n174            12.0             NaN  ...        NaN           NaN   \n175            10.0            54.0  ...      546.0            12   \n\n     Pnts_pcs_gc Rnk_pcs_tt  Diff._pcs_tt  Pnts_pcs_tt Rnk_pcs_team  \\\n0          200.0        NaN           NaN          NaN          6.0   \n1           13.0        NaN           NaN          NaN         11.0   \n2          101.0      462.0           -97         10.0         15.0   \n3           36.0        NaN           NaN          NaN          1.0   \n4           43.0        NaN           NaN          NaN          3.0   \n..           ...        ...           ...          ...          ...   \n171        687.0        NaN           NaN          NaN          4.0   \n172         84.0        NaN           NaN          NaN          8.0   \n173         35.0        NaN           NaN          NaN         25.0   \n174          NaN        NaN           NaN          NaN         12.0   \n175         41.0        NaN           NaN          NaN          8.0   \n\n     Diff._pcs_team  Team_class Pnts_pcs_team  \n0                 -          WT        6932.0  \n1                 -          WT        4949.0  \n2                 -          WT        4510.0  \n3                 -          WT        9229.0  \n4                 -          WT        8117.0  \n..              ...         ...           ...  \n171               -          WT        7757.0  \n172               -          WT        6013.0  \n173               -         PCT        2229.0  \n174               -          WT        4948.0  \n175               -          WT        6013.0  \n\n[176 rows x 22 columns]",
      "text/html": "<div>\n<style scoped>\n    .dataframe tbody tr th:only-of-type {\n        vertical-align: middle;\n    }\n\n    .dataframe tbody tr th {\n        vertical-align: top;\n    }\n\n    .dataframe thead th {\n        text-align: right;\n    }\n</style>\n<table border=\"1\" class=\"dataframe\">\n  <thead>\n    <tr style=\"text-align: right;\">\n      <th></th>\n      <th>Rider</th>\n      <th>Age</th>\n      <th>Team</th>\n      <th>Rnk_pcs_ind</th>\n      <th>Diff._pcs_ind</th>\n      <th>Pnts_pcs_ind</th>\n      <th>Rnk_pcs_climb</th>\n      <th>Diff._pcs_climb</th>\n      <th>Pnts_pcs_climb</th>\n      <th>Rnk_pcs_sprint</th>\n      <th>...</th>\n      <th>Rnk_pcs_gc</th>\n      <th>Diff._pcs_gc</th>\n      <th>Pnts_pcs_gc</th>\n      <th>Rnk_pcs_tt</th>\n      <th>Diff._pcs_tt</th>\n      <th>Pnts_pcs_tt</th>\n      <th>Rnk_pcs_team</th>\n      <th>Diff._pcs_team</th>\n      <th>Team_class</th>\n      <th>Pnts_pcs_team</th>\n    </tr>\n  </thead>\n  <tbody>\n    <tr>\n      <th>0</th>\n      <td>kristoff alexander</td>\n      <td>33</td>\n      <td>UAE-Team Emirates</td>\n      <td>28.0</td>\n      <td>-20</td>\n      <td>611.0</td>\n      <td>NaN</td>\n      <td>NaN</td>\n      <td>NaN</td>\n      <td>17.0</td>\n      <td>...</td>\n      <td>111.0</td>\n      <td>190</td>\n      <td>200.0</td>\n      <td>NaN</td>\n      <td>NaN</td>\n      <td>NaN</td>\n      <td>6.0</td>\n      <td>-</td>\n      <td>WT</td>\n      <td>6932.0</td>\n    </tr>\n    <tr>\n      <th>1</th>\n      <td>pedersen mads</td>\n      <td>24</td>\n      <td>Trek - Segafredo</td>\n      <td>26.0</td>\n      <td>72</td>\n      <td>625.0</td>\n      <td>396.0</td>\n      <td>128</td>\n      <td>10.0</td>\n      <td>30.0</td>\n      <td>...</td>\n      <td>970.0</td>\n      <td>-307</td>\n      <td>13.0</td>\n      <td>NaN</td>\n      <td>NaN</td>\n      <td>NaN</td>\n      <td>11.0</td>\n      <td>-</td>\n      <td>WT</td>\n      <td>4949.0</td>\n    </tr>\n    <tr>\n      <th>2</th>\n      <td>bol cees</td>\n      <td>25</td>\n      <td>Team Sunweb</td>\n      <td>141.0</td>\n      <td>-39</td>\n      <td>237.0</td>\n      <td>687.0</td>\n      <td>-365</td>\n      <td>2.0</td>\n      <td>37.0</td>\n      <td>...</td>\n      <td>246.0</td>\n      <td>432</td>\n      <td>101.0</td>\n      <td>462.0</td>\n      <td>-97</td>\n      <td>10.0</td>\n      <td>15.0</td>\n      <td>-</td>\n      <td>WT</td>\n      <td>4510.0</td>\n    </tr>\n    <tr>\n      <th>3</th>\n      <td>bennett sam</td>\n      <td>29</td>\n      <td>Deceuninck - Quick Step</td>\n      <td>12.0</td>\n      <td>6</td>\n      <td>828.0</td>\n      <td>128.0</td>\n      <td>301</td>\n      <td>58.0</td>\n      <td>2.0</td>\n      <td>...</td>\n      <td>582.0</td>\n      <td>49</td>\n      <td>36.0</td>\n      <td>NaN</td>\n      <td>NaN</td>\n      <td>NaN</td>\n      <td>1.0</td>\n      <td>-</td>\n      <td>WT</td>\n      <td>9229.0</td>\n    </tr>\n    <tr>\n      <th>4</th>\n      <td>sagan peter</td>\n      <td>30</td>\n      <td>BORA - hansgrohe</td>\n      <td>19.0</td>\n      <td>-6</td>\n      <td>684.0</td>\n      <td>116.0</td>\n      <td>-73</td>\n      <td>68.0</td>\n      <td>8.0</td>\n      <td>...</td>\n      <td>524.0</td>\n      <td>-138</td>\n      <td>43.0</td>\n      <td>NaN</td>\n      <td>NaN</td>\n      <td>NaN</td>\n      <td>3.0</td>\n      <td>-</td>\n      <td>WT</td>\n      <td>8117.0</td>\n    </tr>\n    <tr>\n      <th>...</th>\n      <td>...</td>\n      <td>...</td>\n      <td>...</td>\n      <td>...</td>\n      <td>...</td>\n      <td>...</td>\n      <td>...</td>\n      <td>...</td>\n      <td>...</td>\n      <td>...</td>\n      <td>...</td>\n      <td>...</td>\n      <td>...</td>\n      <td>...</td>\n      <td>...</td>\n      <td>...</td>\n      <td>...</td>\n      <td>...</td>\n      <td>...</td>\n      <td>...</td>\n      <td>...</td>\n    </tr>\n    <tr>\n      <th>171</th>\n      <td>sivakov pavel</td>\n      <td>23</td>\n      <td>INEOS Grenadiers</td>\n      <td>57.0</td>\n      <td>-19</td>\n      <td>431.0</td>\n      <td>45.0</td>\n      <td>5</td>\n      <td>225.0</td>\n      <td>NaN</td>\n      <td>...</td>\n      <td>10.0</td>\n      <td>247</td>\n      <td>687.0</td>\n      <td>NaN</td>\n      <td>NaN</td>\n      <td>NaN</td>\n      <td>4.0</td>\n      <td>-</td>\n      <td>WT</td>\n      <td>7757.0</td>\n    </tr>\n    <tr>\n      <th>172</th>\n      <td>cras steff</td>\n      <td>24</td>\n      <td>Lotto Soudal</td>\n      <td>502.0</td>\n      <td>97</td>\n      <td>58.0</td>\n      <td>225.0</td>\n      <td>169</td>\n      <td>24.0</td>\n      <td>NaN</td>\n      <td>...</td>\n      <td>295.0</td>\n      <td>-58</td>\n      <td>84.0</td>\n      <td>NaN</td>\n      <td>NaN</td>\n      <td>NaN</td>\n      <td>8.0</td>\n      <td>-</td>\n      <td>WT</td>\n      <td>6013.0</td>\n    </tr>\n    <tr>\n      <th>173</th>\n      <td>ledanois kevin</td>\n      <td>27</td>\n      <td>Team Arkéa Samsic</td>\n      <td>420.0</td>\n      <td>148</td>\n      <td>75.0</td>\n      <td>NaN</td>\n      <td>NaN</td>\n      <td>NaN</td>\n      <td>343.0</td>\n      <td>...</td>\n      <td>607.0</td>\n      <td>-20</td>\n      <td>35.0</td>\n      <td>NaN</td>\n      <td>NaN</td>\n      <td>NaN</td>\n      <td>25.0</td>\n      <td>-</td>\n      <td>PCT</td>\n      <td>2229.0</td>\n    </tr>\n    <tr>\n      <th>174</th>\n      <td>valls rafael</td>\n      <td>33</td>\n      <td>Bahrain - McLaren</td>\n      <td>807.0</td>\n      <td>-143</td>\n      <td>24.0</td>\n      <td>354.0</td>\n      <td>151</td>\n      <td>12.0</td>\n      <td>NaN</td>\n      <td>...</td>\n      <td>NaN</td>\n      <td>NaN</td>\n      <td>NaN</td>\n      <td>NaN</td>\n      <td>NaN</td>\n      <td>NaN</td>\n      <td>12.0</td>\n      <td>-</td>\n      <td>WT</td>\n      <td>4948.0</td>\n    </tr>\n    <tr>\n      <th>175</th>\n      <td>degenkolb john</td>\n      <td>31</td>\n      <td>Lotto Soudal</td>\n      <td>147.0</td>\n      <td>-55</td>\n      <td>225.0</td>\n      <td>383.0</td>\n      <td>-200</td>\n      <td>10.0</td>\n      <td>54.0</td>\n      <td>...</td>\n      <td>546.0</td>\n      <td>12</td>\n      <td>41.0</td>\n      <td>NaN</td>\n      <td>NaN</td>\n      <td>NaN</td>\n      <td>8.0</td>\n      <td>-</td>\n      <td>WT</td>\n      <td>6013.0</td>\n    </tr>\n  </tbody>\n</table>\n<p>176 rows × 22 columns</p>\n</div>"
     },
     "metadata": {},
     "execution_count": 208
    }
   ],
   "source": [
    "riders_profile"
   ]
  },
  {
   "source": [],
   "cell_type": "markdown",
   "metadata": {}
  },
  {
   "source": [
    "### SAVED DATA WITH RANK,CLIMB,SPRINT FROM PCS + GC,TT and TEAM"
   ],
   "cell_type": "markdown",
   "metadata": {}
  },
  {
   "cell_type": "code",
   "execution_count": 370,
   "metadata": {},
   "outputs": [],
   "source": [
    "riders_profile.to_csv('riders_profile.csv')"
   ]
  },
  {
   "cell_type": "code",
   "execution_count": 342,
   "metadata": {},
   "outputs": [],
   "source": [
    "#riders_profile.drop(columns=['Rnk_uci_ind','Pnts_uci_ind','Rnk_uci_gc','Pnts_uci_gc','Rnk_uci_team','Pnts_uci_team']).to_csv('riders_profile.csv')"
   ]
  },
  {
   "cell_type": "code",
   "execution_count": 366,
   "metadata": {},
   "outputs": [
    {
     "output_type": "execute_result",
     "data": {
      "text/plain": "                                  Team\n0                    UAE-Team Emirates\n1                     Trek - Segafredo\n2                          Team Sunweb\n3              Deceuninck - Quick Step\n4                     BORA - hansgrohe\n5           Cofidis, Solutions Crédits\n6                      NTT Pro Cycling\n7   B&B Hotels - Vital Concept p/b KTM\n8            Team Total Direct Energie\n9                     AG2R La Mondiale\n10                            CCC Team\n11                    Mitchelton-Scott\n12                     Astana Pro Team\n13                      EF Pro Cycling\n14                   Team Arkéa Samsic\n15                        Lotto Soudal\n16                   Bahrain - McLaren\n17                    INEOS Grenadiers\n18                    Team Jumbo-Visma\n19              Israel Start-Up Nation\n20                       Movistar Team\n21                      Groupama - FDJ",
      "text/html": "<div>\n<style scoped>\n    .dataframe tbody tr th:only-of-type {\n        vertical-align: middle;\n    }\n\n    .dataframe tbody tr th {\n        vertical-align: top;\n    }\n\n    .dataframe thead th {\n        text-align: right;\n    }\n</style>\n<table border=\"1\" class=\"dataframe\">\n  <thead>\n    <tr style=\"text-align: right;\">\n      <th></th>\n      <th>Team</th>\n    </tr>\n  </thead>\n  <tbody>\n    <tr>\n      <th>0</th>\n      <td>UAE-Team Emirates</td>\n    </tr>\n    <tr>\n      <th>1</th>\n      <td>Trek - Segafredo</td>\n    </tr>\n    <tr>\n      <th>2</th>\n      <td>Team Sunweb</td>\n    </tr>\n    <tr>\n      <th>3</th>\n      <td>Deceuninck - Quick Step</td>\n    </tr>\n    <tr>\n      <th>4</th>\n      <td>BORA - hansgrohe</td>\n    </tr>\n    <tr>\n      <th>5</th>\n      <td>Cofidis, Solutions Crédits</td>\n    </tr>\n    <tr>\n      <th>6</th>\n      <td>NTT Pro Cycling</td>\n    </tr>\n    <tr>\n      <th>7</th>\n      <td>B&amp;B Hotels - Vital Concept p/b KTM</td>\n    </tr>\n    <tr>\n      <th>8</th>\n      <td>Team Total Direct Energie</td>\n    </tr>\n    <tr>\n      <th>9</th>\n      <td>AG2R La Mondiale</td>\n    </tr>\n    <tr>\n      <th>10</th>\n      <td>CCC Team</td>\n    </tr>\n    <tr>\n      <th>11</th>\n      <td>Mitchelton-Scott</td>\n    </tr>\n    <tr>\n      <th>12</th>\n      <td>Astana Pro Team</td>\n    </tr>\n    <tr>\n      <th>13</th>\n      <td>EF Pro Cycling</td>\n    </tr>\n    <tr>\n      <th>14</th>\n      <td>Team Arkéa Samsic</td>\n    </tr>\n    <tr>\n      <th>15</th>\n      <td>Lotto Soudal</td>\n    </tr>\n    <tr>\n      <th>16</th>\n      <td>Bahrain - McLaren</td>\n    </tr>\n    <tr>\n      <th>17</th>\n      <td>INEOS Grenadiers</td>\n    </tr>\n    <tr>\n      <th>18</th>\n      <td>Team Jumbo-Visma</td>\n    </tr>\n    <tr>\n      <th>19</th>\n      <td>Israel Start-Up Nation</td>\n    </tr>\n    <tr>\n      <th>20</th>\n      <td>Movistar Team</td>\n    </tr>\n    <tr>\n      <th>21</th>\n      <td>Groupama - FDJ</td>\n    </tr>\n  </tbody>\n</table>\n</div>"
     },
     "metadata": {},
     "execution_count": 366
    }
   ],
   "source": [
    "teams = pd.DataFrame(riders_profile.Team.unique(),columns=['Team'])\n",
    "teams"
   ]
  },
  {
   "cell_type": "code",
   "execution_count": 367,
   "metadata": {},
   "outputs": [
    {
     "output_type": "execute_result",
     "data": {
      "text/plain": "                                  Team Team Code\n0                    UAE-Team Emirates       UAD\n1                     Trek - Segafredo       TFS\n2                          Team Sunweb       SUN\n3              Deceuninck - Quick Step       DQT\n4                     BORA - hansgrohe       BOH\n5           Cofidis, Solutions Crédits       COF\n6                      NTT Pro Cycling       NTT\n7   B&B Hotels - Vital Concept p/b KTM       BVC\n8            Team Total Direct Energie       TDE\n9                     AG2R La Mondiale       ALM\n10                            CCC Team       CCC\n11                    Mitchelton-Scott       MTS\n12                     Astana Pro Team       AST\n13                      EF Pro Cycling       EF1\n14                   Team Arkéa Samsic       ARK\n15                        Lotto Soudal       LTS\n16                   Bahrain - McLaren       TBM\n17                    INEOS Grenadiers       INS\n18                    Team Jumbo-Visma       TJV\n19              Israel Start-Up Nation       ISN\n20                       Movistar Team       MOV\n21                      Groupama - FDJ       GFC",
      "text/html": "<div>\n<style scoped>\n    .dataframe tbody tr th:only-of-type {\n        vertical-align: middle;\n    }\n\n    .dataframe tbody tr th {\n        vertical-align: top;\n    }\n\n    .dataframe thead th {\n        text-align: right;\n    }\n</style>\n<table border=\"1\" class=\"dataframe\">\n  <thead>\n    <tr style=\"text-align: right;\">\n      <th></th>\n      <th>Team</th>\n      <th>Team Code</th>\n    </tr>\n  </thead>\n  <tbody>\n    <tr>\n      <th>0</th>\n      <td>UAE-Team Emirates</td>\n      <td>UAD</td>\n    </tr>\n    <tr>\n      <th>1</th>\n      <td>Trek - Segafredo</td>\n      <td>TFS</td>\n    </tr>\n    <tr>\n      <th>2</th>\n      <td>Team Sunweb</td>\n      <td>SUN</td>\n    </tr>\n    <tr>\n      <th>3</th>\n      <td>Deceuninck - Quick Step</td>\n      <td>DQT</td>\n    </tr>\n    <tr>\n      <th>4</th>\n      <td>BORA - hansgrohe</td>\n      <td>BOH</td>\n    </tr>\n    <tr>\n      <th>5</th>\n      <td>Cofidis, Solutions Crédits</td>\n      <td>COF</td>\n    </tr>\n    <tr>\n      <th>6</th>\n      <td>NTT Pro Cycling</td>\n      <td>NTT</td>\n    </tr>\n    <tr>\n      <th>7</th>\n      <td>B&amp;B Hotels - Vital Concept p/b KTM</td>\n      <td>BVC</td>\n    </tr>\n    <tr>\n      <th>8</th>\n      <td>Team Total Direct Energie</td>\n      <td>TDE</td>\n    </tr>\n    <tr>\n      <th>9</th>\n      <td>AG2R La Mondiale</td>\n      <td>ALM</td>\n    </tr>\n    <tr>\n      <th>10</th>\n      <td>CCC Team</td>\n      <td>CCC</td>\n    </tr>\n    <tr>\n      <th>11</th>\n      <td>Mitchelton-Scott</td>\n      <td>MTS</td>\n    </tr>\n    <tr>\n      <th>12</th>\n      <td>Astana Pro Team</td>\n      <td>AST</td>\n    </tr>\n    <tr>\n      <th>13</th>\n      <td>EF Pro Cycling</td>\n      <td>EF1</td>\n    </tr>\n    <tr>\n      <th>14</th>\n      <td>Team Arkéa Samsic</td>\n      <td>ARK</td>\n    </tr>\n    <tr>\n      <th>15</th>\n      <td>Lotto Soudal</td>\n      <td>LTS</td>\n    </tr>\n    <tr>\n      <th>16</th>\n      <td>Bahrain - McLaren</td>\n      <td>TBM</td>\n    </tr>\n    <tr>\n      <th>17</th>\n      <td>INEOS Grenadiers</td>\n      <td>INS</td>\n    </tr>\n    <tr>\n      <th>18</th>\n      <td>Team Jumbo-Visma</td>\n      <td>TJV</td>\n    </tr>\n    <tr>\n      <th>19</th>\n      <td>Israel Start-Up Nation</td>\n      <td>ISN</td>\n    </tr>\n    <tr>\n      <th>20</th>\n      <td>Movistar Team</td>\n      <td>MOV</td>\n    </tr>\n    <tr>\n      <th>21</th>\n      <td>Groupama - FDJ</td>\n      <td>GFC</td>\n    </tr>\n  </tbody>\n</table>\n</div>"
     },
     "metadata": {},
     "execution_count": 367
    }
   ],
   "source": [
    "teams['Team Code'] = ['UAD','TFS','SUN','DQT','BOH','COF','NTT','BVC','TDE','ALM','CCC','MTS','AST','EF1',\n",
    "'ARK','LTS','TBM','INS','TJV','ISN','MOV','GFC']\n",
    "teams"
   ]
  },
  {
   "cell_type": "code",
   "execution_count": 369,
   "metadata": {},
   "outputs": [],
   "source": [
    "riders_profile = riders_profile.merge(teams,on=['Team'],how='left')"
   ]
  },
  {
   "cell_type": "code",
   "execution_count": 387,
   "metadata": {},
   "outputs": [
    {
     "output_type": "execute_result",
     "data": {
      "text/plain": "                  Rider  Age                     Team  Rnk_pcs_ind  \\\n0    kristoff alexander   33        UAE-Team Emirates         28.0   \n1         pedersen mads   24         Trek - Segafredo         26.0   \n2              bol cees   25              Team Sunweb        141.0   \n3           bennett sam   29  Deceuninck - Quick Step         12.0   \n4           sagan peter   30         BORA - hansgrohe         19.0   \n..                  ...  ...                      ...          ...   \n171       sivakov pavel   23         INEOS Grenadiers         57.0   \n172          cras steff   24             Lotto Soudal        502.0   \n173      ledanois kevin   27        Team Arkéa Samsic        420.0   \n174        valls rafael   33        Bahrain - McLaren        807.0   \n175      degenkolb john   31             Lotto Soudal        147.0   \n\n     Diff._pcs_ind  Pnts_pcs_ind  Rnk_pcs_climb  Diff._pcs_climb  \\\n0            -20.0         611.0          724.0              0.0   \n1             72.0         625.0          396.0            128.0   \n2            -39.0         237.0          687.0           -365.0   \n3              6.0         828.0          128.0            301.0   \n4             -6.0         684.0          116.0            -73.0   \n..             ...           ...            ...              ...   \n171          -19.0         431.0           45.0              5.0   \n172           97.0          58.0          225.0            169.0   \n173          148.0          75.0          724.0              0.0   \n174         -143.0          24.0          354.0            151.0   \n175          -55.0         225.0          383.0           -200.0   \n\n     Pnts_pcs_climb  Rnk_pcs_sprint  ...  Diff._pcs_gc  Pnts_pcs_gc  \\\n0               0.0            17.0  ...         190.0        200.0   \n1              10.0            30.0  ...        -307.0         13.0   \n2               2.0            37.0  ...         432.0        101.0   \n3              58.0             2.0  ...          49.0         36.0   \n4              68.0             8.0  ...        -138.0         43.0   \n..              ...             ...  ...           ...          ...   \n171           225.0           940.0  ...         247.0        687.0   \n172            24.0           940.0  ...         -58.0         84.0   \n173             0.0           343.0  ...         -20.0         35.0   \n174            12.0           940.0  ...           0.0          0.0   \n175            10.0            54.0  ...          12.0         41.0   \n\n     Rnk_pcs_tt  Diff._pcs_tt  Pnts_pcs_tt  Rnk_pcs_team  Diff._pcs_team  \\\n0         979.0           0.0          0.0           6.0               -   \n1         979.0           0.0          0.0          11.0               -   \n2         462.0         -97.0         10.0          15.0               -   \n3         979.0           0.0          0.0           1.0               -   \n4         979.0           0.0          0.0           3.0               -   \n..          ...           ...          ...           ...             ...   \n171       979.0           0.0          0.0           4.0               -   \n172       979.0           0.0          0.0           8.0               -   \n173       979.0           0.0          0.0          25.0               -   \n174       979.0           0.0          0.0          12.0               -   \n175       979.0           0.0          0.0           8.0               -   \n\n     Team_class  Pnts_pcs_team Team Code  \n0            WT         6932.0       UAD  \n1            WT         4949.0       TFS  \n2            WT         4510.0       SUN  \n3            WT         9229.0       DQT  \n4            WT         8117.0       BOH  \n..          ...            ...       ...  \n171          WT         7757.0       INS  \n172          WT         6013.0       LTS  \n173         PCT         2229.0       ARK  \n174          WT         4948.0       TBM  \n175          WT         6013.0       LTS  \n\n[176 rows x 23 columns]",
      "text/html": "<div>\n<style scoped>\n    .dataframe tbody tr th:only-of-type {\n        vertical-align: middle;\n    }\n\n    .dataframe tbody tr th {\n        vertical-align: top;\n    }\n\n    .dataframe thead th {\n        text-align: right;\n    }\n</style>\n<table border=\"1\" class=\"dataframe\">\n  <thead>\n    <tr style=\"text-align: right;\">\n      <th></th>\n      <th>Rider</th>\n      <th>Age</th>\n      <th>Team</th>\n      <th>Rnk_pcs_ind</th>\n      <th>Diff._pcs_ind</th>\n      <th>Pnts_pcs_ind</th>\n      <th>Rnk_pcs_climb</th>\n      <th>Diff._pcs_climb</th>\n      <th>Pnts_pcs_climb</th>\n      <th>Rnk_pcs_sprint</th>\n      <th>...</th>\n      <th>Diff._pcs_gc</th>\n      <th>Pnts_pcs_gc</th>\n      <th>Rnk_pcs_tt</th>\n      <th>Diff._pcs_tt</th>\n      <th>Pnts_pcs_tt</th>\n      <th>Rnk_pcs_team</th>\n      <th>Diff._pcs_team</th>\n      <th>Team_class</th>\n      <th>Pnts_pcs_team</th>\n      <th>Team Code</th>\n    </tr>\n  </thead>\n  <tbody>\n    <tr>\n      <th>0</th>\n      <td>kristoff alexander</td>\n      <td>33</td>\n      <td>UAE-Team Emirates</td>\n      <td>28.0</td>\n      <td>-20.0</td>\n      <td>611.0</td>\n      <td>724.0</td>\n      <td>0.0</td>\n      <td>0.0</td>\n      <td>17.0</td>\n      <td>...</td>\n      <td>190.0</td>\n      <td>200.0</td>\n      <td>979.0</td>\n      <td>0.0</td>\n      <td>0.0</td>\n      <td>6.0</td>\n      <td>-</td>\n      <td>WT</td>\n      <td>6932.0</td>\n      <td>UAD</td>\n    </tr>\n    <tr>\n      <th>1</th>\n      <td>pedersen mads</td>\n      <td>24</td>\n      <td>Trek - Segafredo</td>\n      <td>26.0</td>\n      <td>72.0</td>\n      <td>625.0</td>\n      <td>396.0</td>\n      <td>128.0</td>\n      <td>10.0</td>\n      <td>30.0</td>\n      <td>...</td>\n      <td>-307.0</td>\n      <td>13.0</td>\n      <td>979.0</td>\n      <td>0.0</td>\n      <td>0.0</td>\n      <td>11.0</td>\n      <td>-</td>\n      <td>WT</td>\n      <td>4949.0</td>\n      <td>TFS</td>\n    </tr>\n    <tr>\n      <th>2</th>\n      <td>bol cees</td>\n      <td>25</td>\n      <td>Team Sunweb</td>\n      <td>141.0</td>\n      <td>-39.0</td>\n      <td>237.0</td>\n      <td>687.0</td>\n      <td>-365.0</td>\n      <td>2.0</td>\n      <td>37.0</td>\n      <td>...</td>\n      <td>432.0</td>\n      <td>101.0</td>\n      <td>462.0</td>\n      <td>-97.0</td>\n      <td>10.0</td>\n      <td>15.0</td>\n      <td>-</td>\n      <td>WT</td>\n      <td>4510.0</td>\n      <td>SUN</td>\n    </tr>\n    <tr>\n      <th>3</th>\n      <td>bennett sam</td>\n      <td>29</td>\n      <td>Deceuninck - Quick Step</td>\n      <td>12.0</td>\n      <td>6.0</td>\n      <td>828.0</td>\n      <td>128.0</td>\n      <td>301.0</td>\n      <td>58.0</td>\n      <td>2.0</td>\n      <td>...</td>\n      <td>49.0</td>\n      <td>36.0</td>\n      <td>979.0</td>\n      <td>0.0</td>\n      <td>0.0</td>\n      <td>1.0</td>\n      <td>-</td>\n      <td>WT</td>\n      <td>9229.0</td>\n      <td>DQT</td>\n    </tr>\n    <tr>\n      <th>4</th>\n      <td>sagan peter</td>\n      <td>30</td>\n      <td>BORA - hansgrohe</td>\n      <td>19.0</td>\n      <td>-6.0</td>\n      <td>684.0</td>\n      <td>116.0</td>\n      <td>-73.0</td>\n      <td>68.0</td>\n      <td>8.0</td>\n      <td>...</td>\n      <td>-138.0</td>\n      <td>43.0</td>\n      <td>979.0</td>\n      <td>0.0</td>\n      <td>0.0</td>\n      <td>3.0</td>\n      <td>-</td>\n      <td>WT</td>\n      <td>8117.0</td>\n      <td>BOH</td>\n    </tr>\n    <tr>\n      <th>...</th>\n      <td>...</td>\n      <td>...</td>\n      <td>...</td>\n      <td>...</td>\n      <td>...</td>\n      <td>...</td>\n      <td>...</td>\n      <td>...</td>\n      <td>...</td>\n      <td>...</td>\n      <td>...</td>\n      <td>...</td>\n      <td>...</td>\n      <td>...</td>\n      <td>...</td>\n      <td>...</td>\n      <td>...</td>\n      <td>...</td>\n      <td>...</td>\n      <td>...</td>\n      <td>...</td>\n    </tr>\n    <tr>\n      <th>171</th>\n      <td>sivakov pavel</td>\n      <td>23</td>\n      <td>INEOS Grenadiers</td>\n      <td>57.0</td>\n      <td>-19.0</td>\n      <td>431.0</td>\n      <td>45.0</td>\n      <td>5.0</td>\n      <td>225.0</td>\n      <td>940.0</td>\n      <td>...</td>\n      <td>247.0</td>\n      <td>687.0</td>\n      <td>979.0</td>\n      <td>0.0</td>\n      <td>0.0</td>\n      <td>4.0</td>\n      <td>-</td>\n      <td>WT</td>\n      <td>7757.0</td>\n      <td>INS</td>\n    </tr>\n    <tr>\n      <th>172</th>\n      <td>cras steff</td>\n      <td>24</td>\n      <td>Lotto Soudal</td>\n      <td>502.0</td>\n      <td>97.0</td>\n      <td>58.0</td>\n      <td>225.0</td>\n      <td>169.0</td>\n      <td>24.0</td>\n      <td>940.0</td>\n      <td>...</td>\n      <td>-58.0</td>\n      <td>84.0</td>\n      <td>979.0</td>\n      <td>0.0</td>\n      <td>0.0</td>\n      <td>8.0</td>\n      <td>-</td>\n      <td>WT</td>\n      <td>6013.0</td>\n      <td>LTS</td>\n    </tr>\n    <tr>\n      <th>173</th>\n      <td>ledanois kevin</td>\n      <td>27</td>\n      <td>Team Arkéa Samsic</td>\n      <td>420.0</td>\n      <td>148.0</td>\n      <td>75.0</td>\n      <td>724.0</td>\n      <td>0.0</td>\n      <td>0.0</td>\n      <td>343.0</td>\n      <td>...</td>\n      <td>-20.0</td>\n      <td>35.0</td>\n      <td>979.0</td>\n      <td>0.0</td>\n      <td>0.0</td>\n      <td>25.0</td>\n      <td>-</td>\n      <td>PCT</td>\n      <td>2229.0</td>\n      <td>ARK</td>\n    </tr>\n    <tr>\n      <th>174</th>\n      <td>valls rafael</td>\n      <td>33</td>\n      <td>Bahrain - McLaren</td>\n      <td>807.0</td>\n      <td>-143.0</td>\n      <td>24.0</td>\n      <td>354.0</td>\n      <td>151.0</td>\n      <td>12.0</td>\n      <td>940.0</td>\n      <td>...</td>\n      <td>0.0</td>\n      <td>0.0</td>\n      <td>979.0</td>\n      <td>0.0</td>\n      <td>0.0</td>\n      <td>12.0</td>\n      <td>-</td>\n      <td>WT</td>\n      <td>4948.0</td>\n      <td>TBM</td>\n    </tr>\n    <tr>\n      <th>175</th>\n      <td>degenkolb john</td>\n      <td>31</td>\n      <td>Lotto Soudal</td>\n      <td>147.0</td>\n      <td>-55.0</td>\n      <td>225.0</td>\n      <td>383.0</td>\n      <td>-200.0</td>\n      <td>10.0</td>\n      <td>54.0</td>\n      <td>...</td>\n      <td>12.0</td>\n      <td>41.0</td>\n      <td>979.0</td>\n      <td>0.0</td>\n      <td>0.0</td>\n      <td>8.0</td>\n      <td>-</td>\n      <td>WT</td>\n      <td>6013.0</td>\n      <td>LTS</td>\n    </tr>\n  </tbody>\n</table>\n<p>176 rows × 23 columns</p>\n</div>"
     },
     "metadata": {},
     "execution_count": 387
    }
   ],
   "source": [
    "riders_profile = pd.read_csv('riders_profile.csv',index_col=0)\n",
    "riders_profile  "
   ]
  },
  {
   "cell_type": "code",
   "execution_count": 388,
   "metadata": {},
   "outputs": [],
   "source": [
    "riders_profile['last_name'] = riders_profile.Rider.apply(lambda x: x.split()[0])"
   ]
  },
  {
   "cell_type": "code",
   "execution_count": 389,
   "metadata": {},
   "outputs": [
    {
     "output_type": "execute_result",
     "data": {
      "text/plain": "      Rank       UCI ID                  Name         Nationality Team Code  \\\n0        1  10008888921         ROGLIČ Primož            SLOVENIA       TJV   \n1        2  10003401246        FUGLSANG Jakob             DENMARK       AST   \n2        3  10007155752    ALAPHILIPPE Julian              FRANCE       DQT   \n3        4  10005467952          ULISSI Diego               ITALY       UAD   \n4        5  10004451371     VAN AVERMAET Greg             BELGIUM       CCC   \n...    ...          ...                   ...                 ...       ...   \n2564  2565  10008659454      ABRAHAMSEN Jonas              NORWAY       UXT   \n2565  2565  10008705025  EVTUSHENKO Alexander  RUSSIAN FEDERATION       STC   \n2566  2565  10009194772     KULIKOV Vladislav  RUSSIAN FEDERATION       GAZ   \n2567  2565  10006473318        VOROBYEV Anton  RUSSIAN FEDERATION       NaN   \n2568  2569  10010185889         DONEGÀ Matteo               ITALY       CTF   \n\n      Age   Points  \n0      30  3343.57  \n1      35  3106.50  \n2      28  3028.95  \n3      31  2246.00  \n4      35  2160.00  \n...   ...      ...  \n2564   25     0.43  \n2565   27     0.43  \n2566   24     0.43  \n2567   30     0.43  \n2568   22     0.20  \n\n[2569 rows x 7 columns]",
      "text/html": "<div>\n<style scoped>\n    .dataframe tbody tr th:only-of-type {\n        vertical-align: middle;\n    }\n\n    .dataframe tbody tr th {\n        vertical-align: top;\n    }\n\n    .dataframe thead th {\n        text-align: right;\n    }\n</style>\n<table border=\"1\" class=\"dataframe\">\n  <thead>\n    <tr style=\"text-align: right;\">\n      <th></th>\n      <th>Rank</th>\n      <th>UCI ID</th>\n      <th>Name</th>\n      <th>Nationality</th>\n      <th>Team Code</th>\n      <th>Age</th>\n      <th>Points</th>\n    </tr>\n  </thead>\n  <tbody>\n    <tr>\n      <th>0</th>\n      <td>1</td>\n      <td>10008888921</td>\n      <td>ROGLIČ Primož</td>\n      <td>SLOVENIA</td>\n      <td>TJV</td>\n      <td>30</td>\n      <td>3343.57</td>\n    </tr>\n    <tr>\n      <th>1</th>\n      <td>2</td>\n      <td>10003401246</td>\n      <td>FUGLSANG Jakob</td>\n      <td>DENMARK</td>\n      <td>AST</td>\n      <td>35</td>\n      <td>3106.50</td>\n    </tr>\n    <tr>\n      <th>2</th>\n      <td>3</td>\n      <td>10007155752</td>\n      <td>ALAPHILIPPE Julian</td>\n      <td>FRANCE</td>\n      <td>DQT</td>\n      <td>28</td>\n      <td>3028.95</td>\n    </tr>\n    <tr>\n      <th>3</th>\n      <td>4</td>\n      <td>10005467952</td>\n      <td>ULISSI Diego</td>\n      <td>ITALY</td>\n      <td>UAD</td>\n      <td>31</td>\n      <td>2246.00</td>\n    </tr>\n    <tr>\n      <th>4</th>\n      <td>5</td>\n      <td>10004451371</td>\n      <td>VAN AVERMAET Greg</td>\n      <td>BELGIUM</td>\n      <td>CCC</td>\n      <td>35</td>\n      <td>2160.00</td>\n    </tr>\n    <tr>\n      <th>...</th>\n      <td>...</td>\n      <td>...</td>\n      <td>...</td>\n      <td>...</td>\n      <td>...</td>\n      <td>...</td>\n      <td>...</td>\n    </tr>\n    <tr>\n      <th>2564</th>\n      <td>2565</td>\n      <td>10008659454</td>\n      <td>ABRAHAMSEN Jonas</td>\n      <td>NORWAY</td>\n      <td>UXT</td>\n      <td>25</td>\n      <td>0.43</td>\n    </tr>\n    <tr>\n      <th>2565</th>\n      <td>2565</td>\n      <td>10008705025</td>\n      <td>EVTUSHENKO Alexander</td>\n      <td>RUSSIAN FEDERATION</td>\n      <td>STC</td>\n      <td>27</td>\n      <td>0.43</td>\n    </tr>\n    <tr>\n      <th>2566</th>\n      <td>2565</td>\n      <td>10009194772</td>\n      <td>KULIKOV Vladislav</td>\n      <td>RUSSIAN FEDERATION</td>\n      <td>GAZ</td>\n      <td>24</td>\n      <td>0.43</td>\n    </tr>\n    <tr>\n      <th>2567</th>\n      <td>2565</td>\n      <td>10006473318</td>\n      <td>VOROBYEV Anton</td>\n      <td>RUSSIAN FEDERATION</td>\n      <td>NaN</td>\n      <td>30</td>\n      <td>0.43</td>\n    </tr>\n    <tr>\n      <th>2568</th>\n      <td>2569</td>\n      <td>10010185889</td>\n      <td>DONEGÀ Matteo</td>\n      <td>ITALY</td>\n      <td>CTF</td>\n      <td>22</td>\n      <td>0.20</td>\n    </tr>\n  </tbody>\n</table>\n<p>2569 rows × 7 columns</p>\n</div>"
     },
     "metadata": {},
     "execution_count": 389
    }
   ],
   "source": [
    "uci_ind_data = pd.read_excel('UCIIndividualRanking.xlsx')\n",
    "uci_ind_data"
   ]
  },
  {
   "cell_type": "code",
   "execution_count": 390,
   "metadata": {},
   "outputs": [],
   "source": [
    "uci_ind_data['Name'] = uci_ind_data.Name.apply(lambda x: unidecode.unidecode(x.lower()))\n",
    "uci_ind_data['last_name'] = uci_ind_data.Name.apply(lambda x: x.split()[0])"
   ]
  },
  {
   "cell_type": "code",
   "execution_count": 391,
   "metadata": {},
   "outputs": [
    {
     "output_type": "execute_result",
     "data": {
      "text/plain": "      Rank       UCI ID                  Name         Nationality Team Code  \\\n0        1  10008888921         roglic primoz            SLOVENIA       TJV   \n1        2  10003401246        fuglsang jakob             DENMARK       AST   \n2        3  10007155752    alaphilippe julian              FRANCE       DQT   \n3        4  10005467952          ulissi diego               ITALY       UAD   \n4        5  10004451371     van avermaet greg             BELGIUM       CCC   \n...    ...          ...                   ...                 ...       ...   \n2564  2565  10008659454      abrahamsen jonas              NORWAY       UXT   \n2565  2565  10008705025  evtushenko alexander  RUSSIAN FEDERATION       STC   \n2566  2565  10009194772     kulikov vladislav  RUSSIAN FEDERATION       GAZ   \n2567  2565  10006473318        vorobyev anton  RUSSIAN FEDERATION       NaN   \n2568  2569  10010185889         donega matteo               ITALY       CTF   \n\n      Age   Points    last_name  \n0      30  3343.57       roglic  \n1      35  3106.50     fuglsang  \n2      28  3028.95  alaphilippe  \n3      31  2246.00       ulissi  \n4      35  2160.00          van  \n...   ...      ...          ...  \n2564   25     0.43   abrahamsen  \n2565   27     0.43   evtushenko  \n2566   24     0.43      kulikov  \n2567   30     0.43     vorobyev  \n2568   22     0.20       donega  \n\n[2569 rows x 8 columns]",
      "text/html": "<div>\n<style scoped>\n    .dataframe tbody tr th:only-of-type {\n        vertical-align: middle;\n    }\n\n    .dataframe tbody tr th {\n        vertical-align: top;\n    }\n\n    .dataframe thead th {\n        text-align: right;\n    }\n</style>\n<table border=\"1\" class=\"dataframe\">\n  <thead>\n    <tr style=\"text-align: right;\">\n      <th></th>\n      <th>Rank</th>\n      <th>UCI ID</th>\n      <th>Name</th>\n      <th>Nationality</th>\n      <th>Team Code</th>\n      <th>Age</th>\n      <th>Points</th>\n      <th>last_name</th>\n    </tr>\n  </thead>\n  <tbody>\n    <tr>\n      <th>0</th>\n      <td>1</td>\n      <td>10008888921</td>\n      <td>roglic primoz</td>\n      <td>SLOVENIA</td>\n      <td>TJV</td>\n      <td>30</td>\n      <td>3343.57</td>\n      <td>roglic</td>\n    </tr>\n    <tr>\n      <th>1</th>\n      <td>2</td>\n      <td>10003401246</td>\n      <td>fuglsang jakob</td>\n      <td>DENMARK</td>\n      <td>AST</td>\n      <td>35</td>\n      <td>3106.50</td>\n      <td>fuglsang</td>\n    </tr>\n    <tr>\n      <th>2</th>\n      <td>3</td>\n      <td>10007155752</td>\n      <td>alaphilippe julian</td>\n      <td>FRANCE</td>\n      <td>DQT</td>\n      <td>28</td>\n      <td>3028.95</td>\n      <td>alaphilippe</td>\n    </tr>\n    <tr>\n      <th>3</th>\n      <td>4</td>\n      <td>10005467952</td>\n      <td>ulissi diego</td>\n      <td>ITALY</td>\n      <td>UAD</td>\n      <td>31</td>\n      <td>2246.00</td>\n      <td>ulissi</td>\n    </tr>\n    <tr>\n      <th>4</th>\n      <td>5</td>\n      <td>10004451371</td>\n      <td>van avermaet greg</td>\n      <td>BELGIUM</td>\n      <td>CCC</td>\n      <td>35</td>\n      <td>2160.00</td>\n      <td>van</td>\n    </tr>\n    <tr>\n      <th>...</th>\n      <td>...</td>\n      <td>...</td>\n      <td>...</td>\n      <td>...</td>\n      <td>...</td>\n      <td>...</td>\n      <td>...</td>\n      <td>...</td>\n    </tr>\n    <tr>\n      <th>2564</th>\n      <td>2565</td>\n      <td>10008659454</td>\n      <td>abrahamsen jonas</td>\n      <td>NORWAY</td>\n      <td>UXT</td>\n      <td>25</td>\n      <td>0.43</td>\n      <td>abrahamsen</td>\n    </tr>\n    <tr>\n      <th>2565</th>\n      <td>2565</td>\n      <td>10008705025</td>\n      <td>evtushenko alexander</td>\n      <td>RUSSIAN FEDERATION</td>\n      <td>STC</td>\n      <td>27</td>\n      <td>0.43</td>\n      <td>evtushenko</td>\n    </tr>\n    <tr>\n      <th>2566</th>\n      <td>2565</td>\n      <td>10009194772</td>\n      <td>kulikov vladislav</td>\n      <td>RUSSIAN FEDERATION</td>\n      <td>GAZ</td>\n      <td>24</td>\n      <td>0.43</td>\n      <td>kulikov</td>\n    </tr>\n    <tr>\n      <th>2567</th>\n      <td>2565</td>\n      <td>10006473318</td>\n      <td>vorobyev anton</td>\n      <td>RUSSIAN FEDERATION</td>\n      <td>NaN</td>\n      <td>30</td>\n      <td>0.43</td>\n      <td>vorobyev</td>\n    </tr>\n    <tr>\n      <th>2568</th>\n      <td>2569</td>\n      <td>10010185889</td>\n      <td>donega matteo</td>\n      <td>ITALY</td>\n      <td>CTF</td>\n      <td>22</td>\n      <td>0.20</td>\n      <td>donega</td>\n    </tr>\n  </tbody>\n</table>\n<p>2569 rows × 8 columns</p>\n</div>"
     },
     "metadata": {},
     "execution_count": 391
    }
   ],
   "source": [
    "uci_ind_data"
   ]
  },
  {
   "cell_type": "code",
   "execution_count": 392,
   "metadata": {},
   "outputs": [],
   "source": [
    "uci_ind_data = uci_ind_data.rename(columns={'Name':'Rider'})"
   ]
  },
  {
   "cell_type": "code",
   "execution_count": 393,
   "metadata": {},
   "outputs": [],
   "source": [
    "#riders_profile = riders_profile.merge(keep_tdf_riders(uci_ind_data,riders_profile),how='left',on='Rider',suffixes=('','_uci_ind'))\n",
    "riders_profile = riders_profile.merge(uci_ind_data,how='left',on=['Team Code','Age','last_name'],suffixes=('','_uci_ind'))"
   ]
  },
  {
   "cell_type": "code",
   "execution_count": 394,
   "metadata": {},
   "outputs": [
    {
     "output_type": "execute_result",
     "data": {
      "text/plain": "               Rider  Age                                Team  Rnk_pcs_ind  \\\n54   grellier fabien   25           Team Total Direct Energie       1459.0   \n55        reza kevin   32  B&B Hotels - Vital Concept p/b KTM       1459.0   \n132     izagirre ion   31                     Astana Pro Team         65.0   \n160   bonnet william   38                      Groupama - FDJ       1459.0   \n\n     Diff._pcs_ind  Pnts_pcs_ind  Rnk_pcs_climb  Diff._pcs_climb  \\\n54             0.0           0.0          724.0              0.0   \n55             0.0           0.0          724.0              0.0   \n132          -16.0         379.0          101.0            -68.0   \n160            0.0           0.0          724.0              0.0   \n\n     Pnts_pcs_climb  Rnk_pcs_sprint  ...  Diff._pcs_team  Team_class  \\\n54              0.0           940.0  ...               -         PCT   \n55              0.0           940.0  ...               -         PCT   \n132            78.0           940.0  ...               -          WT   \n160             0.0           940.0  ...               -          WT   \n\n     Pnts_pcs_team  Team Code  last_name  Rank  UCI ID  Rider_uci_ind  \\\n54          3497.0        TDE   grellier   NaN     NaN            NaN   \n55          2201.0        BVC       reza   NaN     NaN            NaN   \n132         7597.0        AST   izagirre   NaN     NaN            NaN   \n160         4705.0        GFC     bonnet   NaN     NaN            NaN   \n\n     Nationality Points  \n54           NaN    NaN  \n55           NaN    NaN  \n132          NaN    NaN  \n160          NaN    NaN  \n\n[4 rows x 29 columns]",
      "text/html": "<div>\n<style scoped>\n    .dataframe tbody tr th:only-of-type {\n        vertical-align: middle;\n    }\n\n    .dataframe tbody tr th {\n        vertical-align: top;\n    }\n\n    .dataframe thead th {\n        text-align: right;\n    }\n</style>\n<table border=\"1\" class=\"dataframe\">\n  <thead>\n    <tr style=\"text-align: right;\">\n      <th></th>\n      <th>Rider</th>\n      <th>Age</th>\n      <th>Team</th>\n      <th>Rnk_pcs_ind</th>\n      <th>Diff._pcs_ind</th>\n      <th>Pnts_pcs_ind</th>\n      <th>Rnk_pcs_climb</th>\n      <th>Diff._pcs_climb</th>\n      <th>Pnts_pcs_climb</th>\n      <th>Rnk_pcs_sprint</th>\n      <th>...</th>\n      <th>Diff._pcs_team</th>\n      <th>Team_class</th>\n      <th>Pnts_pcs_team</th>\n      <th>Team Code</th>\n      <th>last_name</th>\n      <th>Rank</th>\n      <th>UCI ID</th>\n      <th>Rider_uci_ind</th>\n      <th>Nationality</th>\n      <th>Points</th>\n    </tr>\n  </thead>\n  <tbody>\n    <tr>\n      <th>54</th>\n      <td>grellier fabien</td>\n      <td>25</td>\n      <td>Team Total Direct Energie</td>\n      <td>1459.0</td>\n      <td>0.0</td>\n      <td>0.0</td>\n      <td>724.0</td>\n      <td>0.0</td>\n      <td>0.0</td>\n      <td>940.0</td>\n      <td>...</td>\n      <td>-</td>\n      <td>PCT</td>\n      <td>3497.0</td>\n      <td>TDE</td>\n      <td>grellier</td>\n      <td>NaN</td>\n      <td>NaN</td>\n      <td>NaN</td>\n      <td>NaN</td>\n      <td>NaN</td>\n    </tr>\n    <tr>\n      <th>55</th>\n      <td>reza kevin</td>\n      <td>32</td>\n      <td>B&amp;B Hotels - Vital Concept p/b KTM</td>\n      <td>1459.0</td>\n      <td>0.0</td>\n      <td>0.0</td>\n      <td>724.0</td>\n      <td>0.0</td>\n      <td>0.0</td>\n      <td>940.0</td>\n      <td>...</td>\n      <td>-</td>\n      <td>PCT</td>\n      <td>2201.0</td>\n      <td>BVC</td>\n      <td>reza</td>\n      <td>NaN</td>\n      <td>NaN</td>\n      <td>NaN</td>\n      <td>NaN</td>\n      <td>NaN</td>\n    </tr>\n    <tr>\n      <th>132</th>\n      <td>izagirre ion</td>\n      <td>31</td>\n      <td>Astana Pro Team</td>\n      <td>65.0</td>\n      <td>-16.0</td>\n      <td>379.0</td>\n      <td>101.0</td>\n      <td>-68.0</td>\n      <td>78.0</td>\n      <td>940.0</td>\n      <td>...</td>\n      <td>-</td>\n      <td>WT</td>\n      <td>7597.0</td>\n      <td>AST</td>\n      <td>izagirre</td>\n      <td>NaN</td>\n      <td>NaN</td>\n      <td>NaN</td>\n      <td>NaN</td>\n      <td>NaN</td>\n    </tr>\n    <tr>\n      <th>160</th>\n      <td>bonnet william</td>\n      <td>38</td>\n      <td>Groupama - FDJ</td>\n      <td>1459.0</td>\n      <td>0.0</td>\n      <td>0.0</td>\n      <td>724.0</td>\n      <td>0.0</td>\n      <td>0.0</td>\n      <td>940.0</td>\n      <td>...</td>\n      <td>-</td>\n      <td>WT</td>\n      <td>4705.0</td>\n      <td>GFC</td>\n      <td>bonnet</td>\n      <td>NaN</td>\n      <td>NaN</td>\n      <td>NaN</td>\n      <td>NaN</td>\n      <td>NaN</td>\n    </tr>\n  </tbody>\n</table>\n<p>4 rows × 29 columns</p>\n</div>"
     },
     "metadata": {},
     "execution_count": 394
    }
   ],
   "source": [
    "riders_profile[riders_profile.Rank.isna()]"
   ]
  },
  {
   "cell_type": "code",
   "execution_count": 397,
   "metadata": {},
   "outputs": [
    {
     "output_type": "execute_result",
     "data": {
      "text/plain": "337.0     1\n240.0     1\n174.0     1\n147.0     1\n420.0     1\n         ..\n141.0     1\n11.0      1\n341.0     2\n44.0      2\n1459.0    4\nName: Rnk_pcs_ind, Length: 173, dtype: int64"
     },
     "metadata": {},
     "execution_count": 397
    }
   ],
   "source": [
    "riders_profile.Rnk_pcs_ind.value_counts().sort_values()"
   ]
  },
  {
   "cell_type": "code",
   "execution_count": 400,
   "metadata": {},
   "outputs": [
    {
     "output_type": "execute_result",
     "data": {
      "text/plain": "                    Rider  Age      Team  Rnk_pcs_ind  Diff._pcs_ind  \\\n103  de marchi alessandro   34  CCC Team        341.0           61.0   \n104  de marchi alessandro   34  CCC Team        341.0           61.0   \n\n     Pnts_pcs_ind  Rnk_pcs_climb  Diff._pcs_climb  Pnts_pcs_climb  \\\n103          98.0          104.0             57.0            76.0   \n104          98.0          104.0             57.0            76.0   \n\n     Rnk_pcs_sprint  ...  Diff._pcs_team  Team_class  Pnts_pcs_team  \\\n103           940.0  ...               -          WT         3199.0   \n104           940.0  ...               -          WT         3199.0   \n\n     Team Code  last_name   Rank        UCI ID         Rider_uci_ind  \\\n103        CCC         de  139.0  1.000309e+10  de marchi alessandro   \n104        CCC         de  218.0  1.000745e+10    de la parte victor   \n\n     Nationality Points  \n103        ITALY  377.0  \n104        SPAIN  220.0  \n\n[2 rows x 29 columns]",
      "text/html": "<div>\n<style scoped>\n    .dataframe tbody tr th:only-of-type {\n        vertical-align: middle;\n    }\n\n    .dataframe tbody tr th {\n        vertical-align: top;\n    }\n\n    .dataframe thead th {\n        text-align: right;\n    }\n</style>\n<table border=\"1\" class=\"dataframe\">\n  <thead>\n    <tr style=\"text-align: right;\">\n      <th></th>\n      <th>Rider</th>\n      <th>Age</th>\n      <th>Team</th>\n      <th>Rnk_pcs_ind</th>\n      <th>Diff._pcs_ind</th>\n      <th>Pnts_pcs_ind</th>\n      <th>Rnk_pcs_climb</th>\n      <th>Diff._pcs_climb</th>\n      <th>Pnts_pcs_climb</th>\n      <th>Rnk_pcs_sprint</th>\n      <th>...</th>\n      <th>Diff._pcs_team</th>\n      <th>Team_class</th>\n      <th>Pnts_pcs_team</th>\n      <th>Team Code</th>\n      <th>last_name</th>\n      <th>Rank</th>\n      <th>UCI ID</th>\n      <th>Rider_uci_ind</th>\n      <th>Nationality</th>\n      <th>Points</th>\n    </tr>\n  </thead>\n  <tbody>\n    <tr>\n      <th>103</th>\n      <td>de marchi alessandro</td>\n      <td>34</td>\n      <td>CCC Team</td>\n      <td>341.0</td>\n      <td>61.0</td>\n      <td>98.0</td>\n      <td>104.0</td>\n      <td>57.0</td>\n      <td>76.0</td>\n      <td>940.0</td>\n      <td>...</td>\n      <td>-</td>\n      <td>WT</td>\n      <td>3199.0</td>\n      <td>CCC</td>\n      <td>de</td>\n      <td>139.0</td>\n      <td>1.000309e+10</td>\n      <td>de marchi alessandro</td>\n      <td>ITALY</td>\n      <td>377.0</td>\n    </tr>\n    <tr>\n      <th>104</th>\n      <td>de marchi alessandro</td>\n      <td>34</td>\n      <td>CCC Team</td>\n      <td>341.0</td>\n      <td>61.0</td>\n      <td>98.0</td>\n      <td>104.0</td>\n      <td>57.0</td>\n      <td>76.0</td>\n      <td>940.0</td>\n      <td>...</td>\n      <td>-</td>\n      <td>WT</td>\n      <td>3199.0</td>\n      <td>CCC</td>\n      <td>de</td>\n      <td>218.0</td>\n      <td>1.000745e+10</td>\n      <td>de la parte victor</td>\n      <td>SPAIN</td>\n      <td>220.0</td>\n    </tr>\n  </tbody>\n</table>\n<p>2 rows × 29 columns</p>\n</div>"
     },
     "metadata": {},
     "execution_count": 400
    }
   ],
   "source": [
    "riders_profile[riders_profile['Rnk_pcs_ind']==341]"
   ]
  },
  {
   "cell_type": "code",
   "execution_count": 402,
   "metadata": {},
   "outputs": [],
   "source": [
    "# rows to drop 117,104\n",
    "riders_profile.drop(index=[104,117],inplace=True)"
   ]
  },
  {
   "source": [
    "## Saved riders_profile with UCI ID"
   ],
   "cell_type": "markdown",
   "metadata": {}
  },
  {
   "cell_type": "code",
   "execution_count": 403,
   "metadata": {},
   "outputs": [],
   "source": [
    "riders_profile.to_csv('riders_profile.csv')"
   ]
  },
  {
   "cell_type": "code",
   "execution_count": 406,
   "metadata": {},
   "outputs": [],
   "source": [
    "riders_profile.drop(columns=['Rider_uci_ind','Nationality'],inplace=True)"
   ]
  },
  {
   "cell_type": "code",
   "execution_count": 407,
   "metadata": {},
   "outputs": [],
   "source": [
    "riders_profile = riders_profile.rename(columns={'Rank':'Rnk_uci_ind','Points':'Pnts_uci_ind'})"
   ]
  },
  {
   "cell_type": "code",
   "execution_count": 408,
   "metadata": {},
   "outputs": [
    {
     "output_type": "execute_result",
     "data": {
      "text/plain": "                  Rider  Age                     Team  Rnk_pcs_ind  \\\n0    kristoff alexander   33        UAE-Team Emirates         28.0   \n1         pedersen mads   24         Trek - Segafredo         26.0   \n2              bol cees   25              Team Sunweb        141.0   \n3           bennett sam   29  Deceuninck - Quick Step         12.0   \n4           sagan peter   30         BORA - hansgrohe         19.0   \n..                  ...  ...                      ...          ...   \n173       sivakov pavel   23         INEOS Grenadiers         57.0   \n174          cras steff   24             Lotto Soudal        502.0   \n175      ledanois kevin   27        Team Arkéa Samsic        420.0   \n176        valls rafael   33        Bahrain - McLaren        807.0   \n177      degenkolb john   31             Lotto Soudal        147.0   \n\n     Diff._pcs_ind  Pnts_pcs_ind  Rnk_pcs_climb  Diff._pcs_climb  \\\n0            -20.0         611.0          724.0              0.0   \n1             72.0         625.0          396.0            128.0   \n2            -39.0         237.0          687.0           -365.0   \n3              6.0         828.0          128.0            301.0   \n4             -6.0         684.0          116.0            -73.0   \n..             ...           ...            ...              ...   \n173          -19.0         431.0           45.0              5.0   \n174           97.0          58.0          225.0            169.0   \n175          148.0          75.0          724.0              0.0   \n176         -143.0          24.0          354.0            151.0   \n177          -55.0         225.0          383.0           -200.0   \n\n     Pnts_pcs_climb  Rnk_pcs_sprint  ...  Pnts_pcs_tt  Rnk_pcs_team  \\\n0               0.0            17.0  ...          0.0           6.0   \n1              10.0            30.0  ...          0.0          11.0   \n2               2.0            37.0  ...         10.0          15.0   \n3              58.0             2.0  ...          0.0           1.0   \n4              68.0             8.0  ...          0.0           3.0   \n..              ...             ...  ...          ...           ...   \n173           225.0           940.0  ...          0.0           4.0   \n174            24.0           940.0  ...          0.0           8.0   \n175             0.0           343.0  ...          0.0          25.0   \n176            12.0           940.0  ...          0.0          12.0   \n177            10.0            54.0  ...          0.0           8.0   \n\n     Diff._pcs_team  Team_class  Pnts_pcs_team  Team Code  last_name  \\\n0                 -          WT         6932.0        UAD   kristoff   \n1                 -          WT         4949.0        TFS   pedersen   \n2                 -          WT         4510.0        SUN        bol   \n3                 -          WT         9229.0        DQT    bennett   \n4                 -          WT         8117.0        BOH      sagan   \n..              ...         ...            ...        ...        ...   \n173               -          WT         7757.0        INS    sivakov   \n174               -          WT         6013.0        LTS       cras   \n175               -         PCT         2229.0        ARK   ledanois   \n176               -          WT         4948.0        TBM      valls   \n177               -          WT         6013.0        LTS  degenkolb   \n\n     Rnk_uci_ind        UCI ID Pnts_uci_ind  \n0           14.0  1.000327e+10      1766.00  \n1           50.0  1.000869e+10       958.00  \n2          216.0  1.000940e+10       222.88  \n3           51.0  1.000660e+10       947.50  \n4            8.0  1.000546e+10      1978.00  \n..           ...           ...          ...  \n173         67.0  1.001113e+10       725.00  \n174        774.0  1.001009e+10        54.00  \n175        420.0  1.000759e+10       118.00  \n176        311.0  1.000463e+10       160.00  \n177         78.0  1.000538e+10       615.00  \n\n[176 rows x 27 columns]",
      "text/html": "<div>\n<style scoped>\n    .dataframe tbody tr th:only-of-type {\n        vertical-align: middle;\n    }\n\n    .dataframe tbody tr th {\n        vertical-align: top;\n    }\n\n    .dataframe thead th {\n        text-align: right;\n    }\n</style>\n<table border=\"1\" class=\"dataframe\">\n  <thead>\n    <tr style=\"text-align: right;\">\n      <th></th>\n      <th>Rider</th>\n      <th>Age</th>\n      <th>Team</th>\n      <th>Rnk_pcs_ind</th>\n      <th>Diff._pcs_ind</th>\n      <th>Pnts_pcs_ind</th>\n      <th>Rnk_pcs_climb</th>\n      <th>Diff._pcs_climb</th>\n      <th>Pnts_pcs_climb</th>\n      <th>Rnk_pcs_sprint</th>\n      <th>...</th>\n      <th>Pnts_pcs_tt</th>\n      <th>Rnk_pcs_team</th>\n      <th>Diff._pcs_team</th>\n      <th>Team_class</th>\n      <th>Pnts_pcs_team</th>\n      <th>Team Code</th>\n      <th>last_name</th>\n      <th>Rnk_uci_ind</th>\n      <th>UCI ID</th>\n      <th>Pnts_uci_ind</th>\n    </tr>\n  </thead>\n  <tbody>\n    <tr>\n      <th>0</th>\n      <td>kristoff alexander</td>\n      <td>33</td>\n      <td>UAE-Team Emirates</td>\n      <td>28.0</td>\n      <td>-20.0</td>\n      <td>611.0</td>\n      <td>724.0</td>\n      <td>0.0</td>\n      <td>0.0</td>\n      <td>17.0</td>\n      <td>...</td>\n      <td>0.0</td>\n      <td>6.0</td>\n      <td>-</td>\n      <td>WT</td>\n      <td>6932.0</td>\n      <td>UAD</td>\n      <td>kristoff</td>\n      <td>14.0</td>\n      <td>1.000327e+10</td>\n      <td>1766.00</td>\n    </tr>\n    <tr>\n      <th>1</th>\n      <td>pedersen mads</td>\n      <td>24</td>\n      <td>Trek - Segafredo</td>\n      <td>26.0</td>\n      <td>72.0</td>\n      <td>625.0</td>\n      <td>396.0</td>\n      <td>128.0</td>\n      <td>10.0</td>\n      <td>30.0</td>\n      <td>...</td>\n      <td>0.0</td>\n      <td>11.0</td>\n      <td>-</td>\n      <td>WT</td>\n      <td>4949.0</td>\n      <td>TFS</td>\n      <td>pedersen</td>\n      <td>50.0</td>\n      <td>1.000869e+10</td>\n      <td>958.00</td>\n    </tr>\n    <tr>\n      <th>2</th>\n      <td>bol cees</td>\n      <td>25</td>\n      <td>Team Sunweb</td>\n      <td>141.0</td>\n      <td>-39.0</td>\n      <td>237.0</td>\n      <td>687.0</td>\n      <td>-365.0</td>\n      <td>2.0</td>\n      <td>37.0</td>\n      <td>...</td>\n      <td>10.0</td>\n      <td>15.0</td>\n      <td>-</td>\n      <td>WT</td>\n      <td>4510.0</td>\n      <td>SUN</td>\n      <td>bol</td>\n      <td>216.0</td>\n      <td>1.000940e+10</td>\n      <td>222.88</td>\n    </tr>\n    <tr>\n      <th>3</th>\n      <td>bennett sam</td>\n      <td>29</td>\n      <td>Deceuninck - Quick Step</td>\n      <td>12.0</td>\n      <td>6.0</td>\n      <td>828.0</td>\n      <td>128.0</td>\n      <td>301.0</td>\n      <td>58.0</td>\n      <td>2.0</td>\n      <td>...</td>\n      <td>0.0</td>\n      <td>1.0</td>\n      <td>-</td>\n      <td>WT</td>\n      <td>9229.0</td>\n      <td>DQT</td>\n      <td>bennett</td>\n      <td>51.0</td>\n      <td>1.000660e+10</td>\n      <td>947.50</td>\n    </tr>\n    <tr>\n      <th>4</th>\n      <td>sagan peter</td>\n      <td>30</td>\n      <td>BORA - hansgrohe</td>\n      <td>19.0</td>\n      <td>-6.0</td>\n      <td>684.0</td>\n      <td>116.0</td>\n      <td>-73.0</td>\n      <td>68.0</td>\n      <td>8.0</td>\n      <td>...</td>\n      <td>0.0</td>\n      <td>3.0</td>\n      <td>-</td>\n      <td>WT</td>\n      <td>8117.0</td>\n      <td>BOH</td>\n      <td>sagan</td>\n      <td>8.0</td>\n      <td>1.000546e+10</td>\n      <td>1978.00</td>\n    </tr>\n    <tr>\n      <th>...</th>\n      <td>...</td>\n      <td>...</td>\n      <td>...</td>\n      <td>...</td>\n      <td>...</td>\n      <td>...</td>\n      <td>...</td>\n      <td>...</td>\n      <td>...</td>\n      <td>...</td>\n      <td>...</td>\n      <td>...</td>\n      <td>...</td>\n      <td>...</td>\n      <td>...</td>\n      <td>...</td>\n      <td>...</td>\n      <td>...</td>\n      <td>...</td>\n      <td>...</td>\n      <td>...</td>\n    </tr>\n    <tr>\n      <th>173</th>\n      <td>sivakov pavel</td>\n      <td>23</td>\n      <td>INEOS Grenadiers</td>\n      <td>57.0</td>\n      <td>-19.0</td>\n      <td>431.0</td>\n      <td>45.0</td>\n      <td>5.0</td>\n      <td>225.0</td>\n      <td>940.0</td>\n      <td>...</td>\n      <td>0.0</td>\n      <td>4.0</td>\n      <td>-</td>\n      <td>WT</td>\n      <td>7757.0</td>\n      <td>INS</td>\n      <td>sivakov</td>\n      <td>67.0</td>\n      <td>1.001113e+10</td>\n      <td>725.00</td>\n    </tr>\n    <tr>\n      <th>174</th>\n      <td>cras steff</td>\n      <td>24</td>\n      <td>Lotto Soudal</td>\n      <td>502.0</td>\n      <td>97.0</td>\n      <td>58.0</td>\n      <td>225.0</td>\n      <td>169.0</td>\n      <td>24.0</td>\n      <td>940.0</td>\n      <td>...</td>\n      <td>0.0</td>\n      <td>8.0</td>\n      <td>-</td>\n      <td>WT</td>\n      <td>6013.0</td>\n      <td>LTS</td>\n      <td>cras</td>\n      <td>774.0</td>\n      <td>1.001009e+10</td>\n      <td>54.00</td>\n    </tr>\n    <tr>\n      <th>175</th>\n      <td>ledanois kevin</td>\n      <td>27</td>\n      <td>Team Arkéa Samsic</td>\n      <td>420.0</td>\n      <td>148.0</td>\n      <td>75.0</td>\n      <td>724.0</td>\n      <td>0.0</td>\n      <td>0.0</td>\n      <td>343.0</td>\n      <td>...</td>\n      <td>0.0</td>\n      <td>25.0</td>\n      <td>-</td>\n      <td>PCT</td>\n      <td>2229.0</td>\n      <td>ARK</td>\n      <td>ledanois</td>\n      <td>420.0</td>\n      <td>1.000759e+10</td>\n      <td>118.00</td>\n    </tr>\n    <tr>\n      <th>176</th>\n      <td>valls rafael</td>\n      <td>33</td>\n      <td>Bahrain - McLaren</td>\n      <td>807.0</td>\n      <td>-143.0</td>\n      <td>24.0</td>\n      <td>354.0</td>\n      <td>151.0</td>\n      <td>12.0</td>\n      <td>940.0</td>\n      <td>...</td>\n      <td>0.0</td>\n      <td>12.0</td>\n      <td>-</td>\n      <td>WT</td>\n      <td>4948.0</td>\n      <td>TBM</td>\n      <td>valls</td>\n      <td>311.0</td>\n      <td>1.000463e+10</td>\n      <td>160.00</td>\n    </tr>\n    <tr>\n      <th>177</th>\n      <td>degenkolb john</td>\n      <td>31</td>\n      <td>Lotto Soudal</td>\n      <td>147.0</td>\n      <td>-55.0</td>\n      <td>225.0</td>\n      <td>383.0</td>\n      <td>-200.0</td>\n      <td>10.0</td>\n      <td>54.0</td>\n      <td>...</td>\n      <td>0.0</td>\n      <td>8.0</td>\n      <td>-</td>\n      <td>WT</td>\n      <td>6013.0</td>\n      <td>LTS</td>\n      <td>degenkolb</td>\n      <td>78.0</td>\n      <td>1.000538e+10</td>\n      <td>615.00</td>\n    </tr>\n  </tbody>\n</table>\n<p>176 rows × 27 columns</p>\n</div>"
     },
     "metadata": {},
     "execution_count": 408
    }
   ],
   "source": [
    "riders_profile"
   ]
  },
  {
   "cell_type": "code",
   "execution_count": 412,
   "metadata": {},
   "outputs": [],
   "source": [
    "no_id = riders_profile[riders_profile['UCI ID'].isna()].index\n",
    "for i in range(len(no_id)):\n",
    "    riders_profile.loc[no_id[i],'UCI ID'] = i"
   ]
  },
  {
   "cell_type": "code",
   "execution_count": 413,
   "metadata": {},
   "outputs": [
    {
     "output_type": "execute_result",
     "data": {
      "text/plain": "               Rider  Age                                Team  Rnk_pcs_ind  \\\n54   grellier fabien   25           Team Total Direct Energie       1459.0   \n55        reza kevin   32  B&B Hotels - Vital Concept p/b KTM       1459.0   \n132     izagirre ion   31                     Astana Pro Team         65.0   \n160   bonnet william   38                      Groupama - FDJ       1459.0   \n\n     Diff._pcs_ind  Pnts_pcs_ind  Rnk_pcs_climb  Diff._pcs_climb  \\\n54             0.0           0.0          724.0              0.0   \n55             0.0           0.0          724.0              0.0   \n132          -16.0         379.0          101.0            -68.0   \n160            0.0           0.0          724.0              0.0   \n\n     Pnts_pcs_climb  Rnk_pcs_sprint  ...  Pnts_pcs_tt  Rnk_pcs_team  \\\n54              0.0           940.0  ...          0.0          19.0   \n55              0.0           940.0  ...          0.0          26.0   \n132            78.0           940.0  ...         42.0           5.0   \n160             0.0           940.0  ...          0.0          14.0   \n\n     Diff._pcs_team  Team_class  Pnts_pcs_team  Team Code  last_name  \\\n54                -         PCT         3497.0        TDE   grellier   \n55                -         PCT         2201.0        BVC       reza   \n132               -          WT         7597.0        AST   izagirre   \n160               -          WT         4705.0        GFC     bonnet   \n\n     Rnk_uci_ind  UCI ID Pnts_uci_ind  \n54           NaN     0.0          NaN  \n55           NaN     1.0          NaN  \n132          NaN     2.0          NaN  \n160          NaN     3.0          NaN  \n\n[4 rows x 27 columns]",
      "text/html": "<div>\n<style scoped>\n    .dataframe tbody tr th:only-of-type {\n        vertical-align: middle;\n    }\n\n    .dataframe tbody tr th {\n        vertical-align: top;\n    }\n\n    .dataframe thead th {\n        text-align: right;\n    }\n</style>\n<table border=\"1\" class=\"dataframe\">\n  <thead>\n    <tr style=\"text-align: right;\">\n      <th></th>\n      <th>Rider</th>\n      <th>Age</th>\n      <th>Team</th>\n      <th>Rnk_pcs_ind</th>\n      <th>Diff._pcs_ind</th>\n      <th>Pnts_pcs_ind</th>\n      <th>Rnk_pcs_climb</th>\n      <th>Diff._pcs_climb</th>\n      <th>Pnts_pcs_climb</th>\n      <th>Rnk_pcs_sprint</th>\n      <th>...</th>\n      <th>Pnts_pcs_tt</th>\n      <th>Rnk_pcs_team</th>\n      <th>Diff._pcs_team</th>\n      <th>Team_class</th>\n      <th>Pnts_pcs_team</th>\n      <th>Team Code</th>\n      <th>last_name</th>\n      <th>Rnk_uci_ind</th>\n      <th>UCI ID</th>\n      <th>Pnts_uci_ind</th>\n    </tr>\n  </thead>\n  <tbody>\n    <tr>\n      <th>54</th>\n      <td>grellier fabien</td>\n      <td>25</td>\n      <td>Team Total Direct Energie</td>\n      <td>1459.0</td>\n      <td>0.0</td>\n      <td>0.0</td>\n      <td>724.0</td>\n      <td>0.0</td>\n      <td>0.0</td>\n      <td>940.0</td>\n      <td>...</td>\n      <td>0.0</td>\n      <td>19.0</td>\n      <td>-</td>\n      <td>PCT</td>\n      <td>3497.0</td>\n      <td>TDE</td>\n      <td>grellier</td>\n      <td>NaN</td>\n      <td>0.0</td>\n      <td>NaN</td>\n    </tr>\n    <tr>\n      <th>55</th>\n      <td>reza kevin</td>\n      <td>32</td>\n      <td>B&amp;B Hotels - Vital Concept p/b KTM</td>\n      <td>1459.0</td>\n      <td>0.0</td>\n      <td>0.0</td>\n      <td>724.0</td>\n      <td>0.0</td>\n      <td>0.0</td>\n      <td>940.0</td>\n      <td>...</td>\n      <td>0.0</td>\n      <td>26.0</td>\n      <td>-</td>\n      <td>PCT</td>\n      <td>2201.0</td>\n      <td>BVC</td>\n      <td>reza</td>\n      <td>NaN</td>\n      <td>1.0</td>\n      <td>NaN</td>\n    </tr>\n    <tr>\n      <th>132</th>\n      <td>izagirre ion</td>\n      <td>31</td>\n      <td>Astana Pro Team</td>\n      <td>65.0</td>\n      <td>-16.0</td>\n      <td>379.0</td>\n      <td>101.0</td>\n      <td>-68.0</td>\n      <td>78.0</td>\n      <td>940.0</td>\n      <td>...</td>\n      <td>42.0</td>\n      <td>5.0</td>\n      <td>-</td>\n      <td>WT</td>\n      <td>7597.0</td>\n      <td>AST</td>\n      <td>izagirre</td>\n      <td>NaN</td>\n      <td>2.0</td>\n      <td>NaN</td>\n    </tr>\n    <tr>\n      <th>160</th>\n      <td>bonnet william</td>\n      <td>38</td>\n      <td>Groupama - FDJ</td>\n      <td>1459.0</td>\n      <td>0.0</td>\n      <td>0.0</td>\n      <td>724.0</td>\n      <td>0.0</td>\n      <td>0.0</td>\n      <td>940.0</td>\n      <td>...</td>\n      <td>0.0</td>\n      <td>14.0</td>\n      <td>-</td>\n      <td>WT</td>\n      <td>4705.0</td>\n      <td>GFC</td>\n      <td>bonnet</td>\n      <td>NaN</td>\n      <td>3.0</td>\n      <td>NaN</td>\n    </tr>\n  </tbody>\n</table>\n<p>4 rows × 27 columns</p>\n</div>"
     },
     "metadata": {},
     "execution_count": 413
    }
   ],
   "source": [
    "riders_profile.loc[no_id]"
   ]
  },
  {
   "cell_type": "code",
   "execution_count": 414,
   "metadata": {},
   "outputs": [
    {
     "output_type": "execute_result",
     "data": {
      "text/plain": "      Rank       UCI ID                     Name         Nationality  \\\n0        1  10008888921            ROGLIČ Primož            SLOVENIA   \n1        2  10014972740            POGAČAR Tadej            SLOVENIA   \n2        3  10006738854           QUINTANA Nairo            COLOMBIA   \n3        4  10007155752       ALAPHILIPPE Julian              FRANCE   \n4        5  10009584489  BERNAL GOMEZ Egan Arley            COLOMBIA   \n...    ...          ...                      ...                 ...   \n1394  1392  10008659454         ABRAHAMSEN Jonas              NORWAY   \n1395  1392  10008705025     EVTUSHENKO Alexander  RUSSIAN FEDERATION   \n1396  1392  10009194772        KULIKOV Vladislav  RUSSIAN FEDERATION   \n1397  1392  10015221102          JOHANSEN Julius             DENMARK   \n1398  1399  10010185889            DONEGÀ Matteo               ITALY   \n\n     Team Code  Age   Points  \n0          TJV   31  3113.57  \n1          UAD   22  1755.00  \n2          ARK   30  1691.00  \n3          DQT   28  1476.95  \n4          INS   23  1446.75  \n...        ...  ...      ...  \n1394       UXT   25     0.43  \n1395       STC   27     0.43  \n1396       GAZ   24     0.43  \n1397       UXT   21     0.43  \n1398       CTF   22     0.20  \n\n[1399 rows x 7 columns]",
      "text/html": "<div>\n<style scoped>\n    .dataframe tbody tr th:only-of-type {\n        vertical-align: middle;\n    }\n\n    .dataframe tbody tr th {\n        vertical-align: top;\n    }\n\n    .dataframe thead th {\n        text-align: right;\n    }\n</style>\n<table border=\"1\" class=\"dataframe\">\n  <thead>\n    <tr style=\"text-align: right;\">\n      <th></th>\n      <th>Rank</th>\n      <th>UCI ID</th>\n      <th>Name</th>\n      <th>Nationality</th>\n      <th>Team Code</th>\n      <th>Age</th>\n      <th>Points</th>\n    </tr>\n  </thead>\n  <tbody>\n    <tr>\n      <th>0</th>\n      <td>1</td>\n      <td>10008888921</td>\n      <td>ROGLIČ Primož</td>\n      <td>SLOVENIA</td>\n      <td>TJV</td>\n      <td>31</td>\n      <td>3113.57</td>\n    </tr>\n    <tr>\n      <th>1</th>\n      <td>2</td>\n      <td>10014972740</td>\n      <td>POGAČAR Tadej</td>\n      <td>SLOVENIA</td>\n      <td>UAD</td>\n      <td>22</td>\n      <td>1755.00</td>\n    </tr>\n    <tr>\n      <th>2</th>\n      <td>3</td>\n      <td>10006738854</td>\n      <td>QUINTANA Nairo</td>\n      <td>COLOMBIA</td>\n      <td>ARK</td>\n      <td>30</td>\n      <td>1691.00</td>\n    </tr>\n    <tr>\n      <th>3</th>\n      <td>4</td>\n      <td>10007155752</td>\n      <td>ALAPHILIPPE Julian</td>\n      <td>FRANCE</td>\n      <td>DQT</td>\n      <td>28</td>\n      <td>1476.95</td>\n    </tr>\n    <tr>\n      <th>4</th>\n      <td>5</td>\n      <td>10009584489</td>\n      <td>BERNAL GOMEZ Egan Arley</td>\n      <td>COLOMBIA</td>\n      <td>INS</td>\n      <td>23</td>\n      <td>1446.75</td>\n    </tr>\n    <tr>\n      <th>...</th>\n      <td>...</td>\n      <td>...</td>\n      <td>...</td>\n      <td>...</td>\n      <td>...</td>\n      <td>...</td>\n      <td>...</td>\n    </tr>\n    <tr>\n      <th>1394</th>\n      <td>1392</td>\n      <td>10008659454</td>\n      <td>ABRAHAMSEN Jonas</td>\n      <td>NORWAY</td>\n      <td>UXT</td>\n      <td>25</td>\n      <td>0.43</td>\n    </tr>\n    <tr>\n      <th>1395</th>\n      <td>1392</td>\n      <td>10008705025</td>\n      <td>EVTUSHENKO Alexander</td>\n      <td>RUSSIAN FEDERATION</td>\n      <td>STC</td>\n      <td>27</td>\n      <td>0.43</td>\n    </tr>\n    <tr>\n      <th>1396</th>\n      <td>1392</td>\n      <td>10009194772</td>\n      <td>KULIKOV Vladislav</td>\n      <td>RUSSIAN FEDERATION</td>\n      <td>GAZ</td>\n      <td>24</td>\n      <td>0.43</td>\n    </tr>\n    <tr>\n      <th>1397</th>\n      <td>1392</td>\n      <td>10015221102</td>\n      <td>JOHANSEN Julius</td>\n      <td>DENMARK</td>\n      <td>UXT</td>\n      <td>21</td>\n      <td>0.43</td>\n    </tr>\n    <tr>\n      <th>1398</th>\n      <td>1399</td>\n      <td>10010185889</td>\n      <td>DONEGÀ Matteo</td>\n      <td>ITALY</td>\n      <td>CTF</td>\n      <td>22</td>\n      <td>0.20</td>\n    </tr>\n  </tbody>\n</table>\n<p>1399 rows × 7 columns</p>\n</div>"
     },
     "metadata": {},
     "execution_count": 414
    }
   ],
   "source": [
    "uci_gc_data = pd.read_excel('UCIStageRace.xlsx')\n",
    "uci_gc_data"
   ]
  },
  {
   "cell_type": "code",
   "execution_count": 415,
   "metadata": {},
   "outputs": [],
   "source": [
    "uci_gc_data['Name'] = uci_gc_data.Name.apply(lambda x: unidecode.unidecode(x.lower()))\n",
    "uci_gc_data = uci_gc_data.rename(columns={'Name':'Rider'})\n",
    "riders_profile = riders_profile.merge(uci_gc_data,how='left',on='UCI ID',suffixes=('','_uci_gc'))"
   ]
  },
  {
   "cell_type": "code",
   "execution_count": 417,
   "metadata": {},
   "outputs": [
    {
     "output_type": "execute_result",
     "data": {
      "text/plain": "                  Rider  Age                     Team  Rnk_pcs_ind  \\\n0    kristoff alexander   33        UAE-Team Emirates         28.0   \n1         pedersen mads   24         Trek - Segafredo         26.0   \n2              bol cees   25              Team Sunweb        141.0   \n3           bennett sam   29  Deceuninck - Quick Step         12.0   \n4           sagan peter   30         BORA - hansgrohe         19.0   \n..                  ...  ...                      ...          ...   \n171       sivakov pavel   23         INEOS Grenadiers         57.0   \n172          cras steff   24             Lotto Soudal        502.0   \n173      ledanois kevin   27        Team Arkéa Samsic        420.0   \n174        valls rafael   33        Bahrain - McLaren        807.0   \n175      degenkolb john   31             Lotto Soudal        147.0   \n\n     Diff._pcs_ind  Pnts_pcs_ind  Rnk_pcs_climb  Diff._pcs_climb  \\\n0            -20.0         611.0          724.0              0.0   \n1             72.0         625.0          396.0            128.0   \n2            -39.0         237.0          687.0           -365.0   \n3              6.0         828.0          128.0            301.0   \n4             -6.0         684.0          116.0            -73.0   \n..             ...           ...            ...              ...   \n171          -19.0         431.0           45.0              5.0   \n172           97.0          58.0          225.0            169.0   \n173          148.0          75.0          724.0              0.0   \n174         -143.0          24.0          354.0            151.0   \n175          -55.0         225.0          383.0           -200.0   \n\n     Pnts_pcs_climb  Rnk_pcs_sprint  ...  Team_class  Pnts_pcs_team  \\\n0               0.0            17.0  ...          WT         6932.0   \n1              10.0            30.0  ...          WT         4949.0   \n2               2.0            37.0  ...          WT         4510.0   \n3              58.0             2.0  ...          WT         9229.0   \n4              68.0             8.0  ...          WT         8117.0   \n..              ...             ...  ...         ...            ...   \n171           225.0           940.0  ...          WT         7757.0   \n172            24.0           940.0  ...          WT         6013.0   \n173             0.0           343.0  ...         PCT         2229.0   \n174            12.0           940.0  ...          WT         4948.0   \n175            10.0            54.0  ...          WT         6013.0   \n\n     Team Code  last_name  Rnk_uci_ind        UCI ID  Pnts_uci_ind  \\\n0          UAD   kristoff         14.0  1.000327e+10       1766.00   \n1          TFS   pedersen         50.0  1.000869e+10        958.00   \n2          SUN        bol        216.0  1.000940e+10        222.88   \n3          DQT    bennett         51.0  1.000660e+10        947.50   \n4          BOH      sagan          8.0  1.000546e+10       1978.00   \n..         ...        ...          ...           ...           ...   \n171        INS    sivakov         67.0  1.001113e+10        725.00   \n172        LTS       cras        774.0  1.001009e+10         54.00   \n173        ARK   ledanois        420.0  1.000759e+10        118.00   \n174        TBM      valls        311.0  1.000463e+10        160.00   \n175        LTS  degenkolb         78.0  1.000538e+10        615.00   \n\n     Rnk_uci_gc        Rider_uci_gc Pnts_uci_gc  \n0         181.0  kristoff alexander      128.00  \n1         280.0       pedersen mads       76.00  \n2         448.0            bol cees       41.88  \n3          25.0         bennett sam      709.50  \n4          44.0         sagan peter      445.00  \n..          ...                 ...         ...  \n171        40.0       sivakov pavel      475.00  \n172       453.0          cras steff       41.00  \n173       328.0      ledanois kevin       63.00  \n174       495.0  valls ferri rafael       35.00  \n175       465.0      degenkolb john       40.00  \n\n[176 rows x 30 columns]",
      "text/html": "<div>\n<style scoped>\n    .dataframe tbody tr th:only-of-type {\n        vertical-align: middle;\n    }\n\n    .dataframe tbody tr th {\n        vertical-align: top;\n    }\n\n    .dataframe thead th {\n        text-align: right;\n    }\n</style>\n<table border=\"1\" class=\"dataframe\">\n  <thead>\n    <tr style=\"text-align: right;\">\n      <th></th>\n      <th>Rider</th>\n      <th>Age</th>\n      <th>Team</th>\n      <th>Rnk_pcs_ind</th>\n      <th>Diff._pcs_ind</th>\n      <th>Pnts_pcs_ind</th>\n      <th>Rnk_pcs_climb</th>\n      <th>Diff._pcs_climb</th>\n      <th>Pnts_pcs_climb</th>\n      <th>Rnk_pcs_sprint</th>\n      <th>...</th>\n      <th>Team_class</th>\n      <th>Pnts_pcs_team</th>\n      <th>Team Code</th>\n      <th>last_name</th>\n      <th>Rnk_uci_ind</th>\n      <th>UCI ID</th>\n      <th>Pnts_uci_ind</th>\n      <th>Rnk_uci_gc</th>\n      <th>Rider_uci_gc</th>\n      <th>Pnts_uci_gc</th>\n    </tr>\n  </thead>\n  <tbody>\n    <tr>\n      <th>0</th>\n      <td>kristoff alexander</td>\n      <td>33</td>\n      <td>UAE-Team Emirates</td>\n      <td>28.0</td>\n      <td>-20.0</td>\n      <td>611.0</td>\n      <td>724.0</td>\n      <td>0.0</td>\n      <td>0.0</td>\n      <td>17.0</td>\n      <td>...</td>\n      <td>WT</td>\n      <td>6932.0</td>\n      <td>UAD</td>\n      <td>kristoff</td>\n      <td>14.0</td>\n      <td>1.000327e+10</td>\n      <td>1766.00</td>\n      <td>181.0</td>\n      <td>kristoff alexander</td>\n      <td>128.00</td>\n    </tr>\n    <tr>\n      <th>1</th>\n      <td>pedersen mads</td>\n      <td>24</td>\n      <td>Trek - Segafredo</td>\n      <td>26.0</td>\n      <td>72.0</td>\n      <td>625.0</td>\n      <td>396.0</td>\n      <td>128.0</td>\n      <td>10.0</td>\n      <td>30.0</td>\n      <td>...</td>\n      <td>WT</td>\n      <td>4949.0</td>\n      <td>TFS</td>\n      <td>pedersen</td>\n      <td>50.0</td>\n      <td>1.000869e+10</td>\n      <td>958.00</td>\n      <td>280.0</td>\n      <td>pedersen mads</td>\n      <td>76.00</td>\n    </tr>\n    <tr>\n      <th>2</th>\n      <td>bol cees</td>\n      <td>25</td>\n      <td>Team Sunweb</td>\n      <td>141.0</td>\n      <td>-39.0</td>\n      <td>237.0</td>\n      <td>687.0</td>\n      <td>-365.0</td>\n      <td>2.0</td>\n      <td>37.0</td>\n      <td>...</td>\n      <td>WT</td>\n      <td>4510.0</td>\n      <td>SUN</td>\n      <td>bol</td>\n      <td>216.0</td>\n      <td>1.000940e+10</td>\n      <td>222.88</td>\n      <td>448.0</td>\n      <td>bol cees</td>\n      <td>41.88</td>\n    </tr>\n    <tr>\n      <th>3</th>\n      <td>bennett sam</td>\n      <td>29</td>\n      <td>Deceuninck - Quick Step</td>\n      <td>12.0</td>\n      <td>6.0</td>\n      <td>828.0</td>\n      <td>128.0</td>\n      <td>301.0</td>\n      <td>58.0</td>\n      <td>2.0</td>\n      <td>...</td>\n      <td>WT</td>\n      <td>9229.0</td>\n      <td>DQT</td>\n      <td>bennett</td>\n      <td>51.0</td>\n      <td>1.000660e+10</td>\n      <td>947.50</td>\n      <td>25.0</td>\n      <td>bennett sam</td>\n      <td>709.50</td>\n    </tr>\n    <tr>\n      <th>4</th>\n      <td>sagan peter</td>\n      <td>30</td>\n      <td>BORA - hansgrohe</td>\n      <td>19.0</td>\n      <td>-6.0</td>\n      <td>684.0</td>\n      <td>116.0</td>\n      <td>-73.0</td>\n      <td>68.0</td>\n      <td>8.0</td>\n      <td>...</td>\n      <td>WT</td>\n      <td>8117.0</td>\n      <td>BOH</td>\n      <td>sagan</td>\n      <td>8.0</td>\n      <td>1.000546e+10</td>\n      <td>1978.00</td>\n      <td>44.0</td>\n      <td>sagan peter</td>\n      <td>445.00</td>\n    </tr>\n    <tr>\n      <th>...</th>\n      <td>...</td>\n      <td>...</td>\n      <td>...</td>\n      <td>...</td>\n      <td>...</td>\n      <td>...</td>\n      <td>...</td>\n      <td>...</td>\n      <td>...</td>\n      <td>...</td>\n      <td>...</td>\n      <td>...</td>\n      <td>...</td>\n      <td>...</td>\n      <td>...</td>\n      <td>...</td>\n      <td>...</td>\n      <td>...</td>\n      <td>...</td>\n      <td>...</td>\n      <td>...</td>\n    </tr>\n    <tr>\n      <th>171</th>\n      <td>sivakov pavel</td>\n      <td>23</td>\n      <td>INEOS Grenadiers</td>\n      <td>57.0</td>\n      <td>-19.0</td>\n      <td>431.0</td>\n      <td>45.0</td>\n      <td>5.0</td>\n      <td>225.0</td>\n      <td>940.0</td>\n      <td>...</td>\n      <td>WT</td>\n      <td>7757.0</td>\n      <td>INS</td>\n      <td>sivakov</td>\n      <td>67.0</td>\n      <td>1.001113e+10</td>\n      <td>725.00</td>\n      <td>40.0</td>\n      <td>sivakov pavel</td>\n      <td>475.00</td>\n    </tr>\n    <tr>\n      <th>172</th>\n      <td>cras steff</td>\n      <td>24</td>\n      <td>Lotto Soudal</td>\n      <td>502.0</td>\n      <td>97.0</td>\n      <td>58.0</td>\n      <td>225.0</td>\n      <td>169.0</td>\n      <td>24.0</td>\n      <td>940.0</td>\n      <td>...</td>\n      <td>WT</td>\n      <td>6013.0</td>\n      <td>LTS</td>\n      <td>cras</td>\n      <td>774.0</td>\n      <td>1.001009e+10</td>\n      <td>54.00</td>\n      <td>453.0</td>\n      <td>cras steff</td>\n      <td>41.00</td>\n    </tr>\n    <tr>\n      <th>173</th>\n      <td>ledanois kevin</td>\n      <td>27</td>\n      <td>Team Arkéa Samsic</td>\n      <td>420.0</td>\n      <td>148.0</td>\n      <td>75.0</td>\n      <td>724.0</td>\n      <td>0.0</td>\n      <td>0.0</td>\n      <td>343.0</td>\n      <td>...</td>\n      <td>PCT</td>\n      <td>2229.0</td>\n      <td>ARK</td>\n      <td>ledanois</td>\n      <td>420.0</td>\n      <td>1.000759e+10</td>\n      <td>118.00</td>\n      <td>328.0</td>\n      <td>ledanois kevin</td>\n      <td>63.00</td>\n    </tr>\n    <tr>\n      <th>174</th>\n      <td>valls rafael</td>\n      <td>33</td>\n      <td>Bahrain - McLaren</td>\n      <td>807.0</td>\n      <td>-143.0</td>\n      <td>24.0</td>\n      <td>354.0</td>\n      <td>151.0</td>\n      <td>12.0</td>\n      <td>940.0</td>\n      <td>...</td>\n      <td>WT</td>\n      <td>4948.0</td>\n      <td>TBM</td>\n      <td>valls</td>\n      <td>311.0</td>\n      <td>1.000463e+10</td>\n      <td>160.00</td>\n      <td>495.0</td>\n      <td>valls ferri rafael</td>\n      <td>35.00</td>\n    </tr>\n    <tr>\n      <th>175</th>\n      <td>degenkolb john</td>\n      <td>31</td>\n      <td>Lotto Soudal</td>\n      <td>147.0</td>\n      <td>-55.0</td>\n      <td>225.0</td>\n      <td>383.0</td>\n      <td>-200.0</td>\n      <td>10.0</td>\n      <td>54.0</td>\n      <td>...</td>\n      <td>WT</td>\n      <td>6013.0</td>\n      <td>LTS</td>\n      <td>degenkolb</td>\n      <td>78.0</td>\n      <td>1.000538e+10</td>\n      <td>615.00</td>\n      <td>465.0</td>\n      <td>degenkolb john</td>\n      <td>40.00</td>\n    </tr>\n  </tbody>\n</table>\n<p>176 rows × 30 columns</p>\n</div>"
     },
     "metadata": {},
     "execution_count": 417
    }
   ],
   "source": [
    "riders_profile.drop(columns=['Rider_uci_gc','Nationality','Team Code_uci_gc','Age_uci_gc'],inplace=True)\n",
    "riders_profile = riders_profile.rename(columns={'Rank':'Rnk_uci_gc','Points':'Pnts_uci_gc'})\n",
    "riders_profile"
   ]
  },
  {
   "cell_type": "code",
   "execution_count": 419,
   "metadata": {},
   "outputs": [
    {
     "output_type": "execute_result",
     "data": {
      "text/plain": "     Rank                           Name Team Code  \\\n0       1    DECEUNINCK  -  QUICK - STEP       DQT   \n1       2                ASTANA PRO TEAM       AST   \n2       3              UAE TEAM EMIRATES       UAD   \n3       4               BORA - HANSGROHE       BOH   \n4       5               TREK - SEGAFREDO       TFS   \n..    ...                            ...       ...   \n167   168    EQUIPO CONTINENTAL SAN LUIS       CSL   \n168   169  SANGEMINI TREVIGIANI MG.K VIS       SAT   \n169   170                 Team COLOQUICK       TCQ   \n170   171             MIRANDA - MORTÁGUA       MIR   \n171   172   TIANYOUDE HOTEL CYCLING TEAM       TYD   \n\n                    Nationality   Points  \n0                       BELGIUM  4333.83  \n1                    KAZAKHSTAN  4326.00  \n2          UNITED ARAB EMIRATES  4180.00  \n3                       GERMANY  3936.00  \n4      UNITED STATES OF AMERICA  3847.00  \n..                          ...      ...  \n167                   ARGENTINA     3.00  \n168                       ITALY     3.00  \n169                     DENMARK     1.00  \n170                    PORTUGAL     1.00  \n171  PEOPLE'S REPUBLIC OF CHINA     1.00  \n\n[172 rows x 5 columns]",
      "text/html": "<div>\n<style scoped>\n    .dataframe tbody tr th:only-of-type {\n        vertical-align: middle;\n    }\n\n    .dataframe tbody tr th {\n        vertical-align: top;\n    }\n\n    .dataframe thead th {\n        text-align: right;\n    }\n</style>\n<table border=\"1\" class=\"dataframe\">\n  <thead>\n    <tr style=\"text-align: right;\">\n      <th></th>\n      <th>Rank</th>\n      <th>Name</th>\n      <th>Team Code</th>\n      <th>Nationality</th>\n      <th>Points</th>\n    </tr>\n  </thead>\n  <tbody>\n    <tr>\n      <th>0</th>\n      <td>1</td>\n      <td>DECEUNINCK  -  QUICK - STEP</td>\n      <td>DQT</td>\n      <td>BELGIUM</td>\n      <td>4333.83</td>\n    </tr>\n    <tr>\n      <th>1</th>\n      <td>2</td>\n      <td>ASTANA PRO TEAM</td>\n      <td>AST</td>\n      <td>KAZAKHSTAN</td>\n      <td>4326.00</td>\n    </tr>\n    <tr>\n      <th>2</th>\n      <td>3</td>\n      <td>UAE TEAM EMIRATES</td>\n      <td>UAD</td>\n      <td>UNITED ARAB EMIRATES</td>\n      <td>4180.00</td>\n    </tr>\n    <tr>\n      <th>3</th>\n      <td>4</td>\n      <td>BORA - HANSGROHE</td>\n      <td>BOH</td>\n      <td>GERMANY</td>\n      <td>3936.00</td>\n    </tr>\n    <tr>\n      <th>4</th>\n      <td>5</td>\n      <td>TREK - SEGAFREDO</td>\n      <td>TFS</td>\n      <td>UNITED STATES OF AMERICA</td>\n      <td>3847.00</td>\n    </tr>\n    <tr>\n      <th>...</th>\n      <td>...</td>\n      <td>...</td>\n      <td>...</td>\n      <td>...</td>\n      <td>...</td>\n    </tr>\n    <tr>\n      <th>167</th>\n      <td>168</td>\n      <td>EQUIPO CONTINENTAL SAN LUIS</td>\n      <td>CSL</td>\n      <td>ARGENTINA</td>\n      <td>3.00</td>\n    </tr>\n    <tr>\n      <th>168</th>\n      <td>169</td>\n      <td>SANGEMINI TREVIGIANI MG.K VIS</td>\n      <td>SAT</td>\n      <td>ITALY</td>\n      <td>3.00</td>\n    </tr>\n    <tr>\n      <th>169</th>\n      <td>170</td>\n      <td>Team COLOQUICK</td>\n      <td>TCQ</td>\n      <td>DENMARK</td>\n      <td>1.00</td>\n    </tr>\n    <tr>\n      <th>170</th>\n      <td>171</td>\n      <td>MIRANDA - MORTÁGUA</td>\n      <td>MIR</td>\n      <td>PORTUGAL</td>\n      <td>1.00</td>\n    </tr>\n    <tr>\n      <th>171</th>\n      <td>172</td>\n      <td>TIANYOUDE HOTEL CYCLING TEAM</td>\n      <td>TYD</td>\n      <td>PEOPLE'S REPUBLIC OF CHINA</td>\n      <td>1.00</td>\n    </tr>\n  </tbody>\n</table>\n<p>172 rows × 5 columns</p>\n</div>"
     },
     "metadata": {},
     "execution_count": 419
    }
   ],
   "source": [
    "uci_team_data = pd.read_excel('UCITeamRanking.xlsx')\n",
    "uci_team_data"
   ]
  },
  {
   "cell_type": "code",
   "execution_count": 420,
   "metadata": {},
   "outputs": [
    {
     "output_type": "execute_result",
     "data": {
      "text/plain": "                  Rider  Age                     Team  Rnk_pcs_ind  \\\n0    kristoff alexander   33        UAE-Team Emirates         28.0   \n1         pedersen mads   24         Trek - Segafredo         26.0   \n2              bol cees   25              Team Sunweb        141.0   \n3           bennett sam   29  Deceuninck - Quick Step         12.0   \n4           sagan peter   30         BORA - hansgrohe         19.0   \n..                  ...  ...                      ...          ...   \n171       sivakov pavel   23         INEOS Grenadiers         57.0   \n172          cras steff   24             Lotto Soudal        502.0   \n173      ledanois kevin   27        Team Arkéa Samsic        420.0   \n174        valls rafael   33        Bahrain - McLaren        807.0   \n175      degenkolb john   31             Lotto Soudal        147.0   \n\n     Diff._pcs_ind  Pnts_pcs_ind  Rnk_pcs_climb  Diff._pcs_climb  \\\n0            -20.0         611.0          724.0              0.0   \n1             72.0         625.0          396.0            128.0   \n2            -39.0         237.0          687.0           -365.0   \n3              6.0         828.0          128.0            301.0   \n4             -6.0         684.0          116.0            -73.0   \n..             ...           ...            ...              ...   \n171          -19.0         431.0           45.0              5.0   \n172           97.0          58.0          225.0            169.0   \n173          148.0          75.0          724.0              0.0   \n174         -143.0          24.0          354.0            151.0   \n175          -55.0         225.0          383.0           -200.0   \n\n     Pnts_pcs_climb  Rnk_pcs_sprint  ...  last_name  Rnk_uci_ind  \\\n0               0.0            17.0  ...   kristoff         14.0   \n1              10.0            30.0  ...   pedersen         50.0   \n2               2.0            37.0  ...        bol        216.0   \n3              58.0             2.0  ...    bennett         51.0   \n4              68.0             8.0  ...      sagan          8.0   \n..              ...             ...  ...        ...          ...   \n171           225.0           940.0  ...    sivakov         67.0   \n172            24.0           940.0  ...       cras        774.0   \n173             0.0           343.0  ...   ledanois        420.0   \n174            12.0           940.0  ...      valls        311.0   \n175            10.0            54.0  ...  degenkolb         78.0   \n\n           UCI ID  Pnts_uci_ind  Rnk_uci_gc  Pnts_uci_gc  Rank  \\\n0    1.000327e+10       1766.00       181.0       128.00     3   \n1    1.000869e+10        958.00       280.0        76.00     5   \n2    1.000940e+10        222.88       448.0        41.88    11   \n3    1.000660e+10        947.50        25.0       709.50     1   \n4    1.000546e+10       1978.00        44.0       445.00     4   \n..            ...           ...         ...          ...   ...   \n171  1.001113e+10        725.00        40.0       475.00    10   \n172  1.001009e+10         54.00       453.0        41.00    19   \n173  1.000759e+10        118.00       328.0        63.00    12   \n174  1.000463e+10        160.00       495.0        35.00    16   \n175  1.000538e+10        615.00       465.0        40.00    19   \n\n                            Name               Nationality   Points  \n0              UAE TEAM EMIRATES      UNITED ARAB EMIRATES  4180.00  \n1               TREK - SEGAFREDO  UNITED STATES OF AMERICA  3847.00  \n2                    TEAM SUNWEB                   GERMANY  2409.42  \n3    DECEUNINCK  -  QUICK - STEP                   BELGIUM  4333.83  \n4               BORA - HANSGROHE                   GERMANY  3936.00  \n..                           ...                       ...      ...  \n171                   TEAM INEOS             GREAT BRITAIN  2591.00  \n172                 LOTTO SOUDAL                   BELGIUM  1359.00  \n173          TEAM ARKEA - SAMSIC                    FRANCE  2214.00  \n174            BAHRAIN - MCLAREN                   BAHRAIN  1799.00  \n175                 LOTTO SOUDAL                   BELGIUM  1359.00  \n\n[176 rows x 33 columns]",
      "text/html": "<div>\n<style scoped>\n    .dataframe tbody tr th:only-of-type {\n        vertical-align: middle;\n    }\n\n    .dataframe tbody tr th {\n        vertical-align: top;\n    }\n\n    .dataframe thead th {\n        text-align: right;\n    }\n</style>\n<table border=\"1\" class=\"dataframe\">\n  <thead>\n    <tr style=\"text-align: right;\">\n      <th></th>\n      <th>Rider</th>\n      <th>Age</th>\n      <th>Team</th>\n      <th>Rnk_pcs_ind</th>\n      <th>Diff._pcs_ind</th>\n      <th>Pnts_pcs_ind</th>\n      <th>Rnk_pcs_climb</th>\n      <th>Diff._pcs_climb</th>\n      <th>Pnts_pcs_climb</th>\n      <th>Rnk_pcs_sprint</th>\n      <th>...</th>\n      <th>last_name</th>\n      <th>Rnk_uci_ind</th>\n      <th>UCI ID</th>\n      <th>Pnts_uci_ind</th>\n      <th>Rnk_uci_gc</th>\n      <th>Pnts_uci_gc</th>\n      <th>Rank</th>\n      <th>Name</th>\n      <th>Nationality</th>\n      <th>Points</th>\n    </tr>\n  </thead>\n  <tbody>\n    <tr>\n      <th>0</th>\n      <td>kristoff alexander</td>\n      <td>33</td>\n      <td>UAE-Team Emirates</td>\n      <td>28.0</td>\n      <td>-20.0</td>\n      <td>611.0</td>\n      <td>724.0</td>\n      <td>0.0</td>\n      <td>0.0</td>\n      <td>17.0</td>\n      <td>...</td>\n      <td>kristoff</td>\n      <td>14.0</td>\n      <td>1.000327e+10</td>\n      <td>1766.00</td>\n      <td>181.0</td>\n      <td>128.00</td>\n      <td>3</td>\n      <td>UAE TEAM EMIRATES</td>\n      <td>UNITED ARAB EMIRATES</td>\n      <td>4180.00</td>\n    </tr>\n    <tr>\n      <th>1</th>\n      <td>pedersen mads</td>\n      <td>24</td>\n      <td>Trek - Segafredo</td>\n      <td>26.0</td>\n      <td>72.0</td>\n      <td>625.0</td>\n      <td>396.0</td>\n      <td>128.0</td>\n      <td>10.0</td>\n      <td>30.0</td>\n      <td>...</td>\n      <td>pedersen</td>\n      <td>50.0</td>\n      <td>1.000869e+10</td>\n      <td>958.00</td>\n      <td>280.0</td>\n      <td>76.00</td>\n      <td>5</td>\n      <td>TREK - SEGAFREDO</td>\n      <td>UNITED STATES OF AMERICA</td>\n      <td>3847.00</td>\n    </tr>\n    <tr>\n      <th>2</th>\n      <td>bol cees</td>\n      <td>25</td>\n      <td>Team Sunweb</td>\n      <td>141.0</td>\n      <td>-39.0</td>\n      <td>237.0</td>\n      <td>687.0</td>\n      <td>-365.0</td>\n      <td>2.0</td>\n      <td>37.0</td>\n      <td>...</td>\n      <td>bol</td>\n      <td>216.0</td>\n      <td>1.000940e+10</td>\n      <td>222.88</td>\n      <td>448.0</td>\n      <td>41.88</td>\n      <td>11</td>\n      <td>TEAM SUNWEB</td>\n      <td>GERMANY</td>\n      <td>2409.42</td>\n    </tr>\n    <tr>\n      <th>3</th>\n      <td>bennett sam</td>\n      <td>29</td>\n      <td>Deceuninck - Quick Step</td>\n      <td>12.0</td>\n      <td>6.0</td>\n      <td>828.0</td>\n      <td>128.0</td>\n      <td>301.0</td>\n      <td>58.0</td>\n      <td>2.0</td>\n      <td>...</td>\n      <td>bennett</td>\n      <td>51.0</td>\n      <td>1.000660e+10</td>\n      <td>947.50</td>\n      <td>25.0</td>\n      <td>709.50</td>\n      <td>1</td>\n      <td>DECEUNINCK  -  QUICK - STEP</td>\n      <td>BELGIUM</td>\n      <td>4333.83</td>\n    </tr>\n    <tr>\n      <th>4</th>\n      <td>sagan peter</td>\n      <td>30</td>\n      <td>BORA - hansgrohe</td>\n      <td>19.0</td>\n      <td>-6.0</td>\n      <td>684.0</td>\n      <td>116.0</td>\n      <td>-73.0</td>\n      <td>68.0</td>\n      <td>8.0</td>\n      <td>...</td>\n      <td>sagan</td>\n      <td>8.0</td>\n      <td>1.000546e+10</td>\n      <td>1978.00</td>\n      <td>44.0</td>\n      <td>445.00</td>\n      <td>4</td>\n      <td>BORA - HANSGROHE</td>\n      <td>GERMANY</td>\n      <td>3936.00</td>\n    </tr>\n    <tr>\n      <th>...</th>\n      <td>...</td>\n      <td>...</td>\n      <td>...</td>\n      <td>...</td>\n      <td>...</td>\n      <td>...</td>\n      <td>...</td>\n      <td>...</td>\n      <td>...</td>\n      <td>...</td>\n      <td>...</td>\n      <td>...</td>\n      <td>...</td>\n      <td>...</td>\n      <td>...</td>\n      <td>...</td>\n      <td>...</td>\n      <td>...</td>\n      <td>...</td>\n      <td>...</td>\n      <td>...</td>\n    </tr>\n    <tr>\n      <th>171</th>\n      <td>sivakov pavel</td>\n      <td>23</td>\n      <td>INEOS Grenadiers</td>\n      <td>57.0</td>\n      <td>-19.0</td>\n      <td>431.0</td>\n      <td>45.0</td>\n      <td>5.0</td>\n      <td>225.0</td>\n      <td>940.0</td>\n      <td>...</td>\n      <td>sivakov</td>\n      <td>67.0</td>\n      <td>1.001113e+10</td>\n      <td>725.00</td>\n      <td>40.0</td>\n      <td>475.00</td>\n      <td>10</td>\n      <td>TEAM INEOS</td>\n      <td>GREAT BRITAIN</td>\n      <td>2591.00</td>\n    </tr>\n    <tr>\n      <th>172</th>\n      <td>cras steff</td>\n      <td>24</td>\n      <td>Lotto Soudal</td>\n      <td>502.0</td>\n      <td>97.0</td>\n      <td>58.0</td>\n      <td>225.0</td>\n      <td>169.0</td>\n      <td>24.0</td>\n      <td>940.0</td>\n      <td>...</td>\n      <td>cras</td>\n      <td>774.0</td>\n      <td>1.001009e+10</td>\n      <td>54.00</td>\n      <td>453.0</td>\n      <td>41.00</td>\n      <td>19</td>\n      <td>LOTTO SOUDAL</td>\n      <td>BELGIUM</td>\n      <td>1359.00</td>\n    </tr>\n    <tr>\n      <th>173</th>\n      <td>ledanois kevin</td>\n      <td>27</td>\n      <td>Team Arkéa Samsic</td>\n      <td>420.0</td>\n      <td>148.0</td>\n      <td>75.0</td>\n      <td>724.0</td>\n      <td>0.0</td>\n      <td>0.0</td>\n      <td>343.0</td>\n      <td>...</td>\n      <td>ledanois</td>\n      <td>420.0</td>\n      <td>1.000759e+10</td>\n      <td>118.00</td>\n      <td>328.0</td>\n      <td>63.00</td>\n      <td>12</td>\n      <td>TEAM ARKEA - SAMSIC</td>\n      <td>FRANCE</td>\n      <td>2214.00</td>\n    </tr>\n    <tr>\n      <th>174</th>\n      <td>valls rafael</td>\n      <td>33</td>\n      <td>Bahrain - McLaren</td>\n      <td>807.0</td>\n      <td>-143.0</td>\n      <td>24.0</td>\n      <td>354.0</td>\n      <td>151.0</td>\n      <td>12.0</td>\n      <td>940.0</td>\n      <td>...</td>\n      <td>valls</td>\n      <td>311.0</td>\n      <td>1.000463e+10</td>\n      <td>160.00</td>\n      <td>495.0</td>\n      <td>35.00</td>\n      <td>16</td>\n      <td>BAHRAIN - MCLAREN</td>\n      <td>BAHRAIN</td>\n      <td>1799.00</td>\n    </tr>\n    <tr>\n      <th>175</th>\n      <td>degenkolb john</td>\n      <td>31</td>\n      <td>Lotto Soudal</td>\n      <td>147.0</td>\n      <td>-55.0</td>\n      <td>225.0</td>\n      <td>383.0</td>\n      <td>-200.0</td>\n      <td>10.0</td>\n      <td>54.0</td>\n      <td>...</td>\n      <td>degenkolb</td>\n      <td>78.0</td>\n      <td>1.000538e+10</td>\n      <td>615.00</td>\n      <td>465.0</td>\n      <td>40.00</td>\n      <td>19</td>\n      <td>LOTTO SOUDAL</td>\n      <td>BELGIUM</td>\n      <td>1359.00</td>\n    </tr>\n  </tbody>\n</table>\n<p>176 rows × 33 columns</p>\n</div>"
     },
     "metadata": {},
     "execution_count": 420
    }
   ],
   "source": [
    "riders_profile = riders_profile.merge(uci_team_data,how='left',on='Team Code',suffixes=('','_uci_team'))\n",
    "riders_profile"
   ]
  },
  {
   "cell_type": "code",
   "execution_count": 421,
   "metadata": {},
   "outputs": [],
   "source": [
    "riders_profile.drop(columns=['last_name','Name','Nationality'],inplace=True)\n",
    "riders_profile = riders_profile.rename(columns={'Rank':'Rnk_uci_team','Points':'Pnts_uci_team'})"
   ]
  },
  {
   "cell_type": "code",
   "execution_count": 422,
   "metadata": {},
   "outputs": [
    {
     "output_type": "execute_result",
     "data": {
      "text/plain": "                  Rider  Age                     Team  Rnk_pcs_ind  \\\n0    kristoff alexander   33        UAE-Team Emirates         28.0   \n1         pedersen mads   24         Trek - Segafredo         26.0   \n2              bol cees   25              Team Sunweb        141.0   \n3           bennett sam   29  Deceuninck - Quick Step         12.0   \n4           sagan peter   30         BORA - hansgrohe         19.0   \n..                  ...  ...                      ...          ...   \n171       sivakov pavel   23         INEOS Grenadiers         57.0   \n172          cras steff   24             Lotto Soudal        502.0   \n173      ledanois kevin   27        Team Arkéa Samsic        420.0   \n174        valls rafael   33        Bahrain - McLaren        807.0   \n175      degenkolb john   31             Lotto Soudal        147.0   \n\n     Diff._pcs_ind  Pnts_pcs_ind  Rnk_pcs_climb  Diff._pcs_climb  \\\n0            -20.0         611.0          724.0              0.0   \n1             72.0         625.0          396.0            128.0   \n2            -39.0         237.0          687.0           -365.0   \n3              6.0         828.0          128.0            301.0   \n4             -6.0         684.0          116.0            -73.0   \n..             ...           ...            ...              ...   \n171          -19.0         431.0           45.0              5.0   \n172           97.0          58.0          225.0            169.0   \n173          148.0          75.0          724.0              0.0   \n174         -143.0          24.0          354.0            151.0   \n175          -55.0         225.0          383.0           -200.0   \n\n     Pnts_pcs_climb  Rnk_pcs_sprint  ...  Pnts_pcs_team  Team Code  last_name  \\\n0               0.0            17.0  ...         6932.0        UAD   kristoff   \n1              10.0            30.0  ...         4949.0        TFS   pedersen   \n2               2.0            37.0  ...         4510.0        SUN        bol   \n3              58.0             2.0  ...         9229.0        DQT    bennett   \n4              68.0             8.0  ...         8117.0        BOH      sagan   \n..              ...             ...  ...            ...        ...        ...   \n171           225.0           940.0  ...         7757.0        INS    sivakov   \n172            24.0           940.0  ...         6013.0        LTS       cras   \n173             0.0           343.0  ...         2229.0        ARK   ledanois   \n174            12.0           940.0  ...         4948.0        TBM      valls   \n175            10.0            54.0  ...         6013.0        LTS  degenkolb   \n\n     Rnk_uci_ind        UCI ID  Pnts_uci_ind  Rnk_uci_gc  Pnts_uci_gc  \\\n0           14.0  1.000327e+10       1766.00       181.0       128.00   \n1           50.0  1.000869e+10        958.00       280.0        76.00   \n2          216.0  1.000940e+10        222.88       448.0        41.88   \n3           51.0  1.000660e+10        947.50        25.0       709.50   \n4            8.0  1.000546e+10       1978.00        44.0       445.00   \n..           ...           ...           ...         ...          ...   \n171         67.0  1.001113e+10        725.00        40.0       475.00   \n172        774.0  1.001009e+10         54.00       453.0        41.00   \n173        420.0  1.000759e+10        118.00       328.0        63.00   \n174        311.0  1.000463e+10        160.00       495.0        35.00   \n175         78.0  1.000538e+10        615.00       465.0        40.00   \n\n     Rnk_uci_team Pnts_uci_team  \n0               3       4180.00  \n1               5       3847.00  \n2              11       2409.42  \n3               1       4333.83  \n4               4       3936.00  \n..            ...           ...  \n171            10       2591.00  \n172            19       1359.00  \n173            12       2214.00  \n174            16       1799.00  \n175            19       1359.00  \n\n[176 rows x 31 columns]",
      "text/html": "<div>\n<style scoped>\n    .dataframe tbody tr th:only-of-type {\n        vertical-align: middle;\n    }\n\n    .dataframe tbody tr th {\n        vertical-align: top;\n    }\n\n    .dataframe thead th {\n        text-align: right;\n    }\n</style>\n<table border=\"1\" class=\"dataframe\">\n  <thead>\n    <tr style=\"text-align: right;\">\n      <th></th>\n      <th>Rider</th>\n      <th>Age</th>\n      <th>Team</th>\n      <th>Rnk_pcs_ind</th>\n      <th>Diff._pcs_ind</th>\n      <th>Pnts_pcs_ind</th>\n      <th>Rnk_pcs_climb</th>\n      <th>Diff._pcs_climb</th>\n      <th>Pnts_pcs_climb</th>\n      <th>Rnk_pcs_sprint</th>\n      <th>...</th>\n      <th>Pnts_pcs_team</th>\n      <th>Team Code</th>\n      <th>last_name</th>\n      <th>Rnk_uci_ind</th>\n      <th>UCI ID</th>\n      <th>Pnts_uci_ind</th>\n      <th>Rnk_uci_gc</th>\n      <th>Pnts_uci_gc</th>\n      <th>Rnk_uci_team</th>\n      <th>Pnts_uci_team</th>\n    </tr>\n  </thead>\n  <tbody>\n    <tr>\n      <th>0</th>\n      <td>kristoff alexander</td>\n      <td>33</td>\n      <td>UAE-Team Emirates</td>\n      <td>28.0</td>\n      <td>-20.0</td>\n      <td>611.0</td>\n      <td>724.0</td>\n      <td>0.0</td>\n      <td>0.0</td>\n      <td>17.0</td>\n      <td>...</td>\n      <td>6932.0</td>\n      <td>UAD</td>\n      <td>kristoff</td>\n      <td>14.0</td>\n      <td>1.000327e+10</td>\n      <td>1766.00</td>\n      <td>181.0</td>\n      <td>128.00</td>\n      <td>3</td>\n      <td>4180.00</td>\n    </tr>\n    <tr>\n      <th>1</th>\n      <td>pedersen mads</td>\n      <td>24</td>\n      <td>Trek - Segafredo</td>\n      <td>26.0</td>\n      <td>72.0</td>\n      <td>625.0</td>\n      <td>396.0</td>\n      <td>128.0</td>\n      <td>10.0</td>\n      <td>30.0</td>\n      <td>...</td>\n      <td>4949.0</td>\n      <td>TFS</td>\n      <td>pedersen</td>\n      <td>50.0</td>\n      <td>1.000869e+10</td>\n      <td>958.00</td>\n      <td>280.0</td>\n      <td>76.00</td>\n      <td>5</td>\n      <td>3847.00</td>\n    </tr>\n    <tr>\n      <th>2</th>\n      <td>bol cees</td>\n      <td>25</td>\n      <td>Team Sunweb</td>\n      <td>141.0</td>\n      <td>-39.0</td>\n      <td>237.0</td>\n      <td>687.0</td>\n      <td>-365.0</td>\n      <td>2.0</td>\n      <td>37.0</td>\n      <td>...</td>\n      <td>4510.0</td>\n      <td>SUN</td>\n      <td>bol</td>\n      <td>216.0</td>\n      <td>1.000940e+10</td>\n      <td>222.88</td>\n      <td>448.0</td>\n      <td>41.88</td>\n      <td>11</td>\n      <td>2409.42</td>\n    </tr>\n    <tr>\n      <th>3</th>\n      <td>bennett sam</td>\n      <td>29</td>\n      <td>Deceuninck - Quick Step</td>\n      <td>12.0</td>\n      <td>6.0</td>\n      <td>828.0</td>\n      <td>128.0</td>\n      <td>301.0</td>\n      <td>58.0</td>\n      <td>2.0</td>\n      <td>...</td>\n      <td>9229.0</td>\n      <td>DQT</td>\n      <td>bennett</td>\n      <td>51.0</td>\n      <td>1.000660e+10</td>\n      <td>947.50</td>\n      <td>25.0</td>\n      <td>709.50</td>\n      <td>1</td>\n      <td>4333.83</td>\n    </tr>\n    <tr>\n      <th>4</th>\n      <td>sagan peter</td>\n      <td>30</td>\n      <td>BORA - hansgrohe</td>\n      <td>19.0</td>\n      <td>-6.0</td>\n      <td>684.0</td>\n      <td>116.0</td>\n      <td>-73.0</td>\n      <td>68.0</td>\n      <td>8.0</td>\n      <td>...</td>\n      <td>8117.0</td>\n      <td>BOH</td>\n      <td>sagan</td>\n      <td>8.0</td>\n      <td>1.000546e+10</td>\n      <td>1978.00</td>\n      <td>44.0</td>\n      <td>445.00</td>\n      <td>4</td>\n      <td>3936.00</td>\n    </tr>\n    <tr>\n      <th>...</th>\n      <td>...</td>\n      <td>...</td>\n      <td>...</td>\n      <td>...</td>\n      <td>...</td>\n      <td>...</td>\n      <td>...</td>\n      <td>...</td>\n      <td>...</td>\n      <td>...</td>\n      <td>...</td>\n      <td>...</td>\n      <td>...</td>\n      <td>...</td>\n      <td>...</td>\n      <td>...</td>\n      <td>...</td>\n      <td>...</td>\n      <td>...</td>\n      <td>...</td>\n      <td>...</td>\n    </tr>\n    <tr>\n      <th>171</th>\n      <td>sivakov pavel</td>\n      <td>23</td>\n      <td>INEOS Grenadiers</td>\n      <td>57.0</td>\n      <td>-19.0</td>\n      <td>431.0</td>\n      <td>45.0</td>\n      <td>5.0</td>\n      <td>225.0</td>\n      <td>940.0</td>\n      <td>...</td>\n      <td>7757.0</td>\n      <td>INS</td>\n      <td>sivakov</td>\n      <td>67.0</td>\n      <td>1.001113e+10</td>\n      <td>725.00</td>\n      <td>40.0</td>\n      <td>475.00</td>\n      <td>10</td>\n      <td>2591.00</td>\n    </tr>\n    <tr>\n      <th>172</th>\n      <td>cras steff</td>\n      <td>24</td>\n      <td>Lotto Soudal</td>\n      <td>502.0</td>\n      <td>97.0</td>\n      <td>58.0</td>\n      <td>225.0</td>\n      <td>169.0</td>\n      <td>24.0</td>\n      <td>940.0</td>\n      <td>...</td>\n      <td>6013.0</td>\n      <td>LTS</td>\n      <td>cras</td>\n      <td>774.0</td>\n      <td>1.001009e+10</td>\n      <td>54.00</td>\n      <td>453.0</td>\n      <td>41.00</td>\n      <td>19</td>\n      <td>1359.00</td>\n    </tr>\n    <tr>\n      <th>173</th>\n      <td>ledanois kevin</td>\n      <td>27</td>\n      <td>Team Arkéa Samsic</td>\n      <td>420.0</td>\n      <td>148.0</td>\n      <td>75.0</td>\n      <td>724.0</td>\n      <td>0.0</td>\n      <td>0.0</td>\n      <td>343.0</td>\n      <td>...</td>\n      <td>2229.0</td>\n      <td>ARK</td>\n      <td>ledanois</td>\n      <td>420.0</td>\n      <td>1.000759e+10</td>\n      <td>118.00</td>\n      <td>328.0</td>\n      <td>63.00</td>\n      <td>12</td>\n      <td>2214.00</td>\n    </tr>\n    <tr>\n      <th>174</th>\n      <td>valls rafael</td>\n      <td>33</td>\n      <td>Bahrain - McLaren</td>\n      <td>807.0</td>\n      <td>-143.0</td>\n      <td>24.0</td>\n      <td>354.0</td>\n      <td>151.0</td>\n      <td>12.0</td>\n      <td>940.0</td>\n      <td>...</td>\n      <td>4948.0</td>\n      <td>TBM</td>\n      <td>valls</td>\n      <td>311.0</td>\n      <td>1.000463e+10</td>\n      <td>160.00</td>\n      <td>495.0</td>\n      <td>35.00</td>\n      <td>16</td>\n      <td>1799.00</td>\n    </tr>\n    <tr>\n      <th>175</th>\n      <td>degenkolb john</td>\n      <td>31</td>\n      <td>Lotto Soudal</td>\n      <td>147.0</td>\n      <td>-55.0</td>\n      <td>225.0</td>\n      <td>383.0</td>\n      <td>-200.0</td>\n      <td>10.0</td>\n      <td>54.0</td>\n      <td>...</td>\n      <td>6013.0</td>\n      <td>LTS</td>\n      <td>degenkolb</td>\n      <td>78.0</td>\n      <td>1.000538e+10</td>\n      <td>615.00</td>\n      <td>465.0</td>\n      <td>40.00</td>\n      <td>19</td>\n      <td>1359.00</td>\n    </tr>\n  </tbody>\n</table>\n<p>176 rows × 31 columns</p>\n</div>"
     },
     "metadata": {},
     "execution_count": 422
    }
   ],
   "source": [
    "riders_profile"
   ]
  },
  {
   "cell_type": "code",
   "execution_count": 425,
   "metadata": {},
   "outputs": [],
   "source": [
    "riders_profile.drop(columns=['Team Code'],inplace=True)"
   ]
  },
  {
   "cell_type": "code",
   "execution_count": 426,
   "metadata": {},
   "outputs": [],
   "source": [
    "riders_profile.to_csv('riders_profile.csv')"
   ]
  },
  {
   "cell_type": "code",
   "execution_count": null,
   "metadata": {},
   "outputs": [],
   "source": []
  }
 ]
}