{
 "metadata": {
  "language_info": {
   "codemirror_mode": {
    "name": "ipython",
    "version": 3
   },
   "file_extension": ".py",
   "mimetype": "text/x-python",
   "name": "python",
   "nbconvert_exporter": "python",
   "pygments_lexer": "ipython3",
   "version": "3.8.5-final"
  },
  "orig_nbformat": 2,
  "kernelspec": {
   "name": "python_defaultSpec_1600694803271",
   "display_name": "Python 3.8.5 64-bit ('boot_env': conda)"
  }
 },
 "nbformat": 4,
 "nbformat_minor": 2,
 "cells": [
  {
   "cell_type": "code",
   "execution_count": 1,
   "metadata": {},
   "outputs": [],
   "source": [
    "import pandas as pd\n",
    "import requests"
   ]
  },
  {
   "cell_type": "code",
   "execution_count": 20,
   "metadata": {
    "tags": []
   },
   "outputs": [
    {
     "output_type": "stream",
     "name": "stdout",
     "text": "1 <Response [200]>\n2 <Response [200]>\n3 <Response [200]>\n4 <Response [200]>\n5 <Response [200]>\n6 <Response [200]>\n7 <Response [200]>\n8 <Response [200]>\n9 <Response [200]>\n10 <Response [200]>\n11 <Response [200]>\n12 <Response [200]>\n13 <Response [200]>\n14 <Response [200]>\n15 <Response [200]>\n16 <Response [200]>\n17 <Response [200]>\n18 <Response [200]>\n19 <Response [200]>\n20 <Response [200]>\n21 <Response [200]>\n"
    }
   ],
   "source": [
    "for stage_n in range(1,22):\n",
    "    url = f'https://www.letour.fr/en/rankings/stage-{stage_n}'\n",
    "    stage_url = requests.get(url)\n",
    "    print(stage_n,stage_url)\n",
    "    body = stage_url.text\n",
    "    stage_data = pd.read_html(body)\n",
    "    pd.DataFrame(stage_data[0]).to_csv(f'stage{stage_n}.csv',index=False)\n",
    "    pd.DataFrame(stage_data[0]).head()"
   ]
  },
  {
   "cell_type": "code",
   "execution_count": 26,
   "metadata": {
    "tags": []
   },
   "outputs": [
    {
     "output_type": "stream",
     "name": "stdout",
     "text": "<Response [200]>\n"
    },
    {
     "output_type": "execute_result",
     "data": {
      "text/plain": "     0             1                 2                         3       4  \\\n19  17  September 16          Grenoble            Col de la Loze  168 km   \n20  18  September 17           Méribel       La-Roche-sur-Foron*  168 km   \n21  19  September 18   Bourg-en-Bresse               Champagnole  160 km   \n22  20  September 19             Lure*  Planche de Belles Filles   36 km   \n23  21  September 20  Mantes-la-Jolie*   Paris (Champs- Élysées)  122 km   \n\n             5  \n19    Mountain  \n20    Mountain  \n21        Flat  \n22  Time Trial  \n23        Flat  ",
      "text/html": "<div>\n<style scoped>\n    .dataframe tbody tr th:only-of-type {\n        vertical-align: middle;\n    }\n\n    .dataframe tbody tr th {\n        vertical-align: top;\n    }\n\n    .dataframe thead th {\n        text-align: right;\n    }\n</style>\n<table border=\"1\" class=\"dataframe\">\n  <thead>\n    <tr style=\"text-align: right;\">\n      <th></th>\n      <th>0</th>\n      <th>1</th>\n      <th>2</th>\n      <th>3</th>\n      <th>4</th>\n      <th>5</th>\n    </tr>\n  </thead>\n  <tbody>\n    <tr>\n      <th>19</th>\n      <td>17</td>\n      <td>September 16</td>\n      <td>Grenoble</td>\n      <td>Col de la Loze</td>\n      <td>168 km</td>\n      <td>Mountain</td>\n    </tr>\n    <tr>\n      <th>20</th>\n      <td>18</td>\n      <td>September 17</td>\n      <td>Méribel</td>\n      <td>La-Roche-sur-Foron*</td>\n      <td>168 km</td>\n      <td>Mountain</td>\n    </tr>\n    <tr>\n      <th>21</th>\n      <td>19</td>\n      <td>September 18</td>\n      <td>Bourg-en-Bresse</td>\n      <td>Champagnole</td>\n      <td>160 km</td>\n      <td>Flat</td>\n    </tr>\n    <tr>\n      <th>22</th>\n      <td>20</td>\n      <td>September 19</td>\n      <td>Lure*</td>\n      <td>Planche de Belles Filles</td>\n      <td>36 km</td>\n      <td>Time Trial</td>\n    </tr>\n    <tr>\n      <th>23</th>\n      <td>21</td>\n      <td>September 20</td>\n      <td>Mantes-la-Jolie*</td>\n      <td>Paris (Champs- Élysées)</td>\n      <td>122 km</td>\n      <td>Flat</td>\n    </tr>\n  </tbody>\n</table>\n</div>"
     },
     "metadata": {},
     "execution_count": 26
    }
   ],
   "source": [
    "stage_n = 1\n",
    "url = f'https://sports.nbcsports.com/2020/09/20/2020-tour-de-france-schedule-dates-route-and-more/'\n",
    "stage_url = requests.get(url)\n",
    "print(stage_url)\n",
    "body = stage_url.text\n",
    "stage_data = pd.read_html(body)\n",
    "pd.DataFrame(stage_data[0]).tail()"
   ]
  },
  {
   "cell_type": "code",
   "execution_count": 27,
   "metadata": {},
   "outputs": [],
   "source": [
    "pd.DataFrame(stage_data[0]).to_csv('stages.csv',index=False)"
   ]
  },
  {
   "cell_type": "code",
   "execution_count": null,
   "metadata": {},
   "outputs": [],
   "source": []
  }
 ]
}