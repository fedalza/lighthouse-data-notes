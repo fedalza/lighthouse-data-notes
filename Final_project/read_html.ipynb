{
 "metadata": {
  "language_info": {
   "codemirror_mode": {
    "name": "ipython",
    "version": 3
   },
   "file_extension": ".py",
   "mimetype": "text/x-python",
   "name": "python",
   "nbconvert_exporter": "python",
   "pygments_lexer": "ipython3",
   "version": "3.8.5-final"
  },
  "orig_nbformat": 2,
  "kernelspec": {
   "name": "python_defaultSpec_1600697687977",
   "display_name": "Python 3.8.5 64-bit ('boot_env': conda)"
  }
 },
 "nbformat": 4,
 "nbformat_minor": 2,
 "cells": [
  {
   "cell_type": "code",
   "execution_count": 2,
   "metadata": {},
   "outputs": [],
   "source": [
    "import pandas as pd\n",
    "import requests"
   ]
  },
  {
   "cell_type": "code",
   "execution_count": null,
   "metadata": {},
   "outputs": [],
   "source": [
    "stages = pd.read_csv('stages.csv')\n",
    "stages.head()"
   ]
  },
  {
   "cell_type": "code",
   "execution_count": 286,
   "metadata": {},
   "outputs": [],
   "source": [
    "profile_score = []\n",
    "for i in range(1,22):\n",
    "    url = f'https://www.procyclingstats.com/race/tour-de-france/2020/stage-{i}/today/profile-score'\n",
    "    stage_url = requests.get(url)\n",
    "    body = stage_url.text\n",
    "    stage_data = pd.read_html(body)\n",
    "    stage_data= pd.DataFrame(stage_data[0])\n",
    "    score = stage_data.loc[len(stage_data)-1,'Score']\n",
    "    profile_score.append([i,score])\n",
    "pd.DataFrame(profile_score,columns=['Stage no','profile score']).to_csv('profile_score.csv',index=False)"
   ]
  },
  {
   "cell_type": "code",
   "execution_count": 385,
   "metadata": {},
   "outputs": [
    {
     "output_type": "execute_result",
     "data": {
      "text/plain": "37.215"
     },
     "metadata": {},
     "execution_count": 385
    }
   ],
   "source": [
    "def climb_score(steep,distance,km0,kmfinish):\n",
    "    location = kmfinish-km0\n",
    "    if location<=10:\n",
    "        factor = 1.0\n",
    "    elif location <=25:\n",
    "        factor = 0.8\n",
    "    elif location <= 50:\n",
    "        factor = 0.6\n",
    "    elif location <= 75:\n",
    "        factor = 0.4\n",
    "    else:\n",
    "        factor = 0.2\n",
    "    return (steep/2)**2*distance * factor\n",
    "#score = 0\n",
    "score += climb_score(5,2.7,152.5,198)\n",
    "score"
   ]
  },
  {
   "cell_type": "code",
   "execution_count": null,
   "metadata": {},
   "outputs": [],
   "source": []
  },
  {
   "cell_type": "code",
   "execution_count": 272,
   "metadata": {
    "tags": []
   },
   "outputs": [
    {
     "output_type": "stream",
     "name": "stdout",
     "text": "1 <Response [200]>\n2 <Response [200]>\n3 <Response [200]>\n4 <Response [200]>\n5 <Response [200]>\n6 <Response [200]>\n7 <Response [200]>\n8 <Response [200]>\n9 <Response [200]>\n10 <Response [200]>\n11 <Response [200]>\n12 <Response [200]>\n13 <Response [200]>\n14 <Response [200]>\n15 <Response [200]>\n16 <Response [200]>\n17 <Response [200]>\n18 <Response [200]>\n19 <Response [200]>\n20 <Response [200]>\n21 <Response [200]>\n"
    },
    {
     "output_type": "execute_result",
     "data": {
      "text/plain": "   Rnk   GC   GC-Time  BIB               Rider  Age  \\\n0    1  138  +5:32:33   43         bennett sam   29   \n1    2  124  +5:11:03  105       pedersen mads   24   \n2    3   84  +4:04:15   21         sagan peter   30   \n3    4  132  +5:28:28  135  kristoff alexander   33   \n4    5  135  +5:30:01  128        viviani elia   31   \n\n                         Team    UCI    Pnt            Time  sprint_pts  \\\n0     Deceuninck - Quick Step  120.0  100.0  2:53:322:53:32          61   \n1            Trek - Segafredo   50.0   70.0          ,,0:00          30   \n2            BORA - hansgrohe   25.0   50.0          ,,0:00          20   \n3           UAE-Team Emirates   15.0   40.0          ,,0:00          18   \n4  Cofidis, Solutions Crédits    5.0   32.0          ,,0:00          16   \n\n   kom_pts  stage_no  \n0        0        21  \n1        0        21  \n2        0        21  \n3        0        21  \n4        0        21  ",
      "text/html": "<div>\n<style scoped>\n    .dataframe tbody tr th:only-of-type {\n        vertical-align: middle;\n    }\n\n    .dataframe tbody tr th {\n        vertical-align: top;\n    }\n\n    .dataframe thead th {\n        text-align: right;\n    }\n</style>\n<table border=\"1\" class=\"dataframe\">\n  <thead>\n    <tr style=\"text-align: right;\">\n      <th></th>\n      <th>Rnk</th>\n      <th>GC</th>\n      <th>GC-Time</th>\n      <th>BIB</th>\n      <th>Rider</th>\n      <th>Age</th>\n      <th>Team</th>\n      <th>UCI</th>\n      <th>Pnt</th>\n      <th>Time</th>\n      <th>sprint_pts</th>\n      <th>kom_pts</th>\n      <th>stage_no</th>\n    </tr>\n  </thead>\n  <tbody>\n    <tr>\n      <th>0</th>\n      <td>1</td>\n      <td>138</td>\n      <td>+5:32:33</td>\n      <td>43</td>\n      <td>bennett sam</td>\n      <td>29</td>\n      <td>Deceuninck - Quick Step</td>\n      <td>120.0</td>\n      <td>100.0</td>\n      <td>2:53:322:53:32</td>\n      <td>61</td>\n      <td>0</td>\n      <td>21</td>\n    </tr>\n    <tr>\n      <th>1</th>\n      <td>2</td>\n      <td>124</td>\n      <td>+5:11:03</td>\n      <td>105</td>\n      <td>pedersen mads</td>\n      <td>24</td>\n      <td>Trek - Segafredo</td>\n      <td>50.0</td>\n      <td>70.0</td>\n      <td>,,0:00</td>\n      <td>30</td>\n      <td>0</td>\n      <td>21</td>\n    </tr>\n    <tr>\n      <th>2</th>\n      <td>3</td>\n      <td>84</td>\n      <td>+4:04:15</td>\n      <td>21</td>\n      <td>sagan peter</td>\n      <td>30</td>\n      <td>BORA - hansgrohe</td>\n      <td>25.0</td>\n      <td>50.0</td>\n      <td>,,0:00</td>\n      <td>20</td>\n      <td>0</td>\n      <td>21</td>\n    </tr>\n    <tr>\n      <th>3</th>\n      <td>4</td>\n      <td>132</td>\n      <td>+5:28:28</td>\n      <td>135</td>\n      <td>kristoff alexander</td>\n      <td>33</td>\n      <td>UAE-Team Emirates</td>\n      <td>15.0</td>\n      <td>40.0</td>\n      <td>,,0:00</td>\n      <td>18</td>\n      <td>0</td>\n      <td>21</td>\n    </tr>\n    <tr>\n      <th>4</th>\n      <td>5</td>\n      <td>135</td>\n      <td>+5:30:01</td>\n      <td>128</td>\n      <td>viviani elia</td>\n      <td>31</td>\n      <td>Cofidis, Solutions Crédits</td>\n      <td>5.0</td>\n      <td>32.0</td>\n      <td>,,0:00</td>\n      <td>16</td>\n      <td>0</td>\n      <td>21</td>\n    </tr>\n  </tbody>\n</table>\n</div>"
     },
     "metadata": {},
     "execution_count": 272
    }
   ],
   "source": [
    "import re\n",
    "import unidecode\n",
    "\n",
    "wr_riders = []\n",
    "\n",
    "for i in WR.Rider:\n",
    "    #s = re.sub(\"@[A-Za-z0-9_]+ \",\"\", i)\n",
    "    s = unidecode.unidecode(i)\n",
    "    wr_riders.append(s.lower())\n",
    "\n",
    "for stage_n in range(1,22):\n",
    "    #url = f'https://www.letour.fr/en/rankings/stage-{stage_n}'\n",
    "    url = f'https://www.procyclingstats.com/race/tour-de-france/2020/stage-{stage_n}'\n",
    "    stage_url = requests.get(url)\n",
    "    print(stage_n,stage_url)\n",
    "    body = stage_url.text\n",
    "    stage_data = pd.read_html(body)\n",
    "    stage_data = pd.DataFrame(stage_data[0])\n",
    "    url = f'https://www.procyclingstats.com/race/tour-de-france/2020/stage-{stage_n}/today/complementary-results'\n",
    "    stage_url = requests.get(url)\n",
    "    body = stage_url.text\n",
    "    stage_points = pd.read_html(body)\n",
    "    stage_data.Rider = stage_data.Rider.str.lower().apply(lambda x: unidecode.unidecode(x))\n",
    "    stage_data.Rider = remove_team_name(stage_data)\n",
    "    stage_data['sprint_pts'] = 0\n",
    "    stage_data['kom_pts'] = 0\n",
    "    stage_data['stage_no'] = stage_n\n",
    "    if stage_n == 1:\n",
    "        data_full = pd.DataFrame(columns=stage_data.columns)\n",
    "    for i in stage_points:\n",
    "        table = pd.DataFrame(i)\n",
    "        try:\n",
    "            if len(i)==15:\n",
    "                # Sprint\n",
    "                for j in range(16):\n",
    "                    rider = table.loc[j,'Rider']\n",
    "                    #rider = straight_names([rider.lower()])\n",
    "                    rider = unidecode.unidecode(rider.lower())\n",
    "                    pts = table.loc[j,'Points']\n",
    "                    try:\n",
    "                        rider_idx = stage_data[stage_data.Rider==rider].index[0]\n",
    "                        stage_data.loc[rider_idx,'sprint_pts'] += pts\n",
    "                    except:\n",
    "                        print(rider)\n",
    "            else :\n",
    "                # KOM\n",
    "                for j in range(len(table)):\n",
    "                    rider = table.loc[j,'Rider']\n",
    "                    #rider = straight_names([rider.lower()])\n",
    "                    rider = unidecode.unidecode(rider.lower())\n",
    "                    pts = table.loc[j,'Points']\n",
    "                    try:\n",
    "                        rider_idx = stage_data[stage_data.Rider==rider].index[0]\n",
    "                        stage_data.loc[rider_idx,'kom_pts'] += pts\n",
    "                    except:\n",
    "                        print(rider)\n",
    "        except:\n",
    "            pass\n",
    "    data_full.append(stage_data,ignore_index=True)\n",
    "    data_full = pd.concat([data_full,stage_data],axis=0,ignore_index=True)\n",
    "    stage_data.to_csv(f'stage{stage_n}.csv',index=False)\n",
    "\n",
    "data_full.to_csv('data_full.csv',index=False)\n",
    "stage_data.head()"
   ]
  },
  {
   "cell_type": "code",
   "execution_count": 279,
   "metadata": {},
   "outputs": [
    {
     "output_type": "execute_result",
     "data": {
      "text/plain": "stage_no\n17    231\n18    153\n15    139\n8     139\n13     93\n2      73\n9      69\n16     57\n4      41\n6      37\n12     31\n20     31\n14     17\n3      10\n7       7\n1       6\n5       2\n21      1\n19      1\n11      1\n10      0\nName: kom_pts, dtype: int64"
     },
     "metadata": {},
     "execution_count": 279
    }
   ],
   "source": [
    "data_full.groupby('stage_no')['kom_pts'].sum().sort_values(ascending=False)"
   ]
  },
  {
   "cell_type": "code",
   "execution_count": 255,
   "metadata": {
    "tags": []
   },
   "outputs": [],
   "source": [
    "def remove_team_name(row):\n",
    "    riders = []\n",
    "    for i in range(len(row)):\n",
    "        rider = row.loc[i,'Rider']\n",
    "        team = unidecode.unidecode(row.loc[i,'Team'].lower())\n",
    "        riders.append(rider.split(team)[0])\n",
    "    return riders"
   ]
  },
  {
   "cell_type": "code",
   "execution_count": 264,
   "metadata": {
    "tags": []
   },
   "outputs": [
    {
     "output_type": "stream",
     "name": "stdout",
     "text": "Rnk  Prev. Diff.             Rider                        Team  Pnts  \\\n0    1    5.0    ▲4     Pogačar Tadej           UAE-Team Emirates   956   \n1    2    1.0    ▼1     Roglič Primož            Team Jumbo-Visma   819   \n2    3   12.0    ▲9        Yates Adam            Mitchelton-Scott   560   \n3    4   56.0   ▲52      Porte Richie            Trek - Segafredo   535   \n4    5   31.0   ▲26  Martin Guillaume  Cofidis, Solutions Crédits   516   \n\n                            Unnamed: 6  \n0  Point breakdownStandings per season  \n1  Point breakdownStandings per season  \n2  Point breakdownStandings per season  \n3  Point breakdownStandings per season  \n4  Point breakdownStandings per season  \n   Rnk  Prev. Diff.               Rider                     Team  Pnts  \\\n0    1    4.0    ▲3       Ganna Filippo         INEOS Grenadiers   430   \n1    2    6.0    ▲4        Dennis Rohan         INEOS Grenadiers   385   \n2    3    7.0    ▲4     Evenepoel Remco  Deceuninck - Quick Step   340   \n3    4    2.0    ▼2  Campenaerts Victor          NTT Pro Cycling   281   \n4    5    3.0    ▼2         Küng Stefan           Groupama - FDJ   256   \n\n                            Unnamed: 6  \n0  Point breakdownStandings per season  \n1  Point breakdownStandings per season  \n2  Point breakdownStandings per season  \n3  Point breakdownStandings per season  \n4  Point breakdownStandings per season  \n   Rnk  Prev. Diff.             Rider                     Team   Pnts  \\\n0    1    3.0    ▲2  Ackermann Pascal         BORA - hansgrohe  967.0   \n1    2    4.0    ▲2       Bennett Sam  Deceuninck - Quick Step  736.5   \n2    3   14.0   ▲11  Gaviria Fernando        UAE-Team Emirates  633.5   \n3    4   18.0   ▲14     Démare Arnaud           Groupama - FDJ  604.5   \n4    5   23.0   ▲18   Nizzolo Giacomo          NTT Pro Cycling  543.5   \n\n                            Unnamed: 6  \n0  Point breakdownStandings per season  \n1  Point breakdownStandings per season  \n2  Point breakdownStandings per season  \n3  Point breakdownStandings per season  \n4  Point breakdownStandings per season  \n"
    }
   ],
   "source": [
    "climb = pd.read_csv('WR-climb2020.csv')\n",
    "print(climb.head())\n",
    "TT = pd.read_csv('WR-TT2020.csv')\n",
    "print(TT.head())\n",
    "sprint = pd.read_csv('WR-sprint2020.csv')\n",
    "print(sprint.head())"
   ]
  },
  {
   "cell_type": "code",
   "execution_count": 174,
   "metadata": {},
   "outputs": [
    {
     "output_type": "execute_result",
     "data": {
      "text/plain": "     Rank               Rider  Rank.1  Rider No.                       Team  \\\n0       1  alexander kristoff       1        135          UAE TEAM EMIRATES   \n1       2       mads pedersen       2        105           TREK - SEGAFREDO   \n2       3            cees bol       3        203                TEAM SUNWEB   \n3       4         sam bennett       4         43  DECEUNINCK - QUICK - STEP   \n4       5         peter sagan       5         21           BORA - HANSGROHE   \n..    ...                 ...     ...        ...                        ...   \n170   171        nikias arndt     171        202                TEAM SUNWEB   \n171   172       pavel sivakov     172          7           INEOS GRENADIERS   \n172   173          steff cras     173        152               LOTTO SOUDAL   \n173   174      kevin ledanois     174         84        TEAM ARKEA - SAMSIC   \n174   175  rafael valls ferri     175         68          BAHRAIN - MCLAREN   \n\n            Times             Gap         B  P  sprint_pts  kom_pts  \n0    03h 46' 23''               -  B : 10''  -           0        0  \n1    03h 46' 23''               -   B : 6''  -           0        0  \n2    03h 46' 23''               -   B : 4''  -           0        0  \n3    03h 46' 23''               -         -  -           0        0  \n4    03h 46' 23''               -         -  -           0        0  \n..            ...             ...       ... ..         ...      ...  \n170  03h 57' 27''  + 00h 11' 04''         -  -           0        0  \n171  03h 59' 27''  + 00h 13' 04''         -  -           0        0  \n172  03h 59' 27''  + 00h 13' 04''         -  -           0        0  \n173  03h 59' 27''  + 00h 13' 04''         -  -           0        0  \n174  03h 46' 23''               -         -  -           0        0  \n\n[175 rows x 11 columns]",
      "text/html": "<div>\n<style scoped>\n    .dataframe tbody tr th:only-of-type {\n        vertical-align: middle;\n    }\n\n    .dataframe tbody tr th {\n        vertical-align: top;\n    }\n\n    .dataframe thead th {\n        text-align: right;\n    }\n</style>\n<table border=\"1\" class=\"dataframe\">\n  <thead>\n    <tr style=\"text-align: right;\">\n      <th></th>\n      <th>Rank</th>\n      <th>Rider</th>\n      <th>Rank.1</th>\n      <th>Rider No.</th>\n      <th>Team</th>\n      <th>Times</th>\n      <th>Gap</th>\n      <th>B</th>\n      <th>P</th>\n      <th>sprint_pts</th>\n      <th>kom_pts</th>\n    </tr>\n  </thead>\n  <tbody>\n    <tr>\n      <th>0</th>\n      <td>1</td>\n      <td>alexander kristoff</td>\n      <td>1</td>\n      <td>135</td>\n      <td>UAE TEAM EMIRATES</td>\n      <td>03h 46' 23''</td>\n      <td>-</td>\n      <td>B : 10''</td>\n      <td>-</td>\n      <td>0</td>\n      <td>0</td>\n    </tr>\n    <tr>\n      <th>1</th>\n      <td>2</td>\n      <td>mads pedersen</td>\n      <td>2</td>\n      <td>105</td>\n      <td>TREK - SEGAFREDO</td>\n      <td>03h 46' 23''</td>\n      <td>-</td>\n      <td>B : 6''</td>\n      <td>-</td>\n      <td>0</td>\n      <td>0</td>\n    </tr>\n    <tr>\n      <th>2</th>\n      <td>3</td>\n      <td>cees bol</td>\n      <td>3</td>\n      <td>203</td>\n      <td>TEAM SUNWEB</td>\n      <td>03h 46' 23''</td>\n      <td>-</td>\n      <td>B : 4''</td>\n      <td>-</td>\n      <td>0</td>\n      <td>0</td>\n    </tr>\n    <tr>\n      <th>3</th>\n      <td>4</td>\n      <td>sam bennett</td>\n      <td>4</td>\n      <td>43</td>\n      <td>DECEUNINCK - QUICK - STEP</td>\n      <td>03h 46' 23''</td>\n      <td>-</td>\n      <td>-</td>\n      <td>-</td>\n      <td>0</td>\n      <td>0</td>\n    </tr>\n    <tr>\n      <th>4</th>\n      <td>5</td>\n      <td>peter sagan</td>\n      <td>5</td>\n      <td>21</td>\n      <td>BORA - HANSGROHE</td>\n      <td>03h 46' 23''</td>\n      <td>-</td>\n      <td>-</td>\n      <td>-</td>\n      <td>0</td>\n      <td>0</td>\n    </tr>\n    <tr>\n      <th>...</th>\n      <td>...</td>\n      <td>...</td>\n      <td>...</td>\n      <td>...</td>\n      <td>...</td>\n      <td>...</td>\n      <td>...</td>\n      <td>...</td>\n      <td>...</td>\n      <td>...</td>\n      <td>...</td>\n    </tr>\n    <tr>\n      <th>170</th>\n      <td>171</td>\n      <td>nikias arndt</td>\n      <td>171</td>\n      <td>202</td>\n      <td>TEAM SUNWEB</td>\n      <td>03h 57' 27''</td>\n      <td>+ 00h 11' 04''</td>\n      <td>-</td>\n      <td>-</td>\n      <td>0</td>\n      <td>0</td>\n    </tr>\n    <tr>\n      <th>171</th>\n      <td>172</td>\n      <td>pavel sivakov</td>\n      <td>172</td>\n      <td>7</td>\n      <td>INEOS GRENADIERS</td>\n      <td>03h 59' 27''</td>\n      <td>+ 00h 13' 04''</td>\n      <td>-</td>\n      <td>-</td>\n      <td>0</td>\n      <td>0</td>\n    </tr>\n    <tr>\n      <th>172</th>\n      <td>173</td>\n      <td>steff cras</td>\n      <td>173</td>\n      <td>152</td>\n      <td>LOTTO SOUDAL</td>\n      <td>03h 59' 27''</td>\n      <td>+ 00h 13' 04''</td>\n      <td>-</td>\n      <td>-</td>\n      <td>0</td>\n      <td>0</td>\n    </tr>\n    <tr>\n      <th>173</th>\n      <td>174</td>\n      <td>kevin ledanois</td>\n      <td>174</td>\n      <td>84</td>\n      <td>TEAM ARKEA - SAMSIC</td>\n      <td>03h 59' 27''</td>\n      <td>+ 00h 13' 04''</td>\n      <td>-</td>\n      <td>-</td>\n      <td>0</td>\n      <td>0</td>\n    </tr>\n    <tr>\n      <th>174</th>\n      <td>175</td>\n      <td>rafael valls ferri</td>\n      <td>175</td>\n      <td>68</td>\n      <td>BAHRAIN - MCLAREN</td>\n      <td>03h 46' 23''</td>\n      <td>-</td>\n      <td>-</td>\n      <td>-</td>\n      <td>0</td>\n      <td>0</td>\n    </tr>\n  </tbody>\n</table>\n<p>175 rows × 11 columns</p>\n</div>"
     },
     "metadata": {},
     "execution_count": 174
    }
   ],
   "source": [
    "stage_data"
   ]
  },
  {
   "cell_type": "code",
   "execution_count": 107,
   "metadata": {
    "tags": []
   },
   "outputs": [
    {
     "output_type": "stream",
     "name": "stdout",
     "text": "1 <Response [200]>\n"
    },
    {
     "output_type": "execute_result",
     "data": {
      "text/plain": "   Rank               Rider                     Team  Points\n0     1  Kristoff Alexander        UAE-Team Emirates      50\n1     2       Pedersen Mads         Trek - Segafredo      30\n2     3            Bol Cees              Team Sunweb      20\n3     4         Bennett Sam  Deceuninck - Quick Step      18\n4     5         Sagan Peter         BORA - hansgrohe      16",
      "text/html": "<div>\n<style scoped>\n    .dataframe tbody tr th:only-of-type {\n        vertical-align: middle;\n    }\n\n    .dataframe tbody tr th {\n        vertical-align: top;\n    }\n\n    .dataframe thead th {\n        text-align: right;\n    }\n</style>\n<table border=\"1\" class=\"dataframe\">\n  <thead>\n    <tr style=\"text-align: right;\">\n      <th></th>\n      <th>Rank</th>\n      <th>Rider</th>\n      <th>Team</th>\n      <th>Points</th>\n    </tr>\n  </thead>\n  <tbody>\n    <tr>\n      <th>0</th>\n      <td>1</td>\n      <td>Kristoff Alexander</td>\n      <td>UAE-Team Emirates</td>\n      <td>50</td>\n    </tr>\n    <tr>\n      <th>1</th>\n      <td>2</td>\n      <td>Pedersen Mads</td>\n      <td>Trek - Segafredo</td>\n      <td>30</td>\n    </tr>\n    <tr>\n      <th>2</th>\n      <td>3</td>\n      <td>Bol Cees</td>\n      <td>Team Sunweb</td>\n      <td>20</td>\n    </tr>\n    <tr>\n      <th>3</th>\n      <td>4</td>\n      <td>Bennett Sam</td>\n      <td>Deceuninck - Quick Step</td>\n      <td>18</td>\n    </tr>\n    <tr>\n      <th>4</th>\n      <td>5</td>\n      <td>Sagan Peter</td>\n      <td>BORA - hansgrohe</td>\n      <td>16</td>\n    </tr>\n  </tbody>\n</table>\n</div>"
     },
     "metadata": {},
     "execution_count": 107
    }
   ],
   "source": [
    "url = f'https://www.procyclingstats.com/race/tour-de-france/2020/stage-{stage_n}/today/complementary-results'\n",
    "stage_url = requests.get(url)\n",
    "print(stage_n,stage_url)\n",
    "body = stage_url.text\n",
    "stage_data = pd.read_html(body)\n",
    "pd.DataFrame(stage_data[3]).head()"
   ]
  },
  {
   "cell_type": "code",
   "execution_count": 101,
   "metadata": {},
   "outputs": [
    {
     "output_type": "execute_result",
     "data": {
      "text/plain": "[     Rank               Rider  Rank.1  Rider No.                       Team  \\\n 0       1  ALEXANDER KRISTOFF       1        135          UAE TEAM EMIRATES   \n 1       2       MADS PEDERSEN       2        105           TREK - SEGAFREDO   \n 2       3            CEES BOL       3        203                TEAM SUNWEB   \n 3       4         SAM BENNETT       4         43  DECEUNINCK - QUICK - STEP   \n 4       5         PETER SAGAN       5         21           BORA - HANSGROHE   \n ..    ...                 ...     ...        ...                        ...   \n 170   171        NIKIAS ARNDT     171        202                TEAM SUNWEB   \n 171   172       PAVEL SIVAKOV     172          7           INEOS GRENADIERS   \n 172   173          STEFF CRAS     173        152               LOTTO SOUDAL   \n 173   174      KÉVIN LEDANOIS     174         84        TEAM ARKEA - SAMSIC   \n 174   175  RAFAEL VALLS FERRI     175         68          BAHRAIN - MCLAREN   \n \n             Times             Gap         B  P  \n 0    03h 46' 23''               -  B : 10''  -  \n 1    03h 46' 23''               -   B : 6''  -  \n 2    03h 46' 23''               -   B : 4''  -  \n 3    03h 46' 23''               -         -  -  \n 4    03h 46' 23''               -         -  -  \n ..            ...             ...       ... ..  \n 170  03h 57' 27''  + 00h 11' 04''         -  -  \n 171  03h 59' 27''  + 00h 13' 04''         -  -  \n 172  03h 59' 27''  + 00h 13' 04''         -  -  \n 173  03h 59' 27''  + 00h 13' 04''         -  -  \n 174  03h 46' 23''               -         -  -  \n \n [175 rows x 9 columns]]"
     },
     "metadata": {},
     "execution_count": 101
    }
   ],
   "source": [
    "stage_data"
   ]
  },
  {
   "cell_type": "code",
   "execution_count": 8,
   "metadata": {
    "tags": []
   },
   "outputs": [
    {
     "output_type": "stream",
     "name": "stdout",
     "text": "<Response [200]>\n"
    },
    {
     "output_type": "execute_result",
     "data": {
      "text/plain": "     Rnk   GC   GC-Time  BIB                                      Rider  Age  \\\n28    29    1     +0:00    2                      Bernal EganTeam INEOS   22   \n29    30    2     +1:11    1                   Thomas GeraintTeam INEOS   33   \n35    36    3     +1:31   81          Kruijswijk StevenTeam Jumbo-Visma   32   \n46    47    4     +1:56   12           Buchmann EmanuelBORA - hansgrohe   26   \n66    67    5     +4:05   21  Alaphilippe JulianDeceuninck - Quick Step   27   \n..   ...  ...       ...  ...                                        ...  ...   \n118  119  151  +4:14:39  183           Dowsett AlexTeam Katusha Alpecin   30   \n32    33  152  +4:19:33   26      Mørkøv MichaelDeceuninck - Quick Step   34   \n15    16  153  +4:29:07  182       Debusschere JensTeam Katusha Alpecin   29   \n145  146  154  +4:31:43  196   Offredo YoannWanty - Gobert Cycling Team   32   \n34    35  155  +4:34:23   95      Langeveld SebastianEF Education First   34   \n\n                            Team  UCI  Pnt      Time  \n28                    Team INEOS  NaN  NaN    ,,0:00  \n29                    Team INEOS  NaN  NaN    ,,0:00  \n35              Team Jumbo-Visma  NaN  NaN    ,,0:00  \n46              BORA - hansgrohe  NaN  NaN    ,,0:00  \n66       Deceuninck - Quick Step  NaN  NaN    ,,0:20  \n..                           ...  ...  ...       ...  \n118         Team Katusha Alpecin  NaN  NaN    ,,0:51  \n32       Deceuninck - Quick Step  NaN  NaN    ,,0:00  \n15          Team Katusha Alpecin  NaN  NaN    ,,0:00  \n145  Wanty - Gobert Cycling Team  NaN  NaN  1:531:53  \n34            EF Education First  NaN  NaN    ,,0:00  \n\n[155 rows x 10 columns]",
      "text/html": "<div>\n<style scoped>\n    .dataframe tbody tr th:only-of-type {\n        vertical-align: middle;\n    }\n\n    .dataframe tbody tr th {\n        vertical-align: top;\n    }\n\n    .dataframe thead th {\n        text-align: right;\n    }\n</style>\n<table border=\"1\" class=\"dataframe\">\n  <thead>\n    <tr style=\"text-align: right;\">\n      <th></th>\n      <th>Rnk</th>\n      <th>GC</th>\n      <th>GC-Time</th>\n      <th>BIB</th>\n      <th>Rider</th>\n      <th>Age</th>\n      <th>Team</th>\n      <th>UCI</th>\n      <th>Pnt</th>\n      <th>Time</th>\n    </tr>\n  </thead>\n  <tbody>\n    <tr>\n      <th>28</th>\n      <td>29</td>\n      <td>1</td>\n      <td>+0:00</td>\n      <td>2</td>\n      <td>Bernal EganTeam INEOS</td>\n      <td>22</td>\n      <td>Team INEOS</td>\n      <td>NaN</td>\n      <td>NaN</td>\n      <td>,,0:00</td>\n    </tr>\n    <tr>\n      <th>29</th>\n      <td>30</td>\n      <td>2</td>\n      <td>+1:11</td>\n      <td>1</td>\n      <td>Thomas GeraintTeam INEOS</td>\n      <td>33</td>\n      <td>Team INEOS</td>\n      <td>NaN</td>\n      <td>NaN</td>\n      <td>,,0:00</td>\n    </tr>\n    <tr>\n      <th>35</th>\n      <td>36</td>\n      <td>3</td>\n      <td>+1:31</td>\n      <td>81</td>\n      <td>Kruijswijk StevenTeam Jumbo-Visma</td>\n      <td>32</td>\n      <td>Team Jumbo-Visma</td>\n      <td>NaN</td>\n      <td>NaN</td>\n      <td>,,0:00</td>\n    </tr>\n    <tr>\n      <th>46</th>\n      <td>47</td>\n      <td>4</td>\n      <td>+1:56</td>\n      <td>12</td>\n      <td>Buchmann EmanuelBORA - hansgrohe</td>\n      <td>26</td>\n      <td>BORA - hansgrohe</td>\n      <td>NaN</td>\n      <td>NaN</td>\n      <td>,,0:00</td>\n    </tr>\n    <tr>\n      <th>66</th>\n      <td>67</td>\n      <td>5</td>\n      <td>+4:05</td>\n      <td>21</td>\n      <td>Alaphilippe JulianDeceuninck - Quick Step</td>\n      <td>27</td>\n      <td>Deceuninck - Quick Step</td>\n      <td>NaN</td>\n      <td>NaN</td>\n      <td>,,0:20</td>\n    </tr>\n    <tr>\n      <th>...</th>\n      <td>...</td>\n      <td>...</td>\n      <td>...</td>\n      <td>...</td>\n      <td>...</td>\n      <td>...</td>\n      <td>...</td>\n      <td>...</td>\n      <td>...</td>\n      <td>...</td>\n    </tr>\n    <tr>\n      <th>118</th>\n      <td>119</td>\n      <td>151</td>\n      <td>+4:14:39</td>\n      <td>183</td>\n      <td>Dowsett AlexTeam Katusha Alpecin</td>\n      <td>30</td>\n      <td>Team Katusha Alpecin</td>\n      <td>NaN</td>\n      <td>NaN</td>\n      <td>,,0:51</td>\n    </tr>\n    <tr>\n      <th>32</th>\n      <td>33</td>\n      <td>152</td>\n      <td>+4:19:33</td>\n      <td>26</td>\n      <td>Mørkøv MichaelDeceuninck - Quick Step</td>\n      <td>34</td>\n      <td>Deceuninck - Quick Step</td>\n      <td>NaN</td>\n      <td>NaN</td>\n      <td>,,0:00</td>\n    </tr>\n    <tr>\n      <th>15</th>\n      <td>16</td>\n      <td>153</td>\n      <td>+4:29:07</td>\n      <td>182</td>\n      <td>Debusschere JensTeam Katusha Alpecin</td>\n      <td>29</td>\n      <td>Team Katusha Alpecin</td>\n      <td>NaN</td>\n      <td>NaN</td>\n      <td>,,0:00</td>\n    </tr>\n    <tr>\n      <th>145</th>\n      <td>146</td>\n      <td>154</td>\n      <td>+4:31:43</td>\n      <td>196</td>\n      <td>Offredo YoannWanty - Gobert Cycling Team</td>\n      <td>32</td>\n      <td>Wanty - Gobert Cycling Team</td>\n      <td>NaN</td>\n      <td>NaN</td>\n      <td>1:531:53</td>\n    </tr>\n    <tr>\n      <th>34</th>\n      <td>35</td>\n      <td>155</td>\n      <td>+4:34:23</td>\n      <td>95</td>\n      <td>Langeveld SebastianEF Education First</td>\n      <td>34</td>\n      <td>EF Education First</td>\n      <td>NaN</td>\n      <td>NaN</td>\n      <td>,,0:00</td>\n    </tr>\n  </tbody>\n</table>\n<p>155 rows × 10 columns</p>\n</div>"
     },
     "metadata": {},
     "execution_count": 8
    }
   ],
   "source": [
    "# TourDeFrance2019\n",
    "url = f'https://www.procyclingstats.com/race/tour-de-france/2019/result/result'\n",
    "stage_url = requests.get(url)\n",
    "print(stage_url)\n",
    "body = stage_url.text\n",
    "stage_data = pd.read_html(body)\n",
    "pd.DataFrame(stage_data[0]).to_csv('tdf2019.csv',index=False)\n",
    "pd.DataFrame(stage_data[0]).sort_values(by='GC')"
   ]
  },
  {
   "cell_type": "code",
   "execution_count": 11,
   "metadata": {
    "tags": []
   },
   "outputs": [
    {
     "output_type": "stream",
     "name": "stdout",
     "text": "<Response [200]>\n"
    },
    {
     "output_type": "execute_result",
     "data": {
      "text/plain": "     Rnk  BIB                           Rider  Age            Team    UCI  \\\n0      1   80            Pedersen MadsDenmark   23         Denmark  600.0   \n9     10  144               Costa RuiPortugal   32        Portugal  100.0   \n10    11   28            Colbrelli SonnyItaly   29           Italy   85.0   \n11    12   75           Fuglsang JakobDenmark   34         Denmark   70.0   \n12    13  136     Štybar ZdeněkCzech Republic   33  Czech Republic   60.0   \n..   ...  ...                             ...  ...             ...    ...   \n97   DNF  193            Arashiro YukiyaJapan   35           Japan    NaN   \n91   DNF   12         Gilbert PhilippeBelgium   37         Belgium    NaN   \n195  DNS  159            Kudus MerhawiEritrea   25         Eritrea    NaN   \n194  DNS  182               Padun MarkUkraine   23         Ukraine    NaN   \n196  DNS  131  Thomson Jay RobertSouth Africa   33    South Africa    NaN   \n\n       Pnt            Time  \n0    350.0  6:27:286:27:28  \n9     70.0          ,,1:10  \n10    65.0          ,,1:10  \n11    60.0          ,,1:10  \n12    55.0          ,,1:10  \n..     ...             ...  \n97     NaN               -  \n91     NaN               -  \n195    NaN               -  \n194    NaN               -  \n196    NaN               -  \n\n[197 rows x 8 columns]",
      "text/html": "<div>\n<style scoped>\n    .dataframe tbody tr th:only-of-type {\n        vertical-align: middle;\n    }\n\n    .dataframe tbody tr th {\n        vertical-align: top;\n    }\n\n    .dataframe thead th {\n        text-align: right;\n    }\n</style>\n<table border=\"1\" class=\"dataframe\">\n  <thead>\n    <tr style=\"text-align: right;\">\n      <th></th>\n      <th>Rnk</th>\n      <th>BIB</th>\n      <th>Rider</th>\n      <th>Age</th>\n      <th>Team</th>\n      <th>UCI</th>\n      <th>Pnt</th>\n      <th>Time</th>\n    </tr>\n  </thead>\n  <tbody>\n    <tr>\n      <th>0</th>\n      <td>1</td>\n      <td>80</td>\n      <td>Pedersen MadsDenmark</td>\n      <td>23</td>\n      <td>Denmark</td>\n      <td>600.0</td>\n      <td>350.0</td>\n      <td>6:27:286:27:28</td>\n    </tr>\n    <tr>\n      <th>9</th>\n      <td>10</td>\n      <td>144</td>\n      <td>Costa RuiPortugal</td>\n      <td>32</td>\n      <td>Portugal</td>\n      <td>100.0</td>\n      <td>70.0</td>\n      <td>,,1:10</td>\n    </tr>\n    <tr>\n      <th>10</th>\n      <td>11</td>\n      <td>28</td>\n      <td>Colbrelli SonnyItaly</td>\n      <td>29</td>\n      <td>Italy</td>\n      <td>85.0</td>\n      <td>65.0</td>\n      <td>,,1:10</td>\n    </tr>\n    <tr>\n      <th>11</th>\n      <td>12</td>\n      <td>75</td>\n      <td>Fuglsang JakobDenmark</td>\n      <td>34</td>\n      <td>Denmark</td>\n      <td>70.0</td>\n      <td>60.0</td>\n      <td>,,1:10</td>\n    </tr>\n    <tr>\n      <th>12</th>\n      <td>13</td>\n      <td>136</td>\n      <td>Štybar ZdeněkCzech Republic</td>\n      <td>33</td>\n      <td>Czech Republic</td>\n      <td>60.0</td>\n      <td>55.0</td>\n      <td>,,1:10</td>\n    </tr>\n    <tr>\n      <th>...</th>\n      <td>...</td>\n      <td>...</td>\n      <td>...</td>\n      <td>...</td>\n      <td>...</td>\n      <td>...</td>\n      <td>...</td>\n      <td>...</td>\n    </tr>\n    <tr>\n      <th>97</th>\n      <td>DNF</td>\n      <td>193</td>\n      <td>Arashiro YukiyaJapan</td>\n      <td>35</td>\n      <td>Japan</td>\n      <td>NaN</td>\n      <td>NaN</td>\n      <td>-</td>\n    </tr>\n    <tr>\n      <th>91</th>\n      <td>DNF</td>\n      <td>12</td>\n      <td>Gilbert PhilippeBelgium</td>\n      <td>37</td>\n      <td>Belgium</td>\n      <td>NaN</td>\n      <td>NaN</td>\n      <td>-</td>\n    </tr>\n    <tr>\n      <th>195</th>\n      <td>DNS</td>\n      <td>159</td>\n      <td>Kudus MerhawiEritrea</td>\n      <td>25</td>\n      <td>Eritrea</td>\n      <td>NaN</td>\n      <td>NaN</td>\n      <td>-</td>\n    </tr>\n    <tr>\n      <th>194</th>\n      <td>DNS</td>\n      <td>182</td>\n      <td>Padun MarkUkraine</td>\n      <td>23</td>\n      <td>Ukraine</td>\n      <td>NaN</td>\n      <td>NaN</td>\n      <td>-</td>\n    </tr>\n    <tr>\n      <th>196</th>\n      <td>DNS</td>\n      <td>131</td>\n      <td>Thomson Jay RobertSouth Africa</td>\n      <td>33</td>\n      <td>South Africa</td>\n      <td>NaN</td>\n      <td>NaN</td>\n      <td>-</td>\n    </tr>\n  </tbody>\n</table>\n<p>197 rows × 8 columns</p>\n</div>"
     },
     "metadata": {},
     "execution_count": 11
    }
   ],
   "source": [
    "# 2019 WorldChampionships\n",
    "url = f'https://www.procyclingstats.com/race/world-championship/2019'\n",
    "stage_url = requests.get(url)\n",
    "print(stage_url)\n",
    "body = stage_url.text\n",
    "stage_data = pd.read_html(body)\n",
    "pd.DataFrame(stage_data[0]).to_csv('WC2019.csv',index=False)\n",
    "pd.DataFrame(stage_data[0]).sort_values(by='Rnk')"
   ]
  },
  {
   "cell_type": "code",
   "execution_count": 12,
   "metadata": {
    "tags": []
   },
   "outputs": [
    {
     "output_type": "stream",
     "name": "stdout",
     "text": "<Response [200]>\n"
    },
    {
     "output_type": "execute_result",
     "data": {
      "text/plain": "     Rnk  BIB                                           Rider  Age  \\\n0      1   81       Alaphilippe JulianDeceuninck - Quick Step   26   \n9     10  141                  Trentin MatteoMitchelton-Scott   29   \n99   100  137                  Van der Sande ToshLotto Soudal   28   \n100  101   23    Cattaneo MattiaAndroni Giocattoli - Sidermec   28   \n101  102   85      Richeze MaximilianoDeceuninck - Quick Step   36   \n..   ...  ...                                             ...  ...   \n170  DNF   53                   Bodnar MaciejBORA - hansgrohe   34   \n171  DNF   65                    Van Hooydonck NathanCCC Team   23   \n172  DNF  227                      Pedersen CasperTeam Sunweb   23   \n173  DNF  162  Bertazzo LiamNeri Sottoli - Selle Italia - KTM   27   \n174  DNF    7                       Teuns DylanBahrain Merida   27   \n\n                                  Team    UCI    Pnt            Time  \n0              Deceuninck - Quick Step  500.0  275.0  6:40:146:40:14  \n9                     Mitchelton-Scott   85.0   50.0          ,,0:00  \n99                        Lotto Soudal    NaN    5.0          ,,3:11  \n100      Androni Giocattoli - Sidermec    NaN    5.0          ,,3:11  \n101            Deceuninck - Quick Step    NaN    5.0          ,,3:11  \n..                                 ...    ...    ...             ...  \n170                   BORA - hansgrohe    NaN    NaN               -  \n171                           CCC Team    NaN    NaN               -  \n172                        Team Sunweb    NaN    NaN               -  \n173  Neri Sottoli - Selle Italia - KTM    NaN    NaN               -  \n174                     Bahrain Merida    NaN    NaN               -  \n\n[175 rows x 8 columns]",
      "text/html": "<div>\n<style scoped>\n    .dataframe tbody tr th:only-of-type {\n        vertical-align: middle;\n    }\n\n    .dataframe tbody tr th {\n        vertical-align: top;\n    }\n\n    .dataframe thead th {\n        text-align: right;\n    }\n</style>\n<table border=\"1\" class=\"dataframe\">\n  <thead>\n    <tr style=\"text-align: right;\">\n      <th></th>\n      <th>Rnk</th>\n      <th>BIB</th>\n      <th>Rider</th>\n      <th>Age</th>\n      <th>Team</th>\n      <th>UCI</th>\n      <th>Pnt</th>\n      <th>Time</th>\n    </tr>\n  </thead>\n  <tbody>\n    <tr>\n      <th>0</th>\n      <td>1</td>\n      <td>81</td>\n      <td>Alaphilippe JulianDeceuninck - Quick Step</td>\n      <td>26</td>\n      <td>Deceuninck - Quick Step</td>\n      <td>500.0</td>\n      <td>275.0</td>\n      <td>6:40:146:40:14</td>\n    </tr>\n    <tr>\n      <th>9</th>\n      <td>10</td>\n      <td>141</td>\n      <td>Trentin MatteoMitchelton-Scott</td>\n      <td>29</td>\n      <td>Mitchelton-Scott</td>\n      <td>85.0</td>\n      <td>50.0</td>\n      <td>,,0:00</td>\n    </tr>\n    <tr>\n      <th>99</th>\n      <td>100</td>\n      <td>137</td>\n      <td>Van der Sande ToshLotto Soudal</td>\n      <td>28</td>\n      <td>Lotto Soudal</td>\n      <td>NaN</td>\n      <td>5.0</td>\n      <td>,,3:11</td>\n    </tr>\n    <tr>\n      <th>100</th>\n      <td>101</td>\n      <td>23</td>\n      <td>Cattaneo MattiaAndroni Giocattoli - Sidermec</td>\n      <td>28</td>\n      <td>Androni Giocattoli - Sidermec</td>\n      <td>NaN</td>\n      <td>5.0</td>\n      <td>,,3:11</td>\n    </tr>\n    <tr>\n      <th>101</th>\n      <td>102</td>\n      <td>85</td>\n      <td>Richeze MaximilianoDeceuninck - Quick Step</td>\n      <td>36</td>\n      <td>Deceuninck - Quick Step</td>\n      <td>NaN</td>\n      <td>5.0</td>\n      <td>,,3:11</td>\n    </tr>\n    <tr>\n      <th>...</th>\n      <td>...</td>\n      <td>...</td>\n      <td>...</td>\n      <td>...</td>\n      <td>...</td>\n      <td>...</td>\n      <td>...</td>\n      <td>...</td>\n    </tr>\n    <tr>\n      <th>170</th>\n      <td>DNF</td>\n      <td>53</td>\n      <td>Bodnar MaciejBORA - hansgrohe</td>\n      <td>34</td>\n      <td>BORA - hansgrohe</td>\n      <td>NaN</td>\n      <td>NaN</td>\n      <td>-</td>\n    </tr>\n    <tr>\n      <th>171</th>\n      <td>DNF</td>\n      <td>65</td>\n      <td>Van Hooydonck NathanCCC Team</td>\n      <td>23</td>\n      <td>CCC Team</td>\n      <td>NaN</td>\n      <td>NaN</td>\n      <td>-</td>\n    </tr>\n    <tr>\n      <th>172</th>\n      <td>DNF</td>\n      <td>227</td>\n      <td>Pedersen CasperTeam Sunweb</td>\n      <td>23</td>\n      <td>Team Sunweb</td>\n      <td>NaN</td>\n      <td>NaN</td>\n      <td>-</td>\n    </tr>\n    <tr>\n      <th>173</th>\n      <td>DNF</td>\n      <td>162</td>\n      <td>Bertazzo LiamNeri Sottoli - Selle Italia - KTM</td>\n      <td>27</td>\n      <td>Neri Sottoli - Selle Italia - KTM</td>\n      <td>NaN</td>\n      <td>NaN</td>\n      <td>-</td>\n    </tr>\n    <tr>\n      <th>174</th>\n      <td>DNF</td>\n      <td>7</td>\n      <td>Teuns DylanBahrain Merida</td>\n      <td>27</td>\n      <td>Bahrain Merida</td>\n      <td>NaN</td>\n      <td>NaN</td>\n      <td>-</td>\n    </tr>\n  </tbody>\n</table>\n<p>175 rows × 8 columns</p>\n</div>"
     },
     "metadata": {},
     "execution_count": 12
    }
   ],
   "source": [
    "# 2019 Milano-Sanremo\n",
    "url = f'https://www.procyclingstats.com/race/milano-sanremo/2019'\n",
    "stage_url = requests.get(url)\n",
    "print(stage_url)\n",
    "body = stage_url.text\n",
    "stage_data = pd.read_html(body)\n",
    "pd.DataFrame(stage_data[0]).to_csv('MS2019.csv',index=False)\n",
    "pd.DataFrame(stage_data[0]).sort_values(by='Rnk')"
   ]
  },
  {
   "cell_type": "code",
   "execution_count": 48,
   "metadata": {
    "tags": []
   },
   "outputs": [
    {
     "output_type": "stream",
     "name": "stdout",
     "text": "<Response [200]>\n"
    },
    {
     "output_type": "execute_result",
     "data": {
      "text/plain": "     Rnk  Prev. Diff.                  Rider  \\\n0      1      6    ▲5          Pogačar Tadej   \n1      2      2     -          Roglič Primož   \n2      3     19   ▲16         Fuglsang Jakob   \n3      4     11    ▲7        Evenepoel Remco   \n4      5      4    ▼1       Ackermann Pascal   \n..   ...    ...   ...                    ...   \n195  196    181   ▼15        Quintero Carlos   \n196  197    117   ▼80     Van der Sande Tosh   \n197  198    214   ▲16           Lyu Xianjing   \n198  199    190    ▼9              Eg Niklas   \n199  200    230   ▲30  Flórez Miguel Eduardo   \n\n                                 Team  Pnts  \\\n0                   UAE-Team Emirates  1302   \n1                    Team Jumbo-Visma  1281   \n2                     Astana Pro Team  1194   \n3             Deceuninck - Quick Step  1098   \n4                    BORA - hansgrohe  1048   \n..                                ...   ...   \n195  Terengganu Inc. TSG Cycling Team   167   \n196                      Lotto Soudal   167   \n197            Hengxiang Cycling Team   166   \n198                  Trek - Segafredo   164   \n199     Androni Giocattoli - Sidermec   163   \n\n                              Unnamed: 6  \n0    Point breakdownStandings per season  \n1    Point breakdownStandings per season  \n2    Point breakdownStandings per season  \n3    Point breakdownStandings per season  \n4    Point breakdownStandings per season  \n..                                   ...  \n195  Point breakdownStandings per season  \n196  Point breakdownStandings per season  \n197  Point breakdownStandings per season  \n198  Point breakdownStandings per season  \n199  Point breakdownStandings per season  \n\n[200 rows x 7 columns]",
      "text/html": "<div>\n<style scoped>\n    .dataframe tbody tr th:only-of-type {\n        vertical-align: middle;\n    }\n\n    .dataframe tbody tr th {\n        vertical-align: top;\n    }\n\n    .dataframe thead th {\n        text-align: right;\n    }\n</style>\n<table border=\"1\" class=\"dataframe\">\n  <thead>\n    <tr style=\"text-align: right;\">\n      <th></th>\n      <th>Rnk</th>\n      <th>Prev.</th>\n      <th>Diff.</th>\n      <th>Rider</th>\n      <th>Team</th>\n      <th>Pnts</th>\n      <th>Unnamed: 6</th>\n    </tr>\n  </thead>\n  <tbody>\n    <tr>\n      <th>0</th>\n      <td>1</td>\n      <td>6</td>\n      <td>▲5</td>\n      <td>Pogačar Tadej</td>\n      <td>UAE-Team Emirates</td>\n      <td>1302</td>\n      <td>Point breakdownStandings per season</td>\n    </tr>\n    <tr>\n      <th>1</th>\n      <td>2</td>\n      <td>2</td>\n      <td>-</td>\n      <td>Roglič Primož</td>\n      <td>Team Jumbo-Visma</td>\n      <td>1281</td>\n      <td>Point breakdownStandings per season</td>\n    </tr>\n    <tr>\n      <th>2</th>\n      <td>3</td>\n      <td>19</td>\n      <td>▲16</td>\n      <td>Fuglsang Jakob</td>\n      <td>Astana Pro Team</td>\n      <td>1194</td>\n      <td>Point breakdownStandings per season</td>\n    </tr>\n    <tr>\n      <th>3</th>\n      <td>4</td>\n      <td>11</td>\n      <td>▲7</td>\n      <td>Evenepoel Remco</td>\n      <td>Deceuninck - Quick Step</td>\n      <td>1098</td>\n      <td>Point breakdownStandings per season</td>\n    </tr>\n    <tr>\n      <th>4</th>\n      <td>5</td>\n      <td>4</td>\n      <td>▼1</td>\n      <td>Ackermann Pascal</td>\n      <td>BORA - hansgrohe</td>\n      <td>1048</td>\n      <td>Point breakdownStandings per season</td>\n    </tr>\n    <tr>\n      <th>...</th>\n      <td>...</td>\n      <td>...</td>\n      <td>...</td>\n      <td>...</td>\n      <td>...</td>\n      <td>...</td>\n      <td>...</td>\n    </tr>\n    <tr>\n      <th>195</th>\n      <td>196</td>\n      <td>181</td>\n      <td>▼15</td>\n      <td>Quintero Carlos</td>\n      <td>Terengganu Inc. TSG Cycling Team</td>\n      <td>167</td>\n      <td>Point breakdownStandings per season</td>\n    </tr>\n    <tr>\n      <th>196</th>\n      <td>197</td>\n      <td>117</td>\n      <td>▼80</td>\n      <td>Van der Sande Tosh</td>\n      <td>Lotto Soudal</td>\n      <td>167</td>\n      <td>Point breakdownStandings per season</td>\n    </tr>\n    <tr>\n      <th>197</th>\n      <td>198</td>\n      <td>214</td>\n      <td>▲16</td>\n      <td>Lyu Xianjing</td>\n      <td>Hengxiang Cycling Team</td>\n      <td>166</td>\n      <td>Point breakdownStandings per season</td>\n    </tr>\n    <tr>\n      <th>198</th>\n      <td>199</td>\n      <td>190</td>\n      <td>▼9</td>\n      <td>Eg Niklas</td>\n      <td>Trek - Segafredo</td>\n      <td>164</td>\n      <td>Point breakdownStandings per season</td>\n    </tr>\n    <tr>\n      <th>199</th>\n      <td>200</td>\n      <td>230</td>\n      <td>▲30</td>\n      <td>Flórez Miguel Eduardo</td>\n      <td>Androni Giocattoli - Sidermec</td>\n      <td>163</td>\n      <td>Point breakdownStandings per season</td>\n    </tr>\n  </tbody>\n</table>\n<p>200 rows × 7 columns</p>\n</div>"
     },
     "metadata": {},
     "execution_count": 48
    }
   ],
   "source": [
    "# World Rankings\n",
    "url = f'https://www.procyclingstats.com/rankings.php?id=59874&nation=&team=&page=0&prev_id=prev&younger=&older=&limit=200&filter=Filter&morefilters='\n",
    "stage_url = requests.get(url)\n",
    "print(stage_url)\n",
    "body = stage_url.text\n",
    "stage_data = pd.read_html(body)\n",
    "pd.DataFrame(stage_data[0]).to_csv('WR2020.csv',index=False)\n",
    "pd.DataFrame(stage_data[0]).sort_values(by='Rnk')"
   ]
  },
  {
   "cell_type": "code",
   "execution_count": 94,
   "metadata": {
    "tags": []
   },
   "outputs": [
    {
     "output_type": "stream",
     "name": "stdout",
     "text": "<Response [200]>\n"
    },
    {
     "output_type": "execute_result",
     "data": {
      "text/plain": "     Rnk  Prev. Diff.               Rider                        Team  Pnts  \\\n0      1    5.0    ▲4       Pogačar Tadej           UAE-Team Emirates   956   \n1      2    1.0    ▼1       Roglič Primož            Team Jumbo-Visma   819   \n2      3   12.0    ▲9          Yates Adam            Mitchelton-Scott   560   \n3      4   56.0   ▲52        Porte Richie            Trek - Segafredo   535   \n4      5   31.0   ▲26    Martin Guillaume  Cofidis, Solutions Crédits   516   \n..   ...    ...   ...                 ...                         ...   ...   \n195  196  389.0  ▲193       Doubey Fabien       Circus - Wanty Gobert    30   \n196  197  398.0  ▲201      Navarro Daniel      Israel Start-Up Nation    30   \n197  198  643.0  ▲445      Vanhoucke Harm                Lotto Soudal    30   \n198  199  541.0  ▲342         Roosen Timo            Team Jumbo-Visma    29   \n199  200  663.0  ▲463  Stedman Maximilian       Canyon dhb p/b Soreen    28   \n\n                              Unnamed: 6  \n0    Point breakdownStandings per season  \n1    Point breakdownStandings per season  \n2    Point breakdownStandings per season  \n3    Point breakdownStandings per season  \n4    Point breakdownStandings per season  \n..                                   ...  \n195  Point breakdownStandings per season  \n196  Point breakdownStandings per season  \n197  Point breakdownStandings per season  \n198  Point breakdownStandings per season  \n199  Point breakdownStandings per season  \n\n[200 rows x 7 columns]",
      "text/html": "<div>\n<style scoped>\n    .dataframe tbody tr th:only-of-type {\n        vertical-align: middle;\n    }\n\n    .dataframe tbody tr th {\n        vertical-align: top;\n    }\n\n    .dataframe thead th {\n        text-align: right;\n    }\n</style>\n<table border=\"1\" class=\"dataframe\">\n  <thead>\n    <tr style=\"text-align: right;\">\n      <th></th>\n      <th>Rnk</th>\n      <th>Prev.</th>\n      <th>Diff.</th>\n      <th>Rider</th>\n      <th>Team</th>\n      <th>Pnts</th>\n      <th>Unnamed: 6</th>\n    </tr>\n  </thead>\n  <tbody>\n    <tr>\n      <th>0</th>\n      <td>1</td>\n      <td>5.0</td>\n      <td>▲4</td>\n      <td>Pogačar Tadej</td>\n      <td>UAE-Team Emirates</td>\n      <td>956</td>\n      <td>Point breakdownStandings per season</td>\n    </tr>\n    <tr>\n      <th>1</th>\n      <td>2</td>\n      <td>1.0</td>\n      <td>▼1</td>\n      <td>Roglič Primož</td>\n      <td>Team Jumbo-Visma</td>\n      <td>819</td>\n      <td>Point breakdownStandings per season</td>\n    </tr>\n    <tr>\n      <th>2</th>\n      <td>3</td>\n      <td>12.0</td>\n      <td>▲9</td>\n      <td>Yates Adam</td>\n      <td>Mitchelton-Scott</td>\n      <td>560</td>\n      <td>Point breakdownStandings per season</td>\n    </tr>\n    <tr>\n      <th>3</th>\n      <td>4</td>\n      <td>56.0</td>\n      <td>▲52</td>\n      <td>Porte Richie</td>\n      <td>Trek - Segafredo</td>\n      <td>535</td>\n      <td>Point breakdownStandings per season</td>\n    </tr>\n    <tr>\n      <th>4</th>\n      <td>5</td>\n      <td>31.0</td>\n      <td>▲26</td>\n      <td>Martin Guillaume</td>\n      <td>Cofidis, Solutions Crédits</td>\n      <td>516</td>\n      <td>Point breakdownStandings per season</td>\n    </tr>\n    <tr>\n      <th>...</th>\n      <td>...</td>\n      <td>...</td>\n      <td>...</td>\n      <td>...</td>\n      <td>...</td>\n      <td>...</td>\n      <td>...</td>\n    </tr>\n    <tr>\n      <th>195</th>\n      <td>196</td>\n      <td>389.0</td>\n      <td>▲193</td>\n      <td>Doubey Fabien</td>\n      <td>Circus - Wanty Gobert</td>\n      <td>30</td>\n      <td>Point breakdownStandings per season</td>\n    </tr>\n    <tr>\n      <th>196</th>\n      <td>197</td>\n      <td>398.0</td>\n      <td>▲201</td>\n      <td>Navarro Daniel</td>\n      <td>Israel Start-Up Nation</td>\n      <td>30</td>\n      <td>Point breakdownStandings per season</td>\n    </tr>\n    <tr>\n      <th>197</th>\n      <td>198</td>\n      <td>643.0</td>\n      <td>▲445</td>\n      <td>Vanhoucke Harm</td>\n      <td>Lotto Soudal</td>\n      <td>30</td>\n      <td>Point breakdownStandings per season</td>\n    </tr>\n    <tr>\n      <th>198</th>\n      <td>199</td>\n      <td>541.0</td>\n      <td>▲342</td>\n      <td>Roosen Timo</td>\n      <td>Team Jumbo-Visma</td>\n      <td>29</td>\n      <td>Point breakdownStandings per season</td>\n    </tr>\n    <tr>\n      <th>199</th>\n      <td>200</td>\n      <td>663.0</td>\n      <td>▲463</td>\n      <td>Stedman Maximilian</td>\n      <td>Canyon dhb p/b Soreen</td>\n      <td>28</td>\n      <td>Point breakdownStandings per season</td>\n    </tr>\n  </tbody>\n</table>\n<p>200 rows × 7 columns</p>\n</div>"
     },
     "metadata": {},
     "execution_count": 94
    }
   ],
   "source": [
    "# World Rankings - climbers\n",
    "url = f'https://www.procyclingstats.com/rankings.php?id=60840&nation=&team=&page=0&prev_id=prev&younger=&older=&limit=200&filter=Filter&morefilters='\n",
    "stage_url = requests.get(url)\n",
    "print(stage_url)\n",
    "body = stage_url.text\n",
    "stage_data = pd.read_html(body)\n",
    "pd.DataFrame(stage_data[0]).to_csv('WR-climb2020.csv',index=False)\n",
    "pd.DataFrame(stage_data[0]).sort_values(by='Rnk')"
   ]
  },
  {
   "cell_type": "code",
   "execution_count": 93,
   "metadata": {
    "tags": []
   },
   "outputs": [
    {
     "output_type": "stream",
     "name": "stdout",
     "text": "<Response [200]>\n"
    },
    {
     "output_type": "execute_result",
     "data": {
      "text/plain": "     Rnk  Prev. Diff.             Rider                              Team  \\\n0      1    3.0    ▲2  Ackermann Pascal                  BORA - hansgrohe   \n1      2    4.0    ▲2       Bennett Sam           Deceuninck - Quick Step   \n2      3   14.0   ▲11  Gaviria Fernando                 UAE-Team Emirates   \n3      4   18.0   ▲14     Démare Arnaud                    Groupama - FDJ   \n4      5   23.0   ▲18   Nizzolo Giacomo                   NTT Pro Cycling   \n..   ...    ...   ...               ...                               ...   \n195  196  136.0   ▼60       Gómez Bryan     Equipo Continental Supergiros   \n196  197    NaN   NaN   Quintero Carlos  Terengganu Inc. TSG Cycling Team   \n197  198  216.0   ▲18   Naesen Lawrence                  AG2R La Mondiale   \n198  199   49.0  ▼150  Noppe Christophe                 Team Arkéa Samsic   \n199  200    NaN   NaN     Savini Daniel              Bardiani-CSF-Faizanè   \n\n      Pnts                           Unnamed: 6  \n0    967.0  Point breakdownStandings per season  \n1    736.5  Point breakdownStandings per season  \n2    633.5  Point breakdownStandings per season  \n3    604.5  Point breakdownStandings per season  \n4    543.5  Point breakdownStandings per season  \n..     ...                                  ...  \n195   71.0  Point breakdownStandings per season  \n196   71.0  Point breakdownStandings per season  \n197   71.0  Point breakdownStandings per season  \n198   71.0  Point breakdownStandings per season  \n199   70.5  Point breakdownStandings per season  \n\n[200 rows x 7 columns]",
      "text/html": "<div>\n<style scoped>\n    .dataframe tbody tr th:only-of-type {\n        vertical-align: middle;\n    }\n\n    .dataframe tbody tr th {\n        vertical-align: top;\n    }\n\n    .dataframe thead th {\n        text-align: right;\n    }\n</style>\n<table border=\"1\" class=\"dataframe\">\n  <thead>\n    <tr style=\"text-align: right;\">\n      <th></th>\n      <th>Rnk</th>\n      <th>Prev.</th>\n      <th>Diff.</th>\n      <th>Rider</th>\n      <th>Team</th>\n      <th>Pnts</th>\n      <th>Unnamed: 6</th>\n    </tr>\n  </thead>\n  <tbody>\n    <tr>\n      <th>0</th>\n      <td>1</td>\n      <td>3.0</td>\n      <td>▲2</td>\n      <td>Ackermann Pascal</td>\n      <td>BORA - hansgrohe</td>\n      <td>967.0</td>\n      <td>Point breakdownStandings per season</td>\n    </tr>\n    <tr>\n      <th>1</th>\n      <td>2</td>\n      <td>4.0</td>\n      <td>▲2</td>\n      <td>Bennett Sam</td>\n      <td>Deceuninck - Quick Step</td>\n      <td>736.5</td>\n      <td>Point breakdownStandings per season</td>\n    </tr>\n    <tr>\n      <th>2</th>\n      <td>3</td>\n      <td>14.0</td>\n      <td>▲11</td>\n      <td>Gaviria Fernando</td>\n      <td>UAE-Team Emirates</td>\n      <td>633.5</td>\n      <td>Point breakdownStandings per season</td>\n    </tr>\n    <tr>\n      <th>3</th>\n      <td>4</td>\n      <td>18.0</td>\n      <td>▲14</td>\n      <td>Démare Arnaud</td>\n      <td>Groupama - FDJ</td>\n      <td>604.5</td>\n      <td>Point breakdownStandings per season</td>\n    </tr>\n    <tr>\n      <th>4</th>\n      <td>5</td>\n      <td>23.0</td>\n      <td>▲18</td>\n      <td>Nizzolo Giacomo</td>\n      <td>NTT Pro Cycling</td>\n      <td>543.5</td>\n      <td>Point breakdownStandings per season</td>\n    </tr>\n    <tr>\n      <th>...</th>\n      <td>...</td>\n      <td>...</td>\n      <td>...</td>\n      <td>...</td>\n      <td>...</td>\n      <td>...</td>\n      <td>...</td>\n    </tr>\n    <tr>\n      <th>195</th>\n      <td>196</td>\n      <td>136.0</td>\n      <td>▼60</td>\n      <td>Gómez Bryan</td>\n      <td>Equipo Continental Supergiros</td>\n      <td>71.0</td>\n      <td>Point breakdownStandings per season</td>\n    </tr>\n    <tr>\n      <th>196</th>\n      <td>197</td>\n      <td>NaN</td>\n      <td>NaN</td>\n      <td>Quintero Carlos</td>\n      <td>Terengganu Inc. TSG Cycling Team</td>\n      <td>71.0</td>\n      <td>Point breakdownStandings per season</td>\n    </tr>\n    <tr>\n      <th>197</th>\n      <td>198</td>\n      <td>216.0</td>\n      <td>▲18</td>\n      <td>Naesen Lawrence</td>\n      <td>AG2R La Mondiale</td>\n      <td>71.0</td>\n      <td>Point breakdownStandings per season</td>\n    </tr>\n    <tr>\n      <th>198</th>\n      <td>199</td>\n      <td>49.0</td>\n      <td>▼150</td>\n      <td>Noppe Christophe</td>\n      <td>Team Arkéa Samsic</td>\n      <td>71.0</td>\n      <td>Point breakdownStandings per season</td>\n    </tr>\n    <tr>\n      <th>199</th>\n      <td>200</td>\n      <td>NaN</td>\n      <td>NaN</td>\n      <td>Savini Daniel</td>\n      <td>Bardiani-CSF-Faizanè</td>\n      <td>70.5</td>\n      <td>Point breakdownStandings per season</td>\n    </tr>\n  </tbody>\n</table>\n<p>200 rows × 7 columns</p>\n</div>"
     },
     "metadata": {},
     "execution_count": 93
    }
   ],
   "source": [
    "# World Rankings - sprinters\n",
    "url = f'https://www.procyclingstats.com/rankings.php?id=60805&nation=&team=&page=0&prev_id=prev&younger=&older=&limit=200&filter=Filter&morefilters='\n",
    "stage_url = requests.get(url)\n",
    "print(stage_url)\n",
    "body = stage_url.text\n",
    "stage_data = pd.read_html(body)\n",
    "pd.DataFrame(stage_data[0]).to_csv('WR-sprint2020.csv',index=False)\n",
    "pd.DataFrame(stage_data[0]).sort_values(by='Rnk')"
   ]
  },
  {
   "cell_type": "code",
   "execution_count": 95,
   "metadata": {
    "tags": []
   },
   "outputs": [
    {
     "output_type": "stream",
     "name": "stdout",
     "text": "<Response [200]>\n"
    },
    {
     "output_type": "execute_result",
     "data": {
      "text/plain": "     Rnk  Prev. Diff.                       Rider  \\\n0      1    4.0    ▲3               Ganna Filippo   \n1      2    6.0    ▲4                Dennis Rohan   \n2      3    7.0    ▲4             Evenepoel Remco   \n3      4    2.0    ▼2          Campenaerts Victor   \n4      5    3.0    ▼2                 Küng Stefan   \n..   ...    ...   ...                         ...   \n195  196  108.0   ▼88     Jurado Cristopher Robin   \n196  197   72.0  ▼125                 Mullen Ryan   \n197  198  622.0  ▲424                Finkšt Tilen   \n198  199  580.0  ▲381                Turek Daniel   \n199  200  342.0  ▲142  Cepeda Jefferson Alexander   \n\n                                 Team  Pnts  \\\n0                    INEOS Grenadiers   430   \n1                    INEOS Grenadiers   385   \n2             Deceuninck - Quick Step   340   \n3                     NTT Pro Cycling   281   \n4                      Groupama - FDJ   256   \n..                                ...   ...   \n195  Terengganu Inc. TSG Cycling Team    26   \n196                  Trek - Segafredo    26   \n197            Ljubljana Gusto Santic    26   \n198            Israel Cycling Academy    26   \n199     Androni Giocattoli - Sidermec    26   \n\n                              Unnamed: 6  \n0    Point breakdownStandings per season  \n1    Point breakdownStandings per season  \n2    Point breakdownStandings per season  \n3    Point breakdownStandings per season  \n4    Point breakdownStandings per season  \n..                                   ...  \n195  Point breakdownStandings per season  \n196  Point breakdownStandings per season  \n197  Point breakdownStandings per season  \n198  Point breakdownStandings per season  \n199  Point breakdownStandings per season  \n\n[200 rows x 7 columns]",
      "text/html": "<div>\n<style scoped>\n    .dataframe tbody tr th:only-of-type {\n        vertical-align: middle;\n    }\n\n    .dataframe tbody tr th {\n        vertical-align: top;\n    }\n\n    .dataframe thead th {\n        text-align: right;\n    }\n</style>\n<table border=\"1\" class=\"dataframe\">\n  <thead>\n    <tr style=\"text-align: right;\">\n      <th></th>\n      <th>Rnk</th>\n      <th>Prev.</th>\n      <th>Diff.</th>\n      <th>Rider</th>\n      <th>Team</th>\n      <th>Pnts</th>\n      <th>Unnamed: 6</th>\n    </tr>\n  </thead>\n  <tbody>\n    <tr>\n      <th>0</th>\n      <td>1</td>\n      <td>4.0</td>\n      <td>▲3</td>\n      <td>Ganna Filippo</td>\n      <td>INEOS Grenadiers</td>\n      <td>430</td>\n      <td>Point breakdownStandings per season</td>\n    </tr>\n    <tr>\n      <th>1</th>\n      <td>2</td>\n      <td>6.0</td>\n      <td>▲4</td>\n      <td>Dennis Rohan</td>\n      <td>INEOS Grenadiers</td>\n      <td>385</td>\n      <td>Point breakdownStandings per season</td>\n    </tr>\n    <tr>\n      <th>2</th>\n      <td>3</td>\n      <td>7.0</td>\n      <td>▲4</td>\n      <td>Evenepoel Remco</td>\n      <td>Deceuninck - Quick Step</td>\n      <td>340</td>\n      <td>Point breakdownStandings per season</td>\n    </tr>\n    <tr>\n      <th>3</th>\n      <td>4</td>\n      <td>2.0</td>\n      <td>▼2</td>\n      <td>Campenaerts Victor</td>\n      <td>NTT Pro Cycling</td>\n      <td>281</td>\n      <td>Point breakdownStandings per season</td>\n    </tr>\n    <tr>\n      <th>4</th>\n      <td>5</td>\n      <td>3.0</td>\n      <td>▼2</td>\n      <td>Küng Stefan</td>\n      <td>Groupama - FDJ</td>\n      <td>256</td>\n      <td>Point breakdownStandings per season</td>\n    </tr>\n    <tr>\n      <th>...</th>\n      <td>...</td>\n      <td>...</td>\n      <td>...</td>\n      <td>...</td>\n      <td>...</td>\n      <td>...</td>\n      <td>...</td>\n    </tr>\n    <tr>\n      <th>195</th>\n      <td>196</td>\n      <td>108.0</td>\n      <td>▼88</td>\n      <td>Jurado Cristopher Robin</td>\n      <td>Terengganu Inc. TSG Cycling Team</td>\n      <td>26</td>\n      <td>Point breakdownStandings per season</td>\n    </tr>\n    <tr>\n      <th>196</th>\n      <td>197</td>\n      <td>72.0</td>\n      <td>▼125</td>\n      <td>Mullen Ryan</td>\n      <td>Trek - Segafredo</td>\n      <td>26</td>\n      <td>Point breakdownStandings per season</td>\n    </tr>\n    <tr>\n      <th>197</th>\n      <td>198</td>\n      <td>622.0</td>\n      <td>▲424</td>\n      <td>Finkšt Tilen</td>\n      <td>Ljubljana Gusto Santic</td>\n      <td>26</td>\n      <td>Point breakdownStandings per season</td>\n    </tr>\n    <tr>\n      <th>198</th>\n      <td>199</td>\n      <td>580.0</td>\n      <td>▲381</td>\n      <td>Turek Daniel</td>\n      <td>Israel Cycling Academy</td>\n      <td>26</td>\n      <td>Point breakdownStandings per season</td>\n    </tr>\n    <tr>\n      <th>199</th>\n      <td>200</td>\n      <td>342.0</td>\n      <td>▲142</td>\n      <td>Cepeda Jefferson Alexander</td>\n      <td>Androni Giocattoli - Sidermec</td>\n      <td>26</td>\n      <td>Point breakdownStandings per season</td>\n    </tr>\n  </tbody>\n</table>\n<p>200 rows × 7 columns</p>\n</div>"
     },
     "metadata": {},
     "execution_count": 95
    }
   ],
   "source": [
    "# World Rankings - sprinters\n",
    "url = f'https://www.procyclingstats.com/rankings.php?id=60806&nation=&team=&page=0&prev_id=prev&younger=&older=&limit=200&filter=Filter&morefilters='\n",
    "stage_url = requests.get(url)\n",
    "print(stage_url)\n",
    "body = stage_url.text\n",
    "stage_data = pd.read_html(body)\n",
    "pd.DataFrame(stage_data[0]).to_csv('WR-TT2020.csv',index=False)\n",
    "pd.DataFrame(stage_data[0]).sort_values(by='Rnk')"
   ]
  },
  {
   "cell_type": "code",
   "execution_count": 96,
   "metadata": {},
   "outputs": [],
   "source": [
    "tdf = pd.read_csv('stage18.csv')"
   ]
  },
  {
   "cell_type": "code",
   "execution_count": 97,
   "metadata": {},
   "outputs": [
    {
     "output_type": "execute_result",
     "data": {
      "text/plain": "   Rank               Rider  Rank.1  Rider No.                Team  \\\n0     1  MICHAL KWIATKOWSKI       1          5    INEOS GRENADIERS   \n1     2     RICHARD CARAPAZ       2          3    INEOS GRENADIERS   \n2     3       WOUT VAN AERT       3         18  TEAM JUMBO - VISMA   \n3     4       PRIMOŽ ROGLIC       4         11  TEAM JUMBO - VISMA   \n4     5       TADEJ POGACAR       5        131   UAE TEAM EMIRATES   \n\n          Times             Gap         B         P  \n0  04h 47' 33''               -  B : 15''         -  \n1  04h 47' 33''               -  B : 14''         -  \n2  04h 49' 24''  + 00h 01' 51''   B : 4''  P : 10''  \n3  04h 49' 26''  + 00h 01' 53''         -         -  \n4  04h 49' 26''  + 00h 01' 53''         -         -  ",
      "text/html": "<div>\n<style scoped>\n    .dataframe tbody tr th:only-of-type {\n        vertical-align: middle;\n    }\n\n    .dataframe tbody tr th {\n        vertical-align: top;\n    }\n\n    .dataframe thead th {\n        text-align: right;\n    }\n</style>\n<table border=\"1\" class=\"dataframe\">\n  <thead>\n    <tr style=\"text-align: right;\">\n      <th></th>\n      <th>Rank</th>\n      <th>Rider</th>\n      <th>Rank.1</th>\n      <th>Rider No.</th>\n      <th>Team</th>\n      <th>Times</th>\n      <th>Gap</th>\n      <th>B</th>\n      <th>P</th>\n    </tr>\n  </thead>\n  <tbody>\n    <tr>\n      <th>0</th>\n      <td>1</td>\n      <td>MICHAL KWIATKOWSKI</td>\n      <td>1</td>\n      <td>5</td>\n      <td>INEOS GRENADIERS</td>\n      <td>04h 47' 33''</td>\n      <td>-</td>\n      <td>B : 15''</td>\n      <td>-</td>\n    </tr>\n    <tr>\n      <th>1</th>\n      <td>2</td>\n      <td>RICHARD CARAPAZ</td>\n      <td>2</td>\n      <td>3</td>\n      <td>INEOS GRENADIERS</td>\n      <td>04h 47' 33''</td>\n      <td>-</td>\n      <td>B : 14''</td>\n      <td>-</td>\n    </tr>\n    <tr>\n      <th>2</th>\n      <td>3</td>\n      <td>WOUT VAN AERT</td>\n      <td>3</td>\n      <td>18</td>\n      <td>TEAM JUMBO - VISMA</td>\n      <td>04h 49' 24''</td>\n      <td>+ 00h 01' 51''</td>\n      <td>B : 4''</td>\n      <td>P : 10''</td>\n    </tr>\n    <tr>\n      <th>3</th>\n      <td>4</td>\n      <td>PRIMOŽ ROGLIC</td>\n      <td>4</td>\n      <td>11</td>\n      <td>TEAM JUMBO - VISMA</td>\n      <td>04h 49' 26''</td>\n      <td>+ 00h 01' 53''</td>\n      <td>-</td>\n      <td>-</td>\n    </tr>\n    <tr>\n      <th>4</th>\n      <td>5</td>\n      <td>TADEJ POGACAR</td>\n      <td>5</td>\n      <td>131</td>\n      <td>UAE TEAM EMIRATES</td>\n      <td>04h 49' 26''</td>\n      <td>+ 00h 01' 53''</td>\n      <td>-</td>\n      <td>-</td>\n    </tr>\n  </tbody>\n</table>\n</div>"
     },
     "metadata": {},
     "execution_count": 97
    }
   ],
   "source": [
    "tdf.head()"
   ]
  },
  {
   "cell_type": "code",
   "execution_count": 29,
   "metadata": {},
   "outputs": [
    {
     "output_type": "execute_result",
     "data": {
      "text/plain": "24"
     },
     "metadata": {},
     "execution_count": 29
    }
   ],
   "source": [
    "import numpy as np\n",
    "np.argmax(tdf.Rider.str.find('TADEJ'))"
   ]
  },
  {
   "cell_type": "code",
   "execution_count": null,
   "metadata": {},
   "outputs": [],
   "source": [
    "def lower_case(text):\n",
    "    return text.lower()"
   ]
  },
  {
   "cell_type": "code",
   "execution_count": 31,
   "metadata": {},
   "outputs": [
    {
     "output_type": "execute_result",
     "data": {
      "text/plain": "Rank                        25\nRider            TADEJ POGACAR\nRank.1                      25\nRider No.                  131\nTeam         UAE TEAM EMIRATES\nTimes             03h 35' 22''\nGap                          -\nB                            -\nP                            -\nName: 24, dtype: object"
     },
     "metadata": {},
     "execution_count": 31
    }
   ],
   "source": [
    "tdf.loc[24]"
   ]
  },
  {
   "cell_type": "code",
   "execution_count": 49,
   "metadata": {},
   "outputs": [
    {
     "output_type": "execute_result",
     "data": {
      "text/plain": "     Rnk  Prev. Diff.                  Rider  \\\n195  196    181   ▼15        Quintero Carlos   \n196  197    117   ▼80     Van der Sande Tosh   \n197  198    214   ▲16           Lyu Xianjing   \n198  199    190    ▼9              Eg Niklas   \n199  200    230   ▲30  Flórez Miguel Eduardo   \n\n                                 Team  Pnts  \\\n195  Terengganu Inc. TSG Cycling Team   167   \n196                      Lotto Soudal   167   \n197            Hengxiang Cycling Team   166   \n198                  Trek - Segafredo   164   \n199     Androni Giocattoli - Sidermec   163   \n\n                              Unnamed: 6  \n195  Point breakdownStandings per season  \n196  Point breakdownStandings per season  \n197  Point breakdownStandings per season  \n198  Point breakdownStandings per season  \n199  Point breakdownStandings per season  ",
      "text/html": "<div>\n<style scoped>\n    .dataframe tbody tr th:only-of-type {\n        vertical-align: middle;\n    }\n\n    .dataframe tbody tr th {\n        vertical-align: top;\n    }\n\n    .dataframe thead th {\n        text-align: right;\n    }\n</style>\n<table border=\"1\" class=\"dataframe\">\n  <thead>\n    <tr style=\"text-align: right;\">\n      <th></th>\n      <th>Rnk</th>\n      <th>Prev.</th>\n      <th>Diff.</th>\n      <th>Rider</th>\n      <th>Team</th>\n      <th>Pnts</th>\n      <th>Unnamed: 6</th>\n    </tr>\n  </thead>\n  <tbody>\n    <tr>\n      <th>195</th>\n      <td>196</td>\n      <td>181</td>\n      <td>▼15</td>\n      <td>Quintero Carlos</td>\n      <td>Terengganu Inc. TSG Cycling Team</td>\n      <td>167</td>\n      <td>Point breakdownStandings per season</td>\n    </tr>\n    <tr>\n      <th>196</th>\n      <td>197</td>\n      <td>117</td>\n      <td>▼80</td>\n      <td>Van der Sande Tosh</td>\n      <td>Lotto Soudal</td>\n      <td>167</td>\n      <td>Point breakdownStandings per season</td>\n    </tr>\n    <tr>\n      <th>197</th>\n      <td>198</td>\n      <td>214</td>\n      <td>▲16</td>\n      <td>Lyu Xianjing</td>\n      <td>Hengxiang Cycling Team</td>\n      <td>166</td>\n      <td>Point breakdownStandings per season</td>\n    </tr>\n    <tr>\n      <th>198</th>\n      <td>199</td>\n      <td>190</td>\n      <td>▼9</td>\n      <td>Eg Niklas</td>\n      <td>Trek - Segafredo</td>\n      <td>164</td>\n      <td>Point breakdownStandings per season</td>\n    </tr>\n    <tr>\n      <th>199</th>\n      <td>200</td>\n      <td>230</td>\n      <td>▲30</td>\n      <td>Flórez Miguel Eduardo</td>\n      <td>Androni Giocattoli - Sidermec</td>\n      <td>163</td>\n      <td>Point breakdownStandings per season</td>\n    </tr>\n  </tbody>\n</table>\n</div>"
     },
     "metadata": {},
     "execution_count": 49
    }
   ],
   "source": [
    "WR = pd.DataFrame(stage_data[0])\n",
    "WR.tail()"
   ]
  },
  {
   "cell_type": "code",
   "execution_count": 50,
   "metadata": {},
   "outputs": [
    {
     "output_type": "execute_result",
     "data": {
      "text/plain": "0              Pogačar Tadej\n1              Roglič Primož\n2             Fuglsang Jakob\n3            Evenepoel Remco\n4           Ackermann Pascal\n               ...          \n195          Quintero Carlos\n196       Van der Sande Tosh\n197             Lyu Xianjing\n198                Eg Niklas\n199    Flórez Miguel Eduardo\nName: Rider, Length: 200, dtype: object"
     },
     "metadata": {},
     "execution_count": 50
    }
   ],
   "source": [
    "WR.Rider"
   ]
  },
  {
   "cell_type": "code",
   "execution_count": 51,
   "metadata": {
    "tags": []
   },
   "outputs": [
    {
     "output_type": "execute_result",
     "data": {
      "text/plain": "200"
     },
     "metadata": {},
     "execution_count": 51
    }
   ],
   "source": [
    "import re\n",
    "import unidecode\n",
    "\n",
    "wr_riders = []\n",
    "for i in WR.Rider:\n",
    "    #s = re.sub(\"@[A-Za-z0-9_]+ \",\"\", i)\n",
    "    s = unidecode.unidecode(i)\n",
    "    wr_riders.append(s.lower())\n",
    "len(wr_riders)"
   ]
  },
  {
   "cell_type": "code",
   "execution_count": 53,
   "metadata": {
    "tags": []
   },
   "outputs": [
    {
     "output_type": "error",
     "ename": "AttributeError",
     "evalue": "'list' object has no attribute 'isin'",
     "traceback": [
      "\u001b[1;31m---------------------------------------------------------------------------\u001b[0m",
      "\u001b[1;31mAttributeError\u001b[0m                            Traceback (most recent call last)",
      "\u001b[1;32m<ipython-input-53-901476ae2a5f>\u001b[0m in \u001b[0;36m<module>\u001b[1;34m\u001b[0m\n\u001b[1;32m----> 1\u001b[1;33m \u001b[0mwr_riders\u001b[0m\u001b[1;33m.\u001b[0m\u001b[0misin\u001b[0m\u001b[1;33m(\u001b[0m\u001b[0mtdf\u001b[0m\u001b[1;33m.\u001b[0m\u001b[0mRider\u001b[0m\u001b[1;33m.\u001b[0m\u001b[0mstr\u001b[0m\u001b[1;33m.\u001b[0m\u001b[0mlower\u001b[0m\u001b[1;33m(\u001b[0m\u001b[1;33m)\u001b[0m\u001b[1;33m.\u001b[0m\u001b[0mto_list\u001b[0m\u001b[1;33m(\u001b[0m\u001b[1;33m)\u001b[0m\u001b[1;33m)\u001b[0m\u001b[1;33m\u001b[0m\u001b[1;33m\u001b[0m\u001b[0m\n\u001b[0m",
      "\u001b[1;31mAttributeError\u001b[0m: 'list' object has no attribute 'isin'"
     ]
    }
   ],
   "source": [
    "wr_riders.isin(tdf.Rider.str.lower().to_list())"
   ]
  },
  {
   "cell_type": "code",
   "execution_count": 54,
   "metadata": {
    "tags": []
   },
   "outputs": [
    {
     "output_type": "stream",
     "name": "stdout",
     "text": "set()\n"
    }
   ],
   "source": [
    "list1_as_set = set(wr_riders)\n",
    "\n",
    "intersection = list1_as_set.intersection(tdf.Rider.str.lower().to_list())\n",
    "print(intersection)"
   ]
  },
  {
   "cell_type": "code",
   "execution_count": 56,
   "metadata": {},
   "outputs": [
    {
     "output_type": "execute_result",
     "data": {
      "text/plain": "False"
     },
     "metadata": {},
     "execution_count": 56
    }
   ],
   "source": [
    "wr_riders[0] in tdf.Rider.str.lower().to_list()"
   ]
  },
  {
   "cell_type": "code",
   "execution_count": 78,
   "metadata": {
    "tags": []
   },
   "outputs": [],
   "source": [
    "def straight_names(names_list):\n",
    "    ordered_names = []\n",
    "    for name in names_list:\n",
    "        if len(name.split())==2:\n",
    "            ordered_names.append(name.split()[1]+' '+name.split()[0])\n",
    "        elif len(name.split())==3:\n",
    "            name_c = name.split()[-1]+' '+name.split()[0]+' '+name.split()[1]\n",
    "            if name in ['martinez daniel felipe','lopez miguel angel','hagen carl fredrik','sanchez luis leon','jansen amund grondahl','florez miguel eduardo']:\n",
    "                name_c = name.split()[-2]+' '+name.split()[-1]+' '+name.split()[0]\n",
    "            ordered_names.append(name_c)\n",
    "        elif len(name.split())==4:\n",
    "            name_c = name.split()[-2]+' '+name.split()[-1]+' '+name.split()[0]+' '+name.split()[1]\n",
    "            if name in['de la cruz david','de la parte victor','van der poel mathieu','van der sande tosh']:\n",
    "                name_c = name.split()[-1]+' '+name.split()[0]+' '+name.split()[1]+' '+name.split()[2]\n",
    "            ordered_names.append(name_c)\n",
    "        else:\n",
    "            print(name)\n",
    "    return ordered_names\n",
    "wr_riders1 = straight_names(wr_riders)"
   ]
  },
  {
   "cell_type": "code",
   "execution_count": 85,
   "metadata": {},
   "outputs": [
    {
     "output_type": "execute_result",
     "data": {
      "text/plain": "71"
     },
     "metadata": {},
     "execution_count": 85
    }
   ],
   "source": [
    "ranked_in_tdf = []\n",
    "ranked_in_tdf.append([rider for rider in wr_riders1 if rider in tdf.Rider.str.lower().to_list()])\n",
    "ranked_in_tdf = ranked_in_tdf[0]\n",
    "len(ranked_in_tdf)"
   ]
  },
  {
   "cell_type": "code",
   "execution_count": 90,
   "metadata": {},
   "outputs": [
    {
     "output_type": "execute_result",
     "data": {
      "text/plain": "     Rank               Rider  Rank.1  Rider No.                       Team  \\\n0       1         SAM BENNETT       1         43  DECEUNINCK - QUICK - STEP   \n1       2          CALEB EWAN       2        151               LOTTO SOUDAL   \n2       3         PETER SAGAN       3         21           BORA - HANSGROHE   \n3       4        ELIA VIVIANI       4        128                    COFIDIS   \n4       5       MADS PEDERSEN       5        105           TREK - SEGAFREDO   \n..    ...                 ...     ...        ...                        ...   \n150   151         MIKEL NIEVE     151        168         MITCHELTON - SCOTT   \n152   153         NILS POLITT     153        177     ISRAEL START-UP NATION   \n154   155    DAVID DE LA CRUZ     155        133          UAE TEAM EMIRATES   \n159   160  JULIAN ALAPHILIPPE     160         41  DECEUNINCK - QUICK - STEP   \n163   164      DAVIDE FORMOLO     164        134          UAE TEAM EMIRATES   \n\n            Times             Gap         B  P  \n0    03h 35' 22''               -  B : 10''  -  \n1    03h 35' 22''               -   B : 6''  -  \n2    03h 35' 22''               -   B : 4''  -  \n3    03h 35' 22''               -         -  -  \n4    03h 35' 22''               -         -  -  \n..            ...             ...       ... ..  \n150  03h 40' 47''  + 00h 05' 25''         -  -  \n152  03h 43' 14''  + 00h 07' 52''         -  -  \n154  03h 45' 30''  + 00h 10' 08''         -  -  \n159  03h 46' 14''  + 00h 10' 52''         -  -  \n163  03h 52' 06''  + 00h 16' 44''         -  -  \n\n[71 rows x 9 columns]",
      "text/html": "<div>\n<style scoped>\n    .dataframe tbody tr th:only-of-type {\n        vertical-align: middle;\n    }\n\n    .dataframe tbody tr th {\n        vertical-align: top;\n    }\n\n    .dataframe thead th {\n        text-align: right;\n    }\n</style>\n<table border=\"1\" class=\"dataframe\">\n  <thead>\n    <tr style=\"text-align: right;\">\n      <th></th>\n      <th>Rank</th>\n      <th>Rider</th>\n      <th>Rank.1</th>\n      <th>Rider No.</th>\n      <th>Team</th>\n      <th>Times</th>\n      <th>Gap</th>\n      <th>B</th>\n      <th>P</th>\n    </tr>\n  </thead>\n  <tbody>\n    <tr>\n      <th>0</th>\n      <td>1</td>\n      <td>SAM BENNETT</td>\n      <td>1</td>\n      <td>43</td>\n      <td>DECEUNINCK - QUICK - STEP</td>\n      <td>03h 35' 22''</td>\n      <td>-</td>\n      <td>B : 10''</td>\n      <td>-</td>\n    </tr>\n    <tr>\n      <th>1</th>\n      <td>2</td>\n      <td>CALEB EWAN</td>\n      <td>2</td>\n      <td>151</td>\n      <td>LOTTO SOUDAL</td>\n      <td>03h 35' 22''</td>\n      <td>-</td>\n      <td>B : 6''</td>\n      <td>-</td>\n    </tr>\n    <tr>\n      <th>2</th>\n      <td>3</td>\n      <td>PETER SAGAN</td>\n      <td>3</td>\n      <td>21</td>\n      <td>BORA - HANSGROHE</td>\n      <td>03h 35' 22''</td>\n      <td>-</td>\n      <td>B : 4''</td>\n      <td>-</td>\n    </tr>\n    <tr>\n      <th>3</th>\n      <td>4</td>\n      <td>ELIA VIVIANI</td>\n      <td>4</td>\n      <td>128</td>\n      <td>COFIDIS</td>\n      <td>03h 35' 22''</td>\n      <td>-</td>\n      <td>-</td>\n      <td>-</td>\n    </tr>\n    <tr>\n      <th>4</th>\n      <td>5</td>\n      <td>MADS PEDERSEN</td>\n      <td>5</td>\n      <td>105</td>\n      <td>TREK - SEGAFREDO</td>\n      <td>03h 35' 22''</td>\n      <td>-</td>\n      <td>-</td>\n      <td>-</td>\n    </tr>\n    <tr>\n      <th>...</th>\n      <td>...</td>\n      <td>...</td>\n      <td>...</td>\n      <td>...</td>\n      <td>...</td>\n      <td>...</td>\n      <td>...</td>\n      <td>...</td>\n      <td>...</td>\n    </tr>\n    <tr>\n      <th>150</th>\n      <td>151</td>\n      <td>MIKEL NIEVE</td>\n      <td>151</td>\n      <td>168</td>\n      <td>MITCHELTON - SCOTT</td>\n      <td>03h 40' 47''</td>\n      <td>+ 00h 05' 25''</td>\n      <td>-</td>\n      <td>-</td>\n    </tr>\n    <tr>\n      <th>152</th>\n      <td>153</td>\n      <td>NILS POLITT</td>\n      <td>153</td>\n      <td>177</td>\n      <td>ISRAEL START-UP NATION</td>\n      <td>03h 43' 14''</td>\n      <td>+ 00h 07' 52''</td>\n      <td>-</td>\n      <td>-</td>\n    </tr>\n    <tr>\n      <th>154</th>\n      <td>155</td>\n      <td>DAVID DE LA CRUZ</td>\n      <td>155</td>\n      <td>133</td>\n      <td>UAE TEAM EMIRATES</td>\n      <td>03h 45' 30''</td>\n      <td>+ 00h 10' 08''</td>\n      <td>-</td>\n      <td>-</td>\n    </tr>\n    <tr>\n      <th>159</th>\n      <td>160</td>\n      <td>JULIAN ALAPHILIPPE</td>\n      <td>160</td>\n      <td>41</td>\n      <td>DECEUNINCK - QUICK - STEP</td>\n      <td>03h 46' 14''</td>\n      <td>+ 00h 10' 52''</td>\n      <td>-</td>\n      <td>-</td>\n    </tr>\n    <tr>\n      <th>163</th>\n      <td>164</td>\n      <td>DAVIDE FORMOLO</td>\n      <td>164</td>\n      <td>134</td>\n      <td>UAE TEAM EMIRATES</td>\n      <td>03h 52' 06''</td>\n      <td>+ 00h 16' 44''</td>\n      <td>-</td>\n      <td>-</td>\n    </tr>\n  </tbody>\n</table>\n<p>71 rows × 9 columns</p>\n</div>"
     },
     "metadata": {},
     "execution_count": 90
    }
   ],
   "source": [
    "tdf[tdf.Rider.str.lower().isin(ranked_in_tdf)]"
   ]
  },
  {
   "cell_type": "code",
   "execution_count": 89,
   "metadata": {},
   "outputs": [
    {
     "output_type": "execute_result",
     "data": {
      "text/plain": "0       True\n1       True\n2       True\n3       True\n4       True\n       ...  \n159     True\n160    False\n161    False\n162    False\n163     True\nName: Rider, Length: 164, dtype: bool"
     },
     "metadata": {},
     "execution_count": 89
    }
   ],
   "source": []
  },
  {
   "cell_type": "code",
   "execution_count": null,
   "metadata": {},
   "outputs": [],
   "source": []
  }
 ]
}