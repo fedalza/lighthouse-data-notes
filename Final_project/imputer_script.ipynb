{
 "metadata": {
  "language_info": {
   "codemirror_mode": {
    "name": "ipython",
    "version": 3
   },
   "file_extension": ".py",
   "mimetype": "text/x-python",
   "name": "python",
   "nbconvert_exporter": "python",
   "pygments_lexer": "ipython3",
   "version": "3.8.5-final"
  },
  "orig_nbformat": 2,
  "kernelspec": {
   "name": "python_defaultSpec_1600969367709",
   "display_name": "Python 3.8.5 64-bit"
  }
 },
 "nbformat": 4,
 "nbformat_minor": 2,
 "cells": [
  {
   "cell_type": "code",
   "execution_count": 2,
   "metadata": {},
   "outputs": [],
   "source": [
    "import pandas as pd"
   ]
  },
  {
   "cell_type": "code",
   "execution_count": 43,
   "metadata": {},
   "outputs": [
    {
     "output_type": "execute_result",
     "data": {
      "text/plain": "                  Rider  Age                     Team  Rnk_pcs_ind  \\\n0    kristoff alexander   33        UAE-Team Emirates         28.0   \n1         pedersen mads   24         Trek - Segafredo         26.0   \n2              bol cees   25              Team Sunweb        141.0   \n3           bennett sam   29  Deceuninck - Quick Step         12.0   \n4           sagan peter   30         BORA - hansgrohe         19.0   \n..                  ...  ...                      ...          ...   \n171       sivakov pavel   23         INEOS Grenadiers         57.0   \n172          cras steff   24             Lotto Soudal        502.0   \n173      ledanois kevin   27        Team Arkéa Samsic        420.0   \n174        valls rafael   33        Bahrain - McLaren        807.0   \n175      degenkolb john   31             Lotto Soudal        147.0   \n\n     Diff._pcs_ind  Pnts_pcs_ind  Rnk_pcs_climb  Diff._pcs_climb  \\\n0            -20.0         611.0            NaN              NaN   \n1             72.0         625.0          396.0            128.0   \n2            -39.0         237.0          687.0           -365.0   \n3              6.0         828.0          128.0            301.0   \n4             -6.0         684.0          116.0            -73.0   \n..             ...           ...            ...              ...   \n171          -19.0         431.0           45.0              5.0   \n172           97.0          58.0          225.0            169.0   \n173          148.0          75.0            NaN              NaN   \n174         -143.0          24.0          354.0            151.0   \n175          -55.0         225.0          383.0           -200.0   \n\n     Pnts_pcs_climb  Rnk_pcs_sprint  ...  Rnk_pcs_gc  Diff._pcs_gc  \\\n0               NaN            17.0  ...       111.0         190.0   \n1              10.0            30.0  ...       970.0        -307.0   \n2               2.0            37.0  ...       246.0         432.0   \n3              58.0             2.0  ...       582.0          49.0   \n4              68.0             8.0  ...       524.0        -138.0   \n..              ...             ...  ...         ...           ...   \n171           225.0             NaN  ...        10.0         247.0   \n172            24.0             NaN  ...       295.0         -58.0   \n173             NaN           343.0  ...       607.0         -20.0   \n174            12.0             NaN  ...         NaN           NaN   \n175            10.0            54.0  ...       546.0          12.0   \n\n     Pnts_pcs_gc  Rnk_pcs_tt  Diff._pcs_tt  Pnts_pcs_tt  Rnk_pcs_team  \\\n0          200.0         NaN           NaN          NaN           6.0   \n1           13.0         NaN           NaN          NaN          11.0   \n2          101.0       462.0         -97.0         10.0          15.0   \n3           36.0         NaN           NaN          NaN           1.0   \n4           43.0         NaN           NaN          NaN           3.0   \n..           ...         ...           ...          ...           ...   \n171        687.0         NaN           NaN          NaN           4.0   \n172         84.0         NaN           NaN          NaN           8.0   \n173         35.0         NaN           NaN          NaN          25.0   \n174          NaN         NaN           NaN          NaN          12.0   \n175         41.0         NaN           NaN          NaN           8.0   \n\n     Diff._pcs_team  Team_class Pnts_pcs_team  \n0                 -          WT        6932.0  \n1                 -          WT        4949.0  \n2                 -          WT        4510.0  \n3                 -          WT        9229.0  \n4                 -          WT        8117.0  \n..              ...         ...           ...  \n171               -          WT        7757.0  \n172               -          WT        6013.0  \n173               -         PCT        2229.0  \n174               -          WT        4948.0  \n175               -          WT        6013.0  \n\n[176 rows x 22 columns]",
      "text/html": "<div>\n<style scoped>\n    .dataframe tbody tr th:only-of-type {\n        vertical-align: middle;\n    }\n\n    .dataframe tbody tr th {\n        vertical-align: top;\n    }\n\n    .dataframe thead th {\n        text-align: right;\n    }\n</style>\n<table border=\"1\" class=\"dataframe\">\n  <thead>\n    <tr style=\"text-align: right;\">\n      <th></th>\n      <th>Rider</th>\n      <th>Age</th>\n      <th>Team</th>\n      <th>Rnk_pcs_ind</th>\n      <th>Diff._pcs_ind</th>\n      <th>Pnts_pcs_ind</th>\n      <th>Rnk_pcs_climb</th>\n      <th>Diff._pcs_climb</th>\n      <th>Pnts_pcs_climb</th>\n      <th>Rnk_pcs_sprint</th>\n      <th>...</th>\n      <th>Rnk_pcs_gc</th>\n      <th>Diff._pcs_gc</th>\n      <th>Pnts_pcs_gc</th>\n      <th>Rnk_pcs_tt</th>\n      <th>Diff._pcs_tt</th>\n      <th>Pnts_pcs_tt</th>\n      <th>Rnk_pcs_team</th>\n      <th>Diff._pcs_team</th>\n      <th>Team_class</th>\n      <th>Pnts_pcs_team</th>\n    </tr>\n  </thead>\n  <tbody>\n    <tr>\n      <th>0</th>\n      <td>kristoff alexander</td>\n      <td>33</td>\n      <td>UAE-Team Emirates</td>\n      <td>28.0</td>\n      <td>-20.0</td>\n      <td>611.0</td>\n      <td>NaN</td>\n      <td>NaN</td>\n      <td>NaN</td>\n      <td>17.0</td>\n      <td>...</td>\n      <td>111.0</td>\n      <td>190.0</td>\n      <td>200.0</td>\n      <td>NaN</td>\n      <td>NaN</td>\n      <td>NaN</td>\n      <td>6.0</td>\n      <td>-</td>\n      <td>WT</td>\n      <td>6932.0</td>\n    </tr>\n    <tr>\n      <th>1</th>\n      <td>pedersen mads</td>\n      <td>24</td>\n      <td>Trek - Segafredo</td>\n      <td>26.0</td>\n      <td>72.0</td>\n      <td>625.0</td>\n      <td>396.0</td>\n      <td>128.0</td>\n      <td>10.0</td>\n      <td>30.0</td>\n      <td>...</td>\n      <td>970.0</td>\n      <td>-307.0</td>\n      <td>13.0</td>\n      <td>NaN</td>\n      <td>NaN</td>\n      <td>NaN</td>\n      <td>11.0</td>\n      <td>-</td>\n      <td>WT</td>\n      <td>4949.0</td>\n    </tr>\n    <tr>\n      <th>2</th>\n      <td>bol cees</td>\n      <td>25</td>\n      <td>Team Sunweb</td>\n      <td>141.0</td>\n      <td>-39.0</td>\n      <td>237.0</td>\n      <td>687.0</td>\n      <td>-365.0</td>\n      <td>2.0</td>\n      <td>37.0</td>\n      <td>...</td>\n      <td>246.0</td>\n      <td>432.0</td>\n      <td>101.0</td>\n      <td>462.0</td>\n      <td>-97.0</td>\n      <td>10.0</td>\n      <td>15.0</td>\n      <td>-</td>\n      <td>WT</td>\n      <td>4510.0</td>\n    </tr>\n    <tr>\n      <th>3</th>\n      <td>bennett sam</td>\n      <td>29</td>\n      <td>Deceuninck - Quick Step</td>\n      <td>12.0</td>\n      <td>6.0</td>\n      <td>828.0</td>\n      <td>128.0</td>\n      <td>301.0</td>\n      <td>58.0</td>\n      <td>2.0</td>\n      <td>...</td>\n      <td>582.0</td>\n      <td>49.0</td>\n      <td>36.0</td>\n      <td>NaN</td>\n      <td>NaN</td>\n      <td>NaN</td>\n      <td>1.0</td>\n      <td>-</td>\n      <td>WT</td>\n      <td>9229.0</td>\n    </tr>\n    <tr>\n      <th>4</th>\n      <td>sagan peter</td>\n      <td>30</td>\n      <td>BORA - hansgrohe</td>\n      <td>19.0</td>\n      <td>-6.0</td>\n      <td>684.0</td>\n      <td>116.0</td>\n      <td>-73.0</td>\n      <td>68.0</td>\n      <td>8.0</td>\n      <td>...</td>\n      <td>524.0</td>\n      <td>-138.0</td>\n      <td>43.0</td>\n      <td>NaN</td>\n      <td>NaN</td>\n      <td>NaN</td>\n      <td>3.0</td>\n      <td>-</td>\n      <td>WT</td>\n      <td>8117.0</td>\n    </tr>\n    <tr>\n      <th>...</th>\n      <td>...</td>\n      <td>...</td>\n      <td>...</td>\n      <td>...</td>\n      <td>...</td>\n      <td>...</td>\n      <td>...</td>\n      <td>...</td>\n      <td>...</td>\n      <td>...</td>\n      <td>...</td>\n      <td>...</td>\n      <td>...</td>\n      <td>...</td>\n      <td>...</td>\n      <td>...</td>\n      <td>...</td>\n      <td>...</td>\n      <td>...</td>\n      <td>...</td>\n      <td>...</td>\n    </tr>\n    <tr>\n      <th>171</th>\n      <td>sivakov pavel</td>\n      <td>23</td>\n      <td>INEOS Grenadiers</td>\n      <td>57.0</td>\n      <td>-19.0</td>\n      <td>431.0</td>\n      <td>45.0</td>\n      <td>5.0</td>\n      <td>225.0</td>\n      <td>NaN</td>\n      <td>...</td>\n      <td>10.0</td>\n      <td>247.0</td>\n      <td>687.0</td>\n      <td>NaN</td>\n      <td>NaN</td>\n      <td>NaN</td>\n      <td>4.0</td>\n      <td>-</td>\n      <td>WT</td>\n      <td>7757.0</td>\n    </tr>\n    <tr>\n      <th>172</th>\n      <td>cras steff</td>\n      <td>24</td>\n      <td>Lotto Soudal</td>\n      <td>502.0</td>\n      <td>97.0</td>\n      <td>58.0</td>\n      <td>225.0</td>\n      <td>169.0</td>\n      <td>24.0</td>\n      <td>NaN</td>\n      <td>...</td>\n      <td>295.0</td>\n      <td>-58.0</td>\n      <td>84.0</td>\n      <td>NaN</td>\n      <td>NaN</td>\n      <td>NaN</td>\n      <td>8.0</td>\n      <td>-</td>\n      <td>WT</td>\n      <td>6013.0</td>\n    </tr>\n    <tr>\n      <th>173</th>\n      <td>ledanois kevin</td>\n      <td>27</td>\n      <td>Team Arkéa Samsic</td>\n      <td>420.0</td>\n      <td>148.0</td>\n      <td>75.0</td>\n      <td>NaN</td>\n      <td>NaN</td>\n      <td>NaN</td>\n      <td>343.0</td>\n      <td>...</td>\n      <td>607.0</td>\n      <td>-20.0</td>\n      <td>35.0</td>\n      <td>NaN</td>\n      <td>NaN</td>\n      <td>NaN</td>\n      <td>25.0</td>\n      <td>-</td>\n      <td>PCT</td>\n      <td>2229.0</td>\n    </tr>\n    <tr>\n      <th>174</th>\n      <td>valls rafael</td>\n      <td>33</td>\n      <td>Bahrain - McLaren</td>\n      <td>807.0</td>\n      <td>-143.0</td>\n      <td>24.0</td>\n      <td>354.0</td>\n      <td>151.0</td>\n      <td>12.0</td>\n      <td>NaN</td>\n      <td>...</td>\n      <td>NaN</td>\n      <td>NaN</td>\n      <td>NaN</td>\n      <td>NaN</td>\n      <td>NaN</td>\n      <td>NaN</td>\n      <td>12.0</td>\n      <td>-</td>\n      <td>WT</td>\n      <td>4948.0</td>\n    </tr>\n    <tr>\n      <th>175</th>\n      <td>degenkolb john</td>\n      <td>31</td>\n      <td>Lotto Soudal</td>\n      <td>147.0</td>\n      <td>-55.0</td>\n      <td>225.0</td>\n      <td>383.0</td>\n      <td>-200.0</td>\n      <td>10.0</td>\n      <td>54.0</td>\n      <td>...</td>\n      <td>546.0</td>\n      <td>12.0</td>\n      <td>41.0</td>\n      <td>NaN</td>\n      <td>NaN</td>\n      <td>NaN</td>\n      <td>8.0</td>\n      <td>-</td>\n      <td>WT</td>\n      <td>6013.0</td>\n    </tr>\n  </tbody>\n</table>\n<p>176 rows × 22 columns</p>\n</div>"
     },
     "metadata": {},
     "execution_count": 43
    }
   ],
   "source": [
    "riders_profile = pd.read_csv('riders_profile.csv',index_col=0)\n",
    "riders_profile"
   ]
  },
  {
   "cell_type": "code",
   "execution_count": 44,
   "metadata": {},
   "outputs": [],
   "source": [
    "Rnk_pcs_indmax = max(riders_profile['Rnk_pcs_ind'])\n",
    "idx = riders_profile[riders_profile['Rnk_pcs_ind'].isna()].index\n",
    "riders_profile.loc[idx,'Rnk_pcs_ind'] = Rnk_pcs_indmax + 1\n",
    "riders_profile.loc[idx,['Diff._pcs_ind','Pnts_pcs_ind']] = 0"
   ]
  },
  {
   "cell_type": "code",
   "execution_count": 45,
   "metadata": {},
   "outputs": [],
   "source": [
    "Rnk_pcs_clmbmax = max(riders_profile['Rnk_pcs_climb'].dropna())\n",
    "idx = riders_profile[riders_profile['Rnk_pcs_climb'].isna()].index\n",
    "riders_profile.loc[idx,'Rnk_pcs_climb'] = Rnk_pcs_clmbmax + 1\n",
    "riders_profile.loc[idx,['Diff._pcs_climb','Pnts_pcs_climb']] = 0"
   ]
  },
  {
   "cell_type": "code",
   "execution_count": 46,
   "metadata": {},
   "outputs": [],
   "source": [
    "Rnk_pcs_sprmax = max(riders_profile['Rnk_pcs_sprint'].dropna())\n",
    "idx = riders_profile[riders_profile['Rnk_pcs_sprint'].isna()].index\n",
    "riders_profile.loc[idx,'Rnk_pcs_sprint'] = Rnk_pcs_sprmax + 1\n",
    "riders_profile.loc[idx,['Diff._pcs_sprint','Pnts_pcs_sprint']] = 0"
   ]
  },
  {
   "cell_type": "code",
   "execution_count": 47,
   "metadata": {},
   "outputs": [],
   "source": [
    "Rnk_pcs_gcmax = max(riders_profile['Rnk_pcs_gc'].dropna())\n",
    "idx = riders_profile[riders_profile['Rnk_pcs_gc'].isna()].index\n",
    "riders_profile.loc[idx,'Rnk_pcs_gc'] = Rnk_pcs_gcmax + 1\n",
    "riders_profile.loc[idx,['Diff._pcs_gc','Pnts_pcs_gc']] = 0"
   ]
  },
  {
   "cell_type": "code",
   "execution_count": 48,
   "metadata": {},
   "outputs": [],
   "source": [
    "Rnk_pcs_ttmax = max(riders_profile['Rnk_pcs_tt'].dropna())\n",
    "idx = riders_profile[riders_profile['Rnk_pcs_tt'].isna()].index\n",
    "riders_profile.loc[idx,'Rnk_pcs_tt'] = Rnk_pcs_ttmax + 1\n",
    "riders_profile.loc[idx,['Diff._pcs_tt','Pnts_pcs_tt']] = 0"
   ]
  },
  {
   "cell_type": "code",
   "execution_count": 49,
   "metadata": {},
   "outputs": [
    {
     "output_type": "execute_result",
     "data": {
      "text/plain": "Empty DataFrame\nColumns: [Rider, Age, Team, Rnk_pcs_ind, Diff._pcs_ind, Pnts_pcs_ind, Rnk_pcs_climb, Diff._pcs_climb, Pnts_pcs_climb, Rnk_pcs_sprint, Diff._pcs_sprint, Pnts_pcs_sprint, Rnk_pcs_gc, Diff._pcs_gc, Pnts_pcs_gc, Rnk_pcs_tt, Diff._pcs_tt, Pnts_pcs_tt, Rnk_pcs_team, Diff._pcs_team, Team_class, Pnts_pcs_team]\nIndex: []\n\n[0 rows x 22 columns]",
      "text/html": "<div>\n<style scoped>\n    .dataframe tbody tr th:only-of-type {\n        vertical-align: middle;\n    }\n\n    .dataframe tbody tr th {\n        vertical-align: top;\n    }\n\n    .dataframe thead th {\n        text-align: right;\n    }\n</style>\n<table border=\"1\" class=\"dataframe\">\n  <thead>\n    <tr style=\"text-align: right;\">\n      <th></th>\n      <th>Rider</th>\n      <th>Age</th>\n      <th>Team</th>\n      <th>Rnk_pcs_ind</th>\n      <th>Diff._pcs_ind</th>\n      <th>Pnts_pcs_ind</th>\n      <th>Rnk_pcs_climb</th>\n      <th>Diff._pcs_climb</th>\n      <th>Pnts_pcs_climb</th>\n      <th>Rnk_pcs_sprint</th>\n      <th>...</th>\n      <th>Rnk_pcs_gc</th>\n      <th>Diff._pcs_gc</th>\n      <th>Pnts_pcs_gc</th>\n      <th>Rnk_pcs_tt</th>\n      <th>Diff._pcs_tt</th>\n      <th>Pnts_pcs_tt</th>\n      <th>Rnk_pcs_team</th>\n      <th>Diff._pcs_team</th>\n      <th>Team_class</th>\n      <th>Pnts_pcs_team</th>\n    </tr>\n  </thead>\n  <tbody>\n  </tbody>\n</table>\n<p>0 rows × 22 columns</p>\n</div>"
     },
     "metadata": {},
     "execution_count": 49
    }
   ],
   "source": [
    "riders_profile[riders_profile['Rnk_pcs_tt'].isna()]"
   ]
  },
  {
   "cell_type": "code",
   "execution_count": 51,
   "metadata": {},
   "outputs": [
    {
     "output_type": "execute_result",
     "data": {
      "text/plain": "Rider               0\nAge                 0\nTeam                0\nRnk_pcs_ind         0\nDiff._pcs_ind       0\nPnts_pcs_ind        0\nRnk_pcs_climb       0\nDiff._pcs_climb     0\nPnts_pcs_climb      0\nRnk_pcs_sprint      0\nDiff._pcs_sprint    0\nPnts_pcs_sprint     0\nRnk_pcs_gc          0\nDiff._pcs_gc        0\nPnts_pcs_gc         0\nRnk_pcs_tt          0\nDiff._pcs_tt        0\nPnts_pcs_tt         0\nRnk_pcs_team        0\nDiff._pcs_team      0\nTeam_class          0\nPnts_pcs_team       0\ndtype: int64"
     },
     "metadata": {},
     "execution_count": 51
    }
   ],
   "source": [
    "riders_profile.isna().sum()"
   ]
  },
  {
   "cell_type": "code",
   "execution_count": null,
   "metadata": {},
   "outputs": [],
   "source": []
  }
 ]
}