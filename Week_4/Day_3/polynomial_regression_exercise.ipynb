{
 "cells": [
  {
   "cell_type": "markdown",
   "metadata": {},
   "source": [
    "## Regression exercise\n",
    "#### ## Welcome in the part 1!!\n",
    "\n",
    "We are going to work with randomly generalize data and trying to fit different polynomial regressions to it and explore how our loss function behaves. We will use the formulas we introduced in theoretical sections and we will create linear regression model from scratch."
   ]
  },
  {
   "cell_type": "markdown",
   "metadata": {},
   "source": [
    "#### Task 1\n",
    "\n",
    "Write a function psi(x,m) defined as $\\psi(x)=[1, x, x ^2, ..., x^m]$"
   ]
  },
  {
   "cell_type": "code",
   "execution_count": 3,
   "metadata": {},
   "outputs": [],
   "source": [
    "import numpy as np"
   ]
  },
  {
   "cell_type": "code",
   "execution_count": 202,
   "metadata": {},
   "outputs": [],
   "source": [
    "def psi(X,m):\n",
    "    # X must be a row vector\n",
    "    psi_func = np.empty((len(X),m+1))\n",
    "    for i in range(len(X)):\n",
    "        for j in range(m+1):\n",
    "            psi_func[i,j] = X[i]**j\n",
    "    return psi_func.T"
   ]
  },
  {
   "cell_type": "code",
   "execution_count": 113,
   "metadata": {},
   "outputs": [
    {
     "name": "stdout",
     "output_type": "stream",
     "text": [
      "[  0.23856845 -10.468024    -3.2114385    0.4441917    1.27760467\n",
      "  -0.56808552   0.39483207   1.84471092 -15.9260892    0.41794216\n",
      "  -8.5694703   19.04116869  -0.39615292   3.53182794   0.66943113\n",
      " -19.24593348  -6.16697291   5.02356006 -18.25477118  -0.29496611\n",
      "  -0.45069962   6.94365755   8.7692387    6.94365755 -13.4020272\n",
      "   0.34969468   0.43496439  -6.16697291   0.60097686   5.21472129]\n"
     ]
    },
    {
     "data": {
      "text/plain": [
       "(2, 30)"
      ]
     },
     "execution_count": 113,
     "metadata": {},
     "output_type": "execute_result"
    }
   ],
   "source": [
    "print(xs)\n",
    "psi(xs,2).shape"
   ]
  },
  {
   "cell_type": "markdown",
   "metadata": {},
   "source": [
    "#### Task 2\n",
    "\n",
    "Write a function $h(x,\\alpha)$ defined as $h(x,\\alpha)=\\alpha^T\\psi(x)$"
   ]
  },
  {
   "cell_type": "code",
   "execution_count": 141,
   "metadata": {},
   "outputs": [],
   "source": [
    "def h(X,alpha,m):\n",
    "    return alpha.T.dot(psi(X,m))"
   ]
  },
  {
   "cell_type": "code",
   "execution_count": null,
   "metadata": {},
   "outputs": [],
   "source": []
  },
  {
   "cell_type": "markdown",
   "metadata": {},
   "source": [
    "#### Task 3\n",
    "Create a random 3rd order polynomial (we call it p3)"
   ]
  },
  {
   "cell_type": "code",
   "execution_count": 79,
   "metadata": {},
   "outputs": [],
   "source": [
    "x = np.linspace(-20,20,1000)\n",
    "b0 = np.random.randn()\n",
    "b1 = np.random.randn()\n",
    "b2 = np.random.randn()\n",
    "b3 = np.random.randn()\n",
    "p3 = b0+b1*x+b2*x**2+b3*x**3"
   ]
  },
  {
   "cell_type": "code",
   "execution_count": 80,
   "metadata": {},
   "outputs": [
    {
     "data": {
      "text/plain": [
       "<matplotlib.collections.PathCollection at 0x1b0b7a65b50>"
      ]
     },
     "execution_count": 80,
     "metadata": {},
     "output_type": "execute_result"
    },
    {
     "data": {
      "image/png": "[encoded data removed]",
      "text/plain": [
       "<Figure size 432x288 with 1 Axes>"
      ]
     },
     "metadata": {
      "needs_background": "light"
     },
     "output_type": "display_data"
    }
   ],
   "source": [
    "import matplotlib.pyplot as plt\n",
    "\n",
    "plt.scatter(x,p3)"
   ]
  },
  {
   "cell_type": "markdown",
   "metadata": {},
   "source": [
    "#### Task 4\n",
    "Choose an interval [a,b], on which the polynomial is S-shaped."
   ]
  },
  {
   "cell_type": "code",
   "execution_count": 149,
   "metadata": {},
   "outputs": [],
   "source": [
    "a = -5\n",
    "b = 5"
   ]
  },
  {
   "cell_type": "code",
   "execution_count": null,
   "metadata": {},
   "outputs": [],
   "source": []
  },
  {
   "cell_type": "markdown",
   "metadata": {},
   "source": [
    "#### Task 5\n",
    "Sample 30 random values in [a,b] and stored them in `xs`."
   ]
  },
  {
   "cell_type": "code",
   "execution_count": 150,
   "metadata": {},
   "outputs": [
    {
     "data": {
      "text/plain": [
       "array([-1.07411156,  1.27760467,  3.39007814,  1.93025124, -3.53713351,\n",
       "       -2.48024139, -0.20380689,  0.1231864 , -0.83818843, -2.90503288,\n",
       "        0.2225824 , -0.34426748, -2.75887064, -0.08451909,  4.6570258 ,\n",
       "        3.1200513 , -1.97560269,  0.43496439,  1.6838614 , -2.90503288,\n",
       "        0.62226267,  0.29210825,  3.67817156,  0.32349955,  4.6570258 ,\n",
       "       -0.45069962, -0.29496611,  0.58112043,  0.62226267, -0.29496611])"
      ]
     },
     "execution_count": 150,
     "metadata": {},
     "output_type": "execute_result"
    }
   ],
   "source": [
    "xs = np.random.choice(p3[(p3>=a) & (p3<=b)],30)\n",
    "xs"
   ]
  },
  {
   "cell_type": "markdown",
   "metadata": {},
   "source": [
    "#### Task 6\n",
    "For each x in xs, compute p3(x) and store them as `ys`."
   ]
  },
  {
   "cell_type": "code",
   "execution_count": 151,
   "metadata": {},
   "outputs": [
    {
     "data": {
      "text/plain": [
       "array([ 4.68030655e-01, -1.47742294e+00, -1.38706489e+01, -3.65717276e+00,\n",
       "        5.58051531e+00,  1.88226456e+00,  2.74967604e-01,  1.33000018e-01,\n",
       "        4.13403034e-01,  2.99834337e+00,  7.13176911e-02,  3.14703310e-01,\n",
       "        2.56450474e+00,  2.32484786e-01, -3.10539466e+01, -1.13067214e+01,\n",
       "        1.05653192e+00, -9.79051350e-02, -2.69522940e+00,  2.99834337e+00,\n",
       "       -2.96938147e-01,  2.18703023e-02, -1.70001199e+01, -2.28240926e-03,\n",
       "       -3.10539466e+01,  3.39331302e-01,  3.01833883e-01, -2.48786232e-01,\n",
       "       -2.96938147e-01,  3.01833883e-01])"
      ]
     },
     "execution_count": 151,
     "metadata": {},
     "output_type": "execute_result"
    }
   ],
   "source": [
    "ys = b0+b1*xs+b2*xs**2+b3*xs**3\n",
    "ys"
   ]
  },
  {
   "cell_type": "code",
   "execution_count": null,
   "metadata": {},
   "outputs": [],
   "source": []
  },
  {
   "cell_type": "markdown",
   "metadata": {},
   "source": [
    "#### Task 7:\n",
    "Plot ys against xs on [a,b]. Does it look like a third order polynomial?"
   ]
  },
  {
   "cell_type": "code",
   "execution_count": 152,
   "metadata": {},
   "outputs": [
    {
     "data": {
      "text/plain": [
       "<matplotlib.collections.PathCollection at 0x1b0b814d9d0>"
      ]
     },
     "execution_count": 152,
     "metadata": {},
     "output_type": "execute_result"
    },
    {
     "data": {
      "image/png": "[encoded data removed]",
      "text/plain": [
       "<Figure size 432x288 with 1 Axes>"
      ]
     },
     "metadata": {
      "needs_background": "light"
     },
     "output_type": "display_data"
    }
   ],
   "source": [
    "plt.scatter(xs,ys)"
   ]
  },
  {
   "cell_type": "code",
   "execution_count": null,
   "metadata": {},
   "outputs": [],
   "source": []
  },
  {
   "cell_type": "markdown",
   "metadata": {},
   "source": [
    "We will try to fit the data by a polynomial of order m=2. \n",
    "\n",
    "#### Task 8:\n",
    "\n",
    "Using xs and psi, create the matrix X defined as \n",
    "\n",
    "<img src=\"matrixX.png\">"
   ]
  },
  {
   "cell_type": "code",
   "execution_count": 214,
   "metadata": {},
   "outputs": [],
   "source": [
    "X = psi(xs,2)"
   ]
  },
  {
   "cell_type": "code",
   "execution_count": 215,
   "metadata": {},
   "outputs": [
    {
     "data": {
      "text/plain": [
       "(3, 30)"
      ]
     },
     "execution_count": 215,
     "metadata": {},
     "output_type": "execute_result"
    }
   ],
   "source": [
    "X.shape"
   ]
  },
  {
   "cell_type": "markdown",
   "metadata": {},
   "source": [
    "#### Task 9\n",
    "Compute the optimal $\\alpha$ using the expression $\\alpha = (XX^T)^+Xy$ where $X^T$ is the pseudoinverse."
   ]
  },
  {
   "cell_type": "code",
   "execution_count": 216,
   "metadata": {},
   "outputs": [
    {
     "data": {
      "text/plain": [
       "(3,)"
      ]
     },
     "execution_count": 216,
     "metadata": {},
     "output_type": "execute_result"
    }
   ],
   "source": [
    "alpha = np.linalg.pinv(X.dot(X.T)).dot(X).dot(ys)\n",
    "alpha.shape"
   ]
  },
  {
   "cell_type": "code",
   "execution_count": 206,
   "metadata": {},
   "outputs": [
    {
     "data": {
      "text/plain": [
       "(3, 30)"
      ]
     },
     "execution_count": 206,
     "metadata": {},
     "output_type": "execute_result"
    }
   ],
   "source": [
    "np.linalg.pinv(X.dot(X.T)).dot(X).shape"
   ]
  },
  {
   "cell_type": "markdown",
   "metadata": {},
   "source": [
    "#### Task 10\n",
    "Plot the data and the computed polynomial. Does it fit?"
   ]
  },
  {
   "cell_type": "code",
   "execution_count": 207,
   "metadata": {},
   "outputs": [
    {
     "data": {
      "image/png": "[encoded data removed]",
      "text/plain": [
       "<Figure size 432x288 with 1 Axes>"
      ]
     },
     "metadata": {
      "needs_background": "light"
     },
     "output_type": "display_data"
    }
   ],
   "source": [
    "fig = plt.figure()\n",
    "ax1 = fig.add_subplot(111)\n",
    "xplt = np.linspace(min(xs),max(xs),100)\n",
    "yplt = b0+b1*xplt+b2*xplt**2+b3*xplt**3\n",
    "ax1.scatter(xplt, yplt, s=10, c='b', marker=\"s\")\n",
    "ax1.scatter(xplt,h(xplt,alpha,2), s=10, c='r', marker=\"o\")\n",
    "plt.show()"
   ]
  },
  {
   "cell_type": "markdown",
   "metadata": {},
   "source": [
    "#### Task 11\n",
    "Repeat the process for m=3,…,10. What do you observe?"
   ]
  },
  {
   "cell_type": "code",
   "execution_count": 208,
   "metadata": {},
   "outputs": [
    {
     "data": {
      "image/png": "[encoded data removed]",
      "text/plain": [
       "<Figure size 432x288 with 1 Axes>"
      ]
     },
     "metadata": {
      "needs_background": "light"
     },
     "output_type": "display_data"
    }
   ],
   "source": [
    "X = psi(xs,3)\n",
    "alpha = np.linalg.pinv(X.dot(X.T)).dot(X).dot(ys)\n",
    "fig = plt.figure()\n",
    "ax1 = fig.add_subplot(111)\n",
    "xplt = np.linspace(min(xs),max(xs),100)\n",
    "yplt = b0+b1*xplt+b2*xplt**2+b3*xplt**3\n",
    "ax1.scatter(xplt, yplt, s=10, c='b', marker=\"s\")\n",
    "ax1.scatter(xplt,h(xplt,alpha,3), s=10, c='r', marker=\"o\")\n",
    "plt.show()"
   ]
  },
  {
   "cell_type": "code",
   "execution_count": null,
   "metadata": {},
   "outputs": [],
   "source": []
  },
  {
   "cell_type": "markdown",
   "metadata": {},
   "source": [
    "#### Task 12\n",
    "Plot the value of the loss (defined as $ l(\\alpha^Tx, y) = (\\alpha^Tx - y)^2 $  ) for m=2,…,10. What do you observe? Could you tell the optimal m from the plot?"
   ]
  },
  {
   "cell_type": "code",
   "execution_count": 209,
   "metadata": {},
   "outputs": [],
   "source": [
    "loss = []\n",
    "order_m = []\n",
    "for i in range(2,11):\n",
    "    X = psi(xs,i)\n",
    "    alpha = np.linalg.pinv(X.dot(X.T)).dot(X).dot(ys)\n",
    "    loss.append(sum((alpha.T.dot(X)-ys)**2))\n",
    "    order_m.append(i)"
   ]
  },
  {
   "cell_type": "code",
   "execution_count": 210,
   "metadata": {},
   "outputs": [
    {
     "data": {
      "text/plain": [
       "<matplotlib.collections.PathCollection at 0x1b0b81a5760>"
      ]
     },
     "execution_count": 210,
     "metadata": {},
     "output_type": "execute_result"
    },
    {
     "data": {
      "image/png": "[encoded data removed]",
      "text/plain": [
       "<Figure size 432x288 with 1 Axes>"
      ]
     },
     "metadata": {
      "needs_background": "light"
     },
     "output_type": "display_data"
    }
   ],
   "source": [
    "plt.scatter(order_m,loss)"
   ]
  },
  {
   "cell_type": "code",
   "execution_count": 213,
   "metadata": {},
   "outputs": [
    {
     "data": {
      "image/png": "[encoded data removed]",
      "text/plain": [
       "<Figure size 432x288 with 1 Axes>"
      ]
     },
     "metadata": {
      "needs_background": "light"
     },
     "output_type": "display_data"
    }
   ],
   "source": [
    "j=2\n",
    "X = psi(xs,j)\n",
    "alpha = np.linalg.pinv(X.dot(X.T)).dot(X).dot(ys)\n",
    "fig = plt.figure()\n",
    "ax1 = fig.add_subplot(111)\n",
    "xplt = np.linspace(min(xs),max(xs),100)\n",
    "yplt = b0+b1*xplt+b2*xplt**2+b3*xplt**3\n",
    "ax1.scatter(xplt, yplt, s=10, c='b', marker=\"s\")\n",
    "ax1.scatter(xplt,h(xplt,alpha,j), s=10, c='r', marker=\"o\")\n",
    "mymodel = np.poly1d(np.polyfit(xs, ys, j))\n",
    "ax1.scatter(xplt,mymodel(xplt), s=10, c='g', marker=\"x\")\n",
    "\n",
    "plt.show()"
   ]
  },
  {
   "cell_type": "code",
   "execution_count": null,
   "metadata": {},
   "outputs": [],
   "source": []
  }
 ],
 "metadata": {
  "kernelspec": {
   "display_name": "Python 3",
   "language": "python",
   "name": "python3"
  },
  "language_info": {
   "codemirror_mode": {
    "name": "ipython",
    "version": 3
   },
   "file_extension": ".py",
   "mimetype": "text/x-python",
   "name": "python",
   "nbconvert_exporter": "python",
   "pygments_lexer": "ipython3",
   "version": "3.8.5"
  }
 },
 "nbformat": 4,
 "nbformat_minor": 4
}
