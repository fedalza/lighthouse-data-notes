{
 "cells": [
  {
   "cell_type": "markdown",
   "metadata": {},
   "source": [
    "# Optimization exercise"
   ]
  },
  {
   "cell_type": "markdown",
   "metadata": {},
   "source": [
    "## Goal: Train the 2nd order polynomial predictor using both gradient descent and stochastic gradient descent. Optimize the stepsizes and compare against scikit-learn implementation"
   ]
  },
  {
   "cell_type": "markdown",
   "metadata": {},
   "source": [
    "1. Download data from https://drive.google.com/file/d/0Bz9_0VdXvv9bUUNlUTVrMF9VcVU/view?usp=sharing.\n",
    "2. Create a function psi(x), which transforms features AST (assists), REB (rebounds) and STL (steals) into 2nd order polynomial features (add each feature squared and each pair of features multiplied with every other)\n",
    "3. Create a transformed data matrix X, where each x is mapped to psi(x).\n",
    "4. Create a function p2(x,w), which outputs the value of the polynomial at x for given parameters w.\n",
    "5. Create a function Loss(X,y,w), which computes the squared loss of predicting y from X by p2(x,w) using parameters w. Take variable PTS as y. We will predict scored points based on assists, rebounds and steals.\n",
    "6. Code up the gradient descent. It should input a point w and a stepsize.\n",
    "7. Choose an arbitrary point and stepsize. Run gradient descent for 100 iterations and compute the Loss after each iteration. How does the loss behave? Does it converge to something?\n",
    "8. Can you find the stepsize, for which the loss is smallest after 100 iterations?"
   ]
  },
  {
   "cell_type": "code",
   "execution_count": 61,
   "metadata": {},
   "outputs": [],
   "source": [
    "import pandas as pd\n",
    "import numpy as np\n",
    "import itertools\n",
    "import copy"
   ]
  },
  {
   "cell_type": "code",
   "execution_count": 82,
   "metadata": {},
   "outputs": [],
   "source": [
    "data_path = ''\n",
    "nb = pd.read_csv(data_path+'nba_games_2013_2015.csv', delimiter=';')\n",
    "x = nb[['AST','REB','STL']]\n",
    "y = nb['PTS']"
   ]
  },
  {
   "cell_type": "code",
   "execution_count": 83,
   "metadata": {},
   "outputs": [
    {
     "data": {
      "text/html": [
       "<div>\n",
       "<style scoped>\n",
       "    .dataframe tbody tr th:only-of-type {\n",
       "        vertical-align: middle;\n",
       "    }\n",
       "\n",
       "    .dataframe tbody tr th {\n",
       "        vertical-align: top;\n",
       "    }\n",
       "\n",
       "    .dataframe thead th {\n",
       "        text-align: right;\n",
       "    }\n",
       "</style>\n",
       "<table border=\"1\" class=\"dataframe\">\n",
       "  <thead>\n",
       "    <tr style=\"text-align: right;\">\n",
       "      <th></th>\n",
       "      <th>AST</th>\n",
       "      <th>REB</th>\n",
       "      <th>STL</th>\n",
       "    </tr>\n",
       "  </thead>\n",
       "  <tbody>\n",
       "    <tr>\n",
       "      <th>0</th>\n",
       "      <td>41</td>\n",
       "      <td>43</td>\n",
       "      <td>14</td>\n",
       "    </tr>\n",
       "    <tr>\n",
       "      <th>1</th>\n",
       "      <td>23</td>\n",
       "      <td>43</td>\n",
       "      <td>8</td>\n",
       "    </tr>\n",
       "    <tr>\n",
       "      <th>2</th>\n",
       "      <td>20</td>\n",
       "      <td>39</td>\n",
       "      <td>7</td>\n",
       "    </tr>\n",
       "    <tr>\n",
       "      <th>3</th>\n",
       "      <td>19</td>\n",
       "      <td>47</td>\n",
       "      <td>6</td>\n",
       "    </tr>\n",
       "    <tr>\n",
       "      <th>4</th>\n",
       "      <td>21</td>\n",
       "      <td>43</td>\n",
       "      <td>4</td>\n",
       "    </tr>\n",
       "  </tbody>\n",
       "</table>\n",
       "</div>"
      ],
      "text/plain": [
       "   AST  REB  STL\n",
       "0   41   43   14\n",
       "1   23   43    8\n",
       "2   20   39    7\n",
       "3   19   47    6\n",
       "4   21   43    4"
      ]
     },
     "execution_count": 83,
     "metadata": {},
     "output_type": "execute_result"
    }
   ],
   "source": [
    "x.head()"
   ]
  },
  {
   "cell_type": "code",
   "execution_count": 84,
   "metadata": {},
   "outputs": [],
   "source": [
    "# Create a function psi(x), which transforms features AST (assists), REB (rebounds) and STL (steals) \n",
    "# into 2nd order polynomial features (add each feature squared and each pair of features multiplied with every other)\n",
    "def psi(df,m):\n",
    "    df2 = copy.deepcopy(df)\n",
    "    for i in itertools.combinations_with_replacement(df.columns, m):\n",
    "        col_name = f'{i[0]}'\n",
    "        value = copy.deepcopy(df2[i[0]])\n",
    "        for j in range(1,m):\n",
    "            col_name += '_'+f'{i[j]}'\n",
    "            value *= df2[i[j]]\n",
    "        df2[col_name]=value\n",
    "    return df2"
   ]
  },
  {
   "cell_type": "code",
   "execution_count": 240,
   "metadata": {},
   "outputs": [],
   "source": [
    "# Create a function p2(x,w), which outputs the value of the polynomial at x for given parameters w\n",
    "def p2(xs,w):\n",
    "    return np.dot(xs,w)"
   ]
  },
  {
   "cell_type": "code",
   "execution_count": 88,
   "metadata": {},
   "outputs": [],
   "source": [
    "# Create a function Loss(X,y,w), which computes the squared loss of predicting y from X by p2(x,w)\n",
    "# using parameters w. Take variable PTS as y. We will predict scored points based on assists, rebounds and steals.\n",
    "def Loss(X,y,w):\n",
    "    return 1/len(y)*sum(w.T*X-y)^2"
   ]
  },
  {
   "cell_type": "code",
   "execution_count": 241,
   "metadata": {},
   "outputs": [],
   "source": [
    "# Code up the gradient descent. It should input a point w and a stepsize.\n",
    "def gradient_descent(x, y, w, iterations, eta):\n",
    "    # prepare the empty lists for our history\n",
    "    past_costs = []\n",
    "    past_w = [w]\n",
    "    # repeating for number of iteration times\n",
    "    for i in range(iterations):\n",
    "        # computing of prediction. Dot product of coeficients and values\n",
    "        prediction = p2(x,w)\n",
    "        print(prediction)\n",
    "        # computation of error\n",
    "        error = prediction - y\n",
    "        # computation of overall cost for each iteration\n",
    "        cost = 1/(2*m) * np.dot(error.T, error)\n",
    "        past_costs.append(cost)\n",
    "        # GRADIENT DESCENT part\n",
    "        w = w - (eta * (1/m) * np.dot(x.T, error))\n",
    "        past_w.append(w)\n",
    "        \n",
    "    return past_w, past_costs"
   ]
  },
  {
   "cell_type": "code",
   "execution_count": 242,
   "metadata": {},
   "outputs": [],
   "source": [
    "# Create a transformed data matrix X, where each x is mapped to psi(x).\n",
    "X_transformed = psi(x,2)\n",
    "X_transformed = (X_transformed - X_transformed.mean()) / X_transformed.std()\n",
    "eta = 0.000001\n",
    "m = y.size #No. of data points\n",
    "np.random.seed(123) #Set the seed\n",
    "w = np.random.rand(10) #Pick some random values to start with - we are estimating 3\n",
    "X_transformed = np.c_[np.ones(X_transformed.shape[0]), X_transformed]"
   ]
  },
  {
   "cell_type": "code",
   "execution_count": 243,
   "metadata": {},
   "outputs": [
    {
     "data": {
      "text/plain": [
       "array([0.69646919, 0.28613933, 0.22685145, 0.55131477, 0.71946897,\n",
       "       0.42310646, 0.9807642 , 0.68482974, 0.4809319 , 0.39211752])"
      ]
     },
     "execution_count": 243,
     "metadata": {},
     "output_type": "execute_result"
    }
   ],
   "source": [
    "w"
   ]
  },
  {
   "cell_type": "code",
   "execution_count": 244,
   "metadata": {},
   "outputs": [
    {
     "name": "stdout",
     "output_type": "stream",
     "text": [
      "[14.47318846  0.93361568 -1.58173595 ...  2.85409663  2.78566198\n",
      " -3.49490333]\n",
      "[14.47334546  0.93371793 -1.58164279 ...  2.8542028   2.78576311\n",
      " -3.49481516]\n",
      "[14.47350247  0.93382018 -1.58154964 ...  2.85430898  2.78586424\n",
      " -3.49472699]\n",
      "[14.47365948  0.93392242 -1.58145648 ...  2.85441515  2.78596537\n",
      " -3.49463882]\n",
      "[14.47381649  0.93402467 -1.58136332 ...  2.85452133  2.7860665\n",
      " -3.49455065]\n",
      "[14.47397349  0.93412692 -1.58127017 ...  2.8546275   2.78616764\n",
      " -3.49446248]\n",
      "[14.4741305   0.93422917 -1.58117701 ...  2.85473367  2.78626877\n",
      " -3.49437431]\n",
      "[14.4742875   0.93433141 -1.58108386 ...  2.85483985  2.7863699\n",
      " -3.49428614]\n",
      "[14.47444451  0.93443366 -1.5809907  ...  2.85494602  2.78647103\n",
      " -3.49419797]\n",
      "[14.47460151  0.9345359  -1.58089755 ...  2.8550522   2.78657216\n",
      " -3.49410979]\n",
      "[14.47475852  0.93463815 -1.58080439 ...  2.85515837  2.78667329\n",
      " -3.49402162]\n",
      "[14.47491552  0.9347404  -1.58071124 ...  2.85526455  2.78677442\n",
      " -3.49393345]\n",
      "[14.47507253  0.93484264 -1.58061808 ...  2.85537072  2.78687555\n",
      " -3.49384528]\n",
      "[14.47522953  0.93494489 -1.58052492 ...  2.85547689  2.78697668\n",
      " -3.49375711]\n",
      "[14.47538654  0.93504713 -1.58043177 ...  2.85558307  2.78707781\n",
      " -3.49366894]\n",
      "[14.47554354  0.93514938 -1.58033861 ...  2.85568924  2.78717893\n",
      " -3.49358077]\n",
      "[14.47570054  0.93525163 -1.58024546 ...  2.85579541  2.78728006\n",
      " -3.49349261]\n",
      "[14.47585755  0.93535387 -1.5801523  ...  2.85590159  2.78738119\n",
      " -3.49340444]\n",
      "[14.47601455  0.93545612 -1.58005915 ...  2.85600776  2.78748232\n",
      " -3.49331627]\n",
      "[14.47617155  0.93555836 -1.579966   ...  2.85611393  2.78758345\n",
      " -3.4932281 ]\n",
      "[14.47632855  0.93566061 -1.57987284 ...  2.8562201   2.78768458\n",
      " -3.49313993]\n",
      "[14.47648555  0.93576285 -1.57977969 ...  2.85632628  2.78778571\n",
      " -3.49305176]\n",
      "[14.47664255  0.9358651  -1.57968653 ...  2.85643245  2.78788684\n",
      " -3.49296359]\n",
      "[14.47679956  0.93596734 -1.57959338 ...  2.85653862  2.78798797\n",
      " -3.49287542]\n",
      "[14.47695656  0.93606959 -1.57950022 ...  2.85664479  2.78808909\n",
      " -3.49278725]\n",
      "[14.47711356  0.93617183 -1.57940707 ...  2.85675097  2.78819022\n",
      " -3.49269908]\n",
      "[14.47727056  0.93627408 -1.57931391 ...  2.85685714  2.78829135\n",
      " -3.49261091]\n",
      "[14.47742756  0.93637632 -1.57922076 ...  2.85696331  2.78839248\n",
      " -3.49252274]\n",
      "[14.47758456  0.93647856 -1.57912761 ...  2.85706948  2.78849361\n",
      " -3.49243457]\n",
      "[14.47774156  0.93658081 -1.57903445 ...  2.85717565  2.78859473\n",
      " -3.4923464 ]\n",
      "[14.47789855  0.93668305 -1.5789413  ...  2.85728182  2.78869586\n",
      " -3.49225823]\n",
      "[14.47805555  0.9367853  -1.57884814 ...  2.857388    2.78879699\n",
      " -3.49217006]\n",
      "[14.47821255  0.93688754 -1.57875499 ...  2.85749417  2.78889812\n",
      " -3.4920819 ]\n",
      "[14.47836955  0.93698978 -1.57866184 ...  2.85760034  2.78899925\n",
      " -3.49199373]\n",
      "[14.47852655  0.93709203 -1.57856868 ...  2.85770651  2.78910037\n",
      " -3.49190556]\n",
      "[14.47868355  0.93719427 -1.57847553 ...  2.85781268  2.7892015\n",
      " -3.49181739]\n",
      "[14.47884054  0.93729651 -1.57838238 ...  2.85791885  2.78930263\n",
      " -3.49172922]\n",
      "[14.47899754  0.93739876 -1.57828922 ...  2.85802502  2.78940375\n",
      " -3.49164105]\n",
      "[14.47915454  0.937501   -1.57819607 ...  2.85813119  2.78950488\n",
      " -3.49155288]\n",
      "[14.47931153  0.93760324 -1.57810292 ...  2.85823736  2.78960601\n",
      " -3.49146471]\n",
      "[14.47946853  0.93770549 -1.57800976 ...  2.85834353  2.78970713\n",
      " -3.49137655]\n",
      "[14.47962552  0.93780773 -1.57791661 ...  2.8584497   2.78980826\n",
      " -3.49128838]\n",
      "[14.47978252  0.93790997 -1.57782346 ...  2.85855587  2.78990939\n",
      " -3.49120021]\n",
      "[14.47993951  0.93801222 -1.5777303  ...  2.85866204  2.79001051\n",
      " -3.49111204]\n",
      "[14.48009651  0.93811446 -1.57763715 ...  2.85876821  2.79011164\n",
      " -3.49102387]\n",
      "[14.4802535   0.9382167  -1.577544   ...  2.85887438  2.79021277\n",
      " -3.4909357 ]\n",
      "[14.4804105   0.93831894 -1.57745084 ...  2.85898055  2.79031389\n",
      " -3.49084753]\n",
      "[14.48056749  0.93842119 -1.57735769 ...  2.85908672  2.79041502\n",
      " -3.49075937]\n",
      "[14.48072449  0.93852343 -1.57726454 ...  2.85919289  2.79051614\n",
      " -3.4906712 ]\n",
      "[14.48088148  0.93862567 -1.57717139 ...  2.85929906  2.79061727\n",
      " -3.49058303]\n",
      "[14.48103847  0.93872791 -1.57707823 ...  2.85940523  2.79071839\n",
      " -3.49049486]\n",
      "[14.48119546  0.93883015 -1.57698508 ...  2.8595114   2.79081952\n",
      " -3.49040669]\n",
      "[14.48135246  0.9389324  -1.57689193 ...  2.85961757  2.79092064\n",
      " -3.49031853]\n",
      "[14.48150945  0.93903464 -1.57679878 ...  2.85972373  2.79102177\n",
      " -3.49023036]\n",
      "[14.48166644  0.93913688 -1.57670563 ...  2.8598299   2.79112289\n",
      " -3.49014219]\n",
      "[14.48182343  0.93923912 -1.57661247 ...  2.85993607  2.79122402\n",
      " -3.49005402]\n",
      "[14.48198042  0.93934136 -1.57651932 ...  2.86004224  2.79132514\n",
      " -3.48996586]\n",
      "[14.48213742  0.9394436  -1.57642617 ...  2.86014841  2.79142627\n",
      " -3.48987769]\n",
      "[14.48229441  0.93954584 -1.57633302 ...  2.86025457  2.79152739\n",
      " -3.48978952]\n",
      "[14.4824514   0.93964809 -1.57623987 ...  2.86036074  2.79162852\n",
      " -3.48970135]\n",
      "[14.48260839  0.93975033 -1.57614671 ...  2.86046691  2.79172964\n",
      " -3.48961318]\n",
      "[14.48276538  0.93985257 -1.57605356 ...  2.86057308  2.79183077\n",
      " -3.48952502]\n",
      "[14.48292237  0.93995481 -1.57596041 ...  2.86067925  2.79193189\n",
      " -3.48943685]\n",
      "[14.48307935  0.94005705 -1.57586726 ...  2.86078541  2.79203302\n",
      " -3.48934868]\n",
      "[14.48323634  0.94015929 -1.57577411 ...  2.86089158  2.79213414\n",
      " -3.48926052]\n",
      "[14.48339333  0.94026153 -1.57568096 ...  2.86099775  2.79223526\n",
      " -3.48917235]\n",
      "[14.48355032  0.94036377 -1.5755878  ...  2.86110391  2.79233639\n",
      " -3.48908418]\n",
      "[14.48370731  0.94046601 -1.57549465 ...  2.86121008  2.79243751\n",
      " -3.48899601]\n",
      "[14.4838643   0.94056825 -1.5754015  ...  2.86131625  2.79253863\n",
      " -3.48890785]\n",
      "[14.48402128  0.94067049 -1.57530835 ...  2.86142241  2.79263976\n",
      " -3.48881968]\n",
      "[14.48417827  0.94077273 -1.5752152  ...  2.86152858  2.79274088\n",
      " -3.48873151]\n",
      "[14.48433526  0.94087497 -1.57512205 ...  2.86163475  2.792842\n",
      " -3.48864335]\n",
      "[14.48449224  0.94097721 -1.5750289  ...  2.86174091  2.79294313\n",
      " -3.48855518]\n",
      "[14.48464923  0.94107945 -1.57493575 ...  2.86184708  2.79304425\n",
      " -3.48846701]\n",
      "[14.48480622  0.94118169 -1.5748426  ...  2.86195324  2.79314537\n",
      " -3.48837884]\n",
      "[14.4849632   0.94128393 -1.57474944 ...  2.86205941  2.7932465\n",
      " -3.48829068]\n",
      "[14.48512019  0.94138617 -1.57465629 ...  2.86216558  2.79334762\n",
      " -3.48820251]\n",
      "[14.48527717  0.94148841 -1.57456314 ...  2.86227174  2.79344874\n",
      " -3.48811434]\n",
      "[14.48543416  0.94159064 -1.57446999 ...  2.86237791  2.79354986\n",
      " -3.48802618]\n",
      "[14.48559114  0.94169288 -1.57437684 ...  2.86248407  2.79365099\n",
      " -3.48793801]\n",
      "[14.48574813  0.94179512 -1.57428369 ...  2.86259024  2.79375211\n",
      " -3.48784984]\n",
      "[14.48590511  0.94189736 -1.57419054 ...  2.8626964   2.79385323\n",
      " -3.48776168]\n",
      "[14.48606209  0.9419996  -1.57409739 ...  2.86280257  2.79395435\n",
      " -3.48767351]\n",
      "[14.48621908  0.94210184 -1.57400424 ...  2.86290873  2.79405547\n",
      " -3.48758535]\n",
      "[14.48637606  0.94220408 -1.57391109 ...  2.8630149   2.7941566\n",
      " -3.48749718]\n",
      "[14.48653304  0.94230631 -1.57381794 ...  2.86312106  2.79425772\n",
      " -3.48740901]\n",
      "[14.48669002  0.94240855 -1.57372479 ...  2.86322723  2.79435884\n",
      " -3.48732085]\n",
      "[14.48684701  0.94251079 -1.57363164 ...  2.86333339  2.79445996\n",
      " -3.48723268]\n",
      "[14.48700399  0.94261303 -1.57353849 ...  2.86343955  2.79456108\n",
      " -3.48714451]\n",
      "[14.48716097  0.94271527 -1.57344534 ...  2.86354572  2.7946622\n",
      " -3.48705635]\n",
      "[14.48731795  0.9428175  -1.57335219 ...  2.86365188  2.79476332\n",
      " -3.48696818]\n",
      "[14.48747493  0.94291974 -1.57325904 ...  2.86375805  2.79486444\n",
      " -3.48688002]\n",
      "[14.48763191  0.94302198 -1.57316589 ...  2.86386421  2.79496557\n",
      " -3.48679185]\n",
      "[14.48778889  0.94312422 -1.57307274 ...  2.86397037  2.79506669\n",
      " -3.48670368]\n",
      "[14.48794587  0.94322645 -1.5729796  ...  2.86407654  2.79516781\n",
      " -3.48661552]\n",
      "[14.48810285  0.94332869 -1.57288645 ...  2.8641827   2.79526893\n",
      " -3.48652735]\n",
      "[14.48825983  0.94343093 -1.5727933  ...  2.86428886  2.79537005\n",
      " -3.48643919]\n",
      "[14.48841681  0.94353317 -1.57270015 ...  2.86439503  2.79547117\n",
      " -3.48635102]\n",
      "[14.48857379  0.9436354  -1.572607   ...  2.86450119  2.79557229\n",
      " -3.48626286]\n",
      "[14.48873077  0.94373764 -1.57251385 ...  2.86460735  2.79567341\n",
      " -3.48617469]\n"
     ]
    },
    {
     "data": {
      "text/plain": [
       "5110.0939551282"
      ]
     },
     "execution_count": 244,
     "metadata": {},
     "output_type": "execute_result"
    }
   ],
   "source": [
    "# Choose an arbitrary point and stepsize. \n",
    "# Run gradient descent for 100 iterations and compute the Loss after each iteration. How does the loss behave? Does it converge to something?\n",
    "#Pass the relevant variables to the function and get the new values back...\n",
    "past_w, past_costs = gradient_descent(X_transformed, y, w, 100, eta)\n",
    "w_last = past_w[-1]\n",
    "cost_100 = past_costs[-1]\n",
    "#Print the results...\n",
    "#print(\"Gradient Descent: {:.2f}, {:.2f}, {:.2f}, {:.2f}, {:.2f}, {:.2f}, {:.2f}, {:.2f}, {:.2f}, {:.2f}\".format(w_last[0], w_last[1], w_last[2],w_last[3],w_last[4],w_last[5],w_last[6],w_last[7],w_last[8],w_last[9]))\n",
    "cost_100"
   ]
  },
  {
   "cell_type": "code",
   "execution_count": 165,
   "metadata": {},
   "outputs": [
    {
     "data": {
      "image/png": "[encoded data removed]",
      "text/plain": [
       "<Figure size 432x288 with 1 Axes>"
      ]
     },
     "metadata": {
      "needs_background": "light"
     },
     "output_type": "display_data"
    }
   ],
   "source": [
    "import matplotlib.pyplot as plt\n",
    "#Plot the cost function...\n",
    "plt.title('Cost Function J')\n",
    "plt.xlabel('No. of iterations')\n",
    "plt.ylabel('Cost')\n",
    "plt.plot(past_costs)\n",
    "plt.show()"
   ]
  },
  {
   "cell_type": "code",
   "execution_count": 236,
   "metadata": {},
   "outputs": [],
   "source": [
    "# Can you find the stepsize, for which the loss is smallest after 100 iterations?\n",
    "cost_100 = []\n",
    "step = []\n",
    "top = 1.0\n",
    "bottom = 0.\n",
    "eta = (top+bottom)/2\n",
    "eta2 = 1\n",
    "prev = 10.**250\n",
    "m = y.size #No. of data points\n",
    "while abs(eta-eta2)>np.finfo(float).eps:\n",
    "    X_transformed = psi(x,2)\n",
    "    X_transformed = (X_transformed - X_transformed.mean()) / X_transformed.std()\n",
    "    np.random.seed(123) #Set the seed\n",
    "    w = np.random.rand(10) #Pick some random values to start with - we are estimating 3\n",
    "    X_transformed = np.c_[np.ones(X_transformed.shape[0]), X_transformed]\n",
    "    past_w, past_costs = gradient_descent(X_transformed, y, w, 100, eta)\n",
    "    cost_100.append(past_costs[-1])\n",
    "    step.append(eta)\n",
    "    if prev - past_costs[-1]>0:\n",
    "        top = eta\n",
    "    else:\n",
    "        bottom = eta\n",
    "    prev = past_costs[-1]\n",
    "    eta2 = eta\n",
    "    eta = (top+bottom)/2"
   ]
  },
  {
   "cell_type": "code",
   "execution_count": 237,
   "metadata": {},
   "outputs": [
    {
     "data": {
      "image/png": "[encoded data removed]",
      "text/plain": [
       "<Figure size 432x288 with 1 Axes>"
      ]
     },
     "metadata": {
      "needs_background": "light"
     },
     "output_type": "display_data"
    }
   ],
   "source": [
    "plt.title('Step size evolution')\n",
    "plt.xlabel('Learning rate')\n",
    "plt.ylabel('Cost after 100 iterations')\n",
    "plt.scatter(np.log(step),np.log(cost_100))\n",
    "plt.show()"
   ]
  },
  {
   "cell_type": "code",
   "execution_count": 238,
   "metadata": {},
   "outputs": [
    {
     "data": {
      "text/plain": [
       "46.40911282937023"
      ]
     },
     "execution_count": 238,
     "metadata": {},
     "output_type": "execute_result"
    }
   ],
   "source": [
    "min(cost_100)"
   ]
  },
  {
   "cell_type": "code",
   "execution_count": 239,
   "metadata": {},
   "outputs": [
    {
     "data": {
      "text/plain": [
       "[0.5,\n",
       " 0.25,\n",
       " 0.125,\n",
       " 0.1875,\n",
       " 0.15625,\n",
       " 0.171875,\n",
       " 0.1640625,\n",
       " 0.16796875,\n",
       " 0.166015625,\n",
       " 0.1669921875,\n",
       " 0.16650390625,\n",
       " 0.166748046875,\n",
       " 0.1666259765625,\n",
       " 0.16668701171875,\n",
       " 0.166656494140625,\n",
       " 0.1666717529296875,\n",
       " 0.16666412353515625,\n",
       " 0.16666793823242188,\n",
       " 0.16666603088378906,\n",
       " 0.16666698455810547,\n",
       " 0.16666650772094727,\n",
       " 0.16666674613952637,\n",
       " 0.16666662693023682,\n",
       " 0.1666666865348816,\n",
       " 0.1666666567325592,\n",
       " 0.1666666716337204,\n",
       " 0.1666666641831398,\n",
       " 0.1666666679084301,\n",
       " 0.16666666604578495,\n",
       " 0.16666666697710752,\n",
       " 0.16666666651144624,\n",
       " 0.16666666674427688,\n",
       " 0.16666666662786156,\n",
       " 0.16666666668606922,\n",
       " 0.1666666666569654,\n",
       " 0.1666666666715173,\n",
       " 0.16666666666424135,\n",
       " 0.16666666666787933,\n",
       " 0.16666666666606034,\n",
       " 0.16666666666696983,\n",
       " 0.16666666666651508,\n",
       " 0.16666666666674246,\n",
       " 0.16666666666662877,\n",
       " 0.16666666666668561,\n",
       " 0.1666666666666572,\n",
       " 0.1666666666666714,\n",
       " 0.1666666666666643,\n",
       " 0.16666666666666785,\n",
       " 0.16666666666666607,\n",
       " 0.1666666666666652,\n",
       " 0.16666666666666563]"
      ]
     },
     "execution_count": 239,
     "metadata": {},
     "output_type": "execute_result"
    }
   ],
   "source": [
    "step"
   ]
  },
  {
   "cell_type": "code",
   "execution_count": null,
   "metadata": {},
   "outputs": [],
   "source": []
  }
 ],
 "metadata": {
  "kernelspec": {
   "display_name": "Python 3",
   "language": "python",
   "name": "python3"
  },
  "language_info": {
   "codemirror_mode": {
    "name": "ipython",
    "version": 3
   },
   "file_extension": ".py",
   "mimetype": "text/x-python",
   "name": "python",
   "nbconvert_exporter": "python",
   "pygments_lexer": "ipython3",
   "version": "3.8.5"
  }
 },
 "nbformat": 4,
 "nbformat_minor": 4
}
