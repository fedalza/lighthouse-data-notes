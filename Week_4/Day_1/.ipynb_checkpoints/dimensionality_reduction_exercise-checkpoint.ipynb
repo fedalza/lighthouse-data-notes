{
 "cells": [
  {
   "cell_type": "markdown",
   "metadata": {},
   "source": [
    "## Feature selection\n",
    "\n",
    "Create own functions to filter features based on the following criteria:\n",
    "\n",
    "* lower variance than x\n",
    "* number of missing values is more than *x* %\n",
    "* one of each pair of features, which are correlated together more than *x*"
   ]
  },
  {
   "cell_type": "markdown",
   "metadata": {},
   "source": [
    "Use two data sources as input:\n",
    "- output dataset from the feature engineering exercise last week.\n",
    "- output dataset from the PCA exercise\n",
    "\n",
    "Apply your functions to the combination of these two datasource and come up with the final dataset that can be used for training.\n",
    "\n",
    "> #### Note\n",
    "> Don't forget to keep target variable (duration_seconds) intact"
   ]
  },
  {
   "cell_type": "code",
   "execution_count": 1,
   "metadata": {},
   "outputs": [],
   "source": [
    "import pandas as pd"
   ]
  },
  {
   "cell_type": "code",
   "execution_count": 3,
   "metadata": {},
   "outputs": [
    {
     "data": {
      "text/html": [
       "<div>\n",
       "<style scoped>\n",
       "    .dataframe tbody tr th:only-of-type {\n",
       "        vertical-align: middle;\n",
       "    }\n",
       "\n",
       "    .dataframe tbody tr th {\n",
       "        vertical-align: top;\n",
       "    }\n",
       "\n",
       "    .dataframe thead th {\n",
       "        text-align: right;\n",
       "    }\n",
       "</style>\n",
       "<table border=\"1\" class=\"dataframe\">\n",
       "  <thead>\n",
       "    <tr style=\"text-align: right;\">\n",
       "      <th></th>\n",
       "      <th>apparentTemperature</th>\n",
       "      <th>cloudCover</th>\n",
       "      <th>dewPoint</th>\n",
       "      <th>humidity</th>\n",
       "      <th>precipIntensity</th>\n",
       "      <th>precipProbability</th>\n",
       "      <th>pressure</th>\n",
       "      <th>temperature</th>\n",
       "    </tr>\n",
       "  </thead>\n",
       "  <tbody>\n",
       "    <tr>\n",
       "      <th>0</th>\n",
       "      <td>-1.037168</td>\n",
       "      <td>2.364281</td>\n",
       "      <td>0.298593</td>\n",
       "      <td>0.352187</td>\n",
       "      <td>0.346083</td>\n",
       "      <td>-0.546562</td>\n",
       "      <td>0.809816</td>\n",
       "      <td>0.589551</td>\n",
       "    </tr>\n",
       "    <tr>\n",
       "      <th>1</th>\n",
       "      <td>-0.945411</td>\n",
       "      <td>2.469156</td>\n",
       "      <td>0.319416</td>\n",
       "      <td>0.885994</td>\n",
       "      <td>0.771062</td>\n",
       "      <td>-0.810549</td>\n",
       "      <td>1.402681</td>\n",
       "      <td>0.530906</td>\n",
       "    </tr>\n",
       "    <tr>\n",
       "      <th>3</th>\n",
       "      <td>3.576838</td>\n",
       "      <td>1.466096</td>\n",
       "      <td>1.493472</td>\n",
       "      <td>-2.008087</td>\n",
       "      <td>0.334902</td>\n",
       "      <td>-0.200871</td>\n",
       "      <td>1.052720</td>\n",
       "      <td>0.312070</td>\n",
       "    </tr>\n",
       "    <tr>\n",
       "      <th>4</th>\n",
       "      <td>4.025217</td>\n",
       "      <td>2.319527</td>\n",
       "      <td>0.827542</td>\n",
       "      <td>-0.980103</td>\n",
       "      <td>1.016142</td>\n",
       "      <td>-0.733639</td>\n",
       "      <td>0.886473</td>\n",
       "      <td>0.775292</td>\n",
       "    </tr>\n",
       "    <tr>\n",
       "      <th>7</th>\n",
       "      <td>3.930870</td>\n",
       "      <td>0.133975</td>\n",
       "      <td>2.249547</td>\n",
       "      <td>0.714717</td>\n",
       "      <td>-0.747002</td>\n",
       "      <td>-0.293225</td>\n",
       "      <td>1.189117</td>\n",
       "      <td>0.598147</td>\n",
       "    </tr>\n",
       "  </tbody>\n",
       "</table>\n",
       "</div>"
      ],
      "text/plain": [
       "   apparentTemperature  cloudCover  dewPoint  humidity  precipIntensity  \\\n",
       "0            -1.037168    2.364281  0.298593  0.352187         0.346083   \n",
       "1            -0.945411    2.469156  0.319416  0.885994         0.771062   \n",
       "3             3.576838    1.466096  1.493472 -2.008087         0.334902   \n",
       "4             4.025217    2.319527  0.827542 -0.980103         1.016142   \n",
       "7             3.930870    0.133975  2.249547  0.714717        -0.747002   \n",
       "\n",
       "   precipProbability  pressure  temperature  \n",
       "0          -0.546562  0.809816     0.589551  \n",
       "1          -0.810549  1.402681     0.530906  \n",
       "3          -0.200871  1.052720     0.312070  \n",
       "4          -0.733639  0.886473     0.775292  \n",
       "7          -0.293225  1.189117     0.598147  "
      ]
     },
     "execution_count": 3,
     "metadata": {},
     "output_type": "execute_result"
    }
   ],
   "source": [
    "X = pd.read_csv('pca_data.csv', index_col=0)\n",
    "X.head()"
   ]
  },
  {
   "cell_type": "code",
   "execution_count": null,
   "metadata": {},
   "outputs": [],
   "source": []
  }
 ],
 "metadata": {
  "kernelspec": {
   "display_name": "Python 3",
   "language": "python",
   "name": "python3"
  },
  "language_info": {
   "codemirror_mode": {
    "name": "ipython",
    "version": 3
   },
   "file_extension": ".py",
   "mimetype": "text/x-python",
   "name": "python",
   "nbconvert_exporter": "python",
   "pygments_lexer": "ipython3",
   "version": "3.8.5"
  }
 },
 "nbformat": 4,
 "nbformat_minor": 4
}
