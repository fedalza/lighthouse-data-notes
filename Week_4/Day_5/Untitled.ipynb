{
 "cells": [
  {
   "cell_type": "code",
   "execution_count": null,
   "metadata": {},
   "outputs": [],
   "source": [
    "Example:\n",
    "    pie_chart({ \"a\": 1, \"b\": 2 }) ➞ { \"a\": 120, \"b\": 240 }\n",
    "\n",
    "    pie_chart({ \"a\": 30, \"b\": 15, \"c\": 55 }) ➞ { \"a\": 108, \"b\": 54, \"c\": 198 }\n",
    "\n",
    "    pie_chart({ \"a\": 8, \"b\": 21, \"c\": 12, \"d\": 5, \"e\": 4 }) ➞ { \"a\": 57.6, \"b\": 151.2, \"c\": 86.4, \"d\": 36, \"e\": 28.8 }\n",
    "\"\"\"\n",
    "\n",
    "\n"
   ]
  },
  {
   "cell_type": "code",
   "execution_count": 5,
   "metadata": {},
   "outputs": [],
   "source": [
    "def pie_chart(dictionary):\n",
    "    total = 0\n",
    "    for i in dictionary.keys():\n",
    "        total += dictionary[i]\n",
    "    for i in dictionary.keys():\n",
    "        dictionary[i] = round(dictionary[i]/total*360,4)\n",
    "    return dictionary"
   ]
  },
  {
   "cell_type": "code",
   "execution_count": 7,
   "metadata": {},
   "outputs": [
    {
     "data": {
      "text/plain": [
       "{'a': 57.6, 'b': 151.2, 'c': 86.4, 'd': 36.0, 'e': 28.8}"
      ]
     },
     "execution_count": 7,
     "metadata": {},
     "output_type": "execute_result"
    }
   ],
   "source": [
    "pie_chart({ \"a\": 8, \"b\": 21, \"c\": 12, \"d\": 5, \"e\": 4 })"
   ]
  },
  {
   "cell_type": "code",
   "execution_count": null,
   "metadata": {},
   "outputs": [],
   "source": [
    "Example:\n",
    "    even_odd_transform([3, 4, 9], 3) ➞ [9, -2, 15]\n",
    "    # Since [3, 4, 9] => [5, 2, 11] => [7, 0, 13] => [9, -2, 15]\n",
    "\n",
    "    even_odd_transform([0, 0, 0], 10) ➞ [-20, -20, -20]\n",
    "\n",
    "    even_odd_transform([1, 2, 3], 1) ➞ [3, 0, 5]"
   ]
  },
  {
   "cell_type": "code",
   "execution_count": 15,
   "metadata": {},
   "outputs": [],
   "source": [
    "def even_odd_transform(lst,repeat):\n",
    "    for i in range(3):\n",
    "        for j in range(len(lst)):\n",
    "            if lst[j]%2:\n",
    "                lst[j]+=2\n",
    "            else:\n",
    "                lst[j]-=2\n",
    "    return lst"
   ]
  },
  {
   "cell_type": "code",
   "execution_count": 16,
   "metadata": {},
   "outputs": [
    {
     "data": {
      "text/plain": [
       "[9, -2, 15]"
      ]
     },
     "execution_count": 16,
     "metadata": {},
     "output_type": "execute_result"
    }
   ],
   "source": [
    "even_odd_transform([3, 4, 9], 3)"
   ]
  },
  {
   "cell_type": "code",
   "execution_count": 17,
   "metadata": {},
   "outputs": [
    {
     "ename": "ModuleNotFoundError",
     "evalue": "No module named 'supporting_files'",
     "output_type": "error",
     "traceback": [
      "\u001b[1;31m---------------------------------------------------------------------------\u001b[0m",
      "\u001b[1;31mModuleNotFoundError\u001b[0m                       Traceback (most recent call last)",
      "\u001b[1;32m<ipython-input-17-8a0e8861e74d>\u001b[0m in \u001b[0;36m<module>\u001b[1;34m\u001b[0m\n\u001b[0;32m      1\u001b[0m \u001b[1;32mimport\u001b[0m \u001b[0mpandas\u001b[0m \u001b[1;32mas\u001b[0m \u001b[0mpd\u001b[0m\u001b[1;33m\u001b[0m\u001b[1;33m\u001b[0m\u001b[0m\n\u001b[0;32m      2\u001b[0m \u001b[1;32mimport\u001b[0m \u001b[0msys\u001b[0m\u001b[1;33m\u001b[0m\u001b[1;33m\u001b[0m\u001b[0m\n\u001b[1;32m----> 3\u001b[1;33m \u001b[1;32mfrom\u001b[0m \u001b[0msupporting_files\u001b[0m\u001b[1;33m.\u001b[0m\u001b[0mdata_loader\u001b[0m \u001b[1;32mimport\u001b[0m \u001b[0mload_excel\u001b[0m\u001b[1;33m\u001b[0m\u001b[1;33m\u001b[0m\u001b[0m\n\u001b[0m\u001b[0;32m      4\u001b[0m \u001b[1;33m\u001b[0m\u001b[0m\n\u001b[0;32m      5\u001b[0m \u001b[0mdf\u001b[0m \u001b[1;33m=\u001b[0m \u001b[0mload_excel\u001b[0m\u001b[1;33m(\u001b[0m\u001b[1;34m'assessment-exam-student-python/supporting_files/SaleData.xlsx'\u001b[0m\u001b[1;33m)\u001b[0m\u001b[1;33m\u001b[0m\u001b[1;33m\u001b[0m\u001b[0m\n",
      "\u001b[1;31mModuleNotFoundError\u001b[0m: No module named 'supporting_files'"
     ]
    }
   ],
   "source": [
    "import pandas as pd\n",
    "import sys\n",
    "#from supporting_files.data_loader import load_excel\n",
    "\n",
    "df = pd.read_excel (r'supporting_files/SaleData.xlsx')\n",
    "\n",
    "\n",
    "\"\"\"\n",
    "Write a Pandas program to find the total sale amount (Sale_amt) region and manager wise. \n",
    "Order the dataframe by Sale_amt, starting with the highest.\n",
    "Output should be DataFrame with 3 columns (order is important):\n",
    "    - Region\n",
    "    - Manager\n",
    "    - Sale_amt\n",
    "and numeric index starting with 0 (after sorting).\n",
    "\"\"\"\n",
    "df.head()\n",
    "def compute_total_sale(df):\n",
    "    pass"
   ]
  },
  {
   "cell_type": "code",
   "execution_count": null,
   "metadata": {},
   "outputs": [],
   "source": []
  }
 ],
 "metadata": {
  "kernelspec": {
   "display_name": "boot_env",
   "language": "python",
   "name": "boot_env"
  },
  "language_info": {
   "codemirror_mode": {
    "name": "ipython",
    "version": 3
   },
   "file_extension": ".py",
   "mimetype": "text/x-python",
   "name": "python",
   "nbconvert_exporter": "python",
   "pygments_lexer": "ipython3",
   "version": "3.8.5"
  }
 },
 "nbformat": 4,
 "nbformat_minor": 4
}
